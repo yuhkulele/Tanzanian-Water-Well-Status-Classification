{
 "cells": [
  {
   "cell_type": "markdown",
   "metadata": {},
   "source": [
    "# Modeling"
   ]
  },
  {
   "cell_type": "markdown",
   "metadata": {},
   "source": [
    "### Imports"
   ]
  },
  {
   "cell_type": "code",
   "execution_count": 1,
   "metadata": {},
   "outputs": [],
   "source": [
    "#import statements\n",
    "import pandas as pd\n",
    "import numpy as np\n",
    "\n",
    "#data visualization\n",
    "import matplotlib.pyplot as ply\n",
    "import seaborn as sns\n",
    "\n",
    "#sci-kit learn\n",
    "import sklearn\n",
    "from sklearn.model_selection import train_test_split, cross_validate, cross_val_score, GridSearchCV\n",
    "from sklearn.preprocessing import FunctionTransformer, OneHotEncoder, OrdinalEncoder, StandardScaler\n",
    "from sklearn.metrics import accuracy_score, plot_confusion_matrix\n",
    "from sklearn.dummy import DummyClassifier\n",
    "\n",
    "from sklearn.neighbors import KNeighborsClassifier\n",
    "from sklearn.tree import DecisionTreeClassifier\n",
    "from sklearn.ensemble import RandomForestClassifier\n",
    "\n",
    "from sklearn.pipeline import Pipeline\n",
    "from sklearn.compose import ColumnTransformer\n",
    "\n",
    "from imblearn.over_sampling import SMOTE\n",
    "from imblear.pipeline import Pipeline ad ImPipeline"
   ]
  },
  {
   "cell_type": "markdown",
   "metadata": {},
   "source": [
    "### Import cleaned data"
   ]
  },
  {
   "cell_type": "code",
   "execution_count": 2,
   "metadata": {},
   "outputs": [],
   "source": [
    "df = pd.read_csv('../data/water_well_train_clean.csv')"
   ]
  },
  {
   "cell_type": "code",
   "execution_count": 3,
   "metadata": {},
   "outputs": [
    {
     "data": {
      "text/html": [
       "<div>\n",
       "<style scoped>\n",
       "    .dataframe tbody tr th:only-of-type {\n",
       "        vertical-align: middle;\n",
       "    }\n",
       "\n",
       "    .dataframe tbody tr th {\n",
       "        vertical-align: top;\n",
       "    }\n",
       "\n",
       "    .dataframe thead th {\n",
       "        text-align: right;\n",
       "    }\n",
       "</style>\n",
       "<table border=\"1\" class=\"dataframe\">\n",
       "  <thead>\n",
       "    <tr style=\"text-align: right;\">\n",
       "      <th></th>\n",
       "      <th>id</th>\n",
       "      <th>amount_tsh</th>\n",
       "      <th>date_recorded</th>\n",
       "      <th>funder</th>\n",
       "      <th>gps_height</th>\n",
       "      <th>installer</th>\n",
       "      <th>longitude</th>\n",
       "      <th>latitude</th>\n",
       "      <th>wpt_name</th>\n",
       "      <th>num_private</th>\n",
       "      <th>...</th>\n",
       "      <th>quality_group</th>\n",
       "      <th>quantity</th>\n",
       "      <th>quantity_group</th>\n",
       "      <th>source</th>\n",
       "      <th>source_type</th>\n",
       "      <th>source_class</th>\n",
       "      <th>waterpoint_type</th>\n",
       "      <th>waterpoint_type_group</th>\n",
       "      <th>id_label</th>\n",
       "      <th>status_group</th>\n",
       "    </tr>\n",
       "  </thead>\n",
       "  <tbody>\n",
       "    <tr>\n",
       "      <th>0</th>\n",
       "      <td>69572</td>\n",
       "      <td>6000.0</td>\n",
       "      <td>2011-03-14</td>\n",
       "      <td>Roman</td>\n",
       "      <td>1390</td>\n",
       "      <td>Roman</td>\n",
       "      <td>34.938093</td>\n",
       "      <td>-9.856322</td>\n",
       "      <td>none</td>\n",
       "      <td>0</td>\n",
       "      <td>...</td>\n",
       "      <td>good</td>\n",
       "      <td>enough</td>\n",
       "      <td>enough</td>\n",
       "      <td>spring</td>\n",
       "      <td>spring</td>\n",
       "      <td>groundwater</td>\n",
       "      <td>communal standpipe</td>\n",
       "      <td>communal standpipe</td>\n",
       "      <td>69572</td>\n",
       "      <td>functional</td>\n",
       "    </tr>\n",
       "    <tr>\n",
       "      <th>1</th>\n",
       "      <td>8776</td>\n",
       "      <td>0.0</td>\n",
       "      <td>2013-03-06</td>\n",
       "      <td>Grumeti</td>\n",
       "      <td>1399</td>\n",
       "      <td>GRUMETI</td>\n",
       "      <td>34.698766</td>\n",
       "      <td>-2.147466</td>\n",
       "      <td>Zahanati</td>\n",
       "      <td>0</td>\n",
       "      <td>...</td>\n",
       "      <td>good</td>\n",
       "      <td>insufficient</td>\n",
       "      <td>insufficient</td>\n",
       "      <td>rainwater harvesting</td>\n",
       "      <td>rainwater harvesting</td>\n",
       "      <td>surface</td>\n",
       "      <td>communal standpipe</td>\n",
       "      <td>communal standpipe</td>\n",
       "      <td>8776</td>\n",
       "      <td>functional</td>\n",
       "    </tr>\n",
       "    <tr>\n",
       "      <th>2</th>\n",
       "      <td>34310</td>\n",
       "      <td>25.0</td>\n",
       "      <td>2013-02-25</td>\n",
       "      <td>Lottery Club</td>\n",
       "      <td>686</td>\n",
       "      <td>World vision</td>\n",
       "      <td>37.460664</td>\n",
       "      <td>-3.821329</td>\n",
       "      <td>Kwa Mahundi</td>\n",
       "      <td>0</td>\n",
       "      <td>...</td>\n",
       "      <td>good</td>\n",
       "      <td>enough</td>\n",
       "      <td>enough</td>\n",
       "      <td>dam</td>\n",
       "      <td>dam</td>\n",
       "      <td>surface</td>\n",
       "      <td>communal standpipe multiple</td>\n",
       "      <td>communal standpipe</td>\n",
       "      <td>34310</td>\n",
       "      <td>functional</td>\n",
       "    </tr>\n",
       "    <tr>\n",
       "      <th>3</th>\n",
       "      <td>67743</td>\n",
       "      <td>0.0</td>\n",
       "      <td>2013-01-28</td>\n",
       "      <td>Unicef</td>\n",
       "      <td>263</td>\n",
       "      <td>UNICEF</td>\n",
       "      <td>38.486161</td>\n",
       "      <td>-11.155298</td>\n",
       "      <td>Zahanati Ya Nanyumbu</td>\n",
       "      <td>0</td>\n",
       "      <td>...</td>\n",
       "      <td>good</td>\n",
       "      <td>dry</td>\n",
       "      <td>dry</td>\n",
       "      <td>machine dbh</td>\n",
       "      <td>borehole</td>\n",
       "      <td>groundwater</td>\n",
       "      <td>communal standpipe multiple</td>\n",
       "      <td>communal standpipe</td>\n",
       "      <td>67743</td>\n",
       "      <td>non functional</td>\n",
       "    </tr>\n",
       "    <tr>\n",
       "      <th>4</th>\n",
       "      <td>19728</td>\n",
       "      <td>0.0</td>\n",
       "      <td>2011-07-13</td>\n",
       "      <td>Action In A</td>\n",
       "      <td>0</td>\n",
       "      <td>Artisan</td>\n",
       "      <td>31.130847</td>\n",
       "      <td>-1.825359</td>\n",
       "      <td>Shuleni</td>\n",
       "      <td>0</td>\n",
       "      <td>...</td>\n",
       "      <td>good</td>\n",
       "      <td>seasonal</td>\n",
       "      <td>seasonal</td>\n",
       "      <td>rainwater harvesting</td>\n",
       "      <td>rainwater harvesting</td>\n",
       "      <td>surface</td>\n",
       "      <td>communal standpipe</td>\n",
       "      <td>communal standpipe</td>\n",
       "      <td>19728</td>\n",
       "      <td>functional</td>\n",
       "    </tr>\n",
       "  </tbody>\n",
       "</table>\n",
       "<p>5 rows × 42 columns</p>\n",
       "</div>"
      ],
      "text/plain": [
       "      id  amount_tsh date_recorded        funder  gps_height     installer  \\\n",
       "0  69572      6000.0    2011-03-14         Roman        1390         Roman   \n",
       "1   8776         0.0    2013-03-06       Grumeti        1399       GRUMETI   \n",
       "2  34310        25.0    2013-02-25  Lottery Club         686  World vision   \n",
       "3  67743         0.0    2013-01-28        Unicef         263        UNICEF   \n",
       "4  19728         0.0    2011-07-13   Action In A           0       Artisan   \n",
       "\n",
       "   longitude   latitude              wpt_name  num_private  ... quality_group  \\\n",
       "0  34.938093  -9.856322                  none            0  ...          good   \n",
       "1  34.698766  -2.147466              Zahanati            0  ...          good   \n",
       "2  37.460664  -3.821329           Kwa Mahundi            0  ...          good   \n",
       "3  38.486161 -11.155298  Zahanati Ya Nanyumbu            0  ...          good   \n",
       "4  31.130847  -1.825359               Shuleni            0  ...          good   \n",
       "\n",
       "       quantity quantity_group                source           source_type  \\\n",
       "0        enough         enough                spring                spring   \n",
       "1  insufficient   insufficient  rainwater harvesting  rainwater harvesting   \n",
       "2        enough         enough                   dam                   dam   \n",
       "3           dry            dry           machine dbh              borehole   \n",
       "4      seasonal       seasonal  rainwater harvesting  rainwater harvesting   \n",
       "\n",
       "  source_class              waterpoint_type  waterpoint_type_group  id_label  \\\n",
       "0  groundwater           communal standpipe     communal standpipe     69572   \n",
       "1      surface           communal standpipe     communal standpipe      8776   \n",
       "2      surface  communal standpipe multiple     communal standpipe     34310   \n",
       "3  groundwater  communal standpipe multiple     communal standpipe     67743   \n",
       "4      surface           communal standpipe     communal standpipe     19728   \n",
       "\n",
       "     status_group  \n",
       "0      functional  \n",
       "1      functional  \n",
       "2      functional  \n",
       "3  non functional  \n",
       "4      functional  \n",
       "\n",
       "[5 rows x 42 columns]"
      ]
     },
     "execution_count": 3,
     "metadata": {},
     "output_type": "execute_result"
    }
   ],
   "source": [
    "df.head()"
   ]
  },
  {
   "cell_type": "code",
   "execution_count": 4,
   "metadata": {},
   "outputs": [
    {
     "name": "stdout",
     "output_type": "stream",
     "text": [
      "<class 'pandas.core.frame.DataFrame'>\n",
      "Int64Index: 59400 entries, 0 to 59399\n",
      "Data columns (total 42 columns):\n",
      " #   Column                 Non-Null Count  Dtype  \n",
      "---  ------                 --------------  -----  \n",
      " 0   id                     59400 non-null  int64  \n",
      " 1   amount_tsh             59400 non-null  float64\n",
      " 2   date_recorded          59400 non-null  object \n",
      " 3   funder                 59400 non-null  object \n",
      " 4   gps_height             59400 non-null  int64  \n",
      " 5   installer              59400 non-null  object \n",
      " 6   longitude              59400 non-null  float64\n",
      " 7   latitude               59400 non-null  float64\n",
      " 8   wpt_name               59400 non-null  object \n",
      " 9   num_private            59400 non-null  int64  \n",
      " 10  basin                  59400 non-null  object \n",
      " 11  subvillage             59400 non-null  object \n",
      " 12  region                 59400 non-null  object \n",
      " 13  region_code            59400 non-null  int64  \n",
      " 14  district_code          59400 non-null  int64  \n",
      " 15  lga                    59400 non-null  object \n",
      " 16  ward                   59400 non-null  object \n",
      " 17  population             59400 non-null  int64  \n",
      " 18  public_meeting         59400 non-null  bool   \n",
      " 19  recorded_by            59400 non-null  object \n",
      " 20  scheme_management      59400 non-null  object \n",
      " 21  scheme_name            59400 non-null  object \n",
      " 22  permit                 59400 non-null  bool   \n",
      " 23  construction_year      59400 non-null  int64  \n",
      " 24  extraction_type        59400 non-null  object \n",
      " 25  extraction_type_group  59400 non-null  object \n",
      " 26  extraction_type_class  59400 non-null  object \n",
      " 27  management             59400 non-null  object \n",
      " 28  management_group       59400 non-null  object \n",
      " 29  payment                59400 non-null  object \n",
      " 30  payment_type           59400 non-null  object \n",
      " 31  water_quality          59400 non-null  object \n",
      " 32  quality_group          59400 non-null  object \n",
      " 33  quantity               59400 non-null  object \n",
      " 34  quantity_group         59400 non-null  object \n",
      " 35  source                 59400 non-null  object \n",
      " 36  source_type            59400 non-null  object \n",
      " 37  source_class           59400 non-null  object \n",
      " 38  waterpoint_type        59400 non-null  object \n",
      " 39  waterpoint_type_group  59400 non-null  object \n",
      " 40  id_label               59400 non-null  int64  \n",
      " 41  status_group           59400 non-null  object \n",
      "dtypes: bool(2), float64(3), int64(8), object(29)\n",
      "memory usage: 18.7+ MB\n"
     ]
    }
   ],
   "source": [
    "df.info()"
   ]
  },
  {
   "cell_type": "code",
   "execution_count": 5,
   "metadata": {},
   "outputs": [
    {
     "data": {
      "text/plain": [
       "id                       0\n",
       "amount_tsh               0\n",
       "date_recorded            0\n",
       "funder                   0\n",
       "gps_height               0\n",
       "installer                0\n",
       "longitude                0\n",
       "latitude                 0\n",
       "wpt_name                 0\n",
       "num_private              0\n",
       "basin                    0\n",
       "subvillage               0\n",
       "region                   0\n",
       "region_code              0\n",
       "district_code            0\n",
       "lga                      0\n",
       "ward                     0\n",
       "population               0\n",
       "public_meeting           0\n",
       "recorded_by              0\n",
       "scheme_management        0\n",
       "scheme_name              0\n",
       "permit                   0\n",
       "construction_year        0\n",
       "extraction_type          0\n",
       "extraction_type_group    0\n",
       "extraction_type_class    0\n",
       "management               0\n",
       "management_group         0\n",
       "payment                  0\n",
       "payment_type             0\n",
       "water_quality            0\n",
       "quality_group            0\n",
       "quantity                 0\n",
       "quantity_group           0\n",
       "source                   0\n",
       "source_type              0\n",
       "source_class             0\n",
       "waterpoint_type          0\n",
       "waterpoint_type_group    0\n",
       "id_label                 0\n",
       "status_group             0\n",
       "dtype: int64"
      ]
     },
     "execution_count": 5,
     "metadata": {},
     "output_type": "execute_result"
    }
   ],
   "source": [
    "df.isna().sum()"
   ]
  },
  {
   "cell_type": "code",
   "execution_count": 6,
   "metadata": {},
   "outputs": [],
   "source": [
    "df['region_code'] = df['region_code'].astype(str)\n",
    "df['district_code'] = df['district_code'].astype(str)"
   ]
  },
  {
   "cell_type": "markdown",
   "metadata": {},
   "source": [
    "# First Model"
   ]
  },
  {
   "cell_type": "markdown",
   "metadata": {},
   "source": [
    "## Setting up Pipelines"
   ]
  },
  {
   "cell_type": "markdown",
   "metadata": {},
   "source": [
    "First model will include the following features:\n",
    "    \n",
    "amount_tsh,\n",
    "installer, \n",
    "gps_height, \n",
    "basin, \n",
    "region, \n",
    "district_code, \n",
    "lga, \n",
    "population, \n",
    "public_meeting, \n",
    "management, \n",
    "permit, \n",
    "extraction_type, \n",
    "payment, \n",
    "water_quality, \n",
    "quantity, \n",
    "source, \n",
    "waterpoint_type\n",
    "\n",
    "With the target:\n",
    "status_group"
   ]
  },
  {
   "cell_type": "code",
   "execution_count": 7,
   "metadata": {},
   "outputs": [],
   "source": [
    "X = df.drop('status_group', axis=1)"
   ]
  },
  {
   "cell_type": "code",
   "execution_count": 8,
   "metadata": {},
   "outputs": [],
   "source": [
    "y = df['status_group']"
   ]
  },
  {
   "cell_type": "code",
   "execution_count": 9,
   "metadata": {},
   "outputs": [
    {
     "data": {
      "text/plain": [
       "17"
      ]
     },
     "execution_count": 9,
     "metadata": {},
     "output_type": "execute_result"
    }
   ],
   "source": [
    "picked_features = ['amount_tsh', 'installer',  'gps_height', 'basin', 'region', 'district_code', 'lga', 'population', \n",
    "                   'public_meeting', 'management', 'permit', 'extraction_type', 'payment', 'water_quality', 'quantity', \n",
    "                   'source', 'waterpoint_type']\n",
    "len(picked_features)"
   ]
  },
  {
   "cell_type": "code",
   "execution_count": 10,
   "metadata": {},
   "outputs": [],
   "source": [
    "X_train, X_test, y_train, y_test = train_test_split(X, y, random_state=42)"
   ]
  },
  {
   "cell_type": "code",
   "execution_count": 11,
   "metadata": {},
   "outputs": [],
   "source": [
    "X_picked = X[picked_features]"
   ]
  },
  {
   "cell_type": "code",
   "execution_count": 12,
   "metadata": {},
   "outputs": [
    {
     "data": {
      "text/html": [
       "<div>\n",
       "<style scoped>\n",
       "    .dataframe tbody tr th:only-of-type {\n",
       "        vertical-align: middle;\n",
       "    }\n",
       "\n",
       "    .dataframe tbody tr th {\n",
       "        vertical-align: top;\n",
       "    }\n",
       "\n",
       "    .dataframe thead th {\n",
       "        text-align: right;\n",
       "    }\n",
       "</style>\n",
       "<table border=\"1\" class=\"dataframe\">\n",
       "  <thead>\n",
       "    <tr style=\"text-align: right;\">\n",
       "      <th></th>\n",
       "      <th>amount_tsh</th>\n",
       "      <th>installer</th>\n",
       "      <th>gps_height</th>\n",
       "      <th>basin</th>\n",
       "      <th>region</th>\n",
       "      <th>district_code</th>\n",
       "      <th>lga</th>\n",
       "      <th>population</th>\n",
       "      <th>public_meeting</th>\n",
       "      <th>management</th>\n",
       "      <th>permit</th>\n",
       "      <th>extraction_type</th>\n",
       "      <th>payment</th>\n",
       "      <th>water_quality</th>\n",
       "      <th>quantity</th>\n",
       "      <th>source</th>\n",
       "      <th>waterpoint_type</th>\n",
       "    </tr>\n",
       "  </thead>\n",
       "  <tbody>\n",
       "    <tr>\n",
       "      <th>0</th>\n",
       "      <td>6000.0</td>\n",
       "      <td>Roman</td>\n",
       "      <td>1390</td>\n",
       "      <td>Lake Nyasa</td>\n",
       "      <td>Iringa</td>\n",
       "      <td>5</td>\n",
       "      <td>Ludewa</td>\n",
       "      <td>109</td>\n",
       "      <td>True</td>\n",
       "      <td>vwc</td>\n",
       "      <td>False</td>\n",
       "      <td>gravity</td>\n",
       "      <td>pay annually</td>\n",
       "      <td>soft</td>\n",
       "      <td>enough</td>\n",
       "      <td>spring</td>\n",
       "      <td>communal standpipe</td>\n",
       "    </tr>\n",
       "    <tr>\n",
       "      <th>1</th>\n",
       "      <td>0.0</td>\n",
       "      <td>GRUMETI</td>\n",
       "      <td>1399</td>\n",
       "      <td>Lake Victoria</td>\n",
       "      <td>Mara</td>\n",
       "      <td>2</td>\n",
       "      <td>Serengeti</td>\n",
       "      <td>280</td>\n",
       "      <td>True</td>\n",
       "      <td>wug</td>\n",
       "      <td>True</td>\n",
       "      <td>gravity</td>\n",
       "      <td>never pay</td>\n",
       "      <td>soft</td>\n",
       "      <td>insufficient</td>\n",
       "      <td>rainwater harvesting</td>\n",
       "      <td>communal standpipe</td>\n",
       "    </tr>\n",
       "    <tr>\n",
       "      <th>2</th>\n",
       "      <td>25.0</td>\n",
       "      <td>World vision</td>\n",
       "      <td>686</td>\n",
       "      <td>Pangani</td>\n",
       "      <td>Manyara</td>\n",
       "      <td>4</td>\n",
       "      <td>Simanjiro</td>\n",
       "      <td>250</td>\n",
       "      <td>True</td>\n",
       "      <td>vwc</td>\n",
       "      <td>True</td>\n",
       "      <td>gravity</td>\n",
       "      <td>pay per bucket</td>\n",
       "      <td>soft</td>\n",
       "      <td>enough</td>\n",
       "      <td>dam</td>\n",
       "      <td>communal standpipe multiple</td>\n",
       "    </tr>\n",
       "    <tr>\n",
       "      <th>3</th>\n",
       "      <td>0.0</td>\n",
       "      <td>UNICEF</td>\n",
       "      <td>263</td>\n",
       "      <td>Ruvuma / Southern Coast</td>\n",
       "      <td>Mtwara</td>\n",
       "      <td>63</td>\n",
       "      <td>Nanyumbu</td>\n",
       "      <td>58</td>\n",
       "      <td>True</td>\n",
       "      <td>vwc</td>\n",
       "      <td>True</td>\n",
       "      <td>submersible</td>\n",
       "      <td>never pay</td>\n",
       "      <td>soft</td>\n",
       "      <td>dry</td>\n",
       "      <td>machine dbh</td>\n",
       "      <td>communal standpipe multiple</td>\n",
       "    </tr>\n",
       "    <tr>\n",
       "      <th>4</th>\n",
       "      <td>0.0</td>\n",
       "      <td>Artisan</td>\n",
       "      <td>0</td>\n",
       "      <td>Lake Victoria</td>\n",
       "      <td>Kagera</td>\n",
       "      <td>1</td>\n",
       "      <td>Karagwe</td>\n",
       "      <td>0</td>\n",
       "      <td>True</td>\n",
       "      <td>other</td>\n",
       "      <td>True</td>\n",
       "      <td>gravity</td>\n",
       "      <td>never pay</td>\n",
       "      <td>soft</td>\n",
       "      <td>seasonal</td>\n",
       "      <td>rainwater harvesting</td>\n",
       "      <td>communal standpipe</td>\n",
       "    </tr>\n",
       "  </tbody>\n",
       "</table>\n",
       "</div>"
      ],
      "text/plain": [
       "   amount_tsh     installer  gps_height                    basin   region  \\\n",
       "0      6000.0         Roman        1390               Lake Nyasa   Iringa   \n",
       "1         0.0       GRUMETI        1399            Lake Victoria     Mara   \n",
       "2        25.0  World vision         686                  Pangani  Manyara   \n",
       "3         0.0        UNICEF         263  Ruvuma / Southern Coast   Mtwara   \n",
       "4         0.0       Artisan           0            Lake Victoria   Kagera   \n",
       "\n",
       "  district_code        lga  population  public_meeting management  permit  \\\n",
       "0             5     Ludewa         109            True        vwc   False   \n",
       "1             2  Serengeti         280            True        wug    True   \n",
       "2             4  Simanjiro         250            True        vwc    True   \n",
       "3            63   Nanyumbu          58            True        vwc    True   \n",
       "4             1    Karagwe           0            True      other    True   \n",
       "\n",
       "  extraction_type         payment water_quality      quantity  \\\n",
       "0         gravity    pay annually          soft        enough   \n",
       "1         gravity       never pay          soft  insufficient   \n",
       "2         gravity  pay per bucket          soft        enough   \n",
       "3     submersible       never pay          soft           dry   \n",
       "4         gravity       never pay          soft      seasonal   \n",
       "\n",
       "                 source              waterpoint_type  \n",
       "0                spring           communal standpipe  \n",
       "1  rainwater harvesting           communal standpipe  \n",
       "2                   dam  communal standpipe multiple  \n",
       "3           machine dbh  communal standpipe multiple  \n",
       "4  rainwater harvesting           communal standpipe  "
      ]
     },
     "execution_count": 12,
     "metadata": {},
     "output_type": "execute_result"
    }
   ],
   "source": [
    "X_picked.head()"
   ]
  },
  {
   "cell_type": "code",
   "execution_count": 13,
   "metadata": {
    "scrolled": true
   },
   "outputs": [
    {
     "data": {
      "text/html": [
       "<div>\n",
       "<style scoped>\n",
       "    .dataframe tbody tr th:only-of-type {\n",
       "        vertical-align: middle;\n",
       "    }\n",
       "\n",
       "    .dataframe tbody tr th {\n",
       "        vertical-align: top;\n",
       "    }\n",
       "\n",
       "    .dataframe thead th {\n",
       "        text-align: right;\n",
       "    }\n",
       "</style>\n",
       "<table border=\"1\" class=\"dataframe\">\n",
       "  <thead>\n",
       "    <tr style=\"text-align: right;\">\n",
       "      <th></th>\n",
       "      <th>amount_tsh</th>\n",
       "      <th>gps_height</th>\n",
       "      <th>population</th>\n",
       "    </tr>\n",
       "  </thead>\n",
       "  <tbody>\n",
       "    <tr>\n",
       "      <th>0</th>\n",
       "      <td>6000.0</td>\n",
       "      <td>1390</td>\n",
       "      <td>109</td>\n",
       "    </tr>\n",
       "    <tr>\n",
       "      <th>1</th>\n",
       "      <td>0.0</td>\n",
       "      <td>1399</td>\n",
       "      <td>280</td>\n",
       "    </tr>\n",
       "    <tr>\n",
       "      <th>2</th>\n",
       "      <td>25.0</td>\n",
       "      <td>686</td>\n",
       "      <td>250</td>\n",
       "    </tr>\n",
       "    <tr>\n",
       "      <th>3</th>\n",
       "      <td>0.0</td>\n",
       "      <td>263</td>\n",
       "      <td>58</td>\n",
       "    </tr>\n",
       "    <tr>\n",
       "      <th>4</th>\n",
       "      <td>0.0</td>\n",
       "      <td>0</td>\n",
       "      <td>0</td>\n",
       "    </tr>\n",
       "  </tbody>\n",
       "</table>\n",
       "</div>"
      ],
      "text/plain": [
       "   amount_tsh  gps_height  population\n",
       "0      6000.0        1390         109\n",
       "1         0.0        1399         280\n",
       "2        25.0         686         250\n",
       "3         0.0         263          58\n",
       "4         0.0           0           0"
      ]
     },
     "execution_count": 13,
     "metadata": {},
     "output_type": "execute_result"
    }
   ],
   "source": [
    "X_num = X_picked.select_dtypes(include='number')\n",
    "X_num.head()"
   ]
  },
  {
   "cell_type": "code",
   "execution_count": 14,
   "metadata": {},
   "outputs": [
    {
     "data": {
      "text/plain": [
       "['amount_tsh', 'gps_height', 'population']"
      ]
     },
     "execution_count": 14,
     "metadata": {},
     "output_type": "execute_result"
    }
   ],
   "source": [
    "num_cols = list(X_num.columns)\n",
    "num_cols"
   ]
  },
  {
   "cell_type": "code",
   "execution_count": 15,
   "metadata": {},
   "outputs": [
    {
     "data": {
      "text/html": [
       "<div>\n",
       "<style scoped>\n",
       "    .dataframe tbody tr th:only-of-type {\n",
       "        vertical-align: middle;\n",
       "    }\n",
       "\n",
       "    .dataframe tbody tr th {\n",
       "        vertical-align: top;\n",
       "    }\n",
       "\n",
       "    .dataframe thead th {\n",
       "        text-align: right;\n",
       "    }\n",
       "</style>\n",
       "<table border=\"1\" class=\"dataframe\">\n",
       "  <thead>\n",
       "    <tr style=\"text-align: right;\">\n",
       "      <th></th>\n",
       "      <th>installer</th>\n",
       "      <th>basin</th>\n",
       "      <th>region</th>\n",
       "      <th>district_code</th>\n",
       "      <th>lga</th>\n",
       "      <th>management</th>\n",
       "      <th>extraction_type</th>\n",
       "      <th>payment</th>\n",
       "      <th>water_quality</th>\n",
       "      <th>quantity</th>\n",
       "      <th>source</th>\n",
       "      <th>waterpoint_type</th>\n",
       "    </tr>\n",
       "  </thead>\n",
       "  <tbody>\n",
       "    <tr>\n",
       "      <th>0</th>\n",
       "      <td>Roman</td>\n",
       "      <td>Lake Nyasa</td>\n",
       "      <td>Iringa</td>\n",
       "      <td>5</td>\n",
       "      <td>Ludewa</td>\n",
       "      <td>vwc</td>\n",
       "      <td>gravity</td>\n",
       "      <td>pay annually</td>\n",
       "      <td>soft</td>\n",
       "      <td>enough</td>\n",
       "      <td>spring</td>\n",
       "      <td>communal standpipe</td>\n",
       "    </tr>\n",
       "    <tr>\n",
       "      <th>1</th>\n",
       "      <td>GRUMETI</td>\n",
       "      <td>Lake Victoria</td>\n",
       "      <td>Mara</td>\n",
       "      <td>2</td>\n",
       "      <td>Serengeti</td>\n",
       "      <td>wug</td>\n",
       "      <td>gravity</td>\n",
       "      <td>never pay</td>\n",
       "      <td>soft</td>\n",
       "      <td>insufficient</td>\n",
       "      <td>rainwater harvesting</td>\n",
       "      <td>communal standpipe</td>\n",
       "    </tr>\n",
       "    <tr>\n",
       "      <th>2</th>\n",
       "      <td>World vision</td>\n",
       "      <td>Pangani</td>\n",
       "      <td>Manyara</td>\n",
       "      <td>4</td>\n",
       "      <td>Simanjiro</td>\n",
       "      <td>vwc</td>\n",
       "      <td>gravity</td>\n",
       "      <td>pay per bucket</td>\n",
       "      <td>soft</td>\n",
       "      <td>enough</td>\n",
       "      <td>dam</td>\n",
       "      <td>communal standpipe multiple</td>\n",
       "    </tr>\n",
       "    <tr>\n",
       "      <th>3</th>\n",
       "      <td>UNICEF</td>\n",
       "      <td>Ruvuma / Southern Coast</td>\n",
       "      <td>Mtwara</td>\n",
       "      <td>63</td>\n",
       "      <td>Nanyumbu</td>\n",
       "      <td>vwc</td>\n",
       "      <td>submersible</td>\n",
       "      <td>never pay</td>\n",
       "      <td>soft</td>\n",
       "      <td>dry</td>\n",
       "      <td>machine dbh</td>\n",
       "      <td>communal standpipe multiple</td>\n",
       "    </tr>\n",
       "    <tr>\n",
       "      <th>4</th>\n",
       "      <td>Artisan</td>\n",
       "      <td>Lake Victoria</td>\n",
       "      <td>Kagera</td>\n",
       "      <td>1</td>\n",
       "      <td>Karagwe</td>\n",
       "      <td>other</td>\n",
       "      <td>gravity</td>\n",
       "      <td>never pay</td>\n",
       "      <td>soft</td>\n",
       "      <td>seasonal</td>\n",
       "      <td>rainwater harvesting</td>\n",
       "      <td>communal standpipe</td>\n",
       "    </tr>\n",
       "  </tbody>\n",
       "</table>\n",
       "</div>"
      ],
      "text/plain": [
       "      installer                    basin   region district_code        lga  \\\n",
       "0         Roman               Lake Nyasa   Iringa             5     Ludewa   \n",
       "1       GRUMETI            Lake Victoria     Mara             2  Serengeti   \n",
       "2  World vision                  Pangani  Manyara             4  Simanjiro   \n",
       "3        UNICEF  Ruvuma / Southern Coast   Mtwara            63   Nanyumbu   \n",
       "4       Artisan            Lake Victoria   Kagera             1    Karagwe   \n",
       "\n",
       "  management extraction_type         payment water_quality      quantity  \\\n",
       "0        vwc         gravity    pay annually          soft        enough   \n",
       "1        wug         gravity       never pay          soft  insufficient   \n",
       "2        vwc         gravity  pay per bucket          soft        enough   \n",
       "3        vwc     submersible       never pay          soft           dry   \n",
       "4      other         gravity       never pay          soft      seasonal   \n",
       "\n",
       "                 source              waterpoint_type  \n",
       "0                spring           communal standpipe  \n",
       "1  rainwater harvesting           communal standpipe  \n",
       "2                   dam  communal standpipe multiple  \n",
       "3           machine dbh  communal standpipe multiple  \n",
       "4  rainwater harvesting           communal standpipe  "
      ]
     },
     "execution_count": 15,
     "metadata": {},
     "output_type": "execute_result"
    }
   ],
   "source": [
    "X_cat = X_picked.select_dtypes(include='object')\n",
    "X_cat.head()"
   ]
  },
  {
   "cell_type": "code",
   "execution_count": 16,
   "metadata": {},
   "outputs": [
    {
     "data": {
      "text/plain": [
       "['installer',\n",
       " 'basin',\n",
       " 'region',\n",
       " 'district_code',\n",
       " 'lga',\n",
       " 'management',\n",
       " 'extraction_type',\n",
       " 'payment',\n",
       " 'water_quality',\n",
       " 'quantity',\n",
       " 'source',\n",
       " 'waterpoint_type']"
      ]
     },
     "execution_count": 16,
     "metadata": {},
     "output_type": "execute_result"
    }
   ],
   "source": [
    "cat_cols = list(X_cat.columns)\n",
    "cat_cols"
   ]
  },
  {
   "cell_type": "code",
   "execution_count": 17,
   "metadata": {},
   "outputs": [
    {
     "data": {
      "text/html": [
       "<div>\n",
       "<style scoped>\n",
       "    .dataframe tbody tr th:only-of-type {\n",
       "        vertical-align: middle;\n",
       "    }\n",
       "\n",
       "    .dataframe tbody tr th {\n",
       "        vertical-align: top;\n",
       "    }\n",
       "\n",
       "    .dataframe thead th {\n",
       "        text-align: right;\n",
       "    }\n",
       "</style>\n",
       "<table border=\"1\" class=\"dataframe\">\n",
       "  <thead>\n",
       "    <tr style=\"text-align: right;\">\n",
       "      <th></th>\n",
       "      <th>public_meeting</th>\n",
       "      <th>permit</th>\n",
       "    </tr>\n",
       "  </thead>\n",
       "  <tbody>\n",
       "    <tr>\n",
       "      <th>0</th>\n",
       "      <td>True</td>\n",
       "      <td>False</td>\n",
       "    </tr>\n",
       "    <tr>\n",
       "      <th>1</th>\n",
       "      <td>True</td>\n",
       "      <td>True</td>\n",
       "    </tr>\n",
       "    <tr>\n",
       "      <th>2</th>\n",
       "      <td>True</td>\n",
       "      <td>True</td>\n",
       "    </tr>\n",
       "    <tr>\n",
       "      <th>3</th>\n",
       "      <td>True</td>\n",
       "      <td>True</td>\n",
       "    </tr>\n",
       "    <tr>\n",
       "      <th>4</th>\n",
       "      <td>True</td>\n",
       "      <td>True</td>\n",
       "    </tr>\n",
       "  </tbody>\n",
       "</table>\n",
       "</div>"
      ],
      "text/plain": [
       "   public_meeting  permit\n",
       "0            True   False\n",
       "1            True    True\n",
       "2            True    True\n",
       "3            True    True\n",
       "4            True    True"
      ]
     },
     "execution_count": 17,
     "metadata": {},
     "output_type": "execute_result"
    }
   ],
   "source": [
    "X_bool = X_picked.select_dtypes(include='boolean')\n",
    "X_bool.head()"
   ]
  },
  {
   "cell_type": "code",
   "execution_count": 18,
   "metadata": {},
   "outputs": [
    {
     "data": {
      "text/plain": [
       "['public_meeting', 'permit']"
      ]
     },
     "execution_count": 18,
     "metadata": {},
     "output_type": "execute_result"
    }
   ],
   "source": [
    "bool_cols = list(X_bool.columns)\n",
    "bool_cols"
   ]
  },
  {
   "cell_type": "code",
   "execution_count": 19,
   "metadata": {},
   "outputs": [],
   "source": [
    "#create subpipes for numeric and categorical features\n",
    "#StandardScaler on numerical features\n",
    "subpipe_num = Pipeline(steps=[('ss', StandardScaler() )])\n",
    "#OHE categorical features, handle_unknown = ignore, drop first if binary\n",
    "subpipe_cat = Pipeline(steps=[('ohe', OneHotEncoder(sparse=False, handle_unknown='ignore') )])\n",
    "#boolean pipeline with ordinal encoder\n",
    "subpipe_bool = Pipeline(steps=[('ord', OrdinalEncoder() )])"
   ]
  },
  {
   "cell_type": "code",
   "execution_count": 20,
   "metadata": {},
   "outputs": [],
   "source": [
    "CT = ColumnTransformer(transformers=[('subpipe_num', subpipe_num, num_cols),\n",
    "                                     ('subpipe_cat', subpipe_cat, cat_cols),\n",
    "                                     ('subpipe_bool', subpipe_bool, bool_cols)],\n",
    "                       remainder='drop')"
   ]
  },
  {
   "cell_type": "code",
   "execution_count": 21,
   "metadata": {},
   "outputs": [],
   "source": [
    "rfc = RandomForestClassifier(random_state=42)\n",
    "\n",
    "first_model_pipe = Pipeline(steps = [('ct', CT),\n",
    "                            ('rfc', rfc )])"
   ]
  },
  {
   "cell_type": "code",
   "execution_count": 22,
   "metadata": {
    "scrolled": true
   },
   "outputs": [
    {
     "data": {
      "text/plain": [
       "Pipeline(steps=[('ct',\n",
       "                 ColumnTransformer(transformers=[('subpipe_num',\n",
       "                                                  Pipeline(steps=[('ss',\n",
       "                                                                   StandardScaler())]),\n",
       "                                                  ['amount_tsh', 'gps_height',\n",
       "                                                   'population']),\n",
       "                                                 ('subpipe_cat',\n",
       "                                                  Pipeline(steps=[('ohe',\n",
       "                                                                   OneHotEncoder(handle_unknown='ignore',\n",
       "                                                                                 sparse=False))]),\n",
       "                                                  ['installer', 'basin',\n",
       "                                                   'region', 'district_code',\n",
       "                                                   'lga', 'management',\n",
       "                                                   'extraction_type', 'payment',\n",
       "                                                   'water_quality', 'quantity',\n",
       "                                                   'source',\n",
       "                                                   'waterpoint_type']),\n",
       "                                                 ('subpipe_bool',\n",
       "                                                  Pipeline(steps=[('ord',\n",
       "                                                                   OrdinalEncoder())]),\n",
       "                                                  ['public_meeting',\n",
       "                                                   'permit'])])),\n",
       "                ('rfc', RandomForestClassifier(random_state=42))])"
      ]
     },
     "execution_count": 22,
     "metadata": {},
     "output_type": "execute_result"
    }
   ],
   "source": [
    "first_model_pipe.fit(X_train, y_train)"
   ]
  },
  {
   "cell_type": "code",
   "execution_count": 23,
   "metadata": {},
   "outputs": [
    {
     "data": {
      "text/plain": [
       "0.9486644219977554"
      ]
     },
     "execution_count": 23,
     "metadata": {},
     "output_type": "execute_result"
    }
   ],
   "source": [
    "first_model_pipe.score(X_train, y_train)"
   ]
  },
  {
   "cell_type": "code",
   "execution_count": 24,
   "metadata": {},
   "outputs": [
    {
     "data": {
      "text/plain": [
       "0.7844444444444445"
      ]
     },
     "execution_count": 24,
     "metadata": {},
     "output_type": "execute_result"
    }
   ],
   "source": [
    "first_model_pipe.score(X_test, y_test)"
   ]
  },
  {
   "cell_type": "code",
   "execution_count": 25,
   "metadata": {},
   "outputs": [
    {
     "data": {
      "text/plain": [
       "array([0.03235295, 0.1525929 , 0.08621218, ..., 0.02874709, 0.0093724 ,\n",
       "       0.01144891])"
      ]
     },
     "execution_count": 25,
     "metadata": {},
     "output_type": "execute_result"
    }
   ],
   "source": [
    "rfc.feature_importances_"
   ]
  },
  {
   "cell_type": "code",
   "execution_count": 26,
   "metadata": {},
   "outputs": [
    {
     "data": {
      "text/plain": [
       "RandomForestClassifier(random_state=42)"
      ]
     },
     "execution_count": 26,
     "metadata": {},
     "output_type": "execute_result"
    }
   ],
   "source": [
    "rfc"
   ]
  },
  {
   "cell_type": "code",
   "execution_count": 27,
   "metadata": {},
   "outputs": [
    {
     "data": {
      "text/plain": [
       "(41, 2107)"
      ]
     },
     "execution_count": 27,
     "metadata": {},
     "output_type": "execute_result"
    }
   ],
   "source": [
    "len(X_train.columns), len(rfc.feature_importances_)"
   ]
  },
  {
   "cell_type": "code",
   "execution_count": 28,
   "metadata": {},
   "outputs": [
    {
     "data": {
      "text/plain": [
       "{'ct': ColumnTransformer(transformers=[('subpipe_num',\n",
       "                                  Pipeline(steps=[('ss', StandardScaler())]),\n",
       "                                  ['amount_tsh', 'gps_height', 'population']),\n",
       "                                 ('subpipe_cat',\n",
       "                                  Pipeline(steps=[('ohe',\n",
       "                                                   OneHotEncoder(handle_unknown='ignore',\n",
       "                                                                 sparse=False))]),\n",
       "                                  ['installer', 'basin', 'region',\n",
       "                                   'district_code', 'lga', 'management',\n",
       "                                   'extraction_type', 'payment', 'water_quality',\n",
       "                                   'quantity', 'source', 'waterpoint_type']),\n",
       "                                 ('subpipe_bool',\n",
       "                                  Pipeline(steps=[('ord', OrdinalEncoder())]),\n",
       "                                  ['public_meeting', 'permit'])]),\n",
       " 'rfc': RandomForestClassifier(random_state=42)}"
      ]
     },
     "execution_count": 28,
     "metadata": {},
     "output_type": "execute_result"
    }
   ],
   "source": [
    "first_model_pipe.named_steps\n",
    "#dictionary with keys as names, values as objects associated with name"
   ]
  },
  {
   "cell_type": "code",
   "execution_count": 29,
   "metadata": {
    "scrolled": true
   },
   "outputs": [
    {
     "data": {
      "text/plain": [
       "{'id': 0.03235294712569168,\n",
       " 'amount_tsh': 0.15259290212476806,\n",
       " 'date_recorded': 0.08621217983103296,\n",
       " 'funder': 2.2395872427717503e-05,\n",
       " 'gps_height': 0.0004901450108233817,\n",
       " 'installer': 3.101675458972177e-05,\n",
       " 'longitude': 0.00011260575086136527,\n",
       " 'latitude': 6.295163399621074e-05,\n",
       " 'wpt_name': 5.782916429473131e-06,\n",
       " 'num_private': 1.0074142713492508e-06,\n",
       " 'basin': 0.0002599373026673585,\n",
       " 'subvillage': 1.6493957457162314e-05,\n",
       " 'region': 3.938020005189533e-06,\n",
       " 'region_code': 7.040896308694836e-05,\n",
       " 'district_code': 2.8506098507988067e-05,\n",
       " 'lga': 6.131284578434692e-05,\n",
       " 'ward': 7.4785752385342e-05,\n",
       " 'population': 5.2596074025014724e-05,\n",
       " 'public_meeting': 0.00018206653340206765,\n",
       " 'recorded_by': 9.620625759138111e-06,\n",
       " 'scheme_management': 1.015088374680087e-05,\n",
       " 'scheme_name': 5.666680534884074e-05,\n",
       " 'permit': 1.417463055604765e-06,\n",
       " 'construction_year': 1.1070571977721396e-06,\n",
       " 'extraction_type': 9.325191108548348e-06,\n",
       " 'extraction_type_group': 1.3038769934013236e-05,\n",
       " 'extraction_type_class': 6.340765131025822e-05,\n",
       " 'management': 0.00011472198651189338,\n",
       " 'management_group': 0.00019549436505806326,\n",
       " 'payment': 2.5846094076134442e-05,\n",
       " 'payment_type': 9.43112576771253e-07,\n",
       " 'water_quality': 7.358922226706983e-07,\n",
       " 'quality_group': 1.0003165125035962e-06,\n",
       " 'quantity': 3.652841468776875e-05,\n",
       " 'quantity_group': 5.30120097455574e-05,\n",
       " 'source': 7.270281848118984e-05,\n",
       " 'source_type': 0.0005278573730151369,\n",
       " 'source_class': 1.9583900614177323e-05,\n",
       " 'waterpoint_type': 8.051164415164468e-06,\n",
       " 'waterpoint_type_group': 4.533227294466429e-05,\n",
       " 'id_label': 5.49530527979095e-06}"
      ]
     },
     "execution_count": 29,
     "metadata": {},
     "output_type": "execute_result"
    }
   ],
   "source": [
    "feature_importance = {name:score for name, score in zip(X_train.columns, rfc.feature_importances_)}\n",
    "feature_importance\n",
    "#access OHE feature names, combine them with categorical, figure out a way to sort"
   ]
  },
  {
   "cell_type": "markdown",
   "metadata": {},
   "source": [
    "# DummyClassifier Baseline"
   ]
  },
  {
   "cell_type": "code",
   "execution_count": 30,
   "metadata": {},
   "outputs": [],
   "source": [
    "dummy_clf = DummyClassifier(strategy='most_frequent')"
   ]
  },
  {
   "cell_type": "code",
   "execution_count": 31,
   "metadata": {},
   "outputs": [
    {
     "data": {
      "text/plain": [
       "DummyClassifier(strategy='most_frequent')"
      ]
     },
     "execution_count": 31,
     "metadata": {},
     "output_type": "execute_result"
    }
   ],
   "source": [
    "dummy_clf.fit(X_train, y_train)"
   ]
  },
  {
   "cell_type": "code",
   "execution_count": 30,
   "metadata": {},
   "outputs": [
    {
     "data": {
      "text/plain": [
       "0.542334455667789"
      ]
     },
     "execution_count": 30,
     "metadata": {},
     "output_type": "execute_result"
    }
   ],
   "source": [
    "dummy_clf.score(X_train, y_train)"
   ]
  },
  {
   "cell_type": "markdown",
   "metadata": {},
   "source": [
    "# GridSearch "
   ]
  },
  {
   "cell_type": "code",
   "execution_count": 34,
   "metadata": {},
   "outputs": [],
   "source": [
    "params = {'rfc__n_estimators':[100, 200],\n",
    "          'rfc__criterion':['gini', 'entropy'],\n",
    "          'rfc__max_depth':[None, 50, 100],\n",
    "          'rfc__min_samples_leaf': [1, 10],\n",
    "          'rfc__min_samples_split': [2, 5, 10]}\n",
    "gs = GridSearchCV(estimator = first_model_pipe, param_grid = params, cv=5, verbose=3)"
   ]
  },
  {
   "cell_type": "code",
   "execution_count": 35,
   "metadata": {
    "scrolled": true
   },
   "outputs": [
    {
     "name": "stdout",
     "output_type": "stream",
     "text": [
      "Fitting 5 folds for each of 72 candidates, totalling 360 fits\n",
      "[CV] rfc__criterion=gini, rfc__max_depth=None, rfc__min_samples_leaf=1, rfc__min_samples_split=2, rfc__n_estimators=100 \n"
     ]
    },
    {
     "name": "stderr",
     "output_type": "stream",
     "text": [
      "[Parallel(n_jobs=1)]: Using backend SequentialBackend with 1 concurrent workers.\n"
     ]
    },
    {
     "name": "stdout",
     "output_type": "stream",
     "text": [
      "[CV]  rfc__criterion=gini, rfc__max_depth=None, rfc__min_samples_leaf=1, rfc__min_samples_split=2, rfc__n_estimators=100, score=0.786, total=  24.9s\n",
      "[CV] rfc__criterion=gini, rfc__max_depth=None, rfc__min_samples_leaf=1, rfc__min_samples_split=2, rfc__n_estimators=100 \n"
     ]
    },
    {
     "name": "stderr",
     "output_type": "stream",
     "text": [
      "[Parallel(n_jobs=1)]: Done   1 out of   1 | elapsed:   24.8s remaining:    0.0s\n"
     ]
    },
    {
     "name": "stdout",
     "output_type": "stream",
     "text": [
      "[CV]  rfc__criterion=gini, rfc__max_depth=None, rfc__min_samples_leaf=1, rfc__min_samples_split=2, rfc__n_estimators=100, score=0.784, total=  24.9s\n",
      "[CV] rfc__criterion=gini, rfc__max_depth=None, rfc__min_samples_leaf=1, rfc__min_samples_split=2, rfc__n_estimators=100 \n"
     ]
    },
    {
     "name": "stderr",
     "output_type": "stream",
     "text": [
      "[Parallel(n_jobs=1)]: Done   2 out of   2 | elapsed:   49.7s remaining:    0.0s\n"
     ]
    },
    {
     "name": "stdout",
     "output_type": "stream",
     "text": [
      "[CV]  rfc__criterion=gini, rfc__max_depth=None, rfc__min_samples_leaf=1, rfc__min_samples_split=2, rfc__n_estimators=100, score=0.786, total=  24.9s\n",
      "[CV] rfc__criterion=gini, rfc__max_depth=None, rfc__min_samples_leaf=1, rfc__min_samples_split=2, rfc__n_estimators=100 \n",
      "[CV]  rfc__criterion=gini, rfc__max_depth=None, rfc__min_samples_leaf=1, rfc__min_samples_split=2, rfc__n_estimators=100, score=0.784, total=  24.9s\n",
      "[CV] rfc__criterion=gini, rfc__max_depth=None, rfc__min_samples_leaf=1, rfc__min_samples_split=2, rfc__n_estimators=100 \n",
      "[CV]  rfc__criterion=gini, rfc__max_depth=None, rfc__min_samples_leaf=1, rfc__min_samples_split=2, rfc__n_estimators=100, score=0.781, total=  24.0s\n",
      "[CV] rfc__criterion=gini, rfc__max_depth=None, rfc__min_samples_leaf=1, rfc__min_samples_split=2, rfc__n_estimators=200 \n",
      "[CV]  rfc__criterion=gini, rfc__max_depth=None, rfc__min_samples_leaf=1, rfc__min_samples_split=2, rfc__n_estimators=200, score=0.787, total=  48.2s\n",
      "[CV] rfc__criterion=gini, rfc__max_depth=None, rfc__min_samples_leaf=1, rfc__min_samples_split=2, rfc__n_estimators=200 \n",
      "[CV]  rfc__criterion=gini, rfc__max_depth=None, rfc__min_samples_leaf=1, rfc__min_samples_split=2, rfc__n_estimators=200, score=0.784, total=  48.7s\n",
      "[CV] rfc__criterion=gini, rfc__max_depth=None, rfc__min_samples_leaf=1, rfc__min_samples_split=2, rfc__n_estimators=200 \n",
      "[CV]  rfc__criterion=gini, rfc__max_depth=None, rfc__min_samples_leaf=1, rfc__min_samples_split=2, rfc__n_estimators=200, score=0.785, total=  50.5s\n",
      "[CV] rfc__criterion=gini, rfc__max_depth=None, rfc__min_samples_leaf=1, rfc__min_samples_split=2, rfc__n_estimators=200 \n",
      "[CV]  rfc__criterion=gini, rfc__max_depth=None, rfc__min_samples_leaf=1, rfc__min_samples_split=2, rfc__n_estimators=200, score=0.784, total=  51.1s\n",
      "[CV] rfc__criterion=gini, rfc__max_depth=None, rfc__min_samples_leaf=1, rfc__min_samples_split=2, rfc__n_estimators=200 \n",
      "[CV]  rfc__criterion=gini, rfc__max_depth=None, rfc__min_samples_leaf=1, rfc__min_samples_split=2, rfc__n_estimators=200, score=0.781, total=  49.0s\n",
      "[CV] rfc__criterion=gini, rfc__max_depth=None, rfc__min_samples_leaf=1, rfc__min_samples_split=5, rfc__n_estimators=100 \n",
      "[CV]  rfc__criterion=gini, rfc__max_depth=None, rfc__min_samples_leaf=1, rfc__min_samples_split=5, rfc__n_estimators=100, score=0.796, total=  22.1s\n",
      "[CV] rfc__criterion=gini, rfc__max_depth=None, rfc__min_samples_leaf=1, rfc__min_samples_split=5, rfc__n_estimators=100 \n",
      "[CV]  rfc__criterion=gini, rfc__max_depth=None, rfc__min_samples_leaf=1, rfc__min_samples_split=5, rfc__n_estimators=100, score=0.790, total=  22.3s\n",
      "[CV] rfc__criterion=gini, rfc__max_depth=None, rfc__min_samples_leaf=1, rfc__min_samples_split=5, rfc__n_estimators=100 \n",
      "[CV]  rfc__criterion=gini, rfc__max_depth=None, rfc__min_samples_leaf=1, rfc__min_samples_split=5, rfc__n_estimators=100, score=0.793, total=  22.1s\n",
      "[CV] rfc__criterion=gini, rfc__max_depth=None, rfc__min_samples_leaf=1, rfc__min_samples_split=5, rfc__n_estimators=100 \n",
      "[CV]  rfc__criterion=gini, rfc__max_depth=None, rfc__min_samples_leaf=1, rfc__min_samples_split=5, rfc__n_estimators=100, score=0.790, total=  22.5s\n",
      "[CV] rfc__criterion=gini, rfc__max_depth=None, rfc__min_samples_leaf=1, rfc__min_samples_split=5, rfc__n_estimators=100 \n",
      "[CV]  rfc__criterion=gini, rfc__max_depth=None, rfc__min_samples_leaf=1, rfc__min_samples_split=5, rfc__n_estimators=100, score=0.786, total=  23.8s\n",
      "[CV] rfc__criterion=gini, rfc__max_depth=None, rfc__min_samples_leaf=1, rfc__min_samples_split=5, rfc__n_estimators=200 \n",
      "[CV]  rfc__criterion=gini, rfc__max_depth=None, rfc__min_samples_leaf=1, rfc__min_samples_split=5, rfc__n_estimators=200, score=0.796, total=  46.0s\n",
      "[CV] rfc__criterion=gini, rfc__max_depth=None, rfc__min_samples_leaf=1, rfc__min_samples_split=5, rfc__n_estimators=200 \n",
      "[CV]  rfc__criterion=gini, rfc__max_depth=None, rfc__min_samples_leaf=1, rfc__min_samples_split=5, rfc__n_estimators=200, score=0.792, total=  44.2s\n",
      "[CV] rfc__criterion=gini, rfc__max_depth=None, rfc__min_samples_leaf=1, rfc__min_samples_split=5, rfc__n_estimators=200 \n",
      "[CV]  rfc__criterion=gini, rfc__max_depth=None, rfc__min_samples_leaf=1, rfc__min_samples_split=5, rfc__n_estimators=200, score=0.792, total=  43.1s\n",
      "[CV] rfc__criterion=gini, rfc__max_depth=None, rfc__min_samples_leaf=1, rfc__min_samples_split=5, rfc__n_estimators=200 \n",
      "[CV]  rfc__criterion=gini, rfc__max_depth=None, rfc__min_samples_leaf=1, rfc__min_samples_split=5, rfc__n_estimators=200, score=0.792, total=  43.5s\n",
      "[CV] rfc__criterion=gini, rfc__max_depth=None, rfc__min_samples_leaf=1, rfc__min_samples_split=5, rfc__n_estimators=200 \n",
      "[CV]  rfc__criterion=gini, rfc__max_depth=None, rfc__min_samples_leaf=1, rfc__min_samples_split=5, rfc__n_estimators=200, score=0.786, total=  41.9s\n",
      "[CV] rfc__criterion=gini, rfc__max_depth=None, rfc__min_samples_leaf=1, rfc__min_samples_split=10, rfc__n_estimators=100 \n",
      "[CV]  rfc__criterion=gini, rfc__max_depth=None, rfc__min_samples_leaf=1, rfc__min_samples_split=10, rfc__n_estimators=100, score=0.800, total=  20.2s\n",
      "[CV] rfc__criterion=gini, rfc__max_depth=None, rfc__min_samples_leaf=1, rfc__min_samples_split=10, rfc__n_estimators=100 \n",
      "[CV]  rfc__criterion=gini, rfc__max_depth=None, rfc__min_samples_leaf=1, rfc__min_samples_split=10, rfc__n_estimators=100, score=0.796, total=  20.2s\n",
      "[CV] rfc__criterion=gini, rfc__max_depth=None, rfc__min_samples_leaf=1, rfc__min_samples_split=10, rfc__n_estimators=100 \n",
      "[CV]  rfc__criterion=gini, rfc__max_depth=None, rfc__min_samples_leaf=1, rfc__min_samples_split=10, rfc__n_estimators=100, score=0.794, total=  20.1s\n",
      "[CV] rfc__criterion=gini, rfc__max_depth=None, rfc__min_samples_leaf=1, rfc__min_samples_split=10, rfc__n_estimators=100 \n",
      "[CV]  rfc__criterion=gini, rfc__max_depth=None, rfc__min_samples_leaf=1, rfc__min_samples_split=10, rfc__n_estimators=100, score=0.794, total=  20.5s\n",
      "[CV] rfc__criterion=gini, rfc__max_depth=None, rfc__min_samples_leaf=1, rfc__min_samples_split=10, rfc__n_estimators=100 \n",
      "[CV]  rfc__criterion=gini, rfc__max_depth=None, rfc__min_samples_leaf=1, rfc__min_samples_split=10, rfc__n_estimators=100, score=0.788, total=  20.1s\n",
      "[CV] rfc__criterion=gini, rfc__max_depth=None, rfc__min_samples_leaf=1, rfc__min_samples_split=10, rfc__n_estimators=200 \n",
      "[CV]  rfc__criterion=gini, rfc__max_depth=None, rfc__min_samples_leaf=1, rfc__min_samples_split=10, rfc__n_estimators=200, score=0.800, total=  39.7s\n",
      "[CV] rfc__criterion=gini, rfc__max_depth=None, rfc__min_samples_leaf=1, rfc__min_samples_split=10, rfc__n_estimators=200 \n",
      "[CV]  rfc__criterion=gini, rfc__max_depth=None, rfc__min_samples_leaf=1, rfc__min_samples_split=10, rfc__n_estimators=200, score=0.796, total=  40.4s\n",
      "[CV] rfc__criterion=gini, rfc__max_depth=None, rfc__min_samples_leaf=1, rfc__min_samples_split=10, rfc__n_estimators=200 \n",
      "[CV]  rfc__criterion=gini, rfc__max_depth=None, rfc__min_samples_leaf=1, rfc__min_samples_split=10, rfc__n_estimators=200, score=0.794, total=  40.5s\n",
      "[CV] rfc__criterion=gini, rfc__max_depth=None, rfc__min_samples_leaf=1, rfc__min_samples_split=10, rfc__n_estimators=200 \n",
      "[CV]  rfc__criterion=gini, rfc__max_depth=None, rfc__min_samples_leaf=1, rfc__min_samples_split=10, rfc__n_estimators=200, score=0.794, total=  40.7s\n",
      "[CV] rfc__criterion=gini, rfc__max_depth=None, rfc__min_samples_leaf=1, rfc__min_samples_split=10, rfc__n_estimators=200 \n",
      "[CV]  rfc__criterion=gini, rfc__max_depth=None, rfc__min_samples_leaf=1, rfc__min_samples_split=10, rfc__n_estimators=200, score=0.789, total=  39.6s\n",
      "[CV] rfc__criterion=gini, rfc__max_depth=None, rfc__min_samples_leaf=10, rfc__min_samples_split=2, rfc__n_estimators=100 \n",
      "[CV]  rfc__criterion=gini, rfc__max_depth=None, rfc__min_samples_leaf=10, rfc__min_samples_split=2, rfc__n_estimators=100, score=0.756, total=  13.9s\n",
      "[CV] rfc__criterion=gini, rfc__max_depth=None, rfc__min_samples_leaf=10, rfc__min_samples_split=2, rfc__n_estimators=100 \n",
      "[CV]  rfc__criterion=gini, rfc__max_depth=None, rfc__min_samples_leaf=10, rfc__min_samples_split=2, rfc__n_estimators=100, score=0.745, total=  14.1s\n",
      "[CV] rfc__criterion=gini, rfc__max_depth=None, rfc__min_samples_leaf=10, rfc__min_samples_split=2, rfc__n_estimators=100 \n",
      "[CV]  rfc__criterion=gini, rfc__max_depth=None, rfc__min_samples_leaf=10, rfc__min_samples_split=2, rfc__n_estimators=100, score=0.744, total=  13.8s\n",
      "[CV] rfc__criterion=gini, rfc__max_depth=None, rfc__min_samples_leaf=10, rfc__min_samples_split=2, rfc__n_estimators=100 \n"
     ]
    },
    {
     "name": "stdout",
     "output_type": "stream",
     "text": [
      "[CV]  rfc__criterion=gini, rfc__max_depth=None, rfc__min_samples_leaf=10, rfc__min_samples_split=2, rfc__n_estimators=100, score=0.743, total=  14.1s\n",
      "[CV] rfc__criterion=gini, rfc__max_depth=None, rfc__min_samples_leaf=10, rfc__min_samples_split=2, rfc__n_estimators=100 \n",
      "[CV]  rfc__criterion=gini, rfc__max_depth=None, rfc__min_samples_leaf=10, rfc__min_samples_split=2, rfc__n_estimators=100, score=0.743, total=  13.8s\n",
      "[CV] rfc__criterion=gini, rfc__max_depth=None, rfc__min_samples_leaf=10, rfc__min_samples_split=2, rfc__n_estimators=200 \n",
      "[CV]  rfc__criterion=gini, rfc__max_depth=None, rfc__min_samples_leaf=10, rfc__min_samples_split=2, rfc__n_estimators=200, score=0.756, total=  27.0s\n",
      "[CV] rfc__criterion=gini, rfc__max_depth=None, rfc__min_samples_leaf=10, rfc__min_samples_split=2, rfc__n_estimators=200 \n",
      "[CV]  rfc__criterion=gini, rfc__max_depth=None, rfc__min_samples_leaf=10, rfc__min_samples_split=2, rfc__n_estimators=200, score=0.744, total=  27.1s\n",
      "[CV] rfc__criterion=gini, rfc__max_depth=None, rfc__min_samples_leaf=10, rfc__min_samples_split=2, rfc__n_estimators=200 \n",
      "[CV]  rfc__criterion=gini, rfc__max_depth=None, rfc__min_samples_leaf=10, rfc__min_samples_split=2, rfc__n_estimators=200, score=0.743, total=  26.9s\n",
      "[CV] rfc__criterion=gini, rfc__max_depth=None, rfc__min_samples_leaf=10, rfc__min_samples_split=2, rfc__n_estimators=200 \n",
      "[CV]  rfc__criterion=gini, rfc__max_depth=None, rfc__min_samples_leaf=10, rfc__min_samples_split=2, rfc__n_estimators=200, score=0.745, total=  27.7s\n",
      "[CV] rfc__criterion=gini, rfc__max_depth=None, rfc__min_samples_leaf=10, rfc__min_samples_split=2, rfc__n_estimators=200 \n",
      "[CV]  rfc__criterion=gini, rfc__max_depth=None, rfc__min_samples_leaf=10, rfc__min_samples_split=2, rfc__n_estimators=200, score=0.742, total=  26.9s\n",
      "[CV] rfc__criterion=gini, rfc__max_depth=None, rfc__min_samples_leaf=10, rfc__min_samples_split=5, rfc__n_estimators=100 \n",
      "[CV]  rfc__criterion=gini, rfc__max_depth=None, rfc__min_samples_leaf=10, rfc__min_samples_split=5, rfc__n_estimators=100, score=0.756, total=  13.9s\n",
      "[CV] rfc__criterion=gini, rfc__max_depth=None, rfc__min_samples_leaf=10, rfc__min_samples_split=5, rfc__n_estimators=100 \n",
      "[CV]  rfc__criterion=gini, rfc__max_depth=None, rfc__min_samples_leaf=10, rfc__min_samples_split=5, rfc__n_estimators=100, score=0.745, total=  14.2s\n",
      "[CV] rfc__criterion=gini, rfc__max_depth=None, rfc__min_samples_leaf=10, rfc__min_samples_split=5, rfc__n_estimators=100 \n",
      "[CV]  rfc__criterion=gini, rfc__max_depth=None, rfc__min_samples_leaf=10, rfc__min_samples_split=5, rfc__n_estimators=100, score=0.744, total=  13.9s\n",
      "[CV] rfc__criterion=gini, rfc__max_depth=None, rfc__min_samples_leaf=10, rfc__min_samples_split=5, rfc__n_estimators=100 \n",
      "[CV]  rfc__criterion=gini, rfc__max_depth=None, rfc__min_samples_leaf=10, rfc__min_samples_split=5, rfc__n_estimators=100, score=0.743, total=  14.1s\n",
      "[CV] rfc__criterion=gini, rfc__max_depth=None, rfc__min_samples_leaf=10, rfc__min_samples_split=5, rfc__n_estimators=100 \n",
      "[CV]  rfc__criterion=gini, rfc__max_depth=None, rfc__min_samples_leaf=10, rfc__min_samples_split=5, rfc__n_estimators=100, score=0.743, total=  13.7s\n",
      "[CV] rfc__criterion=gini, rfc__max_depth=None, rfc__min_samples_leaf=10, rfc__min_samples_split=5, rfc__n_estimators=200 \n",
      "[CV]  rfc__criterion=gini, rfc__max_depth=None, rfc__min_samples_leaf=10, rfc__min_samples_split=5, rfc__n_estimators=200, score=0.756, total=  27.0s\n",
      "[CV] rfc__criterion=gini, rfc__max_depth=None, rfc__min_samples_leaf=10, rfc__min_samples_split=5, rfc__n_estimators=200 \n",
      "[CV]  rfc__criterion=gini, rfc__max_depth=None, rfc__min_samples_leaf=10, rfc__min_samples_split=5, rfc__n_estimators=200, score=0.744, total=  27.1s\n",
      "[CV] rfc__criterion=gini, rfc__max_depth=None, rfc__min_samples_leaf=10, rfc__min_samples_split=5, rfc__n_estimators=200 \n",
      "[CV]  rfc__criterion=gini, rfc__max_depth=None, rfc__min_samples_leaf=10, rfc__min_samples_split=5, rfc__n_estimators=200, score=0.743, total=  27.0s\n",
      "[CV] rfc__criterion=gini, rfc__max_depth=None, rfc__min_samples_leaf=10, rfc__min_samples_split=5, rfc__n_estimators=200 \n",
      "[CV]  rfc__criterion=gini, rfc__max_depth=None, rfc__min_samples_leaf=10, rfc__min_samples_split=5, rfc__n_estimators=200, score=0.745, total=  27.8s\n",
      "[CV] rfc__criterion=gini, rfc__max_depth=None, rfc__min_samples_leaf=10, rfc__min_samples_split=5, rfc__n_estimators=200 \n",
      "[CV]  rfc__criterion=gini, rfc__max_depth=None, rfc__min_samples_leaf=10, rfc__min_samples_split=5, rfc__n_estimators=200, score=0.742, total=  26.8s\n",
      "[CV] rfc__criterion=gini, rfc__max_depth=None, rfc__min_samples_leaf=10, rfc__min_samples_split=10, rfc__n_estimators=100 \n",
      "[CV]  rfc__criterion=gini, rfc__max_depth=None, rfc__min_samples_leaf=10, rfc__min_samples_split=10, rfc__n_estimators=100, score=0.756, total=  14.0s\n",
      "[CV] rfc__criterion=gini, rfc__max_depth=None, rfc__min_samples_leaf=10, rfc__min_samples_split=10, rfc__n_estimators=100 \n",
      "[CV]  rfc__criterion=gini, rfc__max_depth=None, rfc__min_samples_leaf=10, rfc__min_samples_split=10, rfc__n_estimators=100, score=0.745, total=  14.2s\n",
      "[CV] rfc__criterion=gini, rfc__max_depth=None, rfc__min_samples_leaf=10, rfc__min_samples_split=10, rfc__n_estimators=100 \n",
      "[CV]  rfc__criterion=gini, rfc__max_depth=None, rfc__min_samples_leaf=10, rfc__min_samples_split=10, rfc__n_estimators=100, score=0.744, total=  13.9s\n",
      "[CV] rfc__criterion=gini, rfc__max_depth=None, rfc__min_samples_leaf=10, rfc__min_samples_split=10, rfc__n_estimators=100 \n",
      "[CV]  rfc__criterion=gini, rfc__max_depth=None, rfc__min_samples_leaf=10, rfc__min_samples_split=10, rfc__n_estimators=100, score=0.743, total=  14.2s\n",
      "[CV] rfc__criterion=gini, rfc__max_depth=None, rfc__min_samples_leaf=10, rfc__min_samples_split=10, rfc__n_estimators=100 \n",
      "[CV]  rfc__criterion=gini, rfc__max_depth=None, rfc__min_samples_leaf=10, rfc__min_samples_split=10, rfc__n_estimators=100, score=0.743, total=  13.8s\n",
      "[CV] rfc__criterion=gini, rfc__max_depth=None, rfc__min_samples_leaf=10, rfc__min_samples_split=10, rfc__n_estimators=200 \n",
      "[CV]  rfc__criterion=gini, rfc__max_depth=None, rfc__min_samples_leaf=10, rfc__min_samples_split=10, rfc__n_estimators=200, score=0.756, total=  27.1s\n",
      "[CV] rfc__criterion=gini, rfc__max_depth=None, rfc__min_samples_leaf=10, rfc__min_samples_split=10, rfc__n_estimators=200 \n",
      "[CV]  rfc__criterion=gini, rfc__max_depth=None, rfc__min_samples_leaf=10, rfc__min_samples_split=10, rfc__n_estimators=200, score=0.744, total=  27.1s\n",
      "[CV] rfc__criterion=gini, rfc__max_depth=None, rfc__min_samples_leaf=10, rfc__min_samples_split=10, rfc__n_estimators=200 \n",
      "[CV]  rfc__criterion=gini, rfc__max_depth=None, rfc__min_samples_leaf=10, rfc__min_samples_split=10, rfc__n_estimators=200, score=0.743, total=  27.0s\n",
      "[CV] rfc__criterion=gini, rfc__max_depth=None, rfc__min_samples_leaf=10, rfc__min_samples_split=10, rfc__n_estimators=200 \n",
      "[CV]  rfc__criterion=gini, rfc__max_depth=None, rfc__min_samples_leaf=10, rfc__min_samples_split=10, rfc__n_estimators=200, score=0.745, total=  28.0s\n",
      "[CV] rfc__criterion=gini, rfc__max_depth=None, rfc__min_samples_leaf=10, rfc__min_samples_split=10, rfc__n_estimators=200 \n",
      "[CV]  rfc__criterion=gini, rfc__max_depth=None, rfc__min_samples_leaf=10, rfc__min_samples_split=10, rfc__n_estimators=200, score=0.742, total=  27.2s\n",
      "[CV] rfc__criterion=gini, rfc__max_depth=50, rfc__min_samples_leaf=1, rfc__min_samples_split=2, rfc__n_estimators=100 \n",
      "[CV]  rfc__criterion=gini, rfc__max_depth=50, rfc__min_samples_leaf=1, rfc__min_samples_split=2, rfc__n_estimators=100, score=0.787, total=  23.7s\n",
      "[CV] rfc__criterion=gini, rfc__max_depth=50, rfc__min_samples_leaf=1, rfc__min_samples_split=2, rfc__n_estimators=100 \n",
      "[CV]  rfc__criterion=gini, rfc__max_depth=50, rfc__min_samples_leaf=1, rfc__min_samples_split=2, rfc__n_estimators=100, score=0.785, total=  23.5s\n",
      "[CV] rfc__criterion=gini, rfc__max_depth=50, rfc__min_samples_leaf=1, rfc__min_samples_split=2, rfc__n_estimators=100 \n",
      "[CV]  rfc__criterion=gini, rfc__max_depth=50, rfc__min_samples_leaf=1, rfc__min_samples_split=2, rfc__n_estimators=100, score=0.788, total=  23.7s\n",
      "[CV] rfc__criterion=gini, rfc__max_depth=50, rfc__min_samples_leaf=1, rfc__min_samples_split=2, rfc__n_estimators=100 \n",
      "[CV]  rfc__criterion=gini, rfc__max_depth=50, rfc__min_samples_leaf=1, rfc__min_samples_split=2, rfc__n_estimators=100, score=0.784, total=  24.2s\n",
      "[CV] rfc__criterion=gini, rfc__max_depth=50, rfc__min_samples_leaf=1, rfc__min_samples_split=2, rfc__n_estimators=100 \n"
     ]
    },
    {
     "name": "stdout",
     "output_type": "stream",
     "text": [
      "[CV]  rfc__criterion=gini, rfc__max_depth=50, rfc__min_samples_leaf=1, rfc__min_samples_split=2, rfc__n_estimators=100, score=0.783, total=  24.0s\n",
      "[CV] rfc__criterion=gini, rfc__max_depth=50, rfc__min_samples_leaf=1, rfc__min_samples_split=2, rfc__n_estimators=200 \n",
      "[CV]  rfc__criterion=gini, rfc__max_depth=50, rfc__min_samples_leaf=1, rfc__min_samples_split=2, rfc__n_estimators=200, score=0.788, total=  46.9s\n",
      "[CV] rfc__criterion=gini, rfc__max_depth=50, rfc__min_samples_leaf=1, rfc__min_samples_split=2, rfc__n_estimators=200 \n",
      "[CV]  rfc__criterion=gini, rfc__max_depth=50, rfc__min_samples_leaf=1, rfc__min_samples_split=2, rfc__n_estimators=200, score=0.788, total=  46.6s\n",
      "[CV] rfc__criterion=gini, rfc__max_depth=50, rfc__min_samples_leaf=1, rfc__min_samples_split=2, rfc__n_estimators=200 \n",
      "[CV]  rfc__criterion=gini, rfc__max_depth=50, rfc__min_samples_leaf=1, rfc__min_samples_split=2, rfc__n_estimators=200, score=0.788, total=  47.3s\n",
      "[CV] rfc__criterion=gini, rfc__max_depth=50, rfc__min_samples_leaf=1, rfc__min_samples_split=2, rfc__n_estimators=200 \n",
      "[CV]  rfc__criterion=gini, rfc__max_depth=50, rfc__min_samples_leaf=1, rfc__min_samples_split=2, rfc__n_estimators=200, score=0.784, total=  47.4s\n",
      "[CV] rfc__criterion=gini, rfc__max_depth=50, rfc__min_samples_leaf=1, rfc__min_samples_split=2, rfc__n_estimators=200 \n",
      "[CV]  rfc__criterion=gini, rfc__max_depth=50, rfc__min_samples_leaf=1, rfc__min_samples_split=2, rfc__n_estimators=200, score=0.782, total=  44.7s\n",
      "[CV] rfc__criterion=gini, rfc__max_depth=50, rfc__min_samples_leaf=1, rfc__min_samples_split=5, rfc__n_estimators=100 \n",
      "[CV]  rfc__criterion=gini, rfc__max_depth=50, rfc__min_samples_leaf=1, rfc__min_samples_split=5, rfc__n_estimators=100, score=0.798, total=  21.2s\n",
      "[CV] rfc__criterion=gini, rfc__max_depth=50, rfc__min_samples_leaf=1, rfc__min_samples_split=5, rfc__n_estimators=100 \n",
      "[CV]  rfc__criterion=gini, rfc__max_depth=50, rfc__min_samples_leaf=1, rfc__min_samples_split=5, rfc__n_estimators=100, score=0.794, total=  21.2s\n",
      "[CV] rfc__criterion=gini, rfc__max_depth=50, rfc__min_samples_leaf=1, rfc__min_samples_split=5, rfc__n_estimators=100 \n",
      "[CV]  rfc__criterion=gini, rfc__max_depth=50, rfc__min_samples_leaf=1, rfc__min_samples_split=5, rfc__n_estimators=100, score=0.794, total=  21.0s\n",
      "[CV] rfc__criterion=gini, rfc__max_depth=50, rfc__min_samples_leaf=1, rfc__min_samples_split=5, rfc__n_estimators=100 \n",
      "[CV]  rfc__criterion=gini, rfc__max_depth=50, rfc__min_samples_leaf=1, rfc__min_samples_split=5, rfc__n_estimators=100, score=0.793, total=  21.7s\n",
      "[CV] rfc__criterion=gini, rfc__max_depth=50, rfc__min_samples_leaf=1, rfc__min_samples_split=5, rfc__n_estimators=100 \n",
      "[CV]  rfc__criterion=gini, rfc__max_depth=50, rfc__min_samples_leaf=1, rfc__min_samples_split=5, rfc__n_estimators=100, score=0.790, total=  21.0s\n",
      "[CV] rfc__criterion=gini, rfc__max_depth=50, rfc__min_samples_leaf=1, rfc__min_samples_split=5, rfc__n_estimators=200 \n",
      "[CV]  rfc__criterion=gini, rfc__max_depth=50, rfc__min_samples_leaf=1, rfc__min_samples_split=5, rfc__n_estimators=200, score=0.798, total=  41.9s\n",
      "[CV] rfc__criterion=gini, rfc__max_depth=50, rfc__min_samples_leaf=1, rfc__min_samples_split=5, rfc__n_estimators=200 \n",
      "[CV]  rfc__criterion=gini, rfc__max_depth=50, rfc__min_samples_leaf=1, rfc__min_samples_split=5, rfc__n_estimators=200, score=0.796, total=  41.7s\n",
      "[CV] rfc__criterion=gini, rfc__max_depth=50, rfc__min_samples_leaf=1, rfc__min_samples_split=5, rfc__n_estimators=200 \n",
      "[CV]  rfc__criterion=gini, rfc__max_depth=50, rfc__min_samples_leaf=1, rfc__min_samples_split=5, rfc__n_estimators=200, score=0.792, total=  41.2s\n",
      "[CV] rfc__criterion=gini, rfc__max_depth=50, rfc__min_samples_leaf=1, rfc__min_samples_split=5, rfc__n_estimators=200 \n",
      "[CV]  rfc__criterion=gini, rfc__max_depth=50, rfc__min_samples_leaf=1, rfc__min_samples_split=5, rfc__n_estimators=200, score=0.796, total=  42.6s\n",
      "[CV] rfc__criterion=gini, rfc__max_depth=50, rfc__min_samples_leaf=1, rfc__min_samples_split=5, rfc__n_estimators=200 \n",
      "[CV]  rfc__criterion=gini, rfc__max_depth=50, rfc__min_samples_leaf=1, rfc__min_samples_split=5, rfc__n_estimators=200, score=0.788, total=  41.2s\n",
      "[CV] rfc__criterion=gini, rfc__max_depth=50, rfc__min_samples_leaf=1, rfc__min_samples_split=10, rfc__n_estimators=100 \n",
      "[CV]  rfc__criterion=gini, rfc__max_depth=50, rfc__min_samples_leaf=1, rfc__min_samples_split=10, rfc__n_estimators=100, score=0.801, total=  20.1s\n",
      "[CV] rfc__criterion=gini, rfc__max_depth=50, rfc__min_samples_leaf=1, rfc__min_samples_split=10, rfc__n_estimators=100 \n",
      "[CV]  rfc__criterion=gini, rfc__max_depth=50, rfc__min_samples_leaf=1, rfc__min_samples_split=10, rfc__n_estimators=100, score=0.795, total=  20.0s\n",
      "[CV] rfc__criterion=gini, rfc__max_depth=50, rfc__min_samples_leaf=1, rfc__min_samples_split=10, rfc__n_estimators=100 \n",
      "[CV]  rfc__criterion=gini, rfc__max_depth=50, rfc__min_samples_leaf=1, rfc__min_samples_split=10, rfc__n_estimators=100, score=0.794, total=  19.8s\n",
      "[CV] rfc__criterion=gini, rfc__max_depth=50, rfc__min_samples_leaf=1, rfc__min_samples_split=10, rfc__n_estimators=100 \n",
      "[CV]  rfc__criterion=gini, rfc__max_depth=50, rfc__min_samples_leaf=1, rfc__min_samples_split=10, rfc__n_estimators=100, score=0.793, total=  20.4s\n",
      "[CV] rfc__criterion=gini, rfc__max_depth=50, rfc__min_samples_leaf=1, rfc__min_samples_split=10, rfc__n_estimators=100 \n",
      "[CV]  rfc__criterion=gini, rfc__max_depth=50, rfc__min_samples_leaf=1, rfc__min_samples_split=10, rfc__n_estimators=100, score=0.789, total=  19.9s\n",
      "[CV] rfc__criterion=gini, rfc__max_depth=50, rfc__min_samples_leaf=1, rfc__min_samples_split=10, rfc__n_estimators=200 \n",
      "[CV]  rfc__criterion=gini, rfc__max_depth=50, rfc__min_samples_leaf=1, rfc__min_samples_split=10, rfc__n_estimators=200, score=0.802, total=  39.1s\n",
      "[CV] rfc__criterion=gini, rfc__max_depth=50, rfc__min_samples_leaf=1, rfc__min_samples_split=10, rfc__n_estimators=200 \n",
      "[CV]  rfc__criterion=gini, rfc__max_depth=50, rfc__min_samples_leaf=1, rfc__min_samples_split=10, rfc__n_estimators=200, score=0.795, total=  39.1s\n",
      "[CV] rfc__criterion=gini, rfc__max_depth=50, rfc__min_samples_leaf=1, rfc__min_samples_split=10, rfc__n_estimators=200 \n",
      "[CV]  rfc__criterion=gini, rfc__max_depth=50, rfc__min_samples_leaf=1, rfc__min_samples_split=10, rfc__n_estimators=200, score=0.796, total=  39.0s\n",
      "[CV] rfc__criterion=gini, rfc__max_depth=50, rfc__min_samples_leaf=1, rfc__min_samples_split=10, rfc__n_estimators=200 \n",
      "[CV]  rfc__criterion=gini, rfc__max_depth=50, rfc__min_samples_leaf=1, rfc__min_samples_split=10, rfc__n_estimators=200, score=0.797, total=  40.0s\n",
      "[CV] rfc__criterion=gini, rfc__max_depth=50, rfc__min_samples_leaf=1, rfc__min_samples_split=10, rfc__n_estimators=200 \n",
      "[CV]  rfc__criterion=gini, rfc__max_depth=50, rfc__min_samples_leaf=1, rfc__min_samples_split=10, rfc__n_estimators=200, score=0.790, total=  39.9s\n",
      "[CV] rfc__criterion=gini, rfc__max_depth=50, rfc__min_samples_leaf=10, rfc__min_samples_split=2, rfc__n_estimators=100 \n",
      "[CV]  rfc__criterion=gini, rfc__max_depth=50, rfc__min_samples_leaf=10, rfc__min_samples_split=2, rfc__n_estimators=100, score=0.757, total=  14.0s\n",
      "[CV] rfc__criterion=gini, rfc__max_depth=50, rfc__min_samples_leaf=10, rfc__min_samples_split=2, rfc__n_estimators=100 \n",
      "[CV]  rfc__criterion=gini, rfc__max_depth=50, rfc__min_samples_leaf=10, rfc__min_samples_split=2, rfc__n_estimators=100, score=0.744, total=  14.1s\n",
      "[CV] rfc__criterion=gini, rfc__max_depth=50, rfc__min_samples_leaf=10, rfc__min_samples_split=2, rfc__n_estimators=100 \n",
      "[CV]  rfc__criterion=gini, rfc__max_depth=50, rfc__min_samples_leaf=10, rfc__min_samples_split=2, rfc__n_estimators=100, score=0.744, total=  14.0s\n",
      "[CV] rfc__criterion=gini, rfc__max_depth=50, rfc__min_samples_leaf=10, rfc__min_samples_split=2, rfc__n_estimators=100 \n",
      "[CV]  rfc__criterion=gini, rfc__max_depth=50, rfc__min_samples_leaf=10, rfc__min_samples_split=2, rfc__n_estimators=100, score=0.743, total=  14.2s\n",
      "[CV] rfc__criterion=gini, rfc__max_depth=50, rfc__min_samples_leaf=10, rfc__min_samples_split=2, rfc__n_estimators=100 \n",
      "[CV]  rfc__criterion=gini, rfc__max_depth=50, rfc__min_samples_leaf=10, rfc__min_samples_split=2, rfc__n_estimators=100, score=0.743, total=  13.8s\n",
      "[CV] rfc__criterion=gini, rfc__max_depth=50, rfc__min_samples_leaf=10, rfc__min_samples_split=2, rfc__n_estimators=200 \n"
     ]
    },
    {
     "name": "stdout",
     "output_type": "stream",
     "text": [
      "[CV]  rfc__criterion=gini, rfc__max_depth=50, rfc__min_samples_leaf=10, rfc__min_samples_split=2, rfc__n_estimators=200, score=0.756, total=  27.0s\n",
      "[CV] rfc__criterion=gini, rfc__max_depth=50, rfc__min_samples_leaf=10, rfc__min_samples_split=2, rfc__n_estimators=200 \n",
      "[CV]  rfc__criterion=gini, rfc__max_depth=50, rfc__min_samples_leaf=10, rfc__min_samples_split=2, rfc__n_estimators=200, score=0.744, total=  27.1s\n",
      "[CV] rfc__criterion=gini, rfc__max_depth=50, rfc__min_samples_leaf=10, rfc__min_samples_split=2, rfc__n_estimators=200 \n",
      "[CV]  rfc__criterion=gini, rfc__max_depth=50, rfc__min_samples_leaf=10, rfc__min_samples_split=2, rfc__n_estimators=200, score=0.743, total=  27.1s\n",
      "[CV] rfc__criterion=gini, rfc__max_depth=50, rfc__min_samples_leaf=10, rfc__min_samples_split=2, rfc__n_estimators=200 \n",
      "[CV]  rfc__criterion=gini, rfc__max_depth=50, rfc__min_samples_leaf=10, rfc__min_samples_split=2, rfc__n_estimators=200, score=0.745, total=  28.2s\n",
      "[CV] rfc__criterion=gini, rfc__max_depth=50, rfc__min_samples_leaf=10, rfc__min_samples_split=2, rfc__n_estimators=200 \n",
      "[CV]  rfc__criterion=gini, rfc__max_depth=50, rfc__min_samples_leaf=10, rfc__min_samples_split=2, rfc__n_estimators=200, score=0.743, total=  26.7s\n",
      "[CV] rfc__criterion=gini, rfc__max_depth=50, rfc__min_samples_leaf=10, rfc__min_samples_split=5, rfc__n_estimators=100 \n",
      "[CV]  rfc__criterion=gini, rfc__max_depth=50, rfc__min_samples_leaf=10, rfc__min_samples_split=5, rfc__n_estimators=100, score=0.757, total=  13.8s\n",
      "[CV] rfc__criterion=gini, rfc__max_depth=50, rfc__min_samples_leaf=10, rfc__min_samples_split=5, rfc__n_estimators=100 \n",
      "[CV]  rfc__criterion=gini, rfc__max_depth=50, rfc__min_samples_leaf=10, rfc__min_samples_split=5, rfc__n_estimators=100, score=0.744, total=  14.1s\n",
      "[CV] rfc__criterion=gini, rfc__max_depth=50, rfc__min_samples_leaf=10, rfc__min_samples_split=5, rfc__n_estimators=100 \n",
      "[CV]  rfc__criterion=gini, rfc__max_depth=50, rfc__min_samples_leaf=10, rfc__min_samples_split=5, rfc__n_estimators=100, score=0.744, total=  13.9s\n",
      "[CV] rfc__criterion=gini, rfc__max_depth=50, rfc__min_samples_leaf=10, rfc__min_samples_split=5, rfc__n_estimators=100 \n",
      "[CV]  rfc__criterion=gini, rfc__max_depth=50, rfc__min_samples_leaf=10, rfc__min_samples_split=5, rfc__n_estimators=100, score=0.743, total=  14.1s\n",
      "[CV] rfc__criterion=gini, rfc__max_depth=50, rfc__min_samples_leaf=10, rfc__min_samples_split=5, rfc__n_estimators=100 \n",
      "[CV]  rfc__criterion=gini, rfc__max_depth=50, rfc__min_samples_leaf=10, rfc__min_samples_split=5, rfc__n_estimators=100, score=0.743, total=  13.7s\n",
      "[CV] rfc__criterion=gini, rfc__max_depth=50, rfc__min_samples_leaf=10, rfc__min_samples_split=5, rfc__n_estimators=200 \n",
      "[CV]  rfc__criterion=gini, rfc__max_depth=50, rfc__min_samples_leaf=10, rfc__min_samples_split=5, rfc__n_estimators=200, score=0.756, total=  27.1s\n",
      "[CV] rfc__criterion=gini, rfc__max_depth=50, rfc__min_samples_leaf=10, rfc__min_samples_split=5, rfc__n_estimators=200 \n",
      "[CV]  rfc__criterion=gini, rfc__max_depth=50, rfc__min_samples_leaf=10, rfc__min_samples_split=5, rfc__n_estimators=200, score=0.744, total=  27.2s\n",
      "[CV] rfc__criterion=gini, rfc__max_depth=50, rfc__min_samples_leaf=10, rfc__min_samples_split=5, rfc__n_estimators=200 \n",
      "[CV]  rfc__criterion=gini, rfc__max_depth=50, rfc__min_samples_leaf=10, rfc__min_samples_split=5, rfc__n_estimators=200, score=0.743, total=  27.1s\n",
      "[CV] rfc__criterion=gini, rfc__max_depth=50, rfc__min_samples_leaf=10, rfc__min_samples_split=5, rfc__n_estimators=200 \n",
      "[CV]  rfc__criterion=gini, rfc__max_depth=50, rfc__min_samples_leaf=10, rfc__min_samples_split=5, rfc__n_estimators=200, score=0.745, total=  28.8s\n",
      "[CV] rfc__criterion=gini, rfc__max_depth=50, rfc__min_samples_leaf=10, rfc__min_samples_split=5, rfc__n_estimators=200 \n",
      "[CV]  rfc__criterion=gini, rfc__max_depth=50, rfc__min_samples_leaf=10, rfc__min_samples_split=5, rfc__n_estimators=200, score=0.743, total=  29.3s\n",
      "[CV] rfc__criterion=gini, rfc__max_depth=50, rfc__min_samples_leaf=10, rfc__min_samples_split=10, rfc__n_estimators=100 \n",
      "[CV]  rfc__criterion=gini, rfc__max_depth=50, rfc__min_samples_leaf=10, rfc__min_samples_split=10, rfc__n_estimators=100, score=0.757, total=  15.3s\n",
      "[CV] rfc__criterion=gini, rfc__max_depth=50, rfc__min_samples_leaf=10, rfc__min_samples_split=10, rfc__n_estimators=100 \n",
      "[CV]  rfc__criterion=gini, rfc__max_depth=50, rfc__min_samples_leaf=10, rfc__min_samples_split=10, rfc__n_estimators=100, score=0.744, total=  14.9s\n",
      "[CV] rfc__criterion=gini, rfc__max_depth=50, rfc__min_samples_leaf=10, rfc__min_samples_split=10, rfc__n_estimators=100 \n",
      "[CV]  rfc__criterion=gini, rfc__max_depth=50, rfc__min_samples_leaf=10, rfc__min_samples_split=10, rfc__n_estimators=100, score=0.744, total=  15.2s\n",
      "[CV] rfc__criterion=gini, rfc__max_depth=50, rfc__min_samples_leaf=10, rfc__min_samples_split=10, rfc__n_estimators=100 \n",
      "[CV]  rfc__criterion=gini, rfc__max_depth=50, rfc__min_samples_leaf=10, rfc__min_samples_split=10, rfc__n_estimators=100, score=0.743, total=  15.4s\n",
      "[CV] rfc__criterion=gini, rfc__max_depth=50, rfc__min_samples_leaf=10, rfc__min_samples_split=10, rfc__n_estimators=100 \n",
      "[CV]  rfc__criterion=gini, rfc__max_depth=50, rfc__min_samples_leaf=10, rfc__min_samples_split=10, rfc__n_estimators=100, score=0.743, total=  15.1s\n",
      "[CV] rfc__criterion=gini, rfc__max_depth=50, rfc__min_samples_leaf=10, rfc__min_samples_split=10, rfc__n_estimators=200 \n",
      "[CV]  rfc__criterion=gini, rfc__max_depth=50, rfc__min_samples_leaf=10, rfc__min_samples_split=10, rfc__n_estimators=200, score=0.756, total=  28.8s\n",
      "[CV] rfc__criterion=gini, rfc__max_depth=50, rfc__min_samples_leaf=10, rfc__min_samples_split=10, rfc__n_estimators=200 \n",
      "[CV]  rfc__criterion=gini, rfc__max_depth=50, rfc__min_samples_leaf=10, rfc__min_samples_split=10, rfc__n_estimators=200, score=0.744, total=  28.8s\n",
      "[CV] rfc__criterion=gini, rfc__max_depth=50, rfc__min_samples_leaf=10, rfc__min_samples_split=10, rfc__n_estimators=200 \n",
      "[CV]  rfc__criterion=gini, rfc__max_depth=50, rfc__min_samples_leaf=10, rfc__min_samples_split=10, rfc__n_estimators=200, score=0.743, total=  27.9s\n",
      "[CV] rfc__criterion=gini, rfc__max_depth=50, rfc__min_samples_leaf=10, rfc__min_samples_split=10, rfc__n_estimators=200 \n",
      "[CV]  rfc__criterion=gini, rfc__max_depth=50, rfc__min_samples_leaf=10, rfc__min_samples_split=10, rfc__n_estimators=200, score=0.745, total=  29.8s\n",
      "[CV] rfc__criterion=gini, rfc__max_depth=50, rfc__min_samples_leaf=10, rfc__min_samples_split=10, rfc__n_estimators=200 \n",
      "[CV]  rfc__criterion=gini, rfc__max_depth=50, rfc__min_samples_leaf=10, rfc__min_samples_split=10, rfc__n_estimators=200, score=0.743, total=  31.5s\n",
      "[CV] rfc__criterion=gini, rfc__max_depth=100, rfc__min_samples_leaf=1, rfc__min_samples_split=2, rfc__n_estimators=100 \n",
      "[CV]  rfc__criterion=gini, rfc__max_depth=100, rfc__min_samples_leaf=1, rfc__min_samples_split=2, rfc__n_estimators=100, score=0.786, total=  26.8s\n",
      "[CV] rfc__criterion=gini, rfc__max_depth=100, rfc__min_samples_leaf=1, rfc__min_samples_split=2, rfc__n_estimators=100 \n",
      "[CV]  rfc__criterion=gini, rfc__max_depth=100, rfc__min_samples_leaf=1, rfc__min_samples_split=2, rfc__n_estimators=100, score=0.784, total=  26.9s\n",
      "[CV] rfc__criterion=gini, rfc__max_depth=100, rfc__min_samples_leaf=1, rfc__min_samples_split=2, rfc__n_estimators=100 \n",
      "[CV]  rfc__criterion=gini, rfc__max_depth=100, rfc__min_samples_leaf=1, rfc__min_samples_split=2, rfc__n_estimators=100, score=0.786, total=  26.7s\n",
      "[CV] rfc__criterion=gini, rfc__max_depth=100, rfc__min_samples_leaf=1, rfc__min_samples_split=2, rfc__n_estimators=100 \n",
      "[CV]  rfc__criterion=gini, rfc__max_depth=100, rfc__min_samples_leaf=1, rfc__min_samples_split=2, rfc__n_estimators=100, score=0.783, total=  25.3s\n",
      "[CV] rfc__criterion=gini, rfc__max_depth=100, rfc__min_samples_leaf=1, rfc__min_samples_split=2, rfc__n_estimators=100 \n",
      "[CV]  rfc__criterion=gini, rfc__max_depth=100, rfc__min_samples_leaf=1, rfc__min_samples_split=2, rfc__n_estimators=100, score=0.781, total=  25.1s\n",
      "[CV] rfc__criterion=gini, rfc__max_depth=100, rfc__min_samples_leaf=1, rfc__min_samples_split=2, rfc__n_estimators=200 \n",
      "[CV]  rfc__criterion=gini, rfc__max_depth=100, rfc__min_samples_leaf=1, rfc__min_samples_split=2, rfc__n_estimators=200, score=0.786, total=  50.5s\n",
      "[CV] rfc__criterion=gini, rfc__max_depth=100, rfc__min_samples_leaf=1, rfc__min_samples_split=2, rfc__n_estimators=200 \n"
     ]
    },
    {
     "name": "stdout",
     "output_type": "stream",
     "text": [
      "[CV]  rfc__criterion=gini, rfc__max_depth=100, rfc__min_samples_leaf=1, rfc__min_samples_split=2, rfc__n_estimators=200, score=0.785, total=  50.4s\n",
      "[CV] rfc__criterion=gini, rfc__max_depth=100, rfc__min_samples_leaf=1, rfc__min_samples_split=2, rfc__n_estimators=200 \n",
      "[CV]  rfc__criterion=gini, rfc__max_depth=100, rfc__min_samples_leaf=1, rfc__min_samples_split=2, rfc__n_estimators=200, score=0.784, total=  49.6s\n",
      "[CV] rfc__criterion=gini, rfc__max_depth=100, rfc__min_samples_leaf=1, rfc__min_samples_split=2, rfc__n_estimators=200 \n",
      "[CV]  rfc__criterion=gini, rfc__max_depth=100, rfc__min_samples_leaf=1, rfc__min_samples_split=2, rfc__n_estimators=200, score=0.784, total=  51.7s\n",
      "[CV] rfc__criterion=gini, rfc__max_depth=100, rfc__min_samples_leaf=1, rfc__min_samples_split=2, rfc__n_estimators=200 \n",
      "[CV]  rfc__criterion=gini, rfc__max_depth=100, rfc__min_samples_leaf=1, rfc__min_samples_split=2, rfc__n_estimators=200, score=0.782, total=  50.3s\n",
      "[CV] rfc__criterion=gini, rfc__max_depth=100, rfc__min_samples_leaf=1, rfc__min_samples_split=5, rfc__n_estimators=100 \n",
      "[CV]  rfc__criterion=gini, rfc__max_depth=100, rfc__min_samples_leaf=1, rfc__min_samples_split=5, rfc__n_estimators=100, score=0.796, total=  24.0s\n",
      "[CV] rfc__criterion=gini, rfc__max_depth=100, rfc__min_samples_leaf=1, rfc__min_samples_split=5, rfc__n_estimators=100 \n",
      "[CV]  rfc__criterion=gini, rfc__max_depth=100, rfc__min_samples_leaf=1, rfc__min_samples_split=5, rfc__n_estimators=100, score=0.790, total=  22.2s\n",
      "[CV] rfc__criterion=gini, rfc__max_depth=100, rfc__min_samples_leaf=1, rfc__min_samples_split=5, rfc__n_estimators=100 \n",
      "[CV]  rfc__criterion=gini, rfc__max_depth=100, rfc__min_samples_leaf=1, rfc__min_samples_split=5, rfc__n_estimators=100, score=0.794, total=  21.7s\n",
      "[CV] rfc__criterion=gini, rfc__max_depth=100, rfc__min_samples_leaf=1, rfc__min_samples_split=5, rfc__n_estimators=100 \n",
      "[CV]  rfc__criterion=gini, rfc__max_depth=100, rfc__min_samples_leaf=1, rfc__min_samples_split=5, rfc__n_estimators=100, score=0.791, total=  22.0s\n",
      "[CV] rfc__criterion=gini, rfc__max_depth=100, rfc__min_samples_leaf=1, rfc__min_samples_split=5, rfc__n_estimators=100 \n",
      "[CV]  rfc__criterion=gini, rfc__max_depth=100, rfc__min_samples_leaf=1, rfc__min_samples_split=5, rfc__n_estimators=100, score=0.786, total=  23.5s\n",
      "[CV] rfc__criterion=gini, rfc__max_depth=100, rfc__min_samples_leaf=1, rfc__min_samples_split=5, rfc__n_estimators=200 \n",
      "[CV]  rfc__criterion=gini, rfc__max_depth=100, rfc__min_samples_leaf=1, rfc__min_samples_split=5, rfc__n_estimators=200, score=0.796, total=  45.4s\n",
      "[CV] rfc__criterion=gini, rfc__max_depth=100, rfc__min_samples_leaf=1, rfc__min_samples_split=5, rfc__n_estimators=200 \n",
      "[CV]  rfc__criterion=gini, rfc__max_depth=100, rfc__min_samples_leaf=1, rfc__min_samples_split=5, rfc__n_estimators=200, score=0.792, total=  46.9s\n",
      "[CV] rfc__criterion=gini, rfc__max_depth=100, rfc__min_samples_leaf=1, rfc__min_samples_split=5, rfc__n_estimators=200 \n",
      "[CV]  rfc__criterion=gini, rfc__max_depth=100, rfc__min_samples_leaf=1, rfc__min_samples_split=5, rfc__n_estimators=200, score=0.792, total=  45.7s\n",
      "[CV] rfc__criterion=gini, rfc__max_depth=100, rfc__min_samples_leaf=1, rfc__min_samples_split=5, rfc__n_estimators=200 \n",
      "[CV]  rfc__criterion=gini, rfc__max_depth=100, rfc__min_samples_leaf=1, rfc__min_samples_split=5, rfc__n_estimators=200, score=0.792, total=  47.8s\n",
      "[CV] rfc__criterion=gini, rfc__max_depth=100, rfc__min_samples_leaf=1, rfc__min_samples_split=5, rfc__n_estimators=200 \n",
      "[CV]  rfc__criterion=gini, rfc__max_depth=100, rfc__min_samples_leaf=1, rfc__min_samples_split=5, rfc__n_estimators=200, score=0.786, total=  46.7s\n",
      "[CV] rfc__criterion=gini, rfc__max_depth=100, rfc__min_samples_leaf=1, rfc__min_samples_split=10, rfc__n_estimators=100 \n",
      "[CV]  rfc__criterion=gini, rfc__max_depth=100, rfc__min_samples_leaf=1, rfc__min_samples_split=10, rfc__n_estimators=100, score=0.800, total=  22.1s\n",
      "[CV] rfc__criterion=gini, rfc__max_depth=100, rfc__min_samples_leaf=1, rfc__min_samples_split=10, rfc__n_estimators=100 \n",
      "[CV]  rfc__criterion=gini, rfc__max_depth=100, rfc__min_samples_leaf=1, rfc__min_samples_split=10, rfc__n_estimators=100, score=0.796, total=  22.3s\n",
      "[CV] rfc__criterion=gini, rfc__max_depth=100, rfc__min_samples_leaf=1, rfc__min_samples_split=10, rfc__n_estimators=100 \n",
      "[CV]  rfc__criterion=gini, rfc__max_depth=100, rfc__min_samples_leaf=1, rfc__min_samples_split=10, rfc__n_estimators=100, score=0.794, total=  22.6s\n",
      "[CV] rfc__criterion=gini, rfc__max_depth=100, rfc__min_samples_leaf=1, rfc__min_samples_split=10, rfc__n_estimators=100 \n",
      "[CV]  rfc__criterion=gini, rfc__max_depth=100, rfc__min_samples_leaf=1, rfc__min_samples_split=10, rfc__n_estimators=100, score=0.793, total=  23.2s\n",
      "[CV] rfc__criterion=gini, rfc__max_depth=100, rfc__min_samples_leaf=1, rfc__min_samples_split=10, rfc__n_estimators=100 \n",
      "[CV]  rfc__criterion=gini, rfc__max_depth=100, rfc__min_samples_leaf=1, rfc__min_samples_split=10, rfc__n_estimators=100, score=0.788, total=  21.8s\n",
      "[CV] rfc__criterion=gini, rfc__max_depth=100, rfc__min_samples_leaf=1, rfc__min_samples_split=10, rfc__n_estimators=200 \n",
      "[CV]  rfc__criterion=gini, rfc__max_depth=100, rfc__min_samples_leaf=1, rfc__min_samples_split=10, rfc__n_estimators=200, score=0.801, total=  43.1s\n",
      "[CV] rfc__criterion=gini, rfc__max_depth=100, rfc__min_samples_leaf=1, rfc__min_samples_split=10, rfc__n_estimators=200 \n",
      "[CV]  rfc__criterion=gini, rfc__max_depth=100, rfc__min_samples_leaf=1, rfc__min_samples_split=10, rfc__n_estimators=200, score=0.797, total=  42.9s\n",
      "[CV] rfc__criterion=gini, rfc__max_depth=100, rfc__min_samples_leaf=1, rfc__min_samples_split=10, rfc__n_estimators=200 \n",
      "[CV]  rfc__criterion=gini, rfc__max_depth=100, rfc__min_samples_leaf=1, rfc__min_samples_split=10, rfc__n_estimators=200, score=0.794, total=  42.9s\n",
      "[CV] rfc__criterion=gini, rfc__max_depth=100, rfc__min_samples_leaf=1, rfc__min_samples_split=10, rfc__n_estimators=200 \n",
      "[CV]  rfc__criterion=gini, rfc__max_depth=100, rfc__min_samples_leaf=1, rfc__min_samples_split=10, rfc__n_estimators=200, score=0.794, total=  44.3s\n",
      "[CV] rfc__criterion=gini, rfc__max_depth=100, rfc__min_samples_leaf=1, rfc__min_samples_split=10, rfc__n_estimators=200 \n",
      "[CV]  rfc__criterion=gini, rfc__max_depth=100, rfc__min_samples_leaf=1, rfc__min_samples_split=10, rfc__n_estimators=200, score=0.789, total=  42.2s\n",
      "[CV] rfc__criterion=gini, rfc__max_depth=100, rfc__min_samples_leaf=10, rfc__min_samples_split=2, rfc__n_estimators=100 \n",
      "[CV]  rfc__criterion=gini, rfc__max_depth=100, rfc__min_samples_leaf=10, rfc__min_samples_split=2, rfc__n_estimators=100, score=0.756, total=  14.9s\n",
      "[CV] rfc__criterion=gini, rfc__max_depth=100, rfc__min_samples_leaf=10, rfc__min_samples_split=2, rfc__n_estimators=100 \n",
      "[CV]  rfc__criterion=gini, rfc__max_depth=100, rfc__min_samples_leaf=10, rfc__min_samples_split=2, rfc__n_estimators=100, score=0.745, total=  15.3s\n",
      "[CV] rfc__criterion=gini, rfc__max_depth=100, rfc__min_samples_leaf=10, rfc__min_samples_split=2, rfc__n_estimators=100 \n",
      "[CV]  rfc__criterion=gini, rfc__max_depth=100, rfc__min_samples_leaf=10, rfc__min_samples_split=2, rfc__n_estimators=100, score=0.744, total=  15.1s\n",
      "[CV] rfc__criterion=gini, rfc__max_depth=100, rfc__min_samples_leaf=10, rfc__min_samples_split=2, rfc__n_estimators=100 \n",
      "[CV]  rfc__criterion=gini, rfc__max_depth=100, rfc__min_samples_leaf=10, rfc__min_samples_split=2, rfc__n_estimators=100, score=0.743, total=  15.3s\n",
      "[CV] rfc__criterion=gini, rfc__max_depth=100, rfc__min_samples_leaf=10, rfc__min_samples_split=2, rfc__n_estimators=100 \n",
      "[CV]  rfc__criterion=gini, rfc__max_depth=100, rfc__min_samples_leaf=10, rfc__min_samples_split=2, rfc__n_estimators=100, score=0.743, total=  14.9s\n",
      "[CV] rfc__criterion=gini, rfc__max_depth=100, rfc__min_samples_leaf=10, rfc__min_samples_split=2, rfc__n_estimators=200 \n",
      "[CV]  rfc__criterion=gini, rfc__max_depth=100, rfc__min_samples_leaf=10, rfc__min_samples_split=2, rfc__n_estimators=200, score=0.756, total=  29.4s\n",
      "[CV] rfc__criterion=gini, rfc__max_depth=100, rfc__min_samples_leaf=10, rfc__min_samples_split=2, rfc__n_estimators=200 \n",
      "[CV]  rfc__criterion=gini, rfc__max_depth=100, rfc__min_samples_leaf=10, rfc__min_samples_split=2, rfc__n_estimators=200, score=0.744, total=  29.4s\n",
      "[CV] rfc__criterion=gini, rfc__max_depth=100, rfc__min_samples_leaf=10, rfc__min_samples_split=2, rfc__n_estimators=200 \n"
     ]
    },
    {
     "name": "stdout",
     "output_type": "stream",
     "text": [
      "[CV]  rfc__criterion=gini, rfc__max_depth=100, rfc__min_samples_leaf=10, rfc__min_samples_split=2, rfc__n_estimators=200, score=0.743, total=  29.2s\n",
      "[CV] rfc__criterion=gini, rfc__max_depth=100, rfc__min_samples_leaf=10, rfc__min_samples_split=2, rfc__n_estimators=200 \n",
      "[CV]  rfc__criterion=gini, rfc__max_depth=100, rfc__min_samples_leaf=10, rfc__min_samples_split=2, rfc__n_estimators=200, score=0.745, total=  30.2s\n",
      "[CV] rfc__criterion=gini, rfc__max_depth=100, rfc__min_samples_leaf=10, rfc__min_samples_split=2, rfc__n_estimators=200 \n",
      "[CV]  rfc__criterion=gini, rfc__max_depth=100, rfc__min_samples_leaf=10, rfc__min_samples_split=2, rfc__n_estimators=200, score=0.742, total=  29.1s\n",
      "[CV] rfc__criterion=gini, rfc__max_depth=100, rfc__min_samples_leaf=10, rfc__min_samples_split=5, rfc__n_estimators=100 \n",
      "[CV]  rfc__criterion=gini, rfc__max_depth=100, rfc__min_samples_leaf=10, rfc__min_samples_split=5, rfc__n_estimators=100, score=0.756, total=  15.0s\n",
      "[CV] rfc__criterion=gini, rfc__max_depth=100, rfc__min_samples_leaf=10, rfc__min_samples_split=5, rfc__n_estimators=100 \n",
      "[CV]  rfc__criterion=gini, rfc__max_depth=100, rfc__min_samples_leaf=10, rfc__min_samples_split=5, rfc__n_estimators=100, score=0.745, total=  15.3s\n",
      "[CV] rfc__criterion=gini, rfc__max_depth=100, rfc__min_samples_leaf=10, rfc__min_samples_split=5, rfc__n_estimators=100 \n",
      "[CV]  rfc__criterion=gini, rfc__max_depth=100, rfc__min_samples_leaf=10, rfc__min_samples_split=5, rfc__n_estimators=100, score=0.744, total=  15.0s\n",
      "[CV] rfc__criterion=gini, rfc__max_depth=100, rfc__min_samples_leaf=10, rfc__min_samples_split=5, rfc__n_estimators=100 \n",
      "[CV]  rfc__criterion=gini, rfc__max_depth=100, rfc__min_samples_leaf=10, rfc__min_samples_split=5, rfc__n_estimators=100, score=0.743, total=  15.3s\n",
      "[CV] rfc__criterion=gini, rfc__max_depth=100, rfc__min_samples_leaf=10, rfc__min_samples_split=5, rfc__n_estimators=100 \n",
      "[CV]  rfc__criterion=gini, rfc__max_depth=100, rfc__min_samples_leaf=10, rfc__min_samples_split=5, rfc__n_estimators=100, score=0.743, total=  15.0s\n",
      "[CV] rfc__criterion=gini, rfc__max_depth=100, rfc__min_samples_leaf=10, rfc__min_samples_split=5, rfc__n_estimators=200 \n",
      "[CV]  rfc__criterion=gini, rfc__max_depth=100, rfc__min_samples_leaf=10, rfc__min_samples_split=5, rfc__n_estimators=200, score=0.756, total=  28.9s\n",
      "[CV] rfc__criterion=gini, rfc__max_depth=100, rfc__min_samples_leaf=10, rfc__min_samples_split=5, rfc__n_estimators=200 \n",
      "[CV]  rfc__criterion=gini, rfc__max_depth=100, rfc__min_samples_leaf=10, rfc__min_samples_split=5, rfc__n_estimators=200, score=0.744, total=  29.1s\n",
      "[CV] rfc__criterion=gini, rfc__max_depth=100, rfc__min_samples_leaf=10, rfc__min_samples_split=5, rfc__n_estimators=200 \n",
      "[CV]  rfc__criterion=gini, rfc__max_depth=100, rfc__min_samples_leaf=10, rfc__min_samples_split=5, rfc__n_estimators=200, score=0.743, total=  29.3s\n",
      "[CV] rfc__criterion=gini, rfc__max_depth=100, rfc__min_samples_leaf=10, rfc__min_samples_split=5, rfc__n_estimators=200 \n",
      "[CV]  rfc__criterion=gini, rfc__max_depth=100, rfc__min_samples_leaf=10, rfc__min_samples_split=5, rfc__n_estimators=200, score=0.745, total=  30.1s\n",
      "[CV] rfc__criterion=gini, rfc__max_depth=100, rfc__min_samples_leaf=10, rfc__min_samples_split=5, rfc__n_estimators=200 \n",
      "[CV]  rfc__criterion=gini, rfc__max_depth=100, rfc__min_samples_leaf=10, rfc__min_samples_split=5, rfc__n_estimators=200, score=0.742, total=  29.0s\n",
      "[CV] rfc__criterion=gini, rfc__max_depth=100, rfc__min_samples_leaf=10, rfc__min_samples_split=10, rfc__n_estimators=100 \n",
      "[CV]  rfc__criterion=gini, rfc__max_depth=100, rfc__min_samples_leaf=10, rfc__min_samples_split=10, rfc__n_estimators=100, score=0.756, total=  15.0s\n",
      "[CV] rfc__criterion=gini, rfc__max_depth=100, rfc__min_samples_leaf=10, rfc__min_samples_split=10, rfc__n_estimators=100 \n",
      "[CV]  rfc__criterion=gini, rfc__max_depth=100, rfc__min_samples_leaf=10, rfc__min_samples_split=10, rfc__n_estimators=100, score=0.745, total=  15.2s\n",
      "[CV] rfc__criterion=gini, rfc__max_depth=100, rfc__min_samples_leaf=10, rfc__min_samples_split=10, rfc__n_estimators=100 \n",
      "[CV]  rfc__criterion=gini, rfc__max_depth=100, rfc__min_samples_leaf=10, rfc__min_samples_split=10, rfc__n_estimators=100, score=0.744, total=  15.0s\n",
      "[CV] rfc__criterion=gini, rfc__max_depth=100, rfc__min_samples_leaf=10, rfc__min_samples_split=10, rfc__n_estimators=100 \n",
      "[CV]  rfc__criterion=gini, rfc__max_depth=100, rfc__min_samples_leaf=10, rfc__min_samples_split=10, rfc__n_estimators=100, score=0.743, total=  15.5s\n",
      "[CV] rfc__criterion=gini, rfc__max_depth=100, rfc__min_samples_leaf=10, rfc__min_samples_split=10, rfc__n_estimators=100 \n",
      "[CV]  rfc__criterion=gini, rfc__max_depth=100, rfc__min_samples_leaf=10, rfc__min_samples_split=10, rfc__n_estimators=100, score=0.743, total=  15.0s\n",
      "[CV] rfc__criterion=gini, rfc__max_depth=100, rfc__min_samples_leaf=10, rfc__min_samples_split=10, rfc__n_estimators=200 \n",
      "[CV]  rfc__criterion=gini, rfc__max_depth=100, rfc__min_samples_leaf=10, rfc__min_samples_split=10, rfc__n_estimators=200, score=0.756, total=  29.5s\n",
      "[CV] rfc__criterion=gini, rfc__max_depth=100, rfc__min_samples_leaf=10, rfc__min_samples_split=10, rfc__n_estimators=200 \n",
      "[CV]  rfc__criterion=gini, rfc__max_depth=100, rfc__min_samples_leaf=10, rfc__min_samples_split=10, rfc__n_estimators=200, score=0.744, total=  29.4s\n",
      "[CV] rfc__criterion=gini, rfc__max_depth=100, rfc__min_samples_leaf=10, rfc__min_samples_split=10, rfc__n_estimators=200 \n",
      "[CV]  rfc__criterion=gini, rfc__max_depth=100, rfc__min_samples_leaf=10, rfc__min_samples_split=10, rfc__n_estimators=200, score=0.743, total=  29.3s\n",
      "[CV] rfc__criterion=gini, rfc__max_depth=100, rfc__min_samples_leaf=10, rfc__min_samples_split=10, rfc__n_estimators=200 \n",
      "[CV]  rfc__criterion=gini, rfc__max_depth=100, rfc__min_samples_leaf=10, rfc__min_samples_split=10, rfc__n_estimators=200, score=0.745, total=  30.2s\n",
      "[CV] rfc__criterion=gini, rfc__max_depth=100, rfc__min_samples_leaf=10, rfc__min_samples_split=10, rfc__n_estimators=200 \n",
      "[CV]  rfc__criterion=gini, rfc__max_depth=100, rfc__min_samples_leaf=10, rfc__min_samples_split=10, rfc__n_estimators=200, score=0.742, total=  29.2s\n",
      "[CV] rfc__criterion=entropy, rfc__max_depth=None, rfc__min_samples_leaf=1, rfc__min_samples_split=2, rfc__n_estimators=100 \n",
      "[CV]  rfc__criterion=entropy, rfc__max_depth=None, rfc__min_samples_leaf=1, rfc__min_samples_split=2, rfc__n_estimators=100, score=0.787, total=  25.5s\n",
      "[CV] rfc__criterion=entropy, rfc__max_depth=None, rfc__min_samples_leaf=1, rfc__min_samples_split=2, rfc__n_estimators=100 \n",
      "[CV]  rfc__criterion=entropy, rfc__max_depth=None, rfc__min_samples_leaf=1, rfc__min_samples_split=2, rfc__n_estimators=100, score=0.784, total=  25.0s\n",
      "[CV] rfc__criterion=entropy, rfc__max_depth=None, rfc__min_samples_leaf=1, rfc__min_samples_split=2, rfc__n_estimators=100 \n",
      "[CV]  rfc__criterion=entropy, rfc__max_depth=None, rfc__min_samples_leaf=1, rfc__min_samples_split=2, rfc__n_estimators=100, score=0.784, total=  25.1s\n",
      "[CV] rfc__criterion=entropy, rfc__max_depth=None, rfc__min_samples_leaf=1, rfc__min_samples_split=2, rfc__n_estimators=100 \n",
      "[CV]  rfc__criterion=entropy, rfc__max_depth=None, rfc__min_samples_leaf=1, rfc__min_samples_split=2, rfc__n_estimators=100, score=0.782, total=  25.6s\n",
      "[CV] rfc__criterion=entropy, rfc__max_depth=None, rfc__min_samples_leaf=1, rfc__min_samples_split=2, rfc__n_estimators=100 \n",
      "[CV]  rfc__criterion=entropy, rfc__max_depth=None, rfc__min_samples_leaf=1, rfc__min_samples_split=2, rfc__n_estimators=100, score=0.780, total=  25.0s\n",
      "[CV] rfc__criterion=entropy, rfc__max_depth=None, rfc__min_samples_leaf=1, rfc__min_samples_split=2, rfc__n_estimators=200 \n",
      "[CV]  rfc__criterion=entropy, rfc__max_depth=None, rfc__min_samples_leaf=1, rfc__min_samples_split=2, rfc__n_estimators=200, score=0.787, total=  49.5s\n",
      "[CV] rfc__criterion=entropy, rfc__max_depth=None, rfc__min_samples_leaf=1, rfc__min_samples_split=2, rfc__n_estimators=200 \n",
      "[CV]  rfc__criterion=entropy, rfc__max_depth=None, rfc__min_samples_leaf=1, rfc__min_samples_split=2, rfc__n_estimators=200, score=0.786, total=  49.4s\n",
      "[CV] rfc__criterion=entropy, rfc__max_depth=None, rfc__min_samples_leaf=1, rfc__min_samples_split=2, rfc__n_estimators=200 \n",
      "[CV]  rfc__criterion=entropy, rfc__max_depth=None, rfc__min_samples_leaf=1, rfc__min_samples_split=2, rfc__n_estimators=200, score=0.782, total=  52.9s\n",
      "[CV] rfc__criterion=entropy, rfc__max_depth=None, rfc__min_samples_leaf=1, rfc__min_samples_split=2, rfc__n_estimators=200 \n"
     ]
    },
    {
     "name": "stdout",
     "output_type": "stream",
     "text": [
      "[CV]  rfc__criterion=entropy, rfc__max_depth=None, rfc__min_samples_leaf=1, rfc__min_samples_split=2, rfc__n_estimators=200, score=0.783, total=  55.5s\n",
      "[CV] rfc__criterion=entropy, rfc__max_depth=None, rfc__min_samples_leaf=1, rfc__min_samples_split=2, rfc__n_estimators=200 \n",
      "[CV]  rfc__criterion=entropy, rfc__max_depth=None, rfc__min_samples_leaf=1, rfc__min_samples_split=2, rfc__n_estimators=200, score=0.780, total=  56.0s\n",
      "[CV] rfc__criterion=entropy, rfc__max_depth=None, rfc__min_samples_leaf=1, rfc__min_samples_split=5, rfc__n_estimators=100 \n",
      "[CV]  rfc__criterion=entropy, rfc__max_depth=None, rfc__min_samples_leaf=1, rfc__min_samples_split=5, rfc__n_estimators=100, score=0.796, total=  27.4s\n",
      "[CV] rfc__criterion=entropy, rfc__max_depth=None, rfc__min_samples_leaf=1, rfc__min_samples_split=5, rfc__n_estimators=100 \n",
      "[CV]  rfc__criterion=entropy, rfc__max_depth=None, rfc__min_samples_leaf=1, rfc__min_samples_split=5, rfc__n_estimators=100, score=0.792, total=  27.4s\n",
      "[CV] rfc__criterion=entropy, rfc__max_depth=None, rfc__min_samples_leaf=1, rfc__min_samples_split=5, rfc__n_estimators=100 \n",
      "[CV]  rfc__criterion=entropy, rfc__max_depth=None, rfc__min_samples_leaf=1, rfc__min_samples_split=5, rfc__n_estimators=100, score=0.790, total=  25.3s\n",
      "[CV] rfc__criterion=entropy, rfc__max_depth=None, rfc__min_samples_leaf=1, rfc__min_samples_split=5, rfc__n_estimators=100 \n",
      "[CV]  rfc__criterion=entropy, rfc__max_depth=None, rfc__min_samples_leaf=1, rfc__min_samples_split=5, rfc__n_estimators=100, score=0.792, total=  26.1s\n",
      "[CV] rfc__criterion=entropy, rfc__max_depth=None, rfc__min_samples_leaf=1, rfc__min_samples_split=5, rfc__n_estimators=100 \n",
      "[CV]  rfc__criterion=entropy, rfc__max_depth=None, rfc__min_samples_leaf=1, rfc__min_samples_split=5, rfc__n_estimators=100, score=0.786, total=  25.5s\n",
      "[CV] rfc__criterion=entropy, rfc__max_depth=None, rfc__min_samples_leaf=1, rfc__min_samples_split=5, rfc__n_estimators=200 \n",
      "[CV]  rfc__criterion=entropy, rfc__max_depth=None, rfc__min_samples_leaf=1, rfc__min_samples_split=5, rfc__n_estimators=200, score=0.797, total=  50.7s\n",
      "[CV] rfc__criterion=entropy, rfc__max_depth=None, rfc__min_samples_leaf=1, rfc__min_samples_split=5, rfc__n_estimators=200 \n",
      "[CV]  rfc__criterion=entropy, rfc__max_depth=None, rfc__min_samples_leaf=1, rfc__min_samples_split=5, rfc__n_estimators=200, score=0.791, total=  50.0s\n",
      "[CV] rfc__criterion=entropy, rfc__max_depth=None, rfc__min_samples_leaf=1, rfc__min_samples_split=5, rfc__n_estimators=200 \n",
      "[CV]  rfc__criterion=entropy, rfc__max_depth=None, rfc__min_samples_leaf=1, rfc__min_samples_split=5, rfc__n_estimators=200, score=0.791, total=  50.2s\n",
      "[CV] rfc__criterion=entropy, rfc__max_depth=None, rfc__min_samples_leaf=1, rfc__min_samples_split=5, rfc__n_estimators=200 \n",
      "[CV]  rfc__criterion=entropy, rfc__max_depth=None, rfc__min_samples_leaf=1, rfc__min_samples_split=5, rfc__n_estimators=200, score=0.792, total=  51.6s\n",
      "[CV] rfc__criterion=entropy, rfc__max_depth=None, rfc__min_samples_leaf=1, rfc__min_samples_split=5, rfc__n_estimators=200 \n",
      "[CV]  rfc__criterion=entropy, rfc__max_depth=None, rfc__min_samples_leaf=1, rfc__min_samples_split=5, rfc__n_estimators=200, score=0.789, total=  50.0s\n",
      "[CV] rfc__criterion=entropy, rfc__max_depth=None, rfc__min_samples_leaf=1, rfc__min_samples_split=10, rfc__n_estimators=100 \n",
      "[CV]  rfc__criterion=entropy, rfc__max_depth=None, rfc__min_samples_leaf=1, rfc__min_samples_split=10, rfc__n_estimators=100, score=0.799, total=  24.0s\n",
      "[CV] rfc__criterion=entropy, rfc__max_depth=None, rfc__min_samples_leaf=1, rfc__min_samples_split=10, rfc__n_estimators=100 \n",
      "[CV]  rfc__criterion=entropy, rfc__max_depth=None, rfc__min_samples_leaf=1, rfc__min_samples_split=10, rfc__n_estimators=100, score=0.796, total=  24.1s\n",
      "[CV] rfc__criterion=entropy, rfc__max_depth=None, rfc__min_samples_leaf=1, rfc__min_samples_split=10, rfc__n_estimators=100 \n",
      "[CV]  rfc__criterion=entropy, rfc__max_depth=None, rfc__min_samples_leaf=1, rfc__min_samples_split=10, rfc__n_estimators=100, score=0.794, total=  24.2s\n",
      "[CV] rfc__criterion=entropy, rfc__max_depth=None, rfc__min_samples_leaf=1, rfc__min_samples_split=10, rfc__n_estimators=100 \n",
      "[CV]  rfc__criterion=entropy, rfc__max_depth=None, rfc__min_samples_leaf=1, rfc__min_samples_split=10, rfc__n_estimators=100, score=0.790, total=  23.9s\n",
      "[CV] rfc__criterion=entropy, rfc__max_depth=None, rfc__min_samples_leaf=1, rfc__min_samples_split=10, rfc__n_estimators=100 \n",
      "[CV]  rfc__criterion=entropy, rfc__max_depth=None, rfc__min_samples_leaf=1, rfc__min_samples_split=10, rfc__n_estimators=100, score=0.788, total=  23.6s\n",
      "[CV] rfc__criterion=entropy, rfc__max_depth=None, rfc__min_samples_leaf=1, rfc__min_samples_split=10, rfc__n_estimators=200 \n",
      "[CV]  rfc__criterion=entropy, rfc__max_depth=None, rfc__min_samples_leaf=1, rfc__min_samples_split=10, rfc__n_estimators=200, score=0.799, total=  47.3s\n",
      "[CV] rfc__criterion=entropy, rfc__max_depth=None, rfc__min_samples_leaf=1, rfc__min_samples_split=10, rfc__n_estimators=200 \n",
      "[CV]  rfc__criterion=entropy, rfc__max_depth=None, rfc__min_samples_leaf=1, rfc__min_samples_split=10, rfc__n_estimators=200, score=0.796, total=  49.0s\n",
      "[CV] rfc__criterion=entropy, rfc__max_depth=None, rfc__min_samples_leaf=1, rfc__min_samples_split=10, rfc__n_estimators=200 \n",
      "[CV]  rfc__criterion=entropy, rfc__max_depth=None, rfc__min_samples_leaf=1, rfc__min_samples_split=10, rfc__n_estimators=200, score=0.793, total=  47.2s\n",
      "[CV] rfc__criterion=entropy, rfc__max_depth=None, rfc__min_samples_leaf=1, rfc__min_samples_split=10, rfc__n_estimators=200 \n",
      "[CV]  rfc__criterion=entropy, rfc__max_depth=None, rfc__min_samples_leaf=1, rfc__min_samples_split=10, rfc__n_estimators=200, score=0.792, total=  48.2s\n",
      "[CV] rfc__criterion=entropy, rfc__max_depth=None, rfc__min_samples_leaf=1, rfc__min_samples_split=10, rfc__n_estimators=200 \n",
      "[CV]  rfc__criterion=entropy, rfc__max_depth=None, rfc__min_samples_leaf=1, rfc__min_samples_split=10, rfc__n_estimators=200, score=0.791, total=  47.8s\n",
      "[CV] rfc__criterion=entropy, rfc__max_depth=None, rfc__min_samples_leaf=10, rfc__min_samples_split=2, rfc__n_estimators=100 \n",
      "[CV]  rfc__criterion=entropy, rfc__max_depth=None, rfc__min_samples_leaf=10, rfc__min_samples_split=2, rfc__n_estimators=100, score=0.749, total=  16.4s\n",
      "[CV] rfc__criterion=entropy, rfc__max_depth=None, rfc__min_samples_leaf=10, rfc__min_samples_split=2, rfc__n_estimators=100 \n",
      "[CV]  rfc__criterion=entropy, rfc__max_depth=None, rfc__min_samples_leaf=10, rfc__min_samples_split=2, rfc__n_estimators=100, score=0.741, total=  15.5s\n",
      "[CV] rfc__criterion=entropy, rfc__max_depth=None, rfc__min_samples_leaf=10, rfc__min_samples_split=2, rfc__n_estimators=100 \n",
      "[CV]  rfc__criterion=entropy, rfc__max_depth=None, rfc__min_samples_leaf=10, rfc__min_samples_split=2, rfc__n_estimators=100, score=0.738, total=  15.7s\n",
      "[CV] rfc__criterion=entropy, rfc__max_depth=None, rfc__min_samples_leaf=10, rfc__min_samples_split=2, rfc__n_estimators=100 \n",
      "[CV]  rfc__criterion=entropy, rfc__max_depth=None, rfc__min_samples_leaf=10, rfc__min_samples_split=2, rfc__n_estimators=100, score=0.745, total=  16.1s\n",
      "[CV] rfc__criterion=entropy, rfc__max_depth=None, rfc__min_samples_leaf=10, rfc__min_samples_split=2, rfc__n_estimators=100 \n",
      "[CV]  rfc__criterion=entropy, rfc__max_depth=None, rfc__min_samples_leaf=10, rfc__min_samples_split=2, rfc__n_estimators=100, score=0.740, total=  16.1s\n",
      "[CV] rfc__criterion=entropy, rfc__max_depth=None, rfc__min_samples_leaf=10, rfc__min_samples_split=2, rfc__n_estimators=200 \n",
      "[CV]  rfc__criterion=entropy, rfc__max_depth=None, rfc__min_samples_leaf=10, rfc__min_samples_split=2, rfc__n_estimators=200, score=0.751, total=  32.8s\n",
      "[CV] rfc__criterion=entropy, rfc__max_depth=None, rfc__min_samples_leaf=10, rfc__min_samples_split=2, rfc__n_estimators=200 \n",
      "[CV]  rfc__criterion=entropy, rfc__max_depth=None, rfc__min_samples_leaf=10, rfc__min_samples_split=2, rfc__n_estimators=200, score=0.744, total=  31.1s\n",
      "[CV] rfc__criterion=entropy, rfc__max_depth=None, rfc__min_samples_leaf=10, rfc__min_samples_split=2, rfc__n_estimators=200 \n",
      "[CV]  rfc__criterion=entropy, rfc__max_depth=None, rfc__min_samples_leaf=10, rfc__min_samples_split=2, rfc__n_estimators=200, score=0.740, total=  30.7s\n",
      "[CV] rfc__criterion=entropy, rfc__max_depth=None, rfc__min_samples_leaf=10, rfc__min_samples_split=2, rfc__n_estimators=200 \n"
     ]
    },
    {
     "name": "stdout",
     "output_type": "stream",
     "text": [
      "[CV]  rfc__criterion=entropy, rfc__max_depth=None, rfc__min_samples_leaf=10, rfc__min_samples_split=2, rfc__n_estimators=200, score=0.746, total=  32.0s\n",
      "[CV] rfc__criterion=entropy, rfc__max_depth=None, rfc__min_samples_leaf=10, rfc__min_samples_split=2, rfc__n_estimators=200 \n",
      "[CV]  rfc__criterion=entropy, rfc__max_depth=None, rfc__min_samples_leaf=10, rfc__min_samples_split=2, rfc__n_estimators=200, score=0.740, total=  31.9s\n",
      "[CV] rfc__criterion=entropy, rfc__max_depth=None, rfc__min_samples_leaf=10, rfc__min_samples_split=5, rfc__n_estimators=100 \n",
      "[CV]  rfc__criterion=entropy, rfc__max_depth=None, rfc__min_samples_leaf=10, rfc__min_samples_split=5, rfc__n_estimators=100, score=0.749, total=  16.8s\n",
      "[CV] rfc__criterion=entropy, rfc__max_depth=None, rfc__min_samples_leaf=10, rfc__min_samples_split=5, rfc__n_estimators=100 \n",
      "[CV]  rfc__criterion=entropy, rfc__max_depth=None, rfc__min_samples_leaf=10, rfc__min_samples_split=5, rfc__n_estimators=100, score=0.741, total=  16.3s\n",
      "[CV] rfc__criterion=entropy, rfc__max_depth=None, rfc__min_samples_leaf=10, rfc__min_samples_split=5, rfc__n_estimators=100 \n",
      "[CV]  rfc__criterion=entropy, rfc__max_depth=None, rfc__min_samples_leaf=10, rfc__min_samples_split=5, rfc__n_estimators=100, score=0.738, total=  16.4s\n",
      "[CV] rfc__criterion=entropy, rfc__max_depth=None, rfc__min_samples_leaf=10, rfc__min_samples_split=5, rfc__n_estimators=100 \n",
      "[CV]  rfc__criterion=entropy, rfc__max_depth=None, rfc__min_samples_leaf=10, rfc__min_samples_split=5, rfc__n_estimators=100, score=0.745, total=  16.6s\n",
      "[CV] rfc__criterion=entropy, rfc__max_depth=None, rfc__min_samples_leaf=10, rfc__min_samples_split=5, rfc__n_estimators=100 \n",
      "[CV]  rfc__criterion=entropy, rfc__max_depth=None, rfc__min_samples_leaf=10, rfc__min_samples_split=5, rfc__n_estimators=100, score=0.740, total=  15.9s\n",
      "[CV] rfc__criterion=entropy, rfc__max_depth=None, rfc__min_samples_leaf=10, rfc__min_samples_split=5, rfc__n_estimators=200 \n",
      "[CV]  rfc__criterion=entropy, rfc__max_depth=None, rfc__min_samples_leaf=10, rfc__min_samples_split=5, rfc__n_estimators=200, score=0.751, total=  32.4s\n",
      "[CV] rfc__criterion=entropy, rfc__max_depth=None, rfc__min_samples_leaf=10, rfc__min_samples_split=5, rfc__n_estimators=200 \n",
      "[CV]  rfc__criterion=entropy, rfc__max_depth=None, rfc__min_samples_leaf=10, rfc__min_samples_split=5, rfc__n_estimators=200, score=0.744, total=  32.3s\n",
      "[CV] rfc__criterion=entropy, rfc__max_depth=None, rfc__min_samples_leaf=10, rfc__min_samples_split=5, rfc__n_estimators=200 \n",
      "[CV]  rfc__criterion=entropy, rfc__max_depth=None, rfc__min_samples_leaf=10, rfc__min_samples_split=5, rfc__n_estimators=200, score=0.740, total=  31.6s\n",
      "[CV] rfc__criterion=entropy, rfc__max_depth=None, rfc__min_samples_leaf=10, rfc__min_samples_split=5, rfc__n_estimators=200 \n",
      "[CV]  rfc__criterion=entropy, rfc__max_depth=None, rfc__min_samples_leaf=10, rfc__min_samples_split=5, rfc__n_estimators=200, score=0.746, total=  31.8s\n",
      "[CV] rfc__criterion=entropy, rfc__max_depth=None, rfc__min_samples_leaf=10, rfc__min_samples_split=5, rfc__n_estimators=200 \n",
      "[CV]  rfc__criterion=entropy, rfc__max_depth=None, rfc__min_samples_leaf=10, rfc__min_samples_split=5, rfc__n_estimators=200, score=0.740, total=  31.8s\n",
      "[CV] rfc__criterion=entropy, rfc__max_depth=None, rfc__min_samples_leaf=10, rfc__min_samples_split=10, rfc__n_estimators=100 \n",
      "[CV]  rfc__criterion=entropy, rfc__max_depth=None, rfc__min_samples_leaf=10, rfc__min_samples_split=10, rfc__n_estimators=100, score=0.749, total=  16.2s\n",
      "[CV] rfc__criterion=entropy, rfc__max_depth=None, rfc__min_samples_leaf=10, rfc__min_samples_split=10, rfc__n_estimators=100 \n",
      "[CV]  rfc__criterion=entropy, rfc__max_depth=None, rfc__min_samples_leaf=10, rfc__min_samples_split=10, rfc__n_estimators=100, score=0.741, total=  16.1s\n",
      "[CV] rfc__criterion=entropy, rfc__max_depth=None, rfc__min_samples_leaf=10, rfc__min_samples_split=10, rfc__n_estimators=100 \n",
      "[CV]  rfc__criterion=entropy, rfc__max_depth=None, rfc__min_samples_leaf=10, rfc__min_samples_split=10, rfc__n_estimators=100, score=0.738, total=  15.9s\n",
      "[CV] rfc__criterion=entropy, rfc__max_depth=None, rfc__min_samples_leaf=10, rfc__min_samples_split=10, rfc__n_estimators=100 \n",
      "[CV]  rfc__criterion=entropy, rfc__max_depth=None, rfc__min_samples_leaf=10, rfc__min_samples_split=10, rfc__n_estimators=100, score=0.745, total=  16.5s\n",
      "[CV] rfc__criterion=entropy, rfc__max_depth=None, rfc__min_samples_leaf=10, rfc__min_samples_split=10, rfc__n_estimators=100 \n",
      "[CV]  rfc__criterion=entropy, rfc__max_depth=None, rfc__min_samples_leaf=10, rfc__min_samples_split=10, rfc__n_estimators=100, score=0.740, total=  16.2s\n",
      "[CV] rfc__criterion=entropy, rfc__max_depth=None, rfc__min_samples_leaf=10, rfc__min_samples_split=10, rfc__n_estimators=200 \n",
      "[CV]  rfc__criterion=entropy, rfc__max_depth=None, rfc__min_samples_leaf=10, rfc__min_samples_split=10, rfc__n_estimators=200, score=0.751, total=  31.8s\n",
      "[CV] rfc__criterion=entropy, rfc__max_depth=None, rfc__min_samples_leaf=10, rfc__min_samples_split=10, rfc__n_estimators=200 \n",
      "[CV]  rfc__criterion=entropy, rfc__max_depth=None, rfc__min_samples_leaf=10, rfc__min_samples_split=10, rfc__n_estimators=200, score=0.744, total=  31.8s\n",
      "[CV] rfc__criterion=entropy, rfc__max_depth=None, rfc__min_samples_leaf=10, rfc__min_samples_split=10, rfc__n_estimators=200 \n",
      "[CV]  rfc__criterion=entropy, rfc__max_depth=None, rfc__min_samples_leaf=10, rfc__min_samples_split=10, rfc__n_estimators=200, score=0.740, total=  31.6s\n",
      "[CV] rfc__criterion=entropy, rfc__max_depth=None, rfc__min_samples_leaf=10, rfc__min_samples_split=10, rfc__n_estimators=200 \n",
      "[CV]  rfc__criterion=entropy, rfc__max_depth=None, rfc__min_samples_leaf=10, rfc__min_samples_split=10, rfc__n_estimators=200, score=0.746, total=  32.4s\n",
      "[CV] rfc__criterion=entropy, rfc__max_depth=None, rfc__min_samples_leaf=10, rfc__min_samples_split=10, rfc__n_estimators=200 \n",
      "[CV]  rfc__criterion=entropy, rfc__max_depth=None, rfc__min_samples_leaf=10, rfc__min_samples_split=10, rfc__n_estimators=200, score=0.740, total=  31.2s\n",
      "[CV] rfc__criterion=entropy, rfc__max_depth=50, rfc__min_samples_leaf=1, rfc__min_samples_split=2, rfc__n_estimators=100 \n",
      "[CV]  rfc__criterion=entropy, rfc__max_depth=50, rfc__min_samples_leaf=1, rfc__min_samples_split=2, rfc__n_estimators=100, score=0.788, total=  26.7s\n",
      "[CV] rfc__criterion=entropy, rfc__max_depth=50, rfc__min_samples_leaf=1, rfc__min_samples_split=2, rfc__n_estimators=100 \n",
      "[CV]  rfc__criterion=entropy, rfc__max_depth=50, rfc__min_samples_leaf=1, rfc__min_samples_split=2, rfc__n_estimators=100, score=0.786, total=  27.4s\n",
      "[CV] rfc__criterion=entropy, rfc__max_depth=50, rfc__min_samples_leaf=1, rfc__min_samples_split=2, rfc__n_estimators=100 \n",
      "[CV]  rfc__criterion=entropy, rfc__max_depth=50, rfc__min_samples_leaf=1, rfc__min_samples_split=2, rfc__n_estimators=100, score=0.786, total=  28.2s\n",
      "[CV] rfc__criterion=entropy, rfc__max_depth=50, rfc__min_samples_leaf=1, rfc__min_samples_split=2, rfc__n_estimators=100 \n",
      "[CV]  rfc__criterion=entropy, rfc__max_depth=50, rfc__min_samples_leaf=1, rfc__min_samples_split=2, rfc__n_estimators=100, score=0.787, total=  28.4s\n",
      "[CV] rfc__criterion=entropy, rfc__max_depth=50, rfc__min_samples_leaf=1, rfc__min_samples_split=2, rfc__n_estimators=100 \n",
      "[CV]  rfc__criterion=entropy, rfc__max_depth=50, rfc__min_samples_leaf=1, rfc__min_samples_split=2, rfc__n_estimators=100, score=0.782, total=  27.6s\n",
      "[CV] rfc__criterion=entropy, rfc__max_depth=50, rfc__min_samples_leaf=1, rfc__min_samples_split=2, rfc__n_estimators=200 \n",
      "[CV]  rfc__criterion=entropy, rfc__max_depth=50, rfc__min_samples_leaf=1, rfc__min_samples_split=2, rfc__n_estimators=200, score=0.788, total=  54.3s\n",
      "[CV] rfc__criterion=entropy, rfc__max_depth=50, rfc__min_samples_leaf=1, rfc__min_samples_split=2, rfc__n_estimators=200 \n",
      "[CV]  rfc__criterion=entropy, rfc__max_depth=50, rfc__min_samples_leaf=1, rfc__min_samples_split=2, rfc__n_estimators=200, score=0.786, total=  55.3s\n",
      "[CV] rfc__criterion=entropy, rfc__max_depth=50, rfc__min_samples_leaf=1, rfc__min_samples_split=2, rfc__n_estimators=200 \n",
      "[CV]  rfc__criterion=entropy, rfc__max_depth=50, rfc__min_samples_leaf=1, rfc__min_samples_split=2, rfc__n_estimators=200, score=0.783, total=  55.0s\n",
      "[CV] rfc__criterion=entropy, rfc__max_depth=50, rfc__min_samples_leaf=1, rfc__min_samples_split=2, rfc__n_estimators=200 \n"
     ]
    },
    {
     "name": "stdout",
     "output_type": "stream",
     "text": [
      "[CV]  rfc__criterion=entropy, rfc__max_depth=50, rfc__min_samples_leaf=1, rfc__min_samples_split=2, rfc__n_estimators=200, score=0.788, total=  56.2s\n",
      "[CV] rfc__criterion=entropy, rfc__max_depth=50, rfc__min_samples_leaf=1, rfc__min_samples_split=2, rfc__n_estimators=200 \n",
      "[CV]  rfc__criterion=entropy, rfc__max_depth=50, rfc__min_samples_leaf=1, rfc__min_samples_split=2, rfc__n_estimators=200, score=0.782, total=  54.1s\n",
      "[CV] rfc__criterion=entropy, rfc__max_depth=50, rfc__min_samples_leaf=1, rfc__min_samples_split=5, rfc__n_estimators=100 \n",
      "[CV]  rfc__criterion=entropy, rfc__max_depth=50, rfc__min_samples_leaf=1, rfc__min_samples_split=5, rfc__n_estimators=100, score=0.798, total=  25.6s\n",
      "[CV] rfc__criterion=entropy, rfc__max_depth=50, rfc__min_samples_leaf=1, rfc__min_samples_split=5, rfc__n_estimators=100 \n",
      "[CV]  rfc__criterion=entropy, rfc__max_depth=50, rfc__min_samples_leaf=1, rfc__min_samples_split=5, rfc__n_estimators=100, score=0.790, total=  25.3s\n",
      "[CV] rfc__criterion=entropy, rfc__max_depth=50, rfc__min_samples_leaf=1, rfc__min_samples_split=5, rfc__n_estimators=100 \n",
      "[CV]  rfc__criterion=entropy, rfc__max_depth=50, rfc__min_samples_leaf=1, rfc__min_samples_split=5, rfc__n_estimators=100, score=0.794, total=  25.4s\n",
      "[CV] rfc__criterion=entropy, rfc__max_depth=50, rfc__min_samples_leaf=1, rfc__min_samples_split=5, rfc__n_estimators=100 \n",
      "[CV]  rfc__criterion=entropy, rfc__max_depth=50, rfc__min_samples_leaf=1, rfc__min_samples_split=5, rfc__n_estimators=100, score=0.793, total=  25.3s\n",
      "[CV] rfc__criterion=entropy, rfc__max_depth=50, rfc__min_samples_leaf=1, rfc__min_samples_split=5, rfc__n_estimators=100 \n",
      "[CV]  rfc__criterion=entropy, rfc__max_depth=50, rfc__min_samples_leaf=1, rfc__min_samples_split=5, rfc__n_estimators=100, score=0.789, total=  24.8s\n",
      "[CV] rfc__criterion=entropy, rfc__max_depth=50, rfc__min_samples_leaf=1, rfc__min_samples_split=5, rfc__n_estimators=200 \n",
      "[CV]  rfc__criterion=entropy, rfc__max_depth=50, rfc__min_samples_leaf=1, rfc__min_samples_split=5, rfc__n_estimators=200, score=0.796, total=  47.1s\n",
      "[CV] rfc__criterion=entropy, rfc__max_depth=50, rfc__min_samples_leaf=1, rfc__min_samples_split=5, rfc__n_estimators=200 \n",
      "[CV]  rfc__criterion=entropy, rfc__max_depth=50, rfc__min_samples_leaf=1, rfc__min_samples_split=5, rfc__n_estimators=200, score=0.793, total=  49.4s\n",
      "[CV] rfc__criterion=entropy, rfc__max_depth=50, rfc__min_samples_leaf=1, rfc__min_samples_split=5, rfc__n_estimators=200 \n",
      "[CV]  rfc__criterion=entropy, rfc__max_depth=50, rfc__min_samples_leaf=1, rfc__min_samples_split=5, rfc__n_estimators=200, score=0.796, total=  48.9s\n",
      "[CV] rfc__criterion=entropy, rfc__max_depth=50, rfc__min_samples_leaf=1, rfc__min_samples_split=5, rfc__n_estimators=200 \n",
      "[CV]  rfc__criterion=entropy, rfc__max_depth=50, rfc__min_samples_leaf=1, rfc__min_samples_split=5, rfc__n_estimators=200, score=0.796, total=  48.6s\n",
      "[CV] rfc__criterion=entropy, rfc__max_depth=50, rfc__min_samples_leaf=1, rfc__min_samples_split=5, rfc__n_estimators=200 \n",
      "[CV]  rfc__criterion=entropy, rfc__max_depth=50, rfc__min_samples_leaf=1, rfc__min_samples_split=5, rfc__n_estimators=200, score=0.792, total=  47.3s\n",
      "[CV] rfc__criterion=entropy, rfc__max_depth=50, rfc__min_samples_leaf=1, rfc__min_samples_split=10, rfc__n_estimators=100 \n",
      "[CV]  rfc__criterion=entropy, rfc__max_depth=50, rfc__min_samples_leaf=1, rfc__min_samples_split=10, rfc__n_estimators=100, score=0.800, total=  22.8s\n",
      "[CV] rfc__criterion=entropy, rfc__max_depth=50, rfc__min_samples_leaf=1, rfc__min_samples_split=10, rfc__n_estimators=100 \n",
      "[CV]  rfc__criterion=entropy, rfc__max_depth=50, rfc__min_samples_leaf=1, rfc__min_samples_split=10, rfc__n_estimators=100, score=0.795, total=  22.9s\n",
      "[CV] rfc__criterion=entropy, rfc__max_depth=50, rfc__min_samples_leaf=1, rfc__min_samples_split=10, rfc__n_estimators=100 \n",
      "[CV]  rfc__criterion=entropy, rfc__max_depth=50, rfc__min_samples_leaf=1, rfc__min_samples_split=10, rfc__n_estimators=100, score=0.793, total=  24.5s\n",
      "[CV] rfc__criterion=entropy, rfc__max_depth=50, rfc__min_samples_leaf=1, rfc__min_samples_split=10, rfc__n_estimators=100 \n",
      "[CV]  rfc__criterion=entropy, rfc__max_depth=50, rfc__min_samples_leaf=1, rfc__min_samples_split=10, rfc__n_estimators=100, score=0.795, total=  23.7s\n",
      "[CV] rfc__criterion=entropy, rfc__max_depth=50, rfc__min_samples_leaf=1, rfc__min_samples_split=10, rfc__n_estimators=100 \n",
      "[CV]  rfc__criterion=entropy, rfc__max_depth=50, rfc__min_samples_leaf=1, rfc__min_samples_split=10, rfc__n_estimators=100, score=0.789, total=  23.8s\n",
      "[CV] rfc__criterion=entropy, rfc__max_depth=50, rfc__min_samples_leaf=1, rfc__min_samples_split=10, rfc__n_estimators=200 \n",
      "[CV]  rfc__criterion=entropy, rfc__max_depth=50, rfc__min_samples_leaf=1, rfc__min_samples_split=10, rfc__n_estimators=200, score=0.799, total=  47.2s\n",
      "[CV] rfc__criterion=entropy, rfc__max_depth=50, rfc__min_samples_leaf=1, rfc__min_samples_split=10, rfc__n_estimators=200 \n",
      "[CV]  rfc__criterion=entropy, rfc__max_depth=50, rfc__min_samples_leaf=1, rfc__min_samples_split=10, rfc__n_estimators=200, score=0.797, total=  46.0s\n",
      "[CV] rfc__criterion=entropy, rfc__max_depth=50, rfc__min_samples_leaf=1, rfc__min_samples_split=10, rfc__n_estimators=200 \n",
      "[CV]  rfc__criterion=entropy, rfc__max_depth=50, rfc__min_samples_leaf=1, rfc__min_samples_split=10, rfc__n_estimators=200, score=0.794, total=  47.1s\n",
      "[CV] rfc__criterion=entropy, rfc__max_depth=50, rfc__min_samples_leaf=1, rfc__min_samples_split=10, rfc__n_estimators=200 \n",
      "[CV]  rfc__criterion=entropy, rfc__max_depth=50, rfc__min_samples_leaf=1, rfc__min_samples_split=10, rfc__n_estimators=200, score=0.797, total=  47.1s\n",
      "[CV] rfc__criterion=entropy, rfc__max_depth=50, rfc__min_samples_leaf=1, rfc__min_samples_split=10, rfc__n_estimators=200 \n",
      "[CV]  rfc__criterion=entropy, rfc__max_depth=50, rfc__min_samples_leaf=1, rfc__min_samples_split=10, rfc__n_estimators=200, score=0.790, total=  44.7s\n",
      "[CV] rfc__criterion=entropy, rfc__max_depth=50, rfc__min_samples_leaf=10, rfc__min_samples_split=2, rfc__n_estimators=100 \n",
      "[CV]  rfc__criterion=entropy, rfc__max_depth=50, rfc__min_samples_leaf=10, rfc__min_samples_split=2, rfc__n_estimators=100, score=0.749, total=  16.4s\n",
      "[CV] rfc__criterion=entropy, rfc__max_depth=50, rfc__min_samples_leaf=10, rfc__min_samples_split=2, rfc__n_estimators=100 \n",
      "[CV]  rfc__criterion=entropy, rfc__max_depth=50, rfc__min_samples_leaf=10, rfc__min_samples_split=2, rfc__n_estimators=100, score=0.741, total=  16.8s\n",
      "[CV] rfc__criterion=entropy, rfc__max_depth=50, rfc__min_samples_leaf=10, rfc__min_samples_split=2, rfc__n_estimators=100 \n",
      "[CV]  rfc__criterion=entropy, rfc__max_depth=50, rfc__min_samples_leaf=10, rfc__min_samples_split=2, rfc__n_estimators=100, score=0.738, total=  16.3s\n",
      "[CV] rfc__criterion=entropy, rfc__max_depth=50, rfc__min_samples_leaf=10, rfc__min_samples_split=2, rfc__n_estimators=100 \n",
      "[CV]  rfc__criterion=entropy, rfc__max_depth=50, rfc__min_samples_leaf=10, rfc__min_samples_split=2, rfc__n_estimators=100, score=0.745, total=  15.7s\n",
      "[CV] rfc__criterion=entropy, rfc__max_depth=50, rfc__min_samples_leaf=10, rfc__min_samples_split=2, rfc__n_estimators=100 \n",
      "[CV]  rfc__criterion=entropy, rfc__max_depth=50, rfc__min_samples_leaf=10, rfc__min_samples_split=2, rfc__n_estimators=100, score=0.740, total=  15.1s\n",
      "[CV] rfc__criterion=entropy, rfc__max_depth=50, rfc__min_samples_leaf=10, rfc__min_samples_split=2, rfc__n_estimators=200 \n",
      "[CV]  rfc__criterion=entropy, rfc__max_depth=50, rfc__min_samples_leaf=10, rfc__min_samples_split=2, rfc__n_estimators=200, score=0.751, total=  30.3s\n",
      "[CV] rfc__criterion=entropy, rfc__max_depth=50, rfc__min_samples_leaf=10, rfc__min_samples_split=2, rfc__n_estimators=200 \n",
      "[CV]  rfc__criterion=entropy, rfc__max_depth=50, rfc__min_samples_leaf=10, rfc__min_samples_split=2, rfc__n_estimators=200, score=0.744, total=  30.3s\n",
      "[CV] rfc__criterion=entropy, rfc__max_depth=50, rfc__min_samples_leaf=10, rfc__min_samples_split=2, rfc__n_estimators=200 \n",
      "[CV]  rfc__criterion=entropy, rfc__max_depth=50, rfc__min_samples_leaf=10, rfc__min_samples_split=2, rfc__n_estimators=200, score=0.740, total=  29.8s\n",
      "[CV] rfc__criterion=entropy, rfc__max_depth=50, rfc__min_samples_leaf=10, rfc__min_samples_split=2, rfc__n_estimators=200 \n"
     ]
    },
    {
     "name": "stdout",
     "output_type": "stream",
     "text": [
      "[CV]  rfc__criterion=entropy, rfc__max_depth=50, rfc__min_samples_leaf=10, rfc__min_samples_split=2, rfc__n_estimators=200, score=0.746, total=  30.7s\n",
      "[CV] rfc__criterion=entropy, rfc__max_depth=50, rfc__min_samples_leaf=10, rfc__min_samples_split=2, rfc__n_estimators=200 \n",
      "[CV]  rfc__criterion=entropy, rfc__max_depth=50, rfc__min_samples_leaf=10, rfc__min_samples_split=2, rfc__n_estimators=200, score=0.739, total=  29.9s\n",
      "[CV] rfc__criterion=entropy, rfc__max_depth=50, rfc__min_samples_leaf=10, rfc__min_samples_split=5, rfc__n_estimators=100 \n",
      "[CV]  rfc__criterion=entropy, rfc__max_depth=50, rfc__min_samples_leaf=10, rfc__min_samples_split=5, rfc__n_estimators=100, score=0.749, total=  15.9s\n",
      "[CV] rfc__criterion=entropy, rfc__max_depth=50, rfc__min_samples_leaf=10, rfc__min_samples_split=5, rfc__n_estimators=100 \n",
      "[CV]  rfc__criterion=entropy, rfc__max_depth=50, rfc__min_samples_leaf=10, rfc__min_samples_split=5, rfc__n_estimators=100, score=0.741, total=  15.3s\n",
      "[CV] rfc__criterion=entropy, rfc__max_depth=50, rfc__min_samples_leaf=10, rfc__min_samples_split=5, rfc__n_estimators=100 \n",
      "[CV]  rfc__criterion=entropy, rfc__max_depth=50, rfc__min_samples_leaf=10, rfc__min_samples_split=5, rfc__n_estimators=100, score=0.738, total=  15.5s\n",
      "[CV] rfc__criterion=entropy, rfc__max_depth=50, rfc__min_samples_leaf=10, rfc__min_samples_split=5, rfc__n_estimators=100 \n",
      "[CV]  rfc__criterion=entropy, rfc__max_depth=50, rfc__min_samples_leaf=10, rfc__min_samples_split=5, rfc__n_estimators=100, score=0.745, total=  15.9s\n",
      "[CV] rfc__criterion=entropy, rfc__max_depth=50, rfc__min_samples_leaf=10, rfc__min_samples_split=5, rfc__n_estimators=100 \n",
      "[CV]  rfc__criterion=entropy, rfc__max_depth=50, rfc__min_samples_leaf=10, rfc__min_samples_split=5, rfc__n_estimators=100, score=0.740, total=  15.2s\n",
      "[CV] rfc__criterion=entropy, rfc__max_depth=50, rfc__min_samples_leaf=10, rfc__min_samples_split=5, rfc__n_estimators=200 \n",
      "[CV]  rfc__criterion=entropy, rfc__max_depth=50, rfc__min_samples_leaf=10, rfc__min_samples_split=5, rfc__n_estimators=200, score=0.751, total=  30.1s\n",
      "[CV] rfc__criterion=entropy, rfc__max_depth=50, rfc__min_samples_leaf=10, rfc__min_samples_split=5, rfc__n_estimators=200 \n",
      "[CV]  rfc__criterion=entropy, rfc__max_depth=50, rfc__min_samples_leaf=10, rfc__min_samples_split=5, rfc__n_estimators=200, score=0.744, total=  30.1s\n",
      "[CV] rfc__criterion=entropy, rfc__max_depth=50, rfc__min_samples_leaf=10, rfc__min_samples_split=5, rfc__n_estimators=200 \n",
      "[CV]  rfc__criterion=entropy, rfc__max_depth=50, rfc__min_samples_leaf=10, rfc__min_samples_split=5, rfc__n_estimators=200, score=0.740, total=  29.7s\n",
      "[CV] rfc__criterion=entropy, rfc__max_depth=50, rfc__min_samples_leaf=10, rfc__min_samples_split=5, rfc__n_estimators=200 \n",
      "[CV]  rfc__criterion=entropy, rfc__max_depth=50, rfc__min_samples_leaf=10, rfc__min_samples_split=5, rfc__n_estimators=200, score=0.746, total=  30.9s\n",
      "[CV] rfc__criterion=entropy, rfc__max_depth=50, rfc__min_samples_leaf=10, rfc__min_samples_split=5, rfc__n_estimators=200 \n",
      "[CV]  rfc__criterion=entropy, rfc__max_depth=50, rfc__min_samples_leaf=10, rfc__min_samples_split=5, rfc__n_estimators=200, score=0.739, total=  29.8s\n",
      "[CV] rfc__criterion=entropy, rfc__max_depth=50, rfc__min_samples_leaf=10, rfc__min_samples_split=10, rfc__n_estimators=100 \n",
      "[CV]  rfc__criterion=entropy, rfc__max_depth=50, rfc__min_samples_leaf=10, rfc__min_samples_split=10, rfc__n_estimators=100, score=0.749, total=  15.6s\n",
      "[CV] rfc__criterion=entropy, rfc__max_depth=50, rfc__min_samples_leaf=10, rfc__min_samples_split=10, rfc__n_estimators=100 \n",
      "[CV]  rfc__criterion=entropy, rfc__max_depth=50, rfc__min_samples_leaf=10, rfc__min_samples_split=10, rfc__n_estimators=100, score=0.741, total=  15.8s\n",
      "[CV] rfc__criterion=entropy, rfc__max_depth=50, rfc__min_samples_leaf=10, rfc__min_samples_split=10, rfc__n_estimators=100 \n",
      "[CV]  rfc__criterion=entropy, rfc__max_depth=50, rfc__min_samples_leaf=10, rfc__min_samples_split=10, rfc__n_estimators=100, score=0.738, total=  15.5s\n",
      "[CV] rfc__criterion=entropy, rfc__max_depth=50, rfc__min_samples_leaf=10, rfc__min_samples_split=10, rfc__n_estimators=100 \n",
      "[CV]  rfc__criterion=entropy, rfc__max_depth=50, rfc__min_samples_leaf=10, rfc__min_samples_split=10, rfc__n_estimators=100, score=0.745, total=  16.0s\n",
      "[CV] rfc__criterion=entropy, rfc__max_depth=50, rfc__min_samples_leaf=10, rfc__min_samples_split=10, rfc__n_estimators=100 \n",
      "[CV]  rfc__criterion=entropy, rfc__max_depth=50, rfc__min_samples_leaf=10, rfc__min_samples_split=10, rfc__n_estimators=100, score=0.740, total=  15.5s\n",
      "[CV] rfc__criterion=entropy, rfc__max_depth=50, rfc__min_samples_leaf=10, rfc__min_samples_split=10, rfc__n_estimators=200 \n",
      "[CV]  rfc__criterion=entropy, rfc__max_depth=50, rfc__min_samples_leaf=10, rfc__min_samples_split=10, rfc__n_estimators=200, score=0.751, total=  31.0s\n",
      "[CV] rfc__criterion=entropy, rfc__max_depth=50, rfc__min_samples_leaf=10, rfc__min_samples_split=10, rfc__n_estimators=200 \n",
      "[CV]  rfc__criterion=entropy, rfc__max_depth=50, rfc__min_samples_leaf=10, rfc__min_samples_split=10, rfc__n_estimators=200, score=0.744, total=  31.5s\n",
      "[CV] rfc__criterion=entropy, rfc__max_depth=50, rfc__min_samples_leaf=10, rfc__min_samples_split=10, rfc__n_estimators=200 \n",
      "[CV]  rfc__criterion=entropy, rfc__max_depth=50, rfc__min_samples_leaf=10, rfc__min_samples_split=10, rfc__n_estimators=200, score=0.740, total=  30.6s\n",
      "[CV] rfc__criterion=entropy, rfc__max_depth=50, rfc__min_samples_leaf=10, rfc__min_samples_split=10, rfc__n_estimators=200 \n",
      "[CV]  rfc__criterion=entropy, rfc__max_depth=50, rfc__min_samples_leaf=10, rfc__min_samples_split=10, rfc__n_estimators=200, score=0.746, total=  31.1s\n",
      "[CV] rfc__criterion=entropy, rfc__max_depth=50, rfc__min_samples_leaf=10, rfc__min_samples_split=10, rfc__n_estimators=200 \n",
      "[CV]  rfc__criterion=entropy, rfc__max_depth=50, rfc__min_samples_leaf=10, rfc__min_samples_split=10, rfc__n_estimators=200, score=0.739, total=  30.2s\n",
      "[CV] rfc__criterion=entropy, rfc__max_depth=100, rfc__min_samples_leaf=1, rfc__min_samples_split=2, rfc__n_estimators=100 \n",
      "[CV]  rfc__criterion=entropy, rfc__max_depth=100, rfc__min_samples_leaf=1, rfc__min_samples_split=2, rfc__n_estimators=100, score=0.787, total=  26.7s\n",
      "[CV] rfc__criterion=entropy, rfc__max_depth=100, rfc__min_samples_leaf=1, rfc__min_samples_split=2, rfc__n_estimators=100 \n",
      "[CV]  rfc__criterion=entropy, rfc__max_depth=100, rfc__min_samples_leaf=1, rfc__min_samples_split=2, rfc__n_estimators=100, score=0.784, total=  26.8s\n",
      "[CV] rfc__criterion=entropy, rfc__max_depth=100, rfc__min_samples_leaf=1, rfc__min_samples_split=2, rfc__n_estimators=100 \n",
      "[CV]  rfc__criterion=entropy, rfc__max_depth=100, rfc__min_samples_leaf=1, rfc__min_samples_split=2, rfc__n_estimators=100, score=0.784, total=  26.5s\n",
      "[CV] rfc__criterion=entropy, rfc__max_depth=100, rfc__min_samples_leaf=1, rfc__min_samples_split=2, rfc__n_estimators=100 \n",
      "[CV]  rfc__criterion=entropy, rfc__max_depth=100, rfc__min_samples_leaf=1, rfc__min_samples_split=2, rfc__n_estimators=100, score=0.782, total=  27.5s\n",
      "[CV] rfc__criterion=entropy, rfc__max_depth=100, rfc__min_samples_leaf=1, rfc__min_samples_split=2, rfc__n_estimators=100 \n",
      "[CV]  rfc__criterion=entropy, rfc__max_depth=100, rfc__min_samples_leaf=1, rfc__min_samples_split=2, rfc__n_estimators=100, score=0.781, total=  26.4s\n",
      "[CV] rfc__criterion=entropy, rfc__max_depth=100, rfc__min_samples_leaf=1, rfc__min_samples_split=2, rfc__n_estimators=200 \n",
      "[CV]  rfc__criterion=entropy, rfc__max_depth=100, rfc__min_samples_leaf=1, rfc__min_samples_split=2, rfc__n_estimators=200, score=0.786, total=  52.6s\n",
      "[CV] rfc__criterion=entropy, rfc__max_depth=100, rfc__min_samples_leaf=1, rfc__min_samples_split=2, rfc__n_estimators=200 \n",
      "[CV]  rfc__criterion=entropy, rfc__max_depth=100, rfc__min_samples_leaf=1, rfc__min_samples_split=2, rfc__n_estimators=200, score=0.786, total=  51.2s\n",
      "[CV] rfc__criterion=entropy, rfc__max_depth=100, rfc__min_samples_leaf=1, rfc__min_samples_split=2, rfc__n_estimators=200 \n",
      "[CV]  rfc__criterion=entropy, rfc__max_depth=100, rfc__min_samples_leaf=1, rfc__min_samples_split=2, rfc__n_estimators=200, score=0.782, total=  51.2s\n",
      "[CV] rfc__criterion=entropy, rfc__max_depth=100, rfc__min_samples_leaf=1, rfc__min_samples_split=2, rfc__n_estimators=200 \n"
     ]
    },
    {
     "name": "stdout",
     "output_type": "stream",
     "text": [
      "[CV]  rfc__criterion=entropy, rfc__max_depth=100, rfc__min_samples_leaf=1, rfc__min_samples_split=2, rfc__n_estimators=200, score=0.783, total=  52.5s\n",
      "[CV] rfc__criterion=entropy, rfc__max_depth=100, rfc__min_samples_leaf=1, rfc__min_samples_split=2, rfc__n_estimators=200 \n",
      "[CV]  rfc__criterion=entropy, rfc__max_depth=100, rfc__min_samples_leaf=1, rfc__min_samples_split=2, rfc__n_estimators=200, score=0.781, total=  51.6s\n",
      "[CV] rfc__criterion=entropy, rfc__max_depth=100, rfc__min_samples_leaf=1, rfc__min_samples_split=5, rfc__n_estimators=100 \n",
      "[CV]  rfc__criterion=entropy, rfc__max_depth=100, rfc__min_samples_leaf=1, rfc__min_samples_split=5, rfc__n_estimators=100, score=0.796, total=  24.1s\n",
      "[CV] rfc__criterion=entropy, rfc__max_depth=100, rfc__min_samples_leaf=1, rfc__min_samples_split=5, rfc__n_estimators=100 \n",
      "[CV]  rfc__criterion=entropy, rfc__max_depth=100, rfc__min_samples_leaf=1, rfc__min_samples_split=5, rfc__n_estimators=100, score=0.792, total=  24.4s\n",
      "[CV] rfc__criterion=entropy, rfc__max_depth=100, rfc__min_samples_leaf=1, rfc__min_samples_split=5, rfc__n_estimators=100 \n",
      "[CV]  rfc__criterion=entropy, rfc__max_depth=100, rfc__min_samples_leaf=1, rfc__min_samples_split=5, rfc__n_estimators=100, score=0.790, total=  24.1s\n",
      "[CV] rfc__criterion=entropy, rfc__max_depth=100, rfc__min_samples_leaf=1, rfc__min_samples_split=5, rfc__n_estimators=100 \n",
      "[CV]  rfc__criterion=entropy, rfc__max_depth=100, rfc__min_samples_leaf=1, rfc__min_samples_split=5, rfc__n_estimators=100, score=0.792, total=  24.3s\n",
      "[CV] rfc__criterion=entropy, rfc__max_depth=100, rfc__min_samples_leaf=1, rfc__min_samples_split=5, rfc__n_estimators=100 \n",
      "[CV]  rfc__criterion=entropy, rfc__max_depth=100, rfc__min_samples_leaf=1, rfc__min_samples_split=5, rfc__n_estimators=100, score=0.786, total=  24.0s\n",
      "[CV] rfc__criterion=entropy, rfc__max_depth=100, rfc__min_samples_leaf=1, rfc__min_samples_split=5, rfc__n_estimators=200 \n",
      "[CV]  rfc__criterion=entropy, rfc__max_depth=100, rfc__min_samples_leaf=1, rfc__min_samples_split=5, rfc__n_estimators=200, score=0.796, total=  47.8s\n",
      "[CV] rfc__criterion=entropy, rfc__max_depth=100, rfc__min_samples_leaf=1, rfc__min_samples_split=5, rfc__n_estimators=200 \n",
      "[CV]  rfc__criterion=entropy, rfc__max_depth=100, rfc__min_samples_leaf=1, rfc__min_samples_split=5, rfc__n_estimators=200, score=0.791, total=  47.6s\n",
      "[CV] rfc__criterion=entropy, rfc__max_depth=100, rfc__min_samples_leaf=1, rfc__min_samples_split=5, rfc__n_estimators=200 \n",
      "[CV]  rfc__criterion=entropy, rfc__max_depth=100, rfc__min_samples_leaf=1, rfc__min_samples_split=5, rfc__n_estimators=200, score=0.791, total=  47.3s\n",
      "[CV] rfc__criterion=entropy, rfc__max_depth=100, rfc__min_samples_leaf=1, rfc__min_samples_split=5, rfc__n_estimators=200 \n",
      "[CV]  rfc__criterion=entropy, rfc__max_depth=100, rfc__min_samples_leaf=1, rfc__min_samples_split=5, rfc__n_estimators=200, score=0.792, total=  48.4s\n",
      "[CV] rfc__criterion=entropy, rfc__max_depth=100, rfc__min_samples_leaf=1, rfc__min_samples_split=5, rfc__n_estimators=200 \n",
      "[CV]  rfc__criterion=entropy, rfc__max_depth=100, rfc__min_samples_leaf=1, rfc__min_samples_split=5, rfc__n_estimators=200, score=0.789, total=  48.7s\n",
      "[CV] rfc__criterion=entropy, rfc__max_depth=100, rfc__min_samples_leaf=1, rfc__min_samples_split=10, rfc__n_estimators=100 \n",
      "[CV]  rfc__criterion=entropy, rfc__max_depth=100, rfc__min_samples_leaf=1, rfc__min_samples_split=10, rfc__n_estimators=100, score=0.799, total=  21.4s\n",
      "[CV] rfc__criterion=entropy, rfc__max_depth=100, rfc__min_samples_leaf=1, rfc__min_samples_split=10, rfc__n_estimators=100 \n",
      "[CV]  rfc__criterion=entropy, rfc__max_depth=100, rfc__min_samples_leaf=1, rfc__min_samples_split=10, rfc__n_estimators=100, score=0.796, total=  20.6s\n",
      "[CV] rfc__criterion=entropy, rfc__max_depth=100, rfc__min_samples_leaf=1, rfc__min_samples_split=10, rfc__n_estimators=100 \n",
      "[CV]  rfc__criterion=entropy, rfc__max_depth=100, rfc__min_samples_leaf=1, rfc__min_samples_split=10, rfc__n_estimators=100, score=0.793, total=  20.2s\n",
      "[CV] rfc__criterion=entropy, rfc__max_depth=100, rfc__min_samples_leaf=1, rfc__min_samples_split=10, rfc__n_estimators=100 \n",
      "[CV]  rfc__criterion=entropy, rfc__max_depth=100, rfc__min_samples_leaf=1, rfc__min_samples_split=10, rfc__n_estimators=100, score=0.790, total=  21.3s\n",
      "[CV] rfc__criterion=entropy, rfc__max_depth=100, rfc__min_samples_leaf=1, rfc__min_samples_split=10, rfc__n_estimators=100 \n",
      "[CV]  rfc__criterion=entropy, rfc__max_depth=100, rfc__min_samples_leaf=1, rfc__min_samples_split=10, rfc__n_estimators=100, score=0.788, total=  21.3s\n",
      "[CV] rfc__criterion=entropy, rfc__max_depth=100, rfc__min_samples_leaf=1, rfc__min_samples_split=10, rfc__n_estimators=200 \n",
      "[CV]  rfc__criterion=entropy, rfc__max_depth=100, rfc__min_samples_leaf=1, rfc__min_samples_split=10, rfc__n_estimators=200, score=0.799, total=  41.5s\n",
      "[CV] rfc__criterion=entropy, rfc__max_depth=100, rfc__min_samples_leaf=1, rfc__min_samples_split=10, rfc__n_estimators=200 \n",
      "[CV]  rfc__criterion=entropy, rfc__max_depth=100, rfc__min_samples_leaf=1, rfc__min_samples_split=10, rfc__n_estimators=200, score=0.796, total=  41.3s\n",
      "[CV] rfc__criterion=entropy, rfc__max_depth=100, rfc__min_samples_leaf=1, rfc__min_samples_split=10, rfc__n_estimators=200 \n",
      "[CV]  rfc__criterion=entropy, rfc__max_depth=100, rfc__min_samples_leaf=1, rfc__min_samples_split=10, rfc__n_estimators=200, score=0.793, total=  42.1s\n",
      "[CV] rfc__criterion=entropy, rfc__max_depth=100, rfc__min_samples_leaf=1, rfc__min_samples_split=10, rfc__n_estimators=200 \n",
      "[CV]  rfc__criterion=entropy, rfc__max_depth=100, rfc__min_samples_leaf=1, rfc__min_samples_split=10, rfc__n_estimators=200, score=0.792, total=  42.2s\n",
      "[CV] rfc__criterion=entropy, rfc__max_depth=100, rfc__min_samples_leaf=1, rfc__min_samples_split=10, rfc__n_estimators=200 \n",
      "[CV]  rfc__criterion=entropy, rfc__max_depth=100, rfc__min_samples_leaf=1, rfc__min_samples_split=10, rfc__n_estimators=200, score=0.791, total=  41.4s\n",
      "[CV] rfc__criterion=entropy, rfc__max_depth=100, rfc__min_samples_leaf=10, rfc__min_samples_split=2, rfc__n_estimators=100 \n",
      "[CV]  rfc__criterion=entropy, rfc__max_depth=100, rfc__min_samples_leaf=10, rfc__min_samples_split=2, rfc__n_estimators=100, score=0.749, total=  14.2s\n",
      "[CV] rfc__criterion=entropy, rfc__max_depth=100, rfc__min_samples_leaf=10, rfc__min_samples_split=2, rfc__n_estimators=100 \n",
      "[CV]  rfc__criterion=entropy, rfc__max_depth=100, rfc__min_samples_leaf=10, rfc__min_samples_split=2, rfc__n_estimators=100, score=0.741, total=  13.8s\n",
      "[CV] rfc__criterion=entropy, rfc__max_depth=100, rfc__min_samples_leaf=10, rfc__min_samples_split=2, rfc__n_estimators=100 \n",
      "[CV]  rfc__criterion=entropy, rfc__max_depth=100, rfc__min_samples_leaf=10, rfc__min_samples_split=2, rfc__n_estimators=100, score=0.738, total=  13.8s\n",
      "[CV] rfc__criterion=entropy, rfc__max_depth=100, rfc__min_samples_leaf=10, rfc__min_samples_split=2, rfc__n_estimators=100 \n",
      "[CV]  rfc__criterion=entropy, rfc__max_depth=100, rfc__min_samples_leaf=10, rfc__min_samples_split=2, rfc__n_estimators=100, score=0.745, total=  14.4s\n",
      "[CV] rfc__criterion=entropy, rfc__max_depth=100, rfc__min_samples_leaf=10, rfc__min_samples_split=2, rfc__n_estimators=100 \n",
      "[CV]  rfc__criterion=entropy, rfc__max_depth=100, rfc__min_samples_leaf=10, rfc__min_samples_split=2, rfc__n_estimators=100, score=0.740, total=  13.8s\n",
      "[CV] rfc__criterion=entropy, rfc__max_depth=100, rfc__min_samples_leaf=10, rfc__min_samples_split=2, rfc__n_estimators=200 \n",
      "[CV]  rfc__criterion=entropy, rfc__max_depth=100, rfc__min_samples_leaf=10, rfc__min_samples_split=2, rfc__n_estimators=200, score=0.751, total=  27.0s\n",
      "[CV] rfc__criterion=entropy, rfc__max_depth=100, rfc__min_samples_leaf=10, rfc__min_samples_split=2, rfc__n_estimators=200 \n",
      "[CV]  rfc__criterion=entropy, rfc__max_depth=100, rfc__min_samples_leaf=10, rfc__min_samples_split=2, rfc__n_estimators=200, score=0.744, total=  28.2s\n",
      "[CV] rfc__criterion=entropy, rfc__max_depth=100, rfc__min_samples_leaf=10, rfc__min_samples_split=2, rfc__n_estimators=200 \n",
      "[CV]  rfc__criterion=entropy, rfc__max_depth=100, rfc__min_samples_leaf=10, rfc__min_samples_split=2, rfc__n_estimators=200, score=0.740, total=  29.2s\n",
      "[CV] rfc__criterion=entropy, rfc__max_depth=100, rfc__min_samples_leaf=10, rfc__min_samples_split=2, rfc__n_estimators=200 \n"
     ]
    },
    {
     "name": "stdout",
     "output_type": "stream",
     "text": [
      "[CV]  rfc__criterion=entropy, rfc__max_depth=100, rfc__min_samples_leaf=10, rfc__min_samples_split=2, rfc__n_estimators=200, score=0.746, total=  29.9s\n",
      "[CV] rfc__criterion=entropy, rfc__max_depth=100, rfc__min_samples_leaf=10, rfc__min_samples_split=2, rfc__n_estimators=200 \n",
      "[CV]  rfc__criterion=entropy, rfc__max_depth=100, rfc__min_samples_leaf=10, rfc__min_samples_split=2, rfc__n_estimators=200, score=0.740, total=  28.4s\n",
      "[CV] rfc__criterion=entropy, rfc__max_depth=100, rfc__min_samples_leaf=10, rfc__min_samples_split=5, rfc__n_estimators=100 \n",
      "[CV]  rfc__criterion=entropy, rfc__max_depth=100, rfc__min_samples_leaf=10, rfc__min_samples_split=5, rfc__n_estimators=100, score=0.749, total=  15.2s\n",
      "[CV] rfc__criterion=entropy, rfc__max_depth=100, rfc__min_samples_leaf=10, rfc__min_samples_split=5, rfc__n_estimators=100 \n",
      "[CV]  rfc__criterion=entropy, rfc__max_depth=100, rfc__min_samples_leaf=10, rfc__min_samples_split=5, rfc__n_estimators=100, score=0.741, total=  15.0s\n",
      "[CV] rfc__criterion=entropy, rfc__max_depth=100, rfc__min_samples_leaf=10, rfc__min_samples_split=5, rfc__n_estimators=100 \n",
      "[CV]  rfc__criterion=entropy, rfc__max_depth=100, rfc__min_samples_leaf=10, rfc__min_samples_split=5, rfc__n_estimators=100, score=0.738, total=  15.0s\n",
      "[CV] rfc__criterion=entropy, rfc__max_depth=100, rfc__min_samples_leaf=10, rfc__min_samples_split=5, rfc__n_estimators=100 \n",
      "[CV]  rfc__criterion=entropy, rfc__max_depth=100, rfc__min_samples_leaf=10, rfc__min_samples_split=5, rfc__n_estimators=100, score=0.745, total=  15.4s\n",
      "[CV] rfc__criterion=entropy, rfc__max_depth=100, rfc__min_samples_leaf=10, rfc__min_samples_split=5, rfc__n_estimators=100 \n",
      "[CV]  rfc__criterion=entropy, rfc__max_depth=100, rfc__min_samples_leaf=10, rfc__min_samples_split=5, rfc__n_estimators=100, score=0.740, total=  14.6s\n",
      "[CV] rfc__criterion=entropy, rfc__max_depth=100, rfc__min_samples_leaf=10, rfc__min_samples_split=5, rfc__n_estimators=200 \n",
      "[CV]  rfc__criterion=entropy, rfc__max_depth=100, rfc__min_samples_leaf=10, rfc__min_samples_split=5, rfc__n_estimators=200, score=0.751, total=  29.0s\n",
      "[CV] rfc__criterion=entropy, rfc__max_depth=100, rfc__min_samples_leaf=10, rfc__min_samples_split=5, rfc__n_estimators=200 \n",
      "[CV]  rfc__criterion=entropy, rfc__max_depth=100, rfc__min_samples_leaf=10, rfc__min_samples_split=5, rfc__n_estimators=200, score=0.744, total=  29.0s\n",
      "[CV] rfc__criterion=entropy, rfc__max_depth=100, rfc__min_samples_leaf=10, rfc__min_samples_split=5, rfc__n_estimators=200 \n",
      "[CV]  rfc__criterion=entropy, rfc__max_depth=100, rfc__min_samples_leaf=10, rfc__min_samples_split=5, rfc__n_estimators=200, score=0.740, total=  29.0s\n",
      "[CV] rfc__criterion=entropy, rfc__max_depth=100, rfc__min_samples_leaf=10, rfc__min_samples_split=5, rfc__n_estimators=200 \n",
      "[CV]  rfc__criterion=entropy, rfc__max_depth=100, rfc__min_samples_leaf=10, rfc__min_samples_split=5, rfc__n_estimators=200, score=0.746, total=  30.2s\n",
      "[CV] rfc__criterion=entropy, rfc__max_depth=100, rfc__min_samples_leaf=10, rfc__min_samples_split=5, rfc__n_estimators=200 \n",
      "[CV]  rfc__criterion=entropy, rfc__max_depth=100, rfc__min_samples_leaf=10, rfc__min_samples_split=5, rfc__n_estimators=200, score=0.740, total=  28.9s\n",
      "[CV] rfc__criterion=entropy, rfc__max_depth=100, rfc__min_samples_leaf=10, rfc__min_samples_split=10, rfc__n_estimators=100 \n",
      "[CV]  rfc__criterion=entropy, rfc__max_depth=100, rfc__min_samples_leaf=10, rfc__min_samples_split=10, rfc__n_estimators=100, score=0.749, total=  15.7s\n",
      "[CV] rfc__criterion=entropy, rfc__max_depth=100, rfc__min_samples_leaf=10, rfc__min_samples_split=10, rfc__n_estimators=100 \n",
      "[CV]  rfc__criterion=entropy, rfc__max_depth=100, rfc__min_samples_leaf=10, rfc__min_samples_split=10, rfc__n_estimators=100, score=0.741, total=  15.4s\n",
      "[CV] rfc__criterion=entropy, rfc__max_depth=100, rfc__min_samples_leaf=10, rfc__min_samples_split=10, rfc__n_estimators=100 \n",
      "[CV]  rfc__criterion=entropy, rfc__max_depth=100, rfc__min_samples_leaf=10, rfc__min_samples_split=10, rfc__n_estimators=100, score=0.738, total=  16.0s\n",
      "[CV] rfc__criterion=entropy, rfc__max_depth=100, rfc__min_samples_leaf=10, rfc__min_samples_split=10, rfc__n_estimators=100 \n",
      "[CV]  rfc__criterion=entropy, rfc__max_depth=100, rfc__min_samples_leaf=10, rfc__min_samples_split=10, rfc__n_estimators=100, score=0.745, total=  15.4s\n",
      "[CV] rfc__criterion=entropy, rfc__max_depth=100, rfc__min_samples_leaf=10, rfc__min_samples_split=10, rfc__n_estimators=100 \n",
      "[CV]  rfc__criterion=entropy, rfc__max_depth=100, rfc__min_samples_leaf=10, rfc__min_samples_split=10, rfc__n_estimators=100, score=0.740, total=  14.7s\n",
      "[CV] rfc__criterion=entropy, rfc__max_depth=100, rfc__min_samples_leaf=10, rfc__min_samples_split=10, rfc__n_estimators=200 \n",
      "[CV]  rfc__criterion=entropy, rfc__max_depth=100, rfc__min_samples_leaf=10, rfc__min_samples_split=10, rfc__n_estimators=200, score=0.751, total=  28.8s\n",
      "[CV] rfc__criterion=entropy, rfc__max_depth=100, rfc__min_samples_leaf=10, rfc__min_samples_split=10, rfc__n_estimators=200 \n",
      "[CV]  rfc__criterion=entropy, rfc__max_depth=100, rfc__min_samples_leaf=10, rfc__min_samples_split=10, rfc__n_estimators=200, score=0.744, total=  28.6s\n",
      "[CV] rfc__criterion=entropy, rfc__max_depth=100, rfc__min_samples_leaf=10, rfc__min_samples_split=10, rfc__n_estimators=200 \n",
      "[CV]  rfc__criterion=entropy, rfc__max_depth=100, rfc__min_samples_leaf=10, rfc__min_samples_split=10, rfc__n_estimators=200, score=0.740, total=  28.7s\n",
      "[CV] rfc__criterion=entropy, rfc__max_depth=100, rfc__min_samples_leaf=10, rfc__min_samples_split=10, rfc__n_estimators=200 \n",
      "[CV]  rfc__criterion=entropy, rfc__max_depth=100, rfc__min_samples_leaf=10, rfc__min_samples_split=10, rfc__n_estimators=200, score=0.746, total=  29.9s\n",
      "[CV] rfc__criterion=entropy, rfc__max_depth=100, rfc__min_samples_leaf=10, rfc__min_samples_split=10, rfc__n_estimators=200 \n",
      "[CV]  rfc__criterion=entropy, rfc__max_depth=100, rfc__min_samples_leaf=10, rfc__min_samples_split=10, rfc__n_estimators=200, score=0.740, total=  28.9s\n"
     ]
    },
    {
     "name": "stderr",
     "output_type": "stream",
     "text": [
      "[Parallel(n_jobs=1)]: Done 360 out of 360 | elapsed: 172.5min finished\n"
     ]
    },
    {
     "data": {
      "text/plain": [
       "GridSearchCV(cv=5,\n",
       "             estimator=Pipeline(steps=[('ct',\n",
       "                                        ColumnTransformer(transformers=[('subpipe_num',\n",
       "                                                                         Pipeline(steps=[('ss',\n",
       "                                                                                          StandardScaler())]),\n",
       "                                                                         ['amount_tsh',\n",
       "                                                                          'gps_height',\n",
       "                                                                          'population']),\n",
       "                                                                        ('subpipe_cat',\n",
       "                                                                         Pipeline(steps=[('ohe',\n",
       "                                                                                          OneHotEncoder(handle_unknown='ignore',\n",
       "                                                                                                        sparse=False))]),\n",
       "                                                                         ['installer',\n",
       "                                                                          'basin',\n",
       "                                                                          'region',\n",
       "                                                                          'district_code',\n",
       "                                                                          'lga',\n",
       "                                                                          'management',\n",
       "                                                                          'extraction...\n",
       "                                                                          'source',\n",
       "                                                                          'waterpoint_type']),\n",
       "                                                                        ('subpipe_bool',\n",
       "                                                                         Pipeline(steps=[('ord',\n",
       "                                                                                          OrdinalEncoder())]),\n",
       "                                                                         ['public_meeting',\n",
       "                                                                          'permit'])])),\n",
       "                                       ('rfc',\n",
       "                                        RandomForestClassifier(random_state=42))]),\n",
       "             param_grid={'rfc__criterion': ['gini', 'entropy'],\n",
       "                         'rfc__max_depth': [None, 50, 100],\n",
       "                         'rfc__min_samples_leaf': [1, 10],\n",
       "                         'rfc__min_samples_split': [2, 5, 10],\n",
       "                         'rfc__n_estimators': [100, 200]},\n",
       "             verbose=3)"
      ]
     },
     "execution_count": 35,
     "metadata": {},
     "output_type": "execute_result"
    }
   ],
   "source": [
    "gs.fit(X_train, y_train)"
   ]
  },
  {
   "cell_type": "code",
   "execution_count": 36,
   "metadata": {},
   "outputs": [
    {
     "data": {
      "text/plain": [
       "{'rfc__criterion': 'gini',\n",
       " 'rfc__max_depth': 50,\n",
       " 'rfc__min_samples_leaf': 1,\n",
       " 'rfc__min_samples_split': 10,\n",
       " 'rfc__n_estimators': 200}"
      ]
     },
     "execution_count": 36,
     "metadata": {},
     "output_type": "execute_result"
    }
   ],
   "source": [
    "gs.best_params_"
   ]
  },
  {
   "cell_type": "code",
   "execution_count": 37,
   "metadata": {},
   "outputs": [
    {
     "data": {
      "text/plain": [
       "0.7958698092031424"
      ]
     },
     "execution_count": 37,
     "metadata": {},
     "output_type": "execute_result"
    }
   ],
   "source": [
    "gs.best_score_"
   ]
  },
  {
   "cell_type": "code",
   "execution_count": 36,
   "metadata": {},
   "outputs": [],
   "source": [
    "rfc = RandomForestClassifier(n_estimators=200, criterion='gini', max_depth=50,\n",
    "                             min_samples_leaf=1, min_samples_split=10, \n",
    "                             random_state=42)\n",
    "first_GS_rfc = Pipeline(steps = [('ct', CT),\n",
    "                            ('rfc', rfc )])"
   ]
  },
  {
   "cell_type": "code",
   "execution_count": 37,
   "metadata": {},
   "outputs": [
    {
     "data": {
      "text/plain": [
       "Pipeline(steps=[('ct',\n",
       "                 ColumnTransformer(transformers=[('subpipe_num',\n",
       "                                                  Pipeline(steps=[('ss',\n",
       "                                                                   StandardScaler())]),\n",
       "                                                  ['amount_tsh', 'gps_height',\n",
       "                                                   'population']),\n",
       "                                                 ('subpipe_cat',\n",
       "                                                  Pipeline(steps=[('ohe',\n",
       "                                                                   OneHotEncoder(handle_unknown='ignore',\n",
       "                                                                                 sparse=False))]),\n",
       "                                                  ['installer', 'basin',\n",
       "                                                   'region', 'district_code',\n",
       "                                                   'lga', 'management',\n",
       "                                                   'extraction_type', 'payment',\n",
       "                                                   'water_quality', 'quantity',\n",
       "                                                   'source',\n",
       "                                                   'waterpoint_type']),\n",
       "                                                 ('subpipe_bool',\n",
       "                                                  Pipeline(steps=[('ord',\n",
       "                                                                   OrdinalEncoder())]),\n",
       "                                                  ['public_meeting',\n",
       "                                                   'permit'])])),\n",
       "                ('rfc',\n",
       "                 RandomForestClassifier(max_depth=50, min_samples_split=10,\n",
       "                                        n_estimators=200, random_state=42))])"
      ]
     },
     "execution_count": 37,
     "metadata": {},
     "output_type": "execute_result"
    }
   ],
   "source": [
    "first_GS_rfc.fit(X_train, y_train)"
   ]
  },
  {
   "cell_type": "code",
   "execution_count": 34,
   "metadata": {},
   "outputs": [
    {
     "data": {
      "text/plain": [
       "0.8675869809203143"
      ]
     },
     "execution_count": 34,
     "metadata": {},
     "output_type": "execute_result"
    }
   ],
   "source": [
    "#not cross-validated score\n",
    "first_GS_rfc.score(X_train, y_train)"
   ]
  },
  {
   "cell_type": "code",
   "execution_count": 35,
   "metadata": {},
   "outputs": [
    {
     "data": {
      "text/plain": [
       "0.7966329966329966"
      ]
     },
     "execution_count": 35,
     "metadata": {},
     "output_type": "execute_result"
    }
   ],
   "source": [
    "first_GS_rfc.score(X_test, y_test)"
   ]
  },
  {
   "cell_type": "code",
   "execution_count": 39,
   "metadata": {},
   "outputs": [
    {
     "data": {
      "text/plain": [
       "0.8675869809203143"
      ]
     },
     "execution_count": 39,
     "metadata": {},
     "output_type": "execute_result"
    }
   ],
   "source": [
    "gs.score(X_train, y_train)"
   ]
  },
  {
   "cell_type": "code",
   "execution_count": null,
   "metadata": {},
   "outputs": [],
   "source": [
    "#FunctionTransformer to select features"
   ]
  },
  {
   "cell_type": "code",
   "execution_count": 41,
   "metadata": {},
   "outputs": [],
   "source": [
    "#pass in a list of features\n",
    "#create col lists of numeric, categorical, and boolean data\n",
    "def GrabTypes(features, df):\n",
    "    df_features = df[features]\n",
    "    num_df = df_features.select_dtypes(include='number')\n",
    "    num_cols = list(num_df.columns)\n",
    "    cat_df = df_features.select_dtypes(include='object')\n",
    "    cat_cols = list(cat_df.columns)\n",
    "    bool_df = df_features.select_dtypes(include='boolean')\n",
    "    bool_cols = list(bool_df.columns)\n",
    "    return (num_cols, cat_cols, bool_cols)"
   ]
  },
  {
   "cell_type": "markdown",
   "metadata": {},
   "source": [
    "## Confusion Matrix"
   ]
  },
  {
   "cell_type": "code",
   "execution_count": 26,
   "metadata": {},
   "outputs": [
    {
     "data": {
      "image/png": "[encoded data removed]",
      "text/plain": [
       "<Figure size 432x288 with 2 Axes>"
      ]
     },
     "metadata": {
      "needs_background": "light"
     },
     "output_type": "display_data"
    }
   ],
   "source": [
    "plot_confusion_matrix(first_GS_rfc, X_test, y_test);"
   ]
  },
  {
   "cell_type": "code",
   "execution_count": null,
   "metadata": {},
   "outputs": [],
   "source": [
    "df['status_group']"
   ]
  },
  {
   "cell_type": "markdown",
   "metadata": {},
   "source": [
    "## Second GridSearch"
   ]
  },
  {
   "cell_type": "code",
   "execution_count": 44,
   "metadata": {},
   "outputs": [
    {
     "data": {
      "text/plain": [
       "14"
      ]
     },
     "execution_count": 44,
     "metadata": {},
     "output_type": "execute_result"
    }
   ],
   "source": [
    "second_features = ['amount_tsh', 'gps_height', 'basin', 'region', 'district_code', 'lga', 'population', 'management', 'extraction_type_class', 'payment', \n",
    "                   'quality_group', 'quantity', 'source_class', 'waterpoint_type']\n",
    "len(second_features)"
   ]
  },
  {
   "cell_type": "code",
   "execution_count": 45,
   "metadata": {},
   "outputs": [],
   "source": [
    "features_type = GrabTypes(second_features, df)"
   ]
  },
  {
   "cell_type": "code",
   "execution_count": 46,
   "metadata": {},
   "outputs": [
    {
     "data": {
      "text/plain": [
       "(['amount_tsh', 'gps_height', 'population'],\n",
       " ['basin',\n",
       "  'region',\n",
       "  'district_code',\n",
       "  'lga',\n",
       "  'management',\n",
       "  'extraction_type_class',\n",
       "  'payment',\n",
       "  'quality_group',\n",
       "  'quantity',\n",
       "  'source_class',\n",
       "  'waterpoint_type'],\n",
       " [])"
      ]
     },
     "execution_count": 46,
     "metadata": {},
     "output_type": "execute_result"
    }
   ],
   "source": [
    "features_type"
   ]
  },
  {
   "cell_type": "code",
   "execution_count": 47,
   "metadata": {},
   "outputs": [],
   "source": [
    "CT = ColumnTransformer(transformers=[('subpipe_num', subpipe_num, features_type[0]),\n",
    "                                     ('subpipe_cat', subpipe_cat, features_type[1]),\n",
    "                                     ('subpipe_bool', subpipe_bool, features_type[2])],\n",
    "                       remainder='drop')"
   ]
  },
  {
   "cell_type": "code",
   "execution_count": 48,
   "metadata": {},
   "outputs": [],
   "source": [
    "rfc = RandomForestClassifier(random_state=42)\n",
    "\n",
    "second_model_pipe = Pipeline(steps = [('ct', CT),\n",
    "                            ('rfc', rfc )])"
   ]
  },
  {
   "cell_type": "code",
   "execution_count": 50,
   "metadata": {},
   "outputs": [
    {
     "data": {
      "text/plain": [
       "Pipeline(steps=[('ct',\n",
       "                 ColumnTransformer(transformers=[('subpipe_num',\n",
       "                                                  Pipeline(steps=[('ss',\n",
       "                                                                   StandardScaler())]),\n",
       "                                                  ['amount_tsh', 'gps_height',\n",
       "                                                   'population']),\n",
       "                                                 ('subpipe_cat',\n",
       "                                                  Pipeline(steps=[('ohe',\n",
       "                                                                   OneHotEncoder(handle_unknown='ignore',\n",
       "                                                                                 sparse=False))]),\n",
       "                                                  ['basin', 'region',\n",
       "                                                   'district_code', 'lga',\n",
       "                                                   'management',\n",
       "                                                   'extraction_type_class',\n",
       "                                                   'payment', 'quality_group',\n",
       "                                                   'quantity', 'source_class',\n",
       "                                                   'waterpoint_type']),\n",
       "                                                 ('subpipe_bool',\n",
       "                                                  Pipeline(steps=[('ord',\n",
       "                                                                   OrdinalEncoder())]),\n",
       "                                                  [])])),\n",
       "                ('rfc', RandomForestClassifier(random_state=42))])"
      ]
     },
     "execution_count": 50,
     "metadata": {},
     "output_type": "execute_result"
    }
   ],
   "source": [
    "second_model_pipe.fit(X_train, y_train)"
   ]
  },
  {
   "cell_type": "code",
   "execution_count": 52,
   "metadata": {},
   "outputs": [
    {
     "data": {
      "text/plain": [
       "0.9320089786756454"
      ]
     },
     "execution_count": 52,
     "metadata": {},
     "output_type": "execute_result"
    }
   ],
   "source": [
    "second_model_pipe.score(X_train, y_train)"
   ]
  },
  {
   "cell_type": "code",
   "execution_count": 53,
   "metadata": {},
   "outputs": [
    {
     "data": {
      "text/plain": [
       "0.7695622895622896"
      ]
     },
     "execution_count": 53,
     "metadata": {},
     "output_type": "execute_result"
    }
   ],
   "source": [
    "second_model_pipe.score(X_test, y_test)"
   ]
  },
  {
   "cell_type": "code",
   "execution_count": 58,
   "metadata": {},
   "outputs": [],
   "source": [
    "params = {'rfc__n_estimators':[200],\n",
    "          'rfc__max_depth':[None, 50],\n",
    "          'rfc__min_samples_leaf': [1, 10],\n",
    "          'rfc__min_samples_split': [5, 10]}\n",
    "gs = GridSearchCV(estimator = second_model_pipe, param_grid = params, cv=5, verbose=3)"
   ]
  },
  {
   "cell_type": "code",
   "execution_count": 59,
   "metadata": {
    "scrolled": true
   },
   "outputs": [
    {
     "name": "stdout",
     "output_type": "stream",
     "text": [
      "Fitting 5 folds for each of 8 candidates, totalling 40 fits\n",
      "[CV] rfc__max_depth=None, rfc__min_samples_leaf=1, rfc__min_samples_split=5, rfc__n_estimators=200 \n"
     ]
    },
    {
     "name": "stderr",
     "output_type": "stream",
     "text": [
      "[Parallel(n_jobs=1)]: Using backend SequentialBackend with 1 concurrent workers.\n"
     ]
    },
    {
     "name": "stdout",
     "output_type": "stream",
     "text": [
      "[CV]  rfc__max_depth=None, rfc__min_samples_leaf=1, rfc__min_samples_split=5, rfc__n_estimators=200, score=0.783, total=  13.0s\n",
      "[CV] rfc__max_depth=None, rfc__min_samples_leaf=1, rfc__min_samples_split=5, rfc__n_estimators=200 \n"
     ]
    },
    {
     "name": "stderr",
     "output_type": "stream",
     "text": [
      "[Parallel(n_jobs=1)]: Done   1 out of   1 | elapsed:   12.9s remaining:    0.0s\n"
     ]
    },
    {
     "name": "stdout",
     "output_type": "stream",
     "text": [
      "[CV]  rfc__max_depth=None, rfc__min_samples_leaf=1, rfc__min_samples_split=5, rfc__n_estimators=200, score=0.780, total=  14.0s\n",
      "[CV] rfc__max_depth=None, rfc__min_samples_leaf=1, rfc__min_samples_split=5, rfc__n_estimators=200 \n"
     ]
    },
    {
     "name": "stderr",
     "output_type": "stream",
     "text": [
      "[Parallel(n_jobs=1)]: Done   2 out of   2 | elapsed:   26.9s remaining:    0.0s\n"
     ]
    },
    {
     "name": "stdout",
     "output_type": "stream",
     "text": [
      "[CV]  rfc__max_depth=None, rfc__min_samples_leaf=1, rfc__min_samples_split=5, rfc__n_estimators=200, score=0.781, total=  14.0s\n",
      "[CV] rfc__max_depth=None, rfc__min_samples_leaf=1, rfc__min_samples_split=5, rfc__n_estimators=200 \n",
      "[CV]  rfc__max_depth=None, rfc__min_samples_leaf=1, rfc__min_samples_split=5, rfc__n_estimators=200, score=0.780, total=  14.6s\n",
      "[CV] rfc__max_depth=None, rfc__min_samples_leaf=1, rfc__min_samples_split=5, rfc__n_estimators=200 \n",
      "[CV]  rfc__max_depth=None, rfc__min_samples_leaf=1, rfc__min_samples_split=5, rfc__n_estimators=200, score=0.778, total=  13.7s\n",
      "[CV] rfc__max_depth=None, rfc__min_samples_leaf=1, rfc__min_samples_split=10, rfc__n_estimators=200 \n",
      "[CV]  rfc__max_depth=None, rfc__min_samples_leaf=1, rfc__min_samples_split=10, rfc__n_estimators=200, score=0.791, total=  14.3s\n",
      "[CV] rfc__max_depth=None, rfc__min_samples_leaf=1, rfc__min_samples_split=10, rfc__n_estimators=200 \n",
      "[CV]  rfc__max_depth=None, rfc__min_samples_leaf=1, rfc__min_samples_split=10, rfc__n_estimators=200, score=0.783, total=  14.0s\n",
      "[CV] rfc__max_depth=None, rfc__min_samples_leaf=1, rfc__min_samples_split=10, rfc__n_estimators=200 \n",
      "[CV]  rfc__max_depth=None, rfc__min_samples_leaf=1, rfc__min_samples_split=10, rfc__n_estimators=200, score=0.784, total=  13.9s\n",
      "[CV] rfc__max_depth=None, rfc__min_samples_leaf=1, rfc__min_samples_split=10, rfc__n_estimators=200 \n",
      "[CV]  rfc__max_depth=None, rfc__min_samples_leaf=1, rfc__min_samples_split=10, rfc__n_estimators=200, score=0.787, total=  13.5s\n",
      "[CV] rfc__max_depth=None, rfc__min_samples_leaf=1, rfc__min_samples_split=10, rfc__n_estimators=200 \n",
      "[CV]  rfc__max_depth=None, rfc__min_samples_leaf=1, rfc__min_samples_split=10, rfc__n_estimators=200, score=0.778, total=  12.6s\n",
      "[CV] rfc__max_depth=None, rfc__min_samples_leaf=10, rfc__min_samples_split=5, rfc__n_estimators=200 \n",
      "[CV]  rfc__max_depth=None, rfc__min_samples_leaf=10, rfc__min_samples_split=5, rfc__n_estimators=200, score=0.771, total=  11.6s\n",
      "[CV] rfc__max_depth=None, rfc__min_samples_leaf=10, rfc__min_samples_split=5, rfc__n_estimators=200 \n",
      "[CV]  rfc__max_depth=None, rfc__min_samples_leaf=10, rfc__min_samples_split=5, rfc__n_estimators=200, score=0.760, total=  10.9s\n",
      "[CV] rfc__max_depth=None, rfc__min_samples_leaf=10, rfc__min_samples_split=5, rfc__n_estimators=200 \n",
      "[CV]  rfc__max_depth=None, rfc__min_samples_leaf=10, rfc__min_samples_split=5, rfc__n_estimators=200, score=0.760, total=  11.1s\n",
      "[CV] rfc__max_depth=None, rfc__min_samples_leaf=10, rfc__min_samples_split=5, rfc__n_estimators=200 \n",
      "[CV]  rfc__max_depth=None, rfc__min_samples_leaf=10, rfc__min_samples_split=5, rfc__n_estimators=200, score=0.767, total=  10.8s\n",
      "[CV] rfc__max_depth=None, rfc__min_samples_leaf=10, rfc__min_samples_split=5, rfc__n_estimators=200 \n",
      "[CV]  rfc__max_depth=None, rfc__min_samples_leaf=10, rfc__min_samples_split=5, rfc__n_estimators=200, score=0.757, total=  10.2s\n",
      "[CV] rfc__max_depth=None, rfc__min_samples_leaf=10, rfc__min_samples_split=10, rfc__n_estimators=200 \n",
      "[CV]  rfc__max_depth=None, rfc__min_samples_leaf=10, rfc__min_samples_split=10, rfc__n_estimators=200, score=0.771, total=  11.3s\n",
      "[CV] rfc__max_depth=None, rfc__min_samples_leaf=10, rfc__min_samples_split=10, rfc__n_estimators=200 \n",
      "[CV]  rfc__max_depth=None, rfc__min_samples_leaf=10, rfc__min_samples_split=10, rfc__n_estimators=200, score=0.760, total=  10.8s\n",
      "[CV] rfc__max_depth=None, rfc__min_samples_leaf=10, rfc__min_samples_split=10, rfc__n_estimators=200 \n",
      "[CV]  rfc__max_depth=None, rfc__min_samples_leaf=10, rfc__min_samples_split=10, rfc__n_estimators=200, score=0.760, total=  11.5s\n",
      "[CV] rfc__max_depth=None, rfc__min_samples_leaf=10, rfc__min_samples_split=10, rfc__n_estimators=200 \n",
      "[CV]  rfc__max_depth=None, rfc__min_samples_leaf=10, rfc__min_samples_split=10, rfc__n_estimators=200, score=0.767, total=  11.0s\n",
      "[CV] rfc__max_depth=None, rfc__min_samples_leaf=10, rfc__min_samples_split=10, rfc__n_estimators=200 \n",
      "[CV]  rfc__max_depth=None, rfc__min_samples_leaf=10, rfc__min_samples_split=10, rfc__n_estimators=200, score=0.757, total=  10.3s\n",
      "[CV] rfc__max_depth=50, rfc__min_samples_leaf=1, rfc__min_samples_split=5, rfc__n_estimators=200 \n",
      "[CV]  rfc__max_depth=50, rfc__min_samples_leaf=1, rfc__min_samples_split=5, rfc__n_estimators=200, score=0.785, total=  14.5s\n",
      "[CV] rfc__max_depth=50, rfc__min_samples_leaf=1, rfc__min_samples_split=5, rfc__n_estimators=200 \n",
      "[CV]  rfc__max_depth=50, rfc__min_samples_leaf=1, rfc__min_samples_split=5, rfc__n_estimators=200, score=0.780, total=  14.5s\n",
      "[CV] rfc__max_depth=50, rfc__min_samples_leaf=1, rfc__min_samples_split=5, rfc__n_estimators=200 \n",
      "[CV]  rfc__max_depth=50, rfc__min_samples_leaf=1, rfc__min_samples_split=5, rfc__n_estimators=200, score=0.782, total=  14.4s\n",
      "[CV] rfc__max_depth=50, rfc__min_samples_leaf=1, rfc__min_samples_split=5, rfc__n_estimators=200 \n",
      "[CV]  rfc__max_depth=50, rfc__min_samples_leaf=1, rfc__min_samples_split=5, rfc__n_estimators=200, score=0.781, total=  14.5s\n",
      "[CV] rfc__max_depth=50, rfc__min_samples_leaf=1, rfc__min_samples_split=5, rfc__n_estimators=200 \n",
      "[CV]  rfc__max_depth=50, rfc__min_samples_leaf=1, rfc__min_samples_split=5, rfc__n_estimators=200, score=0.780, total=  13.7s\n",
      "[CV] rfc__max_depth=50, rfc__min_samples_leaf=1, rfc__min_samples_split=10, rfc__n_estimators=200 \n",
      "[CV]  rfc__max_depth=50, rfc__min_samples_leaf=1, rfc__min_samples_split=10, rfc__n_estimators=200, score=0.791, total=  14.1s\n",
      "[CV] rfc__max_depth=50, rfc__min_samples_leaf=1, rfc__min_samples_split=10, rfc__n_estimators=200 \n",
      "[CV]  rfc__max_depth=50, rfc__min_samples_leaf=1, rfc__min_samples_split=10, rfc__n_estimators=200, score=0.782, total=  14.5s\n",
      "[CV] rfc__max_depth=50, rfc__min_samples_leaf=1, rfc__min_samples_split=10, rfc__n_estimators=200 \n",
      "[CV]  rfc__max_depth=50, rfc__min_samples_leaf=1, rfc__min_samples_split=10, rfc__n_estimators=200, score=0.784, total=  13.9s\n",
      "[CV] rfc__max_depth=50, rfc__min_samples_leaf=1, rfc__min_samples_split=10, rfc__n_estimators=200 \n",
      "[CV]  rfc__max_depth=50, rfc__min_samples_leaf=1, rfc__min_samples_split=10, rfc__n_estimators=200, score=0.786, total=  13.9s\n",
      "[CV] rfc__max_depth=50, rfc__min_samples_leaf=1, rfc__min_samples_split=10, rfc__n_estimators=200 \n",
      "[CV]  rfc__max_depth=50, rfc__min_samples_leaf=1, rfc__min_samples_split=10, rfc__n_estimators=200, score=0.778, total=  13.2s\n",
      "[CV] rfc__max_depth=50, rfc__min_samples_leaf=10, rfc__min_samples_split=5, rfc__n_estimators=200 \n",
      "[CV]  rfc__max_depth=50, rfc__min_samples_leaf=10, rfc__min_samples_split=5, rfc__n_estimators=200, score=0.771, total=  11.3s\n",
      "[CV] rfc__max_depth=50, rfc__min_samples_leaf=10, rfc__min_samples_split=5, rfc__n_estimators=200 \n",
      "[CV]  rfc__max_depth=50, rfc__min_samples_leaf=10, rfc__min_samples_split=5, rfc__n_estimators=200, score=0.760, total=  11.2s\n",
      "[CV] rfc__max_depth=50, rfc__min_samples_leaf=10, rfc__min_samples_split=5, rfc__n_estimators=200 \n",
      "[CV]  rfc__max_depth=50, rfc__min_samples_leaf=10, rfc__min_samples_split=5, rfc__n_estimators=200, score=0.761, total=  11.2s\n",
      "[CV] rfc__max_depth=50, rfc__min_samples_leaf=10, rfc__min_samples_split=5, rfc__n_estimators=200 \n",
      "[CV]  rfc__max_depth=50, rfc__min_samples_leaf=10, rfc__min_samples_split=5, rfc__n_estimators=200, score=0.767, total=  11.3s\n",
      "[CV] rfc__max_depth=50, rfc__min_samples_leaf=10, rfc__min_samples_split=5, rfc__n_estimators=200 \n",
      "[CV]  rfc__max_depth=50, rfc__min_samples_leaf=10, rfc__min_samples_split=5, rfc__n_estimators=200, score=0.757, total=  10.2s\n",
      "[CV] rfc__max_depth=50, rfc__min_samples_leaf=10, rfc__min_samples_split=10, rfc__n_estimators=200 \n",
      "[CV]  rfc__max_depth=50, rfc__min_samples_leaf=10, rfc__min_samples_split=10, rfc__n_estimators=200, score=0.771, total=   9.9s\n",
      "[CV] rfc__max_depth=50, rfc__min_samples_leaf=10, rfc__min_samples_split=10, rfc__n_estimators=200 \n",
      "[CV]  rfc__max_depth=50, rfc__min_samples_leaf=10, rfc__min_samples_split=10, rfc__n_estimators=200, score=0.760, total=   9.9s\n",
      "[CV] rfc__max_depth=50, rfc__min_samples_leaf=10, rfc__min_samples_split=10, rfc__n_estimators=200 \n",
      "[CV]  rfc__max_depth=50, rfc__min_samples_leaf=10, rfc__min_samples_split=10, rfc__n_estimators=200, score=0.761, total=  11.3s\n",
      "[CV] rfc__max_depth=50, rfc__min_samples_leaf=10, rfc__min_samples_split=10, rfc__n_estimators=200 \n"
     ]
    },
    {
     "name": "stdout",
     "output_type": "stream",
     "text": [
      "[CV]  rfc__max_depth=50, rfc__min_samples_leaf=10, rfc__min_samples_split=10, rfc__n_estimators=200, score=0.767, total=  11.3s\n",
      "[CV] rfc__max_depth=50, rfc__min_samples_leaf=10, rfc__min_samples_split=10, rfc__n_estimators=200 \n",
      "[CV]  rfc__max_depth=50, rfc__min_samples_leaf=10, rfc__min_samples_split=10, rfc__n_estimators=200, score=0.757, total=  10.5s\n"
     ]
    },
    {
     "name": "stderr",
     "output_type": "stream",
     "text": [
      "[Parallel(n_jobs=1)]: Done  40 out of  40 | elapsed:  8.3min finished\n"
     ]
    },
    {
     "data": {
      "text/plain": [
       "GridSearchCV(cv=5,\n",
       "             estimator=Pipeline(steps=[('ct',\n",
       "                                        ColumnTransformer(transformers=[('subpipe_num',\n",
       "                                                                         Pipeline(steps=[('ss',\n",
       "                                                                                          StandardScaler())]),\n",
       "                                                                         ['amount_tsh',\n",
       "                                                                          'gps_height',\n",
       "                                                                          'population']),\n",
       "                                                                        ('subpipe_cat',\n",
       "                                                                         Pipeline(steps=[('ohe',\n",
       "                                                                                          OneHotEncoder(handle_unknown='ignore',\n",
       "                                                                                                        sparse=False))]),\n",
       "                                                                         ['basin',\n",
       "                                                                          'region',\n",
       "                                                                          'district_code',\n",
       "                                                                          'lga',\n",
       "                                                                          'management',\n",
       "                                                                          'extraction_type_class',\n",
       "                                                                          'payment',\n",
       "                                                                          'quality_group',\n",
       "                                                                          'quantity',\n",
       "                                                                          'source_class',\n",
       "                                                                          'waterpoint_type']),\n",
       "                                                                        ('subpipe_bool',\n",
       "                                                                         Pipeline(steps=[('ord',\n",
       "                                                                                          OrdinalEncoder())]),\n",
       "                                                                         [])])),\n",
       "                                       ('rfc',\n",
       "                                        RandomForestClassifier(random_state=42))]),\n",
       "             param_grid={'rfc__max_depth': [None, 50],\n",
       "                         'rfc__min_samples_leaf': [1, 10],\n",
       "                         'rfc__min_samples_split': [5, 10],\n",
       "                         'rfc__n_estimators': [200]},\n",
       "             verbose=3)"
      ]
     },
     "execution_count": 59,
     "metadata": {},
     "output_type": "execute_result"
    }
   ],
   "source": [
    "gs.fit(X_train, y_train)"
   ]
  },
  {
   "cell_type": "code",
   "execution_count": 60,
   "metadata": {},
   "outputs": [
    {
     "data": {
      "text/plain": [
       "{'rfc__max_depth': None,\n",
       " 'rfc__min_samples_leaf': 1,\n",
       " 'rfc__min_samples_split': 10,\n",
       " 'rfc__n_estimators': 200}"
      ]
     },
     "execution_count": 60,
     "metadata": {},
     "output_type": "execute_result"
    }
   ],
   "source": [
    "gs.best_params_"
   ]
  },
  {
   "cell_type": "code",
   "execution_count": 61,
   "metadata": {},
   "outputs": [
    {
     "data": {
      "text/plain": [
       "0.784736251402918"
      ]
     },
     "execution_count": 61,
     "metadata": {},
     "output_type": "execute_result"
    }
   ],
   "source": [
    "gs.best_score_"
   ]
  },
  {
   "cell_type": "markdown",
   "metadata": {},
   "source": [
    "The second model did not have an improvment in CV scores."
   ]
  },
  {
   "cell_type": "code",
   "execution_count": 70,
   "metadata": {
    "scrolled": true
   },
   "outputs": [
    {
     "data": {
      "text/plain": [
       "array([3.74347599e-02, 1.99680606e-01, 1.10727704e-01, 5.54994002e-03,\n",
       "       4.29643718e-03, 3.31393254e-03, 4.37686902e-03, 4.96463487e-03,\n",
       "       3.57149221e-03, 4.12190481e-03, 3.48181061e-03, 3.64674275e-03,\n",
       "       2.71437821e-03, 7.14839740e-04, 1.95412519e-03, 4.76858508e-03,\n",
       "       2.00948996e-03, 3.22981168e-03, 2.94670234e-03, 1.56868717e-03,\n",
       "       1.63260342e-03, 2.53670971e-03, 2.05609966e-03, 2.39215317e-03,\n",
       "       1.98740381e-03, 2.24268603e-03, 2.10763037e-03, 2.16298581e-03,\n",
       "       1.96564188e-03, 3.58211699e-03, 2.04643684e-03, 1.62455652e-03,\n",
       "       1.83519593e-03, 1.55532981e-04, 7.29619087e-03, 4.47643497e-04,\n",
       "       6.38260901e-03, 5.63112575e-04, 5.89150458e-03, 1.66085351e-03,\n",
       "       1.66235094e-03, 5.25516992e-03, 7.55484378e-04, 3.86221360e-03,\n",
       "       1.40653086e-03, 3.36218056e-03, 3.20368920e-04, 1.50354809e-04,\n",
       "       2.27008893e-04, 6.82185469e-06, 3.24662470e-03, 1.78150237e-03,\n",
       "       6.36341094e-05, 1.24266339e-03, 1.32237500e-04, 8.45302919e-04,\n",
       "       8.54055376e-04, 3.28540975e-04, 3.52777327e-03, 5.36188311e-04,\n",
       "       6.52188712e-04, 2.11468262e-04, 2.42574931e-04, 7.82900570e-04,\n",
       "       6.51647277e-04, 4.05961316e-04, 1.40896214e-03, 6.54573683e-04,\n",
       "       1.65452175e-03, 5.15088488e-04, 4.03454329e-04, 2.96272928e-04,\n",
       "       6.71262718e-04, 5.19915524e-04, 4.71928048e-04, 3.36460748e-04,\n",
       "       5.18168447e-04, 6.66024839e-04, 1.24711147e-03, 8.00773606e-04,\n",
       "       4.74302351e-04, 1.27712111e-03, 4.51053052e-04, 1.04360068e-03,\n",
       "       2.76834881e-03, 1.02120991e-04, 3.95645856e-04, 4.62915937e-04,\n",
       "       6.37996447e-04, 1.23577474e-03, 4.64476886e-04, 1.62345508e-04,\n",
       "       6.52140655e-04, 5.66938684e-04, 6.43770046e-04, 1.14829090e-03,\n",
       "       9.09203014e-04, 6.66400455e-04, 9.50233285e-04, 1.73141145e-03,\n",
       "       5.71842320e-04, 2.14594793e-05, 1.93616942e-04, 3.65105731e-04,\n",
       "       3.14647308e-04, 4.57057530e-04, 4.14587169e-04, 1.45038873e-03,\n",
       "       5.86942509e-04, 1.02078824e-03, 8.05021863e-04, 1.04371441e-03,\n",
       "       4.68175062e-04, 3.64480503e-04, 6.90516250e-04, 8.10337481e-04,\n",
       "       3.42200946e-04, 6.25807725e-04, 7.68922585e-04, 6.89387647e-04,\n",
       "       6.44493461e-04, 7.39623174e-04, 6.87326585e-04, 4.73699937e-04,\n",
       "       6.28485827e-04, 2.23036420e-04, 1.41821298e-03, 1.54065868e-04,\n",
       "       1.21394188e-03, 8.73658979e-04, 4.62384645e-04, 1.87673029e-04,\n",
       "       3.20875913e-04, 5.48812422e-04, 5.95383564e-04, 7.44346156e-04,\n",
       "       1.34119635e-03, 1.01472205e-03, 4.58303485e-04, 5.94067505e-04,\n",
       "       1.55825406e-04, 7.76924525e-04, 1.21781408e-03, 4.21594076e-04,\n",
       "       1.81152981e-03, 7.64593578e-04, 2.53652315e-05, 6.09304715e-04,\n",
       "       8.57946364e-04, 1.80775320e-03, 4.97508892e-04, 7.04950245e-04,\n",
       "       7.04006043e-04, 1.18908211e-03, 1.25702408e-03, 1.01801591e-03,\n",
       "       1.14427938e-03, 9.85326698e-04, 3.45313431e-04, 9.59811625e-04,\n",
       "       3.28282655e-04, 5.57396815e-04, 1.28068789e-03, 2.46844227e-04,\n",
       "       6.65391727e-04, 8.07653762e-05, 6.81506745e-04, 2.61803642e-04,\n",
       "       2.18127515e-04, 3.18256677e-04, 2.54257188e-04, 4.39846401e-04,\n",
       "       2.59026384e-04, 7.20240728e-04, 8.58779114e-04, 7.58783987e-04,\n",
       "       4.68822881e-04, 6.06604099e-04, 1.89807553e-03, 1.91836980e-03,\n",
       "       1.51663125e-04, 3.51538610e-03, 4.48201201e-03, 5.54308678e-04,\n",
       "       1.59906128e-03, 1.29389341e-02, 2.40463090e-03, 2.79361450e-03,\n",
       "       2.89668285e-03, 5.57813908e-03, 1.20454339e-02, 1.12679434e-02,\n",
       "       4.99754572e-03, 2.78379292e-02, 1.20112066e-03, 7.37471642e-03,\n",
       "       4.59699678e-04, 1.61734138e-02, 1.70945146e-03, 4.47239481e-03,\n",
       "       7.31735772e-03, 8.56907241e-03, 4.55821177e-03, 7.52500085e-03,\n",
       "       1.58016279e-03, 8.73674979e-04, 9.69237566e-03, 1.92965897e-03,\n",
       "       6.75699256e-03, 1.01326870e-02, 8.24880695e-02, 3.55885256e-02,\n",
       "       1.98042064e-02, 9.67591236e-03, 2.61840637e-03, 9.49941766e-03,\n",
       "       9.57423328e-03, 8.59799817e-04, 5.54975131e-04, 1.42025500e-02,\n",
       "       1.19920063e-02, 2.52992622e-05, 8.60472901e-03, 2.97776129e-03,\n",
       "       3.76742034e-02])"
      ]
     },
     "execution_count": 70,
     "metadata": {},
     "output_type": "execute_result"
    }
   ],
   "source": [
    "rfc.feature_importances_"
   ]
  },
  {
   "cell_type": "code",
   "execution_count": 80,
   "metadata": {},
   "outputs": [
    {
     "data": {
      "text/plain": [
       "{'ct': ColumnTransformer(transformers=[('subpipe_num',\n",
       "                                  Pipeline(steps=[('ss', StandardScaler())]),\n",
       "                                  ['amount_tsh', 'gps_height', 'population']),\n",
       "                                 ('subpipe_cat',\n",
       "                                  Pipeline(steps=[('ohe',\n",
       "                                                   OneHotEncoder(handle_unknown='ignore',\n",
       "                                                                 sparse=False))]),\n",
       "                                  ['basin', 'region', 'district_code', 'lga',\n",
       "                                   'management', 'extraction_type_class',\n",
       "                                   'payment', 'quality_group', 'quantity',\n",
       "                                   'source_class', 'waterpoint_type']),\n",
       "                                 ('subpipe_bool',\n",
       "                                  Pipeline(steps=[('ord', OrdinalEncoder())]),\n",
       "                                  [])]),\n",
       " 'rfc': RandomForestClassifier(random_state=42)}"
      ]
     },
     "execution_count": 80,
     "metadata": {},
     "output_type": "execute_result"
    }
   ],
   "source": [
    "second_model_pipe.named_steps"
   ]
  },
  {
   "cell_type": "code",
   "execution_count": 90,
   "metadata": {},
   "outputs": [
    {
     "data": {
      "text/plain": [
       "array(['x0_Internal', 'x0_Lake Nyasa', 'x0_Lake Rukwa',\n",
       "       'x0_Lake Tanganyika', 'x0_Lake Victoria', 'x0_Pangani',\n",
       "       'x0_Rufiji', 'x0_Ruvuma / Southern Coast', 'x0_Wami / Ruvu',\n",
       "       'x1_Arusha', 'x1_Dar es Salaam', 'x1_Dodoma', 'x1_Iringa',\n",
       "       'x1_Kagera', 'x1_Kigoma', 'x1_Kilimanjaro', 'x1_Lindi',\n",
       "       'x1_Manyara', 'x1_Mara', 'x1_Mbeya', 'x1_Morogoro', 'x1_Mtwara',\n",
       "       'x1_Mwanza', 'x1_Pwani', 'x1_Rukwa', 'x1_Ruvuma', 'x1_Shinyanga',\n",
       "       'x1_Singida', 'x1_Tabora', 'x1_Tanga', 'x2_0', 'x2_1', 'x2_13',\n",
       "       'x2_2', 'x2_23', 'x2_3', 'x2_30', 'x2_33', 'x2_4', 'x2_43', 'x2_5',\n",
       "       'x2_53', 'x2_6', 'x2_60', 'x2_62', 'x2_63', 'x2_67', 'x2_7',\n",
       "       'x2_8', 'x2_80', 'x3_Arusha Rural', 'x3_Arusha Urban', 'x3_Babati',\n",
       "       'x3_Bagamoyo', 'x3_Bahi', 'x3_Bariadi', 'x3_Biharamulo',\n",
       "       'x3_Bukoba Rural', 'x3_Bukoba Urban', 'x3_Bukombe', 'x3_Bunda',\n",
       "       'x3_Chamwino', 'x3_Chato', 'x3_Chunya', 'x3_Dodoma Urban',\n",
       "       'x3_Geita', 'x3_Hai', 'x3_Hanang', 'x3_Handeni', 'x3_Igunga',\n",
       "       'x3_Ilala', 'x3_Ileje', 'x3_Ilemela', 'x3_Iramba',\n",
       "       'x3_Iringa Rural', 'x3_Kahama', 'x3_Karagwe', 'x3_Karatu',\n",
       "       'x3_Kasulu', 'x3_Kibaha', 'x3_Kibondo', 'x3_Kigoma Rural',\n",
       "       'x3_Kigoma Urban', 'x3_Kilindi', 'x3_Kilolo', 'x3_Kilombero',\n",
       "       'x3_Kilosa', 'x3_Kilwa', 'x3_Kinondoni', 'x3_Kisarawe',\n",
       "       'x3_Kishapu', 'x3_Kiteto', 'x3_Kondoa', 'x3_Kongwa', 'x3_Korogwe',\n",
       "       'x3_Kwimba', 'x3_Kyela', 'x3_Lindi Rural', 'x3_Lindi Urban',\n",
       "       'x3_Liwale', 'x3_Longido', 'x3_Ludewa', 'x3_Lushoto', 'x3_Mafia',\n",
       "       'x3_Magu', 'x3_Makete', 'x3_Manyoni', 'x3_Masasi', 'x3_Maswa',\n",
       "       'x3_Mbarali', 'x3_Mbeya Rural', 'x3_Mbinga', 'x3_Mbozi',\n",
       "       'x3_Mbulu', 'x3_Meatu', 'x3_Meru', 'x3_Misenyi', 'x3_Missungwi',\n",
       "       'x3_Mkinga', 'x3_Mkuranga', 'x3_Monduli', 'x3_Morogoro Rural',\n",
       "       'x3_Morogoro Urban', 'x3_Moshi Rural', 'x3_Moshi Urban',\n",
       "       'x3_Mpanda', 'x3_Mpwapwa', 'x3_Mtwara Rural', 'x3_Mtwara Urban',\n",
       "       'x3_Mufindi', 'x3_Muheza', 'x3_Muleba', 'x3_Musoma Rural',\n",
       "       'x3_Mvomero', 'x3_Mwanga', 'x3_Nachingwea', 'x3_Namtumbo',\n",
       "       'x3_Nanyumbu', 'x3_Newala', 'x3_Ngara', 'x3_Ngorongoro',\n",
       "       'x3_Njombe', 'x3_Nkasi', 'x3_Nyamagana', 'x3_Nzega', 'x3_Pangani',\n",
       "       'x3_Rombo', 'x3_Rorya', 'x3_Ruangwa', 'x3_Rufiji', 'x3_Rungwe',\n",
       "       'x3_Same', 'x3_Sengerema', 'x3_Serengeti', 'x3_Shinyanga Rural',\n",
       "       'x3_Shinyanga Urban', 'x3_Siha', 'x3_Sikonge', 'x3_Simanjiro',\n",
       "       'x3_Singida Rural', 'x3_Singida Urban', 'x3_Songea Rural',\n",
       "       'x3_Songea Urban', 'x3_Sumbawanga Rural', 'x3_Sumbawanga Urban',\n",
       "       'x3_Tabora Urban', 'x3_Tandahimba', 'x3_Tanga', 'x3_Tarime',\n",
       "       'x3_Temeke', 'x3_Tunduru', 'x3_Ukerewe', 'x3_Ulanga', 'x3_Urambo',\n",
       "       'x3_Uyui', 'x4_company', 'x4_other', 'x4_other - school',\n",
       "       'x4_parastatal', 'x4_private operator', 'x4_trust', 'x4_unknown',\n",
       "       'x4_vwc', 'x4_water authority', 'x4_water board', 'x4_wua',\n",
       "       'x4_wug', 'x5_gravity', 'x5_handpump', 'x5_motorpump', 'x5_other',\n",
       "       'x5_rope pump', 'x5_submersible', 'x5_wind-powered',\n",
       "       'x6_never pay', 'x6_other', 'x6_pay annually', 'x6_pay monthly',\n",
       "       'x6_pay per bucket', 'x6_pay when scheme fails', 'x6_unknown',\n",
       "       'x7_colored', 'x7_fluoride', 'x7_good', 'x7_milky', 'x7_salty',\n",
       "       'x7_unknown', 'x8_dry', 'x8_enough', 'x8_insufficient',\n",
       "       'x8_seasonal', 'x8_unknown', 'x9_groundwater', 'x9_surface',\n",
       "       'x9_unknown', 'x10_cattle trough', 'x10_communal standpipe',\n",
       "       'x10_communal standpipe multiple', 'x10_dam', 'x10_hand pump',\n",
       "       'x10_improved spring', 'x10_other'], dtype=object)"
      ]
     },
     "execution_count": 90,
     "metadata": {},
     "output_type": "execute_result"
    }
   ],
   "source": [
    "#I've cracked the ohe\n",
    "second_model_pipe.named_steps['ct'].transformers_[1][1].named_steps['ohe'].get_feature_names()"
   ]
  },
  {
   "cell_type": "code",
   "execution_count": 100,
   "metadata": {},
   "outputs": [
    {
     "data": {
      "text/plain": [
       "['amount_tsh', 'gps_height', 'population']"
      ]
     },
     "execution_count": 100,
     "metadata": {},
     "output_type": "execute_result"
    }
   ],
   "source": [
    "num_names = second_model_pipe.named_steps['ct'].transformers_[0][2]\n",
    "num_names"
   ]
  },
  {
   "cell_type": "code",
   "execution_count": 101,
   "metadata": {},
   "outputs": [],
   "source": [
    "ohe_names = second_model_pipe.named_steps['ct'].transformers_[1][1].named_steps['ohe'].get_feature_names()"
   ]
  },
  {
   "cell_type": "code",
   "execution_count": 104,
   "metadata": {},
   "outputs": [
    {
     "data": {
      "text/plain": [
       "[]"
      ]
     },
     "execution_count": 104,
     "metadata": {},
     "output_type": "execute_result"
    }
   ],
   "source": [
    "bool_names = second_model_pipe.named_steps['ct'].transformers_[2][2]\n",
    "bool_names"
   ]
  },
  {
   "cell_type": "code",
   "execution_count": 105,
   "metadata": {},
   "outputs": [
    {
     "data": {
      "text/plain": [
       "array(['amount_tsh', 'gps_height', 'population', 'x0_Internal',\n",
       "       'x0_Lake Nyasa', 'x0_Lake Rukwa', 'x0_Lake Tanganyika',\n",
       "       'x0_Lake Victoria', 'x0_Pangani', 'x0_Rufiji',\n",
       "       'x0_Ruvuma / Southern Coast', 'x0_Wami / Ruvu', 'x1_Arusha',\n",
       "       'x1_Dar es Salaam', 'x1_Dodoma', 'x1_Iringa', 'x1_Kagera',\n",
       "       'x1_Kigoma', 'x1_Kilimanjaro', 'x1_Lindi', 'x1_Manyara', 'x1_Mara',\n",
       "       'x1_Mbeya', 'x1_Morogoro', 'x1_Mtwara', 'x1_Mwanza', 'x1_Pwani',\n",
       "       'x1_Rukwa', 'x1_Ruvuma', 'x1_Shinyanga', 'x1_Singida', 'x1_Tabora',\n",
       "       'x1_Tanga', 'x2_0', 'x2_1', 'x2_13', 'x2_2', 'x2_23', 'x2_3',\n",
       "       'x2_30', 'x2_33', 'x2_4', 'x2_43', 'x2_5', 'x2_53', 'x2_6',\n",
       "       'x2_60', 'x2_62', 'x2_63', 'x2_67', 'x2_7', 'x2_8', 'x2_80',\n",
       "       'x3_Arusha Rural', 'x3_Arusha Urban', 'x3_Babati', 'x3_Bagamoyo',\n",
       "       'x3_Bahi', 'x3_Bariadi', 'x3_Biharamulo', 'x3_Bukoba Rural',\n",
       "       'x3_Bukoba Urban', 'x3_Bukombe', 'x3_Bunda', 'x3_Chamwino',\n",
       "       'x3_Chato', 'x3_Chunya', 'x3_Dodoma Urban', 'x3_Geita', 'x3_Hai',\n",
       "       'x3_Hanang', 'x3_Handeni', 'x3_Igunga', 'x3_Ilala', 'x3_Ileje',\n",
       "       'x3_Ilemela', 'x3_Iramba', 'x3_Iringa Rural', 'x3_Kahama',\n",
       "       'x3_Karagwe', 'x3_Karatu', 'x3_Kasulu', 'x3_Kibaha', 'x3_Kibondo',\n",
       "       'x3_Kigoma Rural', 'x3_Kigoma Urban', 'x3_Kilindi', 'x3_Kilolo',\n",
       "       'x3_Kilombero', 'x3_Kilosa', 'x3_Kilwa', 'x3_Kinondoni',\n",
       "       'x3_Kisarawe', 'x3_Kishapu', 'x3_Kiteto', 'x3_Kondoa', 'x3_Kongwa',\n",
       "       'x3_Korogwe', 'x3_Kwimba', 'x3_Kyela', 'x3_Lindi Rural',\n",
       "       'x3_Lindi Urban', 'x3_Liwale', 'x3_Longido', 'x3_Ludewa',\n",
       "       'x3_Lushoto', 'x3_Mafia', 'x3_Magu', 'x3_Makete', 'x3_Manyoni',\n",
       "       'x3_Masasi', 'x3_Maswa', 'x3_Mbarali', 'x3_Mbeya Rural',\n",
       "       'x3_Mbinga', 'x3_Mbozi', 'x3_Mbulu', 'x3_Meatu', 'x3_Meru',\n",
       "       'x3_Misenyi', 'x3_Missungwi', 'x3_Mkinga', 'x3_Mkuranga',\n",
       "       'x3_Monduli', 'x3_Morogoro Rural', 'x3_Morogoro Urban',\n",
       "       'x3_Moshi Rural', 'x3_Moshi Urban', 'x3_Mpanda', 'x3_Mpwapwa',\n",
       "       'x3_Mtwara Rural', 'x3_Mtwara Urban', 'x3_Mufindi', 'x3_Muheza',\n",
       "       'x3_Muleba', 'x3_Musoma Rural', 'x3_Mvomero', 'x3_Mwanga',\n",
       "       'x3_Nachingwea', 'x3_Namtumbo', 'x3_Nanyumbu', 'x3_Newala',\n",
       "       'x3_Ngara', 'x3_Ngorongoro', 'x3_Njombe', 'x3_Nkasi',\n",
       "       'x3_Nyamagana', 'x3_Nzega', 'x3_Pangani', 'x3_Rombo', 'x3_Rorya',\n",
       "       'x3_Ruangwa', 'x3_Rufiji', 'x3_Rungwe', 'x3_Same', 'x3_Sengerema',\n",
       "       'x3_Serengeti', 'x3_Shinyanga Rural', 'x3_Shinyanga Urban',\n",
       "       'x3_Siha', 'x3_Sikonge', 'x3_Simanjiro', 'x3_Singida Rural',\n",
       "       'x3_Singida Urban', 'x3_Songea Rural', 'x3_Songea Urban',\n",
       "       'x3_Sumbawanga Rural', 'x3_Sumbawanga Urban', 'x3_Tabora Urban',\n",
       "       'x3_Tandahimba', 'x3_Tanga', 'x3_Tarime', 'x3_Temeke',\n",
       "       'x3_Tunduru', 'x3_Ukerewe', 'x3_Ulanga', 'x3_Urambo', 'x3_Uyui',\n",
       "       'x4_company', 'x4_other', 'x4_other - school', 'x4_parastatal',\n",
       "       'x4_private operator', 'x4_trust', 'x4_unknown', 'x4_vwc',\n",
       "       'x4_water authority', 'x4_water board', 'x4_wua', 'x4_wug',\n",
       "       'x5_gravity', 'x5_handpump', 'x5_motorpump', 'x5_other',\n",
       "       'x5_rope pump', 'x5_submersible', 'x5_wind-powered',\n",
       "       'x6_never pay', 'x6_other', 'x6_pay annually', 'x6_pay monthly',\n",
       "       'x6_pay per bucket', 'x6_pay when scheme fails', 'x6_unknown',\n",
       "       'x7_colored', 'x7_fluoride', 'x7_good', 'x7_milky', 'x7_salty',\n",
       "       'x7_unknown', 'x8_dry', 'x8_enough', 'x8_insufficient',\n",
       "       'x8_seasonal', 'x8_unknown', 'x9_groundwater', 'x9_surface',\n",
       "       'x9_unknown', 'x10_cattle trough', 'x10_communal standpipe',\n",
       "       'x10_communal standpipe multiple', 'x10_dam', 'x10_hand pump',\n",
       "       'x10_improved spring', 'x10_other'], dtype=object)"
      ]
     },
     "execution_count": 105,
     "metadata": {},
     "output_type": "execute_result"
    }
   ],
   "source": [
    "all_names = np.concatenate( (num_names, ohe_names, bool_names) )\n",
    "all_names"
   ]
  },
  {
   "cell_type": "code",
   "execution_count": 110,
   "metadata": {},
   "outputs": [
    {
     "data": {
      "text/plain": [
       "{'amount_tsh': 0.037434759860479984,\n",
       " 'gps_height': 0.19968060584589903,\n",
       " 'population': 0.11072770441071393,\n",
       " 'x0_Internal': 0.005549940015488819,\n",
       " 'x0_Lake Nyasa': 0.004296437181874994,\n",
       " 'x0_Lake Rukwa': 0.0033139325379740055,\n",
       " 'x0_Lake Tanganyika': 0.0043768690187158356,\n",
       " 'x0_Lake Victoria': 0.0049646348726644154,\n",
       " 'x0_Pangani': 0.0035714922137618926,\n",
       " 'x0_Rufiji': 0.00412190481118155,\n",
       " 'x0_Ruvuma / Southern Coast': 0.0034818106070292104,\n",
       " 'x0_Wami / Ruvu': 0.0036467427450644968,\n",
       " 'x1_Arusha': 0.002714378206494305,\n",
       " 'x1_Dar es Salaam': 0.0007148397396292064,\n",
       " 'x1_Dodoma': 0.0019541251900774582,\n",
       " 'x1_Iringa': 0.004768585082517668,\n",
       " 'x1_Kagera': 0.00200948996433281,\n",
       " 'x1_Kigoma': 0.003229811677110191,\n",
       " 'x1_Kilimanjaro': 0.0029467023438527655,\n",
       " 'x1_Lindi': 0.001568687166242695,\n",
       " 'x1_Manyara': 0.0016326034195469304,\n",
       " 'x1_Mara': 0.0025367097052255254,\n",
       " 'x1_Mbeya': 0.0020560996595366428,\n",
       " 'x1_Morogoro': 0.002392153168669276,\n",
       " 'x1_Mtwara': 0.001987403813345965,\n",
       " 'x1_Mwanza': 0.0022426860348460755,\n",
       " 'x1_Pwani': 0.002107630373879171,\n",
       " 'x1_Rukwa': 0.002162985810820926,\n",
       " 'x1_Ruvuma': 0.001965641878110153,\n",
       " 'x1_Shinyanga': 0.0035821169902025395,\n",
       " 'x1_Singida': 0.0020464368424318057,\n",
       " 'x1_Tabora': 0.001624556516167201,\n",
       " 'x1_Tanga': 0.0018351959270320939,\n",
       " 'x2_0': 0.00015553298081047461,\n",
       " 'x2_1': 0.007296190874296223,\n",
       " 'x2_13': 0.0004476434969301866,\n",
       " 'x2_2': 0.00638260900583838,\n",
       " 'x2_23': 0.0005631125748301649,\n",
       " 'x2_3': 0.005891504584710847,\n",
       " 'x2_30': 0.0016608535129128883,\n",
       " 'x2_33': 0.0016623509420234381,\n",
       " 'x2_4': 0.005255169918960795,\n",
       " 'x2_43': 0.0007554843776092725,\n",
       " 'x2_5': 0.0038622135954013907,\n",
       " 'x2_53': 0.0014065308617324781,\n",
       " 'x2_6': 0.003362180564646346,\n",
       " 'x2_60': 0.0003203689200478513,\n",
       " 'x2_62': 0.00015035480933035247,\n",
       " 'x2_63': 0.00022700889297000675,\n",
       " 'x2_67': 6.821854694337242e-06,\n",
       " 'x2_7': 0.003246624698402925,\n",
       " 'x2_8': 0.0017815023686466736,\n",
       " 'x2_80': 6.363410937667339e-05,\n",
       " 'x3_Arusha Rural': 0.0012426633935831784,\n",
       " 'x3_Arusha Urban': 0.00013223749971278358,\n",
       " 'x3_Babati': 0.0008453029188950766,\n",
       " 'x3_Bagamoyo': 0.000854055376406717,\n",
       " 'x3_Bahi': 0.0003285409748562579,\n",
       " 'x3_Bariadi': 0.0035277732677429243,\n",
       " 'x3_Biharamulo': 0.000536188310946096,\n",
       " 'x3_Bukoba Rural': 0.0006521887115201948,\n",
       " 'x3_Bukoba Urban': 0.0002114682619290474,\n",
       " 'x3_Bukombe': 0.0002425749309655188,\n",
       " 'x3_Bunda': 0.0007829005704544312,\n",
       " 'x3_Chamwino': 0.0006516472766139558,\n",
       " 'x3_Chato': 0.0004059613162257663,\n",
       " 'x3_Chunya': 0.0014089621431200077,\n",
       " 'x3_Dodoma Urban': 0.0006545736825028198,\n",
       " 'x3_Geita': 0.0016545217530270961,\n",
       " 'x3_Hai': 0.0005150884880436096,\n",
       " 'x3_Hanang': 0.0004034543286437419,\n",
       " 'x3_Handeni': 0.0002962729282548825,\n",
       " 'x3_Igunga': 0.0006712627177300946,\n",
       " 'x3_Ilala': 0.0005199155237477478,\n",
       " 'x3_Ileje': 0.00047192804774156107,\n",
       " 'x3_Ilemela': 0.00033646074828422474,\n",
       " 'x3_Iramba': 0.000518168446973884,\n",
       " 'x3_Iringa Rural': 0.0006660248388226698,\n",
       " 'x3_Kahama': 0.0012471114710646512,\n",
       " 'x3_Karagwe': 0.0008007736062211307,\n",
       " 'x3_Karatu': 0.0004743023512472616,\n",
       " 'x3_Kasulu': 0.0012771211078353808,\n",
       " 'x3_Kibaha': 0.000451053052108743,\n",
       " 'x3_Kibondo': 0.0010436006846442608,\n",
       " 'x3_Kigoma Rural': 0.0027683488072972684,\n",
       " 'x3_Kigoma Urban': 0.00010212099142654175,\n",
       " 'x3_Kilindi': 0.00039564585557032116,\n",
       " 'x3_Kilolo': 0.0004629159370684794,\n",
       " 'x3_Kilombero': 0.0006379964465918911,\n",
       " 'x3_Kilosa': 0.0012357747442778848,\n",
       " 'x3_Kilwa': 0.00046447688578237493,\n",
       " 'x3_Kinondoni': 0.00016234550837293573,\n",
       " 'x3_Kisarawe': 0.0006521406552053377,\n",
       " 'x3_Kishapu': 0.000566938684139421,\n",
       " 'x3_Kiteto': 0.0006437700463937355,\n",
       " 'x3_Kondoa': 0.0011482908955537448,\n",
       " 'x3_Kongwa': 0.0009092030135854248,\n",
       " 'x3_Korogwe': 0.0006664004550124698,\n",
       " 'x3_Kwimba': 0.0009502332849164638,\n",
       " 'x3_Kyela': 0.0017314114484146082,\n",
       " 'x3_Lindi Rural': 0.0005718423204098067,\n",
       " 'x3_Lindi Urban': 2.1459479343162862e-05,\n",
       " 'x3_Liwale': 0.00019361694157538163,\n",
       " 'x3_Longido': 0.00036510573112944774,\n",
       " 'x3_Ludewa': 0.0003146473081436466,\n",
       " 'x3_Lushoto': 0.0004570575300493417,\n",
       " 'x3_Mafia': 0.000414587169474172,\n",
       " 'x3_Magu': 0.0014503887314174,\n",
       " 'x3_Makete': 0.0005869425085042719,\n",
       " 'x3_Manyoni': 0.0010207882449521435,\n",
       " 'x3_Masasi': 0.000805021862916214,\n",
       " 'x3_Maswa': 0.0010437144074528604,\n",
       " 'x3_Mbarali': 0.0004681750617522456,\n",
       " 'x3_Mbeya Rural': 0.00036448050292142166,\n",
       " 'x3_Mbinga': 0.0006905162500592169,\n",
       " 'x3_Mbozi': 0.0008103374809286354,\n",
       " 'x3_Mbulu': 0.0003422009461856236,\n",
       " 'x3_Meatu': 0.0006258077251992605,\n",
       " 'x3_Meru': 0.0007689225849616935,\n",
       " 'x3_Misenyi': 0.0006893876473543519,\n",
       " 'x3_Missungwi': 0.000644493461426399,\n",
       " 'x3_Mkinga': 0.0007396231736245956,\n",
       " 'x3_Mkuranga': 0.0006873265847213165,\n",
       " 'x3_Monduli': 0.00047369993709633684,\n",
       " 'x3_Morogoro Rural': 0.0006284858272769618,\n",
       " 'x3_Morogoro Urban': 0.00022303642006202347,\n",
       " 'x3_Moshi Rural': 0.001418212980861378,\n",
       " 'x3_Moshi Urban': 0.0001540658676024356,\n",
       " 'x3_Mpanda': 0.0012139418836034637,\n",
       " 'x3_Mpwapwa': 0.0008736589791721508,\n",
       " 'x3_Mtwara Rural': 0.000462384645143226,\n",
       " 'x3_Mtwara Urban': 0.0001876730286713565,\n",
       " 'x3_Mufindi': 0.000320875912651013,\n",
       " 'x3_Muheza': 0.0005488124219524775,\n",
       " 'x3_Muleba': 0.0005953835636187061,\n",
       " 'x3_Musoma Rural': 0.0007443461557044863,\n",
       " 'x3_Mvomero': 0.0013411963518448202,\n",
       " 'x3_Mwanga': 0.0010147220486326903,\n",
       " 'x3_Nachingwea': 0.00045830348480917465,\n",
       " 'x3_Namtumbo': 0.0005940675045207835,\n",
       " 'x3_Nanyumbu': 0.00015582540615119555,\n",
       " 'x3_Newala': 0.000776924525146431,\n",
       " 'x3_Ngara': 0.0012178140806194176,\n",
       " 'x3_Ngorongoro': 0.0004215940757659621,\n",
       " 'x3_Njombe': 0.0018115298136399253,\n",
       " 'x3_Nkasi': 0.0007645935775287746,\n",
       " 'x3_Nyamagana': 2.5365231549815053e-05,\n",
       " 'x3_Nzega': 0.0006093047152944303,\n",
       " 'x3_Pangani': 0.0008579463641002928,\n",
       " 'x3_Rombo': 0.0018077531951037188,\n",
       " 'x3_Rorya': 0.0004975088921065285,\n",
       " 'x3_Ruangwa': 0.0007049502448503247,\n",
       " 'x3_Rufiji': 0.0007040060434748398,\n",
       " 'x3_Rungwe': 0.0011890821077362552,\n",
       " 'x3_Same': 0.0012570240817712816,\n",
       " 'x3_Sengerema': 0.0010180159074815035,\n",
       " 'x3_Serengeti': 0.0011442793750375247,\n",
       " 'x3_Shinyanga Rural': 0.0009853266978195737,\n",
       " 'x3_Shinyanga Urban': 0.00034531343095225986,\n",
       " 'x3_Siha': 0.0009598116246058435,\n",
       " 'x3_Sikonge': 0.00032828265501984115,\n",
       " 'x3_Simanjiro': 0.0005573968151044601,\n",
       " 'x3_Singida Rural': 0.0012806878907334856,\n",
       " 'x3_Singida Urban': 0.000246844226930514,\n",
       " 'x3_Songea Rural': 0.0006653917269940326,\n",
       " 'x3_Songea Urban': 8.076537618613345e-05,\n",
       " 'x3_Sumbawanga Rural': 0.0006815067447381194,\n",
       " 'x3_Sumbawanga Urban': 0.0002618036424105099,\n",
       " 'x3_Tabora Urban': 0.0002181275152042995,\n",
       " 'x3_Tandahimba': 0.00031825667734057246,\n",
       " 'x3_Tanga': 0.00025425718812514673,\n",
       " 'x3_Tarime': 0.0004398464011317254,\n",
       " 'x3_Temeke': 0.00025902638412862055,\n",
       " 'x3_Tunduru': 0.0007202407278115614,\n",
       " 'x3_Ukerewe': 0.0008587791140671618,\n",
       " 'x3_Ulanga': 0.0007587839869760015,\n",
       " 'x3_Urambo': 0.0004688228806696916,\n",
       " 'x3_Uyui': 0.0006066040991803145,\n",
       " 'x4_company': 0.0018980755298545265,\n",
       " 'x4_other': 0.001918369795339673,\n",
       " 'x4_other - school': 0.00015166312467536494,\n",
       " 'x4_parastatal': 0.003515386101485744,\n",
       " 'x4_private operator': 0.004482012013373535,\n",
       " 'x4_trust': 0.0005543086775612239,\n",
       " 'x4_unknown': 0.0015990612780458439,\n",
       " 'x4_vwc': 0.012938934053065709,\n",
       " 'x4_water authority': 0.0024046308961626554,\n",
       " 'x4_water board': 0.002793614498055691,\n",
       " 'x4_wua': 0.0028966828467388156,\n",
       " 'x4_wug': 0.005578139076311198,\n",
       " 'x5_gravity': 0.012045433936144202,\n",
       " 'x5_handpump': 0.011267943397798994,\n",
       " 'x5_motorpump': 0.004997545723960201,\n",
       " 'x5_other': 0.02783792918634092,\n",
       " 'x5_rope pump': 0.001201120660076145,\n",
       " 'x5_submersible': 0.0073747164163014,\n",
       " 'x5_wind-powered': 0.00045969967814924584,\n",
       " 'x6_never pay': 0.016173413774188357,\n",
       " 'x6_other': 0.0017094514554381183,\n",
       " 'x6_pay annually': 0.0044723948089617225,\n",
       " 'x6_pay monthly': 0.007317357717223534,\n",
       " 'x6_pay per bucket': 0.008569072405177345,\n",
       " 'x6_pay when scheme fails': 0.004558211771379212,\n",
       " 'x6_unknown': 0.007525000845483643,\n",
       " 'x7_colored': 0.0015801627929710428,\n",
       " 'x7_fluoride': 0.0008736749786481852,\n",
       " 'x7_good': 0.0096923756645101,\n",
       " 'x7_milky': 0.0019296589742054996,\n",
       " 'x7_salty': 0.006756992558312166,\n",
       " 'x7_unknown': 0.010132686953506817,\n",
       " 'x8_dry': 0.08248806945802255,\n",
       " 'x8_enough': 0.03558852558376955,\n",
       " 'x8_insufficient': 0.019804206430287886,\n",
       " 'x8_seasonal': 0.009675912361413234,\n",
       " 'x8_unknown': 0.0026184063687942727,\n",
       " 'x9_groundwater': 0.009499417662055466,\n",
       " 'x9_surface': 0.00957423328378339,\n",
       " 'x9_unknown': 0.0008597998169721548,\n",
       " 'x10_cattle trough': 0.0005549751314515654,\n",
       " 'x10_communal standpipe': 0.014202549971734323,\n",
       " 'x10_communal standpipe multiple': 0.011992006317153837,\n",
       " 'x10_dam': 2.5299262177874476e-05,\n",
       " 'x10_hand pump': 0.008604729010592777,\n",
       " 'x10_improved spring': 0.0029777612880094485,\n",
       " 'x10_other': 0.03767420338855473}"
      ]
     },
     "execution_count": 110,
     "metadata": {},
     "output_type": "execute_result"
    }
   ],
   "source": [
    "feature_importances = {name:score for name, score in zip(all_names, rfc.feature_importances_)}\n",
    "feature_importances\n",
    "#access OHE feature names, combine them with categorical, figure out a way to sort"
   ]
  },
  {
   "cell_type": "code",
   "execution_count": 111,
   "metadata": {},
   "outputs": [
    {
     "data": {
      "text/plain": [
       "['gps_height', 'population', 'x8_dry', 'x10_other', 'amount_tsh']"
      ]
     },
     "execution_count": 111,
     "metadata": {},
     "output_type": "execute_result"
    }
   ],
   "source": [
    "sorted(feature_importances, key=feature_importances.get, reverse=True)[:5]"
   ]
  },
  {
   "cell_type": "code",
   "execution_count": null,
   "metadata": {},
   "outputs": [],
   "source": [
    "feature_importances "
   ]
  },
  {
   "cell_type": "code",
   "execution_count": 162,
   "metadata": {},
   "outputs": [],
   "source": [
    "#HELPER FUNCTION TO MAP FEATURE IMPORTANCES INTO A DICT\n",
    "def dict_feature_importances(pipeline):\n",
    "    num_names = pipeline.named_steps['ct'].transformers_[0][2]\n",
    "    ohe_names = pipeline.named_steps['ct'].transformers_[1][1].named_steps['ohe'].get_feature_names()\n",
    "    bool_names = pipeline.named_steps['ct'].transformers_[2][2]\n",
    "    all_names = np.concatenate( (num_names, ohe_names, bool_names) )\n",
    "    \n",
    "    model_name = list(pipeline.named_steps.keys())[1]\n",
    "    feature_importances = {name:score for name, score in zip(all_names, pipeline.named_steps[model_name].feature_importances_)}\n",
    "    return feature_importances\n",
    "\n"
   ]
  },
  {
   "cell_type": "code",
   "execution_count": null,
   "metadata": {},
   "outputs": [],
   "source": [
    "sm = SMOTE(sampling_strategy='minority', random_state=42)"
   ]
  },
  {
   "cell_type": "markdown",
   "metadata": {},
   "source": [
    "## Binary Target"
   ]
  },
  {
   "cell_type": "code",
   "execution_count": 113,
   "metadata": {},
   "outputs": [],
   "source": [
    "df_binary = df.copy()"
   ]
  },
  {
   "cell_type": "code",
   "execution_count": 114,
   "metadata": {},
   "outputs": [
    {
     "data": {
      "text/html": [
       "<div>\n",
       "<style scoped>\n",
       "    .dataframe tbody tr th:only-of-type {\n",
       "        vertical-align: middle;\n",
       "    }\n",
       "\n",
       "    .dataframe tbody tr th {\n",
       "        vertical-align: top;\n",
       "    }\n",
       "\n",
       "    .dataframe thead th {\n",
       "        text-align: right;\n",
       "    }\n",
       "</style>\n",
       "<table border=\"1\" class=\"dataframe\">\n",
       "  <thead>\n",
       "    <tr style=\"text-align: right;\">\n",
       "      <th></th>\n",
       "      <th>id</th>\n",
       "      <th>amount_tsh</th>\n",
       "      <th>date_recorded</th>\n",
       "      <th>funder</th>\n",
       "      <th>gps_height</th>\n",
       "      <th>installer</th>\n",
       "      <th>longitude</th>\n",
       "      <th>latitude</th>\n",
       "      <th>wpt_name</th>\n",
       "      <th>num_private</th>\n",
       "      <th>...</th>\n",
       "      <th>quality_group</th>\n",
       "      <th>quantity</th>\n",
       "      <th>quantity_group</th>\n",
       "      <th>source</th>\n",
       "      <th>source_type</th>\n",
       "      <th>source_class</th>\n",
       "      <th>waterpoint_type</th>\n",
       "      <th>waterpoint_type_group</th>\n",
       "      <th>id_label</th>\n",
       "      <th>status_group</th>\n",
       "    </tr>\n",
       "  </thead>\n",
       "  <tbody>\n",
       "    <tr>\n",
       "      <th>0</th>\n",
       "      <td>69572</td>\n",
       "      <td>6000.0</td>\n",
       "      <td>2011-03-14</td>\n",
       "      <td>Roman</td>\n",
       "      <td>1390</td>\n",
       "      <td>Roman</td>\n",
       "      <td>34.938093</td>\n",
       "      <td>-9.856322</td>\n",
       "      <td>none</td>\n",
       "      <td>0</td>\n",
       "      <td>...</td>\n",
       "      <td>good</td>\n",
       "      <td>enough</td>\n",
       "      <td>enough</td>\n",
       "      <td>spring</td>\n",
       "      <td>spring</td>\n",
       "      <td>groundwater</td>\n",
       "      <td>communal standpipe</td>\n",
       "      <td>communal standpipe</td>\n",
       "      <td>69572</td>\n",
       "      <td>functional</td>\n",
       "    </tr>\n",
       "    <tr>\n",
       "      <th>1</th>\n",
       "      <td>8776</td>\n",
       "      <td>0.0</td>\n",
       "      <td>2013-03-06</td>\n",
       "      <td>Grumeti</td>\n",
       "      <td>1399</td>\n",
       "      <td>GRUMETI</td>\n",
       "      <td>34.698766</td>\n",
       "      <td>-2.147466</td>\n",
       "      <td>Zahanati</td>\n",
       "      <td>0</td>\n",
       "      <td>...</td>\n",
       "      <td>good</td>\n",
       "      <td>insufficient</td>\n",
       "      <td>insufficient</td>\n",
       "      <td>rainwater harvesting</td>\n",
       "      <td>rainwater harvesting</td>\n",
       "      <td>surface</td>\n",
       "      <td>communal standpipe</td>\n",
       "      <td>communal standpipe</td>\n",
       "      <td>8776</td>\n",
       "      <td>functional</td>\n",
       "    </tr>\n",
       "    <tr>\n",
       "      <th>2</th>\n",
       "      <td>34310</td>\n",
       "      <td>25.0</td>\n",
       "      <td>2013-02-25</td>\n",
       "      <td>Lottery Club</td>\n",
       "      <td>686</td>\n",
       "      <td>World vision</td>\n",
       "      <td>37.460664</td>\n",
       "      <td>-3.821329</td>\n",
       "      <td>Kwa Mahundi</td>\n",
       "      <td>0</td>\n",
       "      <td>...</td>\n",
       "      <td>good</td>\n",
       "      <td>enough</td>\n",
       "      <td>enough</td>\n",
       "      <td>dam</td>\n",
       "      <td>dam</td>\n",
       "      <td>surface</td>\n",
       "      <td>communal standpipe multiple</td>\n",
       "      <td>communal standpipe</td>\n",
       "      <td>34310</td>\n",
       "      <td>functional</td>\n",
       "    </tr>\n",
       "    <tr>\n",
       "      <th>3</th>\n",
       "      <td>67743</td>\n",
       "      <td>0.0</td>\n",
       "      <td>2013-01-28</td>\n",
       "      <td>Unicef</td>\n",
       "      <td>263</td>\n",
       "      <td>UNICEF</td>\n",
       "      <td>38.486161</td>\n",
       "      <td>-11.155298</td>\n",
       "      <td>Zahanati Ya Nanyumbu</td>\n",
       "      <td>0</td>\n",
       "      <td>...</td>\n",
       "      <td>good</td>\n",
       "      <td>dry</td>\n",
       "      <td>dry</td>\n",
       "      <td>machine dbh</td>\n",
       "      <td>borehole</td>\n",
       "      <td>groundwater</td>\n",
       "      <td>communal standpipe multiple</td>\n",
       "      <td>communal standpipe</td>\n",
       "      <td>67743</td>\n",
       "      <td>non functional</td>\n",
       "    </tr>\n",
       "    <tr>\n",
       "      <th>4</th>\n",
       "      <td>19728</td>\n",
       "      <td>0.0</td>\n",
       "      <td>2011-07-13</td>\n",
       "      <td>Action In A</td>\n",
       "      <td>0</td>\n",
       "      <td>Artisan</td>\n",
       "      <td>31.130847</td>\n",
       "      <td>-1.825359</td>\n",
       "      <td>Shuleni</td>\n",
       "      <td>0</td>\n",
       "      <td>...</td>\n",
       "      <td>good</td>\n",
       "      <td>seasonal</td>\n",
       "      <td>seasonal</td>\n",
       "      <td>rainwater harvesting</td>\n",
       "      <td>rainwater harvesting</td>\n",
       "      <td>surface</td>\n",
       "      <td>communal standpipe</td>\n",
       "      <td>communal standpipe</td>\n",
       "      <td>19728</td>\n",
       "      <td>functional</td>\n",
       "    </tr>\n",
       "  </tbody>\n",
       "</table>\n",
       "<p>5 rows × 42 columns</p>\n",
       "</div>"
      ],
      "text/plain": [
       "      id  amount_tsh date_recorded        funder  gps_height     installer  \\\n",
       "0  69572      6000.0    2011-03-14         Roman        1390         Roman   \n",
       "1   8776         0.0    2013-03-06       Grumeti        1399       GRUMETI   \n",
       "2  34310        25.0    2013-02-25  Lottery Club         686  World vision   \n",
       "3  67743         0.0    2013-01-28        Unicef         263        UNICEF   \n",
       "4  19728         0.0    2011-07-13   Action In A           0       Artisan   \n",
       "\n",
       "   longitude   latitude              wpt_name  num_private  ... quality_group  \\\n",
       "0  34.938093  -9.856322                  none            0  ...          good   \n",
       "1  34.698766  -2.147466              Zahanati            0  ...          good   \n",
       "2  37.460664  -3.821329           Kwa Mahundi            0  ...          good   \n",
       "3  38.486161 -11.155298  Zahanati Ya Nanyumbu            0  ...          good   \n",
       "4  31.130847  -1.825359               Shuleni            0  ...          good   \n",
       "\n",
       "       quantity quantity_group                source           source_type  \\\n",
       "0        enough         enough                spring                spring   \n",
       "1  insufficient   insufficient  rainwater harvesting  rainwater harvesting   \n",
       "2        enough         enough                   dam                   dam   \n",
       "3           dry            dry           machine dbh              borehole   \n",
       "4      seasonal       seasonal  rainwater harvesting  rainwater harvesting   \n",
       "\n",
       "  source_class              waterpoint_type  waterpoint_type_group  id_label  \\\n",
       "0  groundwater           communal standpipe     communal standpipe     69572   \n",
       "1      surface           communal standpipe     communal standpipe      8776   \n",
       "2      surface  communal standpipe multiple     communal standpipe     34310   \n",
       "3  groundwater  communal standpipe multiple     communal standpipe     67743   \n",
       "4      surface           communal standpipe     communal standpipe     19728   \n",
       "\n",
       "     status_group  \n",
       "0      functional  \n",
       "1      functional  \n",
       "2      functional  \n",
       "3  non functional  \n",
       "4      functional  \n",
       "\n",
       "[5 rows x 42 columns]"
      ]
     },
     "execution_count": 114,
     "metadata": {},
     "output_type": "execute_result"
    }
   ],
   "source": [
    "df_binary.head()"
   ]
  },
  {
   "cell_type": "code",
   "execution_count": 115,
   "metadata": {},
   "outputs": [],
   "source": [
    "#group functional needs repair with functional category\n",
    "df_binary['status_group'] = df_binary['status_group'].str.replace('functional needs repair','functional')"
   ]
  },
  {
   "cell_type": "code",
   "execution_count": 117,
   "metadata": {},
   "outputs": [
    {
     "data": {
      "text/plain": [
       "functional        36576\n",
       "non functional    22824\n",
       "Name: status_group, dtype: int64"
      ]
     },
     "execution_count": 117,
     "metadata": {},
     "output_type": "execute_result"
    }
   ],
   "source": [
    "df_binary['status_group'].value_counts()"
   ]
  },
  {
   "cell_type": "code",
   "execution_count": 118,
   "metadata": {},
   "outputs": [],
   "source": [
    "picked_features = ['amount_tsh', 'gps_height', 'basin', 'region', 'district_code', 'lga', 'population', \n",
    "                   'public_meeting', 'management', 'permit', 'extraction_type', 'payment', 'water_quality', 'quantity', \n",
    "                   'source', 'waterpoint_type']"
   ]
  },
  {
   "cell_type": "code",
   "execution_count": 119,
   "metadata": {},
   "outputs": [
    {
     "data": {
      "text/plain": [
       "(['amount_tsh', 'gps_height', 'population'],\n",
       " ['basin',\n",
       "  'region',\n",
       "  'district_code',\n",
       "  'lga',\n",
       "  'management',\n",
       "  'extraction_type',\n",
       "  'payment',\n",
       "  'water_quality',\n",
       "  'quantity',\n",
       "  'source',\n",
       "  'waterpoint_type'],\n",
       " ['public_meeting', 'permit'])"
      ]
     },
     "execution_count": 119,
     "metadata": {},
     "output_type": "execute_result"
    }
   ],
   "source": [
    "features_type = GrabTypes(picked_features, df_binary)"
   ]
  },
  {
   "cell_type": "code",
   "execution_count": 120,
   "metadata": {},
   "outputs": [],
   "source": [
    "CT = ColumnTransformer(transformers=[('subpipe_num', subpipe_num, features_type[0]),\n",
    "                                     ('subpipe_cat', subpipe_cat, features_type[1]),\n",
    "                                     ('subpipe_bool', subpipe_bool, features_type[2])],\n",
    "                       remainder='drop')"
   ]
  },
  {
   "cell_type": "code",
   "execution_count": 121,
   "metadata": {},
   "outputs": [],
   "source": [
    "rfc = RandomForestClassifier(random_state=42)\n",
    "\n",
    "binary_model_pipe = Pipeline(steps = [('ct', CT),\n",
    "                            ('rfc', rfc )])"
   ]
  },
  {
   "cell_type": "code",
   "execution_count": 125,
   "metadata": {},
   "outputs": [
    {
     "data": {
      "text/plain": [
       "0.9320089786756454"
      ]
     },
     "execution_count": 125,
     "metadata": {},
     "output_type": "execute_result"
    }
   ],
   "source": [
    "binary_model_pipe.fit(X_train, y_train)\n",
    "binary_model_pipe.score(X_train, y_train)"
   ]
  },
  {
   "cell_type": "code",
   "execution_count": 122,
   "metadata": {},
   "outputs": [],
   "source": [
    "params = {'rfc__n_estimators':[200],\n",
    "          'rfc__max_depth':[None, 50],\n",
    "          'rfc__min_samples_leaf': [1, 10],\n",
    "          'rfc__min_samples_split': [5, 10]}\n",
    "gs = GridSearchCV(estimator = binary_model_pipe, param_grid = params, cv=5, verbose=3)"
   ]
  },
  {
   "cell_type": "code",
   "execution_count": 123,
   "metadata": {
    "scrolled": true
   },
   "outputs": [
    {
     "name": "stdout",
     "output_type": "stream",
     "text": [
      "Fitting 5 folds for each of 8 candidates, totalling 40 fits\n",
      "[CV] rfc__max_depth=None, rfc__min_samples_leaf=1, rfc__min_samples_split=5, rfc__n_estimators=200 \n"
     ]
    },
    {
     "name": "stderr",
     "output_type": "stream",
     "text": [
      "[Parallel(n_jobs=1)]: Using backend SequentialBackend with 1 concurrent workers.\n"
     ]
    },
    {
     "name": "stdout",
     "output_type": "stream",
     "text": [
      "[CV]  rfc__max_depth=None, rfc__min_samples_leaf=1, rfc__min_samples_split=5, rfc__n_estimators=200, score=0.783, total=  10.4s\n",
      "[CV] rfc__max_depth=None, rfc__min_samples_leaf=1, rfc__min_samples_split=5, rfc__n_estimators=200 \n"
     ]
    },
    {
     "name": "stderr",
     "output_type": "stream",
     "text": [
      "[Parallel(n_jobs=1)]: Done   1 out of   1 | elapsed:   10.3s remaining:    0.0s\n"
     ]
    },
    {
     "name": "stdout",
     "output_type": "stream",
     "text": [
      "[CV]  rfc__max_depth=None, rfc__min_samples_leaf=1, rfc__min_samples_split=5, rfc__n_estimators=200, score=0.780, total=  10.3s\n",
      "[CV] rfc__max_depth=None, rfc__min_samples_leaf=1, rfc__min_samples_split=5, rfc__n_estimators=200 \n"
     ]
    },
    {
     "name": "stderr",
     "output_type": "stream",
     "text": [
      "[Parallel(n_jobs=1)]: Done   2 out of   2 | elapsed:   20.6s remaining:    0.0s\n"
     ]
    },
    {
     "name": "stdout",
     "output_type": "stream",
     "text": [
      "[CV]  rfc__max_depth=None, rfc__min_samples_leaf=1, rfc__min_samples_split=5, rfc__n_estimators=200, score=0.781, total=  10.7s\n",
      "[CV] rfc__max_depth=None, rfc__min_samples_leaf=1, rfc__min_samples_split=5, rfc__n_estimators=200 \n",
      "[CV]  rfc__max_depth=None, rfc__min_samples_leaf=1, rfc__min_samples_split=5, rfc__n_estimators=200, score=0.780, total=  10.7s\n",
      "[CV] rfc__max_depth=None, rfc__min_samples_leaf=1, rfc__min_samples_split=5, rfc__n_estimators=200 \n",
      "[CV]  rfc__max_depth=None, rfc__min_samples_leaf=1, rfc__min_samples_split=5, rfc__n_estimators=200, score=0.778, total=   9.7s\n",
      "[CV] rfc__max_depth=None, rfc__min_samples_leaf=1, rfc__min_samples_split=10, rfc__n_estimators=200 \n",
      "[CV]  rfc__max_depth=None, rfc__min_samples_leaf=1, rfc__min_samples_split=10, rfc__n_estimators=200, score=0.791, total=  10.2s\n",
      "[CV] rfc__max_depth=None, rfc__min_samples_leaf=1, rfc__min_samples_split=10, rfc__n_estimators=200 \n",
      "[CV]  rfc__max_depth=None, rfc__min_samples_leaf=1, rfc__min_samples_split=10, rfc__n_estimators=200, score=0.783, total=  10.4s\n",
      "[CV] rfc__max_depth=None, rfc__min_samples_leaf=1, rfc__min_samples_split=10, rfc__n_estimators=200 \n",
      "[CV]  rfc__max_depth=None, rfc__min_samples_leaf=1, rfc__min_samples_split=10, rfc__n_estimators=200, score=0.784, total=   9.6s\n",
      "[CV] rfc__max_depth=None, rfc__min_samples_leaf=1, rfc__min_samples_split=10, rfc__n_estimators=200 \n",
      "[CV]  rfc__max_depth=None, rfc__min_samples_leaf=1, rfc__min_samples_split=10, rfc__n_estimators=200, score=0.787, total=  10.3s\n",
      "[CV] rfc__max_depth=None, rfc__min_samples_leaf=1, rfc__min_samples_split=10, rfc__n_estimators=200 \n",
      "[CV]  rfc__max_depth=None, rfc__min_samples_leaf=1, rfc__min_samples_split=10, rfc__n_estimators=200, score=0.778, total=   9.5s\n",
      "[CV] rfc__max_depth=None, rfc__min_samples_leaf=10, rfc__min_samples_split=5, rfc__n_estimators=200 \n",
      "[CV]  rfc__max_depth=None, rfc__min_samples_leaf=10, rfc__min_samples_split=5, rfc__n_estimators=200, score=0.771, total=   8.1s\n",
      "[CV] rfc__max_depth=None, rfc__min_samples_leaf=10, rfc__min_samples_split=5, rfc__n_estimators=200 \n",
      "[CV]  rfc__max_depth=None, rfc__min_samples_leaf=10, rfc__min_samples_split=5, rfc__n_estimators=200, score=0.760, total=   8.0s\n",
      "[CV] rfc__max_depth=None, rfc__min_samples_leaf=10, rfc__min_samples_split=5, rfc__n_estimators=200 \n",
      "[CV]  rfc__max_depth=None, rfc__min_samples_leaf=10, rfc__min_samples_split=5, rfc__n_estimators=200, score=0.760, total=   8.2s\n",
      "[CV] rfc__max_depth=None, rfc__min_samples_leaf=10, rfc__min_samples_split=5, rfc__n_estimators=200 \n",
      "[CV]  rfc__max_depth=None, rfc__min_samples_leaf=10, rfc__min_samples_split=5, rfc__n_estimators=200, score=0.767, total=   8.4s\n",
      "[CV] rfc__max_depth=None, rfc__min_samples_leaf=10, rfc__min_samples_split=5, rfc__n_estimators=200 \n",
      "[CV]  rfc__max_depth=None, rfc__min_samples_leaf=10, rfc__min_samples_split=5, rfc__n_estimators=200, score=0.757, total=   7.6s\n",
      "[CV] rfc__max_depth=None, rfc__min_samples_leaf=10, rfc__min_samples_split=10, rfc__n_estimators=200 \n",
      "[CV]  rfc__max_depth=None, rfc__min_samples_leaf=10, rfc__min_samples_split=10, rfc__n_estimators=200, score=0.771, total=   7.7s\n",
      "[CV] rfc__max_depth=None, rfc__min_samples_leaf=10, rfc__min_samples_split=10, rfc__n_estimators=200 \n",
      "[CV]  rfc__max_depth=None, rfc__min_samples_leaf=10, rfc__min_samples_split=10, rfc__n_estimators=200, score=0.760, total=   8.1s\n",
      "[CV] rfc__max_depth=None, rfc__min_samples_leaf=10, rfc__min_samples_split=10, rfc__n_estimators=200 \n",
      "[CV]  rfc__max_depth=None, rfc__min_samples_leaf=10, rfc__min_samples_split=10, rfc__n_estimators=200, score=0.760, total=   7.8s\n",
      "[CV] rfc__max_depth=None, rfc__min_samples_leaf=10, rfc__min_samples_split=10, rfc__n_estimators=200 \n",
      "[CV]  rfc__max_depth=None, rfc__min_samples_leaf=10, rfc__min_samples_split=10, rfc__n_estimators=200, score=0.767, total=   8.3s\n",
      "[CV] rfc__max_depth=None, rfc__min_samples_leaf=10, rfc__min_samples_split=10, rfc__n_estimators=200 \n",
      "[CV]  rfc__max_depth=None, rfc__min_samples_leaf=10, rfc__min_samples_split=10, rfc__n_estimators=200, score=0.757, total=   7.8s\n",
      "[CV] rfc__max_depth=50, rfc__min_samples_leaf=1, rfc__min_samples_split=5, rfc__n_estimators=200 \n",
      "[CV]  rfc__max_depth=50, rfc__min_samples_leaf=1, rfc__min_samples_split=5, rfc__n_estimators=200, score=0.785, total=  10.3s\n",
      "[CV] rfc__max_depth=50, rfc__min_samples_leaf=1, rfc__min_samples_split=5, rfc__n_estimators=200 \n",
      "[CV]  rfc__max_depth=50, rfc__min_samples_leaf=1, rfc__min_samples_split=5, rfc__n_estimators=200, score=0.780, total=  10.1s\n",
      "[CV] rfc__max_depth=50, rfc__min_samples_leaf=1, rfc__min_samples_split=5, rfc__n_estimators=200 \n",
      "[CV]  rfc__max_depth=50, rfc__min_samples_leaf=1, rfc__min_samples_split=5, rfc__n_estimators=200, score=0.782, total=  10.1s\n",
      "[CV] rfc__max_depth=50, rfc__min_samples_leaf=1, rfc__min_samples_split=5, rfc__n_estimators=200 \n",
      "[CV]  rfc__max_depth=50, rfc__min_samples_leaf=1, rfc__min_samples_split=5, rfc__n_estimators=200, score=0.781, total=  10.1s\n",
      "[CV] rfc__max_depth=50, rfc__min_samples_leaf=1, rfc__min_samples_split=5, rfc__n_estimators=200 \n",
      "[CV]  rfc__max_depth=50, rfc__min_samples_leaf=1, rfc__min_samples_split=5, rfc__n_estimators=200, score=0.780, total=   9.5s\n",
      "[CV] rfc__max_depth=50, rfc__min_samples_leaf=1, rfc__min_samples_split=10, rfc__n_estimators=200 \n",
      "[CV]  rfc__max_depth=50, rfc__min_samples_leaf=1, rfc__min_samples_split=10, rfc__n_estimators=200, score=0.791, total=   9.6s\n",
      "[CV] rfc__max_depth=50, rfc__min_samples_leaf=1, rfc__min_samples_split=10, rfc__n_estimators=200 \n",
      "[CV]  rfc__max_depth=50, rfc__min_samples_leaf=1, rfc__min_samples_split=10, rfc__n_estimators=200, score=0.782, total=   9.5s\n",
      "[CV] rfc__max_depth=50, rfc__min_samples_leaf=1, rfc__min_samples_split=10, rfc__n_estimators=200 \n",
      "[CV]  rfc__max_depth=50, rfc__min_samples_leaf=1, rfc__min_samples_split=10, rfc__n_estimators=200, score=0.784, total=   9.5s\n",
      "[CV] rfc__max_depth=50, rfc__min_samples_leaf=1, rfc__min_samples_split=10, rfc__n_estimators=200 \n",
      "[CV]  rfc__max_depth=50, rfc__min_samples_leaf=1, rfc__min_samples_split=10, rfc__n_estimators=200, score=0.786, total=   9.6s\n",
      "[CV] rfc__max_depth=50, rfc__min_samples_leaf=1, rfc__min_samples_split=10, rfc__n_estimators=200 \n",
      "[CV]  rfc__max_depth=50, rfc__min_samples_leaf=1, rfc__min_samples_split=10, rfc__n_estimators=200, score=0.778, total=   8.9s\n",
      "[CV] rfc__max_depth=50, rfc__min_samples_leaf=10, rfc__min_samples_split=5, rfc__n_estimators=200 \n",
      "[CV]  rfc__max_depth=50, rfc__min_samples_leaf=10, rfc__min_samples_split=5, rfc__n_estimators=200, score=0.771, total=   7.7s\n",
      "[CV] rfc__max_depth=50, rfc__min_samples_leaf=10, rfc__min_samples_split=5, rfc__n_estimators=200 \n",
      "[CV]  rfc__max_depth=50, rfc__min_samples_leaf=10, rfc__min_samples_split=5, rfc__n_estimators=200, score=0.760, total=   7.7s\n",
      "[CV] rfc__max_depth=50, rfc__min_samples_leaf=10, rfc__min_samples_split=5, rfc__n_estimators=200 \n",
      "[CV]  rfc__max_depth=50, rfc__min_samples_leaf=10, rfc__min_samples_split=5, rfc__n_estimators=200, score=0.761, total=   7.6s\n",
      "[CV] rfc__max_depth=50, rfc__min_samples_leaf=10, rfc__min_samples_split=5, rfc__n_estimators=200 \n",
      "[CV]  rfc__max_depth=50, rfc__min_samples_leaf=10, rfc__min_samples_split=5, rfc__n_estimators=200, score=0.767, total=   7.7s\n",
      "[CV] rfc__max_depth=50, rfc__min_samples_leaf=10, rfc__min_samples_split=5, rfc__n_estimators=200 \n",
      "[CV]  rfc__max_depth=50, rfc__min_samples_leaf=10, rfc__min_samples_split=5, rfc__n_estimators=200, score=0.757, total=   7.1s\n",
      "[CV] rfc__max_depth=50, rfc__min_samples_leaf=10, rfc__min_samples_split=10, rfc__n_estimators=200 \n",
      "[CV]  rfc__max_depth=50, rfc__min_samples_leaf=10, rfc__min_samples_split=10, rfc__n_estimators=200, score=0.771, total=   7.6s\n",
      "[CV] rfc__max_depth=50, rfc__min_samples_leaf=10, rfc__min_samples_split=10, rfc__n_estimators=200 \n",
      "[CV]  rfc__max_depth=50, rfc__min_samples_leaf=10, rfc__min_samples_split=10, rfc__n_estimators=200, score=0.760, total=   7.6s\n",
      "[CV] rfc__max_depth=50, rfc__min_samples_leaf=10, rfc__min_samples_split=10, rfc__n_estimators=200 \n",
      "[CV]  rfc__max_depth=50, rfc__min_samples_leaf=10, rfc__min_samples_split=10, rfc__n_estimators=200, score=0.761, total=   7.7s\n",
      "[CV] rfc__max_depth=50, rfc__min_samples_leaf=10, rfc__min_samples_split=10, rfc__n_estimators=200 \n"
     ]
    },
    {
     "name": "stdout",
     "output_type": "stream",
     "text": [
      "[CV]  rfc__max_depth=50, rfc__min_samples_leaf=10, rfc__min_samples_split=10, rfc__n_estimators=200, score=0.767, total=   7.7s\n",
      "[CV] rfc__max_depth=50, rfc__min_samples_leaf=10, rfc__min_samples_split=10, rfc__n_estimators=200 \n",
      "[CV]  rfc__max_depth=50, rfc__min_samples_leaf=10, rfc__min_samples_split=10, rfc__n_estimators=200, score=0.757, total=   7.1s\n"
     ]
    },
    {
     "name": "stderr",
     "output_type": "stream",
     "text": [
      "[Parallel(n_jobs=1)]: Done  40 out of  40 | elapsed:  5.9min finished\n"
     ]
    },
    {
     "data": {
      "text/plain": [
       "GridSearchCV(cv=5,\n",
       "             estimator=Pipeline(steps=[('ct',\n",
       "                                        ColumnTransformer(transformers=[('subpipe_num',\n",
       "                                                                         Pipeline(steps=[('ss',\n",
       "                                                                                          StandardScaler())]),\n",
       "                                                                         ['amount_tsh',\n",
       "                                                                          'gps_height',\n",
       "                                                                          'population']),\n",
       "                                                                        ('subpipe_cat',\n",
       "                                                                         Pipeline(steps=[('ohe',\n",
       "                                                                                          OneHotEncoder(handle_unknown='ignore',\n",
       "                                                                                                        sparse=False))]),\n",
       "                                                                         ['basin',\n",
       "                                                                          'region',\n",
       "                                                                          'district_code',\n",
       "                                                                          'lga',\n",
       "                                                                          'management',\n",
       "                                                                          'extraction_type_class',\n",
       "                                                                          'payment',\n",
       "                                                                          'quality_group',\n",
       "                                                                          'quantity',\n",
       "                                                                          'source_class',\n",
       "                                                                          'waterpoint_type']),\n",
       "                                                                        ('subpipe_bool',\n",
       "                                                                         Pipeline(steps=[('ord',\n",
       "                                                                                          OrdinalEncoder())]),\n",
       "                                                                         [])])),\n",
       "                                       ('rfc',\n",
       "                                        RandomForestClassifier(random_state=42))]),\n",
       "             param_grid={'rfc__max_depth': [None, 50],\n",
       "                         'rfc__min_samples_leaf': [1, 10],\n",
       "                         'rfc__min_samples_split': [5, 10],\n",
       "                         'rfc__n_estimators': [200]},\n",
       "             verbose=3)"
      ]
     },
     "execution_count": 123,
     "metadata": {},
     "output_type": "execute_result"
    }
   ],
   "source": [
    "gs.fit(X_train, y_train)"
   ]
  },
  {
   "cell_type": "code",
   "execution_count": 124,
   "metadata": {},
   "outputs": [
    {
     "data": {
      "text/plain": [
       "0.784736251402918"
      ]
     },
     "execution_count": 124,
     "metadata": {},
     "output_type": "execute_result"
    }
   ],
   "source": [
    "gs.best_score_"
   ]
  },
  {
   "cell_type": "code",
   "execution_count": 127,
   "metadata": {},
   "outputs": [
    {
     "data": {
      "text/plain": [
       "functional                 24161\n",
       "non functional             17146\n",
       "functional needs repair     3243\n",
       "Name: status_group, dtype: int64"
      ]
     },
     "execution_count": 127,
     "metadata": {},
     "output_type": "execute_result"
    }
   ],
   "source": [
    "y_train.value_counts()"
   ]
  },
  {
   "cell_type": "code",
   "execution_count": 129,
   "metadata": {
    "scrolled": true
   },
   "outputs": [
    {
     "data": {
      "text/plain": [
       "functional                 32259\n",
       "non functional             22824\n",
       "functional needs repair     4317\n",
       "Name: status_group, dtype: int64"
      ]
     },
     "execution_count": 129,
     "metadata": {},
     "output_type": "execute_result"
    }
   ],
   "source": [
    "y.value_counts()"
   ]
  },
  {
   "cell_type": "code",
   "execution_count": 130,
   "metadata": {},
   "outputs": [],
   "source": [
    "y= y.str.replace('functional needs repair','functional')"
   ]
  },
  {
   "cell_type": "code",
   "execution_count": 131,
   "metadata": {},
   "outputs": [
    {
     "data": {
      "text/plain": [
       "functional        36576\n",
       "non functional    22824\n",
       "Name: status_group, dtype: int64"
      ]
     },
     "execution_count": 131,
     "metadata": {},
     "output_type": "execute_result"
    }
   ],
   "source": [
    "y.value_counts()"
   ]
  },
  {
   "cell_type": "code",
   "execution_count": 134,
   "metadata": {},
   "outputs": [],
   "source": [
    "X_train, X_test, y_train, y_test = train_test_split(X, y, random_state=42)"
   ]
  },
  {
   "cell_type": "code",
   "execution_count": 135,
   "metadata": {},
   "outputs": [
    {
     "data": {
      "text/plain": [
       "functional        27404\n",
       "non functional    17146\n",
       "Name: status_group, dtype: int64"
      ]
     },
     "execution_count": 135,
     "metadata": {},
     "output_type": "execute_result"
    }
   ],
   "source": [
    "y_train.value_counts()"
   ]
  },
  {
   "cell_type": "code",
   "execution_count": 136,
   "metadata": {},
   "outputs": [],
   "source": [
    "rfc = RandomForestClassifier(random_state=42)\n",
    "\n",
    "binary_model_pipe = Pipeline(steps = [('ct', CT),\n",
    "                            ('rfc', rfc )])"
   ]
  },
  {
   "cell_type": "code",
   "execution_count": 137,
   "metadata": {},
   "outputs": [
    {
     "data": {
      "text/plain": [
       "0.9518518518518518"
      ]
     },
     "execution_count": 137,
     "metadata": {},
     "output_type": "execute_result"
    }
   ],
   "source": [
    "binary_model_pipe.fit(X_train, y_train)\n",
    "binary_model_pipe.score(X_train, y_train)"
   ]
  },
  {
   "cell_type": "code",
   "execution_count": 138,
   "metadata": {},
   "outputs": [],
   "source": [
    "params = {'rfc__n_estimators':[200],\n",
    "          'rfc__max_depth':[None, 50],\n",
    "          'rfc__min_samples_leaf': [1, 10],\n",
    "          'rfc__min_samples_split': [5, 10]}\n",
    "gs = GridSearchCV(estimator = binary_model_pipe, param_grid = params, cv=5, verbose=3)"
   ]
  },
  {
   "cell_type": "code",
   "execution_count": 139,
   "metadata": {
    "scrolled": true
   },
   "outputs": [
    {
     "name": "stdout",
     "output_type": "stream",
     "text": [
      "Fitting 5 folds for each of 8 candidates, totalling 40 fits\n",
      "[CV] rfc__max_depth=None, rfc__min_samples_leaf=1, rfc__min_samples_split=5, rfc__n_estimators=200 \n"
     ]
    },
    {
     "name": "stderr",
     "output_type": "stream",
     "text": [
      "[Parallel(n_jobs=1)]: Using backend SequentialBackend with 1 concurrent workers.\n"
     ]
    },
    {
     "name": "stdout",
     "output_type": "stream",
     "text": [
      "[CV]  rfc__max_depth=None, rfc__min_samples_leaf=1, rfc__min_samples_split=5, rfc__n_estimators=200, score=0.839, total=  11.0s\n",
      "[CV] rfc__max_depth=None, rfc__min_samples_leaf=1, rfc__min_samples_split=5, rfc__n_estimators=200 \n"
     ]
    },
    {
     "name": "stderr",
     "output_type": "stream",
     "text": [
      "[Parallel(n_jobs=1)]: Done   1 out of   1 | elapsed:   10.9s remaining:    0.0s\n"
     ]
    },
    {
     "name": "stdout",
     "output_type": "stream",
     "text": [
      "[CV]  rfc__max_depth=None, rfc__min_samples_leaf=1, rfc__min_samples_split=5, rfc__n_estimators=200, score=0.839, total=  10.3s\n",
      "[CV] rfc__max_depth=None, rfc__min_samples_leaf=1, rfc__min_samples_split=5, rfc__n_estimators=200 \n"
     ]
    },
    {
     "name": "stderr",
     "output_type": "stream",
     "text": [
      "[Parallel(n_jobs=1)]: Done   2 out of   2 | elapsed:   21.2s remaining:    0.0s\n"
     ]
    },
    {
     "name": "stdout",
     "output_type": "stream",
     "text": [
      "[CV]  rfc__max_depth=None, rfc__min_samples_leaf=1, rfc__min_samples_split=5, rfc__n_estimators=200, score=0.833, total=  10.5s\n",
      "[CV] rfc__max_depth=None, rfc__min_samples_leaf=1, rfc__min_samples_split=5, rfc__n_estimators=200 \n",
      "[CV]  rfc__max_depth=None, rfc__min_samples_leaf=1, rfc__min_samples_split=5, rfc__n_estimators=200, score=0.840, total=  10.4s\n",
      "[CV] rfc__max_depth=None, rfc__min_samples_leaf=1, rfc__min_samples_split=5, rfc__n_estimators=200 \n",
      "[CV]  rfc__max_depth=None, rfc__min_samples_leaf=1, rfc__min_samples_split=5, rfc__n_estimators=200, score=0.837, total=  10.1s\n",
      "[CV] rfc__max_depth=None, rfc__min_samples_leaf=1, rfc__min_samples_split=10, rfc__n_estimators=200 \n",
      "[CV]  rfc__max_depth=None, rfc__min_samples_leaf=1, rfc__min_samples_split=10, rfc__n_estimators=200, score=0.846, total=  10.5s\n",
      "[CV] rfc__max_depth=None, rfc__min_samples_leaf=1, rfc__min_samples_split=10, rfc__n_estimators=200 \n",
      "[CV]  rfc__max_depth=None, rfc__min_samples_leaf=1, rfc__min_samples_split=10, rfc__n_estimators=200, score=0.840, total=  10.3s\n",
      "[CV] rfc__max_depth=None, rfc__min_samples_leaf=1, rfc__min_samples_split=10, rfc__n_estimators=200 \n",
      "[CV]  rfc__max_depth=None, rfc__min_samples_leaf=1, rfc__min_samples_split=10, rfc__n_estimators=200, score=0.837, total=  10.5s\n",
      "[CV] rfc__max_depth=None, rfc__min_samples_leaf=1, rfc__min_samples_split=10, rfc__n_estimators=200 \n",
      "[CV]  rfc__max_depth=None, rfc__min_samples_leaf=1, rfc__min_samples_split=10, rfc__n_estimators=200, score=0.843, total=  11.0s\n",
      "[CV] rfc__max_depth=None, rfc__min_samples_leaf=1, rfc__min_samples_split=10, rfc__n_estimators=200 \n",
      "[CV]  rfc__max_depth=None, rfc__min_samples_leaf=1, rfc__min_samples_split=10, rfc__n_estimators=200, score=0.835, total=   9.3s\n",
      "[CV] rfc__max_depth=None, rfc__min_samples_leaf=10, rfc__min_samples_split=5, rfc__n_estimators=200 \n",
      "[CV]  rfc__max_depth=None, rfc__min_samples_leaf=10, rfc__min_samples_split=5, rfc__n_estimators=200, score=0.826, total=   8.3s\n",
      "[CV] rfc__max_depth=None, rfc__min_samples_leaf=10, rfc__min_samples_split=5, rfc__n_estimators=200 \n",
      "[CV]  rfc__max_depth=None, rfc__min_samples_leaf=10, rfc__min_samples_split=5, rfc__n_estimators=200, score=0.820, total=   7.8s\n",
      "[CV] rfc__max_depth=None, rfc__min_samples_leaf=10, rfc__min_samples_split=5, rfc__n_estimators=200 \n",
      "[CV]  rfc__max_depth=None, rfc__min_samples_leaf=10, rfc__min_samples_split=5, rfc__n_estimators=200, score=0.815, total=   8.1s\n",
      "[CV] rfc__max_depth=None, rfc__min_samples_leaf=10, rfc__min_samples_split=5, rfc__n_estimators=200 \n",
      "[CV]  rfc__max_depth=None, rfc__min_samples_leaf=10, rfc__min_samples_split=5, rfc__n_estimators=200, score=0.821, total=   8.2s\n",
      "[CV] rfc__max_depth=None, rfc__min_samples_leaf=10, rfc__min_samples_split=5, rfc__n_estimators=200 \n",
      "[CV]  rfc__max_depth=None, rfc__min_samples_leaf=10, rfc__min_samples_split=5, rfc__n_estimators=200, score=0.813, total=   7.4s\n",
      "[CV] rfc__max_depth=None, rfc__min_samples_leaf=10, rfc__min_samples_split=10, rfc__n_estimators=200 \n",
      "[CV]  rfc__max_depth=None, rfc__min_samples_leaf=10, rfc__min_samples_split=10, rfc__n_estimators=200, score=0.826, total=   8.4s\n",
      "[CV] rfc__max_depth=None, rfc__min_samples_leaf=10, rfc__min_samples_split=10, rfc__n_estimators=200 \n",
      "[CV]  rfc__max_depth=None, rfc__min_samples_leaf=10, rfc__min_samples_split=10, rfc__n_estimators=200, score=0.820, total=   8.1s\n",
      "[CV] rfc__max_depth=None, rfc__min_samples_leaf=10, rfc__min_samples_split=10, rfc__n_estimators=200 \n",
      "[CV]  rfc__max_depth=None, rfc__min_samples_leaf=10, rfc__min_samples_split=10, rfc__n_estimators=200, score=0.815, total=   8.0s\n",
      "[CV] rfc__max_depth=None, rfc__min_samples_leaf=10, rfc__min_samples_split=10, rfc__n_estimators=200 \n",
      "[CV]  rfc__max_depth=None, rfc__min_samples_leaf=10, rfc__min_samples_split=10, rfc__n_estimators=200, score=0.821, total=   7.9s\n",
      "[CV] rfc__max_depth=None, rfc__min_samples_leaf=10, rfc__min_samples_split=10, rfc__n_estimators=200 \n",
      "[CV]  rfc__max_depth=None, rfc__min_samples_leaf=10, rfc__min_samples_split=10, rfc__n_estimators=200, score=0.813, total=   7.6s\n",
      "[CV] rfc__max_depth=50, rfc__min_samples_leaf=1, rfc__min_samples_split=5, rfc__n_estimators=200 \n",
      "[CV]  rfc__max_depth=50, rfc__min_samples_leaf=1, rfc__min_samples_split=5, rfc__n_estimators=200, score=0.842, total=  10.9s\n",
      "[CV] rfc__max_depth=50, rfc__min_samples_leaf=1, rfc__min_samples_split=5, rfc__n_estimators=200 \n",
      "[CV]  rfc__max_depth=50, rfc__min_samples_leaf=1, rfc__min_samples_split=5, rfc__n_estimators=200, score=0.841, total=  10.7s\n",
      "[CV] rfc__max_depth=50, rfc__min_samples_leaf=1, rfc__min_samples_split=5, rfc__n_estimators=200 \n",
      "[CV]  rfc__max_depth=50, rfc__min_samples_leaf=1, rfc__min_samples_split=5, rfc__n_estimators=200, score=0.835, total=  10.9s\n",
      "[CV] rfc__max_depth=50, rfc__min_samples_leaf=1, rfc__min_samples_split=5, rfc__n_estimators=200 \n",
      "[CV]  rfc__max_depth=50, rfc__min_samples_leaf=1, rfc__min_samples_split=5, rfc__n_estimators=200, score=0.839, total=  10.1s\n",
      "[CV] rfc__max_depth=50, rfc__min_samples_leaf=1, rfc__min_samples_split=5, rfc__n_estimators=200 \n",
      "[CV]  rfc__max_depth=50, rfc__min_samples_leaf=1, rfc__min_samples_split=5, rfc__n_estimators=200, score=0.836, total=   9.8s\n",
      "[CV] rfc__max_depth=50, rfc__min_samples_leaf=1, rfc__min_samples_split=10, rfc__n_estimators=200 \n",
      "[CV]  rfc__max_depth=50, rfc__min_samples_leaf=1, rfc__min_samples_split=10, rfc__n_estimators=200, score=0.846, total=  11.5s\n",
      "[CV] rfc__max_depth=50, rfc__min_samples_leaf=1, rfc__min_samples_split=10, rfc__n_estimators=200 \n",
      "[CV]  rfc__max_depth=50, rfc__min_samples_leaf=1, rfc__min_samples_split=10, rfc__n_estimators=200, score=0.842, total=  10.1s\n",
      "[CV] rfc__max_depth=50, rfc__min_samples_leaf=1, rfc__min_samples_split=10, rfc__n_estimators=200 \n",
      "[CV]  rfc__max_depth=50, rfc__min_samples_leaf=1, rfc__min_samples_split=10, rfc__n_estimators=200, score=0.839, total=   9.7s\n",
      "[CV] rfc__max_depth=50, rfc__min_samples_leaf=1, rfc__min_samples_split=10, rfc__n_estimators=200 \n",
      "[CV]  rfc__max_depth=50, rfc__min_samples_leaf=1, rfc__min_samples_split=10, rfc__n_estimators=200, score=0.844, total=  10.1s\n",
      "[CV] rfc__max_depth=50, rfc__min_samples_leaf=1, rfc__min_samples_split=10, rfc__n_estimators=200 \n",
      "[CV]  rfc__max_depth=50, rfc__min_samples_leaf=1, rfc__min_samples_split=10, rfc__n_estimators=200, score=0.836, total=   9.9s\n",
      "[CV] rfc__max_depth=50, rfc__min_samples_leaf=10, rfc__min_samples_split=5, rfc__n_estimators=200 \n",
      "[CV]  rfc__max_depth=50, rfc__min_samples_leaf=10, rfc__min_samples_split=5, rfc__n_estimators=200, score=0.827, total=   8.4s\n",
      "[CV] rfc__max_depth=50, rfc__min_samples_leaf=10, rfc__min_samples_split=5, rfc__n_estimators=200 \n",
      "[CV]  rfc__max_depth=50, rfc__min_samples_leaf=10, rfc__min_samples_split=5, rfc__n_estimators=200, score=0.820, total=   8.4s\n",
      "[CV] rfc__max_depth=50, rfc__min_samples_leaf=10, rfc__min_samples_split=5, rfc__n_estimators=200 \n",
      "[CV]  rfc__max_depth=50, rfc__min_samples_leaf=10, rfc__min_samples_split=5, rfc__n_estimators=200, score=0.815, total=   8.9s\n",
      "[CV] rfc__max_depth=50, rfc__min_samples_leaf=10, rfc__min_samples_split=5, rfc__n_estimators=200 \n",
      "[CV]  rfc__max_depth=50, rfc__min_samples_leaf=10, rfc__min_samples_split=5, rfc__n_estimators=200, score=0.822, total=   9.2s\n",
      "[CV] rfc__max_depth=50, rfc__min_samples_leaf=10, rfc__min_samples_split=5, rfc__n_estimators=200 \n",
      "[CV]  rfc__max_depth=50, rfc__min_samples_leaf=10, rfc__min_samples_split=5, rfc__n_estimators=200, score=0.813, total=   8.4s\n",
      "[CV] rfc__max_depth=50, rfc__min_samples_leaf=10, rfc__min_samples_split=10, rfc__n_estimators=200 \n",
      "[CV]  rfc__max_depth=50, rfc__min_samples_leaf=10, rfc__min_samples_split=10, rfc__n_estimators=200, score=0.827, total=   9.1s\n",
      "[CV] rfc__max_depth=50, rfc__min_samples_leaf=10, rfc__min_samples_split=10, rfc__n_estimators=200 \n",
      "[CV]  rfc__max_depth=50, rfc__min_samples_leaf=10, rfc__min_samples_split=10, rfc__n_estimators=200, score=0.820, total=   8.7s\n",
      "[CV] rfc__max_depth=50, rfc__min_samples_leaf=10, rfc__min_samples_split=10, rfc__n_estimators=200 \n",
      "[CV]  rfc__max_depth=50, rfc__min_samples_leaf=10, rfc__min_samples_split=10, rfc__n_estimators=200, score=0.815, total=   8.2s\n",
      "[CV] rfc__max_depth=50, rfc__min_samples_leaf=10, rfc__min_samples_split=10, rfc__n_estimators=200 \n"
     ]
    },
    {
     "name": "stdout",
     "output_type": "stream",
     "text": [
      "[CV]  rfc__max_depth=50, rfc__min_samples_leaf=10, rfc__min_samples_split=10, rfc__n_estimators=200, score=0.822, total=   8.3s\n",
      "[CV] rfc__max_depth=50, rfc__min_samples_leaf=10, rfc__min_samples_split=10, rfc__n_estimators=200 \n",
      "[CV]  rfc__max_depth=50, rfc__min_samples_leaf=10, rfc__min_samples_split=10, rfc__n_estimators=200, score=0.813, total=   8.5s\n"
     ]
    },
    {
     "name": "stderr",
     "output_type": "stream",
     "text": [
      "[Parallel(n_jobs=1)]: Done  40 out of  40 | elapsed:  6.2min finished\n"
     ]
    },
    {
     "data": {
      "text/plain": [
       "GridSearchCV(cv=5,\n",
       "             estimator=Pipeline(steps=[('ct',\n",
       "                                        ColumnTransformer(transformers=[('subpipe_num',\n",
       "                                                                         Pipeline(steps=[('ss',\n",
       "                                                                                          StandardScaler())]),\n",
       "                                                                         ['amount_tsh',\n",
       "                                                                          'gps_height',\n",
       "                                                                          'population']),\n",
       "                                                                        ('subpipe_cat',\n",
       "                                                                         Pipeline(steps=[('ohe',\n",
       "                                                                                          OneHotEncoder(handle_unknown='ignore',\n",
       "                                                                                                        sparse=False))]),\n",
       "                                                                         ['basin',\n",
       "                                                                          'region',\n",
       "                                                                          'district_code',\n",
       "                                                                          'lga',\n",
       "                                                                          'management',\n",
       "                                                                          'extraction_type_class',\n",
       "                                                                          'payment',\n",
       "                                                                          'quality_group',\n",
       "                                                                          'quantity',\n",
       "                                                                          'source_class',\n",
       "                                                                          'waterpoint_type']),\n",
       "                                                                        ('subpipe_bool',\n",
       "                                                                         Pipeline(steps=[('ord',\n",
       "                                                                                          OrdinalEncoder())]),\n",
       "                                                                         [])])),\n",
       "                                       ('rfc',\n",
       "                                        RandomForestClassifier(random_state=42))]),\n",
       "             param_grid={'rfc__max_depth': [None, 50],\n",
       "                         'rfc__min_samples_leaf': [1, 10],\n",
       "                         'rfc__min_samples_split': [5, 10],\n",
       "                         'rfc__n_estimators': [200]},\n",
       "             verbose=3)"
      ]
     },
     "execution_count": 139,
     "metadata": {},
     "output_type": "execute_result"
    }
   ],
   "source": [
    "gs.fit(X_train, y_train)"
   ]
  },
  {
   "cell_type": "code",
   "execution_count": 140,
   "metadata": {},
   "outputs": [
    {
     "data": {
      "text/plain": [
       "0.8413916947250281"
      ]
     },
     "execution_count": 140,
     "metadata": {},
     "output_type": "execute_result"
    }
   ],
   "source": [
    "gs.best_score_"
   ]
  },
  {
   "cell_type": "markdown",
   "metadata": {},
   "source": [
    "### Binary Target using First Model Features"
   ]
  },
  {
   "cell_type": "code",
   "execution_count": 141,
   "metadata": {},
   "outputs": [],
   "source": [
    "picked_features = ['amount_tsh', 'installer',  'gps_height', 'basin', 'region', 'district_code', 'lga', 'population', \n",
    "                   'public_meeting', 'management', 'permit', 'extraction_type', 'payment', 'water_quality', 'quantity', \n",
    "                   'source', 'waterpoint_type']"
   ]
  },
  {
   "cell_type": "code",
   "execution_count": 142,
   "metadata": {},
   "outputs": [
    {
     "data": {
      "text/plain": [
       "(['amount_tsh', 'gps_height', 'population'],\n",
       " ['installer',\n",
       "  'basin',\n",
       "  'region',\n",
       "  'district_code',\n",
       "  'lga',\n",
       "  'management',\n",
       "  'extraction_type',\n",
       "  'payment',\n",
       "  'water_quality',\n",
       "  'quantity',\n",
       "  'source',\n",
       "  'waterpoint_type'],\n",
       " ['public_meeting', 'permit'])"
      ]
     },
     "execution_count": 142,
     "metadata": {},
     "output_type": "execute_result"
    }
   ],
   "source": [
    "features_type = GrabTypes(picked_features, df_binary)\n",
    "features_type"
   ]
  },
  {
   "cell_type": "code",
   "execution_count": 143,
   "metadata": {},
   "outputs": [],
   "source": [
    "CT = ColumnTransformer(transformers=[('subpipe_num', subpipe_num, features_type[0]),\n",
    "                                     ('subpipe_cat', subpipe_cat, features_type[1]),\n",
    "                                     ('subpipe_bool', subpipe_bool, features_type[2])],\n",
    "                       remainder='drop')"
   ]
  },
  {
   "cell_type": "code",
   "execution_count": 150,
   "metadata": {},
   "outputs": [],
   "source": [
    "rfc = RandomForestClassifier(random_state=42)\n",
    "\n",
    "binary_pipe_1 = Pipeline(steps = [('ct', CT),\n",
    "                            ('rfc', rfc )])"
   ]
  },
  {
   "cell_type": "code",
   "execution_count": 147,
   "metadata": {},
   "outputs": [
    {
     "data": {
      "text/plain": [
       "0.9648035914702582"
      ]
     },
     "execution_count": 147,
     "metadata": {},
     "output_type": "execute_result"
    }
   ],
   "source": [
    "binary_pipe_1.fit(X_train, y_train)\n",
    "binary_pipe_1.score(X_train, y_train)"
   ]
  },
  {
   "cell_type": "code",
   "execution_count": 151,
   "metadata": {},
   "outputs": [],
   "source": [
    "params = {'rfc__n_estimators':[200],\n",
    "          'rfc__max_depth':[None, 50],\n",
    "          'rfc__min_samples_leaf': [1, 10],\n",
    "          'rfc__min_samples_split': [5, 10]}\n",
    "gs = GridSearchCV(estimator = binary_pipe_1, param_grid = params, cv=5, verbose=3)"
   ]
  },
  {
   "cell_type": "code",
   "execution_count": 152,
   "metadata": {},
   "outputs": [
    {
     "name": "stdout",
     "output_type": "stream",
     "text": [
      "Fitting 5 folds for each of 8 candidates, totalling 40 fits\n",
      "[CV] rfc__max_depth=None, rfc__min_samples_leaf=1, rfc__min_samples_split=5, rfc__n_estimators=200 \n"
     ]
    },
    {
     "name": "stderr",
     "output_type": "stream",
     "text": [
      "[Parallel(n_jobs=1)]: Using backend SequentialBackend with 1 concurrent workers.\n"
     ]
    },
    {
     "name": "stdout",
     "output_type": "stream",
     "text": [
      "[CV]  rfc__max_depth=None, rfc__min_samples_leaf=1, rfc__min_samples_split=5, rfc__n_estimators=200, score=0.851, total=  49.3s\n",
      "[CV] rfc__max_depth=None, rfc__min_samples_leaf=1, rfc__min_samples_split=5, rfc__n_estimators=200 \n"
     ]
    },
    {
     "name": "stderr",
     "output_type": "stream",
     "text": [
      "[Parallel(n_jobs=1)]: Done   1 out of   1 | elapsed:   49.2s remaining:    0.0s\n"
     ]
    },
    {
     "name": "stdout",
     "output_type": "stream",
     "text": [
      "[CV]  rfc__max_depth=None, rfc__min_samples_leaf=1, rfc__min_samples_split=5, rfc__n_estimators=200, score=0.852, total=  57.1s\n",
      "[CV] rfc__max_depth=None, rfc__min_samples_leaf=1, rfc__min_samples_split=5, rfc__n_estimators=200 \n"
     ]
    },
    {
     "name": "stderr",
     "output_type": "stream",
     "text": [
      "[Parallel(n_jobs=1)]: Done   2 out of   2 | elapsed:  1.8min remaining:    0.0s\n"
     ]
    },
    {
     "name": "stdout",
     "output_type": "stream",
     "text": [
      "[CV]  rfc__max_depth=None, rfc__min_samples_leaf=1, rfc__min_samples_split=5, rfc__n_estimators=200, score=0.845, total=  54.0s\n",
      "[CV] rfc__max_depth=None, rfc__min_samples_leaf=1, rfc__min_samples_split=5, rfc__n_estimators=200 \n",
      "[CV]  rfc__max_depth=None, rfc__min_samples_leaf=1, rfc__min_samples_split=5, rfc__n_estimators=200, score=0.852, total=  52.5s\n",
      "[CV] rfc__max_depth=None, rfc__min_samples_leaf=1, rfc__min_samples_split=5, rfc__n_estimators=200 \n",
      "[CV]  rfc__max_depth=None, rfc__min_samples_leaf=1, rfc__min_samples_split=5, rfc__n_estimators=200, score=0.845, total=  49.9s\n",
      "[CV] rfc__max_depth=None, rfc__min_samples_leaf=1, rfc__min_samples_split=10, rfc__n_estimators=200 \n",
      "[CV]  rfc__max_depth=None, rfc__min_samples_leaf=1, rfc__min_samples_split=10, rfc__n_estimators=200, score=0.855, total=  53.1s\n",
      "[CV] rfc__max_depth=None, rfc__min_samples_leaf=1, rfc__min_samples_split=10, rfc__n_estimators=200 \n",
      "[CV]  rfc__max_depth=None, rfc__min_samples_leaf=1, rfc__min_samples_split=10, rfc__n_estimators=200, score=0.853, total=  50.1s\n",
      "[CV] rfc__max_depth=None, rfc__min_samples_leaf=1, rfc__min_samples_split=10, rfc__n_estimators=200 \n",
      "[CV]  rfc__max_depth=None, rfc__min_samples_leaf=1, rfc__min_samples_split=10, rfc__n_estimators=200, score=0.847, total=  48.6s\n",
      "[CV] rfc__max_depth=None, rfc__min_samples_leaf=1, rfc__min_samples_split=10, rfc__n_estimators=200 \n",
      "[CV]  rfc__max_depth=None, rfc__min_samples_leaf=1, rfc__min_samples_split=10, rfc__n_estimators=200, score=0.853, total=  51.4s\n",
      "[CV] rfc__max_depth=None, rfc__min_samples_leaf=1, rfc__min_samples_split=10, rfc__n_estimators=200 \n",
      "[CV]  rfc__max_depth=None, rfc__min_samples_leaf=1, rfc__min_samples_split=10, rfc__n_estimators=200, score=0.843, total=  48.7s\n",
      "[CV] rfc__max_depth=None, rfc__min_samples_leaf=10, rfc__min_samples_split=5, rfc__n_estimators=200 \n",
      "[CV]  rfc__max_depth=None, rfc__min_samples_leaf=10, rfc__min_samples_split=5, rfc__n_estimators=200, score=0.811, total=  36.0s\n",
      "[CV] rfc__max_depth=None, rfc__min_samples_leaf=10, rfc__min_samples_split=5, rfc__n_estimators=200 \n",
      "[CV]  rfc__max_depth=None, rfc__min_samples_leaf=10, rfc__min_samples_split=5, rfc__n_estimators=200, score=0.801, total=  36.0s\n",
      "[CV] rfc__max_depth=None, rfc__min_samples_leaf=10, rfc__min_samples_split=5, rfc__n_estimators=200 \n",
      "[CV]  rfc__max_depth=None, rfc__min_samples_leaf=10, rfc__min_samples_split=5, rfc__n_estimators=200, score=0.800, total=  34.7s\n",
      "[CV] rfc__max_depth=None, rfc__min_samples_leaf=10, rfc__min_samples_split=5, rfc__n_estimators=200 \n",
      "[CV]  rfc__max_depth=None, rfc__min_samples_leaf=10, rfc__min_samples_split=5, rfc__n_estimators=200, score=0.807, total=  36.3s\n",
      "[CV] rfc__max_depth=None, rfc__min_samples_leaf=10, rfc__min_samples_split=5, rfc__n_estimators=200 \n",
      "[CV]  rfc__max_depth=None, rfc__min_samples_leaf=10, rfc__min_samples_split=5, rfc__n_estimators=200, score=0.798, total=  35.5s\n",
      "[CV] rfc__max_depth=None, rfc__min_samples_leaf=10, rfc__min_samples_split=10, rfc__n_estimators=200 \n",
      "[CV]  rfc__max_depth=None, rfc__min_samples_leaf=10, rfc__min_samples_split=10, rfc__n_estimators=200, score=0.811, total=  34.4s\n",
      "[CV] rfc__max_depth=None, rfc__min_samples_leaf=10, rfc__min_samples_split=10, rfc__n_estimators=200 \n",
      "[CV]  rfc__max_depth=None, rfc__min_samples_leaf=10, rfc__min_samples_split=10, rfc__n_estimators=200, score=0.801, total=  35.9s\n",
      "[CV] rfc__max_depth=None, rfc__min_samples_leaf=10, rfc__min_samples_split=10, rfc__n_estimators=200 \n",
      "[CV]  rfc__max_depth=None, rfc__min_samples_leaf=10, rfc__min_samples_split=10, rfc__n_estimators=200, score=0.800, total=  32.9s\n",
      "[CV] rfc__max_depth=None, rfc__min_samples_leaf=10, rfc__min_samples_split=10, rfc__n_estimators=200 \n",
      "[CV]  rfc__max_depth=None, rfc__min_samples_leaf=10, rfc__min_samples_split=10, rfc__n_estimators=200, score=0.807, total=  34.0s\n",
      "[CV] rfc__max_depth=None, rfc__min_samples_leaf=10, rfc__min_samples_split=10, rfc__n_estimators=200 \n",
      "[CV]  rfc__max_depth=None, rfc__min_samples_leaf=10, rfc__min_samples_split=10, rfc__n_estimators=200, score=0.798, total=  33.1s\n",
      "[CV] rfc__max_depth=50, rfc__min_samples_leaf=1, rfc__min_samples_split=5, rfc__n_estimators=200 \n",
      "[CV]  rfc__max_depth=50, rfc__min_samples_leaf=1, rfc__min_samples_split=5, rfc__n_estimators=200, score=0.851, total=  49.4s\n",
      "[CV] rfc__max_depth=50, rfc__min_samples_leaf=1, rfc__min_samples_split=5, rfc__n_estimators=200 \n",
      "[CV]  rfc__max_depth=50, rfc__min_samples_leaf=1, rfc__min_samples_split=5, rfc__n_estimators=200, score=0.851, total=  49.8s\n",
      "[CV] rfc__max_depth=50, rfc__min_samples_leaf=1, rfc__min_samples_split=5, rfc__n_estimators=200 \n",
      "[CV]  rfc__max_depth=50, rfc__min_samples_leaf=1, rfc__min_samples_split=5, rfc__n_estimators=200, score=0.847, total=  51.2s\n",
      "[CV] rfc__max_depth=50, rfc__min_samples_leaf=1, rfc__min_samples_split=5, rfc__n_estimators=200 \n",
      "[CV]  rfc__max_depth=50, rfc__min_samples_leaf=1, rfc__min_samples_split=5, rfc__n_estimators=200, score=0.853, total=  51.7s\n",
      "[CV] rfc__max_depth=50, rfc__min_samples_leaf=1, rfc__min_samples_split=5, rfc__n_estimators=200 \n",
      "[CV]  rfc__max_depth=50, rfc__min_samples_leaf=1, rfc__min_samples_split=5, rfc__n_estimators=200, score=0.846, total=  51.7s\n",
      "[CV] rfc__max_depth=50, rfc__min_samples_leaf=1, rfc__min_samples_split=10, rfc__n_estimators=200 \n",
      "[CV]  rfc__max_depth=50, rfc__min_samples_leaf=1, rfc__min_samples_split=10, rfc__n_estimators=200, score=0.855, total=  49.4s\n",
      "[CV] rfc__max_depth=50, rfc__min_samples_leaf=1, rfc__min_samples_split=10, rfc__n_estimators=200 \n",
      "[CV]  rfc__max_depth=50, rfc__min_samples_leaf=1, rfc__min_samples_split=10, rfc__n_estimators=200, score=0.851, total=  53.3s\n",
      "[CV] rfc__max_depth=50, rfc__min_samples_leaf=1, rfc__min_samples_split=10, rfc__n_estimators=200 \n",
      "[CV]  rfc__max_depth=50, rfc__min_samples_leaf=1, rfc__min_samples_split=10, rfc__n_estimators=200, score=0.848, total=  50.9s\n",
      "[CV] rfc__max_depth=50, rfc__min_samples_leaf=1, rfc__min_samples_split=10, rfc__n_estimators=200 \n",
      "[CV]  rfc__max_depth=50, rfc__min_samples_leaf=1, rfc__min_samples_split=10, rfc__n_estimators=200, score=0.853, total=  52.4s\n",
      "[CV] rfc__max_depth=50, rfc__min_samples_leaf=1, rfc__min_samples_split=10, rfc__n_estimators=200 \n",
      "[CV]  rfc__max_depth=50, rfc__min_samples_leaf=1, rfc__min_samples_split=10, rfc__n_estimators=200, score=0.843, total=  50.5s\n",
      "[CV] rfc__max_depth=50, rfc__min_samples_leaf=10, rfc__min_samples_split=5, rfc__n_estimators=200 \n",
      "[CV]  rfc__max_depth=50, rfc__min_samples_leaf=10, rfc__min_samples_split=5, rfc__n_estimators=200, score=0.811, total=  36.7s\n",
      "[CV] rfc__max_depth=50, rfc__min_samples_leaf=10, rfc__min_samples_split=5, rfc__n_estimators=200 \n",
      "[CV]  rfc__max_depth=50, rfc__min_samples_leaf=10, rfc__min_samples_split=5, rfc__n_estimators=200, score=0.801, total=  37.0s\n",
      "[CV] rfc__max_depth=50, rfc__min_samples_leaf=10, rfc__min_samples_split=5, rfc__n_estimators=200 \n",
      "[CV]  rfc__max_depth=50, rfc__min_samples_leaf=10, rfc__min_samples_split=5, rfc__n_estimators=200, score=0.800, total=  32.9s\n",
      "[CV] rfc__max_depth=50, rfc__min_samples_leaf=10, rfc__min_samples_split=5, rfc__n_estimators=200 \n",
      "[CV]  rfc__max_depth=50, rfc__min_samples_leaf=10, rfc__min_samples_split=5, rfc__n_estimators=200, score=0.806, total=  34.2s\n",
      "[CV] rfc__max_depth=50, rfc__min_samples_leaf=10, rfc__min_samples_split=5, rfc__n_estimators=200 \n",
      "[CV]  rfc__max_depth=50, rfc__min_samples_leaf=10, rfc__min_samples_split=5, rfc__n_estimators=200, score=0.799, total=  33.0s\n",
      "[CV] rfc__max_depth=50, rfc__min_samples_leaf=10, rfc__min_samples_split=10, rfc__n_estimators=200 \n",
      "[CV]  rfc__max_depth=50, rfc__min_samples_leaf=10, rfc__min_samples_split=10, rfc__n_estimators=200, score=0.811, total=  34.7s\n",
      "[CV] rfc__max_depth=50, rfc__min_samples_leaf=10, rfc__min_samples_split=10, rfc__n_estimators=200 \n",
      "[CV]  rfc__max_depth=50, rfc__min_samples_leaf=10, rfc__min_samples_split=10, rfc__n_estimators=200, score=0.801, total=  34.6s\n",
      "[CV] rfc__max_depth=50, rfc__min_samples_leaf=10, rfc__min_samples_split=10, rfc__n_estimators=200 \n",
      "[CV]  rfc__max_depth=50, rfc__min_samples_leaf=10, rfc__min_samples_split=10, rfc__n_estimators=200, score=0.800, total=  37.2s\n",
      "[CV] rfc__max_depth=50, rfc__min_samples_leaf=10, rfc__min_samples_split=10, rfc__n_estimators=200 \n"
     ]
    },
    {
     "name": "stdout",
     "output_type": "stream",
     "text": [
      "[CV]  rfc__max_depth=50, rfc__min_samples_leaf=10, rfc__min_samples_split=10, rfc__n_estimators=200, score=0.806, total=  36.8s\n",
      "[CV] rfc__max_depth=50, rfc__min_samples_leaf=10, rfc__min_samples_split=10, rfc__n_estimators=200 \n",
      "[CV]  rfc__max_depth=50, rfc__min_samples_leaf=10, rfc__min_samples_split=10, rfc__n_estimators=200, score=0.799, total=  34.5s\n"
     ]
    },
    {
     "name": "stderr",
     "output_type": "stream",
     "text": [
      "[Parallel(n_jobs=1)]: Done  40 out of  40 | elapsed: 28.8min finished\n"
     ]
    },
    {
     "data": {
      "text/plain": [
       "GridSearchCV(cv=5,\n",
       "             estimator=Pipeline(steps=[('ct',\n",
       "                                        ColumnTransformer(transformers=[('subpipe_num',\n",
       "                                                                         Pipeline(steps=[('ss',\n",
       "                                                                                          StandardScaler())]),\n",
       "                                                                         ['amount_tsh',\n",
       "                                                                          'gps_height',\n",
       "                                                                          'population']),\n",
       "                                                                        ('subpipe_cat',\n",
       "                                                                         Pipeline(steps=[('ohe',\n",
       "                                                                                          OneHotEncoder(handle_unknown='ignore',\n",
       "                                                                                                        sparse=False))]),\n",
       "                                                                         ['installer',\n",
       "                                                                          'basin',\n",
       "                                                                          'region',\n",
       "                                                                          'district_code',\n",
       "                                                                          'lga',\n",
       "                                                                          'management',\n",
       "                                                                          'extraction_type',\n",
       "                                                                          'payment',\n",
       "                                                                          'water_quality',\n",
       "                                                                          'quantity',\n",
       "                                                                          'source',\n",
       "                                                                          'waterpoint_type']),\n",
       "                                                                        ('subpipe_bool',\n",
       "                                                                         Pipeline(steps=[('ord',\n",
       "                                                                                          OrdinalEncoder())]),\n",
       "                                                                         ['public_meeting',\n",
       "                                                                          'permit'])])),\n",
       "                                       ('rfc',\n",
       "                                        RandomForestClassifier(random_state=42))]),\n",
       "             param_grid={'rfc__max_depth': [None, 50],\n",
       "                         'rfc__min_samples_leaf': [1, 10],\n",
       "                         'rfc__min_samples_split': [5, 10],\n",
       "                         'rfc__n_estimators': [200]},\n",
       "             verbose=3)"
      ]
     },
     "execution_count": 152,
     "metadata": {},
     "output_type": "execute_result"
    }
   ],
   "source": [
    "gs.fit(X_train, y_train)"
   ]
  },
  {
   "cell_type": "code",
   "execution_count": 153,
   "metadata": {},
   "outputs": [
    {
     "data": {
      "text/plain": [
       "{'rfc__max_depth': None,\n",
       " 'rfc__min_samples_leaf': 1,\n",
       " 'rfc__min_samples_split': 10,\n",
       " 'rfc__n_estimators': 200}"
      ]
     },
     "execution_count": 153,
     "metadata": {},
     "output_type": "execute_result"
    }
   ],
   "source": [
    "gs.best_params_"
   ]
  },
  {
   "cell_type": "code",
   "execution_count": 154,
   "metadata": {},
   "outputs": [
    {
     "data": {
      "text/plain": [
       "0.8502805836139171"
      ]
     },
     "execution_count": 154,
     "metadata": {},
     "output_type": "execute_result"
    }
   ],
   "source": [
    "gs.best_score_"
   ]
  },
  {
   "cell_type": "code",
   "execution_count": 161,
   "metadata": {},
   "outputs": [
    {
     "data": {
      "text/plain": [
       "'rfc'"
      ]
     },
     "execution_count": 161,
     "metadata": {},
     "output_type": "execute_result"
    }
   ],
   "source": [
    "list(binary_pipe_1.named_steps.keys())[1]"
   ]
  },
  {
   "cell_type": "code",
   "execution_count": 164,
   "metadata": {},
   "outputs": [
    {
     "data": {
      "text/plain": [
       "Pipeline(steps=[('ct',\n",
       "                 ColumnTransformer(transformers=[('subpipe_num',\n",
       "                                                  Pipeline(steps=[('ss',\n",
       "                                                                   StandardScaler())]),\n",
       "                                                  ['amount_tsh', 'gps_height',\n",
       "                                                   'population']),\n",
       "                                                 ('subpipe_cat',\n",
       "                                                  Pipeline(steps=[('ohe',\n",
       "                                                                   OneHotEncoder(handle_unknown='ignore',\n",
       "                                                                                 sparse=False))]),\n",
       "                                                  ['installer', 'basin',\n",
       "                                                   'region', 'district_code',\n",
       "                                                   'lga', 'management',\n",
       "                                                   'extraction_type', 'payment',\n",
       "                                                   'water_quality', 'quantity',\n",
       "                                                   'source',\n",
       "                                                   'waterpoint_type']),\n",
       "                                                 ('subpipe_bool',\n",
       "                                                  Pipeline(steps=[('ord',\n",
       "                                                                   OrdinalEncoder())]),\n",
       "                                                  ['public_meeting',\n",
       "                                                   'permit'])])),\n",
       "                ('rfc', RandomForestClassifier(random_state=42))])"
      ]
     },
     "execution_count": 164,
     "metadata": {},
     "output_type": "execute_result"
    }
   ],
   "source": [
    "binary_pipe_1.fit(X_train, y_train)"
   ]
  },
  {
   "cell_type": "code",
   "execution_count": 165,
   "metadata": {},
   "outputs": [
    {
     "data": {
      "text/plain": [
       "{'amount_tsh': 0.032905944408245506,\n",
       " 'gps_height': 0.1353143322651592,\n",
       " 'population': 0.07617994016352958,\n",
       " 'x0_-': 2.6336927467057707e-05,\n",
       " 'x0_0': 0.000669414506110351,\n",
       " 'x0_A.D.B': 1.9853646489510733e-05,\n",
       " 'x0_AAR': 5.884276058767201e-05,\n",
       " 'x0_ABASIA': 5.858694909257755e-05,\n",
       " 'x0_AC': 6.080771767623446e-06,\n",
       " 'x0_ACORD': 3.549096069505635e-06,\n",
       " 'x0_ACRA': 0.00026799861949311087,\n",
       " 'x0_ACTIVE TANK CO': 1.1103852339831232e-05,\n",
       " 'x0_ACTIVE TANK CO LTD': 9.188660354994377e-07,\n",
       " 'x0_AD': 6.080260679040344e-05,\n",
       " 'x0_ADAP': 4.6840308009888095e-05,\n",
       " 'x0_ADB': 8.025866004852998e-05,\n",
       " 'x0_ADP': 6.813452648107803e-05,\n",
       " 'x0_ADP Busangi': 5.4967491233538456e-05,\n",
       " 'x0_ADRA': 0.00017202548835857357,\n",
       " 'x0_ADRA /Government': 6.636118339383401e-06,\n",
       " 'x0_ADRA/Government': 9.189433094890811e-06,\n",
       " 'x0_AF': 8.079185457732775e-05,\n",
       " 'x0_AFRICA': 7.765555947396762e-06,\n",
       " 'x0_AFRICA MUSLIM': 3.2594068399739066e-06,\n",
       " 'x0_AFRICAN DEVELOPMENT FOUNDATION': 1.3793399215034553e-05,\n",
       " 'x0_AFRICAN REFLECTIONS FOUNDATION': 1.0356157691885996e-05,\n",
       " 'x0_AI': 6.691477152198896e-05,\n",
       " 'x0_AIC': 3.535309599331301e-05,\n",
       " 'x0_AICT': 0.00020453823111116396,\n",
       " 'x0_AIMGOLD': 2.0175169167399336e-05,\n",
       " 'x0_AIXOS': 1.2499246480460216e-06,\n",
       " 'x0_ALIA': 1.8038461236438093e-07,\n",
       " 'x0_ALLYS': 3.648482415901076e-06,\n",
       " 'x0_AMP Contract': 4.287088950361914e-05,\n",
       " 'x0_AMP Contracts': 5.98097565779112e-05,\n",
       " 'x0_AMP contractor': 4.5218166165339903e-05,\n",
       " 'x0_AMREF': 0.0005590414800416781,\n",
       " 'x0_ANGLI': 1.7274137032567637e-05,\n",
       " 'x0_ANGLIKANA CHURCH': 9.734025685724601e-06,\n",
       " 'x0_ANGRIKANA': 3.638029843794539e-05,\n",
       " 'x0_ANSWAR': 1.8958825332048723e-06,\n",
       " 'x0_APM': 8.488576864682864e-06,\n",
       " 'x0_AQAL': 1.5706347292529175e-05,\n",
       " 'x0_AQUA BLUES ANGELS': 1.9837723470033828e-06,\n",
       " 'x0_AQUA Wat': 2.755216794811212e-06,\n",
       " 'x0_ASDP': 2.193016389907273e-05,\n",
       " 'x0_ATIGH BUILDINGS': 0.0002245249764834275,\n",
       " 'x0_AUSTRALIA': 2.2771628779658863e-05,\n",
       " 'x0_AUWASA': 3.406847833568301e-05,\n",
       " 'x0_Aartisa': 5.9515062257580176e-05,\n",
       " 'x0_Abdallah Ally Wazir': 2.2118638800746655e-08,\n",
       " 'x0_Accra': 7.748393346120425e-06,\n",
       " 'x0_Action Aid': 7.213198349930634e-06,\n",
       " 'x0_Action Contre La Faim': 2.970040402608056e-05,\n",
       " 'x0_Action Contre la Faim': 6.551081771997238e-07,\n",
       " 'x0_Active MKM': 4.684101166623312e-05,\n",
       " 'x0_Adam': 1.0304837012144775e-05,\n",
       " 'x0_Adam Kea': 6.949323085859663e-06,\n",
       " 'x0_Adam mualuaka': 1.8828488213934984e-06,\n",
       " 'x0_Adra': 0.00019469594297980656,\n",
       " 'x0_Adra /Community': 0.00023409236620359282,\n",
       " 'x0_Adra/ Community': 0.00015593857217372688,\n",
       " 'x0_Adra/Community': 0.0006441015254694616,\n",
       " 'x0_Af': 6.464831449528602e-05,\n",
       " 'x0_Africa': 7.3506467662173775e-06,\n",
       " 'x0_Africa Islamic Agency Tanzania': 5.238830209379466e-06,\n",
       " 'x0_Africa M': 2.331171244073817e-05,\n",
       " 'x0_Africa Muslim Agenc': 8.672896747673564e-06,\n",
       " 'x0_African Muslims Age': 1.1974834876281788e-05,\n",
       " 'x0_African Realief Committe of Ku': 2.101025816491613e-05,\n",
       " 'x0_Africaone': 4.284452530042948e-06,\n",
       " 'x0_Africaone Ltd': 4.047445380652627e-06,\n",
       " 'x0_Africare': 7.116180780542471e-06,\n",
       " 'x0_Afroz Ismail': 2.8866107172316316e-06,\n",
       " 'x0_Ahmad': 1.4117159191044265e-05,\n",
       " 'x0_Al Ha': 4.230825895972101e-06,\n",
       " 'x0_Altai Co. ltd': 3.45322209607232e-05,\n",
       " 'x0_Amari': 6.566655170905725e-06,\n",
       " 'x0_Amboni Plantation': 6.718289272258444e-06,\n",
       " 'x0_Amboni plantation': 4.694799161323743e-06,\n",
       " 'x0_Ambrose': 4.051725708689057e-06,\n",
       " 'x0_Amec': 3.1807612514689406e-06,\n",
       " 'x0_American': 3.2044232588181416e-06,\n",
       " 'x0_Amref': 0.0003792295724547122,\n",
       " 'x0_Angli': 8.666054519371103e-05,\n",
       " 'x0_Anglican': 4.109749694185749e-06,\n",
       " 'x0_Anglican Church': 2.0640419936088344e-06,\n",
       " 'x0_Anglican Uganda': 4.598688166794826e-06,\n",
       " 'x0_Anglican church': 1.1927466253522222e-05,\n",
       " 'x0_Anglikan': 4.1940904921652694e-07,\n",
       " 'x0_Anglikana': 1.2130986826974674e-06,\n",
       " 'x0_Angrikana': 5.149155839767901e-07,\n",
       " 'x0_Aqual': 1.2388635936541647e-06,\n",
       " 'x0_Ar': 9.235876525546226e-06,\n",
       " 'x0_Arab community': 2.2614857551509785e-06,\n",
       " 'x0_Arabs Community': 2.668438464834622e-06,\n",
       " 'x0_Ardhi Instute': 3.636829516465906e-06,\n",
       " 'x0_Ardhi Water Wells': 1.5316375183528058e-06,\n",
       " 'x0_Ardhi Water well': 1.7613785546318426e-06,\n",
       " 'x0_Ardhi and PET Companies': 7.816069558271067e-06,\n",
       " 'x0_Ardhi water well': 1.0158394901106007e-05,\n",
       " 'x0_Arisan': 2.1418816104739757e-06,\n",
       " 'x0_Arrian': 2.1323482669088154e-06,\n",
       " 'x0_Artisan': 0.0002599013671572741,\n",
       " 'x0_Athumani  Janguo': 4.622679249452953e-06,\n",
       " 'x0_Athumani Issa': 1.644136701746358e-07,\n",
       " 'x0_Atisan': 1.8891053283690485e-05,\n",
       " 'x0_Atlas': 3.1336424916412656e-05,\n",
       " 'x0_Atlas Company': 2.1609183120368898e-05,\n",
       " 'x0_B.A.P': 2.4853944329853285e-06,\n",
       " 'x0_BABTEST': 1.430028734008216e-05,\n",
       " 'x0_BALYEH': 1.4456139172109008e-06,\n",
       " 'x0_BAPTIST CHURCH OF TANZANIA': 2.0247881671841204e-06,\n",
       " 'x0_BATIST CHURCH': 5.4007835129787215e-06,\n",
       " 'x0_BEMANDA': 2.715986932289317e-06,\n",
       " 'x0_BENGUKA': 2.5899321528442746e-05,\n",
       " 'x0_BESADA': 0.0001788977642419229,\n",
       " 'x0_BESADO': 2.5656287738022414e-05,\n",
       " 'x0_BFFS': 1.8313952195761935e-05,\n",
       " 'x0_BGM': 0.00016030495591338678,\n",
       " 'x0_BILILA': 1.5469058177427482e-05,\n",
       " 'x0_BOAZI': 2.64102431146412e-07,\n",
       " 'x0_BR': 2.1139421974314237e-05,\n",
       " 'x0_BRA': 6.236846305087789e-06,\n",
       " 'x0_BRUDER': 1.0136631033037124e-05,\n",
       " 'x0_BSF': 2.7256309574338096e-05,\n",
       " 'x0_BUKUMB': 2.583285767868923e-05,\n",
       " 'x0_Baadela': 2.189414185693829e-06,\n",
       " 'x0_Babu Sajin': 4.076139576067671e-06,\n",
       " 'x0_Babu Sajini': 2.4221806767192085e-06,\n",
       " 'x0_Baric': 2.701218767529999e-05,\n",
       " 'x0_Barry A. Murphy': 2.2235924803511883e-06,\n",
       " 'x0_Belgiam Government': 5.7024614517912984e-05,\n",
       " 'x0_Belgij': 7.252398109410134e-07,\n",
       " 'x0_Benjamin': 2.2955643924118584e-06,\n",
       " 'x0_Bhoke Mwita': 1.1411386501639148e-06,\n",
       " 'x0_Billy Phillips': 6.862256083828395e-06,\n",
       " 'x0_Bingo foundation': 2.5352984553996663e-05,\n",
       " 'x0_Bingo foundation Germany': 9.910272260465197e-06,\n",
       " 'x0_BioRe': 1.104222494310646e-05,\n",
       " 'x0_Birage': 8.688387016630373e-07,\n",
       " 'x0_Bobby': 2.607270864622922e-06,\n",
       " 'x0_Bokera W': 1.011248142972239e-05,\n",
       " 'x0_Boni': 4.6534112120347375e-06,\n",
       " 'x0_Bonite Bottles Ltd': 4.156427763013912e-06,\n",
       " 'x0_Brad': 1.7621374676753983e-06,\n",
       " 'x0_Bridge north': 5.7619685673716e-06,\n",
       " 'x0_Britain': 1.6993077125703778e-06,\n",
       " 'x0_British': 1.5670277149294469e-06,\n",
       " 'x0_British colonial government': 2.0442344167756945e-05,\n",
       " 'x0_British government': 1.067629540000087e-05,\n",
       " 'x0_Buguba': 3.0829548304956504e-05,\n",
       " 'x0_Building works Company Ltd': 4.913916402853385e-06,\n",
       " 'x0_Building works engineering Ltd': 1.3309297276731688e-06,\n",
       " 'x0_Bulyahunlu Gold Mine': 6.183769799180243e-05,\n",
       " 'x0_Busoga trust': 1.3228014739815498e-05,\n",
       " 'x0_CALTAZ KAHAMA': 3.5512393205831075e-06,\n",
       " 'x0_CAP': 4.212930409530055e-07,\n",
       " 'x0_CARE': 2.193302106637122e-05,\n",
       " 'x0_CARE/CIPRO': 1.949887045113884e-06,\n",
       " 'x0_CARITAS': 1.3331259937375687e-05,\n",
       " 'x0_CARTAS': 0.00013522098650594897,\n",
       " 'x0_CARTAS Tanzania': 7.174696035329729e-05,\n",
       " 'x0_CBHCC': 6.250188023344455e-05,\n",
       " 'x0_CCEC': 6.284199633805945e-05,\n",
       " 'x0_CCP': 8.79652633784819e-06,\n",
       " 'x0_CCPK': 1.651922771880688e-05,\n",
       " 'x0_CCPS': 1.2759613452448342e-06,\n",
       " 'x0_CCT': 5.063663003043659e-05,\n",
       " 'x0_CDTF': 7.715658175044508e-05,\n",
       " 'x0_CEFA': 8.381087603593405e-05,\n",
       " 'x0_CEFA/rc church': 1.602774018020381e-07,\n",
       " 'x0_CENTRAL GOVERNMENT': 0.00012604691770387632,\n",
       " 'x0_CES': 0.00048273611565237287,\n",
       " 'x0_CF Builders': 3.3977028471678882e-06,\n",
       " 'x0_CG': 8.104949625413645e-05,\n",
       " 'x0_CG/RC': 1.9590553973658806e-07,\n",
       " 'x0_CGI': 1.1827381793852139e-06,\n",
       " 'x0_CH': 1.5582801178390453e-05,\n",
       " 'x0_CHANDE CO': 7.460496788741361e-06,\n",
       " 'x0_CHANI': 3.426167053697988e-05,\n",
       " 'x0_CHELA': 1.1609087710298546e-05,\n",
       " 'x0_CHENI': 5.38973992047392e-06,\n",
       " 'x0_CHINA': 3.7125670982910644e-06,\n",
       " 'x0_CHINA Co.': 2.3867069574825886e-06,\n",
       " 'x0_CHINA HENAN CONSTUCTION': 2.1310959794287564e-06,\n",
       " 'x0_CHINA HENAN CONTRACTOR': 3.9029921662902744e-05,\n",
       " 'x0_CHONJA CHARLES': 4.903036010378785e-06,\n",
       " 'x0_CHRISTAN OUTRICH': 3.144776460628559e-05,\n",
       " 'x0_CHRISTIAN OUTRICH': 1.4088713388908133e-06,\n",
       " 'x0_CHURC': 1.8759252370775578e-06,\n",
       " 'x0_CIP': 1.0237516264202507e-05,\n",
       " 'x0_CIPRO': 4.997967666261491e-06,\n",
       " 'x0_CIPRO/CARE': 2.1986884430941464e-05,\n",
       " 'x0_CIPRO/CARE/TCRS': 2.540473177807876e-05,\n",
       " 'x0_CIPRO/Government': 3.887648402333286e-05,\n",
       " 'x0_CITIZEN ENGINE': 4.943481179373859e-05,\n",
       " 'x0_CJEJ0': 6.446233983403771e-06,\n",
       " 'x0_CJEJOW': 8.083203932601697e-06,\n",
       " 'x0_CJEJOW CONSTRUCTION': 6.394754167272945e-05,\n",
       " 'x0_CMSR': 4.823034011822549e-05,\n",
       " 'x0_COBASHEC': 3.648868620046933e-05,\n",
       " 'x0_COCANE': 6.927985263178612e-05,\n",
       " 'x0_COEK': 2.5736937239163056e-06,\n",
       " 'x0_COEW': 1.718171784015239e-06,\n",
       " 'x0_COMMU': 1.5184830549834646e-05,\n",
       " 'x0_COMMUNITY': 2.8513948180862374e-05,\n",
       " 'x0_COMMUNITY BANK': 3.64969263456169e-06,\n",
       " 'x0_CONCERN': 0.0002238117104161082,\n",
       " 'x0_CONS': 4.6667448289243636e-05,\n",
       " 'x0_COSMOS ENG LTD': 0.00011486049293200443,\n",
       " 'x0_COUN': 4.7878825481521955e-05,\n",
       " 'x0_COW': 2.099119640240095e-06,\n",
       " 'x0_COWI': 2.9734723223919227e-06,\n",
       " 'x0_COYI': 2.429467634182134e-07,\n",
       " 'x0_CPRO': 3.154274341282171e-05,\n",
       " 'x0_CRISTAN OUTRICH': 4.916497698032405e-06,\n",
       " 'x0_CRS': 1.6070327444006648e-06,\n",
       " 'x0_CSPD': 2.6114742182215216e-05,\n",
       " 'x0_Caltas': 7.2303289125116484e-06,\n",
       " 'x0_Caltus': 1.3548527276265598e-05,\n",
       " 'x0_Calvary connection': 1.0355351239316655e-05,\n",
       " 'x0_Camartec': 5.5575635382965665e-05,\n",
       " 'x0_Canada na Tanzania': 4.9587738623031354e-05,\n",
       " 'x0_Canop': 0.00011713095645460689,\n",
       " 'x0_Care international': 0.00011715331155348781,\n",
       " 'x0_Carmatech': 5.2047098135406885e-06,\n",
       " 'x0_Cast': 9.853233224290502e-06,\n",
       " 'x0_Cathoric': 1.5495842278865996e-06,\n",
       " 'x0_Ce': 0.00017374450124975688,\n",
       " 'x0_Cebtral Government': 2.1292364564394623e-06,\n",
       " 'x0_Cefa': 8.9548769386031e-06,\n",
       " 'x0_Cental Government': 4.672081044449634e-06,\n",
       " 'x0_Centr': 0.0013008871667458135,\n",
       " 'x0_Centra Government': 1.85583878797477e-06,\n",
       " 'x0_Central Government': 0.0009551301664272223,\n",
       " 'x0_Central basin': 4.5193137326073866e-07,\n",
       " 'x0_Central government': 0.0021279389428165386,\n",
       " 'x0_Central govt': 0.0007685158454980311,\n",
       " 'x0_Cetral government /RC': 1.2802562467931387e-06,\n",
       " 'x0_Ch': 6.174988408997309e-05,\n",
       " 'x0_Chacha': 1.6820542823438328e-06,\n",
       " 'x0_Chacha Issame': 4.987267410590837e-07,\n",
       " 'x0_Chama cha Ushirika': 1.8151125015366348e-05,\n",
       " 'x0_Chamavita': 7.668257799588508e-05,\n",
       " 'x0_Charlotte Well': 2.623432356118634e-06,\n",
       " 'x0_Chiko': 1.0280581128302958e-05,\n",
       " 'x0_China': 7.829046947954575e-06,\n",
       " 'x0_Christina Magoge': 2.2246772097366157e-06,\n",
       " 'x0_Christopher': 1.2161546309048491e-05,\n",
       " 'x0_Chuo': 6.513007564278535e-08,\n",
       " 'x0_Chur': 2.2338687852260307e-05,\n",
       " 'x0_Church': 3.292567417843812e-05,\n",
       " 'x0_Church Of Disciples': 5.235010026108174e-06,\n",
       " 'x0_Clause workers': 2.0878722988613485e-05,\n",
       " 'x0_Claver': 1.8435324313379187e-06,\n",
       " 'x0_Co': 8.989473455834578e-05,\n",
       " 'x0_College': 4.650069164611109e-06,\n",
       " 'x0_Colonial Government': 6.577686042523548e-06,\n",
       " 'x0_Colonial government': 1.4488104840409948e-06,\n",
       " 'x0_Commu': 0.0011864825648926823,\n",
       " 'x0_Communit': 0.00022911377550037808,\n",
       " 'x0_Community': 0.0009176965459460547,\n",
       " 'x0_Compa': 1.3604003043276713e-05,\n",
       " 'x0_Comunity': 1.3118303009310612e-07,\n",
       " 'x0_Conce': 5.717870363181284e-05,\n",
       " 'x0_Concen': 2.23124571786094e-05,\n",
       " 'x0_Concern': 4.356616839614558e-05,\n",
       " 'x0_Concern /government': 4.5390042634016825e-06,\n",
       " 'x0_Concern/Government': 5.066452545362305e-06,\n",
       " 'x0_Cons': 6.140863246599698e-05,\n",
       " 'x0_Consultant': 0.00017063909948514117,\n",
       " 'x0_Consultant Engineer': 0.00032019767337024366,\n",
       " 'x0_Consultant and DWE': 2.8967322055704142e-05,\n",
       " 'x0_Consulting Engineer': 0.0002910751049039306,\n",
       " 'x0_Consulting engineer': 6.616224932993255e-05,\n",
       " 'x0_Consuting Engineer': 0.00011792837241083794,\n",
       " 'x0_Conta': 2.1618745955773553e-06,\n",
       " 'x0_Contr': 2.1423076364468603e-05,\n",
       " 'x0_Cosmo': 2.5329778033374436e-05,\n",
       " 'x0_Cosmos Engineering': 5.247902222288889e-05,\n",
       " 'x0_Counc': 8.285397211717298e-06,\n",
       " 'x0_Council': 6.963293602894828e-05,\n",
       " 'x0_Cultus': 2.8877614514275045e-06,\n",
       " 'x0_D': 0.00011037794650877335,\n",
       " 'x0_D$L': 4.484299063321102e-06,\n",
       " 'x0_DA': 0.000780804935285832,\n",
       " 'x0_DADIS': 2.6448774043861984e-06,\n",
       " 'x0_DADP': 1.3228408132245428e-05,\n",
       " 'x0_DADS': 7.902781480028322e-05,\n",
       " 'x0_DADS/Village community': 1.116481973519657e-07,\n",
       " 'x0_DADS/village Community': 8.436454229553084e-08,\n",
       " 'x0_DADS/village community': 4.888394570851745e-07,\n",
       " 'x0_DAK': 3.417362951477454e-05,\n",
       " 'x0_DALDO': 4.5434359943616e-05,\n",
       " 'x0_DANIAD': 2.5600998762480958e-06,\n",
       " 'x0_DANID': 0.00036657194492417845,\n",
       " 'x0_DANIDA': 0.0012725141751869524,\n",
       " 'x0_DANIDA CO': 1.7110831867628073e-05,\n",
       " 'x0_DANIDS': 3.614812563261885e-06,\n",
       " 'x0_DANNY': 1.9255491694299443e-05,\n",
       " 'x0_DAR ES SALAAM ROUND TABLE': 3.60907953259175e-05,\n",
       " 'x0_DARDO': 1.665175434752458e-06,\n",
       " 'x0_DASIP': 1.1424116069483283e-05,\n",
       " 'x0_DASP': 1.573829982428256e-05,\n",
       " 'x0_DASSIP': 8.099137384617696e-06,\n",
       " 'x0_DAWASA': 3.4907590881025748e-06,\n",
       " 'x0_DAWASCO': 0.00011109028605878028,\n",
       " 'x0_DAWE': 1.6399541393767846e-06,\n",
       " 'x0_DBFPE': 9.990504616252598e-06,\n",
       " 'x0_DBSPE': 2.047910100610203e-05,\n",
       " 'x0_DCCA': 3.809135856529669e-06,\n",
       " 'x0_DCT': 2.1421335209611246e-05,\n",
       " 'x0_DDCA': 0.0005554500442330349,\n",
       " 'x0_DDCA CO': 1.4012062336042318e-05,\n",
       " 'x0_DDP': 1.1418575488121121e-05,\n",
       " 'x0_DDSA': 5.312312244574701e-07,\n",
       " 'x0_DE': 1.2721345647475584e-05,\n",
       " 'x0_DED': 0.00030276338833905314,\n",
       " 'x0_DEE': 3.292216286960833e-05,\n",
       " 'x0_DENISH': 1.607660512272354e-05,\n",
       " 'x0_DESK A': 1.4544064711128234e-06,\n",
       " 'x0_DESK C': 3.061348800517845e-05,\n",
       " 'x0_DESK a': 1.0617434098185837e-05,\n",
       " 'x0_DFID': 5.318326743766908e-07,\n",
       " 'x0_DH': 0.00039859437499068873,\n",
       " 'x0_DHV': 0.0005219865081358982,\n",
       " 'x0_DHV Moro': 1.822467957295517e-05,\n",
       " 'x0_DISTRICT COUNCIL': 4.0993560925402195e-05,\n",
       " 'x0_DIWANI': 1.4760854736917833e-05,\n",
       " 'x0_DMDD': 0.00019122351513920253,\n",
       " 'x0_DMDD/SOLIDER': 3.373923884184963e-06,\n",
       " 'x0_DMMD': 2.835182348174297e-07,\n",
       " 'x0_DO': 7.232378296217974e-05,\n",
       " 'x0_DODDEA': 1.8087151939452683e-06,\n",
       " 'x0_DSP': 1.6032288822737497e-05,\n",
       " 'x0_DSPU': 3.992445281955704e-05,\n",
       " 'x0_DSV': 5.722863081995444e-05,\n",
       " 'x0_DUWAS': 2.5491768109679523e-05,\n",
       " 'x0_DW': 0.0006249306395925304,\n",
       " 'x0_DW E': 2.8926875544985387e-05,\n",
       " 'x0_DW#': 1.0147475089952213e-05,\n",
       " 'x0_DW$': 4.166842255783359e-06,\n",
       " 'x0_DWE': 0.010515349950488306,\n",
       " 'x0_DWE & LWI': 1.0538096283781631e-06,\n",
       " 'x0_DWE /TASSAF': 4.2630438134297e-06,\n",
       " 'x0_DWE/': 1.9114161574143432e-05,\n",
       " 'x0_DWE/TASSAF': 4.117265023990446e-06,\n",
       " 'x0_DWE/Ubalozi wa Marekani': 2.558017278848881e-05,\n",
       " 'x0_DWE}': 2.6379012619196286e-05,\n",
       " 'x0_DWR': 3.283953136371717e-05,\n",
       " 'x0_DWSP': 0.00045867846769832475,\n",
       " 'x0_Da': 0.00028640814750319514,\n",
       " 'x0_Danda': 2.873155292821267e-07,\n",
       " 'x0_Danid': 5.685474841970072e-05,\n",
       " 'x0_Daniel': 3.256468073163293e-07,\n",
       " 'x0_Dar es salaam Technician': 8.140705230811523e-07,\n",
       " 'x0_Deogra': 4.0869273320402945e-06,\n",
       " 'x0_Desk and chair foundation': 4.2021925357010835e-05,\n",
       " 'x0_Deus Ndege': 1.6913877247365252e-06,\n",
       " 'x0_Dhinu': 1.2238964520219976e-05,\n",
       " 'x0_Di': 1.3928633123701984e-06,\n",
       " 'x0_Diocese of Geita': 3.581016482046776e-05,\n",
       " 'x0_Distri': 0.00029628024634922564,\n",
       " 'x0_Distric Water Department': 1.4814473107367257e-05,\n",
       " 'x0_District  Council': 2.1807150689525995e-05,\n",
       " 'x0_District COUNCIL': 1.5848127310392556e-05,\n",
       " 'x0_District Community j': 5.017171238499812e-06,\n",
       " 'x0_District Counci': 3.306942725056853e-05,\n",
       " 'x0_District Council': 0.0012605155337762324,\n",
       " 'x0_District Water Department': 0.00019069815428528078,\n",
       " 'x0_District council': 0.0022184488436961165,\n",
       " 'x0_District water depar': 0.000130887410315123,\n",
       " 'x0_District water department': 0.00032230706356633934,\n",
       " 'x0_Diwani': 1.2059092212658549e-05,\n",
       " 'x0_Dmdd': 0.00036810418920239714,\n",
       " 'x0_Do': 0.0001239600998820283,\n",
       " 'x0_Dokta Mwandulami': 2.5820170942967634e-07,\n",
       " 'x0_Domnik': 1.4833530406759765e-06,\n",
       " 'x0_Dr. Matobola': 4.084151089193151e-06,\n",
       " 'x0_Dr. Matomola': 4.980291464860986e-05,\n",
       " 'x0_Dr.Matobola': 3.608839028203871e-06,\n",
       " 'x0_Dr.Matomola': 1.4903242619271646e-05,\n",
       " 'x0_Dwe': 6.132281859300957e-07,\n",
       " 'x0_Dydrotec': 6.023967902079607e-07,\n",
       " 'x0_EA': 4.270757127294313e-05,\n",
       " 'x0_ECO LODGE': 4.0995307408562305e-06,\n",
       " 'x0_EF': 2.5299162503166213e-05,\n",
       " 'x0_EFAM': 7.97141211220031e-06,\n",
       " 'x0_EFG': 8.743751219378476e-05,\n",
       " 'x0_EGYPT': 8.833729987504972e-06,\n",
       " 'x0_EL': 6.665671006947373e-05,\n",
       " 'x0_ELCA': 4.476968297972508e-06,\n",
       " 'x0_ELCT': 3.3520324040806867e-05,\n",
       " 'x0_EMANDA BUILDERS': 2.802304518164265e-06,\n",
       " 'x0_ERETO': 6.795274388439733e-05,\n",
       " 'x0_ESAWA': 3.4974609610825558e-06,\n",
       " 'x0_EWE': 1.4391394258440045e-06,\n",
       " 'x0_Eastmeru medium School': 2.5340146377632223e-06,\n",
       " 'x0_Edward': 2.0587675807089566e-06,\n",
       " 'x0_Efarm': 1.1053432713218005e-05,\n",
       " 'x0_Egypt Government': 2.5612735558389905e-05,\n",
       " 'x0_Egypt Technical Co Operation': 8.184908343804148e-06,\n",
       " 'x0_Elias Mahemba': 3.2013144123857006e-06,\n",
       " 'x0_Elina': 1.6990321747746787e-06,\n",
       " 'x0_Eliza': 2.582666867393457e-05,\n",
       " 'x0_Embasy of Japan in Tanzania': 6.95653471512852e-06,\n",
       " 'x0_Emmanuel Kiswagala': 2.478498526079161e-05,\n",
       " 'x0_Engin': 1.1148229216022423e-05,\n",
       " 'x0_Enyuati': 1.672799491933832e-05,\n",
       " 'x0_Enyueti': 4.311602809843851e-06,\n",
       " 'x0_Ester Ndege': 1.451652634886043e-06,\n",
       " 'x0_European Union': 6.540663742659754e-05,\n",
       " 'x0_Exaud Msambwa': 1.952068578560468e-05,\n",
       " 'x0_F': 1.2168367887203844e-05,\n",
       " 'x0_FAO': 1.6151985332701377e-06,\n",
       " 'x0_FAUSTINE': 1.6041345148114853e-05,\n",
       " 'x0_FIDA': 4.572697970577489e-06,\n",
       " 'x0_FILEX MUGANGA': 2.5789074299108117e-06,\n",
       " 'x0_FIN WATER': 0.00013171732627709028,\n",
       " 'x0_FINI WATER': 0.0002167190365661275,\n",
       " 'x0_FINI Water': 1.0442343499244978e-06,\n",
       " 'x0_FINLAND': 1.1111440309098371e-06,\n",
       " 'x0_FINN WATER': 3.0277753985281126e-05,\n",
       " 'x0_FLORESTA': 1.0509986894330304e-05,\n",
       " 'x0_FOLAC': 2.0934634484586903e-06,\n",
       " 'x0_FPCT': 5.1314605315730235e-05,\n",
       " 'x0_FPCT Church': 5.18094092896896e-07,\n",
       " 'x0_FPTC': 3.333071318904863e-05,\n",
       " 'x0_FRANKFURT': 7.3671700222712516e-06,\n",
       " 'x0_FURAHIA TRADING': 1.4902741337040213e-05,\n",
       " 'x0_FW': 0.0002921153464070818,\n",
       " 'x0_Fabia': 2.254020002270859e-06,\n",
       " 'x0_Fathe': 6.118174639026292e-05,\n",
       " 'x0_Faudh Tamimu': 1.1202240708153334e-05,\n",
       " 'x0_FiNI WATER': 5.0132261943159844e-06,\n",
       " 'x0_Filber': 5.764054411097756e-06,\n",
       " 'x0_Fin water': 1.971651133282724e-06,\n",
       " 'x0_FinW': 0.00045687556787597046,\n",
       " 'x0_FinWate': 1.1116171991638217e-05,\n",
       " 'x0_FinWater': 0.00012715738139085507,\n",
       " 'x0_Fini Water': 0.00024230084381123964,\n",
       " 'x0_Fini water': 0.0004326428751900275,\n",
       " 'x0_Finland Government': 0.00011462944545496114,\n",
       " 'x0_Finwater': 0.0001952892376061181,\n",
       " 'x0_Foreigne': 9.25490623122799e-06,\n",
       " 'x0_Free Pentecoste Church of Tanz': 1.7696567040870264e-05,\n",
       " 'x0_Friedkin conservation fund': 1.9564646504487533e-05,\n",
       " 'x0_Friend from UN': 4.2573971790028995e-06,\n",
       " 'x0_G.D&I.D': 7.430199220703528e-06,\n",
       " 'x0_GACHUMA CONSTRUCTION': 1.852104700891012e-05,\n",
       " 'x0_GACHUMA GINERY': 2.0312708827390502e-05,\n",
       " 'x0_GAICA': 4.8284734198951575e-05,\n",
       " 'x0_GD&ID': 6.379927738016395e-06,\n",
       " 'x0_GEN': 8.121908432740748e-05,\n",
       " 'x0_GEOCHAINA': 1.5106763821867171e-05,\n",
       " 'x0_GEOTAN': 4.751851928302642e-05,\n",
       " 'x0_GERMAN': 8.641701476630222e-06,\n",
       " 'x0_GERMAN MISSIONSRY': 1.3007655905753008e-06,\n",
       " 'x0_GERMANY MISSIONARY': 8.960678663260784e-05,\n",
       " 'x0_GETDSC00': 7.347055865222345e-06,\n",
       " 'x0_GGM': 2.529708715539489e-06,\n",
       " 'x0_GIDA contractor': 1.643417514048191e-05,\n",
       " 'x0_GLOBAL RESOURCE CONSTRUCTION': 6.89513044240539e-06,\n",
       " 'x0_GOVER': 0.00017067682732561706,\n",
       " 'x0_GOVERM': 1.3525215891263713e-05,\n",
       " 'x0_GOVERN': 0.00011613726471726966,\n",
       " 'x0_GOVERNME': 1.1601588775560839e-05,\n",
       " 'x0_GOVERNMENT': 0.00023322134872166898,\n",
       " 'x0_GRA': 1.2665245542325264e-05,\n",
       " 'x0_GRA TZ MUSOMA': 1.0710256165637265e-05,\n",
       " 'x0_GREINAKER': 2.0482129839970906e-05,\n",
       " 'x0_GREINEKER': 2.917352356782162e-05,\n",
       " 'x0_GRUMENTI': 3.1303628468061846e-06,\n",
       " 'x0_GRUMET': 3.5897171356849885e-06,\n",
       " 'x0_GRUMETI': 0.00015928972095106194,\n",
       " 'x0_GRUMETI SINGITA': 2.277586260409792e-05,\n",
       " 'x0_GTZ': 0.0002180337323443929,\n",
       " 'x0_GURUMETI SAGITA': 1.203203387291403e-05,\n",
       " 'x0_GURUMETI SAGITA CO': 1.4160905120345527e-05,\n",
       " 'x0_Ga': 7.00738987640835e-05,\n",
       " 'x0_Gain': 5.244132815018442e-05,\n",
       " 'x0_Geita Goldmain': 1.0956273024748305e-05,\n",
       " 'x0_George': 5.503205484710897e-07,\n",
       " 'x0_George mtoto company': 9.7111905621069e-06,\n",
       " 'x0_Gerald': 1.1637568109384506e-05,\n",
       " 'x0_Gerald Mila': 2.65422686588511e-06,\n",
       " 'x0_Germany': 1.3583069641475196e-05,\n",
       " 'x0_Gesine': 6.941680184274479e-07,\n",
       " 'x0_Getekwe': 3.7789381214866997e-06,\n",
       " 'x0_Go': 0.0002687658061316662,\n",
       " 'x0_Gold star': 4.0904952144613296e-05,\n",
       " 'x0_Goldmain': 1.8693238283750622e-06,\n",
       " 'x0_Goldstar': 9.601696187127256e-05,\n",
       " 'x0_Got': 2.0346370783539327e-06,\n",
       " 'x0_Gove': 0.0002586635751886524,\n",
       " 'x0_Gover': 0.000955685747355516,\n",
       " 'x0_Governme': 2.9902195462225265e-05,\n",
       " 'x0_Governmen': 5.253697767541518e-06,\n",
       " 'x0_Government': 0.004016504613094073,\n",
       " 'x0_Government /Community': 1.4856671653109551e-06,\n",
       " 'x0_Government /SDA': 1.3181836629147642e-06,\n",
       " 'x0_Government /TCRS': 2.479255958315902e-06,\n",
       " 'x0_Government /World Vision': 3.0460668074410523e-05,\n",
       " 'x0_Government and Community': 1.9759618961555636e-06,\n",
       " 'x0_Government of Misri': 4.9184333747302935e-06,\n",
       " 'x0_Government/TCRS': 3.340170505340739e-06,\n",
       " 'x0_Greec': 3.183650893736719e-05,\n",
       " 'x0_Green': 3.6180551748553254e-05,\n",
       " 'x0_Grobal resource  alliance': 3.792872012913862e-06,\n",
       " 'x0_Grobal resource alliance': 4.1929602859339995e-05,\n",
       " 'x0_Grumeti fund': 2.0775154692911838e-05,\n",
       " 'x0_Gtz': 3.55602583491417e-05,\n",
       " 'x0_Gwasco': 9.077514287198914e-06,\n",
       " 'x0_Gwasco L': 3.233683327213488e-05,\n",
       " 'x0_Gwaseco': 6.906650576013648e-05,\n",
       " 'x0_H': 0.00017732342469800377,\n",
       " 'x0_H4CCP': 3.295536418566478e-05,\n",
       " 'x0_HAAM': 3.660108936435897e-06,\n",
       " 'x0_HAM': 6.826890117692734e-05,\n",
       " 'x0_HAPA': 2.646656127952502e-05,\n",
       " 'x0_HAPA SINGIDA': 8.234635476858891e-05,\n",
       " 'x0_HAYDOM LUTHERAN HOSPITAL': 5.572775146152109e-07,\n",
       " 'x0_HDV': 4.160837783658331e-05,\n",
       " 'x0_HE': 0.000315853621269285,\n",
       " 'x0_HESAWA': 0.0011942961222825101,\n",
       " 'x0_HESAWQ': 1.4157583822390685e-05,\n",
       " 'x0_HESAWS': 9.08030710399463e-06,\n",
       " 'x0_HESAWZ': 1.9967414485071443e-06,\n",
       " 'x0_HIAP': 5.572652358080585e-06,\n",
       " 'x0_HOLAND': 1.5354856422452573e-06,\n",
       " 'x0_HOLLAND': 0.0001757581556212496,\n",
       " 'x0_HOTEL AND LODGE TANZANIA': 4.372324164240584e-06,\n",
       " 'x0_HPA': 5.35163258775091e-06,\n",
       " 'x0_HSW': 0.0003730799413558005,\n",
       " 'x0_HW/RC': 4.595027595080145e-05,\n",
       " 'x0_Ha': 1.2986887306089781e-05,\n",
       " 'x0_Halimashauli': 1.326607599405799e-06,\n",
       " 'x0_Halmashauli': 1.987239785017826e-06,\n",
       " 'x0_Halmashauri': 8.548889678161913e-05,\n",
       " 'x0_Halmashauri wilaya': 6.685865968802097e-07,\n",
       " 'x0_Halmashauri ya manispa tabora': 3.483184243429325e-05,\n",
       " 'x0_Halmashauri ya mburu': 6.090999067204214e-06,\n",
       " 'x0_Halmashauri ya wilaya': 1.6557800842580785e-05,\n",
       " 'x0_Halmashauri ya wilaya sikonge': 0.00020931496837305573,\n",
       " 'x0_Halmashauri/Quick win project': 2.2184246892455092e-05,\n",
       " 'x0_Hamis Makombo': 2.6498003362662775e-06,\n",
       " 'x0_Handeni Trunk Main': 3.1412334515308957e-06,\n",
       " 'x0_Handeni Trunk Main(': 0.00015542204457422452,\n",
       " 'x0_Hanja': 1.2103518655313207e-05,\n",
       " 'x0_Hanja Lt': 5.9770746988418926e-06,\n",
       " 'x0_Hans': 1.7864576397382982e-05,\n",
       " 'x0_Happy watoto foundation': 7.79252224531195e-05,\n",
       " 'x0_Hasawa': 6.489565849618845e-07,\n",
       " 'x0_Healt': 2.9070270934916654e-05,\n",
       " 'x0_Hearts helping hands.Inc.': 9.22896404274854e-07,\n",
       " 'x0_Hemed Abdalkah': 6.468502917313981e-07,\n",
       " 'x0_Hemed Abdallah': 2.1700631663848344e-06,\n",
       " 'x0_Henure Dema': 2.7398177388637227e-06,\n",
       " 'x0_Heri mission': 3.9225116917427576e-06,\n",
       " 'x0_HesaWa': 1.134689057289433e-06,\n",
       " 'x0_Hesawa': 0.001182994674760032,\n",
       " 'x0_Hesewa': 2.1157549068245847e-06,\n",
       " 'x0_Hindu': 6.200252547307012e-07,\n",
       " 'x0_Holili water supply': 1.6755484524745427e-05,\n",
       " 'x0_Hospi': 2.1415085554842352e-05,\n",
       " 'x0_Hospital': 1.4981558823561928e-05,\n",
       " 'x0_Howard and Humfrey Consultants': 3.038441838099122e-06,\n",
       " 'x0_Howard and humfrey consultant': 1.985890709788984e-05,\n",
       " 'x0_Huches': 4.169381221151979e-06,\n",
       " 'x0_Humfreys Co': 2.7415892224771623e-06,\n",
       " 'x0_Hussein Ayubu': 1.5592155886002442e-06,\n",
       " 'x0_Hydom Luthelani': 5.565807392287351e-06,\n",
       " 'x0_Hydrotec': 7.250194504602661e-05,\n",
       " 'x0_I.E.C': 1.7708710337726926e-05,\n",
       " 'x0_IADO': 1.3889471803485627e-05,\n",
       " 'x0_ICAP': 3.0864329852183675e-06,\n",
       " 'x0_ICS': 3.7911017572834826e-05,\n",
       " 'x0_IDARA': 2.4887899447837446e-05,\n",
       " 'x0_IDC': 4.155310698884501e-05,\n",
       " 'x0_IDEA': 4.249063539016126e-06,\n",
       " 'x0_IDYDC': 9.211577039034224e-05,\n",
       " 'x0_IFAD': 0.00017091718575218144,\n",
       " 'x0_ILCT': 8.836277895654295e-05,\n",
       " 'x0_INDIVIDUAL': 1.0762307432305671e-05,\n",
       " 'x0_INDIVIDUALS': 2.570650875016798e-07,\n",
       " 'x0_IRAN GOVERN': 1.4408394550766138e-05,\n",
       " 'x0_IRC': 3.3300142657789153e-06,\n",
       " 'x0_IREVEA SISTER': 8.351834360096035e-07,\n",
       " 'x0_IS': 7.218735382675944e-07,\n",
       " 'x0_ISF': 0.000463361967475854,\n",
       " 'x0_ISF and TACARE': 2.831651325819194e-06,\n",
       " 'x0_ISF/Government': 4.524276451218294e-05,\n",
       " 'x0_ISF/TACARE': 1.780793725326167e-05,\n",
       " 'x0_ISSAA KANYANGE': 8.881204580657923e-06,\n",
       " 'x0_ISSAC MOLLEL': 1.8901581923540129e-06,\n",
       " 'x0_ISSAC MOLLEl': 2.5253828329030197e-06,\n",
       " 'x0_ITALI': 4.086387906982055e-06,\n",
       " 'x0_IUCN': 4.8370655049696054e-06,\n",
       " 'x0_Icf': 7.855088931887146e-07,\n",
       " 'x0_Idara ya Maji': 2.800315173930385e-05,\n",
       " 'x0_Idara ya maji': 0.0005136366060909369,\n",
       " 'x0_Ifakara': 5.9890144970114774e-06,\n",
       " 'x0_Igolola community': 1.725329497947891e-05,\n",
       " 'x0_Ikela Wa': 1.6571223521887005e-05,\n",
       " 'x0_Ilaramataki': 4.155915277970624e-06,\n",
       " 'x0_Ilolangulu water supply': 1.5149252577130597e-05,\n",
       " 'x0_In': 2.763491761755859e-07,\n",
       " 'x0_Indi': 9.149528163497807e-06,\n",
       " 'x0_India': 3.873109689640824e-06,\n",
       " 'x0_Indiv': 3.0367022591561695e-06,\n",
       " 'x0_Individual': 6.590912471105099e-06,\n",
       " 'x0_Individuals': 4.774163345376853e-05,\n",
       " 'x0_Insititutiona': 3.0789569885849787e-06,\n",
       " 'x0_Institution': 3.172915563674431e-05,\n",
       " 'x0_Institutional': 4.30832719511266e-05,\n",
       " 'x0_Inter': 3.142041290269607e-05,\n",
       " 'x0_Internal Drainage Basin': 1.8159177184394826e-06,\n",
       " 'x0_International Aid Services': 1.1870797940450069e-06,\n",
       " 'x0_Inves': 2.4152871053675452e-05,\n",
       " 'x0_Ir': 0.00044068243073245493,\n",
       " 'x0_Is': 0.0003870834851455417,\n",
       " 'x0_Islam': 3.707641423617946e-05,\n",
       " 'x0_Islamic': 9.273635365111373e-05,\n",
       " 'x0_Islamic Agency Tanzania': 4.185790103648301e-05,\n",
       " 'x0_Islamic community': 2.073897326093277e-06,\n",
       " 'x0_Issa Mohamedi Tumwanga': 1.0357019023739096e-06,\n",
       " 'x0_Italy government': 4.700136163575301e-06,\n",
       " 'x0_J mal Abdallah': 6.153918093511916e-06,\n",
       " 'x0_J. Mc': 3.5845444926110506e-06,\n",
       " 'x0_JAICA': 0.00041263073326874546,\n",
       " 'x0_JAICA CO': 1.1880065919331266e-05,\n",
       " 'x0_JANDU': 1.0198844963399957e-06,\n",
       " 'x0_JANDU PLUMBER  CO': 9.229045398861451e-05,\n",
       " 'x0_JANDU PLUMBER CO': 0.00017587234356641315,\n",
       " 'x0_JAPAN': 3.6161353227673195e-06,\n",
       " 'x0_JAPAN EMBASSY': 1.449293760320427e-05,\n",
       " 'x0_JAWABU': 4.47560705561943e-06,\n",
       " 'x0_JBG': 0.00012334557217154326,\n",
       " 'x0_JI': 1.7253124029224882e-06,\n",
       " 'x0_JICA': 0.00035873268399387955,\n",
       " 'x0_JIKA': 5.299660154607253e-05,\n",
       " 'x0_JLH CO LTD': 8.81790747421029e-06,\n",
       " 'x0_JSICA': 8.18630159453312e-06,\n",
       " 'x0_JUIN': 3.1661122126899218e-06,\n",
       " 'x0_JUIN CO': 6.388875994173918e-05,\n",
       " 'x0_JUINE CO': 3.330802891553208e-05,\n",
       " 'x0_JWTZ': 3.462076809782249e-06,\n",
       " 'x0_Ja': 8.13594860378262e-05,\n",
       " 'x0_Jacks': 5.353207812578588e-06,\n",
       " 'x0_Jackson Makore': 1.6914966297544092e-06,\n",
       " 'x0_Jafary Mbaga': 4.332167930851498e-06,\n",
       " 'x0_Jaica': 0.00021676479855759346,\n",
       " 'x0_Japan': 2.9990579935447144e-05,\n",
       " 'x0_Japan Government': 1.178465900541565e-06,\n",
       " 'x0_Jeica': 2.75591737535044e-05,\n",
       " 'x0_Jerem': 4.238727173336498e-07,\n",
       " 'x0_Jeshi la Wokovu': 1.6936717429001113e-05,\n",
       " 'x0_Jeshi la wokovu': 5.6518466607522616e-05,\n",
       " 'x0_Jeshi la wokovu [cida]': 1.6564948387796314e-05,\n",
       " 'x0_Jica': 6.061444391238345e-05,\n",
       " 'x0_Jicks': 4.242075133609222e-05,\n",
       " 'x0_Jika': 4.80678923533547e-06,\n",
       " 'x0_Jiks': 5.689786902820569e-07,\n",
       " 'x0_John gemuta co': 2.552299498188363e-06,\n",
       " 'x0_John kiminda co': 6.180025379061345e-06,\n",
       " 'x0_Ju': 3.2695789996148055e-06,\n",
       " 'x0_Judge Mchome': 7.675811287933013e-06,\n",
       " 'x0_Juma': 1.956133588174165e-06,\n",
       " 'x0_Juma Makulilo': 9.083338675008512e-06,\n",
       " 'x0_Juma Maro': 4.650536911591153e-06,\n",
       " 'x0_Juma Ndege': 3.0972981590557794e-06,\n",
       " 'x0_Jumanne': 5.187018324635686e-07,\n",
       " 'x0_Justine Marwa': 1.7842277617806728e-06,\n",
       " 'x0_K': 1.0078070218708837e-05,\n",
       " 'x0_K/Primary': 7.14621625184509e-05,\n",
       " 'x0_KA': 0.0002640731431693628,\n",
       " 'x0_KADP': 3.243646746133537e-05,\n",
       " 'x0_KAEM': 1.4755591859729482e-05,\n",
       " 'x0_KAEMP': 7.599561494263875e-05,\n",
       " 'x0_KAGERA MINE': 1.23659205605826e-06,\n",
       " 'x0_KARUMBA BIULDING COMPANY LTD': 8.100209868703884e-06,\n",
       " 'x0_KARUMBA BIULDING CONTRACTOR': 2.2722301962806964e-06,\n",
       " 'x0_KARUMBA BUILDING COMPANY LTD': 4.953399133906522e-06,\n",
       " 'x0_KASHERE': 5.684682188299185e-06,\n",
       " 'x0_KASHWA': 1.449195936583977e-05,\n",
       " 'x0_KAWINGA': 3.121131611915357e-06,\n",
       " 'x0_KAYEMPU LTD': 1.5683046338280346e-07,\n",
       " 'x0_KC': 2.655460413291935e-05,\n",
       " 'x0_KDC': 1.0752815561641988e-05,\n",
       " 'x0_KEREBUKA': 1.3021300684714535e-05,\n",
       " 'x0_KIBO': 8.397290454339578e-06,\n",
       " 'x0_KIDIJAS': 2.8676697683414306e-06,\n",
       " 'x0_KIDP': 9.038906164441168e-05,\n",
       " 'x0_KILANGANI CO': 1.3237556192981806e-05,\n",
       " 'x0_KILI WATER': 1.677454017284017e-05,\n",
       " 'x0_KILL WATER': 1.98984841254006e-07,\n",
       " 'x0_KIM KIM CONSTRUCTION': 0.00011192427343386028,\n",
       " 'x0_KIMKUM': 9.647550285280443e-05,\n",
       " 'x0_KINAPA': 2.2134845523577672e-05,\n",
       " 'x0_KISIRIRI ADP': 1.2523715015317964e-06,\n",
       " 'x0_KIUMA': 8.641973332553047e-05,\n",
       " 'x0_KK': 1.3954995673070783e-06,\n",
       " 'x0_KKKT': 0.0008150934601853003,\n",
       " 'x0_KKKT CHURCH': 0.00011943799451074833,\n",
       " 'x0_KKKT Canal': 4.141657862433831e-06,\n",
       " 'x0_KKKT DME': 8.812362965467416e-06,\n",
       " 'x0_KKKT Kilinga': 1.6166120472857904e-05,\n",
       " 'x0_KKKT Leguruki': 2.951049667805461e-06,\n",
       " 'x0_KKKT MAREU': 1.1460672588809794e-06,\n",
       " 'x0_KKKT Ndrumangeni': 2.5704496109034896e-06,\n",
       " 'x0_KKKT _ Konde and DWE': 0.0001558320289394186,\n",
       " 'x0_KKKT-Dioces ya Pare': 8.758916250578531e-05,\n",
       " 'x0_KKT': 0.00012648005445360083,\n",
       " 'x0_KKT C': 3.352722142476552e-05,\n",
       " 'x0_KMCL': 3.664923159930865e-05,\n",
       " 'x0_KMT': 2.8331730851549073e-05,\n",
       " 'x0_KOBERG': 1.8953500879585808e-06,\n",
       " 'x0_KOBERG Contractor': 3.53898970332183e-06,\n",
       " 'x0_KOICA': 6.482764067495431e-06,\n",
       " 'x0_KONOIKE': 2.262858658996982e-05,\n",
       " 'x0_KOREA': 2.806540905900218e-05,\n",
       " 'x0_KORKONEL': 7.326142907878238e-07,\n",
       " 'x0_KOWI': 1.181176226660756e-05,\n",
       " 'x0_KOYI': 7.067466018705643e-07,\n",
       " 'x0_KTA C': 5.61718669149657e-05,\n",
       " 'x0_KU': 8.530975556334988e-07,\n",
       " 'x0_KUWAIT': 0.00020463669957495651,\n",
       " 'x0_KUWASA': 3.7124975047954004e-05,\n",
       " 'x0_KWIKWIZ': 8.059909682015168e-06,\n",
       " 'x0_KYASHA ENTERPR': 6.011447294359153e-05,\n",
       " 'x0_KYASHA ENTREPR': 3.662451022792558e-05,\n",
       " 'x0_KYELA_MOROGORO': 1.4242380459626377e-05,\n",
       " 'x0_Kaembe': 6.185634135317061e-06,\n",
       " 'x0_Kagulo': 2.3646489690117989e-07,\n",
       " 'x0_Kahema': 4.5900091847494087e-07,\n",
       " 'x0_Kalago enterprises Co.Ltd': 3.751631520330405e-05,\n",
       " 'x0_Kalitasi': 6.841789280736236e-05,\n",
       " 'x0_Kalitesi': 7.88073609593556e-06,\n",
       " 'x0_Kalta': 1.2130042244222606e-05,\n",
       " 'x0_Kalumbwa': 2.4044248126946932e-05,\n",
       " 'x0_Kaluwike': 7.3058299564425055e-06,\n",
       " 'x0_Kamama': 4.7724662082226906e-05,\n",
       " 'x0_Kamata project': 2.967800121351317e-06,\n",
       " 'x0_Kambi Migoko': 3.6402857479123144e-06,\n",
       " 'x0_Kanamama': 2.9817633849544267e-06,\n",
       " 'x0_Kando': 2.287863621158941e-06,\n",
       " 'x0_Kanisa': 1.906284477067484e-05,\n",
       " 'x0_Kanisa katoliki': 8.939398407736168e-06,\n",
       " 'x0_Kanisa la TAG': 1.993674475609457e-06,\n",
       " 'x0_Karugendo': 5.3097483068171005e-05,\n",
       " 'x0_Kata': 6.965089838545977e-06,\n",
       " 'x0_Ki': 0.000332590311510051,\n",
       " 'x0_Kibaha Town Council': 7.84655393201303e-06,\n",
       " 'x0_Kibo potry': 5.503160466404351e-06,\n",
       " 'x0_Kidika': 8.54015799668965e-09,\n",
       " 'x0_Kigoma municipal': 9.874403645712914e-06,\n",
       " 'x0_Kigwa': 2.2975117835755066e-05,\n",
       " 'x0_Kikom': 6.932914371944543e-06,\n",
       " 'x0_Kiliflora': 4.9196135375647413e-05,\n",
       " 'x0_Kiliwater': 0.0005677864724890837,\n",
       " 'x0_Kiliwater r': 2.7353574676232125e-05,\n",
       " 'x0_Killflora /Community': 4.642885353852194e-05,\n",
       " 'x0_Killflora/ Community': 0.00010085486013023474,\n",
       " 'x0_Kilolo Star': 3.929151287534378e-06,\n",
       " 'x0_Kilomber': 2.723306574793779e-05,\n",
       " 'x0_Kilwa company': 7.996000976412828e-05,\n",
       " 'x0_Kilwater': 5.701846916718102e-05,\n",
       " 'x0_Kindoroko water project': 5.901505218755107e-06,\n",
       " 'x0_Kirdep': 2.5643482433468653e-05,\n",
       " 'x0_Kitiangare village community': 1.5454308350058399e-06,\n",
       " 'x0_Kitukuni water supply': 1.271247376162051e-05,\n",
       " 'x0_Kizenga': 1.1814322519398106e-08,\n",
       " 'x0_KkKT': 8.632364530210119e-05,\n",
       " 'x0_Kkkt': 5.347025587553882e-06,\n",
       " 'x0_Ko': 6.405593922879978e-06,\n",
       " 'x0_Kokeni': 9.294955840457239e-05,\n",
       " 'x0_Konoike': 4.960240679779697e-05,\n",
       " 'x0_Korogwe water works': 6.24319744424014e-05,\n",
       " 'x0_Kuamu': 3.420590544081126e-05,\n",
       " 'x0_Kuji foundation': 2.187075445591106e-07,\n",
       " 'x0_Kuwait': 0.0007783824412973644,\n",
       " 'x0_Kuweit': 5.213460014957795e-06,\n",
       " 'x0_Kwasenenge Group': 1.5183295541267335e-06,\n",
       " 'x0_L': 1.934000852661505e-05,\n",
       " 'x0_LAMP': 2.402645258123216e-05,\n",
       " 'x0_LC': 3.3068946355016038e-06,\n",
       " 'x0_LDEP': 9.359885612304516e-06,\n",
       " 'x0_LEI': 4.7109059976957456e-07,\n",
       " 'x0_LENCH': 5.3769011207200044e-05,\n",
       " 'x0_LGA': 0.0005442506747181389,\n",
       " 'x0_LGCDG': 3.7124961919366655e-05,\n",
       " 'x0_LINDALA CO': 1.5961851197672804e-05,\n",
       " \"x0_LION'S\": 8.566842134063383e-06,\n",
       " 'x0_LIPS': 2.4376527357244145e-05,\n",
       " 'x0_LIUWASSA': 2.0766595518515208e-05,\n",
       " 'x0_LIVI': 3.2785773863346185e-05,\n",
       " 'x0_LIZAD': 3.7118678954426405e-06,\n",
       " 'x0_LOCAL CONTRACT': 0.00018646245700489582,\n",
       " 'x0_LOLMOLOKI': 1.2812469943305765e-06,\n",
       " 'x0_LOMOLOKI': 2.6891996967662245e-05,\n",
       " 'x0_LONGIDO SEC SCHOOL': 9.094377344752487e-07,\n",
       " 'x0_LUKE SAMARAS LTD': 3.0174510019249756e-06,\n",
       " 'x0_LUWASSA': 2.3095863179907597e-06,\n",
       " 'x0_LVA Ltd': 1.2484570399702327e-05,\n",
       " 'x0_LVIA': 5.9079570061814846e-05,\n",
       " 'x0_LWI': 0.00010225298690922094,\n",
       " 'x0_Laizer': 4.673074843687153e-07,\n",
       " 'x0_Laramatak': 5.522992763020188e-07,\n",
       " 'x0_Latifu': 1.1082197288988358e-06,\n",
       " 'x0_Lawate fuka water su': 2.8169469679205814e-05,\n",
       " 'x0_Lawatefuka water sup': 0.00016572021949763798,\n",
       " 'x0_Leopad Abeid': 2.529998361027361e-06,\n",
       " 'x0_Lga': 3.696483074803707e-05,\n",
       " 'x0_Li': 1.5768853121036206e-05,\n",
       " 'x0_Linda': 1.0860299117992947e-05,\n",
       " 'x0_Lindi rural water department': 3.3619203400976574e-06,\n",
       " \"x0_Lion's club\": 1.1689544658718218e-06,\n",
       " 'x0_Lions club kilimanjaro': 7.06941830317938e-06,\n",
       " 'x0_Livi': 2.774328842324631e-06,\n",
       " 'x0_Living water international': 1.401342548415165e-05,\n",
       " 'x0_Local': 0.00017529740527664928,\n",
       " 'x0_Local  technician': 0.00016784821587506528,\n",
       " 'x0_Local l technician': 3.5530624725703303e-06,\n",
       " 'x0_Local te': 0.00016876860817895576,\n",
       " 'x0_Local technical': 6.310041951535584e-07,\n",
       " 'x0_Local technical tec': 1.7351166425772378e-05,\n",
       " 'x0_Local technician': 0.00010843155584034144,\n",
       " 'x0_Local technitian': 1.4298098173146097e-05,\n",
       " 'x0_Locall technician': 5.962115658849003e-06,\n",
       " 'x0_Localtechnician': 3.610093816959358e-05,\n",
       " 'x0_Loliondo Parish': 2.7601759456028822e-05,\n",
       " 'x0_Losa-kia water suppl': 2.6450009747034134e-06,\n",
       " 'x0_Losaa-Kia water supp': 2.4990882800852496e-05,\n",
       " 'x0_Luali Kaima': 2.6709840437742883e-08,\n",
       " 'x0_Luka': 1.124903359320101e-08,\n",
       " 'x0_Luleka': 1.162737575100666e-05,\n",
       " 'x0_Luthe': 1.7555559843673279e-06,\n",
       " 'x0_Lutheran': 4.304083823063786e-05,\n",
       " 'x0_Lutheran Church': 1.6291487893004887e-05,\n",
       " 'x0_M': 2.5826966103802543e-06,\n",
       " 'x0_M and P': 3.579517902584172e-06,\n",
       " 'x0_MA': 0.00016798312585288047,\n",
       " 'x0_MACK DONALD CO LTD': 3.490747861915771e-06,\n",
       " 'x0_MACK DONALD CONTRACTOR': 1.1519323176044639e-05,\n",
       " 'x0_MAISHULE': 1.2361692093412217e-05,\n",
       " 'x0_MAIVARU': 2.3783005260656537e-06,\n",
       " 'x0_MAJI MUGUMU': 3.335226404391809e-05,\n",
       " 'x0_MAJI TECH': 2.1739532920839073e-06,\n",
       " 'x0_MAKAMA CONSTRUCTION': 1.4312088494290412e-05,\n",
       " 'x0_MAKE ENGINEERING': 3.463283124258757e-05,\n",
       " 'x0_MAMAD': 2.6562300820048315e-05,\n",
       " 'x0_MANDIA CONSTRUCTION': 8.389479780943597e-07,\n",
       " 'x0_MANGO TREE': 6.619032290251852e-06,\n",
       " 'x0_MANYARA CONSTRUCTION': 4.4547695304882875e-05,\n",
       " 'x0_MARAFIN': 2.050369539936614e-05,\n",
       " 'x0_MARAFIP': 0.00011541771154630733,\n",
       " 'x0_MASAI LAND': 6.25918399329381e-06,\n",
       " 'x0_MASU COMPANY': 5.625813706561425e-06,\n",
       " 'x0_MASWI': 4.0710475676939286e-05,\n",
       " 'x0_MASWI CO': 5.918635157138435e-06,\n",
       " 'x0_MASWI DRILL': 3.0610784434629984e-05,\n",
       " 'x0_MASWI DRILLING': 2.8503400986833257e-05,\n",
       " 'x0_MASWI DRILLING CO. LTD': 1.2423577596175932e-05,\n",
       " 'x0_MAZI INVESTMENT': 8.170661880558721e-06,\n",
       " 'x0_MBIUSA': 6.096431818344067e-06,\n",
       " 'x0_MBIUWASA': 2.6165041483297196e-05,\n",
       " 'x0_MBOMA': 2.8299309243415158e-05,\n",
       " 'x0_MBULU DISTRICT COUNCIL': 2.5088731908338228e-05,\n",
       " 'x0_MBUZI MAWE': 6.328542030478248e-06,\n",
       " 'x0_MCHOME': 3.555274171339889e-05,\n",
       " 'x0_MD': 2.745537893170346e-05,\n",
       " 'x0_MDALA Contractor': 1.4886231315759898e-05,\n",
       " 'x0_MDRDP': 0.00013536375163438692,\n",
       " 'x0_MDRD_': 4.116547777010793e-05,\n",
       " 'x0_MECO': 1.5247559436158675e-05,\n",
       " 'x0_MEM': 4.8020442997429414e-05,\n",
       " 'x0_METHODIST CHURCH': 1.7890496836032895e-06,\n",
       " 'x0_MGM': 3.231149884260455e-05,\n",
       " 'x0_MH Kapuya': 3.781484990042239e-05,\n",
       " 'x0_MI': 6.082350335657919e-05,\n",
       " 'x0_MIDA': 3.913011698621405e-05,\n",
       " 'x0_MINISTRY OF EDUCATION': 4.987429259337194e-06,\n",
       " 'x0_MINISTRY OF WATER': 3.915750825629315e-05,\n",
       " 'x0_MINISTRYOF WATER': 7.380414555506263e-06,\n",
       " 'x0_MINJINGU': 4.998058108226754e-05,\n",
       " 'x0_MISHENI': 1.7261082107601276e-06,\n",
       " 'x0_MISSION': 4.693086988213237e-05,\n",
       " 'x0_MKON CONSTRUCTION': 6.282219063917053e-09,\n",
       " 'x0_MKONG CONSTRUCTION': 2.0869803811325943e-07,\n",
       " 'x0_MKONGO BUILDING CONTRACTOR': 6.272670468792852e-09,\n",
       " 'x0_MKONGO CONSTRUCTION': 5.357429632990075e-08,\n",
       " 'x0_ML appro': 0.00015929965094350885,\n",
       " 'x0_MLADE': 0.00010389995969681738,\n",
       " 'x0_MLAKI  CO': 9.249534758737843e-06,\n",
       " 'x0_MLAKI CO': 3.747951571426015e-05,\n",
       " 'x0_MMG GOLD MINE': 2.699653980219233e-05,\n",
       " 'x0_MORNING CONSTRUCTION': 9.566384945224032e-06,\n",
       " 'x0_MOSES': 2.3270883306493382e-08,\n",
       " 'x0_MOSQUE': 1.3610641831811066e-06,\n",
       " 'x0_MP': 4.560121756569736e-05,\n",
       " 'x0_MP Mloka': 6.7991748535118055e-06,\n",
       " 'x0_MREMI CONTRACTOR': 1.2577758605151033e-05,\n",
       " 'x0_MS': 2.4056417324325445e-05,\n",
       " 'x0_MSABI': 3.62807641148665e-07,\n",
       " 'x0_MSF': 2.2378559520988865e-05,\n",
       " 'x0_MSF/TACARE': 1.6059943613832982e-05,\n",
       " 'x0_MSIGWA': 1.1603865747420925e-06,\n",
       " 'x0_MSIKIT': 2.3495598509527077e-06,\n",
       " 'x0_MSJI MUGUMU': 8.043510522584315e-06,\n",
       " 'x0_MSUKWA CONSTRUCTION COMPANY': 4.116614016396346e-07,\n",
       " 'x0_MTC': 4.008375185035787e-06,\n",
       " 'x0_MTN': 0.0002521559030547016,\n",
       " 'x0_MTUI': 2.0825666802242096e-05,\n",
       " 'x0_MTUWASA': 2.966146540062495e-05,\n",
       " 'x0_MTUWASA and Community': 5.109654978497922e-07,\n",
       " 'x0_MUWASA': 7.062060132896182e-05,\n",
       " 'x0_MUWSA': 7.437166410614438e-05,\n",
       " 'x0_MW': 8.054358789346887e-06,\n",
       " 'x0_MWAKI CONTRACTO': 2.8555105238256307e-06,\n",
       " 'x0_MWAKI CONTRACTOR': 1.1824410528749942e-05,\n",
       " 'x0_MWANZA': 1.6033392104326872e-05,\n",
       " 'x0_MWE': 0.00024478033985061954,\n",
       " 'x0_MWE &': 6.433585286297658e-05,\n",
       " 'x0_MWL NGASSA': 7.046086027891771e-07,\n",
       " 'x0_MWS': 3.130409764587813e-05,\n",
       " 'x0_Ma': 9.963993644210355e-05,\n",
       " 'x0_Mackd': 2.6090145185015356e-05,\n",
       " 'x0_Madra': 4.603286016761832e-06,\n",
       " 'x0_Maendeleo ya jamii': 2.067205179694613e-05,\n",
       " 'x0_Maerere': 3.5439292998169075e-06,\n",
       " 'x0_Magadini Makiwaru wa': 2.2756516477214964e-06,\n",
       " 'x0_Magadini-Makiwaru wa': 0.00028748585242480666,\n",
       " 'x0_Magani': 8.037296136718673e-09,\n",
       " 'x0_Magoma ADP': 8.477121885551299e-07,\n",
       " 'x0_Magul': 3.0297372107985675e-06,\n",
       " 'x0_Magutu Maro': 1.9282968838428974e-06,\n",
       " 'x0_Mahemba': 2.7144452941233437e-06,\n",
       " 'x0_Maji Tech': 4.4479762568230436e-05,\n",
       " 'x0_Maji block': 1.770305745633655e-05,\n",
       " 'x0_Maji tech Construction': 9.98502976301091e-06,\n",
       " 'x0_Makala': 6.7690765088381205e-06,\n",
       " 'x0_Makanya Sisal Estate': 4.848056514567801e-06,\n",
       " 'x0_Makonde': 6.815821465529348e-06,\n",
       " 'x0_Makonde water Population': 9.085885471199493e-06,\n",
       " 'x0_Makonde water population': 7.071703235880825e-05,\n",
       " 'x0_Makonde water supply': 2.5270169794865146e-05,\n",
       " 'x0_Makori': 3.7180942588665115e-06,\n",
       " 'x0_Makoye': 1.4034679997215127e-05,\n",
       " 'x0_Makuru': 4.68073802050384e-06,\n",
       " 'x0_Malec': 4.3353599588943656e-07,\n",
       " 'x0_Maliasili': 2.1498361315667157e-05,\n",
       " 'x0_Mama Agnes Kagimbo': 1.5056430204025e-06,\n",
       " 'x0_Mama Hamisa': 1.1373336480365865e-07,\n",
       " 'x0_Mama Kalage': 1.5452275610634345e-07,\n",
       " 'x0_Mama joela': 7.203770193455743e-06,\n",
       " 'x0_Mamaz': 3.898178204327521e-06,\n",
       " 'x0_Mambe': 2.5704034782824207e-07,\n",
       " 'x0_Mamlaka ya maji ngara': 2.4199378241679866e-05,\n",
       " 'x0_Mamvua Kakungu': 4.1310867078159786e-08,\n",
       " 'x0_Manyota primary School': 5.409379995970821e-06,\n",
       " 'x0_Marafip': 5.2752070791898127e-05,\n",
       " 'x0_Marijan Ally Dadi': 8.701461346899316e-07,\n",
       " 'x0_Mark': 4.104480209438294e-06,\n",
       " 'x0_Marke': 1.5399657728737767e-06,\n",
       " 'x0_Maro': 3.630240581657547e-06,\n",
       " 'x0_Martha Emanuel': 1.8024964414630886e-06,\n",
       " 'x0_Marti': 5.103209471939699e-06,\n",
       " 'x0_Maseka community': 1.1921830078533661e-05,\n",
       " 'x0_Masele Nzengula': 6.406058142754774e-06,\n",
       " 'x0_Masese': 2.11470044628214e-06,\n",
       " 'x0_MasjId Takuar': 1.0301810391003135e-05,\n",
       " 'x0_Masjid': 2.6195385240279922e-05,\n",
       " 'x0_Masjid Nnre': 2.4262684631853575e-06,\n",
       " 'x0_Maswi': 6.584743964979016e-05,\n",
       " 'x0_Maswi Company': 6.719747915194017e-06,\n",
       " 'x0_Maswi company': 7.433359667590382e-05,\n",
       " 'x0_Maswi drilling co ltd': 1.6020122033822844e-06,\n",
       " 'x0_Mataro': 6.757172540026533e-06,\n",
       " 'x0_Matiiti': 8.035419921219982e-06,\n",
       " 'x0_Matogoro': 3.5709548272934345e-07,\n",
       " 'x0_Matyenye': 2.4662740128447334e-06,\n",
       " 'x0_Mayiro': 3.975176158541296e-06,\n",
       " 'x0_Mbozi District Council': 3.2707871327366816e-05,\n",
       " 'x0_Mbunge': 3.890551615415018e-05,\n",
       " 'x0_Mchuk': 2.8372452330526102e-05,\n",
       " 'x0_Mdala Contractor': 3.716798239214636e-06,\n",
       " 'x0_Member of Perliament Ahmed Ali': 1.4878892767984338e-06,\n",
       " 'x0_Meru Concrete': 1.0509236913117647e-06,\n",
       " 'x0_Mgaya': 9.343352825007333e-07,\n",
       " 'x0_Mgaya Masese': 3.0391180751709485e-06,\n",
       " 'x0_Mgaya Mwita': 1.1525227135212747e-05,\n",
       " 'x0_Mh Kapuya': 1.8849482576423692e-05,\n",
       " 'x0_Mh.chiza': 2.249940026880482e-06,\n",
       " 'x0_Mi': 7.356929862804884e-05,\n",
       " 'x0_Mianz': 2.7789142238134426e-05,\n",
       " 'x0_Milenia': 6.608290816139906e-05,\n",
       " 'x0_Mileniam': 0.00010040421318362701,\n",
       " 'x0_Mileniam project': 0.00017331658369714036,\n",
       " 'x0_Milenium': 7.26281765392221e-06,\n",
       " ...}"
      ]
     },
     "execution_count": 165,
     "metadata": {},
     "output_type": "execute_result"
    }
   ],
   "source": [
    "dict_feature_importances(binary_pipe_1)"
   ]
  },
  {
   "cell_type": "code",
   "execution_count": 176,
   "metadata": {},
   "outputs": [
    {
     "data": {
      "text/plain": [
       "['gps_height',\n",
       " 'population',\n",
       " 'x8_dry',\n",
       " 'x10_other',\n",
       " 'amount_tsh',\n",
       " 'x8_enough',\n",
       " 'x5_other',\n",
       " 'x8_insufficient',\n",
       " 'x6_never pay',\n",
       " 'x10_communal standpipe',\n",
       " 'x4_vwc',\n",
       " 'x5_gravity',\n",
       " 'x10_communal standpipe multiple',\n",
       " 'x5_handpump',\n",
       " 'x7_unknown',\n",
       " 'x7_good',\n",
       " 'x8_seasonal',\n",
       " 'x9_surface',\n",
       " 'x9_groundwater',\n",
       " 'x10_hand pump']"
      ]
     },
     "execution_count": 176,
     "metadata": {},
     "output_type": "execute_result"
    }
   ],
   "source": [
    "sorted(feature_importances, key=feature_importances.get, reverse=True)[:20]"
   ]
  },
  {
   "cell_type": "markdown",
   "metadata": {},
   "source": [
    "# Model based on Feature Importances"
   ]
  },
  {
   "cell_type": "code",
   "execution_count": 168,
   "metadata": {},
   "outputs": [],
   "source": [
    "picked_features = ['amount_tsh', 'gps_height', 'population', 'payment', 'quantity', 'source', 'waterpoint_type']"
   ]
  },
  {
   "cell_type": "code",
   "execution_count": 169,
   "metadata": {},
   "outputs": [
    {
     "data": {
      "text/plain": [
       "(['amount_tsh', 'gps_height', 'population'],\n",
       " ['payment', 'quantity', 'source', 'waterpoint_type'],\n",
       " [])"
      ]
     },
     "execution_count": 169,
     "metadata": {},
     "output_type": "execute_result"
    }
   ],
   "source": [
    "features_type = GrabTypes(picked_features, df_binary)\n",
    "features_type"
   ]
  },
  {
   "cell_type": "code",
   "execution_count": 170,
   "metadata": {},
   "outputs": [],
   "source": [
    "CT = ColumnTransformer(transformers=[('subpipe_num', subpipe_num, features_type[0]),\n",
    "                                     ('subpipe_cat', subpipe_cat, features_type[1]),\n",
    "                                     ('subpipe_bool', subpipe_bool, features_type[2])],\n",
    "                       remainder='drop')"
   ]
  },
  {
   "cell_type": "code",
   "execution_count": 172,
   "metadata": {},
   "outputs": [],
   "source": [
    "rfc = RandomForestClassifier(random_state=42)\n",
    "\n",
    "feature_pipe = Pipeline(steps = [('ct', CT),\n",
    "                            ('rfc', rfc )])"
   ]
  },
  {
   "cell_type": "code",
   "execution_count": 173,
   "metadata": {},
   "outputs": [],
   "source": [
    "params = {'rfc__n_estimators':[200],\n",
    "          'rfc__max_depth':[None, 50],\n",
    "          'rfc__min_samples_leaf': [1, 10],\n",
    "          'rfc__min_samples_split': [5, 10]}\n",
    "gs = GridSearchCV(estimator = feature_pipe, param_grid = params, cv=5, verbose=3)"
   ]
  },
  {
   "cell_type": "code",
   "execution_count": 174,
   "metadata": {},
   "outputs": [
    {
     "name": "stdout",
     "output_type": "stream",
     "text": [
      "Fitting 5 folds for each of 8 candidates, totalling 40 fits\n",
      "[CV] rfc__max_depth=None, rfc__min_samples_leaf=1, rfc__min_samples_split=5, rfc__n_estimators=200 \n"
     ]
    },
    {
     "name": "stderr",
     "output_type": "stream",
     "text": [
      "[Parallel(n_jobs=1)]: Using backend SequentialBackend with 1 concurrent workers.\n"
     ]
    },
    {
     "name": "stdout",
     "output_type": "stream",
     "text": [
      "[CV]  rfc__max_depth=None, rfc__min_samples_leaf=1, rfc__min_samples_split=5, rfc__n_estimators=200, score=0.810, total=   4.1s\n",
      "[CV] rfc__max_depth=None, rfc__min_samples_leaf=1, rfc__min_samples_split=5, rfc__n_estimators=200 \n"
     ]
    },
    {
     "name": "stderr",
     "output_type": "stream",
     "text": [
      "[Parallel(n_jobs=1)]: Done   1 out of   1 | elapsed:    4.0s remaining:    0.0s\n"
     ]
    },
    {
     "name": "stdout",
     "output_type": "stream",
     "text": [
      "[CV]  rfc__max_depth=None, rfc__min_samples_leaf=1, rfc__min_samples_split=5, rfc__n_estimators=200, score=0.813, total=   4.2s\n",
      "[CV] rfc__max_depth=None, rfc__min_samples_leaf=1, rfc__min_samples_split=5, rfc__n_estimators=200 \n"
     ]
    },
    {
     "name": "stderr",
     "output_type": "stream",
     "text": [
      "[Parallel(n_jobs=1)]: Done   2 out of   2 | elapsed:    8.2s remaining:    0.0s\n"
     ]
    },
    {
     "name": "stdout",
     "output_type": "stream",
     "text": [
      "[CV]  rfc__max_depth=None, rfc__min_samples_leaf=1, rfc__min_samples_split=5, rfc__n_estimators=200, score=0.810, total=   4.1s\n",
      "[CV] rfc__max_depth=None, rfc__min_samples_leaf=1, rfc__min_samples_split=5, rfc__n_estimators=200 \n",
      "[CV]  rfc__max_depth=None, rfc__min_samples_leaf=1, rfc__min_samples_split=5, rfc__n_estimators=200, score=0.812, total=   3.9s\n",
      "[CV] rfc__max_depth=None, rfc__min_samples_leaf=1, rfc__min_samples_split=5, rfc__n_estimators=200 \n",
      "[CV]  rfc__max_depth=None, rfc__min_samples_leaf=1, rfc__min_samples_split=5, rfc__n_estimators=200, score=0.808, total=   3.9s\n",
      "[CV] rfc__max_depth=None, rfc__min_samples_leaf=1, rfc__min_samples_split=10, rfc__n_estimators=200 \n",
      "[CV]  rfc__max_depth=None, rfc__min_samples_leaf=1, rfc__min_samples_split=10, rfc__n_estimators=200, score=0.815, total=   3.8s\n",
      "[CV] rfc__max_depth=None, rfc__min_samples_leaf=1, rfc__min_samples_split=10, rfc__n_estimators=200 \n",
      "[CV]  rfc__max_depth=None, rfc__min_samples_leaf=1, rfc__min_samples_split=10, rfc__n_estimators=200, score=0.816, total=   3.7s\n",
      "[CV] rfc__max_depth=None, rfc__min_samples_leaf=1, rfc__min_samples_split=10, rfc__n_estimators=200 \n",
      "[CV]  rfc__max_depth=None, rfc__min_samples_leaf=1, rfc__min_samples_split=10, rfc__n_estimators=200, score=0.812, total=   3.7s\n",
      "[CV] rfc__max_depth=None, rfc__min_samples_leaf=1, rfc__min_samples_split=10, rfc__n_estimators=200 \n",
      "[CV]  rfc__max_depth=None, rfc__min_samples_leaf=1, rfc__min_samples_split=10, rfc__n_estimators=200, score=0.817, total=   3.7s\n",
      "[CV] rfc__max_depth=None, rfc__min_samples_leaf=1, rfc__min_samples_split=10, rfc__n_estimators=200 \n",
      "[CV]  rfc__max_depth=None, rfc__min_samples_leaf=1, rfc__min_samples_split=10, rfc__n_estimators=200, score=0.809, total=   3.8s\n",
      "[CV] rfc__max_depth=None, rfc__min_samples_leaf=10, rfc__min_samples_split=5, rfc__n_estimators=200 \n",
      "[CV]  rfc__max_depth=None, rfc__min_samples_leaf=10, rfc__min_samples_split=5, rfc__n_estimators=200, score=0.806, total=   2.7s\n",
      "[CV] rfc__max_depth=None, rfc__min_samples_leaf=10, rfc__min_samples_split=5, rfc__n_estimators=200 \n",
      "[CV]  rfc__max_depth=None, rfc__min_samples_leaf=10, rfc__min_samples_split=5, rfc__n_estimators=200, score=0.800, total=   2.9s\n",
      "[CV] rfc__max_depth=None, rfc__min_samples_leaf=10, rfc__min_samples_split=5, rfc__n_estimators=200 \n",
      "[CV]  rfc__max_depth=None, rfc__min_samples_leaf=10, rfc__min_samples_split=5, rfc__n_estimators=200, score=0.799, total=   2.8s\n",
      "[CV] rfc__max_depth=None, rfc__min_samples_leaf=10, rfc__min_samples_split=5, rfc__n_estimators=200 \n",
      "[CV]  rfc__max_depth=None, rfc__min_samples_leaf=10, rfc__min_samples_split=5, rfc__n_estimators=200, score=0.803, total=   2.8s\n",
      "[CV] rfc__max_depth=None, rfc__min_samples_leaf=10, rfc__min_samples_split=5, rfc__n_estimators=200 \n",
      "[CV]  rfc__max_depth=None, rfc__min_samples_leaf=10, rfc__min_samples_split=5, rfc__n_estimators=200, score=0.794, total=   2.7s\n",
      "[CV] rfc__max_depth=None, rfc__min_samples_leaf=10, rfc__min_samples_split=10, rfc__n_estimators=200 \n",
      "[CV]  rfc__max_depth=None, rfc__min_samples_leaf=10, rfc__min_samples_split=10, rfc__n_estimators=200, score=0.806, total=   2.7s\n",
      "[CV] rfc__max_depth=None, rfc__min_samples_leaf=10, rfc__min_samples_split=10, rfc__n_estimators=200 \n",
      "[CV]  rfc__max_depth=None, rfc__min_samples_leaf=10, rfc__min_samples_split=10, rfc__n_estimators=200, score=0.800, total=   2.8s\n",
      "[CV] rfc__max_depth=None, rfc__min_samples_leaf=10, rfc__min_samples_split=10, rfc__n_estimators=200 \n",
      "[CV]  rfc__max_depth=None, rfc__min_samples_leaf=10, rfc__min_samples_split=10, rfc__n_estimators=200, score=0.799, total=   2.7s\n",
      "[CV] rfc__max_depth=None, rfc__min_samples_leaf=10, rfc__min_samples_split=10, rfc__n_estimators=200 \n",
      "[CV]  rfc__max_depth=None, rfc__min_samples_leaf=10, rfc__min_samples_split=10, rfc__n_estimators=200, score=0.803, total=   2.7s\n",
      "[CV] rfc__max_depth=None, rfc__min_samples_leaf=10, rfc__min_samples_split=10, rfc__n_estimators=200 \n",
      "[CV]  rfc__max_depth=None, rfc__min_samples_leaf=10, rfc__min_samples_split=10, rfc__n_estimators=200, score=0.794, total=   2.7s\n",
      "[CV] rfc__max_depth=50, rfc__min_samples_leaf=1, rfc__min_samples_split=5, rfc__n_estimators=200 \n",
      "[CV]  rfc__max_depth=50, rfc__min_samples_leaf=1, rfc__min_samples_split=5, rfc__n_estimators=200, score=0.810, total=   3.9s\n",
      "[CV] rfc__max_depth=50, rfc__min_samples_leaf=1, rfc__min_samples_split=5, rfc__n_estimators=200 \n",
      "[CV]  rfc__max_depth=50, rfc__min_samples_leaf=1, rfc__min_samples_split=5, rfc__n_estimators=200, score=0.813, total=   3.9s\n",
      "[CV] rfc__max_depth=50, rfc__min_samples_leaf=1, rfc__min_samples_split=5, rfc__n_estimators=200 \n",
      "[CV]  rfc__max_depth=50, rfc__min_samples_leaf=1, rfc__min_samples_split=5, rfc__n_estimators=200, score=0.810, total=   3.8s\n",
      "[CV] rfc__max_depth=50, rfc__min_samples_leaf=1, rfc__min_samples_split=5, rfc__n_estimators=200 \n",
      "[CV]  rfc__max_depth=50, rfc__min_samples_leaf=1, rfc__min_samples_split=5, rfc__n_estimators=200, score=0.812, total=   3.8s\n",
      "[CV] rfc__max_depth=50, rfc__min_samples_leaf=1, rfc__min_samples_split=5, rfc__n_estimators=200 \n",
      "[CV]  rfc__max_depth=50, rfc__min_samples_leaf=1, rfc__min_samples_split=5, rfc__n_estimators=200, score=0.808, total=   3.8s\n",
      "[CV] rfc__max_depth=50, rfc__min_samples_leaf=1, rfc__min_samples_split=10, rfc__n_estimators=200 \n",
      "[CV]  rfc__max_depth=50, rfc__min_samples_leaf=1, rfc__min_samples_split=10, rfc__n_estimators=200, score=0.815, total=   3.7s\n",
      "[CV] rfc__max_depth=50, rfc__min_samples_leaf=1, rfc__min_samples_split=10, rfc__n_estimators=200 \n",
      "[CV]  rfc__max_depth=50, rfc__min_samples_leaf=1, rfc__min_samples_split=10, rfc__n_estimators=200, score=0.816, total=   3.6s\n",
      "[CV] rfc__max_depth=50, rfc__min_samples_leaf=1, rfc__min_samples_split=10, rfc__n_estimators=200 \n",
      "[CV]  rfc__max_depth=50, rfc__min_samples_leaf=1, rfc__min_samples_split=10, rfc__n_estimators=200, score=0.812, total=   3.6s\n",
      "[CV] rfc__max_depth=50, rfc__min_samples_leaf=1, rfc__min_samples_split=10, rfc__n_estimators=200 \n",
      "[CV]  rfc__max_depth=50, rfc__min_samples_leaf=1, rfc__min_samples_split=10, rfc__n_estimators=200, score=0.817, total=   3.7s\n",
      "[CV] rfc__max_depth=50, rfc__min_samples_leaf=1, rfc__min_samples_split=10, rfc__n_estimators=200 \n",
      "[CV]  rfc__max_depth=50, rfc__min_samples_leaf=1, rfc__min_samples_split=10, rfc__n_estimators=200, score=0.809, total=   3.7s\n",
      "[CV] rfc__max_depth=50, rfc__min_samples_leaf=10, rfc__min_samples_split=5, rfc__n_estimators=200 \n",
      "[CV]  rfc__max_depth=50, rfc__min_samples_leaf=10, rfc__min_samples_split=5, rfc__n_estimators=200, score=0.806, total=   2.9s\n",
      "[CV] rfc__max_depth=50, rfc__min_samples_leaf=10, rfc__min_samples_split=5, rfc__n_estimators=200 \n",
      "[CV]  rfc__max_depth=50, rfc__min_samples_leaf=10, rfc__min_samples_split=5, rfc__n_estimators=200, score=0.800, total=   2.9s\n",
      "[CV] rfc__max_depth=50, rfc__min_samples_leaf=10, rfc__min_samples_split=5, rfc__n_estimators=200 \n",
      "[CV]  rfc__max_depth=50, rfc__min_samples_leaf=10, rfc__min_samples_split=5, rfc__n_estimators=200, score=0.799, total=   2.8s\n",
      "[CV] rfc__max_depth=50, rfc__min_samples_leaf=10, rfc__min_samples_split=5, rfc__n_estimators=200 \n",
      "[CV]  rfc__max_depth=50, rfc__min_samples_leaf=10, rfc__min_samples_split=5, rfc__n_estimators=200, score=0.803, total=   3.1s\n",
      "[CV] rfc__max_depth=50, rfc__min_samples_leaf=10, rfc__min_samples_split=5, rfc__n_estimators=200 \n",
      "[CV]  rfc__max_depth=50, rfc__min_samples_leaf=10, rfc__min_samples_split=5, rfc__n_estimators=200, score=0.794, total=   3.3s\n",
      "[CV] rfc__max_depth=50, rfc__min_samples_leaf=10, rfc__min_samples_split=10, rfc__n_estimators=200 \n",
      "[CV]  rfc__max_depth=50, rfc__min_samples_leaf=10, rfc__min_samples_split=10, rfc__n_estimators=200, score=0.806, total=   3.1s\n",
      "[CV] rfc__max_depth=50, rfc__min_samples_leaf=10, rfc__min_samples_split=10, rfc__n_estimators=200 \n",
      "[CV]  rfc__max_depth=50, rfc__min_samples_leaf=10, rfc__min_samples_split=10, rfc__n_estimators=200, score=0.800, total=   2.9s\n",
      "[CV] rfc__max_depth=50, rfc__min_samples_leaf=10, rfc__min_samples_split=10, rfc__n_estimators=200 \n",
      "[CV]  rfc__max_depth=50, rfc__min_samples_leaf=10, rfc__min_samples_split=10, rfc__n_estimators=200, score=0.799, total=   2.9s\n",
      "[CV] rfc__max_depth=50, rfc__min_samples_leaf=10, rfc__min_samples_split=10, rfc__n_estimators=200 \n"
     ]
    },
    {
     "name": "stdout",
     "output_type": "stream",
     "text": [
      "[CV]  rfc__max_depth=50, rfc__min_samples_leaf=10, rfc__min_samples_split=10, rfc__n_estimators=200, score=0.803, total=   2.9s\n",
      "[CV] rfc__max_depth=50, rfc__min_samples_leaf=10, rfc__min_samples_split=10, rfc__n_estimators=200 \n",
      "[CV]  rfc__max_depth=50, rfc__min_samples_leaf=10, rfc__min_samples_split=10, rfc__n_estimators=200, score=0.794, total=   2.8s\n"
     ]
    },
    {
     "name": "stderr",
     "output_type": "stream",
     "text": [
      "[Parallel(n_jobs=1)]: Done  40 out of  40 | elapsed:  2.2min finished\n"
     ]
    },
    {
     "data": {
      "text/plain": [
       "GridSearchCV(cv=5,\n",
       "             estimator=Pipeline(steps=[('ct',\n",
       "                                        ColumnTransformer(transformers=[('subpipe_num',\n",
       "                                                                         Pipeline(steps=[('ss',\n",
       "                                                                                          StandardScaler())]),\n",
       "                                                                         ['amount_tsh',\n",
       "                                                                          'gps_height',\n",
       "                                                                          'population']),\n",
       "                                                                        ('subpipe_cat',\n",
       "                                                                         Pipeline(steps=[('ohe',\n",
       "                                                                                          OneHotEncoder(handle_unknown='ignore',\n",
       "                                                                                                        sparse=False))]),\n",
       "                                                                         ['payment',\n",
       "                                                                          'quantity',\n",
       "                                                                          'source',\n",
       "                                                                          'waterpoint_type']),\n",
       "                                                                        ('subpipe_bool',\n",
       "                                                                         Pipeline(steps=[('ord',\n",
       "                                                                                          OrdinalEncoder())]),\n",
       "                                                                         [])])),\n",
       "                                       ('rfc',\n",
       "                                        RandomForestClassifier(random_state=42))]),\n",
       "             param_grid={'rfc__max_depth': [None, 50],\n",
       "                         'rfc__min_samples_leaf': [1, 10],\n",
       "                         'rfc__min_samples_split': [5, 10],\n",
       "                         'rfc__n_estimators': [200]},\n",
       "             verbose=3)"
      ]
     },
     "execution_count": 174,
     "metadata": {},
     "output_type": "execute_result"
    }
   ],
   "source": [
    "gs.fit(X_train, y_train)"
   ]
  },
  {
   "cell_type": "code",
   "execution_count": 175,
   "metadata": {},
   "outputs": [
    {
     "data": {
      "text/plain": [
       "0.813692480359147"
      ]
     },
     "execution_count": 175,
     "metadata": {},
     "output_type": "execute_result"
    }
   ],
   "source": [
    "gs.best_score_"
   ]
  },
  {
   "cell_type": "code",
   "execution_count": 177,
   "metadata": {},
   "outputs": [
    {
     "data": {
      "text/plain": [
       "{'rfc__max_depth': None,\n",
       " 'rfc__min_samples_leaf': 1,\n",
       " 'rfc__min_samples_split': 10,\n",
       " 'rfc__n_estimators': 200}"
      ]
     },
     "execution_count": 177,
     "metadata": {},
     "output_type": "execute_result"
    }
   ],
   "source": [
    "gs.best_params_"
   ]
  },
  {
   "cell_type": "code",
   "execution_count": 178,
   "metadata": {},
   "outputs": [
    {
     "data": {
      "text/plain": [
       "Pipeline(steps=[('ct',\n",
       "                 ColumnTransformer(transformers=[('subpipe_num',\n",
       "                                                  Pipeline(steps=[('ss',\n",
       "                                                                   StandardScaler())]),\n",
       "                                                  ['amount_tsh', 'gps_height',\n",
       "                                                   'population']),\n",
       "                                                 ('subpipe_cat',\n",
       "                                                  Pipeline(steps=[('ohe',\n",
       "                                                                   OneHotEncoder(handle_unknown='ignore',\n",
       "                                                                                 sparse=False))]),\n",
       "                                                  ['payment', 'quantity',\n",
       "                                                   'source',\n",
       "                                                   'waterpoint_type']),\n",
       "                                                 ('subpipe_bool',\n",
       "                                                  Pipeline(steps=[('ord',\n",
       "                                                                   OrdinalEncoder())]),\n",
       "                                                  [])])),\n",
       "                ('rfc', RandomForestClassifier(random_state=42))])"
      ]
     },
     "execution_count": 178,
     "metadata": {},
     "output_type": "execute_result"
    }
   ],
   "source": [
    "feature_pipe.fit(X_train, y_train)"
   ]
  },
  {
   "cell_type": "code",
   "execution_count": 180,
   "metadata": {},
   "outputs": [
    {
     "data": {
      "text/plain": [
       "0.9316947250280584"
      ]
     },
     "execution_count": 180,
     "metadata": {},
     "output_type": "execute_result"
    }
   ],
   "source": [
    "feature_pipe.score(X_train, y_train)"
   ]
  },
  {
   "cell_type": "code",
   "execution_count": null,
   "metadata": {},
   "outputs": [],
   "source": []
  }
 ],
 "metadata": {
  "kernelspec": {
   "display_name": "Python (learn-env)",
   "language": "python",
   "name": "learn-env"
  },
  "language_info": {
   "codemirror_mode": {
    "name": "ipython",
    "version": 3
   },
   "file_extension": ".py",
   "mimetype": "text/x-python",
   "name": "python",
   "nbconvert_exporter": "python",
   "pygments_lexer": "ipython3",
   "version": "3.8.5"
  }
 },
 "nbformat": 4,
 "nbformat_minor": 4
}
