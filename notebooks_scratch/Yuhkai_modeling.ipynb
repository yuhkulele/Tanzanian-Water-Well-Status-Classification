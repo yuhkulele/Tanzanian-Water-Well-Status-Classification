{
 "cells": [
  {
   "cell_type": "markdown",
   "metadata": {},
   "source": [
    "# Modeling"
   ]
  },
  {
   "cell_type": "markdown",
   "metadata": {},
   "source": [
    "### Imports"
   ]
  },
  {
   "cell_type": "code",
   "execution_count": 1,
   "metadata": {},
   "outputs": [],
   "source": [
    "#import statements\n",
    "import pandas as pd\n",
    "import numpy as np\n",
    "\n",
    "#data visualization\n",
    "import matplotlib\n",
    "import matplotlib.pyplot as plt\n",
    "import seaborn as sns\n",
    "\n",
    "#sci-kit learn\n",
    "import sklearn\n",
    "from sklearn.model_selection import train_test_split, cross_validate, cross_val_score, GridSearchCV\n",
    "from sklearn.preprocessing import FunctionTransformer, OneHotEncoder, OrdinalEncoder, StandardScaler\n",
    "from sklearn.metrics import accuracy_score, plot_confusion_matrix, confusion_matrix\n",
    "from sklearn.dummy import DummyClassifier\n",
    "\n",
    "from sklearn.neighbors import KNeighborsClassifier\n",
    "from sklearn.tree import DecisionTreeClassifier\n",
    "from sklearn.ensemble import RandomForestClassifier\n",
    "\n",
    "from sklearn.pipeline import Pipeline\n",
    "from sklearn.compose import ColumnTransformer\n",
    "\n",
    "from imblearn.over_sampling import SMOTE\n",
    "from imblearn.pipeline import Pipeline as ImPipeline"
   ]
  },
  {
   "cell_type": "markdown",
   "metadata": {},
   "source": [
    "### Import cleaned data"
   ]
  },
  {
   "cell_type": "code",
   "execution_count": 2,
   "metadata": {},
   "outputs": [],
   "source": [
    "df = pd.read_csv('../data/water_well_train_clean.csv')"
   ]
  },
  {
   "cell_type": "code",
   "execution_count": 3,
   "metadata": {},
   "outputs": [
    {
     "data": {
      "text/html": [
       "<div>\n",
       "<style scoped>\n",
       "    .dataframe tbody tr th:only-of-type {\n",
       "        vertical-align: middle;\n",
       "    }\n",
       "\n",
       "    .dataframe tbody tr th {\n",
       "        vertical-align: top;\n",
       "    }\n",
       "\n",
       "    .dataframe thead th {\n",
       "        text-align: right;\n",
       "    }\n",
       "</style>\n",
       "<table border=\"1\" class=\"dataframe\">\n",
       "  <thead>\n",
       "    <tr style=\"text-align: right;\">\n",
       "      <th></th>\n",
       "      <th>id</th>\n",
       "      <th>amount_tsh</th>\n",
       "      <th>date_recorded</th>\n",
       "      <th>funder</th>\n",
       "      <th>gps_height</th>\n",
       "      <th>installer</th>\n",
       "      <th>longitude</th>\n",
       "      <th>latitude</th>\n",
       "      <th>wpt_name</th>\n",
       "      <th>num_private</th>\n",
       "      <th>...</th>\n",
       "      <th>quantity_group</th>\n",
       "      <th>source</th>\n",
       "      <th>source_type</th>\n",
       "      <th>source_class</th>\n",
       "      <th>waterpoint_type</th>\n",
       "      <th>waterpoint_type_group</th>\n",
       "      <th>id_label</th>\n",
       "      <th>status_group</th>\n",
       "      <th>coordinates</th>\n",
       "      <th>distance</th>\n",
       "    </tr>\n",
       "  </thead>\n",
       "  <tbody>\n",
       "    <tr>\n",
       "      <th>0</th>\n",
       "      <td>69572</td>\n",
       "      <td>6000.0</td>\n",
       "      <td>2011-03-14</td>\n",
       "      <td>Roman</td>\n",
       "      <td>1390</td>\n",
       "      <td>Roman</td>\n",
       "      <td>34.938093</td>\n",
       "      <td>-9.856322</td>\n",
       "      <td>none</td>\n",
       "      <td>0</td>\n",
       "      <td>...</td>\n",
       "      <td>enough</td>\n",
       "      <td>spring</td>\n",
       "      <td>spring</td>\n",
       "      <td>groundwater</td>\n",
       "      <td>communal standpipe</td>\n",
       "      <td>communal standpipe</td>\n",
       "      <td>69572</td>\n",
       "      <td>functional</td>\n",
       "      <td>[-9.85632177, 34.93809275]</td>\n",
       "      <td>0.001616</td>\n",
       "    </tr>\n",
       "    <tr>\n",
       "      <th>1</th>\n",
       "      <td>8776</td>\n",
       "      <td>0.0</td>\n",
       "      <td>2013-03-06</td>\n",
       "      <td>Grumeti</td>\n",
       "      <td>1399</td>\n",
       "      <td>GRUMETI</td>\n",
       "      <td>34.698766</td>\n",
       "      <td>-2.147466</td>\n",
       "      <td>Zahanati</td>\n",
       "      <td>0</td>\n",
       "      <td>...</td>\n",
       "      <td>insufficient</td>\n",
       "      <td>rainwater harvesting</td>\n",
       "      <td>rainwater harvesting</td>\n",
       "      <td>surface</td>\n",
       "      <td>communal standpipe</td>\n",
       "      <td>communal standpipe</td>\n",
       "      <td>8776</td>\n",
       "      <td>functional</td>\n",
       "      <td>[-2.14746569, 34.6987661]</td>\n",
       "      <td>0.000694</td>\n",
       "    </tr>\n",
       "    <tr>\n",
       "      <th>2</th>\n",
       "      <td>34310</td>\n",
       "      <td>25.0</td>\n",
       "      <td>2013-02-25</td>\n",
       "      <td>Lottery Club</td>\n",
       "      <td>686</td>\n",
       "      <td>World vision</td>\n",
       "      <td>37.460664</td>\n",
       "      <td>-3.821329</td>\n",
       "      <td>Kwa Mahundi</td>\n",
       "      <td>0</td>\n",
       "      <td>...</td>\n",
       "      <td>enough</td>\n",
       "      <td>dam</td>\n",
       "      <td>dam</td>\n",
       "      <td>surface</td>\n",
       "      <td>communal standpipe multiple</td>\n",
       "      <td>communal standpipe</td>\n",
       "      <td>34310</td>\n",
       "      <td>functional</td>\n",
       "      <td>[-3.82132853, 37.46066446]</td>\n",
       "      <td>0.003466</td>\n",
       "    </tr>\n",
       "    <tr>\n",
       "      <th>3</th>\n",
       "      <td>67743</td>\n",
       "      <td>0.0</td>\n",
       "      <td>2013-01-28</td>\n",
       "      <td>Unicef</td>\n",
       "      <td>263</td>\n",
       "      <td>UNICEF</td>\n",
       "      <td>38.486161</td>\n",
       "      <td>-11.155298</td>\n",
       "      <td>Zahanati Ya Nanyumbu</td>\n",
       "      <td>0</td>\n",
       "      <td>...</td>\n",
       "      <td>dry</td>\n",
       "      <td>machine dbh</td>\n",
       "      <td>borehole</td>\n",
       "      <td>groundwater</td>\n",
       "      <td>communal standpipe multiple</td>\n",
       "      <td>communal standpipe</td>\n",
       "      <td>67743</td>\n",
       "      <td>non functional</td>\n",
       "      <td>[-11.15529772, 38.48616088]</td>\n",
       "      <td>0.001329</td>\n",
       "    </tr>\n",
       "    <tr>\n",
       "      <th>4</th>\n",
       "      <td>19728</td>\n",
       "      <td>0.0</td>\n",
       "      <td>2011-07-13</td>\n",
       "      <td>Action In A</td>\n",
       "      <td>0</td>\n",
       "      <td>Artisan</td>\n",
       "      <td>31.130847</td>\n",
       "      <td>-1.825359</td>\n",
       "      <td>Shuleni</td>\n",
       "      <td>0</td>\n",
       "      <td>...</td>\n",
       "      <td>seasonal</td>\n",
       "      <td>rainwater harvesting</td>\n",
       "      <td>rainwater harvesting</td>\n",
       "      <td>surface</td>\n",
       "      <td>communal standpipe</td>\n",
       "      <td>communal standpipe</td>\n",
       "      <td>19728</td>\n",
       "      <td>functional</td>\n",
       "      <td>[-1.82535885, 31.13084671]</td>\n",
       "      <td>0.005407</td>\n",
       "    </tr>\n",
       "  </tbody>\n",
       "</table>\n",
       "<p>5 rows × 44 columns</p>\n",
       "</div>"
      ],
      "text/plain": [
       "      id  amount_tsh date_recorded        funder  gps_height     installer  \\\n",
       "0  69572      6000.0    2011-03-14         Roman        1390         Roman   \n",
       "1   8776         0.0    2013-03-06       Grumeti        1399       GRUMETI   \n",
       "2  34310        25.0    2013-02-25  Lottery Club         686  World vision   \n",
       "3  67743         0.0    2013-01-28        Unicef         263        UNICEF   \n",
       "4  19728         0.0    2011-07-13   Action In A           0       Artisan   \n",
       "\n",
       "   longitude   latitude              wpt_name  num_private  ...  \\\n",
       "0  34.938093  -9.856322                  none            0  ...   \n",
       "1  34.698766  -2.147466              Zahanati            0  ...   \n",
       "2  37.460664  -3.821329           Kwa Mahundi            0  ...   \n",
       "3  38.486161 -11.155298  Zahanati Ya Nanyumbu            0  ...   \n",
       "4  31.130847  -1.825359               Shuleni            0  ...   \n",
       "\n",
       "  quantity_group                source           source_type  source_class  \\\n",
       "0         enough                spring                spring   groundwater   \n",
       "1   insufficient  rainwater harvesting  rainwater harvesting       surface   \n",
       "2         enough                   dam                   dam       surface   \n",
       "3            dry           machine dbh              borehole   groundwater   \n",
       "4       seasonal  rainwater harvesting  rainwater harvesting       surface   \n",
       "\n",
       "               waterpoint_type waterpoint_type_group id_label    status_group  \\\n",
       "0           communal standpipe    communal standpipe    69572      functional   \n",
       "1           communal standpipe    communal standpipe     8776      functional   \n",
       "2  communal standpipe multiple    communal standpipe    34310      functional   \n",
       "3  communal standpipe multiple    communal standpipe    67743  non functional   \n",
       "4           communal standpipe    communal standpipe    19728      functional   \n",
       "\n",
       "                   coordinates  distance  \n",
       "0   [-9.85632177, 34.93809275]  0.001616  \n",
       "1    [-2.14746569, 34.6987661]  0.000694  \n",
       "2   [-3.82132853, 37.46066446]  0.003466  \n",
       "3  [-11.15529772, 38.48616088]  0.001329  \n",
       "4   [-1.82535885, 31.13084671]  0.005407  \n",
       "\n",
       "[5 rows x 44 columns]"
      ]
     },
     "execution_count": 3,
     "metadata": {},
     "output_type": "execute_result"
    }
   ],
   "source": [
    "df.head()"
   ]
  },
  {
   "cell_type": "code",
   "execution_count": 4,
   "metadata": {},
   "outputs": [
    {
     "name": "stdout",
     "output_type": "stream",
     "text": [
      "<class 'pandas.core.frame.DataFrame'>\n",
      "Int64Index: 57588 entries, 0 to 59399\n",
      "Data columns (total 44 columns):\n",
      " #   Column                 Non-Null Count  Dtype  \n",
      "---  ------                 --------------  -----  \n",
      " 0   id                     57588 non-null  int64  \n",
      " 1   amount_tsh             57588 non-null  float64\n",
      " 2   date_recorded          57588 non-null  object \n",
      " 3   funder                 57588 non-null  object \n",
      " 4   gps_height             57588 non-null  int64  \n",
      " 5   installer              57588 non-null  object \n",
      " 6   longitude              57588 non-null  float64\n",
      " 7   latitude               57588 non-null  float64\n",
      " 8   wpt_name               57588 non-null  object \n",
      " 9   num_private            57588 non-null  int64  \n",
      " 10  basin                  57588 non-null  object \n",
      " 11  subvillage             57588 non-null  object \n",
      " 12  region                 57588 non-null  object \n",
      " 13  region_code            57588 non-null  int64  \n",
      " 14  district_code          57588 non-null  int64  \n",
      " 15  lga                    57588 non-null  object \n",
      " 16  ward                   57588 non-null  object \n",
      " 17  population             57588 non-null  int64  \n",
      " 18  public_meeting         57588 non-null  bool   \n",
      " 19  recorded_by            57588 non-null  object \n",
      " 20  scheme_management      57588 non-null  object \n",
      " 21  scheme_name            57588 non-null  object \n",
      " 22  permit                 57588 non-null  bool   \n",
      " 23  construction_year      57588 non-null  int64  \n",
      " 24  extraction_type        57588 non-null  object \n",
      " 25  extraction_type_group  57588 non-null  object \n",
      " 26  extraction_type_class  57588 non-null  object \n",
      " 27  management             57588 non-null  object \n",
      " 28  management_group       57588 non-null  object \n",
      " 29  payment                57588 non-null  object \n",
      " 30  payment_type           57588 non-null  object \n",
      " 31  water_quality          57588 non-null  object \n",
      " 32  quality_group          57588 non-null  object \n",
      " 33  quantity               57588 non-null  object \n",
      " 34  quantity_group         57588 non-null  object \n",
      " 35  source                 57588 non-null  object \n",
      " 36  source_type            57588 non-null  object \n",
      " 37  source_class           57588 non-null  object \n",
      " 38  waterpoint_type        57588 non-null  object \n",
      " 39  waterpoint_type_group  57588 non-null  object \n",
      " 40  id_label               57588 non-null  int64  \n",
      " 41  status_group           57588 non-null  object \n",
      " 42  coordinates            57588 non-null  object \n",
      " 43  distance               57588 non-null  float64\n",
      "dtypes: bool(2), float64(4), int64(8), object(30)\n",
      "memory usage: 19.0+ MB\n"
     ]
    }
   ],
   "source": [
    "df.info()"
   ]
  },
  {
   "cell_type": "code",
   "execution_count": 5,
   "metadata": {},
   "outputs": [
    {
     "data": {
      "text/plain": [
       "id                       0\n",
       "amount_tsh               0\n",
       "date_recorded            0\n",
       "funder                   0\n",
       "gps_height               0\n",
       "installer                0\n",
       "longitude                0\n",
       "latitude                 0\n",
       "wpt_name                 0\n",
       "num_private              0\n",
       "basin                    0\n",
       "subvillage               0\n",
       "region                   0\n",
       "region_code              0\n",
       "district_code            0\n",
       "lga                      0\n",
       "ward                     0\n",
       "population               0\n",
       "public_meeting           0\n",
       "recorded_by              0\n",
       "scheme_management        0\n",
       "scheme_name              0\n",
       "permit                   0\n",
       "construction_year        0\n",
       "extraction_type          0\n",
       "extraction_type_group    0\n",
       "extraction_type_class    0\n",
       "management               0\n",
       "management_group         0\n",
       "payment                  0\n",
       "payment_type             0\n",
       "water_quality            0\n",
       "quality_group            0\n",
       "quantity                 0\n",
       "quantity_group           0\n",
       "source                   0\n",
       "source_type              0\n",
       "source_class             0\n",
       "waterpoint_type          0\n",
       "waterpoint_type_group    0\n",
       "id_label                 0\n",
       "status_group             0\n",
       "coordinates              0\n",
       "distance                 0\n",
       "dtype: int64"
      ]
     },
     "execution_count": 5,
     "metadata": {},
     "output_type": "execute_result"
    }
   ],
   "source": [
    "df.isna().sum()"
   ]
  },
  {
   "cell_type": "code",
   "execution_count": 6,
   "metadata": {},
   "outputs": [],
   "source": [
    "df['region_code'] = df['region_code'].astype(str)\n",
    "df['district_code'] = df['district_code'].astype(str)"
   ]
  },
  {
   "cell_type": "markdown",
   "metadata": {},
   "source": [
    "# First Model"
   ]
  },
  {
   "cell_type": "markdown",
   "metadata": {},
   "source": [
    "## Setting up Pipelines"
   ]
  },
  {
   "cell_type": "markdown",
   "metadata": {},
   "source": [
    "First model will include the following features:\n",
    "    \n",
    "amount_tsh,\n",
    "installer, \n",
    "gps_height, \n",
    "basin, \n",
    "region, \n",
    "district_code, \n",
    "lga, \n",
    "population, \n",
    "public_meeting, \n",
    "management, \n",
    "permit, \n",
    "extraction_type, \n",
    "payment, \n",
    "water_quality, \n",
    "quantity, \n",
    "source, \n",
    "waterpoint_type\n",
    "\n",
    "With the target:\n",
    "status_group"
   ]
  },
  {
   "cell_type": "code",
   "execution_count": 7,
   "metadata": {},
   "outputs": [],
   "source": [
    "X = df.drop('status_group', axis=1)"
   ]
  },
  {
   "cell_type": "code",
   "execution_count": 8,
   "metadata": {},
   "outputs": [],
   "source": [
    "y = df['status_group']"
   ]
  },
  {
   "cell_type": "code",
   "execution_count": 9,
   "metadata": {},
   "outputs": [
    {
     "data": {
      "text/plain": [
       "17"
      ]
     },
     "execution_count": 9,
     "metadata": {},
     "output_type": "execute_result"
    }
   ],
   "source": [
    "picked_features = ['amount_tsh', 'installer',  'gps_height', 'basin', 'region', 'district_code', 'lga', 'population', \n",
    "                   'public_meeting', 'management', 'permit', 'extraction_type', 'payment', 'water_quality', 'quantity', \n",
    "                   'source', 'waterpoint_type']\n",
    "len(picked_features)"
   ]
  },
  {
   "cell_type": "code",
   "execution_count": 10,
   "metadata": {},
   "outputs": [],
   "source": [
    "X_train, X_test, y_train, y_test = train_test_split(X, y, random_state=42)"
   ]
  },
  {
   "cell_type": "code",
   "execution_count": 11,
   "metadata": {},
   "outputs": [],
   "source": [
    "X_picked = X[picked_features]"
   ]
  },
  {
   "cell_type": "code",
   "execution_count": 12,
   "metadata": {},
   "outputs": [
    {
     "data": {
      "text/html": [
       "<div>\n",
       "<style scoped>\n",
       "    .dataframe tbody tr th:only-of-type {\n",
       "        vertical-align: middle;\n",
       "    }\n",
       "\n",
       "    .dataframe tbody tr th {\n",
       "        vertical-align: top;\n",
       "    }\n",
       "\n",
       "    .dataframe thead th {\n",
       "        text-align: right;\n",
       "    }\n",
       "</style>\n",
       "<table border=\"1\" class=\"dataframe\">\n",
       "  <thead>\n",
       "    <tr style=\"text-align: right;\">\n",
       "      <th></th>\n",
       "      <th>amount_tsh</th>\n",
       "      <th>installer</th>\n",
       "      <th>gps_height</th>\n",
       "      <th>basin</th>\n",
       "      <th>region</th>\n",
       "      <th>district_code</th>\n",
       "      <th>lga</th>\n",
       "      <th>population</th>\n",
       "      <th>public_meeting</th>\n",
       "      <th>management</th>\n",
       "      <th>permit</th>\n",
       "      <th>extraction_type</th>\n",
       "      <th>payment</th>\n",
       "      <th>water_quality</th>\n",
       "      <th>quantity</th>\n",
       "      <th>source</th>\n",
       "      <th>waterpoint_type</th>\n",
       "    </tr>\n",
       "  </thead>\n",
       "  <tbody>\n",
       "    <tr>\n",
       "      <th>0</th>\n",
       "      <td>6000.0</td>\n",
       "      <td>Roman</td>\n",
       "      <td>1390</td>\n",
       "      <td>Lake Nyasa</td>\n",
       "      <td>Iringa</td>\n",
       "      <td>5</td>\n",
       "      <td>Ludewa</td>\n",
       "      <td>109</td>\n",
       "      <td>True</td>\n",
       "      <td>vwc</td>\n",
       "      <td>False</td>\n",
       "      <td>gravity</td>\n",
       "      <td>pay annually</td>\n",
       "      <td>soft</td>\n",
       "      <td>enough</td>\n",
       "      <td>spring</td>\n",
       "      <td>communal standpipe</td>\n",
       "    </tr>\n",
       "    <tr>\n",
       "      <th>1</th>\n",
       "      <td>0.0</td>\n",
       "      <td>GRUMETI</td>\n",
       "      <td>1399</td>\n",
       "      <td>Lake Victoria</td>\n",
       "      <td>Mara</td>\n",
       "      <td>2</td>\n",
       "      <td>Serengeti</td>\n",
       "      <td>280</td>\n",
       "      <td>True</td>\n",
       "      <td>wug</td>\n",
       "      <td>True</td>\n",
       "      <td>gravity</td>\n",
       "      <td>never pay</td>\n",
       "      <td>soft</td>\n",
       "      <td>insufficient</td>\n",
       "      <td>rainwater harvesting</td>\n",
       "      <td>communal standpipe</td>\n",
       "    </tr>\n",
       "    <tr>\n",
       "      <th>2</th>\n",
       "      <td>25.0</td>\n",
       "      <td>World vision</td>\n",
       "      <td>686</td>\n",
       "      <td>Pangani</td>\n",
       "      <td>Manyara</td>\n",
       "      <td>4</td>\n",
       "      <td>Simanjiro</td>\n",
       "      <td>250</td>\n",
       "      <td>True</td>\n",
       "      <td>vwc</td>\n",
       "      <td>True</td>\n",
       "      <td>gravity</td>\n",
       "      <td>pay per bucket</td>\n",
       "      <td>soft</td>\n",
       "      <td>enough</td>\n",
       "      <td>dam</td>\n",
       "      <td>communal standpipe multiple</td>\n",
       "    </tr>\n",
       "    <tr>\n",
       "      <th>3</th>\n",
       "      <td>0.0</td>\n",
       "      <td>UNICEF</td>\n",
       "      <td>263</td>\n",
       "      <td>Ruvuma / Southern Coast</td>\n",
       "      <td>Mtwara</td>\n",
       "      <td>63</td>\n",
       "      <td>Nanyumbu</td>\n",
       "      <td>58</td>\n",
       "      <td>True</td>\n",
       "      <td>vwc</td>\n",
       "      <td>True</td>\n",
       "      <td>submersible</td>\n",
       "      <td>never pay</td>\n",
       "      <td>soft</td>\n",
       "      <td>dry</td>\n",
       "      <td>machine dbh</td>\n",
       "      <td>communal standpipe multiple</td>\n",
       "    </tr>\n",
       "    <tr>\n",
       "      <th>4</th>\n",
       "      <td>0.0</td>\n",
       "      <td>Artisan</td>\n",
       "      <td>0</td>\n",
       "      <td>Lake Victoria</td>\n",
       "      <td>Kagera</td>\n",
       "      <td>1</td>\n",
       "      <td>Karagwe</td>\n",
       "      <td>0</td>\n",
       "      <td>True</td>\n",
       "      <td>other</td>\n",
       "      <td>True</td>\n",
       "      <td>gravity</td>\n",
       "      <td>never pay</td>\n",
       "      <td>soft</td>\n",
       "      <td>seasonal</td>\n",
       "      <td>rainwater harvesting</td>\n",
       "      <td>communal standpipe</td>\n",
       "    </tr>\n",
       "  </tbody>\n",
       "</table>\n",
       "</div>"
      ],
      "text/plain": [
       "   amount_tsh     installer  gps_height                    basin   region  \\\n",
       "0      6000.0         Roman        1390               Lake Nyasa   Iringa   \n",
       "1         0.0       GRUMETI        1399            Lake Victoria     Mara   \n",
       "2        25.0  World vision         686                  Pangani  Manyara   \n",
       "3         0.0        UNICEF         263  Ruvuma / Southern Coast   Mtwara   \n",
       "4         0.0       Artisan           0            Lake Victoria   Kagera   \n",
       "\n",
       "  district_code        lga  population  public_meeting management  permit  \\\n",
       "0             5     Ludewa         109            True        vwc   False   \n",
       "1             2  Serengeti         280            True        wug    True   \n",
       "2             4  Simanjiro         250            True        vwc    True   \n",
       "3            63   Nanyumbu          58            True        vwc    True   \n",
       "4             1    Karagwe           0            True      other    True   \n",
       "\n",
       "  extraction_type         payment water_quality      quantity  \\\n",
       "0         gravity    pay annually          soft        enough   \n",
       "1         gravity       never pay          soft  insufficient   \n",
       "2         gravity  pay per bucket          soft        enough   \n",
       "3     submersible       never pay          soft           dry   \n",
       "4         gravity       never pay          soft      seasonal   \n",
       "\n",
       "                 source              waterpoint_type  \n",
       "0                spring           communal standpipe  \n",
       "1  rainwater harvesting           communal standpipe  \n",
       "2                   dam  communal standpipe multiple  \n",
       "3           machine dbh  communal standpipe multiple  \n",
       "4  rainwater harvesting           communal standpipe  "
      ]
     },
     "execution_count": 12,
     "metadata": {},
     "output_type": "execute_result"
    }
   ],
   "source": [
    "X_picked.head()"
   ]
  },
  {
   "cell_type": "code",
   "execution_count": 13,
   "metadata": {
    "scrolled": true
   },
   "outputs": [
    {
     "data": {
      "text/html": [
       "<div>\n",
       "<style scoped>\n",
       "    .dataframe tbody tr th:only-of-type {\n",
       "        vertical-align: middle;\n",
       "    }\n",
       "\n",
       "    .dataframe tbody tr th {\n",
       "        vertical-align: top;\n",
       "    }\n",
       "\n",
       "    .dataframe thead th {\n",
       "        text-align: right;\n",
       "    }\n",
       "</style>\n",
       "<table border=\"1\" class=\"dataframe\">\n",
       "  <thead>\n",
       "    <tr style=\"text-align: right;\">\n",
       "      <th></th>\n",
       "      <th>amount_tsh</th>\n",
       "      <th>gps_height</th>\n",
       "      <th>population</th>\n",
       "    </tr>\n",
       "  </thead>\n",
       "  <tbody>\n",
       "    <tr>\n",
       "      <th>0</th>\n",
       "      <td>6000.0</td>\n",
       "      <td>1390</td>\n",
       "      <td>109</td>\n",
       "    </tr>\n",
       "    <tr>\n",
       "      <th>1</th>\n",
       "      <td>0.0</td>\n",
       "      <td>1399</td>\n",
       "      <td>280</td>\n",
       "    </tr>\n",
       "    <tr>\n",
       "      <th>2</th>\n",
       "      <td>25.0</td>\n",
       "      <td>686</td>\n",
       "      <td>250</td>\n",
       "    </tr>\n",
       "    <tr>\n",
       "      <th>3</th>\n",
       "      <td>0.0</td>\n",
       "      <td>263</td>\n",
       "      <td>58</td>\n",
       "    </tr>\n",
       "    <tr>\n",
       "      <th>4</th>\n",
       "      <td>0.0</td>\n",
       "      <td>0</td>\n",
       "      <td>0</td>\n",
       "    </tr>\n",
       "  </tbody>\n",
       "</table>\n",
       "</div>"
      ],
      "text/plain": [
       "   amount_tsh  gps_height  population\n",
       "0      6000.0        1390         109\n",
       "1         0.0        1399         280\n",
       "2        25.0         686         250\n",
       "3         0.0         263          58\n",
       "4         0.0           0           0"
      ]
     },
     "execution_count": 13,
     "metadata": {},
     "output_type": "execute_result"
    }
   ],
   "source": [
    "X_num = X_picked.select_dtypes(include='number')\n",
    "X_num.head()"
   ]
  },
  {
   "cell_type": "code",
   "execution_count": 14,
   "metadata": {},
   "outputs": [
    {
     "data": {
      "text/plain": [
       "['amount_tsh', 'gps_height', 'population']"
      ]
     },
     "execution_count": 14,
     "metadata": {},
     "output_type": "execute_result"
    }
   ],
   "source": [
    "num_cols = list(X_num.columns)\n",
    "num_cols"
   ]
  },
  {
   "cell_type": "code",
   "execution_count": 15,
   "metadata": {},
   "outputs": [
    {
     "data": {
      "text/html": [
       "<div>\n",
       "<style scoped>\n",
       "    .dataframe tbody tr th:only-of-type {\n",
       "        vertical-align: middle;\n",
       "    }\n",
       "\n",
       "    .dataframe tbody tr th {\n",
       "        vertical-align: top;\n",
       "    }\n",
       "\n",
       "    .dataframe thead th {\n",
       "        text-align: right;\n",
       "    }\n",
       "</style>\n",
       "<table border=\"1\" class=\"dataframe\">\n",
       "  <thead>\n",
       "    <tr style=\"text-align: right;\">\n",
       "      <th></th>\n",
       "      <th>installer</th>\n",
       "      <th>basin</th>\n",
       "      <th>region</th>\n",
       "      <th>district_code</th>\n",
       "      <th>lga</th>\n",
       "      <th>management</th>\n",
       "      <th>extraction_type</th>\n",
       "      <th>payment</th>\n",
       "      <th>water_quality</th>\n",
       "      <th>quantity</th>\n",
       "      <th>source</th>\n",
       "      <th>waterpoint_type</th>\n",
       "    </tr>\n",
       "  </thead>\n",
       "  <tbody>\n",
       "    <tr>\n",
       "      <th>0</th>\n",
       "      <td>Roman</td>\n",
       "      <td>Lake Nyasa</td>\n",
       "      <td>Iringa</td>\n",
       "      <td>5</td>\n",
       "      <td>Ludewa</td>\n",
       "      <td>vwc</td>\n",
       "      <td>gravity</td>\n",
       "      <td>pay annually</td>\n",
       "      <td>soft</td>\n",
       "      <td>enough</td>\n",
       "      <td>spring</td>\n",
       "      <td>communal standpipe</td>\n",
       "    </tr>\n",
       "    <tr>\n",
       "      <th>1</th>\n",
       "      <td>GRUMETI</td>\n",
       "      <td>Lake Victoria</td>\n",
       "      <td>Mara</td>\n",
       "      <td>2</td>\n",
       "      <td>Serengeti</td>\n",
       "      <td>wug</td>\n",
       "      <td>gravity</td>\n",
       "      <td>never pay</td>\n",
       "      <td>soft</td>\n",
       "      <td>insufficient</td>\n",
       "      <td>rainwater harvesting</td>\n",
       "      <td>communal standpipe</td>\n",
       "    </tr>\n",
       "    <tr>\n",
       "      <th>2</th>\n",
       "      <td>World vision</td>\n",
       "      <td>Pangani</td>\n",
       "      <td>Manyara</td>\n",
       "      <td>4</td>\n",
       "      <td>Simanjiro</td>\n",
       "      <td>vwc</td>\n",
       "      <td>gravity</td>\n",
       "      <td>pay per bucket</td>\n",
       "      <td>soft</td>\n",
       "      <td>enough</td>\n",
       "      <td>dam</td>\n",
       "      <td>communal standpipe multiple</td>\n",
       "    </tr>\n",
       "    <tr>\n",
       "      <th>3</th>\n",
       "      <td>UNICEF</td>\n",
       "      <td>Ruvuma / Southern Coast</td>\n",
       "      <td>Mtwara</td>\n",
       "      <td>63</td>\n",
       "      <td>Nanyumbu</td>\n",
       "      <td>vwc</td>\n",
       "      <td>submersible</td>\n",
       "      <td>never pay</td>\n",
       "      <td>soft</td>\n",
       "      <td>dry</td>\n",
       "      <td>machine dbh</td>\n",
       "      <td>communal standpipe multiple</td>\n",
       "    </tr>\n",
       "    <tr>\n",
       "      <th>4</th>\n",
       "      <td>Artisan</td>\n",
       "      <td>Lake Victoria</td>\n",
       "      <td>Kagera</td>\n",
       "      <td>1</td>\n",
       "      <td>Karagwe</td>\n",
       "      <td>other</td>\n",
       "      <td>gravity</td>\n",
       "      <td>never pay</td>\n",
       "      <td>soft</td>\n",
       "      <td>seasonal</td>\n",
       "      <td>rainwater harvesting</td>\n",
       "      <td>communal standpipe</td>\n",
       "    </tr>\n",
       "  </tbody>\n",
       "</table>\n",
       "</div>"
      ],
      "text/plain": [
       "      installer                    basin   region district_code        lga  \\\n",
       "0         Roman               Lake Nyasa   Iringa             5     Ludewa   \n",
       "1       GRUMETI            Lake Victoria     Mara             2  Serengeti   \n",
       "2  World vision                  Pangani  Manyara             4  Simanjiro   \n",
       "3        UNICEF  Ruvuma / Southern Coast   Mtwara            63   Nanyumbu   \n",
       "4       Artisan            Lake Victoria   Kagera             1    Karagwe   \n",
       "\n",
       "  management extraction_type         payment water_quality      quantity  \\\n",
       "0        vwc         gravity    pay annually          soft        enough   \n",
       "1        wug         gravity       never pay          soft  insufficient   \n",
       "2        vwc         gravity  pay per bucket          soft        enough   \n",
       "3        vwc     submersible       never pay          soft           dry   \n",
       "4      other         gravity       never pay          soft      seasonal   \n",
       "\n",
       "                 source              waterpoint_type  \n",
       "0                spring           communal standpipe  \n",
       "1  rainwater harvesting           communal standpipe  \n",
       "2                   dam  communal standpipe multiple  \n",
       "3           machine dbh  communal standpipe multiple  \n",
       "4  rainwater harvesting           communal standpipe  "
      ]
     },
     "execution_count": 15,
     "metadata": {},
     "output_type": "execute_result"
    }
   ],
   "source": [
    "X_cat = X_picked.select_dtypes(include='object')\n",
    "X_cat.head()"
   ]
  },
  {
   "cell_type": "code",
   "execution_count": 16,
   "metadata": {},
   "outputs": [
    {
     "data": {
      "text/plain": [
       "['installer',\n",
       " 'basin',\n",
       " 'region',\n",
       " 'district_code',\n",
       " 'lga',\n",
       " 'management',\n",
       " 'extraction_type',\n",
       " 'payment',\n",
       " 'water_quality',\n",
       " 'quantity',\n",
       " 'source',\n",
       " 'waterpoint_type']"
      ]
     },
     "execution_count": 16,
     "metadata": {},
     "output_type": "execute_result"
    }
   ],
   "source": [
    "cat_cols = list(X_cat.columns)\n",
    "cat_cols"
   ]
  },
  {
   "cell_type": "code",
   "execution_count": 17,
   "metadata": {},
   "outputs": [
    {
     "data": {
      "text/html": [
       "<div>\n",
       "<style scoped>\n",
       "    .dataframe tbody tr th:only-of-type {\n",
       "        vertical-align: middle;\n",
       "    }\n",
       "\n",
       "    .dataframe tbody tr th {\n",
       "        vertical-align: top;\n",
       "    }\n",
       "\n",
       "    .dataframe thead th {\n",
       "        text-align: right;\n",
       "    }\n",
       "</style>\n",
       "<table border=\"1\" class=\"dataframe\">\n",
       "  <thead>\n",
       "    <tr style=\"text-align: right;\">\n",
       "      <th></th>\n",
       "      <th>public_meeting</th>\n",
       "      <th>permit</th>\n",
       "    </tr>\n",
       "  </thead>\n",
       "  <tbody>\n",
       "    <tr>\n",
       "      <th>0</th>\n",
       "      <td>True</td>\n",
       "      <td>False</td>\n",
       "    </tr>\n",
       "    <tr>\n",
       "      <th>1</th>\n",
       "      <td>True</td>\n",
       "      <td>True</td>\n",
       "    </tr>\n",
       "    <tr>\n",
       "      <th>2</th>\n",
       "      <td>True</td>\n",
       "      <td>True</td>\n",
       "    </tr>\n",
       "    <tr>\n",
       "      <th>3</th>\n",
       "      <td>True</td>\n",
       "      <td>True</td>\n",
       "    </tr>\n",
       "    <tr>\n",
       "      <th>4</th>\n",
       "      <td>True</td>\n",
       "      <td>True</td>\n",
       "    </tr>\n",
       "  </tbody>\n",
       "</table>\n",
       "</div>"
      ],
      "text/plain": [
       "   public_meeting  permit\n",
       "0            True   False\n",
       "1            True    True\n",
       "2            True    True\n",
       "3            True    True\n",
       "4            True    True"
      ]
     },
     "execution_count": 17,
     "metadata": {},
     "output_type": "execute_result"
    }
   ],
   "source": [
    "X_bool = X_picked.select_dtypes(include='boolean')\n",
    "X_bool.head()"
   ]
  },
  {
   "cell_type": "code",
   "execution_count": 18,
   "metadata": {},
   "outputs": [
    {
     "data": {
      "text/plain": [
       "['public_meeting', 'permit']"
      ]
     },
     "execution_count": 18,
     "metadata": {},
     "output_type": "execute_result"
    }
   ],
   "source": [
    "bool_cols = list(X_bool.columns)\n",
    "bool_cols"
   ]
  },
  {
   "cell_type": "code",
   "execution_count": 19,
   "metadata": {},
   "outputs": [],
   "source": [
    "#create subpipes for numeric and categorical features\n",
    "#StandardScaler on numerical features\n",
    "subpipe_num = Pipeline(steps=[('ss', StandardScaler() )])\n",
    "#OHE categorical features, handle_unknown = ignore, drop first if binary\n",
    "subpipe_cat = Pipeline(steps=[('ohe', OneHotEncoder(sparse=False, handle_unknown='ignore') )])\n",
    "#boolean pipeline with ordinal encoder\n",
    "subpipe_bool = Pipeline(steps=[('ord', OrdinalEncoder() )])"
   ]
  },
  {
   "cell_type": "code",
   "execution_count": 24,
   "metadata": {},
   "outputs": [],
   "source": [
    "CT = ColumnTransformer(transformers=[('subpipe_num', subpipe_num, num_cols),\n",
    "                                     ('subpipe_cat', subpipe_cat, cat_cols),\n",
    "                                     ('subpipe_bool', subpipe_bool, bool_cols)],\n",
    "                       remainder='drop')"
   ]
  },
  {
   "cell_type": "code",
   "execution_count": 20,
   "metadata": {},
   "outputs": [],
   "source": [
    "rfc = RandomForestClassifier(random_state=42)\n",
    "\n",
    "first_model_pipe = Pipeline(steps = [('ct', CT),\n",
    "                            ('rfc', rfc )])"
   ]
  },
  {
   "cell_type": "code",
   "execution_count": 32,
   "metadata": {
    "scrolled": true
   },
   "outputs": [
    {
     "ename": "KeyboardInterrupt",
     "evalue": "",
     "output_type": "error",
     "traceback": [
      "\u001b[1;31m---------------------------------------------------------------------------\u001b[0m",
      "\u001b[1;31mKeyboardInterrupt\u001b[0m                         Traceback (most recent call last)",
      "\u001b[1;32m<ipython-input-32-9ccc13a22435>\u001b[0m in \u001b[0;36m<module>\u001b[1;34m\u001b[0m\n\u001b[1;32m----> 1\u001b[1;33m \u001b[0mfirst_model_pipe\u001b[0m\u001b[1;33m.\u001b[0m\u001b[0mfit\u001b[0m\u001b[1;33m(\u001b[0m\u001b[0mX_train\u001b[0m\u001b[1;33m,\u001b[0m \u001b[0my_train\u001b[0m\u001b[1;33m)\u001b[0m\u001b[1;33m\u001b[0m\u001b[1;33m\u001b[0m\u001b[0m\n\u001b[0m",
      "\u001b[1;32m~\\anaconda3\\envs\\learn-env\\lib\\site-packages\\sklearn\\pipeline.py\u001b[0m in \u001b[0;36mfit\u001b[1;34m(self, X, y, **fit_params)\u001b[0m\n\u001b[0;32m    333\u001b[0m             \u001b[1;32mif\u001b[0m \u001b[0mself\u001b[0m\u001b[1;33m.\u001b[0m\u001b[0m_final_estimator\u001b[0m \u001b[1;33m!=\u001b[0m \u001b[1;34m'passthrough'\u001b[0m\u001b[1;33m:\u001b[0m\u001b[1;33m\u001b[0m\u001b[1;33m\u001b[0m\u001b[0m\n\u001b[0;32m    334\u001b[0m                 \u001b[0mfit_params_last_step\u001b[0m \u001b[1;33m=\u001b[0m \u001b[0mfit_params_steps\u001b[0m\u001b[1;33m[\u001b[0m\u001b[0mself\u001b[0m\u001b[1;33m.\u001b[0m\u001b[0msteps\u001b[0m\u001b[1;33m[\u001b[0m\u001b[1;33m-\u001b[0m\u001b[1;36m1\u001b[0m\u001b[1;33m]\u001b[0m\u001b[1;33m[\u001b[0m\u001b[1;36m0\u001b[0m\u001b[1;33m]\u001b[0m\u001b[1;33m]\u001b[0m\u001b[1;33m\u001b[0m\u001b[1;33m\u001b[0m\u001b[0m\n\u001b[1;32m--> 335\u001b[1;33m                 \u001b[0mself\u001b[0m\u001b[1;33m.\u001b[0m\u001b[0m_final_estimator\u001b[0m\u001b[1;33m.\u001b[0m\u001b[0mfit\u001b[0m\u001b[1;33m(\u001b[0m\u001b[0mXt\u001b[0m\u001b[1;33m,\u001b[0m \u001b[0my\u001b[0m\u001b[1;33m,\u001b[0m \u001b[1;33m**\u001b[0m\u001b[0mfit_params_last_step\u001b[0m\u001b[1;33m)\u001b[0m\u001b[1;33m\u001b[0m\u001b[1;33m\u001b[0m\u001b[0m\n\u001b[0m\u001b[0;32m    336\u001b[0m \u001b[1;33m\u001b[0m\u001b[0m\n\u001b[0;32m    337\u001b[0m         \u001b[1;32mreturn\u001b[0m \u001b[0mself\u001b[0m\u001b[1;33m\u001b[0m\u001b[1;33m\u001b[0m\u001b[0m\n",
      "\u001b[1;32m~\\anaconda3\\envs\\learn-env\\lib\\site-packages\\sklearn\\ensemble\\_forest.py\u001b[0m in \u001b[0;36mfit\u001b[1;34m(self, X, y, sample_weight)\u001b[0m\n\u001b[0;32m    384\u001b[0m             \u001b[1;31m# parallel_backend contexts set at a higher level,\u001b[0m\u001b[1;33m\u001b[0m\u001b[1;33m\u001b[0m\u001b[1;33m\u001b[0m\u001b[0m\n\u001b[0;32m    385\u001b[0m             \u001b[1;31m# since correctness does not rely on using threads.\u001b[0m\u001b[1;33m\u001b[0m\u001b[1;33m\u001b[0m\u001b[1;33m\u001b[0m\u001b[0m\n\u001b[1;32m--> 386\u001b[1;33m             trees = Parallel(n_jobs=self.n_jobs, verbose=self.verbose,\n\u001b[0m\u001b[0;32m    387\u001b[0m                              \u001b[1;33m**\u001b[0m\u001b[0m_joblib_parallel_args\u001b[0m\u001b[1;33m(\u001b[0m\u001b[0mprefer\u001b[0m\u001b[1;33m=\u001b[0m\u001b[1;34m'threads'\u001b[0m\u001b[1;33m)\u001b[0m\u001b[1;33m)\u001b[0m\u001b[1;33m(\u001b[0m\u001b[1;33m\u001b[0m\u001b[1;33m\u001b[0m\u001b[0m\n\u001b[0;32m    388\u001b[0m                 delayed(_parallel_build_trees)(\n",
      "\u001b[1;32m~\\anaconda3\\envs\\learn-env\\lib\\site-packages\\joblib\\parallel.py\u001b[0m in \u001b[0;36m__call__\u001b[1;34m(self, iterable)\u001b[0m\n\u001b[0;32m   1049\u001b[0m                 \u001b[0mself\u001b[0m\u001b[1;33m.\u001b[0m\u001b[0m_iterating\u001b[0m \u001b[1;33m=\u001b[0m \u001b[0mself\u001b[0m\u001b[1;33m.\u001b[0m\u001b[0m_original_iterator\u001b[0m \u001b[1;32mis\u001b[0m \u001b[1;32mnot\u001b[0m \u001b[1;32mNone\u001b[0m\u001b[1;33m\u001b[0m\u001b[1;33m\u001b[0m\u001b[0m\n\u001b[0;32m   1050\u001b[0m \u001b[1;33m\u001b[0m\u001b[0m\n\u001b[1;32m-> 1051\u001b[1;33m             \u001b[1;32mwhile\u001b[0m \u001b[0mself\u001b[0m\u001b[1;33m.\u001b[0m\u001b[0mdispatch_one_batch\u001b[0m\u001b[1;33m(\u001b[0m\u001b[0miterator\u001b[0m\u001b[1;33m)\u001b[0m\u001b[1;33m:\u001b[0m\u001b[1;33m\u001b[0m\u001b[1;33m\u001b[0m\u001b[0m\n\u001b[0m\u001b[0;32m   1052\u001b[0m                 \u001b[1;32mpass\u001b[0m\u001b[1;33m\u001b[0m\u001b[1;33m\u001b[0m\u001b[0m\n\u001b[0;32m   1053\u001b[0m \u001b[1;33m\u001b[0m\u001b[0m\n",
      "\u001b[1;32m~\\anaconda3\\envs\\learn-env\\lib\\site-packages\\joblib\\parallel.py\u001b[0m in \u001b[0;36mdispatch_one_batch\u001b[1;34m(self, iterator)\u001b[0m\n\u001b[0;32m    864\u001b[0m                 \u001b[1;32mreturn\u001b[0m \u001b[1;32mFalse\u001b[0m\u001b[1;33m\u001b[0m\u001b[1;33m\u001b[0m\u001b[0m\n\u001b[0;32m    865\u001b[0m             \u001b[1;32melse\u001b[0m\u001b[1;33m:\u001b[0m\u001b[1;33m\u001b[0m\u001b[1;33m\u001b[0m\u001b[0m\n\u001b[1;32m--> 866\u001b[1;33m                 \u001b[0mself\u001b[0m\u001b[1;33m.\u001b[0m\u001b[0m_dispatch\u001b[0m\u001b[1;33m(\u001b[0m\u001b[0mtasks\u001b[0m\u001b[1;33m)\u001b[0m\u001b[1;33m\u001b[0m\u001b[1;33m\u001b[0m\u001b[0m\n\u001b[0m\u001b[0;32m    867\u001b[0m                 \u001b[1;32mreturn\u001b[0m \u001b[1;32mTrue\u001b[0m\u001b[1;33m\u001b[0m\u001b[1;33m\u001b[0m\u001b[0m\n\u001b[0;32m    868\u001b[0m \u001b[1;33m\u001b[0m\u001b[0m\n",
      "\u001b[1;32m~\\anaconda3\\envs\\learn-env\\lib\\site-packages\\joblib\\parallel.py\u001b[0m in \u001b[0;36m_dispatch\u001b[1;34m(self, batch)\u001b[0m\n\u001b[0;32m    782\u001b[0m         \u001b[1;32mwith\u001b[0m \u001b[0mself\u001b[0m\u001b[1;33m.\u001b[0m\u001b[0m_lock\u001b[0m\u001b[1;33m:\u001b[0m\u001b[1;33m\u001b[0m\u001b[1;33m\u001b[0m\u001b[0m\n\u001b[0;32m    783\u001b[0m             \u001b[0mjob_idx\u001b[0m \u001b[1;33m=\u001b[0m \u001b[0mlen\u001b[0m\u001b[1;33m(\u001b[0m\u001b[0mself\u001b[0m\u001b[1;33m.\u001b[0m\u001b[0m_jobs\u001b[0m\u001b[1;33m)\u001b[0m\u001b[1;33m\u001b[0m\u001b[1;33m\u001b[0m\u001b[0m\n\u001b[1;32m--> 784\u001b[1;33m             \u001b[0mjob\u001b[0m \u001b[1;33m=\u001b[0m \u001b[0mself\u001b[0m\u001b[1;33m.\u001b[0m\u001b[0m_backend\u001b[0m\u001b[1;33m.\u001b[0m\u001b[0mapply_async\u001b[0m\u001b[1;33m(\u001b[0m\u001b[0mbatch\u001b[0m\u001b[1;33m,\u001b[0m \u001b[0mcallback\u001b[0m\u001b[1;33m=\u001b[0m\u001b[0mcb\u001b[0m\u001b[1;33m)\u001b[0m\u001b[1;33m\u001b[0m\u001b[1;33m\u001b[0m\u001b[0m\n\u001b[0m\u001b[0;32m    785\u001b[0m             \u001b[1;31m# A job can complete so quickly than its callback is\u001b[0m\u001b[1;33m\u001b[0m\u001b[1;33m\u001b[0m\u001b[1;33m\u001b[0m\u001b[0m\n\u001b[0;32m    786\u001b[0m             \u001b[1;31m# called before we get here, causing self._jobs to\u001b[0m\u001b[1;33m\u001b[0m\u001b[1;33m\u001b[0m\u001b[1;33m\u001b[0m\u001b[0m\n",
      "\u001b[1;32m~\\anaconda3\\envs\\learn-env\\lib\\site-packages\\joblib\\_parallel_backends.py\u001b[0m in \u001b[0;36mapply_async\u001b[1;34m(self, func, callback)\u001b[0m\n\u001b[0;32m    206\u001b[0m     \u001b[1;32mdef\u001b[0m \u001b[0mapply_async\u001b[0m\u001b[1;33m(\u001b[0m\u001b[0mself\u001b[0m\u001b[1;33m,\u001b[0m \u001b[0mfunc\u001b[0m\u001b[1;33m,\u001b[0m \u001b[0mcallback\u001b[0m\u001b[1;33m=\u001b[0m\u001b[1;32mNone\u001b[0m\u001b[1;33m)\u001b[0m\u001b[1;33m:\u001b[0m\u001b[1;33m\u001b[0m\u001b[1;33m\u001b[0m\u001b[0m\n\u001b[0;32m    207\u001b[0m         \u001b[1;34m\"\"\"Schedule a func to be run\"\"\"\u001b[0m\u001b[1;33m\u001b[0m\u001b[1;33m\u001b[0m\u001b[0m\n\u001b[1;32m--> 208\u001b[1;33m         \u001b[0mresult\u001b[0m \u001b[1;33m=\u001b[0m \u001b[0mImmediateResult\u001b[0m\u001b[1;33m(\u001b[0m\u001b[0mfunc\u001b[0m\u001b[1;33m)\u001b[0m\u001b[1;33m\u001b[0m\u001b[1;33m\u001b[0m\u001b[0m\n\u001b[0m\u001b[0;32m    209\u001b[0m         \u001b[1;32mif\u001b[0m \u001b[0mcallback\u001b[0m\u001b[1;33m:\u001b[0m\u001b[1;33m\u001b[0m\u001b[1;33m\u001b[0m\u001b[0m\n\u001b[0;32m    210\u001b[0m             \u001b[0mcallback\u001b[0m\u001b[1;33m(\u001b[0m\u001b[0mresult\u001b[0m\u001b[1;33m)\u001b[0m\u001b[1;33m\u001b[0m\u001b[1;33m\u001b[0m\u001b[0m\n",
      "\u001b[1;32m~\\anaconda3\\envs\\learn-env\\lib\\site-packages\\joblib\\_parallel_backends.py\u001b[0m in \u001b[0;36m__init__\u001b[1;34m(self, batch)\u001b[0m\n\u001b[0;32m    570\u001b[0m         \u001b[1;31m# Don't delay the application, to avoid keeping the input\u001b[0m\u001b[1;33m\u001b[0m\u001b[1;33m\u001b[0m\u001b[1;33m\u001b[0m\u001b[0m\n\u001b[0;32m    571\u001b[0m         \u001b[1;31m# arguments in memory\u001b[0m\u001b[1;33m\u001b[0m\u001b[1;33m\u001b[0m\u001b[1;33m\u001b[0m\u001b[0m\n\u001b[1;32m--> 572\u001b[1;33m         \u001b[0mself\u001b[0m\u001b[1;33m.\u001b[0m\u001b[0mresults\u001b[0m \u001b[1;33m=\u001b[0m \u001b[0mbatch\u001b[0m\u001b[1;33m(\u001b[0m\u001b[1;33m)\u001b[0m\u001b[1;33m\u001b[0m\u001b[1;33m\u001b[0m\u001b[0m\n\u001b[0m\u001b[0;32m    573\u001b[0m \u001b[1;33m\u001b[0m\u001b[0m\n\u001b[0;32m    574\u001b[0m     \u001b[1;32mdef\u001b[0m \u001b[0mget\u001b[0m\u001b[1;33m(\u001b[0m\u001b[0mself\u001b[0m\u001b[1;33m)\u001b[0m\u001b[1;33m:\u001b[0m\u001b[1;33m\u001b[0m\u001b[1;33m\u001b[0m\u001b[0m\n",
      "\u001b[1;32m~\\anaconda3\\envs\\learn-env\\lib\\site-packages\\joblib\\parallel.py\u001b[0m in \u001b[0;36m__call__\u001b[1;34m(self)\u001b[0m\n\u001b[0;32m    260\u001b[0m         \u001b[1;31m# change the default number of processes to -1\u001b[0m\u001b[1;33m\u001b[0m\u001b[1;33m\u001b[0m\u001b[1;33m\u001b[0m\u001b[0m\n\u001b[0;32m    261\u001b[0m         \u001b[1;32mwith\u001b[0m \u001b[0mparallel_backend\u001b[0m\u001b[1;33m(\u001b[0m\u001b[0mself\u001b[0m\u001b[1;33m.\u001b[0m\u001b[0m_backend\u001b[0m\u001b[1;33m,\u001b[0m \u001b[0mn_jobs\u001b[0m\u001b[1;33m=\u001b[0m\u001b[0mself\u001b[0m\u001b[1;33m.\u001b[0m\u001b[0m_n_jobs\u001b[0m\u001b[1;33m)\u001b[0m\u001b[1;33m:\u001b[0m\u001b[1;33m\u001b[0m\u001b[1;33m\u001b[0m\u001b[0m\n\u001b[1;32m--> 262\u001b[1;33m             return [func(*args, **kwargs)\n\u001b[0m\u001b[0;32m    263\u001b[0m                     for func, args, kwargs in self.items]\n\u001b[0;32m    264\u001b[0m \u001b[1;33m\u001b[0m\u001b[0m\n",
      "\u001b[1;32m~\\anaconda3\\envs\\learn-env\\lib\\site-packages\\joblib\\parallel.py\u001b[0m in \u001b[0;36m<listcomp>\u001b[1;34m(.0)\u001b[0m\n\u001b[0;32m    260\u001b[0m         \u001b[1;31m# change the default number of processes to -1\u001b[0m\u001b[1;33m\u001b[0m\u001b[1;33m\u001b[0m\u001b[1;33m\u001b[0m\u001b[0m\n\u001b[0;32m    261\u001b[0m         \u001b[1;32mwith\u001b[0m \u001b[0mparallel_backend\u001b[0m\u001b[1;33m(\u001b[0m\u001b[0mself\u001b[0m\u001b[1;33m.\u001b[0m\u001b[0m_backend\u001b[0m\u001b[1;33m,\u001b[0m \u001b[0mn_jobs\u001b[0m\u001b[1;33m=\u001b[0m\u001b[0mself\u001b[0m\u001b[1;33m.\u001b[0m\u001b[0m_n_jobs\u001b[0m\u001b[1;33m)\u001b[0m\u001b[1;33m:\u001b[0m\u001b[1;33m\u001b[0m\u001b[1;33m\u001b[0m\u001b[0m\n\u001b[1;32m--> 262\u001b[1;33m             return [func(*args, **kwargs)\n\u001b[0m\u001b[0;32m    263\u001b[0m                     for func, args, kwargs in self.items]\n\u001b[0;32m    264\u001b[0m \u001b[1;33m\u001b[0m\u001b[0m\n",
      "\u001b[1;32m~\\anaconda3\\envs\\learn-env\\lib\\site-packages\\sklearn\\ensemble\\_forest.py\u001b[0m in \u001b[0;36m_parallel_build_trees\u001b[1;34m(tree, forest, X, y, sample_weight, tree_idx, n_trees, verbose, class_weight, n_samples_bootstrap)\u001b[0m\n\u001b[0;32m    166\u001b[0m                                                         indices=indices)\n\u001b[0;32m    167\u001b[0m \u001b[1;33m\u001b[0m\u001b[0m\n\u001b[1;32m--> 168\u001b[1;33m         \u001b[0mtree\u001b[0m\u001b[1;33m.\u001b[0m\u001b[0mfit\u001b[0m\u001b[1;33m(\u001b[0m\u001b[0mX\u001b[0m\u001b[1;33m,\u001b[0m \u001b[0my\u001b[0m\u001b[1;33m,\u001b[0m \u001b[0msample_weight\u001b[0m\u001b[1;33m=\u001b[0m\u001b[0mcurr_sample_weight\u001b[0m\u001b[1;33m,\u001b[0m \u001b[0mcheck_input\u001b[0m\u001b[1;33m=\u001b[0m\u001b[1;32mFalse\u001b[0m\u001b[1;33m)\u001b[0m\u001b[1;33m\u001b[0m\u001b[1;33m\u001b[0m\u001b[0m\n\u001b[0m\u001b[0;32m    169\u001b[0m     \u001b[1;32melse\u001b[0m\u001b[1;33m:\u001b[0m\u001b[1;33m\u001b[0m\u001b[1;33m\u001b[0m\u001b[0m\n\u001b[0;32m    170\u001b[0m         \u001b[0mtree\u001b[0m\u001b[1;33m.\u001b[0m\u001b[0mfit\u001b[0m\u001b[1;33m(\u001b[0m\u001b[0mX\u001b[0m\u001b[1;33m,\u001b[0m \u001b[0my\u001b[0m\u001b[1;33m,\u001b[0m \u001b[0msample_weight\u001b[0m\u001b[1;33m=\u001b[0m\u001b[0msample_weight\u001b[0m\u001b[1;33m,\u001b[0m \u001b[0mcheck_input\u001b[0m\u001b[1;33m=\u001b[0m\u001b[1;32mFalse\u001b[0m\u001b[1;33m)\u001b[0m\u001b[1;33m\u001b[0m\u001b[1;33m\u001b[0m\u001b[0m\n",
      "\u001b[1;32m~\\anaconda3\\envs\\learn-env\\lib\\site-packages\\sklearn\\tree\\_classes.py\u001b[0m in \u001b[0;36mfit\u001b[1;34m(self, X, y, sample_weight, check_input, X_idx_sorted)\u001b[0m\n\u001b[0;32m    888\u001b[0m         \"\"\"\n\u001b[0;32m    889\u001b[0m \u001b[1;33m\u001b[0m\u001b[0m\n\u001b[1;32m--> 890\u001b[1;33m         super().fit(\n\u001b[0m\u001b[0;32m    891\u001b[0m             \u001b[0mX\u001b[0m\u001b[1;33m,\u001b[0m \u001b[0my\u001b[0m\u001b[1;33m,\u001b[0m\u001b[1;33m\u001b[0m\u001b[1;33m\u001b[0m\u001b[0m\n\u001b[0;32m    892\u001b[0m             \u001b[0msample_weight\u001b[0m\u001b[1;33m=\u001b[0m\u001b[0msample_weight\u001b[0m\u001b[1;33m,\u001b[0m\u001b[1;33m\u001b[0m\u001b[1;33m\u001b[0m\u001b[0m\n",
      "\u001b[1;32m~\\anaconda3\\envs\\learn-env\\lib\\site-packages\\sklearn\\tree\\_classes.py\u001b[0m in \u001b[0;36mfit\u001b[1;34m(self, X, y, sample_weight, check_input, X_idx_sorted)\u001b[0m\n\u001b[0;32m    373\u001b[0m                                            min_impurity_split)\n\u001b[0;32m    374\u001b[0m \u001b[1;33m\u001b[0m\u001b[0m\n\u001b[1;32m--> 375\u001b[1;33m         \u001b[0mbuilder\u001b[0m\u001b[1;33m.\u001b[0m\u001b[0mbuild\u001b[0m\u001b[1;33m(\u001b[0m\u001b[0mself\u001b[0m\u001b[1;33m.\u001b[0m\u001b[0mtree_\u001b[0m\u001b[1;33m,\u001b[0m \u001b[0mX\u001b[0m\u001b[1;33m,\u001b[0m \u001b[0my\u001b[0m\u001b[1;33m,\u001b[0m \u001b[0msample_weight\u001b[0m\u001b[1;33m,\u001b[0m \u001b[0mX_idx_sorted\u001b[0m\u001b[1;33m)\u001b[0m\u001b[1;33m\u001b[0m\u001b[1;33m\u001b[0m\u001b[0m\n\u001b[0m\u001b[0;32m    376\u001b[0m \u001b[1;33m\u001b[0m\u001b[0m\n\u001b[0;32m    377\u001b[0m         \u001b[1;32mif\u001b[0m \u001b[0mself\u001b[0m\u001b[1;33m.\u001b[0m\u001b[0mn_outputs_\u001b[0m \u001b[1;33m==\u001b[0m \u001b[1;36m1\u001b[0m \u001b[1;32mand\u001b[0m \u001b[0mis_classifier\u001b[0m\u001b[1;33m(\u001b[0m\u001b[0mself\u001b[0m\u001b[1;33m)\u001b[0m\u001b[1;33m:\u001b[0m\u001b[1;33m\u001b[0m\u001b[1;33m\u001b[0m\u001b[0m\n",
      "\u001b[1;31mKeyboardInterrupt\u001b[0m: "
     ]
    }
   ],
   "source": [
    "first_model_pipe.fit(X_train, y_train)"
   ]
  },
  {
   "cell_type": "code",
   "execution_count": null,
   "metadata": {},
   "outputs": [],
   "source": [
    "first_model_pipe.score(X_train, y_train)"
   ]
  },
  {
   "cell_type": "code",
   "execution_count": null,
   "metadata": {},
   "outputs": [],
   "source": [
    "first_model_pipe.score(X_test, y_test)"
   ]
  },
  {
   "cell_type": "code",
   "execution_count": null,
   "metadata": {},
   "outputs": [],
   "source": [
    "rfc.feature_importances_"
   ]
  },
  {
   "cell_type": "code",
   "execution_count": null,
   "metadata": {},
   "outputs": [],
   "source": [
    "rfc"
   ]
  },
  {
   "cell_type": "code",
   "execution_count": null,
   "metadata": {},
   "outputs": [],
   "source": [
    "len(X_train.columns), len(rfc.feature_importances_)"
   ]
  },
  {
   "cell_type": "code",
   "execution_count": null,
   "metadata": {},
   "outputs": [],
   "source": [
    "first_model_pipe.named_steps\n",
    "#dictionary with keys as names, values as objects associated with name"
   ]
  },
  {
   "cell_type": "code",
   "execution_count": 29,
   "metadata": {
    "scrolled": true
   },
   "outputs": [
    {
     "data": {
      "text/plain": [
       "{'id': 0.03235294712569168,\n",
       " 'amount_tsh': 0.15259290212476806,\n",
       " 'date_recorded': 0.08621217983103296,\n",
       " 'funder': 2.2395872427717503e-05,\n",
       " 'gps_height': 0.0004901450108233817,\n",
       " 'installer': 3.101675458972177e-05,\n",
       " 'longitude': 0.00011260575086136527,\n",
       " 'latitude': 6.295163399621074e-05,\n",
       " 'wpt_name': 5.782916429473131e-06,\n",
       " 'num_private': 1.0074142713492508e-06,\n",
       " 'basin': 0.0002599373026673585,\n",
       " 'subvillage': 1.6493957457162314e-05,\n",
       " 'region': 3.938020005189533e-06,\n",
       " 'region_code': 7.040896308694836e-05,\n",
       " 'district_code': 2.8506098507988067e-05,\n",
       " 'lga': 6.131284578434692e-05,\n",
       " 'ward': 7.4785752385342e-05,\n",
       " 'population': 5.2596074025014724e-05,\n",
       " 'public_meeting': 0.00018206653340206765,\n",
       " 'recorded_by': 9.620625759138111e-06,\n",
       " 'scheme_management': 1.015088374680087e-05,\n",
       " 'scheme_name': 5.666680534884074e-05,\n",
       " 'permit': 1.417463055604765e-06,\n",
       " 'construction_year': 1.1070571977721396e-06,\n",
       " 'extraction_type': 9.325191108548348e-06,\n",
       " 'extraction_type_group': 1.3038769934013236e-05,\n",
       " 'extraction_type_class': 6.340765131025822e-05,\n",
       " 'management': 0.00011472198651189338,\n",
       " 'management_group': 0.00019549436505806326,\n",
       " 'payment': 2.5846094076134442e-05,\n",
       " 'payment_type': 9.43112576771253e-07,\n",
       " 'water_quality': 7.358922226706983e-07,\n",
       " 'quality_group': 1.0003165125035962e-06,\n",
       " 'quantity': 3.652841468776875e-05,\n",
       " 'quantity_group': 5.30120097455574e-05,\n",
       " 'source': 7.270281848118984e-05,\n",
       " 'source_type': 0.0005278573730151369,\n",
       " 'source_class': 1.9583900614177323e-05,\n",
       " 'waterpoint_type': 8.051164415164468e-06,\n",
       " 'waterpoint_type_group': 4.533227294466429e-05,\n",
       " 'id_label': 5.49530527979095e-06}"
      ]
     },
     "execution_count": 29,
     "metadata": {},
     "output_type": "execute_result"
    }
   ],
   "source": [
    "feature_importance = {name:score for name, score in zip(X_train.columns, rfc.feature_importances_)}\n",
    "feature_importance\n",
    "#access OHE feature names, combine them with categorical, figure out a way to sort"
   ]
  },
  {
   "cell_type": "markdown",
   "metadata": {},
   "source": [
    "# DummyClassifier Baseline"
   ]
  },
  {
   "cell_type": "code",
   "execution_count": 22,
   "metadata": {},
   "outputs": [],
   "source": [
    "dummy_clf = DummyClassifier(strategy='most_frequent')"
   ]
  },
  {
   "cell_type": "code",
   "execution_count": 23,
   "metadata": {},
   "outputs": [
    {
     "data": {
      "text/plain": [
       "DummyClassifier(strategy='most_frequent')"
      ]
     },
     "execution_count": 23,
     "metadata": {},
     "output_type": "execute_result"
    }
   ],
   "source": [
    "dummy_clf.fit(X_train, y_train)"
   ]
  },
  {
   "cell_type": "code",
   "execution_count": 24,
   "metadata": {},
   "outputs": [
    {
     "data": {
      "text/plain": [
       "0.5445347410340117"
      ]
     },
     "execution_count": 24,
     "metadata": {},
     "output_type": "execute_result"
    }
   ],
   "source": [
    "dummy_clf.score(X_train, y_train)"
   ]
  },
  {
   "cell_type": "markdown",
   "metadata": {},
   "source": [
    "# GridSearch "
   ]
  },
  {
   "cell_type": "code",
   "execution_count": 34,
   "metadata": {},
   "outputs": [],
   "source": [
    "params = {'rfc__n_estimators':[100, 200],\n",
    "          'rfc__criterion':['gini', 'entropy'],\n",
    "          'rfc__max_depth':[None, 50, 100],\n",
    "          'rfc__min_samples_leaf': [1, 10],\n",
    "          'rfc__min_samples_split': [2, 5, 10]}\n",
    "gs = GridSearchCV(estimator = first_model_pipe, param_grid = params, cv=5, verbose=3)"
   ]
  },
  {
   "cell_type": "code",
   "execution_count": 35,
   "metadata": {
    "scrolled": true
   },
   "outputs": [
    {
     "name": "stdout",
     "output_type": "stream",
     "text": [
      "Fitting 5 folds for each of 72 candidates, totalling 360 fits\n",
      "[CV] rfc__criterion=gini, rfc__max_depth=None, rfc__min_samples_leaf=1, rfc__min_samples_split=2, rfc__n_estimators=100 \n"
     ]
    },
    {
     "name": "stderr",
     "output_type": "stream",
     "text": [
      "[Parallel(n_jobs=1)]: Using backend SequentialBackend with 1 concurrent workers.\n"
     ]
    },
    {
     "name": "stdout",
     "output_type": "stream",
     "text": [
      "[CV]  rfc__criterion=gini, rfc__max_depth=None, rfc__min_samples_leaf=1, rfc__min_samples_split=2, rfc__n_estimators=100, score=0.786, total=  24.9s\n",
      "[CV] rfc__criterion=gini, rfc__max_depth=None, rfc__min_samples_leaf=1, rfc__min_samples_split=2, rfc__n_estimators=100 \n"
     ]
    },
    {
     "name": "stderr",
     "output_type": "stream",
     "text": [
      "[Parallel(n_jobs=1)]: Done   1 out of   1 | elapsed:   24.8s remaining:    0.0s\n"
     ]
    },
    {
     "name": "stdout",
     "output_type": "stream",
     "text": [
      "[CV]  rfc__criterion=gini, rfc__max_depth=None, rfc__min_samples_leaf=1, rfc__min_samples_split=2, rfc__n_estimators=100, score=0.784, total=  24.9s\n",
      "[CV] rfc__criterion=gini, rfc__max_depth=None, rfc__min_samples_leaf=1, rfc__min_samples_split=2, rfc__n_estimators=100 \n"
     ]
    },
    {
     "name": "stderr",
     "output_type": "stream",
     "text": [
      "[Parallel(n_jobs=1)]: Done   2 out of   2 | elapsed:   49.7s remaining:    0.0s\n"
     ]
    },
    {
     "name": "stdout",
     "output_type": "stream",
     "text": [
      "[CV]  rfc__criterion=gini, rfc__max_depth=None, rfc__min_samples_leaf=1, rfc__min_samples_split=2, rfc__n_estimators=100, score=0.786, total=  24.9s\n",
      "[CV] rfc__criterion=gini, rfc__max_depth=None, rfc__min_samples_leaf=1, rfc__min_samples_split=2, rfc__n_estimators=100 \n",
      "[CV]  rfc__criterion=gini, rfc__max_depth=None, rfc__min_samples_leaf=1, rfc__min_samples_split=2, rfc__n_estimators=100, score=0.784, total=  24.9s\n",
      "[CV] rfc__criterion=gini, rfc__max_depth=None, rfc__min_samples_leaf=1, rfc__min_samples_split=2, rfc__n_estimators=100 \n",
      "[CV]  rfc__criterion=gini, rfc__max_depth=None, rfc__min_samples_leaf=1, rfc__min_samples_split=2, rfc__n_estimators=100, score=0.781, total=  24.0s\n",
      "[CV] rfc__criterion=gini, rfc__max_depth=None, rfc__min_samples_leaf=1, rfc__min_samples_split=2, rfc__n_estimators=200 \n",
      "[CV]  rfc__criterion=gini, rfc__max_depth=None, rfc__min_samples_leaf=1, rfc__min_samples_split=2, rfc__n_estimators=200, score=0.787, total=  48.2s\n",
      "[CV] rfc__criterion=gini, rfc__max_depth=None, rfc__min_samples_leaf=1, rfc__min_samples_split=2, rfc__n_estimators=200 \n",
      "[CV]  rfc__criterion=gini, rfc__max_depth=None, rfc__min_samples_leaf=1, rfc__min_samples_split=2, rfc__n_estimators=200, score=0.784, total=  48.7s\n",
      "[CV] rfc__criterion=gini, rfc__max_depth=None, rfc__min_samples_leaf=1, rfc__min_samples_split=2, rfc__n_estimators=200 \n",
      "[CV]  rfc__criterion=gini, rfc__max_depth=None, rfc__min_samples_leaf=1, rfc__min_samples_split=2, rfc__n_estimators=200, score=0.785, total=  50.5s\n",
      "[CV] rfc__criterion=gini, rfc__max_depth=None, rfc__min_samples_leaf=1, rfc__min_samples_split=2, rfc__n_estimators=200 \n",
      "[CV]  rfc__criterion=gini, rfc__max_depth=None, rfc__min_samples_leaf=1, rfc__min_samples_split=2, rfc__n_estimators=200, score=0.784, total=  51.1s\n",
      "[CV] rfc__criterion=gini, rfc__max_depth=None, rfc__min_samples_leaf=1, rfc__min_samples_split=2, rfc__n_estimators=200 \n",
      "[CV]  rfc__criterion=gini, rfc__max_depth=None, rfc__min_samples_leaf=1, rfc__min_samples_split=2, rfc__n_estimators=200, score=0.781, total=  49.0s\n",
      "[CV] rfc__criterion=gini, rfc__max_depth=None, rfc__min_samples_leaf=1, rfc__min_samples_split=5, rfc__n_estimators=100 \n",
      "[CV]  rfc__criterion=gini, rfc__max_depth=None, rfc__min_samples_leaf=1, rfc__min_samples_split=5, rfc__n_estimators=100, score=0.796, total=  22.1s\n",
      "[CV] rfc__criterion=gini, rfc__max_depth=None, rfc__min_samples_leaf=1, rfc__min_samples_split=5, rfc__n_estimators=100 \n",
      "[CV]  rfc__criterion=gini, rfc__max_depth=None, rfc__min_samples_leaf=1, rfc__min_samples_split=5, rfc__n_estimators=100, score=0.790, total=  22.3s\n",
      "[CV] rfc__criterion=gini, rfc__max_depth=None, rfc__min_samples_leaf=1, rfc__min_samples_split=5, rfc__n_estimators=100 \n",
      "[CV]  rfc__criterion=gini, rfc__max_depth=None, rfc__min_samples_leaf=1, rfc__min_samples_split=5, rfc__n_estimators=100, score=0.793, total=  22.1s\n",
      "[CV] rfc__criterion=gini, rfc__max_depth=None, rfc__min_samples_leaf=1, rfc__min_samples_split=5, rfc__n_estimators=100 \n",
      "[CV]  rfc__criterion=gini, rfc__max_depth=None, rfc__min_samples_leaf=1, rfc__min_samples_split=5, rfc__n_estimators=100, score=0.790, total=  22.5s\n",
      "[CV] rfc__criterion=gini, rfc__max_depth=None, rfc__min_samples_leaf=1, rfc__min_samples_split=5, rfc__n_estimators=100 \n",
      "[CV]  rfc__criterion=gini, rfc__max_depth=None, rfc__min_samples_leaf=1, rfc__min_samples_split=5, rfc__n_estimators=100, score=0.786, total=  23.8s\n",
      "[CV] rfc__criterion=gini, rfc__max_depth=None, rfc__min_samples_leaf=1, rfc__min_samples_split=5, rfc__n_estimators=200 \n",
      "[CV]  rfc__criterion=gini, rfc__max_depth=None, rfc__min_samples_leaf=1, rfc__min_samples_split=5, rfc__n_estimators=200, score=0.796, total=  46.0s\n",
      "[CV] rfc__criterion=gini, rfc__max_depth=None, rfc__min_samples_leaf=1, rfc__min_samples_split=5, rfc__n_estimators=200 \n",
      "[CV]  rfc__criterion=gini, rfc__max_depth=None, rfc__min_samples_leaf=1, rfc__min_samples_split=5, rfc__n_estimators=200, score=0.792, total=  44.2s\n",
      "[CV] rfc__criterion=gini, rfc__max_depth=None, rfc__min_samples_leaf=1, rfc__min_samples_split=5, rfc__n_estimators=200 \n",
      "[CV]  rfc__criterion=gini, rfc__max_depth=None, rfc__min_samples_leaf=1, rfc__min_samples_split=5, rfc__n_estimators=200, score=0.792, total=  43.1s\n",
      "[CV] rfc__criterion=gini, rfc__max_depth=None, rfc__min_samples_leaf=1, rfc__min_samples_split=5, rfc__n_estimators=200 \n",
      "[CV]  rfc__criterion=gini, rfc__max_depth=None, rfc__min_samples_leaf=1, rfc__min_samples_split=5, rfc__n_estimators=200, score=0.792, total=  43.5s\n",
      "[CV] rfc__criterion=gini, rfc__max_depth=None, rfc__min_samples_leaf=1, rfc__min_samples_split=5, rfc__n_estimators=200 \n",
      "[CV]  rfc__criterion=gini, rfc__max_depth=None, rfc__min_samples_leaf=1, rfc__min_samples_split=5, rfc__n_estimators=200, score=0.786, total=  41.9s\n",
      "[CV] rfc__criterion=gini, rfc__max_depth=None, rfc__min_samples_leaf=1, rfc__min_samples_split=10, rfc__n_estimators=100 \n",
      "[CV]  rfc__criterion=gini, rfc__max_depth=None, rfc__min_samples_leaf=1, rfc__min_samples_split=10, rfc__n_estimators=100, score=0.800, total=  20.2s\n",
      "[CV] rfc__criterion=gini, rfc__max_depth=None, rfc__min_samples_leaf=1, rfc__min_samples_split=10, rfc__n_estimators=100 \n",
      "[CV]  rfc__criterion=gini, rfc__max_depth=None, rfc__min_samples_leaf=1, rfc__min_samples_split=10, rfc__n_estimators=100, score=0.796, total=  20.2s\n",
      "[CV] rfc__criterion=gini, rfc__max_depth=None, rfc__min_samples_leaf=1, rfc__min_samples_split=10, rfc__n_estimators=100 \n",
      "[CV]  rfc__criterion=gini, rfc__max_depth=None, rfc__min_samples_leaf=1, rfc__min_samples_split=10, rfc__n_estimators=100, score=0.794, total=  20.1s\n",
      "[CV] rfc__criterion=gini, rfc__max_depth=None, rfc__min_samples_leaf=1, rfc__min_samples_split=10, rfc__n_estimators=100 \n",
      "[CV]  rfc__criterion=gini, rfc__max_depth=None, rfc__min_samples_leaf=1, rfc__min_samples_split=10, rfc__n_estimators=100, score=0.794, total=  20.5s\n",
      "[CV] rfc__criterion=gini, rfc__max_depth=None, rfc__min_samples_leaf=1, rfc__min_samples_split=10, rfc__n_estimators=100 \n",
      "[CV]  rfc__criterion=gini, rfc__max_depth=None, rfc__min_samples_leaf=1, rfc__min_samples_split=10, rfc__n_estimators=100, score=0.788, total=  20.1s\n",
      "[CV] rfc__criterion=gini, rfc__max_depth=None, rfc__min_samples_leaf=1, rfc__min_samples_split=10, rfc__n_estimators=200 \n",
      "[CV]  rfc__criterion=gini, rfc__max_depth=None, rfc__min_samples_leaf=1, rfc__min_samples_split=10, rfc__n_estimators=200, score=0.800, total=  39.7s\n",
      "[CV] rfc__criterion=gini, rfc__max_depth=None, rfc__min_samples_leaf=1, rfc__min_samples_split=10, rfc__n_estimators=200 \n",
      "[CV]  rfc__criterion=gini, rfc__max_depth=None, rfc__min_samples_leaf=1, rfc__min_samples_split=10, rfc__n_estimators=200, score=0.796, total=  40.4s\n",
      "[CV] rfc__criterion=gini, rfc__max_depth=None, rfc__min_samples_leaf=1, rfc__min_samples_split=10, rfc__n_estimators=200 \n",
      "[CV]  rfc__criterion=gini, rfc__max_depth=None, rfc__min_samples_leaf=1, rfc__min_samples_split=10, rfc__n_estimators=200, score=0.794, total=  40.5s\n",
      "[CV] rfc__criterion=gini, rfc__max_depth=None, rfc__min_samples_leaf=1, rfc__min_samples_split=10, rfc__n_estimators=200 \n",
      "[CV]  rfc__criterion=gini, rfc__max_depth=None, rfc__min_samples_leaf=1, rfc__min_samples_split=10, rfc__n_estimators=200, score=0.794, total=  40.7s\n",
      "[CV] rfc__criterion=gini, rfc__max_depth=None, rfc__min_samples_leaf=1, rfc__min_samples_split=10, rfc__n_estimators=200 \n",
      "[CV]  rfc__criterion=gini, rfc__max_depth=None, rfc__min_samples_leaf=1, rfc__min_samples_split=10, rfc__n_estimators=200, score=0.789, total=  39.6s\n",
      "[CV] rfc__criterion=gini, rfc__max_depth=None, rfc__min_samples_leaf=10, rfc__min_samples_split=2, rfc__n_estimators=100 \n",
      "[CV]  rfc__criterion=gini, rfc__max_depth=None, rfc__min_samples_leaf=10, rfc__min_samples_split=2, rfc__n_estimators=100, score=0.756, total=  13.9s\n",
      "[CV] rfc__criterion=gini, rfc__max_depth=None, rfc__min_samples_leaf=10, rfc__min_samples_split=2, rfc__n_estimators=100 \n",
      "[CV]  rfc__criterion=gini, rfc__max_depth=None, rfc__min_samples_leaf=10, rfc__min_samples_split=2, rfc__n_estimators=100, score=0.745, total=  14.1s\n",
      "[CV] rfc__criterion=gini, rfc__max_depth=None, rfc__min_samples_leaf=10, rfc__min_samples_split=2, rfc__n_estimators=100 \n",
      "[CV]  rfc__criterion=gini, rfc__max_depth=None, rfc__min_samples_leaf=10, rfc__min_samples_split=2, rfc__n_estimators=100, score=0.744, total=  13.8s\n",
      "[CV] rfc__criterion=gini, rfc__max_depth=None, rfc__min_samples_leaf=10, rfc__min_samples_split=2, rfc__n_estimators=100 \n"
     ]
    },
    {
     "name": "stdout",
     "output_type": "stream",
     "text": [
      "[CV]  rfc__criterion=gini, rfc__max_depth=None, rfc__min_samples_leaf=10, rfc__min_samples_split=2, rfc__n_estimators=100, score=0.743, total=  14.1s\n",
      "[CV] rfc__criterion=gini, rfc__max_depth=None, rfc__min_samples_leaf=10, rfc__min_samples_split=2, rfc__n_estimators=100 \n",
      "[CV]  rfc__criterion=gini, rfc__max_depth=None, rfc__min_samples_leaf=10, rfc__min_samples_split=2, rfc__n_estimators=100, score=0.743, total=  13.8s\n",
      "[CV] rfc__criterion=gini, rfc__max_depth=None, rfc__min_samples_leaf=10, rfc__min_samples_split=2, rfc__n_estimators=200 \n",
      "[CV]  rfc__criterion=gini, rfc__max_depth=None, rfc__min_samples_leaf=10, rfc__min_samples_split=2, rfc__n_estimators=200, score=0.756, total=  27.0s\n",
      "[CV] rfc__criterion=gini, rfc__max_depth=None, rfc__min_samples_leaf=10, rfc__min_samples_split=2, rfc__n_estimators=200 \n",
      "[CV]  rfc__criterion=gini, rfc__max_depth=None, rfc__min_samples_leaf=10, rfc__min_samples_split=2, rfc__n_estimators=200, score=0.744, total=  27.1s\n",
      "[CV] rfc__criterion=gini, rfc__max_depth=None, rfc__min_samples_leaf=10, rfc__min_samples_split=2, rfc__n_estimators=200 \n",
      "[CV]  rfc__criterion=gini, rfc__max_depth=None, rfc__min_samples_leaf=10, rfc__min_samples_split=2, rfc__n_estimators=200, score=0.743, total=  26.9s\n",
      "[CV] rfc__criterion=gini, rfc__max_depth=None, rfc__min_samples_leaf=10, rfc__min_samples_split=2, rfc__n_estimators=200 \n",
      "[CV]  rfc__criterion=gini, rfc__max_depth=None, rfc__min_samples_leaf=10, rfc__min_samples_split=2, rfc__n_estimators=200, score=0.745, total=  27.7s\n",
      "[CV] rfc__criterion=gini, rfc__max_depth=None, rfc__min_samples_leaf=10, rfc__min_samples_split=2, rfc__n_estimators=200 \n",
      "[CV]  rfc__criterion=gini, rfc__max_depth=None, rfc__min_samples_leaf=10, rfc__min_samples_split=2, rfc__n_estimators=200, score=0.742, total=  26.9s\n",
      "[CV] rfc__criterion=gini, rfc__max_depth=None, rfc__min_samples_leaf=10, rfc__min_samples_split=5, rfc__n_estimators=100 \n",
      "[CV]  rfc__criterion=gini, rfc__max_depth=None, rfc__min_samples_leaf=10, rfc__min_samples_split=5, rfc__n_estimators=100, score=0.756, total=  13.9s\n",
      "[CV] rfc__criterion=gini, rfc__max_depth=None, rfc__min_samples_leaf=10, rfc__min_samples_split=5, rfc__n_estimators=100 \n",
      "[CV]  rfc__criterion=gini, rfc__max_depth=None, rfc__min_samples_leaf=10, rfc__min_samples_split=5, rfc__n_estimators=100, score=0.745, total=  14.2s\n",
      "[CV] rfc__criterion=gini, rfc__max_depth=None, rfc__min_samples_leaf=10, rfc__min_samples_split=5, rfc__n_estimators=100 \n",
      "[CV]  rfc__criterion=gini, rfc__max_depth=None, rfc__min_samples_leaf=10, rfc__min_samples_split=5, rfc__n_estimators=100, score=0.744, total=  13.9s\n",
      "[CV] rfc__criterion=gini, rfc__max_depth=None, rfc__min_samples_leaf=10, rfc__min_samples_split=5, rfc__n_estimators=100 \n",
      "[CV]  rfc__criterion=gini, rfc__max_depth=None, rfc__min_samples_leaf=10, rfc__min_samples_split=5, rfc__n_estimators=100, score=0.743, total=  14.1s\n",
      "[CV] rfc__criterion=gini, rfc__max_depth=None, rfc__min_samples_leaf=10, rfc__min_samples_split=5, rfc__n_estimators=100 \n",
      "[CV]  rfc__criterion=gini, rfc__max_depth=None, rfc__min_samples_leaf=10, rfc__min_samples_split=5, rfc__n_estimators=100, score=0.743, total=  13.7s\n",
      "[CV] rfc__criterion=gini, rfc__max_depth=None, rfc__min_samples_leaf=10, rfc__min_samples_split=5, rfc__n_estimators=200 \n",
      "[CV]  rfc__criterion=gini, rfc__max_depth=None, rfc__min_samples_leaf=10, rfc__min_samples_split=5, rfc__n_estimators=200, score=0.756, total=  27.0s\n",
      "[CV] rfc__criterion=gini, rfc__max_depth=None, rfc__min_samples_leaf=10, rfc__min_samples_split=5, rfc__n_estimators=200 \n",
      "[CV]  rfc__criterion=gini, rfc__max_depth=None, rfc__min_samples_leaf=10, rfc__min_samples_split=5, rfc__n_estimators=200, score=0.744, total=  27.1s\n",
      "[CV] rfc__criterion=gini, rfc__max_depth=None, rfc__min_samples_leaf=10, rfc__min_samples_split=5, rfc__n_estimators=200 \n",
      "[CV]  rfc__criterion=gini, rfc__max_depth=None, rfc__min_samples_leaf=10, rfc__min_samples_split=5, rfc__n_estimators=200, score=0.743, total=  27.0s\n",
      "[CV] rfc__criterion=gini, rfc__max_depth=None, rfc__min_samples_leaf=10, rfc__min_samples_split=5, rfc__n_estimators=200 \n",
      "[CV]  rfc__criterion=gini, rfc__max_depth=None, rfc__min_samples_leaf=10, rfc__min_samples_split=5, rfc__n_estimators=200, score=0.745, total=  27.8s\n",
      "[CV] rfc__criterion=gini, rfc__max_depth=None, rfc__min_samples_leaf=10, rfc__min_samples_split=5, rfc__n_estimators=200 \n",
      "[CV]  rfc__criterion=gini, rfc__max_depth=None, rfc__min_samples_leaf=10, rfc__min_samples_split=5, rfc__n_estimators=200, score=0.742, total=  26.8s\n",
      "[CV] rfc__criterion=gini, rfc__max_depth=None, rfc__min_samples_leaf=10, rfc__min_samples_split=10, rfc__n_estimators=100 \n",
      "[CV]  rfc__criterion=gini, rfc__max_depth=None, rfc__min_samples_leaf=10, rfc__min_samples_split=10, rfc__n_estimators=100, score=0.756, total=  14.0s\n",
      "[CV] rfc__criterion=gini, rfc__max_depth=None, rfc__min_samples_leaf=10, rfc__min_samples_split=10, rfc__n_estimators=100 \n",
      "[CV]  rfc__criterion=gini, rfc__max_depth=None, rfc__min_samples_leaf=10, rfc__min_samples_split=10, rfc__n_estimators=100, score=0.745, total=  14.2s\n",
      "[CV] rfc__criterion=gini, rfc__max_depth=None, rfc__min_samples_leaf=10, rfc__min_samples_split=10, rfc__n_estimators=100 \n",
      "[CV]  rfc__criterion=gini, rfc__max_depth=None, rfc__min_samples_leaf=10, rfc__min_samples_split=10, rfc__n_estimators=100, score=0.744, total=  13.9s\n",
      "[CV] rfc__criterion=gini, rfc__max_depth=None, rfc__min_samples_leaf=10, rfc__min_samples_split=10, rfc__n_estimators=100 \n",
      "[CV]  rfc__criterion=gini, rfc__max_depth=None, rfc__min_samples_leaf=10, rfc__min_samples_split=10, rfc__n_estimators=100, score=0.743, total=  14.2s\n",
      "[CV] rfc__criterion=gini, rfc__max_depth=None, rfc__min_samples_leaf=10, rfc__min_samples_split=10, rfc__n_estimators=100 \n",
      "[CV]  rfc__criterion=gini, rfc__max_depth=None, rfc__min_samples_leaf=10, rfc__min_samples_split=10, rfc__n_estimators=100, score=0.743, total=  13.8s\n",
      "[CV] rfc__criterion=gini, rfc__max_depth=None, rfc__min_samples_leaf=10, rfc__min_samples_split=10, rfc__n_estimators=200 \n",
      "[CV]  rfc__criterion=gini, rfc__max_depth=None, rfc__min_samples_leaf=10, rfc__min_samples_split=10, rfc__n_estimators=200, score=0.756, total=  27.1s\n",
      "[CV] rfc__criterion=gini, rfc__max_depth=None, rfc__min_samples_leaf=10, rfc__min_samples_split=10, rfc__n_estimators=200 \n",
      "[CV]  rfc__criterion=gini, rfc__max_depth=None, rfc__min_samples_leaf=10, rfc__min_samples_split=10, rfc__n_estimators=200, score=0.744, total=  27.1s\n",
      "[CV] rfc__criterion=gini, rfc__max_depth=None, rfc__min_samples_leaf=10, rfc__min_samples_split=10, rfc__n_estimators=200 \n",
      "[CV]  rfc__criterion=gini, rfc__max_depth=None, rfc__min_samples_leaf=10, rfc__min_samples_split=10, rfc__n_estimators=200, score=0.743, total=  27.0s\n",
      "[CV] rfc__criterion=gini, rfc__max_depth=None, rfc__min_samples_leaf=10, rfc__min_samples_split=10, rfc__n_estimators=200 \n",
      "[CV]  rfc__criterion=gini, rfc__max_depth=None, rfc__min_samples_leaf=10, rfc__min_samples_split=10, rfc__n_estimators=200, score=0.745, total=  28.0s\n",
      "[CV] rfc__criterion=gini, rfc__max_depth=None, rfc__min_samples_leaf=10, rfc__min_samples_split=10, rfc__n_estimators=200 \n",
      "[CV]  rfc__criterion=gini, rfc__max_depth=None, rfc__min_samples_leaf=10, rfc__min_samples_split=10, rfc__n_estimators=200, score=0.742, total=  27.2s\n",
      "[CV] rfc__criterion=gini, rfc__max_depth=50, rfc__min_samples_leaf=1, rfc__min_samples_split=2, rfc__n_estimators=100 \n",
      "[CV]  rfc__criterion=gini, rfc__max_depth=50, rfc__min_samples_leaf=1, rfc__min_samples_split=2, rfc__n_estimators=100, score=0.787, total=  23.7s\n",
      "[CV] rfc__criterion=gini, rfc__max_depth=50, rfc__min_samples_leaf=1, rfc__min_samples_split=2, rfc__n_estimators=100 \n",
      "[CV]  rfc__criterion=gini, rfc__max_depth=50, rfc__min_samples_leaf=1, rfc__min_samples_split=2, rfc__n_estimators=100, score=0.785, total=  23.5s\n",
      "[CV] rfc__criterion=gini, rfc__max_depth=50, rfc__min_samples_leaf=1, rfc__min_samples_split=2, rfc__n_estimators=100 \n",
      "[CV]  rfc__criterion=gini, rfc__max_depth=50, rfc__min_samples_leaf=1, rfc__min_samples_split=2, rfc__n_estimators=100, score=0.788, total=  23.7s\n",
      "[CV] rfc__criterion=gini, rfc__max_depth=50, rfc__min_samples_leaf=1, rfc__min_samples_split=2, rfc__n_estimators=100 \n",
      "[CV]  rfc__criterion=gini, rfc__max_depth=50, rfc__min_samples_leaf=1, rfc__min_samples_split=2, rfc__n_estimators=100, score=0.784, total=  24.2s\n",
      "[CV] rfc__criterion=gini, rfc__max_depth=50, rfc__min_samples_leaf=1, rfc__min_samples_split=2, rfc__n_estimators=100 \n"
     ]
    },
    {
     "name": "stdout",
     "output_type": "stream",
     "text": [
      "[CV]  rfc__criterion=gini, rfc__max_depth=50, rfc__min_samples_leaf=1, rfc__min_samples_split=2, rfc__n_estimators=100, score=0.783, total=  24.0s\n",
      "[CV] rfc__criterion=gini, rfc__max_depth=50, rfc__min_samples_leaf=1, rfc__min_samples_split=2, rfc__n_estimators=200 \n",
      "[CV]  rfc__criterion=gini, rfc__max_depth=50, rfc__min_samples_leaf=1, rfc__min_samples_split=2, rfc__n_estimators=200, score=0.788, total=  46.9s\n",
      "[CV] rfc__criterion=gini, rfc__max_depth=50, rfc__min_samples_leaf=1, rfc__min_samples_split=2, rfc__n_estimators=200 \n",
      "[CV]  rfc__criterion=gini, rfc__max_depth=50, rfc__min_samples_leaf=1, rfc__min_samples_split=2, rfc__n_estimators=200, score=0.788, total=  46.6s\n",
      "[CV] rfc__criterion=gini, rfc__max_depth=50, rfc__min_samples_leaf=1, rfc__min_samples_split=2, rfc__n_estimators=200 \n",
      "[CV]  rfc__criterion=gini, rfc__max_depth=50, rfc__min_samples_leaf=1, rfc__min_samples_split=2, rfc__n_estimators=200, score=0.788, total=  47.3s\n",
      "[CV] rfc__criterion=gini, rfc__max_depth=50, rfc__min_samples_leaf=1, rfc__min_samples_split=2, rfc__n_estimators=200 \n",
      "[CV]  rfc__criterion=gini, rfc__max_depth=50, rfc__min_samples_leaf=1, rfc__min_samples_split=2, rfc__n_estimators=200, score=0.784, total=  47.4s\n",
      "[CV] rfc__criterion=gini, rfc__max_depth=50, rfc__min_samples_leaf=1, rfc__min_samples_split=2, rfc__n_estimators=200 \n",
      "[CV]  rfc__criterion=gini, rfc__max_depth=50, rfc__min_samples_leaf=1, rfc__min_samples_split=2, rfc__n_estimators=200, score=0.782, total=  44.7s\n",
      "[CV] rfc__criterion=gini, rfc__max_depth=50, rfc__min_samples_leaf=1, rfc__min_samples_split=5, rfc__n_estimators=100 \n",
      "[CV]  rfc__criterion=gini, rfc__max_depth=50, rfc__min_samples_leaf=1, rfc__min_samples_split=5, rfc__n_estimators=100, score=0.798, total=  21.2s\n",
      "[CV] rfc__criterion=gini, rfc__max_depth=50, rfc__min_samples_leaf=1, rfc__min_samples_split=5, rfc__n_estimators=100 \n",
      "[CV]  rfc__criterion=gini, rfc__max_depth=50, rfc__min_samples_leaf=1, rfc__min_samples_split=5, rfc__n_estimators=100, score=0.794, total=  21.2s\n",
      "[CV] rfc__criterion=gini, rfc__max_depth=50, rfc__min_samples_leaf=1, rfc__min_samples_split=5, rfc__n_estimators=100 \n",
      "[CV]  rfc__criterion=gini, rfc__max_depth=50, rfc__min_samples_leaf=1, rfc__min_samples_split=5, rfc__n_estimators=100, score=0.794, total=  21.0s\n",
      "[CV] rfc__criterion=gini, rfc__max_depth=50, rfc__min_samples_leaf=1, rfc__min_samples_split=5, rfc__n_estimators=100 \n",
      "[CV]  rfc__criterion=gini, rfc__max_depth=50, rfc__min_samples_leaf=1, rfc__min_samples_split=5, rfc__n_estimators=100, score=0.793, total=  21.7s\n",
      "[CV] rfc__criterion=gini, rfc__max_depth=50, rfc__min_samples_leaf=1, rfc__min_samples_split=5, rfc__n_estimators=100 \n",
      "[CV]  rfc__criterion=gini, rfc__max_depth=50, rfc__min_samples_leaf=1, rfc__min_samples_split=5, rfc__n_estimators=100, score=0.790, total=  21.0s\n",
      "[CV] rfc__criterion=gini, rfc__max_depth=50, rfc__min_samples_leaf=1, rfc__min_samples_split=5, rfc__n_estimators=200 \n",
      "[CV]  rfc__criterion=gini, rfc__max_depth=50, rfc__min_samples_leaf=1, rfc__min_samples_split=5, rfc__n_estimators=200, score=0.798, total=  41.9s\n",
      "[CV] rfc__criterion=gini, rfc__max_depth=50, rfc__min_samples_leaf=1, rfc__min_samples_split=5, rfc__n_estimators=200 \n",
      "[CV]  rfc__criterion=gini, rfc__max_depth=50, rfc__min_samples_leaf=1, rfc__min_samples_split=5, rfc__n_estimators=200, score=0.796, total=  41.7s\n",
      "[CV] rfc__criterion=gini, rfc__max_depth=50, rfc__min_samples_leaf=1, rfc__min_samples_split=5, rfc__n_estimators=200 \n",
      "[CV]  rfc__criterion=gini, rfc__max_depth=50, rfc__min_samples_leaf=1, rfc__min_samples_split=5, rfc__n_estimators=200, score=0.792, total=  41.2s\n",
      "[CV] rfc__criterion=gini, rfc__max_depth=50, rfc__min_samples_leaf=1, rfc__min_samples_split=5, rfc__n_estimators=200 \n",
      "[CV]  rfc__criterion=gini, rfc__max_depth=50, rfc__min_samples_leaf=1, rfc__min_samples_split=5, rfc__n_estimators=200, score=0.796, total=  42.6s\n",
      "[CV] rfc__criterion=gini, rfc__max_depth=50, rfc__min_samples_leaf=1, rfc__min_samples_split=5, rfc__n_estimators=200 \n",
      "[CV]  rfc__criterion=gini, rfc__max_depth=50, rfc__min_samples_leaf=1, rfc__min_samples_split=5, rfc__n_estimators=200, score=0.788, total=  41.2s\n",
      "[CV] rfc__criterion=gini, rfc__max_depth=50, rfc__min_samples_leaf=1, rfc__min_samples_split=10, rfc__n_estimators=100 \n",
      "[CV]  rfc__criterion=gini, rfc__max_depth=50, rfc__min_samples_leaf=1, rfc__min_samples_split=10, rfc__n_estimators=100, score=0.801, total=  20.1s\n",
      "[CV] rfc__criterion=gini, rfc__max_depth=50, rfc__min_samples_leaf=1, rfc__min_samples_split=10, rfc__n_estimators=100 \n",
      "[CV]  rfc__criterion=gini, rfc__max_depth=50, rfc__min_samples_leaf=1, rfc__min_samples_split=10, rfc__n_estimators=100, score=0.795, total=  20.0s\n",
      "[CV] rfc__criterion=gini, rfc__max_depth=50, rfc__min_samples_leaf=1, rfc__min_samples_split=10, rfc__n_estimators=100 \n",
      "[CV]  rfc__criterion=gini, rfc__max_depth=50, rfc__min_samples_leaf=1, rfc__min_samples_split=10, rfc__n_estimators=100, score=0.794, total=  19.8s\n",
      "[CV] rfc__criterion=gini, rfc__max_depth=50, rfc__min_samples_leaf=1, rfc__min_samples_split=10, rfc__n_estimators=100 \n",
      "[CV]  rfc__criterion=gini, rfc__max_depth=50, rfc__min_samples_leaf=1, rfc__min_samples_split=10, rfc__n_estimators=100, score=0.793, total=  20.4s\n",
      "[CV] rfc__criterion=gini, rfc__max_depth=50, rfc__min_samples_leaf=1, rfc__min_samples_split=10, rfc__n_estimators=100 \n",
      "[CV]  rfc__criterion=gini, rfc__max_depth=50, rfc__min_samples_leaf=1, rfc__min_samples_split=10, rfc__n_estimators=100, score=0.789, total=  19.9s\n",
      "[CV] rfc__criterion=gini, rfc__max_depth=50, rfc__min_samples_leaf=1, rfc__min_samples_split=10, rfc__n_estimators=200 \n",
      "[CV]  rfc__criterion=gini, rfc__max_depth=50, rfc__min_samples_leaf=1, rfc__min_samples_split=10, rfc__n_estimators=200, score=0.802, total=  39.1s\n",
      "[CV] rfc__criterion=gini, rfc__max_depth=50, rfc__min_samples_leaf=1, rfc__min_samples_split=10, rfc__n_estimators=200 \n",
      "[CV]  rfc__criterion=gini, rfc__max_depth=50, rfc__min_samples_leaf=1, rfc__min_samples_split=10, rfc__n_estimators=200, score=0.795, total=  39.1s\n",
      "[CV] rfc__criterion=gini, rfc__max_depth=50, rfc__min_samples_leaf=1, rfc__min_samples_split=10, rfc__n_estimators=200 \n",
      "[CV]  rfc__criterion=gini, rfc__max_depth=50, rfc__min_samples_leaf=1, rfc__min_samples_split=10, rfc__n_estimators=200, score=0.796, total=  39.0s\n",
      "[CV] rfc__criterion=gini, rfc__max_depth=50, rfc__min_samples_leaf=1, rfc__min_samples_split=10, rfc__n_estimators=200 \n",
      "[CV]  rfc__criterion=gini, rfc__max_depth=50, rfc__min_samples_leaf=1, rfc__min_samples_split=10, rfc__n_estimators=200, score=0.797, total=  40.0s\n",
      "[CV] rfc__criterion=gini, rfc__max_depth=50, rfc__min_samples_leaf=1, rfc__min_samples_split=10, rfc__n_estimators=200 \n",
      "[CV]  rfc__criterion=gini, rfc__max_depth=50, rfc__min_samples_leaf=1, rfc__min_samples_split=10, rfc__n_estimators=200, score=0.790, total=  39.9s\n",
      "[CV] rfc__criterion=gini, rfc__max_depth=50, rfc__min_samples_leaf=10, rfc__min_samples_split=2, rfc__n_estimators=100 \n",
      "[CV]  rfc__criterion=gini, rfc__max_depth=50, rfc__min_samples_leaf=10, rfc__min_samples_split=2, rfc__n_estimators=100, score=0.757, total=  14.0s\n",
      "[CV] rfc__criterion=gini, rfc__max_depth=50, rfc__min_samples_leaf=10, rfc__min_samples_split=2, rfc__n_estimators=100 \n",
      "[CV]  rfc__criterion=gini, rfc__max_depth=50, rfc__min_samples_leaf=10, rfc__min_samples_split=2, rfc__n_estimators=100, score=0.744, total=  14.1s\n",
      "[CV] rfc__criterion=gini, rfc__max_depth=50, rfc__min_samples_leaf=10, rfc__min_samples_split=2, rfc__n_estimators=100 \n",
      "[CV]  rfc__criterion=gini, rfc__max_depth=50, rfc__min_samples_leaf=10, rfc__min_samples_split=2, rfc__n_estimators=100, score=0.744, total=  14.0s\n",
      "[CV] rfc__criterion=gini, rfc__max_depth=50, rfc__min_samples_leaf=10, rfc__min_samples_split=2, rfc__n_estimators=100 \n",
      "[CV]  rfc__criterion=gini, rfc__max_depth=50, rfc__min_samples_leaf=10, rfc__min_samples_split=2, rfc__n_estimators=100, score=0.743, total=  14.2s\n",
      "[CV] rfc__criterion=gini, rfc__max_depth=50, rfc__min_samples_leaf=10, rfc__min_samples_split=2, rfc__n_estimators=100 \n",
      "[CV]  rfc__criterion=gini, rfc__max_depth=50, rfc__min_samples_leaf=10, rfc__min_samples_split=2, rfc__n_estimators=100, score=0.743, total=  13.8s\n",
      "[CV] rfc__criterion=gini, rfc__max_depth=50, rfc__min_samples_leaf=10, rfc__min_samples_split=2, rfc__n_estimators=200 \n"
     ]
    },
    {
     "name": "stdout",
     "output_type": "stream",
     "text": [
      "[CV]  rfc__criterion=gini, rfc__max_depth=50, rfc__min_samples_leaf=10, rfc__min_samples_split=2, rfc__n_estimators=200, score=0.756, total=  27.0s\n",
      "[CV] rfc__criterion=gini, rfc__max_depth=50, rfc__min_samples_leaf=10, rfc__min_samples_split=2, rfc__n_estimators=200 \n",
      "[CV]  rfc__criterion=gini, rfc__max_depth=50, rfc__min_samples_leaf=10, rfc__min_samples_split=2, rfc__n_estimators=200, score=0.744, total=  27.1s\n",
      "[CV] rfc__criterion=gini, rfc__max_depth=50, rfc__min_samples_leaf=10, rfc__min_samples_split=2, rfc__n_estimators=200 \n",
      "[CV]  rfc__criterion=gini, rfc__max_depth=50, rfc__min_samples_leaf=10, rfc__min_samples_split=2, rfc__n_estimators=200, score=0.743, total=  27.1s\n",
      "[CV] rfc__criterion=gini, rfc__max_depth=50, rfc__min_samples_leaf=10, rfc__min_samples_split=2, rfc__n_estimators=200 \n",
      "[CV]  rfc__criterion=gini, rfc__max_depth=50, rfc__min_samples_leaf=10, rfc__min_samples_split=2, rfc__n_estimators=200, score=0.745, total=  28.2s\n",
      "[CV] rfc__criterion=gini, rfc__max_depth=50, rfc__min_samples_leaf=10, rfc__min_samples_split=2, rfc__n_estimators=200 \n",
      "[CV]  rfc__criterion=gini, rfc__max_depth=50, rfc__min_samples_leaf=10, rfc__min_samples_split=2, rfc__n_estimators=200, score=0.743, total=  26.7s\n",
      "[CV] rfc__criterion=gini, rfc__max_depth=50, rfc__min_samples_leaf=10, rfc__min_samples_split=5, rfc__n_estimators=100 \n",
      "[CV]  rfc__criterion=gini, rfc__max_depth=50, rfc__min_samples_leaf=10, rfc__min_samples_split=5, rfc__n_estimators=100, score=0.757, total=  13.8s\n",
      "[CV] rfc__criterion=gini, rfc__max_depth=50, rfc__min_samples_leaf=10, rfc__min_samples_split=5, rfc__n_estimators=100 \n",
      "[CV]  rfc__criterion=gini, rfc__max_depth=50, rfc__min_samples_leaf=10, rfc__min_samples_split=5, rfc__n_estimators=100, score=0.744, total=  14.1s\n",
      "[CV] rfc__criterion=gini, rfc__max_depth=50, rfc__min_samples_leaf=10, rfc__min_samples_split=5, rfc__n_estimators=100 \n",
      "[CV]  rfc__criterion=gini, rfc__max_depth=50, rfc__min_samples_leaf=10, rfc__min_samples_split=5, rfc__n_estimators=100, score=0.744, total=  13.9s\n",
      "[CV] rfc__criterion=gini, rfc__max_depth=50, rfc__min_samples_leaf=10, rfc__min_samples_split=5, rfc__n_estimators=100 \n",
      "[CV]  rfc__criterion=gini, rfc__max_depth=50, rfc__min_samples_leaf=10, rfc__min_samples_split=5, rfc__n_estimators=100, score=0.743, total=  14.1s\n",
      "[CV] rfc__criterion=gini, rfc__max_depth=50, rfc__min_samples_leaf=10, rfc__min_samples_split=5, rfc__n_estimators=100 \n",
      "[CV]  rfc__criterion=gini, rfc__max_depth=50, rfc__min_samples_leaf=10, rfc__min_samples_split=5, rfc__n_estimators=100, score=0.743, total=  13.7s\n",
      "[CV] rfc__criterion=gini, rfc__max_depth=50, rfc__min_samples_leaf=10, rfc__min_samples_split=5, rfc__n_estimators=200 \n",
      "[CV]  rfc__criterion=gini, rfc__max_depth=50, rfc__min_samples_leaf=10, rfc__min_samples_split=5, rfc__n_estimators=200, score=0.756, total=  27.1s\n",
      "[CV] rfc__criterion=gini, rfc__max_depth=50, rfc__min_samples_leaf=10, rfc__min_samples_split=5, rfc__n_estimators=200 \n",
      "[CV]  rfc__criterion=gini, rfc__max_depth=50, rfc__min_samples_leaf=10, rfc__min_samples_split=5, rfc__n_estimators=200, score=0.744, total=  27.2s\n",
      "[CV] rfc__criterion=gini, rfc__max_depth=50, rfc__min_samples_leaf=10, rfc__min_samples_split=5, rfc__n_estimators=200 \n",
      "[CV]  rfc__criterion=gini, rfc__max_depth=50, rfc__min_samples_leaf=10, rfc__min_samples_split=5, rfc__n_estimators=200, score=0.743, total=  27.1s\n",
      "[CV] rfc__criterion=gini, rfc__max_depth=50, rfc__min_samples_leaf=10, rfc__min_samples_split=5, rfc__n_estimators=200 \n",
      "[CV]  rfc__criterion=gini, rfc__max_depth=50, rfc__min_samples_leaf=10, rfc__min_samples_split=5, rfc__n_estimators=200, score=0.745, total=  28.8s\n",
      "[CV] rfc__criterion=gini, rfc__max_depth=50, rfc__min_samples_leaf=10, rfc__min_samples_split=5, rfc__n_estimators=200 \n",
      "[CV]  rfc__criterion=gini, rfc__max_depth=50, rfc__min_samples_leaf=10, rfc__min_samples_split=5, rfc__n_estimators=200, score=0.743, total=  29.3s\n",
      "[CV] rfc__criterion=gini, rfc__max_depth=50, rfc__min_samples_leaf=10, rfc__min_samples_split=10, rfc__n_estimators=100 \n",
      "[CV]  rfc__criterion=gini, rfc__max_depth=50, rfc__min_samples_leaf=10, rfc__min_samples_split=10, rfc__n_estimators=100, score=0.757, total=  15.3s\n",
      "[CV] rfc__criterion=gini, rfc__max_depth=50, rfc__min_samples_leaf=10, rfc__min_samples_split=10, rfc__n_estimators=100 \n",
      "[CV]  rfc__criterion=gini, rfc__max_depth=50, rfc__min_samples_leaf=10, rfc__min_samples_split=10, rfc__n_estimators=100, score=0.744, total=  14.9s\n",
      "[CV] rfc__criterion=gini, rfc__max_depth=50, rfc__min_samples_leaf=10, rfc__min_samples_split=10, rfc__n_estimators=100 \n",
      "[CV]  rfc__criterion=gini, rfc__max_depth=50, rfc__min_samples_leaf=10, rfc__min_samples_split=10, rfc__n_estimators=100, score=0.744, total=  15.2s\n",
      "[CV] rfc__criterion=gini, rfc__max_depth=50, rfc__min_samples_leaf=10, rfc__min_samples_split=10, rfc__n_estimators=100 \n",
      "[CV]  rfc__criterion=gini, rfc__max_depth=50, rfc__min_samples_leaf=10, rfc__min_samples_split=10, rfc__n_estimators=100, score=0.743, total=  15.4s\n",
      "[CV] rfc__criterion=gini, rfc__max_depth=50, rfc__min_samples_leaf=10, rfc__min_samples_split=10, rfc__n_estimators=100 \n",
      "[CV]  rfc__criterion=gini, rfc__max_depth=50, rfc__min_samples_leaf=10, rfc__min_samples_split=10, rfc__n_estimators=100, score=0.743, total=  15.1s\n",
      "[CV] rfc__criterion=gini, rfc__max_depth=50, rfc__min_samples_leaf=10, rfc__min_samples_split=10, rfc__n_estimators=200 \n",
      "[CV]  rfc__criterion=gini, rfc__max_depth=50, rfc__min_samples_leaf=10, rfc__min_samples_split=10, rfc__n_estimators=200, score=0.756, total=  28.8s\n",
      "[CV] rfc__criterion=gini, rfc__max_depth=50, rfc__min_samples_leaf=10, rfc__min_samples_split=10, rfc__n_estimators=200 \n",
      "[CV]  rfc__criterion=gini, rfc__max_depth=50, rfc__min_samples_leaf=10, rfc__min_samples_split=10, rfc__n_estimators=200, score=0.744, total=  28.8s\n",
      "[CV] rfc__criterion=gini, rfc__max_depth=50, rfc__min_samples_leaf=10, rfc__min_samples_split=10, rfc__n_estimators=200 \n",
      "[CV]  rfc__criterion=gini, rfc__max_depth=50, rfc__min_samples_leaf=10, rfc__min_samples_split=10, rfc__n_estimators=200, score=0.743, total=  27.9s\n",
      "[CV] rfc__criterion=gini, rfc__max_depth=50, rfc__min_samples_leaf=10, rfc__min_samples_split=10, rfc__n_estimators=200 \n",
      "[CV]  rfc__criterion=gini, rfc__max_depth=50, rfc__min_samples_leaf=10, rfc__min_samples_split=10, rfc__n_estimators=200, score=0.745, total=  29.8s\n",
      "[CV] rfc__criterion=gini, rfc__max_depth=50, rfc__min_samples_leaf=10, rfc__min_samples_split=10, rfc__n_estimators=200 \n",
      "[CV]  rfc__criterion=gini, rfc__max_depth=50, rfc__min_samples_leaf=10, rfc__min_samples_split=10, rfc__n_estimators=200, score=0.743, total=  31.5s\n",
      "[CV] rfc__criterion=gini, rfc__max_depth=100, rfc__min_samples_leaf=1, rfc__min_samples_split=2, rfc__n_estimators=100 \n",
      "[CV]  rfc__criterion=gini, rfc__max_depth=100, rfc__min_samples_leaf=1, rfc__min_samples_split=2, rfc__n_estimators=100, score=0.786, total=  26.8s\n",
      "[CV] rfc__criterion=gini, rfc__max_depth=100, rfc__min_samples_leaf=1, rfc__min_samples_split=2, rfc__n_estimators=100 \n",
      "[CV]  rfc__criterion=gini, rfc__max_depth=100, rfc__min_samples_leaf=1, rfc__min_samples_split=2, rfc__n_estimators=100, score=0.784, total=  26.9s\n",
      "[CV] rfc__criterion=gini, rfc__max_depth=100, rfc__min_samples_leaf=1, rfc__min_samples_split=2, rfc__n_estimators=100 \n",
      "[CV]  rfc__criterion=gini, rfc__max_depth=100, rfc__min_samples_leaf=1, rfc__min_samples_split=2, rfc__n_estimators=100, score=0.786, total=  26.7s\n",
      "[CV] rfc__criterion=gini, rfc__max_depth=100, rfc__min_samples_leaf=1, rfc__min_samples_split=2, rfc__n_estimators=100 \n",
      "[CV]  rfc__criterion=gini, rfc__max_depth=100, rfc__min_samples_leaf=1, rfc__min_samples_split=2, rfc__n_estimators=100, score=0.783, total=  25.3s\n",
      "[CV] rfc__criterion=gini, rfc__max_depth=100, rfc__min_samples_leaf=1, rfc__min_samples_split=2, rfc__n_estimators=100 \n",
      "[CV]  rfc__criterion=gini, rfc__max_depth=100, rfc__min_samples_leaf=1, rfc__min_samples_split=2, rfc__n_estimators=100, score=0.781, total=  25.1s\n",
      "[CV] rfc__criterion=gini, rfc__max_depth=100, rfc__min_samples_leaf=1, rfc__min_samples_split=2, rfc__n_estimators=200 \n",
      "[CV]  rfc__criterion=gini, rfc__max_depth=100, rfc__min_samples_leaf=1, rfc__min_samples_split=2, rfc__n_estimators=200, score=0.786, total=  50.5s\n",
      "[CV] rfc__criterion=gini, rfc__max_depth=100, rfc__min_samples_leaf=1, rfc__min_samples_split=2, rfc__n_estimators=200 \n"
     ]
    },
    {
     "name": "stdout",
     "output_type": "stream",
     "text": [
      "[CV]  rfc__criterion=gini, rfc__max_depth=100, rfc__min_samples_leaf=1, rfc__min_samples_split=2, rfc__n_estimators=200, score=0.785, total=  50.4s\n",
      "[CV] rfc__criterion=gini, rfc__max_depth=100, rfc__min_samples_leaf=1, rfc__min_samples_split=2, rfc__n_estimators=200 \n",
      "[CV]  rfc__criterion=gini, rfc__max_depth=100, rfc__min_samples_leaf=1, rfc__min_samples_split=2, rfc__n_estimators=200, score=0.784, total=  49.6s\n",
      "[CV] rfc__criterion=gini, rfc__max_depth=100, rfc__min_samples_leaf=1, rfc__min_samples_split=2, rfc__n_estimators=200 \n",
      "[CV]  rfc__criterion=gini, rfc__max_depth=100, rfc__min_samples_leaf=1, rfc__min_samples_split=2, rfc__n_estimators=200, score=0.784, total=  51.7s\n",
      "[CV] rfc__criterion=gini, rfc__max_depth=100, rfc__min_samples_leaf=1, rfc__min_samples_split=2, rfc__n_estimators=200 \n",
      "[CV]  rfc__criterion=gini, rfc__max_depth=100, rfc__min_samples_leaf=1, rfc__min_samples_split=2, rfc__n_estimators=200, score=0.782, total=  50.3s\n",
      "[CV] rfc__criterion=gini, rfc__max_depth=100, rfc__min_samples_leaf=1, rfc__min_samples_split=5, rfc__n_estimators=100 \n",
      "[CV]  rfc__criterion=gini, rfc__max_depth=100, rfc__min_samples_leaf=1, rfc__min_samples_split=5, rfc__n_estimators=100, score=0.796, total=  24.0s\n",
      "[CV] rfc__criterion=gini, rfc__max_depth=100, rfc__min_samples_leaf=1, rfc__min_samples_split=5, rfc__n_estimators=100 \n",
      "[CV]  rfc__criterion=gini, rfc__max_depth=100, rfc__min_samples_leaf=1, rfc__min_samples_split=5, rfc__n_estimators=100, score=0.790, total=  22.2s\n",
      "[CV] rfc__criterion=gini, rfc__max_depth=100, rfc__min_samples_leaf=1, rfc__min_samples_split=5, rfc__n_estimators=100 \n",
      "[CV]  rfc__criterion=gini, rfc__max_depth=100, rfc__min_samples_leaf=1, rfc__min_samples_split=5, rfc__n_estimators=100, score=0.794, total=  21.7s\n",
      "[CV] rfc__criterion=gini, rfc__max_depth=100, rfc__min_samples_leaf=1, rfc__min_samples_split=5, rfc__n_estimators=100 \n",
      "[CV]  rfc__criterion=gini, rfc__max_depth=100, rfc__min_samples_leaf=1, rfc__min_samples_split=5, rfc__n_estimators=100, score=0.791, total=  22.0s\n",
      "[CV] rfc__criterion=gini, rfc__max_depth=100, rfc__min_samples_leaf=1, rfc__min_samples_split=5, rfc__n_estimators=100 \n",
      "[CV]  rfc__criterion=gini, rfc__max_depth=100, rfc__min_samples_leaf=1, rfc__min_samples_split=5, rfc__n_estimators=100, score=0.786, total=  23.5s\n",
      "[CV] rfc__criterion=gini, rfc__max_depth=100, rfc__min_samples_leaf=1, rfc__min_samples_split=5, rfc__n_estimators=200 \n",
      "[CV]  rfc__criterion=gini, rfc__max_depth=100, rfc__min_samples_leaf=1, rfc__min_samples_split=5, rfc__n_estimators=200, score=0.796, total=  45.4s\n",
      "[CV] rfc__criterion=gini, rfc__max_depth=100, rfc__min_samples_leaf=1, rfc__min_samples_split=5, rfc__n_estimators=200 \n",
      "[CV]  rfc__criterion=gini, rfc__max_depth=100, rfc__min_samples_leaf=1, rfc__min_samples_split=5, rfc__n_estimators=200, score=0.792, total=  46.9s\n",
      "[CV] rfc__criterion=gini, rfc__max_depth=100, rfc__min_samples_leaf=1, rfc__min_samples_split=5, rfc__n_estimators=200 \n",
      "[CV]  rfc__criterion=gini, rfc__max_depth=100, rfc__min_samples_leaf=1, rfc__min_samples_split=5, rfc__n_estimators=200, score=0.792, total=  45.7s\n",
      "[CV] rfc__criterion=gini, rfc__max_depth=100, rfc__min_samples_leaf=1, rfc__min_samples_split=5, rfc__n_estimators=200 \n",
      "[CV]  rfc__criterion=gini, rfc__max_depth=100, rfc__min_samples_leaf=1, rfc__min_samples_split=5, rfc__n_estimators=200, score=0.792, total=  47.8s\n",
      "[CV] rfc__criterion=gini, rfc__max_depth=100, rfc__min_samples_leaf=1, rfc__min_samples_split=5, rfc__n_estimators=200 \n",
      "[CV]  rfc__criterion=gini, rfc__max_depth=100, rfc__min_samples_leaf=1, rfc__min_samples_split=5, rfc__n_estimators=200, score=0.786, total=  46.7s\n",
      "[CV] rfc__criterion=gini, rfc__max_depth=100, rfc__min_samples_leaf=1, rfc__min_samples_split=10, rfc__n_estimators=100 \n",
      "[CV]  rfc__criterion=gini, rfc__max_depth=100, rfc__min_samples_leaf=1, rfc__min_samples_split=10, rfc__n_estimators=100, score=0.800, total=  22.1s\n",
      "[CV] rfc__criterion=gini, rfc__max_depth=100, rfc__min_samples_leaf=1, rfc__min_samples_split=10, rfc__n_estimators=100 \n",
      "[CV]  rfc__criterion=gini, rfc__max_depth=100, rfc__min_samples_leaf=1, rfc__min_samples_split=10, rfc__n_estimators=100, score=0.796, total=  22.3s\n",
      "[CV] rfc__criterion=gini, rfc__max_depth=100, rfc__min_samples_leaf=1, rfc__min_samples_split=10, rfc__n_estimators=100 \n",
      "[CV]  rfc__criterion=gini, rfc__max_depth=100, rfc__min_samples_leaf=1, rfc__min_samples_split=10, rfc__n_estimators=100, score=0.794, total=  22.6s\n",
      "[CV] rfc__criterion=gini, rfc__max_depth=100, rfc__min_samples_leaf=1, rfc__min_samples_split=10, rfc__n_estimators=100 \n",
      "[CV]  rfc__criterion=gini, rfc__max_depth=100, rfc__min_samples_leaf=1, rfc__min_samples_split=10, rfc__n_estimators=100, score=0.793, total=  23.2s\n",
      "[CV] rfc__criterion=gini, rfc__max_depth=100, rfc__min_samples_leaf=1, rfc__min_samples_split=10, rfc__n_estimators=100 \n",
      "[CV]  rfc__criterion=gini, rfc__max_depth=100, rfc__min_samples_leaf=1, rfc__min_samples_split=10, rfc__n_estimators=100, score=0.788, total=  21.8s\n",
      "[CV] rfc__criterion=gini, rfc__max_depth=100, rfc__min_samples_leaf=1, rfc__min_samples_split=10, rfc__n_estimators=200 \n",
      "[CV]  rfc__criterion=gini, rfc__max_depth=100, rfc__min_samples_leaf=1, rfc__min_samples_split=10, rfc__n_estimators=200, score=0.801, total=  43.1s\n",
      "[CV] rfc__criterion=gini, rfc__max_depth=100, rfc__min_samples_leaf=1, rfc__min_samples_split=10, rfc__n_estimators=200 \n",
      "[CV]  rfc__criterion=gini, rfc__max_depth=100, rfc__min_samples_leaf=1, rfc__min_samples_split=10, rfc__n_estimators=200, score=0.797, total=  42.9s\n",
      "[CV] rfc__criterion=gini, rfc__max_depth=100, rfc__min_samples_leaf=1, rfc__min_samples_split=10, rfc__n_estimators=200 \n",
      "[CV]  rfc__criterion=gini, rfc__max_depth=100, rfc__min_samples_leaf=1, rfc__min_samples_split=10, rfc__n_estimators=200, score=0.794, total=  42.9s\n",
      "[CV] rfc__criterion=gini, rfc__max_depth=100, rfc__min_samples_leaf=1, rfc__min_samples_split=10, rfc__n_estimators=200 \n",
      "[CV]  rfc__criterion=gini, rfc__max_depth=100, rfc__min_samples_leaf=1, rfc__min_samples_split=10, rfc__n_estimators=200, score=0.794, total=  44.3s\n",
      "[CV] rfc__criterion=gini, rfc__max_depth=100, rfc__min_samples_leaf=1, rfc__min_samples_split=10, rfc__n_estimators=200 \n",
      "[CV]  rfc__criterion=gini, rfc__max_depth=100, rfc__min_samples_leaf=1, rfc__min_samples_split=10, rfc__n_estimators=200, score=0.789, total=  42.2s\n",
      "[CV] rfc__criterion=gini, rfc__max_depth=100, rfc__min_samples_leaf=10, rfc__min_samples_split=2, rfc__n_estimators=100 \n",
      "[CV]  rfc__criterion=gini, rfc__max_depth=100, rfc__min_samples_leaf=10, rfc__min_samples_split=2, rfc__n_estimators=100, score=0.756, total=  14.9s\n",
      "[CV] rfc__criterion=gini, rfc__max_depth=100, rfc__min_samples_leaf=10, rfc__min_samples_split=2, rfc__n_estimators=100 \n",
      "[CV]  rfc__criterion=gini, rfc__max_depth=100, rfc__min_samples_leaf=10, rfc__min_samples_split=2, rfc__n_estimators=100, score=0.745, total=  15.3s\n",
      "[CV] rfc__criterion=gini, rfc__max_depth=100, rfc__min_samples_leaf=10, rfc__min_samples_split=2, rfc__n_estimators=100 \n",
      "[CV]  rfc__criterion=gini, rfc__max_depth=100, rfc__min_samples_leaf=10, rfc__min_samples_split=2, rfc__n_estimators=100, score=0.744, total=  15.1s\n",
      "[CV] rfc__criterion=gini, rfc__max_depth=100, rfc__min_samples_leaf=10, rfc__min_samples_split=2, rfc__n_estimators=100 \n",
      "[CV]  rfc__criterion=gini, rfc__max_depth=100, rfc__min_samples_leaf=10, rfc__min_samples_split=2, rfc__n_estimators=100, score=0.743, total=  15.3s\n",
      "[CV] rfc__criterion=gini, rfc__max_depth=100, rfc__min_samples_leaf=10, rfc__min_samples_split=2, rfc__n_estimators=100 \n",
      "[CV]  rfc__criterion=gini, rfc__max_depth=100, rfc__min_samples_leaf=10, rfc__min_samples_split=2, rfc__n_estimators=100, score=0.743, total=  14.9s\n",
      "[CV] rfc__criterion=gini, rfc__max_depth=100, rfc__min_samples_leaf=10, rfc__min_samples_split=2, rfc__n_estimators=200 \n",
      "[CV]  rfc__criterion=gini, rfc__max_depth=100, rfc__min_samples_leaf=10, rfc__min_samples_split=2, rfc__n_estimators=200, score=0.756, total=  29.4s\n",
      "[CV] rfc__criterion=gini, rfc__max_depth=100, rfc__min_samples_leaf=10, rfc__min_samples_split=2, rfc__n_estimators=200 \n",
      "[CV]  rfc__criterion=gini, rfc__max_depth=100, rfc__min_samples_leaf=10, rfc__min_samples_split=2, rfc__n_estimators=200, score=0.744, total=  29.4s\n",
      "[CV] rfc__criterion=gini, rfc__max_depth=100, rfc__min_samples_leaf=10, rfc__min_samples_split=2, rfc__n_estimators=200 \n"
     ]
    },
    {
     "name": "stdout",
     "output_type": "stream",
     "text": [
      "[CV]  rfc__criterion=gini, rfc__max_depth=100, rfc__min_samples_leaf=10, rfc__min_samples_split=2, rfc__n_estimators=200, score=0.743, total=  29.2s\n",
      "[CV] rfc__criterion=gini, rfc__max_depth=100, rfc__min_samples_leaf=10, rfc__min_samples_split=2, rfc__n_estimators=200 \n",
      "[CV]  rfc__criterion=gini, rfc__max_depth=100, rfc__min_samples_leaf=10, rfc__min_samples_split=2, rfc__n_estimators=200, score=0.745, total=  30.2s\n",
      "[CV] rfc__criterion=gini, rfc__max_depth=100, rfc__min_samples_leaf=10, rfc__min_samples_split=2, rfc__n_estimators=200 \n",
      "[CV]  rfc__criterion=gini, rfc__max_depth=100, rfc__min_samples_leaf=10, rfc__min_samples_split=2, rfc__n_estimators=200, score=0.742, total=  29.1s\n",
      "[CV] rfc__criterion=gini, rfc__max_depth=100, rfc__min_samples_leaf=10, rfc__min_samples_split=5, rfc__n_estimators=100 \n",
      "[CV]  rfc__criterion=gini, rfc__max_depth=100, rfc__min_samples_leaf=10, rfc__min_samples_split=5, rfc__n_estimators=100, score=0.756, total=  15.0s\n",
      "[CV] rfc__criterion=gini, rfc__max_depth=100, rfc__min_samples_leaf=10, rfc__min_samples_split=5, rfc__n_estimators=100 \n",
      "[CV]  rfc__criterion=gini, rfc__max_depth=100, rfc__min_samples_leaf=10, rfc__min_samples_split=5, rfc__n_estimators=100, score=0.745, total=  15.3s\n",
      "[CV] rfc__criterion=gini, rfc__max_depth=100, rfc__min_samples_leaf=10, rfc__min_samples_split=5, rfc__n_estimators=100 \n",
      "[CV]  rfc__criterion=gini, rfc__max_depth=100, rfc__min_samples_leaf=10, rfc__min_samples_split=5, rfc__n_estimators=100, score=0.744, total=  15.0s\n",
      "[CV] rfc__criterion=gini, rfc__max_depth=100, rfc__min_samples_leaf=10, rfc__min_samples_split=5, rfc__n_estimators=100 \n",
      "[CV]  rfc__criterion=gini, rfc__max_depth=100, rfc__min_samples_leaf=10, rfc__min_samples_split=5, rfc__n_estimators=100, score=0.743, total=  15.3s\n",
      "[CV] rfc__criterion=gini, rfc__max_depth=100, rfc__min_samples_leaf=10, rfc__min_samples_split=5, rfc__n_estimators=100 \n",
      "[CV]  rfc__criterion=gini, rfc__max_depth=100, rfc__min_samples_leaf=10, rfc__min_samples_split=5, rfc__n_estimators=100, score=0.743, total=  15.0s\n",
      "[CV] rfc__criterion=gini, rfc__max_depth=100, rfc__min_samples_leaf=10, rfc__min_samples_split=5, rfc__n_estimators=200 \n",
      "[CV]  rfc__criterion=gini, rfc__max_depth=100, rfc__min_samples_leaf=10, rfc__min_samples_split=5, rfc__n_estimators=200, score=0.756, total=  28.9s\n",
      "[CV] rfc__criterion=gini, rfc__max_depth=100, rfc__min_samples_leaf=10, rfc__min_samples_split=5, rfc__n_estimators=200 \n",
      "[CV]  rfc__criterion=gini, rfc__max_depth=100, rfc__min_samples_leaf=10, rfc__min_samples_split=5, rfc__n_estimators=200, score=0.744, total=  29.1s\n",
      "[CV] rfc__criterion=gini, rfc__max_depth=100, rfc__min_samples_leaf=10, rfc__min_samples_split=5, rfc__n_estimators=200 \n",
      "[CV]  rfc__criterion=gini, rfc__max_depth=100, rfc__min_samples_leaf=10, rfc__min_samples_split=5, rfc__n_estimators=200, score=0.743, total=  29.3s\n",
      "[CV] rfc__criterion=gini, rfc__max_depth=100, rfc__min_samples_leaf=10, rfc__min_samples_split=5, rfc__n_estimators=200 \n",
      "[CV]  rfc__criterion=gini, rfc__max_depth=100, rfc__min_samples_leaf=10, rfc__min_samples_split=5, rfc__n_estimators=200, score=0.745, total=  30.1s\n",
      "[CV] rfc__criterion=gini, rfc__max_depth=100, rfc__min_samples_leaf=10, rfc__min_samples_split=5, rfc__n_estimators=200 \n",
      "[CV]  rfc__criterion=gini, rfc__max_depth=100, rfc__min_samples_leaf=10, rfc__min_samples_split=5, rfc__n_estimators=200, score=0.742, total=  29.0s\n",
      "[CV] rfc__criterion=gini, rfc__max_depth=100, rfc__min_samples_leaf=10, rfc__min_samples_split=10, rfc__n_estimators=100 \n",
      "[CV]  rfc__criterion=gini, rfc__max_depth=100, rfc__min_samples_leaf=10, rfc__min_samples_split=10, rfc__n_estimators=100, score=0.756, total=  15.0s\n",
      "[CV] rfc__criterion=gini, rfc__max_depth=100, rfc__min_samples_leaf=10, rfc__min_samples_split=10, rfc__n_estimators=100 \n",
      "[CV]  rfc__criterion=gini, rfc__max_depth=100, rfc__min_samples_leaf=10, rfc__min_samples_split=10, rfc__n_estimators=100, score=0.745, total=  15.2s\n",
      "[CV] rfc__criterion=gini, rfc__max_depth=100, rfc__min_samples_leaf=10, rfc__min_samples_split=10, rfc__n_estimators=100 \n",
      "[CV]  rfc__criterion=gini, rfc__max_depth=100, rfc__min_samples_leaf=10, rfc__min_samples_split=10, rfc__n_estimators=100, score=0.744, total=  15.0s\n",
      "[CV] rfc__criterion=gini, rfc__max_depth=100, rfc__min_samples_leaf=10, rfc__min_samples_split=10, rfc__n_estimators=100 \n",
      "[CV]  rfc__criterion=gini, rfc__max_depth=100, rfc__min_samples_leaf=10, rfc__min_samples_split=10, rfc__n_estimators=100, score=0.743, total=  15.5s\n",
      "[CV] rfc__criterion=gini, rfc__max_depth=100, rfc__min_samples_leaf=10, rfc__min_samples_split=10, rfc__n_estimators=100 \n",
      "[CV]  rfc__criterion=gini, rfc__max_depth=100, rfc__min_samples_leaf=10, rfc__min_samples_split=10, rfc__n_estimators=100, score=0.743, total=  15.0s\n",
      "[CV] rfc__criterion=gini, rfc__max_depth=100, rfc__min_samples_leaf=10, rfc__min_samples_split=10, rfc__n_estimators=200 \n",
      "[CV]  rfc__criterion=gini, rfc__max_depth=100, rfc__min_samples_leaf=10, rfc__min_samples_split=10, rfc__n_estimators=200, score=0.756, total=  29.5s\n",
      "[CV] rfc__criterion=gini, rfc__max_depth=100, rfc__min_samples_leaf=10, rfc__min_samples_split=10, rfc__n_estimators=200 \n",
      "[CV]  rfc__criterion=gini, rfc__max_depth=100, rfc__min_samples_leaf=10, rfc__min_samples_split=10, rfc__n_estimators=200, score=0.744, total=  29.4s\n",
      "[CV] rfc__criterion=gini, rfc__max_depth=100, rfc__min_samples_leaf=10, rfc__min_samples_split=10, rfc__n_estimators=200 \n",
      "[CV]  rfc__criterion=gini, rfc__max_depth=100, rfc__min_samples_leaf=10, rfc__min_samples_split=10, rfc__n_estimators=200, score=0.743, total=  29.3s\n",
      "[CV] rfc__criterion=gini, rfc__max_depth=100, rfc__min_samples_leaf=10, rfc__min_samples_split=10, rfc__n_estimators=200 \n",
      "[CV]  rfc__criterion=gini, rfc__max_depth=100, rfc__min_samples_leaf=10, rfc__min_samples_split=10, rfc__n_estimators=200, score=0.745, total=  30.2s\n",
      "[CV] rfc__criterion=gini, rfc__max_depth=100, rfc__min_samples_leaf=10, rfc__min_samples_split=10, rfc__n_estimators=200 \n",
      "[CV]  rfc__criterion=gini, rfc__max_depth=100, rfc__min_samples_leaf=10, rfc__min_samples_split=10, rfc__n_estimators=200, score=0.742, total=  29.2s\n",
      "[CV] rfc__criterion=entropy, rfc__max_depth=None, rfc__min_samples_leaf=1, rfc__min_samples_split=2, rfc__n_estimators=100 \n",
      "[CV]  rfc__criterion=entropy, rfc__max_depth=None, rfc__min_samples_leaf=1, rfc__min_samples_split=2, rfc__n_estimators=100, score=0.787, total=  25.5s\n",
      "[CV] rfc__criterion=entropy, rfc__max_depth=None, rfc__min_samples_leaf=1, rfc__min_samples_split=2, rfc__n_estimators=100 \n",
      "[CV]  rfc__criterion=entropy, rfc__max_depth=None, rfc__min_samples_leaf=1, rfc__min_samples_split=2, rfc__n_estimators=100, score=0.784, total=  25.0s\n",
      "[CV] rfc__criterion=entropy, rfc__max_depth=None, rfc__min_samples_leaf=1, rfc__min_samples_split=2, rfc__n_estimators=100 \n",
      "[CV]  rfc__criterion=entropy, rfc__max_depth=None, rfc__min_samples_leaf=1, rfc__min_samples_split=2, rfc__n_estimators=100, score=0.784, total=  25.1s\n",
      "[CV] rfc__criterion=entropy, rfc__max_depth=None, rfc__min_samples_leaf=1, rfc__min_samples_split=2, rfc__n_estimators=100 \n",
      "[CV]  rfc__criterion=entropy, rfc__max_depth=None, rfc__min_samples_leaf=1, rfc__min_samples_split=2, rfc__n_estimators=100, score=0.782, total=  25.6s\n",
      "[CV] rfc__criterion=entropy, rfc__max_depth=None, rfc__min_samples_leaf=1, rfc__min_samples_split=2, rfc__n_estimators=100 \n",
      "[CV]  rfc__criterion=entropy, rfc__max_depth=None, rfc__min_samples_leaf=1, rfc__min_samples_split=2, rfc__n_estimators=100, score=0.780, total=  25.0s\n",
      "[CV] rfc__criterion=entropy, rfc__max_depth=None, rfc__min_samples_leaf=1, rfc__min_samples_split=2, rfc__n_estimators=200 \n",
      "[CV]  rfc__criterion=entropy, rfc__max_depth=None, rfc__min_samples_leaf=1, rfc__min_samples_split=2, rfc__n_estimators=200, score=0.787, total=  49.5s\n",
      "[CV] rfc__criterion=entropy, rfc__max_depth=None, rfc__min_samples_leaf=1, rfc__min_samples_split=2, rfc__n_estimators=200 \n",
      "[CV]  rfc__criterion=entropy, rfc__max_depth=None, rfc__min_samples_leaf=1, rfc__min_samples_split=2, rfc__n_estimators=200, score=0.786, total=  49.4s\n",
      "[CV] rfc__criterion=entropy, rfc__max_depth=None, rfc__min_samples_leaf=1, rfc__min_samples_split=2, rfc__n_estimators=200 \n",
      "[CV]  rfc__criterion=entropy, rfc__max_depth=None, rfc__min_samples_leaf=1, rfc__min_samples_split=2, rfc__n_estimators=200, score=0.782, total=  52.9s\n",
      "[CV] rfc__criterion=entropy, rfc__max_depth=None, rfc__min_samples_leaf=1, rfc__min_samples_split=2, rfc__n_estimators=200 \n"
     ]
    },
    {
     "name": "stdout",
     "output_type": "stream",
     "text": [
      "[CV]  rfc__criterion=entropy, rfc__max_depth=None, rfc__min_samples_leaf=1, rfc__min_samples_split=2, rfc__n_estimators=200, score=0.783, total=  55.5s\n",
      "[CV] rfc__criterion=entropy, rfc__max_depth=None, rfc__min_samples_leaf=1, rfc__min_samples_split=2, rfc__n_estimators=200 \n",
      "[CV]  rfc__criterion=entropy, rfc__max_depth=None, rfc__min_samples_leaf=1, rfc__min_samples_split=2, rfc__n_estimators=200, score=0.780, total=  56.0s\n",
      "[CV] rfc__criterion=entropy, rfc__max_depth=None, rfc__min_samples_leaf=1, rfc__min_samples_split=5, rfc__n_estimators=100 \n",
      "[CV]  rfc__criterion=entropy, rfc__max_depth=None, rfc__min_samples_leaf=1, rfc__min_samples_split=5, rfc__n_estimators=100, score=0.796, total=  27.4s\n",
      "[CV] rfc__criterion=entropy, rfc__max_depth=None, rfc__min_samples_leaf=1, rfc__min_samples_split=5, rfc__n_estimators=100 \n",
      "[CV]  rfc__criterion=entropy, rfc__max_depth=None, rfc__min_samples_leaf=1, rfc__min_samples_split=5, rfc__n_estimators=100, score=0.792, total=  27.4s\n",
      "[CV] rfc__criterion=entropy, rfc__max_depth=None, rfc__min_samples_leaf=1, rfc__min_samples_split=5, rfc__n_estimators=100 \n",
      "[CV]  rfc__criterion=entropy, rfc__max_depth=None, rfc__min_samples_leaf=1, rfc__min_samples_split=5, rfc__n_estimators=100, score=0.790, total=  25.3s\n",
      "[CV] rfc__criterion=entropy, rfc__max_depth=None, rfc__min_samples_leaf=1, rfc__min_samples_split=5, rfc__n_estimators=100 \n",
      "[CV]  rfc__criterion=entropy, rfc__max_depth=None, rfc__min_samples_leaf=1, rfc__min_samples_split=5, rfc__n_estimators=100, score=0.792, total=  26.1s\n",
      "[CV] rfc__criterion=entropy, rfc__max_depth=None, rfc__min_samples_leaf=1, rfc__min_samples_split=5, rfc__n_estimators=100 \n",
      "[CV]  rfc__criterion=entropy, rfc__max_depth=None, rfc__min_samples_leaf=1, rfc__min_samples_split=5, rfc__n_estimators=100, score=0.786, total=  25.5s\n",
      "[CV] rfc__criterion=entropy, rfc__max_depth=None, rfc__min_samples_leaf=1, rfc__min_samples_split=5, rfc__n_estimators=200 \n",
      "[CV]  rfc__criterion=entropy, rfc__max_depth=None, rfc__min_samples_leaf=1, rfc__min_samples_split=5, rfc__n_estimators=200, score=0.797, total=  50.7s\n",
      "[CV] rfc__criterion=entropy, rfc__max_depth=None, rfc__min_samples_leaf=1, rfc__min_samples_split=5, rfc__n_estimators=200 \n",
      "[CV]  rfc__criterion=entropy, rfc__max_depth=None, rfc__min_samples_leaf=1, rfc__min_samples_split=5, rfc__n_estimators=200, score=0.791, total=  50.0s\n",
      "[CV] rfc__criterion=entropy, rfc__max_depth=None, rfc__min_samples_leaf=1, rfc__min_samples_split=5, rfc__n_estimators=200 \n",
      "[CV]  rfc__criterion=entropy, rfc__max_depth=None, rfc__min_samples_leaf=1, rfc__min_samples_split=5, rfc__n_estimators=200, score=0.791, total=  50.2s\n",
      "[CV] rfc__criterion=entropy, rfc__max_depth=None, rfc__min_samples_leaf=1, rfc__min_samples_split=5, rfc__n_estimators=200 \n",
      "[CV]  rfc__criterion=entropy, rfc__max_depth=None, rfc__min_samples_leaf=1, rfc__min_samples_split=5, rfc__n_estimators=200, score=0.792, total=  51.6s\n",
      "[CV] rfc__criterion=entropy, rfc__max_depth=None, rfc__min_samples_leaf=1, rfc__min_samples_split=5, rfc__n_estimators=200 \n",
      "[CV]  rfc__criterion=entropy, rfc__max_depth=None, rfc__min_samples_leaf=1, rfc__min_samples_split=5, rfc__n_estimators=200, score=0.789, total=  50.0s\n",
      "[CV] rfc__criterion=entropy, rfc__max_depth=None, rfc__min_samples_leaf=1, rfc__min_samples_split=10, rfc__n_estimators=100 \n",
      "[CV]  rfc__criterion=entropy, rfc__max_depth=None, rfc__min_samples_leaf=1, rfc__min_samples_split=10, rfc__n_estimators=100, score=0.799, total=  24.0s\n",
      "[CV] rfc__criterion=entropy, rfc__max_depth=None, rfc__min_samples_leaf=1, rfc__min_samples_split=10, rfc__n_estimators=100 \n",
      "[CV]  rfc__criterion=entropy, rfc__max_depth=None, rfc__min_samples_leaf=1, rfc__min_samples_split=10, rfc__n_estimators=100, score=0.796, total=  24.1s\n",
      "[CV] rfc__criterion=entropy, rfc__max_depth=None, rfc__min_samples_leaf=1, rfc__min_samples_split=10, rfc__n_estimators=100 \n",
      "[CV]  rfc__criterion=entropy, rfc__max_depth=None, rfc__min_samples_leaf=1, rfc__min_samples_split=10, rfc__n_estimators=100, score=0.794, total=  24.2s\n",
      "[CV] rfc__criterion=entropy, rfc__max_depth=None, rfc__min_samples_leaf=1, rfc__min_samples_split=10, rfc__n_estimators=100 \n",
      "[CV]  rfc__criterion=entropy, rfc__max_depth=None, rfc__min_samples_leaf=1, rfc__min_samples_split=10, rfc__n_estimators=100, score=0.790, total=  23.9s\n",
      "[CV] rfc__criterion=entropy, rfc__max_depth=None, rfc__min_samples_leaf=1, rfc__min_samples_split=10, rfc__n_estimators=100 \n",
      "[CV]  rfc__criterion=entropy, rfc__max_depth=None, rfc__min_samples_leaf=1, rfc__min_samples_split=10, rfc__n_estimators=100, score=0.788, total=  23.6s\n",
      "[CV] rfc__criterion=entropy, rfc__max_depth=None, rfc__min_samples_leaf=1, rfc__min_samples_split=10, rfc__n_estimators=200 \n",
      "[CV]  rfc__criterion=entropy, rfc__max_depth=None, rfc__min_samples_leaf=1, rfc__min_samples_split=10, rfc__n_estimators=200, score=0.799, total=  47.3s\n",
      "[CV] rfc__criterion=entropy, rfc__max_depth=None, rfc__min_samples_leaf=1, rfc__min_samples_split=10, rfc__n_estimators=200 \n",
      "[CV]  rfc__criterion=entropy, rfc__max_depth=None, rfc__min_samples_leaf=1, rfc__min_samples_split=10, rfc__n_estimators=200, score=0.796, total=  49.0s\n",
      "[CV] rfc__criterion=entropy, rfc__max_depth=None, rfc__min_samples_leaf=1, rfc__min_samples_split=10, rfc__n_estimators=200 \n",
      "[CV]  rfc__criterion=entropy, rfc__max_depth=None, rfc__min_samples_leaf=1, rfc__min_samples_split=10, rfc__n_estimators=200, score=0.793, total=  47.2s\n",
      "[CV] rfc__criterion=entropy, rfc__max_depth=None, rfc__min_samples_leaf=1, rfc__min_samples_split=10, rfc__n_estimators=200 \n",
      "[CV]  rfc__criterion=entropy, rfc__max_depth=None, rfc__min_samples_leaf=1, rfc__min_samples_split=10, rfc__n_estimators=200, score=0.792, total=  48.2s\n",
      "[CV] rfc__criterion=entropy, rfc__max_depth=None, rfc__min_samples_leaf=1, rfc__min_samples_split=10, rfc__n_estimators=200 \n",
      "[CV]  rfc__criterion=entropy, rfc__max_depth=None, rfc__min_samples_leaf=1, rfc__min_samples_split=10, rfc__n_estimators=200, score=0.791, total=  47.8s\n",
      "[CV] rfc__criterion=entropy, rfc__max_depth=None, rfc__min_samples_leaf=10, rfc__min_samples_split=2, rfc__n_estimators=100 \n",
      "[CV]  rfc__criterion=entropy, rfc__max_depth=None, rfc__min_samples_leaf=10, rfc__min_samples_split=2, rfc__n_estimators=100, score=0.749, total=  16.4s\n",
      "[CV] rfc__criterion=entropy, rfc__max_depth=None, rfc__min_samples_leaf=10, rfc__min_samples_split=2, rfc__n_estimators=100 \n",
      "[CV]  rfc__criterion=entropy, rfc__max_depth=None, rfc__min_samples_leaf=10, rfc__min_samples_split=2, rfc__n_estimators=100, score=0.741, total=  15.5s\n",
      "[CV] rfc__criterion=entropy, rfc__max_depth=None, rfc__min_samples_leaf=10, rfc__min_samples_split=2, rfc__n_estimators=100 \n",
      "[CV]  rfc__criterion=entropy, rfc__max_depth=None, rfc__min_samples_leaf=10, rfc__min_samples_split=2, rfc__n_estimators=100, score=0.738, total=  15.7s\n",
      "[CV] rfc__criterion=entropy, rfc__max_depth=None, rfc__min_samples_leaf=10, rfc__min_samples_split=2, rfc__n_estimators=100 \n",
      "[CV]  rfc__criterion=entropy, rfc__max_depth=None, rfc__min_samples_leaf=10, rfc__min_samples_split=2, rfc__n_estimators=100, score=0.745, total=  16.1s\n",
      "[CV] rfc__criterion=entropy, rfc__max_depth=None, rfc__min_samples_leaf=10, rfc__min_samples_split=2, rfc__n_estimators=100 \n",
      "[CV]  rfc__criterion=entropy, rfc__max_depth=None, rfc__min_samples_leaf=10, rfc__min_samples_split=2, rfc__n_estimators=100, score=0.740, total=  16.1s\n",
      "[CV] rfc__criterion=entropy, rfc__max_depth=None, rfc__min_samples_leaf=10, rfc__min_samples_split=2, rfc__n_estimators=200 \n",
      "[CV]  rfc__criterion=entropy, rfc__max_depth=None, rfc__min_samples_leaf=10, rfc__min_samples_split=2, rfc__n_estimators=200, score=0.751, total=  32.8s\n",
      "[CV] rfc__criterion=entropy, rfc__max_depth=None, rfc__min_samples_leaf=10, rfc__min_samples_split=2, rfc__n_estimators=200 \n",
      "[CV]  rfc__criterion=entropy, rfc__max_depth=None, rfc__min_samples_leaf=10, rfc__min_samples_split=2, rfc__n_estimators=200, score=0.744, total=  31.1s\n",
      "[CV] rfc__criterion=entropy, rfc__max_depth=None, rfc__min_samples_leaf=10, rfc__min_samples_split=2, rfc__n_estimators=200 \n",
      "[CV]  rfc__criterion=entropy, rfc__max_depth=None, rfc__min_samples_leaf=10, rfc__min_samples_split=2, rfc__n_estimators=200, score=0.740, total=  30.7s\n",
      "[CV] rfc__criterion=entropy, rfc__max_depth=None, rfc__min_samples_leaf=10, rfc__min_samples_split=2, rfc__n_estimators=200 \n"
     ]
    },
    {
     "name": "stdout",
     "output_type": "stream",
     "text": [
      "[CV]  rfc__criterion=entropy, rfc__max_depth=None, rfc__min_samples_leaf=10, rfc__min_samples_split=2, rfc__n_estimators=200, score=0.746, total=  32.0s\n",
      "[CV] rfc__criterion=entropy, rfc__max_depth=None, rfc__min_samples_leaf=10, rfc__min_samples_split=2, rfc__n_estimators=200 \n",
      "[CV]  rfc__criterion=entropy, rfc__max_depth=None, rfc__min_samples_leaf=10, rfc__min_samples_split=2, rfc__n_estimators=200, score=0.740, total=  31.9s\n",
      "[CV] rfc__criterion=entropy, rfc__max_depth=None, rfc__min_samples_leaf=10, rfc__min_samples_split=5, rfc__n_estimators=100 \n",
      "[CV]  rfc__criterion=entropy, rfc__max_depth=None, rfc__min_samples_leaf=10, rfc__min_samples_split=5, rfc__n_estimators=100, score=0.749, total=  16.8s\n",
      "[CV] rfc__criterion=entropy, rfc__max_depth=None, rfc__min_samples_leaf=10, rfc__min_samples_split=5, rfc__n_estimators=100 \n",
      "[CV]  rfc__criterion=entropy, rfc__max_depth=None, rfc__min_samples_leaf=10, rfc__min_samples_split=5, rfc__n_estimators=100, score=0.741, total=  16.3s\n",
      "[CV] rfc__criterion=entropy, rfc__max_depth=None, rfc__min_samples_leaf=10, rfc__min_samples_split=5, rfc__n_estimators=100 \n",
      "[CV]  rfc__criterion=entropy, rfc__max_depth=None, rfc__min_samples_leaf=10, rfc__min_samples_split=5, rfc__n_estimators=100, score=0.738, total=  16.4s\n",
      "[CV] rfc__criterion=entropy, rfc__max_depth=None, rfc__min_samples_leaf=10, rfc__min_samples_split=5, rfc__n_estimators=100 \n",
      "[CV]  rfc__criterion=entropy, rfc__max_depth=None, rfc__min_samples_leaf=10, rfc__min_samples_split=5, rfc__n_estimators=100, score=0.745, total=  16.6s\n",
      "[CV] rfc__criterion=entropy, rfc__max_depth=None, rfc__min_samples_leaf=10, rfc__min_samples_split=5, rfc__n_estimators=100 \n",
      "[CV]  rfc__criterion=entropy, rfc__max_depth=None, rfc__min_samples_leaf=10, rfc__min_samples_split=5, rfc__n_estimators=100, score=0.740, total=  15.9s\n",
      "[CV] rfc__criterion=entropy, rfc__max_depth=None, rfc__min_samples_leaf=10, rfc__min_samples_split=5, rfc__n_estimators=200 \n",
      "[CV]  rfc__criterion=entropy, rfc__max_depth=None, rfc__min_samples_leaf=10, rfc__min_samples_split=5, rfc__n_estimators=200, score=0.751, total=  32.4s\n",
      "[CV] rfc__criterion=entropy, rfc__max_depth=None, rfc__min_samples_leaf=10, rfc__min_samples_split=5, rfc__n_estimators=200 \n",
      "[CV]  rfc__criterion=entropy, rfc__max_depth=None, rfc__min_samples_leaf=10, rfc__min_samples_split=5, rfc__n_estimators=200, score=0.744, total=  32.3s\n",
      "[CV] rfc__criterion=entropy, rfc__max_depth=None, rfc__min_samples_leaf=10, rfc__min_samples_split=5, rfc__n_estimators=200 \n",
      "[CV]  rfc__criterion=entropy, rfc__max_depth=None, rfc__min_samples_leaf=10, rfc__min_samples_split=5, rfc__n_estimators=200, score=0.740, total=  31.6s\n",
      "[CV] rfc__criterion=entropy, rfc__max_depth=None, rfc__min_samples_leaf=10, rfc__min_samples_split=5, rfc__n_estimators=200 \n",
      "[CV]  rfc__criterion=entropy, rfc__max_depth=None, rfc__min_samples_leaf=10, rfc__min_samples_split=5, rfc__n_estimators=200, score=0.746, total=  31.8s\n",
      "[CV] rfc__criterion=entropy, rfc__max_depth=None, rfc__min_samples_leaf=10, rfc__min_samples_split=5, rfc__n_estimators=200 \n",
      "[CV]  rfc__criterion=entropy, rfc__max_depth=None, rfc__min_samples_leaf=10, rfc__min_samples_split=5, rfc__n_estimators=200, score=0.740, total=  31.8s\n",
      "[CV] rfc__criterion=entropy, rfc__max_depth=None, rfc__min_samples_leaf=10, rfc__min_samples_split=10, rfc__n_estimators=100 \n",
      "[CV]  rfc__criterion=entropy, rfc__max_depth=None, rfc__min_samples_leaf=10, rfc__min_samples_split=10, rfc__n_estimators=100, score=0.749, total=  16.2s\n",
      "[CV] rfc__criterion=entropy, rfc__max_depth=None, rfc__min_samples_leaf=10, rfc__min_samples_split=10, rfc__n_estimators=100 \n",
      "[CV]  rfc__criterion=entropy, rfc__max_depth=None, rfc__min_samples_leaf=10, rfc__min_samples_split=10, rfc__n_estimators=100, score=0.741, total=  16.1s\n",
      "[CV] rfc__criterion=entropy, rfc__max_depth=None, rfc__min_samples_leaf=10, rfc__min_samples_split=10, rfc__n_estimators=100 \n",
      "[CV]  rfc__criterion=entropy, rfc__max_depth=None, rfc__min_samples_leaf=10, rfc__min_samples_split=10, rfc__n_estimators=100, score=0.738, total=  15.9s\n",
      "[CV] rfc__criterion=entropy, rfc__max_depth=None, rfc__min_samples_leaf=10, rfc__min_samples_split=10, rfc__n_estimators=100 \n",
      "[CV]  rfc__criterion=entropy, rfc__max_depth=None, rfc__min_samples_leaf=10, rfc__min_samples_split=10, rfc__n_estimators=100, score=0.745, total=  16.5s\n",
      "[CV] rfc__criterion=entropy, rfc__max_depth=None, rfc__min_samples_leaf=10, rfc__min_samples_split=10, rfc__n_estimators=100 \n",
      "[CV]  rfc__criterion=entropy, rfc__max_depth=None, rfc__min_samples_leaf=10, rfc__min_samples_split=10, rfc__n_estimators=100, score=0.740, total=  16.2s\n",
      "[CV] rfc__criterion=entropy, rfc__max_depth=None, rfc__min_samples_leaf=10, rfc__min_samples_split=10, rfc__n_estimators=200 \n",
      "[CV]  rfc__criterion=entropy, rfc__max_depth=None, rfc__min_samples_leaf=10, rfc__min_samples_split=10, rfc__n_estimators=200, score=0.751, total=  31.8s\n",
      "[CV] rfc__criterion=entropy, rfc__max_depth=None, rfc__min_samples_leaf=10, rfc__min_samples_split=10, rfc__n_estimators=200 \n",
      "[CV]  rfc__criterion=entropy, rfc__max_depth=None, rfc__min_samples_leaf=10, rfc__min_samples_split=10, rfc__n_estimators=200, score=0.744, total=  31.8s\n",
      "[CV] rfc__criterion=entropy, rfc__max_depth=None, rfc__min_samples_leaf=10, rfc__min_samples_split=10, rfc__n_estimators=200 \n",
      "[CV]  rfc__criterion=entropy, rfc__max_depth=None, rfc__min_samples_leaf=10, rfc__min_samples_split=10, rfc__n_estimators=200, score=0.740, total=  31.6s\n",
      "[CV] rfc__criterion=entropy, rfc__max_depth=None, rfc__min_samples_leaf=10, rfc__min_samples_split=10, rfc__n_estimators=200 \n",
      "[CV]  rfc__criterion=entropy, rfc__max_depth=None, rfc__min_samples_leaf=10, rfc__min_samples_split=10, rfc__n_estimators=200, score=0.746, total=  32.4s\n",
      "[CV] rfc__criterion=entropy, rfc__max_depth=None, rfc__min_samples_leaf=10, rfc__min_samples_split=10, rfc__n_estimators=200 \n",
      "[CV]  rfc__criterion=entropy, rfc__max_depth=None, rfc__min_samples_leaf=10, rfc__min_samples_split=10, rfc__n_estimators=200, score=0.740, total=  31.2s\n",
      "[CV] rfc__criterion=entropy, rfc__max_depth=50, rfc__min_samples_leaf=1, rfc__min_samples_split=2, rfc__n_estimators=100 \n",
      "[CV]  rfc__criterion=entropy, rfc__max_depth=50, rfc__min_samples_leaf=1, rfc__min_samples_split=2, rfc__n_estimators=100, score=0.788, total=  26.7s\n",
      "[CV] rfc__criterion=entropy, rfc__max_depth=50, rfc__min_samples_leaf=1, rfc__min_samples_split=2, rfc__n_estimators=100 \n",
      "[CV]  rfc__criterion=entropy, rfc__max_depth=50, rfc__min_samples_leaf=1, rfc__min_samples_split=2, rfc__n_estimators=100, score=0.786, total=  27.4s\n",
      "[CV] rfc__criterion=entropy, rfc__max_depth=50, rfc__min_samples_leaf=1, rfc__min_samples_split=2, rfc__n_estimators=100 \n",
      "[CV]  rfc__criterion=entropy, rfc__max_depth=50, rfc__min_samples_leaf=1, rfc__min_samples_split=2, rfc__n_estimators=100, score=0.786, total=  28.2s\n",
      "[CV] rfc__criterion=entropy, rfc__max_depth=50, rfc__min_samples_leaf=1, rfc__min_samples_split=2, rfc__n_estimators=100 \n",
      "[CV]  rfc__criterion=entropy, rfc__max_depth=50, rfc__min_samples_leaf=1, rfc__min_samples_split=2, rfc__n_estimators=100, score=0.787, total=  28.4s\n",
      "[CV] rfc__criterion=entropy, rfc__max_depth=50, rfc__min_samples_leaf=1, rfc__min_samples_split=2, rfc__n_estimators=100 \n",
      "[CV]  rfc__criterion=entropy, rfc__max_depth=50, rfc__min_samples_leaf=1, rfc__min_samples_split=2, rfc__n_estimators=100, score=0.782, total=  27.6s\n",
      "[CV] rfc__criterion=entropy, rfc__max_depth=50, rfc__min_samples_leaf=1, rfc__min_samples_split=2, rfc__n_estimators=200 \n",
      "[CV]  rfc__criterion=entropy, rfc__max_depth=50, rfc__min_samples_leaf=1, rfc__min_samples_split=2, rfc__n_estimators=200, score=0.788, total=  54.3s\n",
      "[CV] rfc__criterion=entropy, rfc__max_depth=50, rfc__min_samples_leaf=1, rfc__min_samples_split=2, rfc__n_estimators=200 \n",
      "[CV]  rfc__criterion=entropy, rfc__max_depth=50, rfc__min_samples_leaf=1, rfc__min_samples_split=2, rfc__n_estimators=200, score=0.786, total=  55.3s\n",
      "[CV] rfc__criterion=entropy, rfc__max_depth=50, rfc__min_samples_leaf=1, rfc__min_samples_split=2, rfc__n_estimators=200 \n",
      "[CV]  rfc__criterion=entropy, rfc__max_depth=50, rfc__min_samples_leaf=1, rfc__min_samples_split=2, rfc__n_estimators=200, score=0.783, total=  55.0s\n",
      "[CV] rfc__criterion=entropy, rfc__max_depth=50, rfc__min_samples_leaf=1, rfc__min_samples_split=2, rfc__n_estimators=200 \n"
     ]
    },
    {
     "name": "stdout",
     "output_type": "stream",
     "text": [
      "[CV]  rfc__criterion=entropy, rfc__max_depth=50, rfc__min_samples_leaf=1, rfc__min_samples_split=2, rfc__n_estimators=200, score=0.788, total=  56.2s\n",
      "[CV] rfc__criterion=entropy, rfc__max_depth=50, rfc__min_samples_leaf=1, rfc__min_samples_split=2, rfc__n_estimators=200 \n",
      "[CV]  rfc__criterion=entropy, rfc__max_depth=50, rfc__min_samples_leaf=1, rfc__min_samples_split=2, rfc__n_estimators=200, score=0.782, total=  54.1s\n",
      "[CV] rfc__criterion=entropy, rfc__max_depth=50, rfc__min_samples_leaf=1, rfc__min_samples_split=5, rfc__n_estimators=100 \n",
      "[CV]  rfc__criterion=entropy, rfc__max_depth=50, rfc__min_samples_leaf=1, rfc__min_samples_split=5, rfc__n_estimators=100, score=0.798, total=  25.6s\n",
      "[CV] rfc__criterion=entropy, rfc__max_depth=50, rfc__min_samples_leaf=1, rfc__min_samples_split=5, rfc__n_estimators=100 \n",
      "[CV]  rfc__criterion=entropy, rfc__max_depth=50, rfc__min_samples_leaf=1, rfc__min_samples_split=5, rfc__n_estimators=100, score=0.790, total=  25.3s\n",
      "[CV] rfc__criterion=entropy, rfc__max_depth=50, rfc__min_samples_leaf=1, rfc__min_samples_split=5, rfc__n_estimators=100 \n",
      "[CV]  rfc__criterion=entropy, rfc__max_depth=50, rfc__min_samples_leaf=1, rfc__min_samples_split=5, rfc__n_estimators=100, score=0.794, total=  25.4s\n",
      "[CV] rfc__criterion=entropy, rfc__max_depth=50, rfc__min_samples_leaf=1, rfc__min_samples_split=5, rfc__n_estimators=100 \n",
      "[CV]  rfc__criterion=entropy, rfc__max_depth=50, rfc__min_samples_leaf=1, rfc__min_samples_split=5, rfc__n_estimators=100, score=0.793, total=  25.3s\n",
      "[CV] rfc__criterion=entropy, rfc__max_depth=50, rfc__min_samples_leaf=1, rfc__min_samples_split=5, rfc__n_estimators=100 \n",
      "[CV]  rfc__criterion=entropy, rfc__max_depth=50, rfc__min_samples_leaf=1, rfc__min_samples_split=5, rfc__n_estimators=100, score=0.789, total=  24.8s\n",
      "[CV] rfc__criterion=entropy, rfc__max_depth=50, rfc__min_samples_leaf=1, rfc__min_samples_split=5, rfc__n_estimators=200 \n",
      "[CV]  rfc__criterion=entropy, rfc__max_depth=50, rfc__min_samples_leaf=1, rfc__min_samples_split=5, rfc__n_estimators=200, score=0.796, total=  47.1s\n",
      "[CV] rfc__criterion=entropy, rfc__max_depth=50, rfc__min_samples_leaf=1, rfc__min_samples_split=5, rfc__n_estimators=200 \n",
      "[CV]  rfc__criterion=entropy, rfc__max_depth=50, rfc__min_samples_leaf=1, rfc__min_samples_split=5, rfc__n_estimators=200, score=0.793, total=  49.4s\n",
      "[CV] rfc__criterion=entropy, rfc__max_depth=50, rfc__min_samples_leaf=1, rfc__min_samples_split=5, rfc__n_estimators=200 \n",
      "[CV]  rfc__criterion=entropy, rfc__max_depth=50, rfc__min_samples_leaf=1, rfc__min_samples_split=5, rfc__n_estimators=200, score=0.796, total=  48.9s\n",
      "[CV] rfc__criterion=entropy, rfc__max_depth=50, rfc__min_samples_leaf=1, rfc__min_samples_split=5, rfc__n_estimators=200 \n",
      "[CV]  rfc__criterion=entropy, rfc__max_depth=50, rfc__min_samples_leaf=1, rfc__min_samples_split=5, rfc__n_estimators=200, score=0.796, total=  48.6s\n",
      "[CV] rfc__criterion=entropy, rfc__max_depth=50, rfc__min_samples_leaf=1, rfc__min_samples_split=5, rfc__n_estimators=200 \n",
      "[CV]  rfc__criterion=entropy, rfc__max_depth=50, rfc__min_samples_leaf=1, rfc__min_samples_split=5, rfc__n_estimators=200, score=0.792, total=  47.3s\n",
      "[CV] rfc__criterion=entropy, rfc__max_depth=50, rfc__min_samples_leaf=1, rfc__min_samples_split=10, rfc__n_estimators=100 \n",
      "[CV]  rfc__criterion=entropy, rfc__max_depth=50, rfc__min_samples_leaf=1, rfc__min_samples_split=10, rfc__n_estimators=100, score=0.800, total=  22.8s\n",
      "[CV] rfc__criterion=entropy, rfc__max_depth=50, rfc__min_samples_leaf=1, rfc__min_samples_split=10, rfc__n_estimators=100 \n",
      "[CV]  rfc__criterion=entropy, rfc__max_depth=50, rfc__min_samples_leaf=1, rfc__min_samples_split=10, rfc__n_estimators=100, score=0.795, total=  22.9s\n",
      "[CV] rfc__criterion=entropy, rfc__max_depth=50, rfc__min_samples_leaf=1, rfc__min_samples_split=10, rfc__n_estimators=100 \n",
      "[CV]  rfc__criterion=entropy, rfc__max_depth=50, rfc__min_samples_leaf=1, rfc__min_samples_split=10, rfc__n_estimators=100, score=0.793, total=  24.5s\n",
      "[CV] rfc__criterion=entropy, rfc__max_depth=50, rfc__min_samples_leaf=1, rfc__min_samples_split=10, rfc__n_estimators=100 \n",
      "[CV]  rfc__criterion=entropy, rfc__max_depth=50, rfc__min_samples_leaf=1, rfc__min_samples_split=10, rfc__n_estimators=100, score=0.795, total=  23.7s\n",
      "[CV] rfc__criterion=entropy, rfc__max_depth=50, rfc__min_samples_leaf=1, rfc__min_samples_split=10, rfc__n_estimators=100 \n",
      "[CV]  rfc__criterion=entropy, rfc__max_depth=50, rfc__min_samples_leaf=1, rfc__min_samples_split=10, rfc__n_estimators=100, score=0.789, total=  23.8s\n",
      "[CV] rfc__criterion=entropy, rfc__max_depth=50, rfc__min_samples_leaf=1, rfc__min_samples_split=10, rfc__n_estimators=200 \n",
      "[CV]  rfc__criterion=entropy, rfc__max_depth=50, rfc__min_samples_leaf=1, rfc__min_samples_split=10, rfc__n_estimators=200, score=0.799, total=  47.2s\n",
      "[CV] rfc__criterion=entropy, rfc__max_depth=50, rfc__min_samples_leaf=1, rfc__min_samples_split=10, rfc__n_estimators=200 \n",
      "[CV]  rfc__criterion=entropy, rfc__max_depth=50, rfc__min_samples_leaf=1, rfc__min_samples_split=10, rfc__n_estimators=200, score=0.797, total=  46.0s\n",
      "[CV] rfc__criterion=entropy, rfc__max_depth=50, rfc__min_samples_leaf=1, rfc__min_samples_split=10, rfc__n_estimators=200 \n",
      "[CV]  rfc__criterion=entropy, rfc__max_depth=50, rfc__min_samples_leaf=1, rfc__min_samples_split=10, rfc__n_estimators=200, score=0.794, total=  47.1s\n",
      "[CV] rfc__criterion=entropy, rfc__max_depth=50, rfc__min_samples_leaf=1, rfc__min_samples_split=10, rfc__n_estimators=200 \n",
      "[CV]  rfc__criterion=entropy, rfc__max_depth=50, rfc__min_samples_leaf=1, rfc__min_samples_split=10, rfc__n_estimators=200, score=0.797, total=  47.1s\n",
      "[CV] rfc__criterion=entropy, rfc__max_depth=50, rfc__min_samples_leaf=1, rfc__min_samples_split=10, rfc__n_estimators=200 \n",
      "[CV]  rfc__criterion=entropy, rfc__max_depth=50, rfc__min_samples_leaf=1, rfc__min_samples_split=10, rfc__n_estimators=200, score=0.790, total=  44.7s\n",
      "[CV] rfc__criterion=entropy, rfc__max_depth=50, rfc__min_samples_leaf=10, rfc__min_samples_split=2, rfc__n_estimators=100 \n",
      "[CV]  rfc__criterion=entropy, rfc__max_depth=50, rfc__min_samples_leaf=10, rfc__min_samples_split=2, rfc__n_estimators=100, score=0.749, total=  16.4s\n",
      "[CV] rfc__criterion=entropy, rfc__max_depth=50, rfc__min_samples_leaf=10, rfc__min_samples_split=2, rfc__n_estimators=100 \n",
      "[CV]  rfc__criterion=entropy, rfc__max_depth=50, rfc__min_samples_leaf=10, rfc__min_samples_split=2, rfc__n_estimators=100, score=0.741, total=  16.8s\n",
      "[CV] rfc__criterion=entropy, rfc__max_depth=50, rfc__min_samples_leaf=10, rfc__min_samples_split=2, rfc__n_estimators=100 \n",
      "[CV]  rfc__criterion=entropy, rfc__max_depth=50, rfc__min_samples_leaf=10, rfc__min_samples_split=2, rfc__n_estimators=100, score=0.738, total=  16.3s\n",
      "[CV] rfc__criterion=entropy, rfc__max_depth=50, rfc__min_samples_leaf=10, rfc__min_samples_split=2, rfc__n_estimators=100 \n",
      "[CV]  rfc__criterion=entropy, rfc__max_depth=50, rfc__min_samples_leaf=10, rfc__min_samples_split=2, rfc__n_estimators=100, score=0.745, total=  15.7s\n",
      "[CV] rfc__criterion=entropy, rfc__max_depth=50, rfc__min_samples_leaf=10, rfc__min_samples_split=2, rfc__n_estimators=100 \n",
      "[CV]  rfc__criterion=entropy, rfc__max_depth=50, rfc__min_samples_leaf=10, rfc__min_samples_split=2, rfc__n_estimators=100, score=0.740, total=  15.1s\n",
      "[CV] rfc__criterion=entropy, rfc__max_depth=50, rfc__min_samples_leaf=10, rfc__min_samples_split=2, rfc__n_estimators=200 \n",
      "[CV]  rfc__criterion=entropy, rfc__max_depth=50, rfc__min_samples_leaf=10, rfc__min_samples_split=2, rfc__n_estimators=200, score=0.751, total=  30.3s\n",
      "[CV] rfc__criterion=entropy, rfc__max_depth=50, rfc__min_samples_leaf=10, rfc__min_samples_split=2, rfc__n_estimators=200 \n",
      "[CV]  rfc__criterion=entropy, rfc__max_depth=50, rfc__min_samples_leaf=10, rfc__min_samples_split=2, rfc__n_estimators=200, score=0.744, total=  30.3s\n",
      "[CV] rfc__criterion=entropy, rfc__max_depth=50, rfc__min_samples_leaf=10, rfc__min_samples_split=2, rfc__n_estimators=200 \n",
      "[CV]  rfc__criterion=entropy, rfc__max_depth=50, rfc__min_samples_leaf=10, rfc__min_samples_split=2, rfc__n_estimators=200, score=0.740, total=  29.8s\n",
      "[CV] rfc__criterion=entropy, rfc__max_depth=50, rfc__min_samples_leaf=10, rfc__min_samples_split=2, rfc__n_estimators=200 \n"
     ]
    },
    {
     "name": "stdout",
     "output_type": "stream",
     "text": [
      "[CV]  rfc__criterion=entropy, rfc__max_depth=50, rfc__min_samples_leaf=10, rfc__min_samples_split=2, rfc__n_estimators=200, score=0.746, total=  30.7s\n",
      "[CV] rfc__criterion=entropy, rfc__max_depth=50, rfc__min_samples_leaf=10, rfc__min_samples_split=2, rfc__n_estimators=200 \n",
      "[CV]  rfc__criterion=entropy, rfc__max_depth=50, rfc__min_samples_leaf=10, rfc__min_samples_split=2, rfc__n_estimators=200, score=0.739, total=  29.9s\n",
      "[CV] rfc__criterion=entropy, rfc__max_depth=50, rfc__min_samples_leaf=10, rfc__min_samples_split=5, rfc__n_estimators=100 \n",
      "[CV]  rfc__criterion=entropy, rfc__max_depth=50, rfc__min_samples_leaf=10, rfc__min_samples_split=5, rfc__n_estimators=100, score=0.749, total=  15.9s\n",
      "[CV] rfc__criterion=entropy, rfc__max_depth=50, rfc__min_samples_leaf=10, rfc__min_samples_split=5, rfc__n_estimators=100 \n",
      "[CV]  rfc__criterion=entropy, rfc__max_depth=50, rfc__min_samples_leaf=10, rfc__min_samples_split=5, rfc__n_estimators=100, score=0.741, total=  15.3s\n",
      "[CV] rfc__criterion=entropy, rfc__max_depth=50, rfc__min_samples_leaf=10, rfc__min_samples_split=5, rfc__n_estimators=100 \n",
      "[CV]  rfc__criterion=entropy, rfc__max_depth=50, rfc__min_samples_leaf=10, rfc__min_samples_split=5, rfc__n_estimators=100, score=0.738, total=  15.5s\n",
      "[CV] rfc__criterion=entropy, rfc__max_depth=50, rfc__min_samples_leaf=10, rfc__min_samples_split=5, rfc__n_estimators=100 \n",
      "[CV]  rfc__criterion=entropy, rfc__max_depth=50, rfc__min_samples_leaf=10, rfc__min_samples_split=5, rfc__n_estimators=100, score=0.745, total=  15.9s\n",
      "[CV] rfc__criterion=entropy, rfc__max_depth=50, rfc__min_samples_leaf=10, rfc__min_samples_split=5, rfc__n_estimators=100 \n",
      "[CV]  rfc__criterion=entropy, rfc__max_depth=50, rfc__min_samples_leaf=10, rfc__min_samples_split=5, rfc__n_estimators=100, score=0.740, total=  15.2s\n",
      "[CV] rfc__criterion=entropy, rfc__max_depth=50, rfc__min_samples_leaf=10, rfc__min_samples_split=5, rfc__n_estimators=200 \n",
      "[CV]  rfc__criterion=entropy, rfc__max_depth=50, rfc__min_samples_leaf=10, rfc__min_samples_split=5, rfc__n_estimators=200, score=0.751, total=  30.1s\n",
      "[CV] rfc__criterion=entropy, rfc__max_depth=50, rfc__min_samples_leaf=10, rfc__min_samples_split=5, rfc__n_estimators=200 \n",
      "[CV]  rfc__criterion=entropy, rfc__max_depth=50, rfc__min_samples_leaf=10, rfc__min_samples_split=5, rfc__n_estimators=200, score=0.744, total=  30.1s\n",
      "[CV] rfc__criterion=entropy, rfc__max_depth=50, rfc__min_samples_leaf=10, rfc__min_samples_split=5, rfc__n_estimators=200 \n",
      "[CV]  rfc__criterion=entropy, rfc__max_depth=50, rfc__min_samples_leaf=10, rfc__min_samples_split=5, rfc__n_estimators=200, score=0.740, total=  29.7s\n",
      "[CV] rfc__criterion=entropy, rfc__max_depth=50, rfc__min_samples_leaf=10, rfc__min_samples_split=5, rfc__n_estimators=200 \n",
      "[CV]  rfc__criterion=entropy, rfc__max_depth=50, rfc__min_samples_leaf=10, rfc__min_samples_split=5, rfc__n_estimators=200, score=0.746, total=  30.9s\n",
      "[CV] rfc__criterion=entropy, rfc__max_depth=50, rfc__min_samples_leaf=10, rfc__min_samples_split=5, rfc__n_estimators=200 \n",
      "[CV]  rfc__criterion=entropy, rfc__max_depth=50, rfc__min_samples_leaf=10, rfc__min_samples_split=5, rfc__n_estimators=200, score=0.739, total=  29.8s\n",
      "[CV] rfc__criterion=entropy, rfc__max_depth=50, rfc__min_samples_leaf=10, rfc__min_samples_split=10, rfc__n_estimators=100 \n",
      "[CV]  rfc__criterion=entropy, rfc__max_depth=50, rfc__min_samples_leaf=10, rfc__min_samples_split=10, rfc__n_estimators=100, score=0.749, total=  15.6s\n",
      "[CV] rfc__criterion=entropy, rfc__max_depth=50, rfc__min_samples_leaf=10, rfc__min_samples_split=10, rfc__n_estimators=100 \n",
      "[CV]  rfc__criterion=entropy, rfc__max_depth=50, rfc__min_samples_leaf=10, rfc__min_samples_split=10, rfc__n_estimators=100, score=0.741, total=  15.8s\n",
      "[CV] rfc__criterion=entropy, rfc__max_depth=50, rfc__min_samples_leaf=10, rfc__min_samples_split=10, rfc__n_estimators=100 \n",
      "[CV]  rfc__criterion=entropy, rfc__max_depth=50, rfc__min_samples_leaf=10, rfc__min_samples_split=10, rfc__n_estimators=100, score=0.738, total=  15.5s\n",
      "[CV] rfc__criterion=entropy, rfc__max_depth=50, rfc__min_samples_leaf=10, rfc__min_samples_split=10, rfc__n_estimators=100 \n",
      "[CV]  rfc__criterion=entropy, rfc__max_depth=50, rfc__min_samples_leaf=10, rfc__min_samples_split=10, rfc__n_estimators=100, score=0.745, total=  16.0s\n",
      "[CV] rfc__criterion=entropy, rfc__max_depth=50, rfc__min_samples_leaf=10, rfc__min_samples_split=10, rfc__n_estimators=100 \n",
      "[CV]  rfc__criterion=entropy, rfc__max_depth=50, rfc__min_samples_leaf=10, rfc__min_samples_split=10, rfc__n_estimators=100, score=0.740, total=  15.5s\n",
      "[CV] rfc__criterion=entropy, rfc__max_depth=50, rfc__min_samples_leaf=10, rfc__min_samples_split=10, rfc__n_estimators=200 \n",
      "[CV]  rfc__criterion=entropy, rfc__max_depth=50, rfc__min_samples_leaf=10, rfc__min_samples_split=10, rfc__n_estimators=200, score=0.751, total=  31.0s\n",
      "[CV] rfc__criterion=entropy, rfc__max_depth=50, rfc__min_samples_leaf=10, rfc__min_samples_split=10, rfc__n_estimators=200 \n",
      "[CV]  rfc__criterion=entropy, rfc__max_depth=50, rfc__min_samples_leaf=10, rfc__min_samples_split=10, rfc__n_estimators=200, score=0.744, total=  31.5s\n",
      "[CV] rfc__criterion=entropy, rfc__max_depth=50, rfc__min_samples_leaf=10, rfc__min_samples_split=10, rfc__n_estimators=200 \n",
      "[CV]  rfc__criterion=entropy, rfc__max_depth=50, rfc__min_samples_leaf=10, rfc__min_samples_split=10, rfc__n_estimators=200, score=0.740, total=  30.6s\n",
      "[CV] rfc__criterion=entropy, rfc__max_depth=50, rfc__min_samples_leaf=10, rfc__min_samples_split=10, rfc__n_estimators=200 \n",
      "[CV]  rfc__criterion=entropy, rfc__max_depth=50, rfc__min_samples_leaf=10, rfc__min_samples_split=10, rfc__n_estimators=200, score=0.746, total=  31.1s\n",
      "[CV] rfc__criterion=entropy, rfc__max_depth=50, rfc__min_samples_leaf=10, rfc__min_samples_split=10, rfc__n_estimators=200 \n",
      "[CV]  rfc__criterion=entropy, rfc__max_depth=50, rfc__min_samples_leaf=10, rfc__min_samples_split=10, rfc__n_estimators=200, score=0.739, total=  30.2s\n",
      "[CV] rfc__criterion=entropy, rfc__max_depth=100, rfc__min_samples_leaf=1, rfc__min_samples_split=2, rfc__n_estimators=100 \n",
      "[CV]  rfc__criterion=entropy, rfc__max_depth=100, rfc__min_samples_leaf=1, rfc__min_samples_split=2, rfc__n_estimators=100, score=0.787, total=  26.7s\n",
      "[CV] rfc__criterion=entropy, rfc__max_depth=100, rfc__min_samples_leaf=1, rfc__min_samples_split=2, rfc__n_estimators=100 \n",
      "[CV]  rfc__criterion=entropy, rfc__max_depth=100, rfc__min_samples_leaf=1, rfc__min_samples_split=2, rfc__n_estimators=100, score=0.784, total=  26.8s\n",
      "[CV] rfc__criterion=entropy, rfc__max_depth=100, rfc__min_samples_leaf=1, rfc__min_samples_split=2, rfc__n_estimators=100 \n",
      "[CV]  rfc__criterion=entropy, rfc__max_depth=100, rfc__min_samples_leaf=1, rfc__min_samples_split=2, rfc__n_estimators=100, score=0.784, total=  26.5s\n",
      "[CV] rfc__criterion=entropy, rfc__max_depth=100, rfc__min_samples_leaf=1, rfc__min_samples_split=2, rfc__n_estimators=100 \n",
      "[CV]  rfc__criterion=entropy, rfc__max_depth=100, rfc__min_samples_leaf=1, rfc__min_samples_split=2, rfc__n_estimators=100, score=0.782, total=  27.5s\n",
      "[CV] rfc__criterion=entropy, rfc__max_depth=100, rfc__min_samples_leaf=1, rfc__min_samples_split=2, rfc__n_estimators=100 \n",
      "[CV]  rfc__criterion=entropy, rfc__max_depth=100, rfc__min_samples_leaf=1, rfc__min_samples_split=2, rfc__n_estimators=100, score=0.781, total=  26.4s\n",
      "[CV] rfc__criterion=entropy, rfc__max_depth=100, rfc__min_samples_leaf=1, rfc__min_samples_split=2, rfc__n_estimators=200 \n",
      "[CV]  rfc__criterion=entropy, rfc__max_depth=100, rfc__min_samples_leaf=1, rfc__min_samples_split=2, rfc__n_estimators=200, score=0.786, total=  52.6s\n",
      "[CV] rfc__criterion=entropy, rfc__max_depth=100, rfc__min_samples_leaf=1, rfc__min_samples_split=2, rfc__n_estimators=200 \n",
      "[CV]  rfc__criterion=entropy, rfc__max_depth=100, rfc__min_samples_leaf=1, rfc__min_samples_split=2, rfc__n_estimators=200, score=0.786, total=  51.2s\n",
      "[CV] rfc__criterion=entropy, rfc__max_depth=100, rfc__min_samples_leaf=1, rfc__min_samples_split=2, rfc__n_estimators=200 \n",
      "[CV]  rfc__criterion=entropy, rfc__max_depth=100, rfc__min_samples_leaf=1, rfc__min_samples_split=2, rfc__n_estimators=200, score=0.782, total=  51.2s\n",
      "[CV] rfc__criterion=entropy, rfc__max_depth=100, rfc__min_samples_leaf=1, rfc__min_samples_split=2, rfc__n_estimators=200 \n"
     ]
    },
    {
     "name": "stdout",
     "output_type": "stream",
     "text": [
      "[CV]  rfc__criterion=entropy, rfc__max_depth=100, rfc__min_samples_leaf=1, rfc__min_samples_split=2, rfc__n_estimators=200, score=0.783, total=  52.5s\n",
      "[CV] rfc__criterion=entropy, rfc__max_depth=100, rfc__min_samples_leaf=1, rfc__min_samples_split=2, rfc__n_estimators=200 \n",
      "[CV]  rfc__criterion=entropy, rfc__max_depth=100, rfc__min_samples_leaf=1, rfc__min_samples_split=2, rfc__n_estimators=200, score=0.781, total=  51.6s\n",
      "[CV] rfc__criterion=entropy, rfc__max_depth=100, rfc__min_samples_leaf=1, rfc__min_samples_split=5, rfc__n_estimators=100 \n",
      "[CV]  rfc__criterion=entropy, rfc__max_depth=100, rfc__min_samples_leaf=1, rfc__min_samples_split=5, rfc__n_estimators=100, score=0.796, total=  24.1s\n",
      "[CV] rfc__criterion=entropy, rfc__max_depth=100, rfc__min_samples_leaf=1, rfc__min_samples_split=5, rfc__n_estimators=100 \n",
      "[CV]  rfc__criterion=entropy, rfc__max_depth=100, rfc__min_samples_leaf=1, rfc__min_samples_split=5, rfc__n_estimators=100, score=0.792, total=  24.4s\n",
      "[CV] rfc__criterion=entropy, rfc__max_depth=100, rfc__min_samples_leaf=1, rfc__min_samples_split=5, rfc__n_estimators=100 \n",
      "[CV]  rfc__criterion=entropy, rfc__max_depth=100, rfc__min_samples_leaf=1, rfc__min_samples_split=5, rfc__n_estimators=100, score=0.790, total=  24.1s\n",
      "[CV] rfc__criterion=entropy, rfc__max_depth=100, rfc__min_samples_leaf=1, rfc__min_samples_split=5, rfc__n_estimators=100 \n",
      "[CV]  rfc__criterion=entropy, rfc__max_depth=100, rfc__min_samples_leaf=1, rfc__min_samples_split=5, rfc__n_estimators=100, score=0.792, total=  24.3s\n",
      "[CV] rfc__criterion=entropy, rfc__max_depth=100, rfc__min_samples_leaf=1, rfc__min_samples_split=5, rfc__n_estimators=100 \n",
      "[CV]  rfc__criterion=entropy, rfc__max_depth=100, rfc__min_samples_leaf=1, rfc__min_samples_split=5, rfc__n_estimators=100, score=0.786, total=  24.0s\n",
      "[CV] rfc__criterion=entropy, rfc__max_depth=100, rfc__min_samples_leaf=1, rfc__min_samples_split=5, rfc__n_estimators=200 \n",
      "[CV]  rfc__criterion=entropy, rfc__max_depth=100, rfc__min_samples_leaf=1, rfc__min_samples_split=5, rfc__n_estimators=200, score=0.796, total=  47.8s\n",
      "[CV] rfc__criterion=entropy, rfc__max_depth=100, rfc__min_samples_leaf=1, rfc__min_samples_split=5, rfc__n_estimators=200 \n",
      "[CV]  rfc__criterion=entropy, rfc__max_depth=100, rfc__min_samples_leaf=1, rfc__min_samples_split=5, rfc__n_estimators=200, score=0.791, total=  47.6s\n",
      "[CV] rfc__criterion=entropy, rfc__max_depth=100, rfc__min_samples_leaf=1, rfc__min_samples_split=5, rfc__n_estimators=200 \n",
      "[CV]  rfc__criterion=entropy, rfc__max_depth=100, rfc__min_samples_leaf=1, rfc__min_samples_split=5, rfc__n_estimators=200, score=0.791, total=  47.3s\n",
      "[CV] rfc__criterion=entropy, rfc__max_depth=100, rfc__min_samples_leaf=1, rfc__min_samples_split=5, rfc__n_estimators=200 \n",
      "[CV]  rfc__criterion=entropy, rfc__max_depth=100, rfc__min_samples_leaf=1, rfc__min_samples_split=5, rfc__n_estimators=200, score=0.792, total=  48.4s\n",
      "[CV] rfc__criterion=entropy, rfc__max_depth=100, rfc__min_samples_leaf=1, rfc__min_samples_split=5, rfc__n_estimators=200 \n",
      "[CV]  rfc__criterion=entropy, rfc__max_depth=100, rfc__min_samples_leaf=1, rfc__min_samples_split=5, rfc__n_estimators=200, score=0.789, total=  48.7s\n",
      "[CV] rfc__criterion=entropy, rfc__max_depth=100, rfc__min_samples_leaf=1, rfc__min_samples_split=10, rfc__n_estimators=100 \n",
      "[CV]  rfc__criterion=entropy, rfc__max_depth=100, rfc__min_samples_leaf=1, rfc__min_samples_split=10, rfc__n_estimators=100, score=0.799, total=  21.4s\n",
      "[CV] rfc__criterion=entropy, rfc__max_depth=100, rfc__min_samples_leaf=1, rfc__min_samples_split=10, rfc__n_estimators=100 \n",
      "[CV]  rfc__criterion=entropy, rfc__max_depth=100, rfc__min_samples_leaf=1, rfc__min_samples_split=10, rfc__n_estimators=100, score=0.796, total=  20.6s\n",
      "[CV] rfc__criterion=entropy, rfc__max_depth=100, rfc__min_samples_leaf=1, rfc__min_samples_split=10, rfc__n_estimators=100 \n",
      "[CV]  rfc__criterion=entropy, rfc__max_depth=100, rfc__min_samples_leaf=1, rfc__min_samples_split=10, rfc__n_estimators=100, score=0.793, total=  20.2s\n",
      "[CV] rfc__criterion=entropy, rfc__max_depth=100, rfc__min_samples_leaf=1, rfc__min_samples_split=10, rfc__n_estimators=100 \n",
      "[CV]  rfc__criterion=entropy, rfc__max_depth=100, rfc__min_samples_leaf=1, rfc__min_samples_split=10, rfc__n_estimators=100, score=0.790, total=  21.3s\n",
      "[CV] rfc__criterion=entropy, rfc__max_depth=100, rfc__min_samples_leaf=1, rfc__min_samples_split=10, rfc__n_estimators=100 \n",
      "[CV]  rfc__criterion=entropy, rfc__max_depth=100, rfc__min_samples_leaf=1, rfc__min_samples_split=10, rfc__n_estimators=100, score=0.788, total=  21.3s\n",
      "[CV] rfc__criterion=entropy, rfc__max_depth=100, rfc__min_samples_leaf=1, rfc__min_samples_split=10, rfc__n_estimators=200 \n",
      "[CV]  rfc__criterion=entropy, rfc__max_depth=100, rfc__min_samples_leaf=1, rfc__min_samples_split=10, rfc__n_estimators=200, score=0.799, total=  41.5s\n",
      "[CV] rfc__criterion=entropy, rfc__max_depth=100, rfc__min_samples_leaf=1, rfc__min_samples_split=10, rfc__n_estimators=200 \n",
      "[CV]  rfc__criterion=entropy, rfc__max_depth=100, rfc__min_samples_leaf=1, rfc__min_samples_split=10, rfc__n_estimators=200, score=0.796, total=  41.3s\n",
      "[CV] rfc__criterion=entropy, rfc__max_depth=100, rfc__min_samples_leaf=1, rfc__min_samples_split=10, rfc__n_estimators=200 \n",
      "[CV]  rfc__criterion=entropy, rfc__max_depth=100, rfc__min_samples_leaf=1, rfc__min_samples_split=10, rfc__n_estimators=200, score=0.793, total=  42.1s\n",
      "[CV] rfc__criterion=entropy, rfc__max_depth=100, rfc__min_samples_leaf=1, rfc__min_samples_split=10, rfc__n_estimators=200 \n",
      "[CV]  rfc__criterion=entropy, rfc__max_depth=100, rfc__min_samples_leaf=1, rfc__min_samples_split=10, rfc__n_estimators=200, score=0.792, total=  42.2s\n",
      "[CV] rfc__criterion=entropy, rfc__max_depth=100, rfc__min_samples_leaf=1, rfc__min_samples_split=10, rfc__n_estimators=200 \n",
      "[CV]  rfc__criterion=entropy, rfc__max_depth=100, rfc__min_samples_leaf=1, rfc__min_samples_split=10, rfc__n_estimators=200, score=0.791, total=  41.4s\n",
      "[CV] rfc__criterion=entropy, rfc__max_depth=100, rfc__min_samples_leaf=10, rfc__min_samples_split=2, rfc__n_estimators=100 \n",
      "[CV]  rfc__criterion=entropy, rfc__max_depth=100, rfc__min_samples_leaf=10, rfc__min_samples_split=2, rfc__n_estimators=100, score=0.749, total=  14.2s\n",
      "[CV] rfc__criterion=entropy, rfc__max_depth=100, rfc__min_samples_leaf=10, rfc__min_samples_split=2, rfc__n_estimators=100 \n",
      "[CV]  rfc__criterion=entropy, rfc__max_depth=100, rfc__min_samples_leaf=10, rfc__min_samples_split=2, rfc__n_estimators=100, score=0.741, total=  13.8s\n",
      "[CV] rfc__criterion=entropy, rfc__max_depth=100, rfc__min_samples_leaf=10, rfc__min_samples_split=2, rfc__n_estimators=100 \n",
      "[CV]  rfc__criterion=entropy, rfc__max_depth=100, rfc__min_samples_leaf=10, rfc__min_samples_split=2, rfc__n_estimators=100, score=0.738, total=  13.8s\n",
      "[CV] rfc__criterion=entropy, rfc__max_depth=100, rfc__min_samples_leaf=10, rfc__min_samples_split=2, rfc__n_estimators=100 \n",
      "[CV]  rfc__criterion=entropy, rfc__max_depth=100, rfc__min_samples_leaf=10, rfc__min_samples_split=2, rfc__n_estimators=100, score=0.745, total=  14.4s\n",
      "[CV] rfc__criterion=entropy, rfc__max_depth=100, rfc__min_samples_leaf=10, rfc__min_samples_split=2, rfc__n_estimators=100 \n",
      "[CV]  rfc__criterion=entropy, rfc__max_depth=100, rfc__min_samples_leaf=10, rfc__min_samples_split=2, rfc__n_estimators=100, score=0.740, total=  13.8s\n",
      "[CV] rfc__criterion=entropy, rfc__max_depth=100, rfc__min_samples_leaf=10, rfc__min_samples_split=2, rfc__n_estimators=200 \n",
      "[CV]  rfc__criterion=entropy, rfc__max_depth=100, rfc__min_samples_leaf=10, rfc__min_samples_split=2, rfc__n_estimators=200, score=0.751, total=  27.0s\n",
      "[CV] rfc__criterion=entropy, rfc__max_depth=100, rfc__min_samples_leaf=10, rfc__min_samples_split=2, rfc__n_estimators=200 \n",
      "[CV]  rfc__criterion=entropy, rfc__max_depth=100, rfc__min_samples_leaf=10, rfc__min_samples_split=2, rfc__n_estimators=200, score=0.744, total=  28.2s\n",
      "[CV] rfc__criterion=entropy, rfc__max_depth=100, rfc__min_samples_leaf=10, rfc__min_samples_split=2, rfc__n_estimators=200 \n",
      "[CV]  rfc__criterion=entropy, rfc__max_depth=100, rfc__min_samples_leaf=10, rfc__min_samples_split=2, rfc__n_estimators=200, score=0.740, total=  29.2s\n",
      "[CV] rfc__criterion=entropy, rfc__max_depth=100, rfc__min_samples_leaf=10, rfc__min_samples_split=2, rfc__n_estimators=200 \n"
     ]
    },
    {
     "name": "stdout",
     "output_type": "stream",
     "text": [
      "[CV]  rfc__criterion=entropy, rfc__max_depth=100, rfc__min_samples_leaf=10, rfc__min_samples_split=2, rfc__n_estimators=200, score=0.746, total=  29.9s\n",
      "[CV] rfc__criterion=entropy, rfc__max_depth=100, rfc__min_samples_leaf=10, rfc__min_samples_split=2, rfc__n_estimators=200 \n",
      "[CV]  rfc__criterion=entropy, rfc__max_depth=100, rfc__min_samples_leaf=10, rfc__min_samples_split=2, rfc__n_estimators=200, score=0.740, total=  28.4s\n",
      "[CV] rfc__criterion=entropy, rfc__max_depth=100, rfc__min_samples_leaf=10, rfc__min_samples_split=5, rfc__n_estimators=100 \n",
      "[CV]  rfc__criterion=entropy, rfc__max_depth=100, rfc__min_samples_leaf=10, rfc__min_samples_split=5, rfc__n_estimators=100, score=0.749, total=  15.2s\n",
      "[CV] rfc__criterion=entropy, rfc__max_depth=100, rfc__min_samples_leaf=10, rfc__min_samples_split=5, rfc__n_estimators=100 \n",
      "[CV]  rfc__criterion=entropy, rfc__max_depth=100, rfc__min_samples_leaf=10, rfc__min_samples_split=5, rfc__n_estimators=100, score=0.741, total=  15.0s\n",
      "[CV] rfc__criterion=entropy, rfc__max_depth=100, rfc__min_samples_leaf=10, rfc__min_samples_split=5, rfc__n_estimators=100 \n",
      "[CV]  rfc__criterion=entropy, rfc__max_depth=100, rfc__min_samples_leaf=10, rfc__min_samples_split=5, rfc__n_estimators=100, score=0.738, total=  15.0s\n",
      "[CV] rfc__criterion=entropy, rfc__max_depth=100, rfc__min_samples_leaf=10, rfc__min_samples_split=5, rfc__n_estimators=100 \n",
      "[CV]  rfc__criterion=entropy, rfc__max_depth=100, rfc__min_samples_leaf=10, rfc__min_samples_split=5, rfc__n_estimators=100, score=0.745, total=  15.4s\n",
      "[CV] rfc__criterion=entropy, rfc__max_depth=100, rfc__min_samples_leaf=10, rfc__min_samples_split=5, rfc__n_estimators=100 \n",
      "[CV]  rfc__criterion=entropy, rfc__max_depth=100, rfc__min_samples_leaf=10, rfc__min_samples_split=5, rfc__n_estimators=100, score=0.740, total=  14.6s\n",
      "[CV] rfc__criterion=entropy, rfc__max_depth=100, rfc__min_samples_leaf=10, rfc__min_samples_split=5, rfc__n_estimators=200 \n",
      "[CV]  rfc__criterion=entropy, rfc__max_depth=100, rfc__min_samples_leaf=10, rfc__min_samples_split=5, rfc__n_estimators=200, score=0.751, total=  29.0s\n",
      "[CV] rfc__criterion=entropy, rfc__max_depth=100, rfc__min_samples_leaf=10, rfc__min_samples_split=5, rfc__n_estimators=200 \n",
      "[CV]  rfc__criterion=entropy, rfc__max_depth=100, rfc__min_samples_leaf=10, rfc__min_samples_split=5, rfc__n_estimators=200, score=0.744, total=  29.0s\n",
      "[CV] rfc__criterion=entropy, rfc__max_depth=100, rfc__min_samples_leaf=10, rfc__min_samples_split=5, rfc__n_estimators=200 \n",
      "[CV]  rfc__criterion=entropy, rfc__max_depth=100, rfc__min_samples_leaf=10, rfc__min_samples_split=5, rfc__n_estimators=200, score=0.740, total=  29.0s\n",
      "[CV] rfc__criterion=entropy, rfc__max_depth=100, rfc__min_samples_leaf=10, rfc__min_samples_split=5, rfc__n_estimators=200 \n",
      "[CV]  rfc__criterion=entropy, rfc__max_depth=100, rfc__min_samples_leaf=10, rfc__min_samples_split=5, rfc__n_estimators=200, score=0.746, total=  30.2s\n",
      "[CV] rfc__criterion=entropy, rfc__max_depth=100, rfc__min_samples_leaf=10, rfc__min_samples_split=5, rfc__n_estimators=200 \n",
      "[CV]  rfc__criterion=entropy, rfc__max_depth=100, rfc__min_samples_leaf=10, rfc__min_samples_split=5, rfc__n_estimators=200, score=0.740, total=  28.9s\n",
      "[CV] rfc__criterion=entropy, rfc__max_depth=100, rfc__min_samples_leaf=10, rfc__min_samples_split=10, rfc__n_estimators=100 \n",
      "[CV]  rfc__criterion=entropy, rfc__max_depth=100, rfc__min_samples_leaf=10, rfc__min_samples_split=10, rfc__n_estimators=100, score=0.749, total=  15.7s\n",
      "[CV] rfc__criterion=entropy, rfc__max_depth=100, rfc__min_samples_leaf=10, rfc__min_samples_split=10, rfc__n_estimators=100 \n",
      "[CV]  rfc__criterion=entropy, rfc__max_depth=100, rfc__min_samples_leaf=10, rfc__min_samples_split=10, rfc__n_estimators=100, score=0.741, total=  15.4s\n",
      "[CV] rfc__criterion=entropy, rfc__max_depth=100, rfc__min_samples_leaf=10, rfc__min_samples_split=10, rfc__n_estimators=100 \n",
      "[CV]  rfc__criterion=entropy, rfc__max_depth=100, rfc__min_samples_leaf=10, rfc__min_samples_split=10, rfc__n_estimators=100, score=0.738, total=  16.0s\n",
      "[CV] rfc__criterion=entropy, rfc__max_depth=100, rfc__min_samples_leaf=10, rfc__min_samples_split=10, rfc__n_estimators=100 \n",
      "[CV]  rfc__criterion=entropy, rfc__max_depth=100, rfc__min_samples_leaf=10, rfc__min_samples_split=10, rfc__n_estimators=100, score=0.745, total=  15.4s\n",
      "[CV] rfc__criterion=entropy, rfc__max_depth=100, rfc__min_samples_leaf=10, rfc__min_samples_split=10, rfc__n_estimators=100 \n",
      "[CV]  rfc__criterion=entropy, rfc__max_depth=100, rfc__min_samples_leaf=10, rfc__min_samples_split=10, rfc__n_estimators=100, score=0.740, total=  14.7s\n",
      "[CV] rfc__criterion=entropy, rfc__max_depth=100, rfc__min_samples_leaf=10, rfc__min_samples_split=10, rfc__n_estimators=200 \n",
      "[CV]  rfc__criterion=entropy, rfc__max_depth=100, rfc__min_samples_leaf=10, rfc__min_samples_split=10, rfc__n_estimators=200, score=0.751, total=  28.8s\n",
      "[CV] rfc__criterion=entropy, rfc__max_depth=100, rfc__min_samples_leaf=10, rfc__min_samples_split=10, rfc__n_estimators=200 \n",
      "[CV]  rfc__criterion=entropy, rfc__max_depth=100, rfc__min_samples_leaf=10, rfc__min_samples_split=10, rfc__n_estimators=200, score=0.744, total=  28.6s\n",
      "[CV] rfc__criterion=entropy, rfc__max_depth=100, rfc__min_samples_leaf=10, rfc__min_samples_split=10, rfc__n_estimators=200 \n",
      "[CV]  rfc__criterion=entropy, rfc__max_depth=100, rfc__min_samples_leaf=10, rfc__min_samples_split=10, rfc__n_estimators=200, score=0.740, total=  28.7s\n",
      "[CV] rfc__criterion=entropy, rfc__max_depth=100, rfc__min_samples_leaf=10, rfc__min_samples_split=10, rfc__n_estimators=200 \n",
      "[CV]  rfc__criterion=entropy, rfc__max_depth=100, rfc__min_samples_leaf=10, rfc__min_samples_split=10, rfc__n_estimators=200, score=0.746, total=  29.9s\n",
      "[CV] rfc__criterion=entropy, rfc__max_depth=100, rfc__min_samples_leaf=10, rfc__min_samples_split=10, rfc__n_estimators=200 \n",
      "[CV]  rfc__criterion=entropy, rfc__max_depth=100, rfc__min_samples_leaf=10, rfc__min_samples_split=10, rfc__n_estimators=200, score=0.740, total=  28.9s\n"
     ]
    },
    {
     "name": "stderr",
     "output_type": "stream",
     "text": [
      "[Parallel(n_jobs=1)]: Done 360 out of 360 | elapsed: 172.5min finished\n"
     ]
    },
    {
     "data": {
      "text/plain": [
       "GridSearchCV(cv=5,\n",
       "             estimator=Pipeline(steps=[('ct',\n",
       "                                        ColumnTransformer(transformers=[('subpipe_num',\n",
       "                                                                         Pipeline(steps=[('ss',\n",
       "                                                                                          StandardScaler())]),\n",
       "                                                                         ['amount_tsh',\n",
       "                                                                          'gps_height',\n",
       "                                                                          'population']),\n",
       "                                                                        ('subpipe_cat',\n",
       "                                                                         Pipeline(steps=[('ohe',\n",
       "                                                                                          OneHotEncoder(handle_unknown='ignore',\n",
       "                                                                                                        sparse=False))]),\n",
       "                                                                         ['installer',\n",
       "                                                                          'basin',\n",
       "                                                                          'region',\n",
       "                                                                          'district_code',\n",
       "                                                                          'lga',\n",
       "                                                                          'management',\n",
       "                                                                          'extraction...\n",
       "                                                                          'source',\n",
       "                                                                          'waterpoint_type']),\n",
       "                                                                        ('subpipe_bool',\n",
       "                                                                         Pipeline(steps=[('ord',\n",
       "                                                                                          OrdinalEncoder())]),\n",
       "                                                                         ['public_meeting',\n",
       "                                                                          'permit'])])),\n",
       "                                       ('rfc',\n",
       "                                        RandomForestClassifier(random_state=42))]),\n",
       "             param_grid={'rfc__criterion': ['gini', 'entropy'],\n",
       "                         'rfc__max_depth': [None, 50, 100],\n",
       "                         'rfc__min_samples_leaf': [1, 10],\n",
       "                         'rfc__min_samples_split': [2, 5, 10],\n",
       "                         'rfc__n_estimators': [100, 200]},\n",
       "             verbose=3)"
      ]
     },
     "execution_count": 35,
     "metadata": {},
     "output_type": "execute_result"
    }
   ],
   "source": [
    "gs.fit(X_train, y_train)"
   ]
  },
  {
   "cell_type": "code",
   "execution_count": 36,
   "metadata": {},
   "outputs": [
    {
     "data": {
      "text/plain": [
       "{'rfc__criterion': 'gini',\n",
       " 'rfc__max_depth': 50,\n",
       " 'rfc__min_samples_leaf': 1,\n",
       " 'rfc__min_samples_split': 10,\n",
       " 'rfc__n_estimators': 200}"
      ]
     },
     "execution_count": 36,
     "metadata": {},
     "output_type": "execute_result"
    }
   ],
   "source": [
    "gs.best_params_"
   ]
  },
  {
   "cell_type": "code",
   "execution_count": 37,
   "metadata": {},
   "outputs": [
    {
     "data": {
      "text/plain": [
       "0.7958698092031424"
      ]
     },
     "execution_count": 37,
     "metadata": {},
     "output_type": "execute_result"
    }
   ],
   "source": [
    "gs.best_score_"
   ]
  },
  {
   "cell_type": "code",
   "execution_count": 36,
   "metadata": {},
   "outputs": [],
   "source": [
    "rfc = RandomForestClassifier(n_estimators=200, criterion='gini', max_depth=50,\n",
    "                             min_samples_leaf=1, min_samples_split=10, \n",
    "                             random_state=42)\n",
    "first_GS_rfc = Pipeline(steps = [('ct', CT),\n",
    "                            ('rfc', rfc )])"
   ]
  },
  {
   "cell_type": "code",
   "execution_count": 37,
   "metadata": {},
   "outputs": [
    {
     "data": {
      "text/plain": [
       "Pipeline(steps=[('ct',\n",
       "                 ColumnTransformer(transformers=[('subpipe_num',\n",
       "                                                  Pipeline(steps=[('ss',\n",
       "                                                                   StandardScaler())]),\n",
       "                                                  ['amount_tsh', 'gps_height',\n",
       "                                                   'population']),\n",
       "                                                 ('subpipe_cat',\n",
       "                                                  Pipeline(steps=[('ohe',\n",
       "                                                                   OneHotEncoder(handle_unknown='ignore',\n",
       "                                                                                 sparse=False))]),\n",
       "                                                  ['installer', 'basin',\n",
       "                                                   'region', 'district_code',\n",
       "                                                   'lga', 'management',\n",
       "                                                   'extraction_type', 'payment',\n",
       "                                                   'water_quality', 'quantity',\n",
       "                                                   'source',\n",
       "                                                   'waterpoint_type']),\n",
       "                                                 ('subpipe_bool',\n",
       "                                                  Pipeline(steps=[('ord',\n",
       "                                                                   OrdinalEncoder())]),\n",
       "                                                  ['public_meeting',\n",
       "                                                   'permit'])])),\n",
       "                ('rfc',\n",
       "                 RandomForestClassifier(max_depth=50, min_samples_split=10,\n",
       "                                        n_estimators=200, random_state=42))])"
      ]
     },
     "execution_count": 37,
     "metadata": {},
     "output_type": "execute_result"
    }
   ],
   "source": [
    "first_GS_rfc.fit(X_train, y_train)"
   ]
  },
  {
   "cell_type": "code",
   "execution_count": 34,
   "metadata": {},
   "outputs": [
    {
     "data": {
      "text/plain": [
       "0.8675869809203143"
      ]
     },
     "execution_count": 34,
     "metadata": {},
     "output_type": "execute_result"
    }
   ],
   "source": [
    "#not cross-validated score\n",
    "first_GS_rfc.score(X_train, y_train)"
   ]
  },
  {
   "cell_type": "code",
   "execution_count": 35,
   "metadata": {},
   "outputs": [
    {
     "data": {
      "text/plain": [
       "0.7966329966329966"
      ]
     },
     "execution_count": 35,
     "metadata": {},
     "output_type": "execute_result"
    }
   ],
   "source": [
    "first_GS_rfc.score(X_test, y_test)"
   ]
  },
  {
   "cell_type": "code",
   "execution_count": 39,
   "metadata": {},
   "outputs": [
    {
     "data": {
      "text/plain": [
       "0.8675869809203143"
      ]
     },
     "execution_count": 39,
     "metadata": {},
     "output_type": "execute_result"
    }
   ],
   "source": [
    "gs.score(X_train, y_train)"
   ]
  },
  {
   "cell_type": "code",
   "execution_count": null,
   "metadata": {},
   "outputs": [],
   "source": [
    "#FunctionTransformer to select features"
   ]
  },
  {
   "cell_type": "code",
   "execution_count": 20,
   "metadata": {},
   "outputs": [],
   "source": [
    "#pass in a list of features\n",
    "#create col lists of numeric, categorical, and boolean data\n",
    "def GrabTypes(features, df):\n",
    "    df_features = df[features]\n",
    "    num_df = df_features.select_dtypes(include='number')\n",
    "    num_cols = list(num_df.columns)\n",
    "    cat_df = df_features.select_dtypes(include='object')\n",
    "    cat_cols = list(cat_df.columns)\n",
    "    bool_df = df_features.select_dtypes(include='boolean')\n",
    "    bool_cols = list(bool_df.columns)\n",
    "    return (num_cols, cat_cols, bool_cols)"
   ]
  },
  {
   "cell_type": "markdown",
   "metadata": {},
   "source": [
    "## Confusion Matrix"
   ]
  },
  {
   "cell_type": "code",
   "execution_count": 26,
   "metadata": {},
   "outputs": [
    {
     "data": {
      "image/png": "[encoded data removed]",
      "text/plain": [
       "<Figure size 432x288 with 2 Axes>"
      ]
     },
     "metadata": {
      "needs_background": "light"
     },
     "output_type": "display_data"
    }
   ],
   "source": [
    "plot_confusion_matrix(first_GS_rfc, X_test, y_test);"
   ]
  },
  {
   "cell_type": "code",
   "execution_count": null,
   "metadata": {},
   "outputs": [],
   "source": [
    "df['status_group']"
   ]
  },
  {
   "cell_type": "markdown",
   "metadata": {},
   "source": [
    "## Second GridSearch"
   ]
  },
  {
   "cell_type": "code",
   "execution_count": 26,
   "metadata": {},
   "outputs": [
    {
     "data": {
      "text/plain": [
       "14"
      ]
     },
     "execution_count": 26,
     "metadata": {},
     "output_type": "execute_result"
    }
   ],
   "source": [
    "second_features = ['amount_tsh', 'gps_height', 'basin', 'region', 'district_code', 'lga', 'population', 'management', 'extraction_type_class', 'payment', \n",
    "                   'quality_group', 'quantity', 'source_class', 'waterpoint_type']\n",
    "len(second_features)"
   ]
  },
  {
   "cell_type": "code",
   "execution_count": 27,
   "metadata": {},
   "outputs": [],
   "source": [
    "features_type = GrabTypes(second_features, df)"
   ]
  },
  {
   "cell_type": "code",
   "execution_count": 28,
   "metadata": {},
   "outputs": [
    {
     "data": {
      "text/plain": [
       "(['amount_tsh', 'gps_height', 'population'],\n",
       " ['basin',\n",
       "  'region',\n",
       "  'district_code',\n",
       "  'lga',\n",
       "  'management',\n",
       "  'extraction_type_class',\n",
       "  'payment',\n",
       "  'quality_group',\n",
       "  'quantity',\n",
       "  'source_class',\n",
       "  'waterpoint_type'],\n",
       " [])"
      ]
     },
     "execution_count": 28,
     "metadata": {},
     "output_type": "execute_result"
    }
   ],
   "source": [
    "features_type"
   ]
  },
  {
   "cell_type": "code",
   "execution_count": 24,
   "metadata": {},
   "outputs": [
    {
     "ename": "NameError",
     "evalue": "name 'features_type' is not defined",
     "output_type": "error",
     "traceback": [
      "\u001b[1;31m---------------------------------------------------------------------------\u001b[0m",
      "\u001b[1;31mNameError\u001b[0m                                 Traceback (most recent call last)",
      "\u001b[1;32m<ipython-input-24-db8594b4888b>\u001b[0m in \u001b[0;36m<module>\u001b[1;34m\u001b[0m\n\u001b[1;32m----> 1\u001b[1;33m CT = ColumnTransformer(transformers=[('subpipe_num', subpipe_num, features_type[0]),\n\u001b[0m\u001b[0;32m      2\u001b[0m                                      \u001b[1;33m(\u001b[0m\u001b[1;34m'subpipe_cat'\u001b[0m\u001b[1;33m,\u001b[0m \u001b[0msubpipe_cat\u001b[0m\u001b[1;33m,\u001b[0m \u001b[0mfeatures_type\u001b[0m\u001b[1;33m[\u001b[0m\u001b[1;36m1\u001b[0m\u001b[1;33m]\u001b[0m\u001b[1;33m)\u001b[0m\u001b[1;33m,\u001b[0m\u001b[1;33m\u001b[0m\u001b[1;33m\u001b[0m\u001b[0m\n\u001b[0;32m      3\u001b[0m                                      ('subpipe_bool', subpipe_bool, features_type[2])],\n\u001b[0;32m      4\u001b[0m                        remainder='drop')\n",
      "\u001b[1;31mNameError\u001b[0m: name 'features_type' is not defined"
     ]
    }
   ],
   "source": [
    "CT = ColumnTransformer(transformers=[('subpipe_num', subpipe_num, features_type[0]),\n",
    "                                     ('subpipe_cat', subpipe_cat, features_type[1]),\n",
    "                                     ('subpipe_bool', subpipe_bool, features_type[2])],\n",
    "                       remainder='drop')"
   ]
  },
  {
   "cell_type": "code",
   "execution_count": 30,
   "metadata": {},
   "outputs": [],
   "source": [
    "rfc = RandomForestClassifier(random_state=42)\n",
    "\n",
    "second_model_pipe = Pipeline(steps = [('ct', CT),\n",
    "                            ('rfc', rfc )])"
   ]
  },
  {
   "cell_type": "code",
   "execution_count": 31,
   "metadata": {},
   "outputs": [
    {
     "data": {
      "text/plain": [
       "Pipeline(steps=[('ct',\n",
       "                 ColumnTransformer(transformers=[('subpipe_num',\n",
       "                                                  Pipeline(steps=[('ss',\n",
       "                                                                   StandardScaler())]),\n",
       "                                                  ['amount_tsh', 'gps_height',\n",
       "                                                   'population']),\n",
       "                                                 ('subpipe_cat',\n",
       "                                                  Pipeline(steps=[('ohe',\n",
       "                                                                   OneHotEncoder(handle_unknown='ignore',\n",
       "                                                                                 sparse=False))]),\n",
       "                                                  ['basin', 'region',\n",
       "                                                   'district_code', 'lga',\n",
       "                                                   'management',\n",
       "                                                   'extraction_type_class',\n",
       "                                                   'payment', 'quality_group',\n",
       "                                                   'quantity', 'source_class',\n",
       "                                                   'waterpoint_type']),\n",
       "                                                 ('subpipe_bool',\n",
       "                                                  Pipeline(steps=[('ord',\n",
       "                                                                   OrdinalEncoder())]),\n",
       "                                                  [])])),\n",
       "                ('rfc', RandomForestClassifier(random_state=42))])"
      ]
     },
     "execution_count": 31,
     "metadata": {},
     "output_type": "execute_result"
    }
   ],
   "source": [
    "second_model_pipe.fit(X_train, y_train)"
   ]
  },
  {
   "cell_type": "code",
   "execution_count": 52,
   "metadata": {},
   "outputs": [
    {
     "data": {
      "text/plain": [
       "0.9320089786756454"
      ]
     },
     "execution_count": 52,
     "metadata": {},
     "output_type": "execute_result"
    }
   ],
   "source": [
    "second_model_pipe.score(X_train, y_train)"
   ]
  },
  {
   "cell_type": "code",
   "execution_count": 53,
   "metadata": {},
   "outputs": [
    {
     "data": {
      "text/plain": [
       "0.7695622895622896"
      ]
     },
     "execution_count": 53,
     "metadata": {},
     "output_type": "execute_result"
    }
   ],
   "source": [
    "second_model_pipe.score(X_test, y_test)"
   ]
  },
  {
   "cell_type": "code",
   "execution_count": 58,
   "metadata": {},
   "outputs": [],
   "source": [
    "params = {'rfc__n_estimators':[200],\n",
    "          'rfc__max_depth':[None, 50],\n",
    "          'rfc__min_samples_leaf': [1, 10],\n",
    "          'rfc__min_samples_split': [5, 10]}\n",
    "gs = GridSearchCV(estimator = second_model_pipe, param_grid = params, cv=5, verbose=3)"
   ]
  },
  {
   "cell_type": "code",
   "execution_count": 59,
   "metadata": {
    "scrolled": true
   },
   "outputs": [
    {
     "name": "stdout",
     "output_type": "stream",
     "text": [
      "Fitting 5 folds for each of 8 candidates, totalling 40 fits\n",
      "[CV] rfc__max_depth=None, rfc__min_samples_leaf=1, rfc__min_samples_split=5, rfc__n_estimators=200 \n"
     ]
    },
    {
     "name": "stderr",
     "output_type": "stream",
     "text": [
      "[Parallel(n_jobs=1)]: Using backend SequentialBackend with 1 concurrent workers.\n"
     ]
    },
    {
     "name": "stdout",
     "output_type": "stream",
     "text": [
      "[CV]  rfc__max_depth=None, rfc__min_samples_leaf=1, rfc__min_samples_split=5, rfc__n_estimators=200, score=0.783, total=  13.0s\n",
      "[CV] rfc__max_depth=None, rfc__min_samples_leaf=1, rfc__min_samples_split=5, rfc__n_estimators=200 \n"
     ]
    },
    {
     "name": "stderr",
     "output_type": "stream",
     "text": [
      "[Parallel(n_jobs=1)]: Done   1 out of   1 | elapsed:   12.9s remaining:    0.0s\n"
     ]
    },
    {
     "name": "stdout",
     "output_type": "stream",
     "text": [
      "[CV]  rfc__max_depth=None, rfc__min_samples_leaf=1, rfc__min_samples_split=5, rfc__n_estimators=200, score=0.780, total=  14.0s\n",
      "[CV] rfc__max_depth=None, rfc__min_samples_leaf=1, rfc__min_samples_split=5, rfc__n_estimators=200 \n"
     ]
    },
    {
     "name": "stderr",
     "output_type": "stream",
     "text": [
      "[Parallel(n_jobs=1)]: Done   2 out of   2 | elapsed:   26.9s remaining:    0.0s\n"
     ]
    },
    {
     "name": "stdout",
     "output_type": "stream",
     "text": [
      "[CV]  rfc__max_depth=None, rfc__min_samples_leaf=1, rfc__min_samples_split=5, rfc__n_estimators=200, score=0.781, total=  14.0s\n",
      "[CV] rfc__max_depth=None, rfc__min_samples_leaf=1, rfc__min_samples_split=5, rfc__n_estimators=200 \n",
      "[CV]  rfc__max_depth=None, rfc__min_samples_leaf=1, rfc__min_samples_split=5, rfc__n_estimators=200, score=0.780, total=  14.6s\n",
      "[CV] rfc__max_depth=None, rfc__min_samples_leaf=1, rfc__min_samples_split=5, rfc__n_estimators=200 \n",
      "[CV]  rfc__max_depth=None, rfc__min_samples_leaf=1, rfc__min_samples_split=5, rfc__n_estimators=200, score=0.778, total=  13.7s\n",
      "[CV] rfc__max_depth=None, rfc__min_samples_leaf=1, rfc__min_samples_split=10, rfc__n_estimators=200 \n",
      "[CV]  rfc__max_depth=None, rfc__min_samples_leaf=1, rfc__min_samples_split=10, rfc__n_estimators=200, score=0.791, total=  14.3s\n",
      "[CV] rfc__max_depth=None, rfc__min_samples_leaf=1, rfc__min_samples_split=10, rfc__n_estimators=200 \n",
      "[CV]  rfc__max_depth=None, rfc__min_samples_leaf=1, rfc__min_samples_split=10, rfc__n_estimators=200, score=0.783, total=  14.0s\n",
      "[CV] rfc__max_depth=None, rfc__min_samples_leaf=1, rfc__min_samples_split=10, rfc__n_estimators=200 \n",
      "[CV]  rfc__max_depth=None, rfc__min_samples_leaf=1, rfc__min_samples_split=10, rfc__n_estimators=200, score=0.784, total=  13.9s\n",
      "[CV] rfc__max_depth=None, rfc__min_samples_leaf=1, rfc__min_samples_split=10, rfc__n_estimators=200 \n",
      "[CV]  rfc__max_depth=None, rfc__min_samples_leaf=1, rfc__min_samples_split=10, rfc__n_estimators=200, score=0.787, total=  13.5s\n",
      "[CV] rfc__max_depth=None, rfc__min_samples_leaf=1, rfc__min_samples_split=10, rfc__n_estimators=200 \n",
      "[CV]  rfc__max_depth=None, rfc__min_samples_leaf=1, rfc__min_samples_split=10, rfc__n_estimators=200, score=0.778, total=  12.6s\n",
      "[CV] rfc__max_depth=None, rfc__min_samples_leaf=10, rfc__min_samples_split=5, rfc__n_estimators=200 \n",
      "[CV]  rfc__max_depth=None, rfc__min_samples_leaf=10, rfc__min_samples_split=5, rfc__n_estimators=200, score=0.771, total=  11.6s\n",
      "[CV] rfc__max_depth=None, rfc__min_samples_leaf=10, rfc__min_samples_split=5, rfc__n_estimators=200 \n",
      "[CV]  rfc__max_depth=None, rfc__min_samples_leaf=10, rfc__min_samples_split=5, rfc__n_estimators=200, score=0.760, total=  10.9s\n",
      "[CV] rfc__max_depth=None, rfc__min_samples_leaf=10, rfc__min_samples_split=5, rfc__n_estimators=200 \n",
      "[CV]  rfc__max_depth=None, rfc__min_samples_leaf=10, rfc__min_samples_split=5, rfc__n_estimators=200, score=0.760, total=  11.1s\n",
      "[CV] rfc__max_depth=None, rfc__min_samples_leaf=10, rfc__min_samples_split=5, rfc__n_estimators=200 \n",
      "[CV]  rfc__max_depth=None, rfc__min_samples_leaf=10, rfc__min_samples_split=5, rfc__n_estimators=200, score=0.767, total=  10.8s\n",
      "[CV] rfc__max_depth=None, rfc__min_samples_leaf=10, rfc__min_samples_split=5, rfc__n_estimators=200 \n",
      "[CV]  rfc__max_depth=None, rfc__min_samples_leaf=10, rfc__min_samples_split=5, rfc__n_estimators=200, score=0.757, total=  10.2s\n",
      "[CV] rfc__max_depth=None, rfc__min_samples_leaf=10, rfc__min_samples_split=10, rfc__n_estimators=200 \n",
      "[CV]  rfc__max_depth=None, rfc__min_samples_leaf=10, rfc__min_samples_split=10, rfc__n_estimators=200, score=0.771, total=  11.3s\n",
      "[CV] rfc__max_depth=None, rfc__min_samples_leaf=10, rfc__min_samples_split=10, rfc__n_estimators=200 \n",
      "[CV]  rfc__max_depth=None, rfc__min_samples_leaf=10, rfc__min_samples_split=10, rfc__n_estimators=200, score=0.760, total=  10.8s\n",
      "[CV] rfc__max_depth=None, rfc__min_samples_leaf=10, rfc__min_samples_split=10, rfc__n_estimators=200 \n",
      "[CV]  rfc__max_depth=None, rfc__min_samples_leaf=10, rfc__min_samples_split=10, rfc__n_estimators=200, score=0.760, total=  11.5s\n",
      "[CV] rfc__max_depth=None, rfc__min_samples_leaf=10, rfc__min_samples_split=10, rfc__n_estimators=200 \n",
      "[CV]  rfc__max_depth=None, rfc__min_samples_leaf=10, rfc__min_samples_split=10, rfc__n_estimators=200, score=0.767, total=  11.0s\n",
      "[CV] rfc__max_depth=None, rfc__min_samples_leaf=10, rfc__min_samples_split=10, rfc__n_estimators=200 \n",
      "[CV]  rfc__max_depth=None, rfc__min_samples_leaf=10, rfc__min_samples_split=10, rfc__n_estimators=200, score=0.757, total=  10.3s\n",
      "[CV] rfc__max_depth=50, rfc__min_samples_leaf=1, rfc__min_samples_split=5, rfc__n_estimators=200 \n",
      "[CV]  rfc__max_depth=50, rfc__min_samples_leaf=1, rfc__min_samples_split=5, rfc__n_estimators=200, score=0.785, total=  14.5s\n",
      "[CV] rfc__max_depth=50, rfc__min_samples_leaf=1, rfc__min_samples_split=5, rfc__n_estimators=200 \n",
      "[CV]  rfc__max_depth=50, rfc__min_samples_leaf=1, rfc__min_samples_split=5, rfc__n_estimators=200, score=0.780, total=  14.5s\n",
      "[CV] rfc__max_depth=50, rfc__min_samples_leaf=1, rfc__min_samples_split=5, rfc__n_estimators=200 \n",
      "[CV]  rfc__max_depth=50, rfc__min_samples_leaf=1, rfc__min_samples_split=5, rfc__n_estimators=200, score=0.782, total=  14.4s\n",
      "[CV] rfc__max_depth=50, rfc__min_samples_leaf=1, rfc__min_samples_split=5, rfc__n_estimators=200 \n",
      "[CV]  rfc__max_depth=50, rfc__min_samples_leaf=1, rfc__min_samples_split=5, rfc__n_estimators=200, score=0.781, total=  14.5s\n",
      "[CV] rfc__max_depth=50, rfc__min_samples_leaf=1, rfc__min_samples_split=5, rfc__n_estimators=200 \n",
      "[CV]  rfc__max_depth=50, rfc__min_samples_leaf=1, rfc__min_samples_split=5, rfc__n_estimators=200, score=0.780, total=  13.7s\n",
      "[CV] rfc__max_depth=50, rfc__min_samples_leaf=1, rfc__min_samples_split=10, rfc__n_estimators=200 \n",
      "[CV]  rfc__max_depth=50, rfc__min_samples_leaf=1, rfc__min_samples_split=10, rfc__n_estimators=200, score=0.791, total=  14.1s\n",
      "[CV] rfc__max_depth=50, rfc__min_samples_leaf=1, rfc__min_samples_split=10, rfc__n_estimators=200 \n",
      "[CV]  rfc__max_depth=50, rfc__min_samples_leaf=1, rfc__min_samples_split=10, rfc__n_estimators=200, score=0.782, total=  14.5s\n",
      "[CV] rfc__max_depth=50, rfc__min_samples_leaf=1, rfc__min_samples_split=10, rfc__n_estimators=200 \n",
      "[CV]  rfc__max_depth=50, rfc__min_samples_leaf=1, rfc__min_samples_split=10, rfc__n_estimators=200, score=0.784, total=  13.9s\n",
      "[CV] rfc__max_depth=50, rfc__min_samples_leaf=1, rfc__min_samples_split=10, rfc__n_estimators=200 \n",
      "[CV]  rfc__max_depth=50, rfc__min_samples_leaf=1, rfc__min_samples_split=10, rfc__n_estimators=200, score=0.786, total=  13.9s\n",
      "[CV] rfc__max_depth=50, rfc__min_samples_leaf=1, rfc__min_samples_split=10, rfc__n_estimators=200 \n",
      "[CV]  rfc__max_depth=50, rfc__min_samples_leaf=1, rfc__min_samples_split=10, rfc__n_estimators=200, score=0.778, total=  13.2s\n",
      "[CV] rfc__max_depth=50, rfc__min_samples_leaf=10, rfc__min_samples_split=5, rfc__n_estimators=200 \n",
      "[CV]  rfc__max_depth=50, rfc__min_samples_leaf=10, rfc__min_samples_split=5, rfc__n_estimators=200, score=0.771, total=  11.3s\n",
      "[CV] rfc__max_depth=50, rfc__min_samples_leaf=10, rfc__min_samples_split=5, rfc__n_estimators=200 \n",
      "[CV]  rfc__max_depth=50, rfc__min_samples_leaf=10, rfc__min_samples_split=5, rfc__n_estimators=200, score=0.760, total=  11.2s\n",
      "[CV] rfc__max_depth=50, rfc__min_samples_leaf=10, rfc__min_samples_split=5, rfc__n_estimators=200 \n",
      "[CV]  rfc__max_depth=50, rfc__min_samples_leaf=10, rfc__min_samples_split=5, rfc__n_estimators=200, score=0.761, total=  11.2s\n",
      "[CV] rfc__max_depth=50, rfc__min_samples_leaf=10, rfc__min_samples_split=5, rfc__n_estimators=200 \n",
      "[CV]  rfc__max_depth=50, rfc__min_samples_leaf=10, rfc__min_samples_split=5, rfc__n_estimators=200, score=0.767, total=  11.3s\n",
      "[CV] rfc__max_depth=50, rfc__min_samples_leaf=10, rfc__min_samples_split=5, rfc__n_estimators=200 \n",
      "[CV]  rfc__max_depth=50, rfc__min_samples_leaf=10, rfc__min_samples_split=5, rfc__n_estimators=200, score=0.757, total=  10.2s\n",
      "[CV] rfc__max_depth=50, rfc__min_samples_leaf=10, rfc__min_samples_split=10, rfc__n_estimators=200 \n",
      "[CV]  rfc__max_depth=50, rfc__min_samples_leaf=10, rfc__min_samples_split=10, rfc__n_estimators=200, score=0.771, total=   9.9s\n",
      "[CV] rfc__max_depth=50, rfc__min_samples_leaf=10, rfc__min_samples_split=10, rfc__n_estimators=200 \n",
      "[CV]  rfc__max_depth=50, rfc__min_samples_leaf=10, rfc__min_samples_split=10, rfc__n_estimators=200, score=0.760, total=   9.9s\n",
      "[CV] rfc__max_depth=50, rfc__min_samples_leaf=10, rfc__min_samples_split=10, rfc__n_estimators=200 \n",
      "[CV]  rfc__max_depth=50, rfc__min_samples_leaf=10, rfc__min_samples_split=10, rfc__n_estimators=200, score=0.761, total=  11.3s\n",
      "[CV] rfc__max_depth=50, rfc__min_samples_leaf=10, rfc__min_samples_split=10, rfc__n_estimators=200 \n"
     ]
    },
    {
     "name": "stdout",
     "output_type": "stream",
     "text": [
      "[CV]  rfc__max_depth=50, rfc__min_samples_leaf=10, rfc__min_samples_split=10, rfc__n_estimators=200, score=0.767, total=  11.3s\n",
      "[CV] rfc__max_depth=50, rfc__min_samples_leaf=10, rfc__min_samples_split=10, rfc__n_estimators=200 \n",
      "[CV]  rfc__max_depth=50, rfc__min_samples_leaf=10, rfc__min_samples_split=10, rfc__n_estimators=200, score=0.757, total=  10.5s\n"
     ]
    },
    {
     "name": "stderr",
     "output_type": "stream",
     "text": [
      "[Parallel(n_jobs=1)]: Done  40 out of  40 | elapsed:  8.3min finished\n"
     ]
    },
    {
     "data": {
      "text/plain": [
       "GridSearchCV(cv=5,\n",
       "             estimator=Pipeline(steps=[('ct',\n",
       "                                        ColumnTransformer(transformers=[('subpipe_num',\n",
       "                                                                         Pipeline(steps=[('ss',\n",
       "                                                                                          StandardScaler())]),\n",
       "                                                                         ['amount_tsh',\n",
       "                                                                          'gps_height',\n",
       "                                                                          'population']),\n",
       "                                                                        ('subpipe_cat',\n",
       "                                                                         Pipeline(steps=[('ohe',\n",
       "                                                                                          OneHotEncoder(handle_unknown='ignore',\n",
       "                                                                                                        sparse=False))]),\n",
       "                                                                         ['basin',\n",
       "                                                                          'region',\n",
       "                                                                          'district_code',\n",
       "                                                                          'lga',\n",
       "                                                                          'management',\n",
       "                                                                          'extraction_type_class',\n",
       "                                                                          'payment',\n",
       "                                                                          'quality_group',\n",
       "                                                                          'quantity',\n",
       "                                                                          'source_class',\n",
       "                                                                          'waterpoint_type']),\n",
       "                                                                        ('subpipe_bool',\n",
       "                                                                         Pipeline(steps=[('ord',\n",
       "                                                                                          OrdinalEncoder())]),\n",
       "                                                                         [])])),\n",
       "                                       ('rfc',\n",
       "                                        RandomForestClassifier(random_state=42))]),\n",
       "             param_grid={'rfc__max_depth': [None, 50],\n",
       "                         'rfc__min_samples_leaf': [1, 10],\n",
       "                         'rfc__min_samples_split': [5, 10],\n",
       "                         'rfc__n_estimators': [200]},\n",
       "             verbose=3)"
      ]
     },
     "execution_count": 59,
     "metadata": {},
     "output_type": "execute_result"
    }
   ],
   "source": [
    "gs.fit(X_train, y_train)"
   ]
  },
  {
   "cell_type": "code",
   "execution_count": 60,
   "metadata": {},
   "outputs": [
    {
     "data": {
      "text/plain": [
       "{'rfc__max_depth': None,\n",
       " 'rfc__min_samples_leaf': 1,\n",
       " 'rfc__min_samples_split': 10,\n",
       " 'rfc__n_estimators': 200}"
      ]
     },
     "execution_count": 60,
     "metadata": {},
     "output_type": "execute_result"
    }
   ],
   "source": [
    "gs.best_params_"
   ]
  },
  {
   "cell_type": "code",
   "execution_count": 61,
   "metadata": {},
   "outputs": [
    {
     "data": {
      "text/plain": [
       "0.784736251402918"
      ]
     },
     "execution_count": 61,
     "metadata": {},
     "output_type": "execute_result"
    }
   ],
   "source": [
    "gs.best_score_"
   ]
  },
  {
   "cell_type": "markdown",
   "metadata": {},
   "source": [
    "The second model did not have an improvment in CV scores."
   ]
  },
  {
   "cell_type": "code",
   "execution_count": 70,
   "metadata": {
    "scrolled": true
   },
   "outputs": [
    {
     "data": {
      "text/plain": [
       "array([3.74347599e-02, 1.99680606e-01, 1.10727704e-01, 5.54994002e-03,\n",
       "       4.29643718e-03, 3.31393254e-03, 4.37686902e-03, 4.96463487e-03,\n",
       "       3.57149221e-03, 4.12190481e-03, 3.48181061e-03, 3.64674275e-03,\n",
       "       2.71437821e-03, 7.14839740e-04, 1.95412519e-03, 4.76858508e-03,\n",
       "       2.00948996e-03, 3.22981168e-03, 2.94670234e-03, 1.56868717e-03,\n",
       "       1.63260342e-03, 2.53670971e-03, 2.05609966e-03, 2.39215317e-03,\n",
       "       1.98740381e-03, 2.24268603e-03, 2.10763037e-03, 2.16298581e-03,\n",
       "       1.96564188e-03, 3.58211699e-03, 2.04643684e-03, 1.62455652e-03,\n",
       "       1.83519593e-03, 1.55532981e-04, 7.29619087e-03, 4.47643497e-04,\n",
       "       6.38260901e-03, 5.63112575e-04, 5.89150458e-03, 1.66085351e-03,\n",
       "       1.66235094e-03, 5.25516992e-03, 7.55484378e-04, 3.86221360e-03,\n",
       "       1.40653086e-03, 3.36218056e-03, 3.20368920e-04, 1.50354809e-04,\n",
       "       2.27008893e-04, 6.82185469e-06, 3.24662470e-03, 1.78150237e-03,\n",
       "       6.36341094e-05, 1.24266339e-03, 1.32237500e-04, 8.45302919e-04,\n",
       "       8.54055376e-04, 3.28540975e-04, 3.52777327e-03, 5.36188311e-04,\n",
       "       6.52188712e-04, 2.11468262e-04, 2.42574931e-04, 7.82900570e-04,\n",
       "       6.51647277e-04, 4.05961316e-04, 1.40896214e-03, 6.54573683e-04,\n",
       "       1.65452175e-03, 5.15088488e-04, 4.03454329e-04, 2.96272928e-04,\n",
       "       6.71262718e-04, 5.19915524e-04, 4.71928048e-04, 3.36460748e-04,\n",
       "       5.18168447e-04, 6.66024839e-04, 1.24711147e-03, 8.00773606e-04,\n",
       "       4.74302351e-04, 1.27712111e-03, 4.51053052e-04, 1.04360068e-03,\n",
       "       2.76834881e-03, 1.02120991e-04, 3.95645856e-04, 4.62915937e-04,\n",
       "       6.37996447e-04, 1.23577474e-03, 4.64476886e-04, 1.62345508e-04,\n",
       "       6.52140655e-04, 5.66938684e-04, 6.43770046e-04, 1.14829090e-03,\n",
       "       9.09203014e-04, 6.66400455e-04, 9.50233285e-04, 1.73141145e-03,\n",
       "       5.71842320e-04, 2.14594793e-05, 1.93616942e-04, 3.65105731e-04,\n",
       "       3.14647308e-04, 4.57057530e-04, 4.14587169e-04, 1.45038873e-03,\n",
       "       5.86942509e-04, 1.02078824e-03, 8.05021863e-04, 1.04371441e-03,\n",
       "       4.68175062e-04, 3.64480503e-04, 6.90516250e-04, 8.10337481e-04,\n",
       "       3.42200946e-04, 6.25807725e-04, 7.68922585e-04, 6.89387647e-04,\n",
       "       6.44493461e-04, 7.39623174e-04, 6.87326585e-04, 4.73699937e-04,\n",
       "       6.28485827e-04, 2.23036420e-04, 1.41821298e-03, 1.54065868e-04,\n",
       "       1.21394188e-03, 8.73658979e-04, 4.62384645e-04, 1.87673029e-04,\n",
       "       3.20875913e-04, 5.48812422e-04, 5.95383564e-04, 7.44346156e-04,\n",
       "       1.34119635e-03, 1.01472205e-03, 4.58303485e-04, 5.94067505e-04,\n",
       "       1.55825406e-04, 7.76924525e-04, 1.21781408e-03, 4.21594076e-04,\n",
       "       1.81152981e-03, 7.64593578e-04, 2.53652315e-05, 6.09304715e-04,\n",
       "       8.57946364e-04, 1.80775320e-03, 4.97508892e-04, 7.04950245e-04,\n",
       "       7.04006043e-04, 1.18908211e-03, 1.25702408e-03, 1.01801591e-03,\n",
       "       1.14427938e-03, 9.85326698e-04, 3.45313431e-04, 9.59811625e-04,\n",
       "       3.28282655e-04, 5.57396815e-04, 1.28068789e-03, 2.46844227e-04,\n",
       "       6.65391727e-04, 8.07653762e-05, 6.81506745e-04, 2.61803642e-04,\n",
       "       2.18127515e-04, 3.18256677e-04, 2.54257188e-04, 4.39846401e-04,\n",
       "       2.59026384e-04, 7.20240728e-04, 8.58779114e-04, 7.58783987e-04,\n",
       "       4.68822881e-04, 6.06604099e-04, 1.89807553e-03, 1.91836980e-03,\n",
       "       1.51663125e-04, 3.51538610e-03, 4.48201201e-03, 5.54308678e-04,\n",
       "       1.59906128e-03, 1.29389341e-02, 2.40463090e-03, 2.79361450e-03,\n",
       "       2.89668285e-03, 5.57813908e-03, 1.20454339e-02, 1.12679434e-02,\n",
       "       4.99754572e-03, 2.78379292e-02, 1.20112066e-03, 7.37471642e-03,\n",
       "       4.59699678e-04, 1.61734138e-02, 1.70945146e-03, 4.47239481e-03,\n",
       "       7.31735772e-03, 8.56907241e-03, 4.55821177e-03, 7.52500085e-03,\n",
       "       1.58016279e-03, 8.73674979e-04, 9.69237566e-03, 1.92965897e-03,\n",
       "       6.75699256e-03, 1.01326870e-02, 8.24880695e-02, 3.55885256e-02,\n",
       "       1.98042064e-02, 9.67591236e-03, 2.61840637e-03, 9.49941766e-03,\n",
       "       9.57423328e-03, 8.59799817e-04, 5.54975131e-04, 1.42025500e-02,\n",
       "       1.19920063e-02, 2.52992622e-05, 8.60472901e-03, 2.97776129e-03,\n",
       "       3.76742034e-02])"
      ]
     },
     "execution_count": 70,
     "metadata": {},
     "output_type": "execute_result"
    }
   ],
   "source": [
    "rfc.feature_importances_"
   ]
  },
  {
   "cell_type": "code",
   "execution_count": 80,
   "metadata": {},
   "outputs": [
    {
     "data": {
      "text/plain": [
       "{'ct': ColumnTransformer(transformers=[('subpipe_num',\n",
       "                                  Pipeline(steps=[('ss', StandardScaler())]),\n",
       "                                  ['amount_tsh', 'gps_height', 'population']),\n",
       "                                 ('subpipe_cat',\n",
       "                                  Pipeline(steps=[('ohe',\n",
       "                                                   OneHotEncoder(handle_unknown='ignore',\n",
       "                                                                 sparse=False))]),\n",
       "                                  ['basin', 'region', 'district_code', 'lga',\n",
       "                                   'management', 'extraction_type_class',\n",
       "                                   'payment', 'quality_group', 'quantity',\n",
       "                                   'source_class', 'waterpoint_type']),\n",
       "                                 ('subpipe_bool',\n",
       "                                  Pipeline(steps=[('ord', OrdinalEncoder())]),\n",
       "                                  [])]),\n",
       " 'rfc': RandomForestClassifier(random_state=42)}"
      ]
     },
     "execution_count": 80,
     "metadata": {},
     "output_type": "execute_result"
    }
   ],
   "source": [
    "second_model_pipe.named_steps"
   ]
  },
  {
   "cell_type": "code",
   "execution_count": 90,
   "metadata": {},
   "outputs": [
    {
     "data": {
      "text/plain": [
       "array(['x0_Internal', 'x0_Lake Nyasa', 'x0_Lake Rukwa',\n",
       "       'x0_Lake Tanganyika', 'x0_Lake Victoria', 'x0_Pangani',\n",
       "       'x0_Rufiji', 'x0_Ruvuma / Southern Coast', 'x0_Wami / Ruvu',\n",
       "       'x1_Arusha', 'x1_Dar es Salaam', 'x1_Dodoma', 'x1_Iringa',\n",
       "       'x1_Kagera', 'x1_Kigoma', 'x1_Kilimanjaro', 'x1_Lindi',\n",
       "       'x1_Manyara', 'x1_Mara', 'x1_Mbeya', 'x1_Morogoro', 'x1_Mtwara',\n",
       "       'x1_Mwanza', 'x1_Pwani', 'x1_Rukwa', 'x1_Ruvuma', 'x1_Shinyanga',\n",
       "       'x1_Singida', 'x1_Tabora', 'x1_Tanga', 'x2_0', 'x2_1', 'x2_13',\n",
       "       'x2_2', 'x2_23', 'x2_3', 'x2_30', 'x2_33', 'x2_4', 'x2_43', 'x2_5',\n",
       "       'x2_53', 'x2_6', 'x2_60', 'x2_62', 'x2_63', 'x2_67', 'x2_7',\n",
       "       'x2_8', 'x2_80', 'x3_Arusha Rural', 'x3_Arusha Urban', 'x3_Babati',\n",
       "       'x3_Bagamoyo', 'x3_Bahi', 'x3_Bariadi', 'x3_Biharamulo',\n",
       "       'x3_Bukoba Rural', 'x3_Bukoba Urban', 'x3_Bukombe', 'x3_Bunda',\n",
       "       'x3_Chamwino', 'x3_Chato', 'x3_Chunya', 'x3_Dodoma Urban',\n",
       "       'x3_Geita', 'x3_Hai', 'x3_Hanang', 'x3_Handeni', 'x3_Igunga',\n",
       "       'x3_Ilala', 'x3_Ileje', 'x3_Ilemela', 'x3_Iramba',\n",
       "       'x3_Iringa Rural', 'x3_Kahama', 'x3_Karagwe', 'x3_Karatu',\n",
       "       'x3_Kasulu', 'x3_Kibaha', 'x3_Kibondo', 'x3_Kigoma Rural',\n",
       "       'x3_Kigoma Urban', 'x3_Kilindi', 'x3_Kilolo', 'x3_Kilombero',\n",
       "       'x3_Kilosa', 'x3_Kilwa', 'x3_Kinondoni', 'x3_Kisarawe',\n",
       "       'x3_Kishapu', 'x3_Kiteto', 'x3_Kondoa', 'x3_Kongwa', 'x3_Korogwe',\n",
       "       'x3_Kwimba', 'x3_Kyela', 'x3_Lindi Rural', 'x3_Lindi Urban',\n",
       "       'x3_Liwale', 'x3_Longido', 'x3_Ludewa', 'x3_Lushoto', 'x3_Mafia',\n",
       "       'x3_Magu', 'x3_Makete', 'x3_Manyoni', 'x3_Masasi', 'x3_Maswa',\n",
       "       'x3_Mbarali', 'x3_Mbeya Rural', 'x3_Mbinga', 'x3_Mbozi',\n",
       "       'x3_Mbulu', 'x3_Meatu', 'x3_Meru', 'x3_Misenyi', 'x3_Missungwi',\n",
       "       'x3_Mkinga', 'x3_Mkuranga', 'x3_Monduli', 'x3_Morogoro Rural',\n",
       "       'x3_Morogoro Urban', 'x3_Moshi Rural', 'x3_Moshi Urban',\n",
       "       'x3_Mpanda', 'x3_Mpwapwa', 'x3_Mtwara Rural', 'x3_Mtwara Urban',\n",
       "       'x3_Mufindi', 'x3_Muheza', 'x3_Muleba', 'x3_Musoma Rural',\n",
       "       'x3_Mvomero', 'x3_Mwanga', 'x3_Nachingwea', 'x3_Namtumbo',\n",
       "       'x3_Nanyumbu', 'x3_Newala', 'x3_Ngara', 'x3_Ngorongoro',\n",
       "       'x3_Njombe', 'x3_Nkasi', 'x3_Nyamagana', 'x3_Nzega', 'x3_Pangani',\n",
       "       'x3_Rombo', 'x3_Rorya', 'x3_Ruangwa', 'x3_Rufiji', 'x3_Rungwe',\n",
       "       'x3_Same', 'x3_Sengerema', 'x3_Serengeti', 'x3_Shinyanga Rural',\n",
       "       'x3_Shinyanga Urban', 'x3_Siha', 'x3_Sikonge', 'x3_Simanjiro',\n",
       "       'x3_Singida Rural', 'x3_Singida Urban', 'x3_Songea Rural',\n",
       "       'x3_Songea Urban', 'x3_Sumbawanga Rural', 'x3_Sumbawanga Urban',\n",
       "       'x3_Tabora Urban', 'x3_Tandahimba', 'x3_Tanga', 'x3_Tarime',\n",
       "       'x3_Temeke', 'x3_Tunduru', 'x3_Ukerewe', 'x3_Ulanga', 'x3_Urambo',\n",
       "       'x3_Uyui', 'x4_company', 'x4_other', 'x4_other - school',\n",
       "       'x4_parastatal', 'x4_private operator', 'x4_trust', 'x4_unknown',\n",
       "       'x4_vwc', 'x4_water authority', 'x4_water board', 'x4_wua',\n",
       "       'x4_wug', 'x5_gravity', 'x5_handpump', 'x5_motorpump', 'x5_other',\n",
       "       'x5_rope pump', 'x5_submersible', 'x5_wind-powered',\n",
       "       'x6_never pay', 'x6_other', 'x6_pay annually', 'x6_pay monthly',\n",
       "       'x6_pay per bucket', 'x6_pay when scheme fails', 'x6_unknown',\n",
       "       'x7_colored', 'x7_fluoride', 'x7_good', 'x7_milky', 'x7_salty',\n",
       "       'x7_unknown', 'x8_dry', 'x8_enough', 'x8_insufficient',\n",
       "       'x8_seasonal', 'x8_unknown', 'x9_groundwater', 'x9_surface',\n",
       "       'x9_unknown', 'x10_cattle trough', 'x10_communal standpipe',\n",
       "       'x10_communal standpipe multiple', 'x10_dam', 'x10_hand pump',\n",
       "       'x10_improved spring', 'x10_other'], dtype=object)"
      ]
     },
     "execution_count": 90,
     "metadata": {},
     "output_type": "execute_result"
    }
   ],
   "source": [
    "#I've cracked the ohe\n",
    "second_model_pipe.named_steps['ct'].transformers_[1][1].named_steps['ohe'].get_feature_names()"
   ]
  },
  {
   "cell_type": "code",
   "execution_count": 25,
   "metadata": {},
   "outputs": [
    {
     "ename": "NameError",
     "evalue": "name 'second_model_pipe' is not defined",
     "output_type": "error",
     "traceback": [
      "\u001b[1;31m---------------------------------------------------------------------------\u001b[0m",
      "\u001b[1;31mNameError\u001b[0m                                 Traceback (most recent call last)",
      "\u001b[1;32m<ipython-input-25-c2cd8ff17263>\u001b[0m in \u001b[0;36m<module>\u001b[1;34m\u001b[0m\n\u001b[1;32m----> 1\u001b[1;33m \u001b[0mnum_names\u001b[0m \u001b[1;33m=\u001b[0m \u001b[0msecond_model_pipe\u001b[0m\u001b[1;33m.\u001b[0m\u001b[0mnamed_steps\u001b[0m\u001b[1;33m[\u001b[0m\u001b[1;34m'ct'\u001b[0m\u001b[1;33m]\u001b[0m\u001b[1;33m.\u001b[0m\u001b[0mtransformers_\u001b[0m\u001b[1;33m[\u001b[0m\u001b[1;36m0\u001b[0m\u001b[1;33m]\u001b[0m\u001b[1;33m[\u001b[0m\u001b[1;36m2\u001b[0m\u001b[1;33m]\u001b[0m\u001b[1;33m\u001b[0m\u001b[1;33m\u001b[0m\u001b[0m\n\u001b[0m\u001b[0;32m      2\u001b[0m \u001b[0mnum_names\u001b[0m\u001b[1;33m\u001b[0m\u001b[1;33m\u001b[0m\u001b[0m\n",
      "\u001b[1;31mNameError\u001b[0m: name 'second_model_pipe' is not defined"
     ]
    }
   ],
   "source": [
    "num_names = second_model_pipe.named_steps['ct'].transformers_[0][2]\n",
    "num_names"
   ]
  },
  {
   "cell_type": "code",
   "execution_count": 26,
   "metadata": {},
   "outputs": [
    {
     "ename": "NameError",
     "evalue": "name 'second_model_pipe' is not defined",
     "output_type": "error",
     "traceback": [
      "\u001b[1;31m---------------------------------------------------------------------------\u001b[0m",
      "\u001b[1;31mNameError\u001b[0m                                 Traceback (most recent call last)",
      "\u001b[1;32m<ipython-input-26-403ade831b11>\u001b[0m in \u001b[0;36m<module>\u001b[1;34m\u001b[0m\n\u001b[1;32m----> 1\u001b[1;33m \u001b[0mohe_names\u001b[0m \u001b[1;33m=\u001b[0m \u001b[0msecond_model_pipe\u001b[0m\u001b[1;33m.\u001b[0m\u001b[0mnamed_steps\u001b[0m\u001b[1;33m[\u001b[0m\u001b[1;34m'ct'\u001b[0m\u001b[1;33m]\u001b[0m\u001b[1;33m.\u001b[0m\u001b[0mtransformers_\u001b[0m\u001b[1;33m[\u001b[0m\u001b[1;36m1\u001b[0m\u001b[1;33m]\u001b[0m\u001b[1;33m[\u001b[0m\u001b[1;36m1\u001b[0m\u001b[1;33m]\u001b[0m\u001b[1;33m.\u001b[0m\u001b[0mnamed_steps\u001b[0m\u001b[1;33m[\u001b[0m\u001b[1;34m'ohe'\u001b[0m\u001b[1;33m]\u001b[0m\u001b[1;33m.\u001b[0m\u001b[0mget_feature_names\u001b[0m\u001b[1;33m(\u001b[0m\u001b[1;33m)\u001b[0m\u001b[1;33m\u001b[0m\u001b[1;33m\u001b[0m\u001b[0m\n\u001b[0m",
      "\u001b[1;31mNameError\u001b[0m: name 'second_model_pipe' is not defined"
     ]
    }
   ],
   "source": [
    "ohe_names = second_model_pipe.named_steps['ct'].transformers_[1][1].named_steps['ohe'].get_feature_names()"
   ]
  },
  {
   "cell_type": "code",
   "execution_count": 34,
   "metadata": {},
   "outputs": [
    {
     "data": {
      "text/plain": [
       "[]"
      ]
     },
     "execution_count": 34,
     "metadata": {},
     "output_type": "execute_result"
    }
   ],
   "source": [
    "bool_names = second_model_pipe.named_steps['ct'].transformers_[2][2]\n",
    "bool_names"
   ]
  },
  {
   "cell_type": "code",
   "execution_count": 35,
   "metadata": {},
   "outputs": [
    {
     "data": {
      "text/plain": [
       "array(['amount_tsh', 'gps_height', 'population', 'x0_Internal',\n",
       "       'x0_Lake Nyasa', 'x0_Lake Rukwa', 'x0_Lake Tanganyika',\n",
       "       'x0_Lake Victoria', 'x0_Pangani', 'x0_Rufiji',\n",
       "       'x0_Ruvuma / Southern Coast', 'x0_Wami / Ruvu', 'x1_Arusha',\n",
       "       'x1_Dar es Salaam', 'x1_Dodoma', 'x1_Iringa', 'x1_Kagera',\n",
       "       'x1_Kigoma', 'x1_Kilimanjaro', 'x1_Lindi', 'x1_Manyara', 'x1_Mara',\n",
       "       'x1_Mbeya', 'x1_Morogoro', 'x1_Mtwara', 'x1_Mwanza', 'x1_Pwani',\n",
       "       'x1_Rukwa', 'x1_Ruvuma', 'x1_Shinyanga', 'x1_Singida', 'x1_Tabora',\n",
       "       'x1_Tanga', 'x2_0', 'x2_1', 'x2_13', 'x2_2', 'x2_23', 'x2_3',\n",
       "       'x2_30', 'x2_33', 'x2_4', 'x2_43', 'x2_5', 'x2_53', 'x2_6',\n",
       "       'x2_60', 'x2_62', 'x2_63', 'x2_67', 'x2_7', 'x2_8', 'x2_80',\n",
       "       'x3_Arusha Rural', 'x3_Arusha Urban', 'x3_Babati', 'x3_Bagamoyo',\n",
       "       'x3_Bahi', 'x3_Bariadi', 'x3_Biharamulo', 'x3_Bukoba Rural',\n",
       "       'x3_Bukoba Urban', 'x3_Bukombe', 'x3_Bunda', 'x3_Chamwino',\n",
       "       'x3_Chato', 'x3_Chunya', 'x3_Dodoma Urban', 'x3_Hai', 'x3_Hanang',\n",
       "       'x3_Handeni', 'x3_Igunga', 'x3_Ilala', 'x3_Ileje', 'x3_Ilemela',\n",
       "       'x3_Iramba', 'x3_Iringa Rural', 'x3_Kahama', 'x3_Karagwe',\n",
       "       'x3_Karatu', 'x3_Kasulu', 'x3_Kibaha', 'x3_Kibondo',\n",
       "       'x3_Kigoma Rural', 'x3_Kigoma Urban', 'x3_Kilindi', 'x3_Kilolo',\n",
       "       'x3_Kilombero', 'x3_Kilosa', 'x3_Kilwa', 'x3_Kinondoni',\n",
       "       'x3_Kisarawe', 'x3_Kishapu', 'x3_Kiteto', 'x3_Kondoa', 'x3_Kongwa',\n",
       "       'x3_Korogwe', 'x3_Kwimba', 'x3_Kyela', 'x3_Lindi Rural',\n",
       "       'x3_Lindi Urban', 'x3_Liwale', 'x3_Longido', 'x3_Ludewa',\n",
       "       'x3_Lushoto', 'x3_Mafia', 'x3_Magu', 'x3_Makete', 'x3_Manyoni',\n",
       "       'x3_Masasi', 'x3_Maswa', 'x3_Mbarali', 'x3_Mbeya Rural',\n",
       "       'x3_Mbinga', 'x3_Mbozi', 'x3_Mbulu', 'x3_Meatu', 'x3_Meru',\n",
       "       'x3_Misenyi', 'x3_Missungwi', 'x3_Mkinga', 'x3_Mkuranga',\n",
       "       'x3_Monduli', 'x3_Morogoro Rural', 'x3_Morogoro Urban',\n",
       "       'x3_Moshi Rural', 'x3_Moshi Urban', 'x3_Mpanda', 'x3_Mpwapwa',\n",
       "       'x3_Mtwara Rural', 'x3_Mtwara Urban', 'x3_Mufindi', 'x3_Muheza',\n",
       "       'x3_Muleba', 'x3_Musoma Rural', 'x3_Mvomero', 'x3_Mwanga',\n",
       "       'x3_Nachingwea', 'x3_Namtumbo', 'x3_Nanyumbu', 'x3_Newala',\n",
       "       'x3_Ngara', 'x3_Ngorongoro', 'x3_Njombe', 'x3_Nkasi',\n",
       "       'x3_Nyamagana', 'x3_Nzega', 'x3_Pangani', 'x3_Rombo', 'x3_Rorya',\n",
       "       'x3_Ruangwa', 'x3_Rufiji', 'x3_Rungwe', 'x3_Same', 'x3_Sengerema',\n",
       "       'x3_Serengeti', 'x3_Shinyanga Rural', 'x3_Shinyanga Urban',\n",
       "       'x3_Siha', 'x3_Sikonge', 'x3_Simanjiro', 'x3_Singida Rural',\n",
       "       'x3_Singida Urban', 'x3_Songea Rural', 'x3_Songea Urban',\n",
       "       'x3_Sumbawanga Rural', 'x3_Sumbawanga Urban', 'x3_Tabora Urban',\n",
       "       'x3_Tandahimba', 'x3_Tanga', 'x3_Tarime', 'x3_Temeke',\n",
       "       'x3_Tunduru', 'x3_Ukerewe', 'x3_Ulanga', 'x3_Urambo', 'x3_Uyui',\n",
       "       'x4_company', 'x4_other', 'x4_other - school', 'x4_parastatal',\n",
       "       'x4_private operator', 'x4_trust', 'x4_unknown', 'x4_vwc',\n",
       "       'x4_water authority', 'x4_water board', 'x4_wua', 'x4_wug',\n",
       "       'x5_gravity', 'x5_handpump', 'x5_motorpump', 'x5_other',\n",
       "       'x5_rope pump', 'x5_submersible', 'x5_wind-powered',\n",
       "       'x6_never pay', 'x6_other', 'x6_pay annually', 'x6_pay monthly',\n",
       "       'x6_pay per bucket', 'x6_pay when scheme fails', 'x6_unknown',\n",
       "       'x7_colored', 'x7_fluoride', 'x7_good', 'x7_milky', 'x7_salty',\n",
       "       'x7_unknown', 'x8_dry', 'x8_enough', 'x8_insufficient',\n",
       "       'x8_seasonal', 'x8_unknown', 'x9_groundwater', 'x9_surface',\n",
       "       'x9_unknown', 'x10_cattle trough', 'x10_communal standpipe',\n",
       "       'x10_communal standpipe multiple', 'x10_dam', 'x10_hand pump',\n",
       "       'x10_improved spring', 'x10_other'], dtype=object)"
      ]
     },
     "execution_count": 35,
     "metadata": {},
     "output_type": "execute_result"
    }
   ],
   "source": [
    "all_names = np.concatenate( (num_names, ohe_names, bool_names) )\n",
    "all_names"
   ]
  },
  {
   "cell_type": "code",
   "execution_count": 110,
   "metadata": {},
   "outputs": [
    {
     "data": {
      "text/plain": [
       "{'amount_tsh': 0.037434759860479984,\n",
       " 'gps_height': 0.19968060584589903,\n",
       " 'population': 0.11072770441071393,\n",
       " 'x0_Internal': 0.005549940015488819,\n",
       " 'x0_Lake Nyasa': 0.004296437181874994,\n",
       " 'x0_Lake Rukwa': 0.0033139325379740055,\n",
       " 'x0_Lake Tanganyika': 0.0043768690187158356,\n",
       " 'x0_Lake Victoria': 0.0049646348726644154,\n",
       " 'x0_Pangani': 0.0035714922137618926,\n",
       " 'x0_Rufiji': 0.00412190481118155,\n",
       " 'x0_Ruvuma / Southern Coast': 0.0034818106070292104,\n",
       " 'x0_Wami / Ruvu': 0.0036467427450644968,\n",
       " 'x1_Arusha': 0.002714378206494305,\n",
       " 'x1_Dar es Salaam': 0.0007148397396292064,\n",
       " 'x1_Dodoma': 0.0019541251900774582,\n",
       " 'x1_Iringa': 0.004768585082517668,\n",
       " 'x1_Kagera': 0.00200948996433281,\n",
       " 'x1_Kigoma': 0.003229811677110191,\n",
       " 'x1_Kilimanjaro': 0.0029467023438527655,\n",
       " 'x1_Lindi': 0.001568687166242695,\n",
       " 'x1_Manyara': 0.0016326034195469304,\n",
       " 'x1_Mara': 0.0025367097052255254,\n",
       " 'x1_Mbeya': 0.0020560996595366428,\n",
       " 'x1_Morogoro': 0.002392153168669276,\n",
       " 'x1_Mtwara': 0.001987403813345965,\n",
       " 'x1_Mwanza': 0.0022426860348460755,\n",
       " 'x1_Pwani': 0.002107630373879171,\n",
       " 'x1_Rukwa': 0.002162985810820926,\n",
       " 'x1_Ruvuma': 0.001965641878110153,\n",
       " 'x1_Shinyanga': 0.0035821169902025395,\n",
       " 'x1_Singida': 0.0020464368424318057,\n",
       " 'x1_Tabora': 0.001624556516167201,\n",
       " 'x1_Tanga': 0.0018351959270320939,\n",
       " 'x2_0': 0.00015553298081047461,\n",
       " 'x2_1': 0.007296190874296223,\n",
       " 'x2_13': 0.0004476434969301866,\n",
       " 'x2_2': 0.00638260900583838,\n",
       " 'x2_23': 0.0005631125748301649,\n",
       " 'x2_3': 0.005891504584710847,\n",
       " 'x2_30': 0.0016608535129128883,\n",
       " 'x2_33': 0.0016623509420234381,\n",
       " 'x2_4': 0.005255169918960795,\n",
       " 'x2_43': 0.0007554843776092725,\n",
       " 'x2_5': 0.0038622135954013907,\n",
       " 'x2_53': 0.0014065308617324781,\n",
       " 'x2_6': 0.003362180564646346,\n",
       " 'x2_60': 0.0003203689200478513,\n",
       " 'x2_62': 0.00015035480933035247,\n",
       " 'x2_63': 0.00022700889297000675,\n",
       " 'x2_67': 6.821854694337242e-06,\n",
       " 'x2_7': 0.003246624698402925,\n",
       " 'x2_8': 0.0017815023686466736,\n",
       " 'x2_80': 6.363410937667339e-05,\n",
       " 'x3_Arusha Rural': 0.0012426633935831784,\n",
       " 'x3_Arusha Urban': 0.00013223749971278358,\n",
       " 'x3_Babati': 0.0008453029188950766,\n",
       " 'x3_Bagamoyo': 0.000854055376406717,\n",
       " 'x3_Bahi': 0.0003285409748562579,\n",
       " 'x3_Bariadi': 0.0035277732677429243,\n",
       " 'x3_Biharamulo': 0.000536188310946096,\n",
       " 'x3_Bukoba Rural': 0.0006521887115201948,\n",
       " 'x3_Bukoba Urban': 0.0002114682619290474,\n",
       " 'x3_Bukombe': 0.0002425749309655188,\n",
       " 'x3_Bunda': 0.0007829005704544312,\n",
       " 'x3_Chamwino': 0.0006516472766139558,\n",
       " 'x3_Chato': 0.0004059613162257663,\n",
       " 'x3_Chunya': 0.0014089621431200077,\n",
       " 'x3_Dodoma Urban': 0.0006545736825028198,\n",
       " 'x3_Geita': 0.0016545217530270961,\n",
       " 'x3_Hai': 0.0005150884880436096,\n",
       " 'x3_Hanang': 0.0004034543286437419,\n",
       " 'x3_Handeni': 0.0002962729282548825,\n",
       " 'x3_Igunga': 0.0006712627177300946,\n",
       " 'x3_Ilala': 0.0005199155237477478,\n",
       " 'x3_Ileje': 0.00047192804774156107,\n",
       " 'x3_Ilemela': 0.00033646074828422474,\n",
       " 'x3_Iramba': 0.000518168446973884,\n",
       " 'x3_Iringa Rural': 0.0006660248388226698,\n",
       " 'x3_Kahama': 0.0012471114710646512,\n",
       " 'x3_Karagwe': 0.0008007736062211307,\n",
       " 'x3_Karatu': 0.0004743023512472616,\n",
       " 'x3_Kasulu': 0.0012771211078353808,\n",
       " 'x3_Kibaha': 0.000451053052108743,\n",
       " 'x3_Kibondo': 0.0010436006846442608,\n",
       " 'x3_Kigoma Rural': 0.0027683488072972684,\n",
       " 'x3_Kigoma Urban': 0.00010212099142654175,\n",
       " 'x3_Kilindi': 0.00039564585557032116,\n",
       " 'x3_Kilolo': 0.0004629159370684794,\n",
       " 'x3_Kilombero': 0.0006379964465918911,\n",
       " 'x3_Kilosa': 0.0012357747442778848,\n",
       " 'x3_Kilwa': 0.00046447688578237493,\n",
       " 'x3_Kinondoni': 0.00016234550837293573,\n",
       " 'x3_Kisarawe': 0.0006521406552053377,\n",
       " 'x3_Kishapu': 0.000566938684139421,\n",
       " 'x3_Kiteto': 0.0006437700463937355,\n",
       " 'x3_Kondoa': 0.0011482908955537448,\n",
       " 'x3_Kongwa': 0.0009092030135854248,\n",
       " 'x3_Korogwe': 0.0006664004550124698,\n",
       " 'x3_Kwimba': 0.0009502332849164638,\n",
       " 'x3_Kyela': 0.0017314114484146082,\n",
       " 'x3_Lindi Rural': 0.0005718423204098067,\n",
       " 'x3_Lindi Urban': 2.1459479343162862e-05,\n",
       " 'x3_Liwale': 0.00019361694157538163,\n",
       " 'x3_Longido': 0.00036510573112944774,\n",
       " 'x3_Ludewa': 0.0003146473081436466,\n",
       " 'x3_Lushoto': 0.0004570575300493417,\n",
       " 'x3_Mafia': 0.000414587169474172,\n",
       " 'x3_Magu': 0.0014503887314174,\n",
       " 'x3_Makete': 0.0005869425085042719,\n",
       " 'x3_Manyoni': 0.0010207882449521435,\n",
       " 'x3_Masasi': 0.000805021862916214,\n",
       " 'x3_Maswa': 0.0010437144074528604,\n",
       " 'x3_Mbarali': 0.0004681750617522456,\n",
       " 'x3_Mbeya Rural': 0.00036448050292142166,\n",
       " 'x3_Mbinga': 0.0006905162500592169,\n",
       " 'x3_Mbozi': 0.0008103374809286354,\n",
       " 'x3_Mbulu': 0.0003422009461856236,\n",
       " 'x3_Meatu': 0.0006258077251992605,\n",
       " 'x3_Meru': 0.0007689225849616935,\n",
       " 'x3_Misenyi': 0.0006893876473543519,\n",
       " 'x3_Missungwi': 0.000644493461426399,\n",
       " 'x3_Mkinga': 0.0007396231736245956,\n",
       " 'x3_Mkuranga': 0.0006873265847213165,\n",
       " 'x3_Monduli': 0.00047369993709633684,\n",
       " 'x3_Morogoro Rural': 0.0006284858272769618,\n",
       " 'x3_Morogoro Urban': 0.00022303642006202347,\n",
       " 'x3_Moshi Rural': 0.001418212980861378,\n",
       " 'x3_Moshi Urban': 0.0001540658676024356,\n",
       " 'x3_Mpanda': 0.0012139418836034637,\n",
       " 'x3_Mpwapwa': 0.0008736589791721508,\n",
       " 'x3_Mtwara Rural': 0.000462384645143226,\n",
       " 'x3_Mtwara Urban': 0.0001876730286713565,\n",
       " 'x3_Mufindi': 0.000320875912651013,\n",
       " 'x3_Muheza': 0.0005488124219524775,\n",
       " 'x3_Muleba': 0.0005953835636187061,\n",
       " 'x3_Musoma Rural': 0.0007443461557044863,\n",
       " 'x3_Mvomero': 0.0013411963518448202,\n",
       " 'x3_Mwanga': 0.0010147220486326903,\n",
       " 'x3_Nachingwea': 0.00045830348480917465,\n",
       " 'x3_Namtumbo': 0.0005940675045207835,\n",
       " 'x3_Nanyumbu': 0.00015582540615119555,\n",
       " 'x3_Newala': 0.000776924525146431,\n",
       " 'x3_Ngara': 0.0012178140806194176,\n",
       " 'x3_Ngorongoro': 0.0004215940757659621,\n",
       " 'x3_Njombe': 0.0018115298136399253,\n",
       " 'x3_Nkasi': 0.0007645935775287746,\n",
       " 'x3_Nyamagana': 2.5365231549815053e-05,\n",
       " 'x3_Nzega': 0.0006093047152944303,\n",
       " 'x3_Pangani': 0.0008579463641002928,\n",
       " 'x3_Rombo': 0.0018077531951037188,\n",
       " 'x3_Rorya': 0.0004975088921065285,\n",
       " 'x3_Ruangwa': 0.0007049502448503247,\n",
       " 'x3_Rufiji': 0.0007040060434748398,\n",
       " 'x3_Rungwe': 0.0011890821077362552,\n",
       " 'x3_Same': 0.0012570240817712816,\n",
       " 'x3_Sengerema': 0.0010180159074815035,\n",
       " 'x3_Serengeti': 0.0011442793750375247,\n",
       " 'x3_Shinyanga Rural': 0.0009853266978195737,\n",
       " 'x3_Shinyanga Urban': 0.00034531343095225986,\n",
       " 'x3_Siha': 0.0009598116246058435,\n",
       " 'x3_Sikonge': 0.00032828265501984115,\n",
       " 'x3_Simanjiro': 0.0005573968151044601,\n",
       " 'x3_Singida Rural': 0.0012806878907334856,\n",
       " 'x3_Singida Urban': 0.000246844226930514,\n",
       " 'x3_Songea Rural': 0.0006653917269940326,\n",
       " 'x3_Songea Urban': 8.076537618613345e-05,\n",
       " 'x3_Sumbawanga Rural': 0.0006815067447381194,\n",
       " 'x3_Sumbawanga Urban': 0.0002618036424105099,\n",
       " 'x3_Tabora Urban': 0.0002181275152042995,\n",
       " 'x3_Tandahimba': 0.00031825667734057246,\n",
       " 'x3_Tanga': 0.00025425718812514673,\n",
       " 'x3_Tarime': 0.0004398464011317254,\n",
       " 'x3_Temeke': 0.00025902638412862055,\n",
       " 'x3_Tunduru': 0.0007202407278115614,\n",
       " 'x3_Ukerewe': 0.0008587791140671618,\n",
       " 'x3_Ulanga': 0.0007587839869760015,\n",
       " 'x3_Urambo': 0.0004688228806696916,\n",
       " 'x3_Uyui': 0.0006066040991803145,\n",
       " 'x4_company': 0.0018980755298545265,\n",
       " 'x4_other': 0.001918369795339673,\n",
       " 'x4_other - school': 0.00015166312467536494,\n",
       " 'x4_parastatal': 0.003515386101485744,\n",
       " 'x4_private operator': 0.004482012013373535,\n",
       " 'x4_trust': 0.0005543086775612239,\n",
       " 'x4_unknown': 0.0015990612780458439,\n",
       " 'x4_vwc': 0.012938934053065709,\n",
       " 'x4_water authority': 0.0024046308961626554,\n",
       " 'x4_water board': 0.002793614498055691,\n",
       " 'x4_wua': 0.0028966828467388156,\n",
       " 'x4_wug': 0.005578139076311198,\n",
       " 'x5_gravity': 0.012045433936144202,\n",
       " 'x5_handpump': 0.011267943397798994,\n",
       " 'x5_motorpump': 0.004997545723960201,\n",
       " 'x5_other': 0.02783792918634092,\n",
       " 'x5_rope pump': 0.001201120660076145,\n",
       " 'x5_submersible': 0.0073747164163014,\n",
       " 'x5_wind-powered': 0.00045969967814924584,\n",
       " 'x6_never pay': 0.016173413774188357,\n",
       " 'x6_other': 0.0017094514554381183,\n",
       " 'x6_pay annually': 0.0044723948089617225,\n",
       " 'x6_pay monthly': 0.007317357717223534,\n",
       " 'x6_pay per bucket': 0.008569072405177345,\n",
       " 'x6_pay when scheme fails': 0.004558211771379212,\n",
       " 'x6_unknown': 0.007525000845483643,\n",
       " 'x7_colored': 0.0015801627929710428,\n",
       " 'x7_fluoride': 0.0008736749786481852,\n",
       " 'x7_good': 0.0096923756645101,\n",
       " 'x7_milky': 0.0019296589742054996,\n",
       " 'x7_salty': 0.006756992558312166,\n",
       " 'x7_unknown': 0.010132686953506817,\n",
       " 'x8_dry': 0.08248806945802255,\n",
       " 'x8_enough': 0.03558852558376955,\n",
       " 'x8_insufficient': 0.019804206430287886,\n",
       " 'x8_seasonal': 0.009675912361413234,\n",
       " 'x8_unknown': 0.0026184063687942727,\n",
       " 'x9_groundwater': 0.009499417662055466,\n",
       " 'x9_surface': 0.00957423328378339,\n",
       " 'x9_unknown': 0.0008597998169721548,\n",
       " 'x10_cattle trough': 0.0005549751314515654,\n",
       " 'x10_communal standpipe': 0.014202549971734323,\n",
       " 'x10_communal standpipe multiple': 0.011992006317153837,\n",
       " 'x10_dam': 2.5299262177874476e-05,\n",
       " 'x10_hand pump': 0.008604729010592777,\n",
       " 'x10_improved spring': 0.0029777612880094485,\n",
       " 'x10_other': 0.03767420338855473}"
      ]
     },
     "execution_count": 110,
     "metadata": {},
     "output_type": "execute_result"
    }
   ],
   "source": [
    "feature_importances = {name:score for name, score in zip(all_names, rfc.feature_importances_)}\n",
    "feature_importances\n",
    "#access OHE feature names, combine them with categorical, figure out a way to sort"
   ]
  },
  {
   "cell_type": "code",
   "execution_count": 111,
   "metadata": {},
   "outputs": [
    {
     "data": {
      "text/plain": [
       "['gps_height', 'population', 'x8_dry', 'x10_other', 'amount_tsh']"
      ]
     },
     "execution_count": 111,
     "metadata": {},
     "output_type": "execute_result"
    }
   ],
   "source": [
    "sorted(feature_importances, key=feature_importances.get, reverse=True)[:5]"
   ]
  },
  {
   "cell_type": "code",
   "execution_count": null,
   "metadata": {},
   "outputs": [],
   "source": [
    "feature_importances "
   ]
  },
  {
   "cell_type": "code",
   "execution_count": 21,
   "metadata": {},
   "outputs": [],
   "source": [
    "#HELPER FUNCTION TO MAP FEATURE IMPORTANCES INTO A DICT\n",
    "def dict_feature_importances(pipeline):\n",
    "    num_names = pipeline.named_steps['ct'].transformers_[0][2]\n",
    "    ohe_names = pipeline.named_steps['ct'].transformers_[1][1].named_steps['ohe'].get_feature_names()\n",
    "    bool_names = pipeline.named_steps['ct'].transformers_[2][2]\n",
    "    all_names = np.concatenate( (num_names, ohe_names, bool_names) )\n",
    "    \n",
    "    model_name = list(pipeline.named_steps.keys())[1]\n",
    "    feature_importances = {name:score for name, score in zip(all_names, pipeline.named_steps[model_name].feature_importances_)}\n",
    "    return feature_importances\n",
    "\n"
   ]
  },
  {
   "cell_type": "code",
   "execution_count": null,
   "metadata": {},
   "outputs": [],
   "source": [
    "sm = SMOTE(sampling_strategy='minority', random_state=42)"
   ]
  },
  {
   "cell_type": "markdown",
   "metadata": {},
   "source": [
    "## Binary Target"
   ]
  },
  {
   "cell_type": "code",
   "execution_count": 25,
   "metadata": {},
   "outputs": [],
   "source": [
    "df_binary = df.copy()"
   ]
  },
  {
   "cell_type": "code",
   "execution_count": 26,
   "metadata": {},
   "outputs": [
    {
     "data": {
      "text/html": [
       "<div>\n",
       "<style scoped>\n",
       "    .dataframe tbody tr th:only-of-type {\n",
       "        vertical-align: middle;\n",
       "    }\n",
       "\n",
       "    .dataframe tbody tr th {\n",
       "        vertical-align: top;\n",
       "    }\n",
       "\n",
       "    .dataframe thead th {\n",
       "        text-align: right;\n",
       "    }\n",
       "</style>\n",
       "<table border=\"1\" class=\"dataframe\">\n",
       "  <thead>\n",
       "    <tr style=\"text-align: right;\">\n",
       "      <th></th>\n",
       "      <th>id</th>\n",
       "      <th>amount_tsh</th>\n",
       "      <th>date_recorded</th>\n",
       "      <th>funder</th>\n",
       "      <th>gps_height</th>\n",
       "      <th>installer</th>\n",
       "      <th>longitude</th>\n",
       "      <th>latitude</th>\n",
       "      <th>wpt_name</th>\n",
       "      <th>num_private</th>\n",
       "      <th>...</th>\n",
       "      <th>quantity_group</th>\n",
       "      <th>source</th>\n",
       "      <th>source_type</th>\n",
       "      <th>source_class</th>\n",
       "      <th>waterpoint_type</th>\n",
       "      <th>waterpoint_type_group</th>\n",
       "      <th>id_label</th>\n",
       "      <th>status_group</th>\n",
       "      <th>coordinates</th>\n",
       "      <th>distance</th>\n",
       "    </tr>\n",
       "  </thead>\n",
       "  <tbody>\n",
       "    <tr>\n",
       "      <th>0</th>\n",
       "      <td>69572</td>\n",
       "      <td>6000.0</td>\n",
       "      <td>2011-03-14</td>\n",
       "      <td>Roman</td>\n",
       "      <td>1390</td>\n",
       "      <td>Roman</td>\n",
       "      <td>34.938093</td>\n",
       "      <td>-9.856322</td>\n",
       "      <td>none</td>\n",
       "      <td>0</td>\n",
       "      <td>...</td>\n",
       "      <td>enough</td>\n",
       "      <td>spring</td>\n",
       "      <td>spring</td>\n",
       "      <td>groundwater</td>\n",
       "      <td>communal standpipe</td>\n",
       "      <td>communal standpipe</td>\n",
       "      <td>69572</td>\n",
       "      <td>functional</td>\n",
       "      <td>[-9.85632177, 34.93809275]</td>\n",
       "      <td>0.001616</td>\n",
       "    </tr>\n",
       "    <tr>\n",
       "      <th>1</th>\n",
       "      <td>8776</td>\n",
       "      <td>0.0</td>\n",
       "      <td>2013-03-06</td>\n",
       "      <td>Grumeti</td>\n",
       "      <td>1399</td>\n",
       "      <td>GRUMETI</td>\n",
       "      <td>34.698766</td>\n",
       "      <td>-2.147466</td>\n",
       "      <td>Zahanati</td>\n",
       "      <td>0</td>\n",
       "      <td>...</td>\n",
       "      <td>insufficient</td>\n",
       "      <td>rainwater harvesting</td>\n",
       "      <td>rainwater harvesting</td>\n",
       "      <td>surface</td>\n",
       "      <td>communal standpipe</td>\n",
       "      <td>communal standpipe</td>\n",
       "      <td>8776</td>\n",
       "      <td>functional</td>\n",
       "      <td>[-2.14746569, 34.6987661]</td>\n",
       "      <td>0.000694</td>\n",
       "    </tr>\n",
       "    <tr>\n",
       "      <th>2</th>\n",
       "      <td>34310</td>\n",
       "      <td>25.0</td>\n",
       "      <td>2013-02-25</td>\n",
       "      <td>Lottery Club</td>\n",
       "      <td>686</td>\n",
       "      <td>World vision</td>\n",
       "      <td>37.460664</td>\n",
       "      <td>-3.821329</td>\n",
       "      <td>Kwa Mahundi</td>\n",
       "      <td>0</td>\n",
       "      <td>...</td>\n",
       "      <td>enough</td>\n",
       "      <td>dam</td>\n",
       "      <td>dam</td>\n",
       "      <td>surface</td>\n",
       "      <td>communal standpipe multiple</td>\n",
       "      <td>communal standpipe</td>\n",
       "      <td>34310</td>\n",
       "      <td>functional</td>\n",
       "      <td>[-3.82132853, 37.46066446]</td>\n",
       "      <td>0.003466</td>\n",
       "    </tr>\n",
       "    <tr>\n",
       "      <th>3</th>\n",
       "      <td>67743</td>\n",
       "      <td>0.0</td>\n",
       "      <td>2013-01-28</td>\n",
       "      <td>Unicef</td>\n",
       "      <td>263</td>\n",
       "      <td>UNICEF</td>\n",
       "      <td>38.486161</td>\n",
       "      <td>-11.155298</td>\n",
       "      <td>Zahanati Ya Nanyumbu</td>\n",
       "      <td>0</td>\n",
       "      <td>...</td>\n",
       "      <td>dry</td>\n",
       "      <td>machine dbh</td>\n",
       "      <td>borehole</td>\n",
       "      <td>groundwater</td>\n",
       "      <td>communal standpipe multiple</td>\n",
       "      <td>communal standpipe</td>\n",
       "      <td>67743</td>\n",
       "      <td>non functional</td>\n",
       "      <td>[-11.15529772, 38.48616088]</td>\n",
       "      <td>0.001329</td>\n",
       "    </tr>\n",
       "    <tr>\n",
       "      <th>4</th>\n",
       "      <td>19728</td>\n",
       "      <td>0.0</td>\n",
       "      <td>2011-07-13</td>\n",
       "      <td>Action In A</td>\n",
       "      <td>0</td>\n",
       "      <td>Artisan</td>\n",
       "      <td>31.130847</td>\n",
       "      <td>-1.825359</td>\n",
       "      <td>Shuleni</td>\n",
       "      <td>0</td>\n",
       "      <td>...</td>\n",
       "      <td>seasonal</td>\n",
       "      <td>rainwater harvesting</td>\n",
       "      <td>rainwater harvesting</td>\n",
       "      <td>surface</td>\n",
       "      <td>communal standpipe</td>\n",
       "      <td>communal standpipe</td>\n",
       "      <td>19728</td>\n",
       "      <td>functional</td>\n",
       "      <td>[-1.82535885, 31.13084671]</td>\n",
       "      <td>0.005407</td>\n",
       "    </tr>\n",
       "  </tbody>\n",
       "</table>\n",
       "<p>5 rows × 44 columns</p>\n",
       "</div>"
      ],
      "text/plain": [
       "      id  amount_tsh date_recorded        funder  gps_height     installer  \\\n",
       "0  69572      6000.0    2011-03-14         Roman        1390         Roman   \n",
       "1   8776         0.0    2013-03-06       Grumeti        1399       GRUMETI   \n",
       "2  34310        25.0    2013-02-25  Lottery Club         686  World vision   \n",
       "3  67743         0.0    2013-01-28        Unicef         263        UNICEF   \n",
       "4  19728         0.0    2011-07-13   Action In A           0       Artisan   \n",
       "\n",
       "   longitude   latitude              wpt_name  num_private  ...  \\\n",
       "0  34.938093  -9.856322                  none            0  ...   \n",
       "1  34.698766  -2.147466              Zahanati            0  ...   \n",
       "2  37.460664  -3.821329           Kwa Mahundi            0  ...   \n",
       "3  38.486161 -11.155298  Zahanati Ya Nanyumbu            0  ...   \n",
       "4  31.130847  -1.825359               Shuleni            0  ...   \n",
       "\n",
       "  quantity_group                source           source_type source_class  \\\n",
       "0         enough                spring                spring  groundwater   \n",
       "1   insufficient  rainwater harvesting  rainwater harvesting      surface   \n",
       "2         enough                   dam                   dam      surface   \n",
       "3            dry           machine dbh              borehole  groundwater   \n",
       "4       seasonal  rainwater harvesting  rainwater harvesting      surface   \n",
       "\n",
       "               waterpoint_type waterpoint_type_group id_label    status_group  \\\n",
       "0           communal standpipe    communal standpipe    69572      functional   \n",
       "1           communal standpipe    communal standpipe     8776      functional   \n",
       "2  communal standpipe multiple    communal standpipe    34310      functional   \n",
       "3  communal standpipe multiple    communal standpipe    67743  non functional   \n",
       "4           communal standpipe    communal standpipe    19728      functional   \n",
       "\n",
       "                   coordinates  distance  \n",
       "0   [-9.85632177, 34.93809275]  0.001616  \n",
       "1    [-2.14746569, 34.6987661]  0.000694  \n",
       "2   [-3.82132853, 37.46066446]  0.003466  \n",
       "3  [-11.15529772, 38.48616088]  0.001329  \n",
       "4   [-1.82535885, 31.13084671]  0.005407  \n",
       "\n",
       "[5 rows x 44 columns]"
      ]
     },
     "execution_count": 26,
     "metadata": {},
     "output_type": "execute_result"
    }
   ],
   "source": [
    "df_binary.head()"
   ]
  },
  {
   "cell_type": "code",
   "execution_count": 27,
   "metadata": {},
   "outputs": [],
   "source": [
    "#group functional needs repair with functional category\n",
    "df_binary['status_group'] = df_binary['status_group'].str.replace('functional needs repair','functional')"
   ]
  },
  {
   "cell_type": "code",
   "execution_count": 28,
   "metadata": {},
   "outputs": [
    {
     "data": {
      "text/plain": [
       "functional        35320\n",
       "non functional    22268\n",
       "Name: status_group, dtype: int64"
      ]
     },
     "execution_count": 28,
     "metadata": {},
     "output_type": "execute_result"
    }
   ],
   "source": [
    "df_binary['status_group'].value_counts()"
   ]
  },
  {
   "cell_type": "code",
   "execution_count": 29,
   "metadata": {},
   "outputs": [],
   "source": [
    "picked_features = ['amount_tsh', 'gps_height', 'basin', 'region', 'district_code', 'lga', 'population', \n",
    "                   'public_meeting', 'management', 'permit', 'extraction_type', 'payment', 'water_quality', 'quantity', \n",
    "                   'source', 'waterpoint_type']"
   ]
  },
  {
   "cell_type": "code",
   "execution_count": 30,
   "metadata": {},
   "outputs": [],
   "source": [
    "features_type = GrabTypes(picked_features, df_binary)"
   ]
  },
  {
   "cell_type": "code",
   "execution_count": 31,
   "metadata": {},
   "outputs": [],
   "source": [
    "CT = ColumnTransformer(transformers=[('subpipe_num', subpipe_num, features_type[0]),\n",
    "                                     ('subpipe_cat', subpipe_cat, features_type[1]),\n",
    "                                     ('subpipe_bool', subpipe_bool, features_type[2])],\n",
    "                       remainder='drop')"
   ]
  },
  {
   "cell_type": "code",
   "execution_count": 32,
   "metadata": {},
   "outputs": [],
   "source": [
    "rfc = RandomForestClassifier(random_state=42)\n",
    "\n",
    "binary_model_pipe = Pipeline(steps = [('ct', CT),\n",
    "                            ('rfc', rfc )])"
   ]
  },
  {
   "cell_type": "code",
   "execution_count": 125,
   "metadata": {},
   "outputs": [
    {
     "data": {
      "text/plain": [
       "0.9320089786756454"
      ]
     },
     "execution_count": 125,
     "metadata": {},
     "output_type": "execute_result"
    }
   ],
   "source": [
    "binary_model_pipe.fit(X_train, y_train)\n",
    "binary_model_pipe.score(X_train, y_train)"
   ]
  },
  {
   "cell_type": "code",
   "execution_count": 122,
   "metadata": {},
   "outputs": [],
   "source": [
    "params = {'rfc__n_estimators':[200],\n",
    "          'rfc__max_depth':[None, 50],\n",
    "          'rfc__min_samples_leaf': [1, 10],\n",
    "          'rfc__min_samples_split': [5, 10]}\n",
    "gs = GridSearchCV(estimator = binary_model_pipe, param_grid = params, cv=5, verbose=3)"
   ]
  },
  {
   "cell_type": "code",
   "execution_count": 123,
   "metadata": {
    "scrolled": true
   },
   "outputs": [
    {
     "name": "stdout",
     "output_type": "stream",
     "text": [
      "Fitting 5 folds for each of 8 candidates, totalling 40 fits\n",
      "[CV] rfc__max_depth=None, rfc__min_samples_leaf=1, rfc__min_samples_split=5, rfc__n_estimators=200 \n"
     ]
    },
    {
     "name": "stderr",
     "output_type": "stream",
     "text": [
      "[Parallel(n_jobs=1)]: Using backend SequentialBackend with 1 concurrent workers.\n"
     ]
    },
    {
     "name": "stdout",
     "output_type": "stream",
     "text": [
      "[CV]  rfc__max_depth=None, rfc__min_samples_leaf=1, rfc__min_samples_split=5, rfc__n_estimators=200, score=0.783, total=  10.4s\n",
      "[CV] rfc__max_depth=None, rfc__min_samples_leaf=1, rfc__min_samples_split=5, rfc__n_estimators=200 \n"
     ]
    },
    {
     "name": "stderr",
     "output_type": "stream",
     "text": [
      "[Parallel(n_jobs=1)]: Done   1 out of   1 | elapsed:   10.3s remaining:    0.0s\n"
     ]
    },
    {
     "name": "stdout",
     "output_type": "stream",
     "text": [
      "[CV]  rfc__max_depth=None, rfc__min_samples_leaf=1, rfc__min_samples_split=5, rfc__n_estimators=200, score=0.780, total=  10.3s\n",
      "[CV] rfc__max_depth=None, rfc__min_samples_leaf=1, rfc__min_samples_split=5, rfc__n_estimators=200 \n"
     ]
    },
    {
     "name": "stderr",
     "output_type": "stream",
     "text": [
      "[Parallel(n_jobs=1)]: Done   2 out of   2 | elapsed:   20.6s remaining:    0.0s\n"
     ]
    },
    {
     "name": "stdout",
     "output_type": "stream",
     "text": [
      "[CV]  rfc__max_depth=None, rfc__min_samples_leaf=1, rfc__min_samples_split=5, rfc__n_estimators=200, score=0.781, total=  10.7s\n",
      "[CV] rfc__max_depth=None, rfc__min_samples_leaf=1, rfc__min_samples_split=5, rfc__n_estimators=200 \n",
      "[CV]  rfc__max_depth=None, rfc__min_samples_leaf=1, rfc__min_samples_split=5, rfc__n_estimators=200, score=0.780, total=  10.7s\n",
      "[CV] rfc__max_depth=None, rfc__min_samples_leaf=1, rfc__min_samples_split=5, rfc__n_estimators=200 \n",
      "[CV]  rfc__max_depth=None, rfc__min_samples_leaf=1, rfc__min_samples_split=5, rfc__n_estimators=200, score=0.778, total=   9.7s\n",
      "[CV] rfc__max_depth=None, rfc__min_samples_leaf=1, rfc__min_samples_split=10, rfc__n_estimators=200 \n",
      "[CV]  rfc__max_depth=None, rfc__min_samples_leaf=1, rfc__min_samples_split=10, rfc__n_estimators=200, score=0.791, total=  10.2s\n",
      "[CV] rfc__max_depth=None, rfc__min_samples_leaf=1, rfc__min_samples_split=10, rfc__n_estimators=200 \n",
      "[CV]  rfc__max_depth=None, rfc__min_samples_leaf=1, rfc__min_samples_split=10, rfc__n_estimators=200, score=0.783, total=  10.4s\n",
      "[CV] rfc__max_depth=None, rfc__min_samples_leaf=1, rfc__min_samples_split=10, rfc__n_estimators=200 \n",
      "[CV]  rfc__max_depth=None, rfc__min_samples_leaf=1, rfc__min_samples_split=10, rfc__n_estimators=200, score=0.784, total=   9.6s\n",
      "[CV] rfc__max_depth=None, rfc__min_samples_leaf=1, rfc__min_samples_split=10, rfc__n_estimators=200 \n",
      "[CV]  rfc__max_depth=None, rfc__min_samples_leaf=1, rfc__min_samples_split=10, rfc__n_estimators=200, score=0.787, total=  10.3s\n",
      "[CV] rfc__max_depth=None, rfc__min_samples_leaf=1, rfc__min_samples_split=10, rfc__n_estimators=200 \n",
      "[CV]  rfc__max_depth=None, rfc__min_samples_leaf=1, rfc__min_samples_split=10, rfc__n_estimators=200, score=0.778, total=   9.5s\n",
      "[CV] rfc__max_depth=None, rfc__min_samples_leaf=10, rfc__min_samples_split=5, rfc__n_estimators=200 \n",
      "[CV]  rfc__max_depth=None, rfc__min_samples_leaf=10, rfc__min_samples_split=5, rfc__n_estimators=200, score=0.771, total=   8.1s\n",
      "[CV] rfc__max_depth=None, rfc__min_samples_leaf=10, rfc__min_samples_split=5, rfc__n_estimators=200 \n",
      "[CV]  rfc__max_depth=None, rfc__min_samples_leaf=10, rfc__min_samples_split=5, rfc__n_estimators=200, score=0.760, total=   8.0s\n",
      "[CV] rfc__max_depth=None, rfc__min_samples_leaf=10, rfc__min_samples_split=5, rfc__n_estimators=200 \n",
      "[CV]  rfc__max_depth=None, rfc__min_samples_leaf=10, rfc__min_samples_split=5, rfc__n_estimators=200, score=0.760, total=   8.2s\n",
      "[CV] rfc__max_depth=None, rfc__min_samples_leaf=10, rfc__min_samples_split=5, rfc__n_estimators=200 \n",
      "[CV]  rfc__max_depth=None, rfc__min_samples_leaf=10, rfc__min_samples_split=5, rfc__n_estimators=200, score=0.767, total=   8.4s\n",
      "[CV] rfc__max_depth=None, rfc__min_samples_leaf=10, rfc__min_samples_split=5, rfc__n_estimators=200 \n",
      "[CV]  rfc__max_depth=None, rfc__min_samples_leaf=10, rfc__min_samples_split=5, rfc__n_estimators=200, score=0.757, total=   7.6s\n",
      "[CV] rfc__max_depth=None, rfc__min_samples_leaf=10, rfc__min_samples_split=10, rfc__n_estimators=200 \n",
      "[CV]  rfc__max_depth=None, rfc__min_samples_leaf=10, rfc__min_samples_split=10, rfc__n_estimators=200, score=0.771, total=   7.7s\n",
      "[CV] rfc__max_depth=None, rfc__min_samples_leaf=10, rfc__min_samples_split=10, rfc__n_estimators=200 \n",
      "[CV]  rfc__max_depth=None, rfc__min_samples_leaf=10, rfc__min_samples_split=10, rfc__n_estimators=200, score=0.760, total=   8.1s\n",
      "[CV] rfc__max_depth=None, rfc__min_samples_leaf=10, rfc__min_samples_split=10, rfc__n_estimators=200 \n",
      "[CV]  rfc__max_depth=None, rfc__min_samples_leaf=10, rfc__min_samples_split=10, rfc__n_estimators=200, score=0.760, total=   7.8s\n",
      "[CV] rfc__max_depth=None, rfc__min_samples_leaf=10, rfc__min_samples_split=10, rfc__n_estimators=200 \n",
      "[CV]  rfc__max_depth=None, rfc__min_samples_leaf=10, rfc__min_samples_split=10, rfc__n_estimators=200, score=0.767, total=   8.3s\n",
      "[CV] rfc__max_depth=None, rfc__min_samples_leaf=10, rfc__min_samples_split=10, rfc__n_estimators=200 \n",
      "[CV]  rfc__max_depth=None, rfc__min_samples_leaf=10, rfc__min_samples_split=10, rfc__n_estimators=200, score=0.757, total=   7.8s\n",
      "[CV] rfc__max_depth=50, rfc__min_samples_leaf=1, rfc__min_samples_split=5, rfc__n_estimators=200 \n",
      "[CV]  rfc__max_depth=50, rfc__min_samples_leaf=1, rfc__min_samples_split=5, rfc__n_estimators=200, score=0.785, total=  10.3s\n",
      "[CV] rfc__max_depth=50, rfc__min_samples_leaf=1, rfc__min_samples_split=5, rfc__n_estimators=200 \n",
      "[CV]  rfc__max_depth=50, rfc__min_samples_leaf=1, rfc__min_samples_split=5, rfc__n_estimators=200, score=0.780, total=  10.1s\n",
      "[CV] rfc__max_depth=50, rfc__min_samples_leaf=1, rfc__min_samples_split=5, rfc__n_estimators=200 \n",
      "[CV]  rfc__max_depth=50, rfc__min_samples_leaf=1, rfc__min_samples_split=5, rfc__n_estimators=200, score=0.782, total=  10.1s\n",
      "[CV] rfc__max_depth=50, rfc__min_samples_leaf=1, rfc__min_samples_split=5, rfc__n_estimators=200 \n",
      "[CV]  rfc__max_depth=50, rfc__min_samples_leaf=1, rfc__min_samples_split=5, rfc__n_estimators=200, score=0.781, total=  10.1s\n",
      "[CV] rfc__max_depth=50, rfc__min_samples_leaf=1, rfc__min_samples_split=5, rfc__n_estimators=200 \n",
      "[CV]  rfc__max_depth=50, rfc__min_samples_leaf=1, rfc__min_samples_split=5, rfc__n_estimators=200, score=0.780, total=   9.5s\n",
      "[CV] rfc__max_depth=50, rfc__min_samples_leaf=1, rfc__min_samples_split=10, rfc__n_estimators=200 \n",
      "[CV]  rfc__max_depth=50, rfc__min_samples_leaf=1, rfc__min_samples_split=10, rfc__n_estimators=200, score=0.791, total=   9.6s\n",
      "[CV] rfc__max_depth=50, rfc__min_samples_leaf=1, rfc__min_samples_split=10, rfc__n_estimators=200 \n",
      "[CV]  rfc__max_depth=50, rfc__min_samples_leaf=1, rfc__min_samples_split=10, rfc__n_estimators=200, score=0.782, total=   9.5s\n",
      "[CV] rfc__max_depth=50, rfc__min_samples_leaf=1, rfc__min_samples_split=10, rfc__n_estimators=200 \n",
      "[CV]  rfc__max_depth=50, rfc__min_samples_leaf=1, rfc__min_samples_split=10, rfc__n_estimators=200, score=0.784, total=   9.5s\n",
      "[CV] rfc__max_depth=50, rfc__min_samples_leaf=1, rfc__min_samples_split=10, rfc__n_estimators=200 \n",
      "[CV]  rfc__max_depth=50, rfc__min_samples_leaf=1, rfc__min_samples_split=10, rfc__n_estimators=200, score=0.786, total=   9.6s\n",
      "[CV] rfc__max_depth=50, rfc__min_samples_leaf=1, rfc__min_samples_split=10, rfc__n_estimators=200 \n",
      "[CV]  rfc__max_depth=50, rfc__min_samples_leaf=1, rfc__min_samples_split=10, rfc__n_estimators=200, score=0.778, total=   8.9s\n",
      "[CV] rfc__max_depth=50, rfc__min_samples_leaf=10, rfc__min_samples_split=5, rfc__n_estimators=200 \n",
      "[CV]  rfc__max_depth=50, rfc__min_samples_leaf=10, rfc__min_samples_split=5, rfc__n_estimators=200, score=0.771, total=   7.7s\n",
      "[CV] rfc__max_depth=50, rfc__min_samples_leaf=10, rfc__min_samples_split=5, rfc__n_estimators=200 \n",
      "[CV]  rfc__max_depth=50, rfc__min_samples_leaf=10, rfc__min_samples_split=5, rfc__n_estimators=200, score=0.760, total=   7.7s\n",
      "[CV] rfc__max_depth=50, rfc__min_samples_leaf=10, rfc__min_samples_split=5, rfc__n_estimators=200 \n",
      "[CV]  rfc__max_depth=50, rfc__min_samples_leaf=10, rfc__min_samples_split=5, rfc__n_estimators=200, score=0.761, total=   7.6s\n",
      "[CV] rfc__max_depth=50, rfc__min_samples_leaf=10, rfc__min_samples_split=5, rfc__n_estimators=200 \n",
      "[CV]  rfc__max_depth=50, rfc__min_samples_leaf=10, rfc__min_samples_split=5, rfc__n_estimators=200, score=0.767, total=   7.7s\n",
      "[CV] rfc__max_depth=50, rfc__min_samples_leaf=10, rfc__min_samples_split=5, rfc__n_estimators=200 \n",
      "[CV]  rfc__max_depth=50, rfc__min_samples_leaf=10, rfc__min_samples_split=5, rfc__n_estimators=200, score=0.757, total=   7.1s\n",
      "[CV] rfc__max_depth=50, rfc__min_samples_leaf=10, rfc__min_samples_split=10, rfc__n_estimators=200 \n",
      "[CV]  rfc__max_depth=50, rfc__min_samples_leaf=10, rfc__min_samples_split=10, rfc__n_estimators=200, score=0.771, total=   7.6s\n",
      "[CV] rfc__max_depth=50, rfc__min_samples_leaf=10, rfc__min_samples_split=10, rfc__n_estimators=200 \n",
      "[CV]  rfc__max_depth=50, rfc__min_samples_leaf=10, rfc__min_samples_split=10, rfc__n_estimators=200, score=0.760, total=   7.6s\n",
      "[CV] rfc__max_depth=50, rfc__min_samples_leaf=10, rfc__min_samples_split=10, rfc__n_estimators=200 \n",
      "[CV]  rfc__max_depth=50, rfc__min_samples_leaf=10, rfc__min_samples_split=10, rfc__n_estimators=200, score=0.761, total=   7.7s\n",
      "[CV] rfc__max_depth=50, rfc__min_samples_leaf=10, rfc__min_samples_split=10, rfc__n_estimators=200 \n"
     ]
    },
    {
     "name": "stdout",
     "output_type": "stream",
     "text": [
      "[CV]  rfc__max_depth=50, rfc__min_samples_leaf=10, rfc__min_samples_split=10, rfc__n_estimators=200, score=0.767, total=   7.7s\n",
      "[CV] rfc__max_depth=50, rfc__min_samples_leaf=10, rfc__min_samples_split=10, rfc__n_estimators=200 \n",
      "[CV]  rfc__max_depth=50, rfc__min_samples_leaf=10, rfc__min_samples_split=10, rfc__n_estimators=200, score=0.757, total=   7.1s\n"
     ]
    },
    {
     "name": "stderr",
     "output_type": "stream",
     "text": [
      "[Parallel(n_jobs=1)]: Done  40 out of  40 | elapsed:  5.9min finished\n"
     ]
    },
    {
     "data": {
      "text/plain": [
       "GridSearchCV(cv=5,\n",
       "             estimator=Pipeline(steps=[('ct',\n",
       "                                        ColumnTransformer(transformers=[('subpipe_num',\n",
       "                                                                         Pipeline(steps=[('ss',\n",
       "                                                                                          StandardScaler())]),\n",
       "                                                                         ['amount_tsh',\n",
       "                                                                          'gps_height',\n",
       "                                                                          'population']),\n",
       "                                                                        ('subpipe_cat',\n",
       "                                                                         Pipeline(steps=[('ohe',\n",
       "                                                                                          OneHotEncoder(handle_unknown='ignore',\n",
       "                                                                                                        sparse=False))]),\n",
       "                                                                         ['basin',\n",
       "                                                                          'region',\n",
       "                                                                          'district_code',\n",
       "                                                                          'lga',\n",
       "                                                                          'management',\n",
       "                                                                          'extraction_type_class',\n",
       "                                                                          'payment',\n",
       "                                                                          'quality_group',\n",
       "                                                                          'quantity',\n",
       "                                                                          'source_class',\n",
       "                                                                          'waterpoint_type']),\n",
       "                                                                        ('subpipe_bool',\n",
       "                                                                         Pipeline(steps=[('ord',\n",
       "                                                                                          OrdinalEncoder())]),\n",
       "                                                                         [])])),\n",
       "                                       ('rfc',\n",
       "                                        RandomForestClassifier(random_state=42))]),\n",
       "             param_grid={'rfc__max_depth': [None, 50],\n",
       "                         'rfc__min_samples_leaf': [1, 10],\n",
       "                         'rfc__min_samples_split': [5, 10],\n",
       "                         'rfc__n_estimators': [200]},\n",
       "             verbose=3)"
      ]
     },
     "execution_count": 123,
     "metadata": {},
     "output_type": "execute_result"
    }
   ],
   "source": [
    "gs.fit(X_train, y_train)"
   ]
  },
  {
   "cell_type": "code",
   "execution_count": 33,
   "metadata": {},
   "outputs": [
    {
     "ename": "NameError",
     "evalue": "name 'gs' is not defined",
     "output_type": "error",
     "traceback": [
      "\u001b[1;31m---------------------------------------------------------------------------\u001b[0m",
      "\u001b[1;31mNameError\u001b[0m                                 Traceback (most recent call last)",
      "\u001b[1;32m<ipython-input-33-e0bbbc8d643f>\u001b[0m in \u001b[0;36m<module>\u001b[1;34m\u001b[0m\n\u001b[1;32m----> 1\u001b[1;33m \u001b[0mgs\u001b[0m\u001b[1;33m.\u001b[0m\u001b[0mbest_score_\u001b[0m\u001b[1;33m\u001b[0m\u001b[1;33m\u001b[0m\u001b[0m\n\u001b[0m",
      "\u001b[1;31mNameError\u001b[0m: name 'gs' is not defined"
     ]
    }
   ],
   "source": [
    "gs.best_score_"
   ]
  },
  {
   "cell_type": "code",
   "execution_count": 34,
   "metadata": {},
   "outputs": [
    {
     "data": {
      "text/plain": [
       "functional                 23519\n",
       "non functional             16750\n",
       "functional needs repair     2922\n",
       "Name: status_group, dtype: int64"
      ]
     },
     "execution_count": 34,
     "metadata": {},
     "output_type": "execute_result"
    }
   ],
   "source": [
    "y_train.value_counts()"
   ]
  },
  {
   "cell_type": "code",
   "execution_count": 35,
   "metadata": {
    "scrolled": true
   },
   "outputs": [
    {
     "data": {
      "text/plain": [
       "functional                 31389\n",
       "non functional             22268\n",
       "functional needs repair     3931\n",
       "Name: status_group, dtype: int64"
      ]
     },
     "execution_count": 35,
     "metadata": {},
     "output_type": "execute_result"
    }
   ],
   "source": [
    "y.value_counts()"
   ]
  },
  {
   "cell_type": "code",
   "execution_count": 36,
   "metadata": {},
   "outputs": [],
   "source": [
    "y= y.str.replace('functional needs repair','functional')"
   ]
  },
  {
   "cell_type": "code",
   "execution_count": 37,
   "metadata": {},
   "outputs": [
    {
     "data": {
      "text/plain": [
       "functional        35320\n",
       "non functional    22268\n",
       "Name: status_group, dtype: int64"
      ]
     },
     "execution_count": 37,
     "metadata": {},
     "output_type": "execute_result"
    }
   ],
   "source": [
    "y.value_counts()"
   ]
  },
  {
   "cell_type": "code",
   "execution_count": 38,
   "metadata": {},
   "outputs": [],
   "source": [
    "X_train, X_test, y_train, y_test = train_test_split(X, y, random_state=42)"
   ]
  },
  {
   "cell_type": "code",
   "execution_count": 39,
   "metadata": {},
   "outputs": [
    {
     "data": {
      "text/plain": [
       "functional        26441\n",
       "non functional    16750\n",
       "Name: status_group, dtype: int64"
      ]
     },
     "execution_count": 39,
     "metadata": {},
     "output_type": "execute_result"
    }
   ],
   "source": [
    "y_train.value_counts()"
   ]
  },
  {
   "cell_type": "code",
   "execution_count": 136,
   "metadata": {},
   "outputs": [],
   "source": [
    "rfc = RandomForestClassifier(random_state=42)\n",
    "\n",
    "binary_model_pipe = Pipeline(steps = [('ct', CT),\n",
    "                            ('rfc', rfc )])"
   ]
  },
  {
   "cell_type": "code",
   "execution_count": 137,
   "metadata": {},
   "outputs": [
    {
     "data": {
      "text/plain": [
       "0.9518518518518518"
      ]
     },
     "execution_count": 137,
     "metadata": {},
     "output_type": "execute_result"
    }
   ],
   "source": [
    "binary_model_pipe.fit(X_train, y_train)\n",
    "binary_model_pipe.score(X_train, y_train)"
   ]
  },
  {
   "cell_type": "code",
   "execution_count": 138,
   "metadata": {},
   "outputs": [],
   "source": [
    "params = {'rfc__n_estimators':[200],\n",
    "          'rfc__max_depth':[None, 50],\n",
    "          'rfc__min_samples_leaf': [1, 10],\n",
    "          'rfc__min_samples_split': [5, 10]}\n",
    "gs = GridSearchCV(estimator = binary_model_pipe, param_grid = params, cv=5, verbose=3)"
   ]
  },
  {
   "cell_type": "code",
   "execution_count": 139,
   "metadata": {
    "scrolled": true
   },
   "outputs": [
    {
     "name": "stdout",
     "output_type": "stream",
     "text": [
      "Fitting 5 folds for each of 8 candidates, totalling 40 fits\n",
      "[CV] rfc__max_depth=None, rfc__min_samples_leaf=1, rfc__min_samples_split=5, rfc__n_estimators=200 \n"
     ]
    },
    {
     "name": "stderr",
     "output_type": "stream",
     "text": [
      "[Parallel(n_jobs=1)]: Using backend SequentialBackend with 1 concurrent workers.\n"
     ]
    },
    {
     "name": "stdout",
     "output_type": "stream",
     "text": [
      "[CV]  rfc__max_depth=None, rfc__min_samples_leaf=1, rfc__min_samples_split=5, rfc__n_estimators=200, score=0.839, total=  11.0s\n",
      "[CV] rfc__max_depth=None, rfc__min_samples_leaf=1, rfc__min_samples_split=5, rfc__n_estimators=200 \n"
     ]
    },
    {
     "name": "stderr",
     "output_type": "stream",
     "text": [
      "[Parallel(n_jobs=1)]: Done   1 out of   1 | elapsed:   10.9s remaining:    0.0s\n"
     ]
    },
    {
     "name": "stdout",
     "output_type": "stream",
     "text": [
      "[CV]  rfc__max_depth=None, rfc__min_samples_leaf=1, rfc__min_samples_split=5, rfc__n_estimators=200, score=0.839, total=  10.3s\n",
      "[CV] rfc__max_depth=None, rfc__min_samples_leaf=1, rfc__min_samples_split=5, rfc__n_estimators=200 \n"
     ]
    },
    {
     "name": "stderr",
     "output_type": "stream",
     "text": [
      "[Parallel(n_jobs=1)]: Done   2 out of   2 | elapsed:   21.2s remaining:    0.0s\n"
     ]
    },
    {
     "name": "stdout",
     "output_type": "stream",
     "text": [
      "[CV]  rfc__max_depth=None, rfc__min_samples_leaf=1, rfc__min_samples_split=5, rfc__n_estimators=200, score=0.833, total=  10.5s\n",
      "[CV] rfc__max_depth=None, rfc__min_samples_leaf=1, rfc__min_samples_split=5, rfc__n_estimators=200 \n",
      "[CV]  rfc__max_depth=None, rfc__min_samples_leaf=1, rfc__min_samples_split=5, rfc__n_estimators=200, score=0.840, total=  10.4s\n",
      "[CV] rfc__max_depth=None, rfc__min_samples_leaf=1, rfc__min_samples_split=5, rfc__n_estimators=200 \n",
      "[CV]  rfc__max_depth=None, rfc__min_samples_leaf=1, rfc__min_samples_split=5, rfc__n_estimators=200, score=0.837, total=  10.1s\n",
      "[CV] rfc__max_depth=None, rfc__min_samples_leaf=1, rfc__min_samples_split=10, rfc__n_estimators=200 \n",
      "[CV]  rfc__max_depth=None, rfc__min_samples_leaf=1, rfc__min_samples_split=10, rfc__n_estimators=200, score=0.846, total=  10.5s\n",
      "[CV] rfc__max_depth=None, rfc__min_samples_leaf=1, rfc__min_samples_split=10, rfc__n_estimators=200 \n",
      "[CV]  rfc__max_depth=None, rfc__min_samples_leaf=1, rfc__min_samples_split=10, rfc__n_estimators=200, score=0.840, total=  10.3s\n",
      "[CV] rfc__max_depth=None, rfc__min_samples_leaf=1, rfc__min_samples_split=10, rfc__n_estimators=200 \n",
      "[CV]  rfc__max_depth=None, rfc__min_samples_leaf=1, rfc__min_samples_split=10, rfc__n_estimators=200, score=0.837, total=  10.5s\n",
      "[CV] rfc__max_depth=None, rfc__min_samples_leaf=1, rfc__min_samples_split=10, rfc__n_estimators=200 \n",
      "[CV]  rfc__max_depth=None, rfc__min_samples_leaf=1, rfc__min_samples_split=10, rfc__n_estimators=200, score=0.843, total=  11.0s\n",
      "[CV] rfc__max_depth=None, rfc__min_samples_leaf=1, rfc__min_samples_split=10, rfc__n_estimators=200 \n",
      "[CV]  rfc__max_depth=None, rfc__min_samples_leaf=1, rfc__min_samples_split=10, rfc__n_estimators=200, score=0.835, total=   9.3s\n",
      "[CV] rfc__max_depth=None, rfc__min_samples_leaf=10, rfc__min_samples_split=5, rfc__n_estimators=200 \n",
      "[CV]  rfc__max_depth=None, rfc__min_samples_leaf=10, rfc__min_samples_split=5, rfc__n_estimators=200, score=0.826, total=   8.3s\n",
      "[CV] rfc__max_depth=None, rfc__min_samples_leaf=10, rfc__min_samples_split=5, rfc__n_estimators=200 \n",
      "[CV]  rfc__max_depth=None, rfc__min_samples_leaf=10, rfc__min_samples_split=5, rfc__n_estimators=200, score=0.820, total=   7.8s\n",
      "[CV] rfc__max_depth=None, rfc__min_samples_leaf=10, rfc__min_samples_split=5, rfc__n_estimators=200 \n",
      "[CV]  rfc__max_depth=None, rfc__min_samples_leaf=10, rfc__min_samples_split=5, rfc__n_estimators=200, score=0.815, total=   8.1s\n",
      "[CV] rfc__max_depth=None, rfc__min_samples_leaf=10, rfc__min_samples_split=5, rfc__n_estimators=200 \n",
      "[CV]  rfc__max_depth=None, rfc__min_samples_leaf=10, rfc__min_samples_split=5, rfc__n_estimators=200, score=0.821, total=   8.2s\n",
      "[CV] rfc__max_depth=None, rfc__min_samples_leaf=10, rfc__min_samples_split=5, rfc__n_estimators=200 \n",
      "[CV]  rfc__max_depth=None, rfc__min_samples_leaf=10, rfc__min_samples_split=5, rfc__n_estimators=200, score=0.813, total=   7.4s\n",
      "[CV] rfc__max_depth=None, rfc__min_samples_leaf=10, rfc__min_samples_split=10, rfc__n_estimators=200 \n",
      "[CV]  rfc__max_depth=None, rfc__min_samples_leaf=10, rfc__min_samples_split=10, rfc__n_estimators=200, score=0.826, total=   8.4s\n",
      "[CV] rfc__max_depth=None, rfc__min_samples_leaf=10, rfc__min_samples_split=10, rfc__n_estimators=200 \n",
      "[CV]  rfc__max_depth=None, rfc__min_samples_leaf=10, rfc__min_samples_split=10, rfc__n_estimators=200, score=0.820, total=   8.1s\n",
      "[CV] rfc__max_depth=None, rfc__min_samples_leaf=10, rfc__min_samples_split=10, rfc__n_estimators=200 \n",
      "[CV]  rfc__max_depth=None, rfc__min_samples_leaf=10, rfc__min_samples_split=10, rfc__n_estimators=200, score=0.815, total=   8.0s\n",
      "[CV] rfc__max_depth=None, rfc__min_samples_leaf=10, rfc__min_samples_split=10, rfc__n_estimators=200 \n",
      "[CV]  rfc__max_depth=None, rfc__min_samples_leaf=10, rfc__min_samples_split=10, rfc__n_estimators=200, score=0.821, total=   7.9s\n",
      "[CV] rfc__max_depth=None, rfc__min_samples_leaf=10, rfc__min_samples_split=10, rfc__n_estimators=200 \n",
      "[CV]  rfc__max_depth=None, rfc__min_samples_leaf=10, rfc__min_samples_split=10, rfc__n_estimators=200, score=0.813, total=   7.6s\n",
      "[CV] rfc__max_depth=50, rfc__min_samples_leaf=1, rfc__min_samples_split=5, rfc__n_estimators=200 \n",
      "[CV]  rfc__max_depth=50, rfc__min_samples_leaf=1, rfc__min_samples_split=5, rfc__n_estimators=200, score=0.842, total=  10.9s\n",
      "[CV] rfc__max_depth=50, rfc__min_samples_leaf=1, rfc__min_samples_split=5, rfc__n_estimators=200 \n",
      "[CV]  rfc__max_depth=50, rfc__min_samples_leaf=1, rfc__min_samples_split=5, rfc__n_estimators=200, score=0.841, total=  10.7s\n",
      "[CV] rfc__max_depth=50, rfc__min_samples_leaf=1, rfc__min_samples_split=5, rfc__n_estimators=200 \n",
      "[CV]  rfc__max_depth=50, rfc__min_samples_leaf=1, rfc__min_samples_split=5, rfc__n_estimators=200, score=0.835, total=  10.9s\n",
      "[CV] rfc__max_depth=50, rfc__min_samples_leaf=1, rfc__min_samples_split=5, rfc__n_estimators=200 \n",
      "[CV]  rfc__max_depth=50, rfc__min_samples_leaf=1, rfc__min_samples_split=5, rfc__n_estimators=200, score=0.839, total=  10.1s\n",
      "[CV] rfc__max_depth=50, rfc__min_samples_leaf=1, rfc__min_samples_split=5, rfc__n_estimators=200 \n",
      "[CV]  rfc__max_depth=50, rfc__min_samples_leaf=1, rfc__min_samples_split=5, rfc__n_estimators=200, score=0.836, total=   9.8s\n",
      "[CV] rfc__max_depth=50, rfc__min_samples_leaf=1, rfc__min_samples_split=10, rfc__n_estimators=200 \n",
      "[CV]  rfc__max_depth=50, rfc__min_samples_leaf=1, rfc__min_samples_split=10, rfc__n_estimators=200, score=0.846, total=  11.5s\n",
      "[CV] rfc__max_depth=50, rfc__min_samples_leaf=1, rfc__min_samples_split=10, rfc__n_estimators=200 \n",
      "[CV]  rfc__max_depth=50, rfc__min_samples_leaf=1, rfc__min_samples_split=10, rfc__n_estimators=200, score=0.842, total=  10.1s\n",
      "[CV] rfc__max_depth=50, rfc__min_samples_leaf=1, rfc__min_samples_split=10, rfc__n_estimators=200 \n",
      "[CV]  rfc__max_depth=50, rfc__min_samples_leaf=1, rfc__min_samples_split=10, rfc__n_estimators=200, score=0.839, total=   9.7s\n",
      "[CV] rfc__max_depth=50, rfc__min_samples_leaf=1, rfc__min_samples_split=10, rfc__n_estimators=200 \n",
      "[CV]  rfc__max_depth=50, rfc__min_samples_leaf=1, rfc__min_samples_split=10, rfc__n_estimators=200, score=0.844, total=  10.1s\n",
      "[CV] rfc__max_depth=50, rfc__min_samples_leaf=1, rfc__min_samples_split=10, rfc__n_estimators=200 \n",
      "[CV]  rfc__max_depth=50, rfc__min_samples_leaf=1, rfc__min_samples_split=10, rfc__n_estimators=200, score=0.836, total=   9.9s\n",
      "[CV] rfc__max_depth=50, rfc__min_samples_leaf=10, rfc__min_samples_split=5, rfc__n_estimators=200 \n",
      "[CV]  rfc__max_depth=50, rfc__min_samples_leaf=10, rfc__min_samples_split=5, rfc__n_estimators=200, score=0.827, total=   8.4s\n",
      "[CV] rfc__max_depth=50, rfc__min_samples_leaf=10, rfc__min_samples_split=5, rfc__n_estimators=200 \n",
      "[CV]  rfc__max_depth=50, rfc__min_samples_leaf=10, rfc__min_samples_split=5, rfc__n_estimators=200, score=0.820, total=   8.4s\n",
      "[CV] rfc__max_depth=50, rfc__min_samples_leaf=10, rfc__min_samples_split=5, rfc__n_estimators=200 \n",
      "[CV]  rfc__max_depth=50, rfc__min_samples_leaf=10, rfc__min_samples_split=5, rfc__n_estimators=200, score=0.815, total=   8.9s\n",
      "[CV] rfc__max_depth=50, rfc__min_samples_leaf=10, rfc__min_samples_split=5, rfc__n_estimators=200 \n",
      "[CV]  rfc__max_depth=50, rfc__min_samples_leaf=10, rfc__min_samples_split=5, rfc__n_estimators=200, score=0.822, total=   9.2s\n",
      "[CV] rfc__max_depth=50, rfc__min_samples_leaf=10, rfc__min_samples_split=5, rfc__n_estimators=200 \n",
      "[CV]  rfc__max_depth=50, rfc__min_samples_leaf=10, rfc__min_samples_split=5, rfc__n_estimators=200, score=0.813, total=   8.4s\n",
      "[CV] rfc__max_depth=50, rfc__min_samples_leaf=10, rfc__min_samples_split=10, rfc__n_estimators=200 \n",
      "[CV]  rfc__max_depth=50, rfc__min_samples_leaf=10, rfc__min_samples_split=10, rfc__n_estimators=200, score=0.827, total=   9.1s\n",
      "[CV] rfc__max_depth=50, rfc__min_samples_leaf=10, rfc__min_samples_split=10, rfc__n_estimators=200 \n",
      "[CV]  rfc__max_depth=50, rfc__min_samples_leaf=10, rfc__min_samples_split=10, rfc__n_estimators=200, score=0.820, total=   8.7s\n",
      "[CV] rfc__max_depth=50, rfc__min_samples_leaf=10, rfc__min_samples_split=10, rfc__n_estimators=200 \n",
      "[CV]  rfc__max_depth=50, rfc__min_samples_leaf=10, rfc__min_samples_split=10, rfc__n_estimators=200, score=0.815, total=   8.2s\n",
      "[CV] rfc__max_depth=50, rfc__min_samples_leaf=10, rfc__min_samples_split=10, rfc__n_estimators=200 \n"
     ]
    },
    {
     "name": "stdout",
     "output_type": "stream",
     "text": [
      "[CV]  rfc__max_depth=50, rfc__min_samples_leaf=10, rfc__min_samples_split=10, rfc__n_estimators=200, score=0.822, total=   8.3s\n",
      "[CV] rfc__max_depth=50, rfc__min_samples_leaf=10, rfc__min_samples_split=10, rfc__n_estimators=200 \n",
      "[CV]  rfc__max_depth=50, rfc__min_samples_leaf=10, rfc__min_samples_split=10, rfc__n_estimators=200, score=0.813, total=   8.5s\n"
     ]
    },
    {
     "name": "stderr",
     "output_type": "stream",
     "text": [
      "[Parallel(n_jobs=1)]: Done  40 out of  40 | elapsed:  6.2min finished\n"
     ]
    },
    {
     "data": {
      "text/plain": [
       "GridSearchCV(cv=5,\n",
       "             estimator=Pipeline(steps=[('ct',\n",
       "                                        ColumnTransformer(transformers=[('subpipe_num',\n",
       "                                                                         Pipeline(steps=[('ss',\n",
       "                                                                                          StandardScaler())]),\n",
       "                                                                         ['amount_tsh',\n",
       "                                                                          'gps_height',\n",
       "                                                                          'population']),\n",
       "                                                                        ('subpipe_cat',\n",
       "                                                                         Pipeline(steps=[('ohe',\n",
       "                                                                                          OneHotEncoder(handle_unknown='ignore',\n",
       "                                                                                                        sparse=False))]),\n",
       "                                                                         ['basin',\n",
       "                                                                          'region',\n",
       "                                                                          'district_code',\n",
       "                                                                          'lga',\n",
       "                                                                          'management',\n",
       "                                                                          'extraction_type_class',\n",
       "                                                                          'payment',\n",
       "                                                                          'quality_group',\n",
       "                                                                          'quantity',\n",
       "                                                                          'source_class',\n",
       "                                                                          'waterpoint_type']),\n",
       "                                                                        ('subpipe_bool',\n",
       "                                                                         Pipeline(steps=[('ord',\n",
       "                                                                                          OrdinalEncoder())]),\n",
       "                                                                         [])])),\n",
       "                                       ('rfc',\n",
       "                                        RandomForestClassifier(random_state=42))]),\n",
       "             param_grid={'rfc__max_depth': [None, 50],\n",
       "                         'rfc__min_samples_leaf': [1, 10],\n",
       "                         'rfc__min_samples_split': [5, 10],\n",
       "                         'rfc__n_estimators': [200]},\n",
       "             verbose=3)"
      ]
     },
     "execution_count": 139,
     "metadata": {},
     "output_type": "execute_result"
    }
   ],
   "source": [
    "gs.fit(X_train, y_train)"
   ]
  },
  {
   "cell_type": "code",
   "execution_count": 140,
   "metadata": {},
   "outputs": [
    {
     "data": {
      "text/plain": [
       "0.8413916947250281"
      ]
     },
     "execution_count": 140,
     "metadata": {},
     "output_type": "execute_result"
    }
   ],
   "source": [
    "gs.best_score_"
   ]
  },
  {
   "cell_type": "markdown",
   "metadata": {},
   "source": [
    "### Binary Target using First Model Features"
   ]
  },
  {
   "cell_type": "code",
   "execution_count": 40,
   "metadata": {},
   "outputs": [],
   "source": [
    "picked_features = ['amount_tsh', 'installer',  'gps_height', 'basin', 'region', 'district_code', 'lga', 'population', \n",
    "                   'public_meeting', 'management', 'permit', 'extraction_type', 'payment', 'water_quality', 'quantity', \n",
    "                   'source', 'waterpoint_type']"
   ]
  },
  {
   "cell_type": "code",
   "execution_count": 41,
   "metadata": {},
   "outputs": [
    {
     "data": {
      "text/plain": [
       "(['amount_tsh', 'gps_height', 'population'],\n",
       " ['installer',\n",
       "  'basin',\n",
       "  'region',\n",
       "  'district_code',\n",
       "  'lga',\n",
       "  'management',\n",
       "  'extraction_type',\n",
       "  'payment',\n",
       "  'water_quality',\n",
       "  'quantity',\n",
       "  'source',\n",
       "  'waterpoint_type'],\n",
       " ['public_meeting', 'permit'])"
      ]
     },
     "execution_count": 41,
     "metadata": {},
     "output_type": "execute_result"
    }
   ],
   "source": [
    "features_type = GrabTypes(picked_features, df_binary)\n",
    "features_type"
   ]
  },
  {
   "cell_type": "code",
   "execution_count": 42,
   "metadata": {},
   "outputs": [],
   "source": [
    "CT = ColumnTransformer(transformers=[('subpipe_num', subpipe_num, features_type[0]),\n",
    "                                     ('subpipe_cat', subpipe_cat, features_type[1]),\n",
    "                                     ('subpipe_bool', subpipe_bool, features_type[2])],\n",
    "                       remainder='drop')"
   ]
  },
  {
   "cell_type": "code",
   "execution_count": 40,
   "metadata": {},
   "outputs": [],
   "source": [
    "rfc = RandomForestClassifier(random_state=42)\n",
    "\n",
    "binary_pipe_1 = Pipeline(steps = [('ct', CT),\n",
    "                                  ('rfc', rfc )])"
   ]
  },
  {
   "cell_type": "code",
   "execution_count": 38,
   "metadata": {},
   "outputs": [
    {
     "data": {
      "text/plain": [
       "0.9646917181820287"
      ]
     },
     "execution_count": 38,
     "metadata": {},
     "output_type": "execute_result"
    }
   ],
   "source": [
    "binary_pipe_1.fit(X_train, y_train)\n",
    "binary_pipe_1.score(X_train, y_train)"
   ]
  },
  {
   "cell_type": "code",
   "execution_count": 41,
   "metadata": {},
   "outputs": [],
   "source": [
    "params = {'rfc__n_estimators':[200],\n",
    "          'rfc__max_depth':[None, 20],\n",
    "          'rfc__min_samples_leaf': [1, 10],\n",
    "          'rfc__min_samples_split': [5, 10],\n",
    "          'rfc__max_leaf_nodes': [None, 25]}\n",
    "gs = GridSearchCV(estimator = binary_pipe_1, param_grid = params, cv=5, verbose=3)"
   ]
  },
  {
   "cell_type": "code",
   "execution_count": 42,
   "metadata": {
    "scrolled": true
   },
   "outputs": [
    {
     "name": "stdout",
     "output_type": "stream",
     "text": [
      "Fitting 5 folds for each of 16 candidates, totalling 80 fits\n",
      "[CV] rfc__max_depth=None, rfc__max_leaf_nodes=None, rfc__min_samples_leaf=1, rfc__min_samples_split=5, rfc__n_estimators=200 \n"
     ]
    },
    {
     "name": "stderr",
     "output_type": "stream",
     "text": [
      "[Parallel(n_jobs=1)]: Using backend SequentialBackend with 1 concurrent workers.\n"
     ]
    },
    {
     "name": "stdout",
     "output_type": "stream",
     "text": [
      "[CV]  rfc__max_depth=None, rfc__max_leaf_nodes=None, rfc__min_samples_leaf=1, rfc__min_samples_split=5, rfc__n_estimators=200, score=0.840, total= 1.6min\n",
      "[CV] rfc__max_depth=None, rfc__max_leaf_nodes=None, rfc__min_samples_leaf=1, rfc__min_samples_split=5, rfc__n_estimators=200 \n"
     ]
    },
    {
     "name": "stderr",
     "output_type": "stream",
     "text": [
      "[Parallel(n_jobs=1)]: Done   1 out of   1 | elapsed:  1.6min remaining:    0.0s\n"
     ]
    },
    {
     "name": "stdout",
     "output_type": "stream",
     "text": [
      "[CV]  rfc__max_depth=None, rfc__max_leaf_nodes=None, rfc__min_samples_leaf=1, rfc__min_samples_split=5, rfc__n_estimators=200, score=0.842, total=  48.1s\n",
      "[CV] rfc__max_depth=None, rfc__max_leaf_nodes=None, rfc__min_samples_leaf=1, rfc__min_samples_split=5, rfc__n_estimators=200 \n"
     ]
    },
    {
     "name": "stderr",
     "output_type": "stream",
     "text": [
      "[Parallel(n_jobs=1)]: Done   2 out of   2 | elapsed:  2.4min remaining:    0.0s\n"
     ]
    },
    {
     "name": "stdout",
     "output_type": "stream",
     "text": [
      "[CV]  rfc__max_depth=None, rfc__max_leaf_nodes=None, rfc__min_samples_leaf=1, rfc__min_samples_split=5, rfc__n_estimators=200, score=0.841, total=  48.2s\n",
      "[CV] rfc__max_depth=None, rfc__max_leaf_nodes=None, rfc__min_samples_leaf=1, rfc__min_samples_split=5, rfc__n_estimators=200 \n",
      "[CV]  rfc__max_depth=None, rfc__max_leaf_nodes=None, rfc__min_samples_leaf=1, rfc__min_samples_split=5, rfc__n_estimators=200, score=0.850, total=  49.0s\n",
      "[CV] rfc__max_depth=None, rfc__max_leaf_nodes=None, rfc__min_samples_leaf=1, rfc__min_samples_split=5, rfc__n_estimators=200 \n",
      "[CV]  rfc__max_depth=None, rfc__max_leaf_nodes=None, rfc__min_samples_leaf=1, rfc__min_samples_split=5, rfc__n_estimators=200, score=0.844, total=  50.1s\n",
      "[CV] rfc__max_depth=None, rfc__max_leaf_nodes=None, rfc__min_samples_leaf=1, rfc__min_samples_split=10, rfc__n_estimators=200 \n",
      "[CV]  rfc__max_depth=None, rfc__max_leaf_nodes=None, rfc__min_samples_leaf=1, rfc__min_samples_split=10, rfc__n_estimators=200, score=0.843, total=  47.3s\n",
      "[CV] rfc__max_depth=None, rfc__max_leaf_nodes=None, rfc__min_samples_leaf=1, rfc__min_samples_split=10, rfc__n_estimators=200 \n",
      "[CV]  rfc__max_depth=None, rfc__max_leaf_nodes=None, rfc__min_samples_leaf=1, rfc__min_samples_split=10, rfc__n_estimators=200, score=0.842, total=  46.0s\n",
      "[CV] rfc__max_depth=None, rfc__max_leaf_nodes=None, rfc__min_samples_leaf=1, rfc__min_samples_split=10, rfc__n_estimators=200 \n",
      "[CV]  rfc__max_depth=None, rfc__max_leaf_nodes=None, rfc__min_samples_leaf=1, rfc__min_samples_split=10, rfc__n_estimators=200, score=0.841, total=  45.3s\n",
      "[CV] rfc__max_depth=None, rfc__max_leaf_nodes=None, rfc__min_samples_leaf=1, rfc__min_samples_split=10, rfc__n_estimators=200 \n",
      "[CV]  rfc__max_depth=None, rfc__max_leaf_nodes=None, rfc__min_samples_leaf=1, rfc__min_samples_split=10, rfc__n_estimators=200, score=0.850, total=  45.4s\n",
      "[CV] rfc__max_depth=None, rfc__max_leaf_nodes=None, rfc__min_samples_leaf=1, rfc__min_samples_split=10, rfc__n_estimators=200 \n",
      "[CV]  rfc__max_depth=None, rfc__max_leaf_nodes=None, rfc__min_samples_leaf=1, rfc__min_samples_split=10, rfc__n_estimators=200, score=0.846, total=  47.8s\n",
      "[CV] rfc__max_depth=None, rfc__max_leaf_nodes=None, rfc__min_samples_leaf=10, rfc__min_samples_split=5, rfc__n_estimators=200 \n",
      "[CV]  rfc__max_depth=None, rfc__max_leaf_nodes=None, rfc__min_samples_leaf=10, rfc__min_samples_split=5, rfc__n_estimators=200, score=0.800, total=  32.4s\n",
      "[CV] rfc__max_depth=None, rfc__max_leaf_nodes=None, rfc__min_samples_leaf=10, rfc__min_samples_split=5, rfc__n_estimators=200 \n",
      "[CV]  rfc__max_depth=None, rfc__max_leaf_nodes=None, rfc__min_samples_leaf=10, rfc__min_samples_split=5, rfc__n_estimators=200, score=0.804, total=  32.3s\n",
      "[CV] rfc__max_depth=None, rfc__max_leaf_nodes=None, rfc__min_samples_leaf=10, rfc__min_samples_split=5, rfc__n_estimators=200 \n",
      "[CV]  rfc__max_depth=None, rfc__max_leaf_nodes=None, rfc__min_samples_leaf=10, rfc__min_samples_split=5, rfc__n_estimators=200, score=0.795, total=  32.2s\n",
      "[CV] rfc__max_depth=None, rfc__max_leaf_nodes=None, rfc__min_samples_leaf=10, rfc__min_samples_split=5, rfc__n_estimators=200 \n",
      "[CV]  rfc__max_depth=None, rfc__max_leaf_nodes=None, rfc__min_samples_leaf=10, rfc__min_samples_split=5, rfc__n_estimators=200, score=0.803, total=  31.3s\n",
      "[CV] rfc__max_depth=None, rfc__max_leaf_nodes=None, rfc__min_samples_leaf=10, rfc__min_samples_split=5, rfc__n_estimators=200 \n",
      "[CV]  rfc__max_depth=None, rfc__max_leaf_nodes=None, rfc__min_samples_leaf=10, rfc__min_samples_split=5, rfc__n_estimators=200, score=0.802, total=  32.2s\n",
      "[CV] rfc__max_depth=None, rfc__max_leaf_nodes=None, rfc__min_samples_leaf=10, rfc__min_samples_split=10, rfc__n_estimators=200 \n",
      "[CV]  rfc__max_depth=None, rfc__max_leaf_nodes=None, rfc__min_samples_leaf=10, rfc__min_samples_split=10, rfc__n_estimators=200, score=0.800, total=  32.3s\n",
      "[CV] rfc__max_depth=None, rfc__max_leaf_nodes=None, rfc__min_samples_leaf=10, rfc__min_samples_split=10, rfc__n_estimators=200 \n",
      "[CV]  rfc__max_depth=None, rfc__max_leaf_nodes=None, rfc__min_samples_leaf=10, rfc__min_samples_split=10, rfc__n_estimators=200, score=0.804, total=  32.2s\n",
      "[CV] rfc__max_depth=None, rfc__max_leaf_nodes=None, rfc__min_samples_leaf=10, rfc__min_samples_split=10, rfc__n_estimators=200 \n",
      "[CV]  rfc__max_depth=None, rfc__max_leaf_nodes=None, rfc__min_samples_leaf=10, rfc__min_samples_split=10, rfc__n_estimators=200, score=0.795, total=  32.4s\n",
      "[CV] rfc__max_depth=None, rfc__max_leaf_nodes=None, rfc__min_samples_leaf=10, rfc__min_samples_split=10, rfc__n_estimators=200 \n",
      "[CV]  rfc__max_depth=None, rfc__max_leaf_nodes=None, rfc__min_samples_leaf=10, rfc__min_samples_split=10, rfc__n_estimators=200, score=0.803, total=  32.5s\n",
      "[CV] rfc__max_depth=None, rfc__max_leaf_nodes=None, rfc__min_samples_leaf=10, rfc__min_samples_split=10, rfc__n_estimators=200 \n",
      "[CV]  rfc__max_depth=None, rfc__max_leaf_nodes=None, rfc__min_samples_leaf=10, rfc__min_samples_split=10, rfc__n_estimators=200, score=0.802, total=  32.7s\n",
      "[CV] rfc__max_depth=None, rfc__max_leaf_nodes=25, rfc__min_samples_leaf=1, rfc__min_samples_split=5, rfc__n_estimators=200 \n",
      "[CV]  rfc__max_depth=None, rfc__max_leaf_nodes=25, rfc__min_samples_leaf=1, rfc__min_samples_split=5, rfc__n_estimators=200, score=0.755, total=  22.1s\n",
      "[CV] rfc__max_depth=None, rfc__max_leaf_nodes=25, rfc__min_samples_leaf=1, rfc__min_samples_split=5, rfc__n_estimators=200 \n",
      "[CV]  rfc__max_depth=None, rfc__max_leaf_nodes=25, rfc__min_samples_leaf=1, rfc__min_samples_split=5, rfc__n_estimators=200, score=0.752, total=  21.9s\n",
      "[CV] rfc__max_depth=None, rfc__max_leaf_nodes=25, rfc__min_samples_leaf=1, rfc__min_samples_split=5, rfc__n_estimators=200 \n",
      "[CV]  rfc__max_depth=None, rfc__max_leaf_nodes=25, rfc__min_samples_leaf=1, rfc__min_samples_split=5, rfc__n_estimators=200, score=0.756, total=  21.1s\n",
      "[CV] rfc__max_depth=None, rfc__max_leaf_nodes=25, rfc__min_samples_leaf=1, rfc__min_samples_split=5, rfc__n_estimators=200 \n",
      "[CV]  rfc__max_depth=None, rfc__max_leaf_nodes=25, rfc__min_samples_leaf=1, rfc__min_samples_split=5, rfc__n_estimators=200, score=0.763, total=  21.1s\n",
      "[CV] rfc__max_depth=None, rfc__max_leaf_nodes=25, rfc__min_samples_leaf=1, rfc__min_samples_split=5, rfc__n_estimators=200 \n",
      "[CV]  rfc__max_depth=None, rfc__max_leaf_nodes=25, rfc__min_samples_leaf=1, rfc__min_samples_split=5, rfc__n_estimators=200, score=0.761, total=  20.7s\n",
      "[CV] rfc__max_depth=None, rfc__max_leaf_nodes=25, rfc__min_samples_leaf=1, rfc__min_samples_split=10, rfc__n_estimators=200 \n",
      "[CV]  rfc__max_depth=None, rfc__max_leaf_nodes=25, rfc__min_samples_leaf=1, rfc__min_samples_split=10, rfc__n_estimators=200, score=0.757, total=  22.1s\n",
      "[CV] rfc__max_depth=None, rfc__max_leaf_nodes=25, rfc__min_samples_leaf=1, rfc__min_samples_split=10, rfc__n_estimators=200 \n",
      "[CV]  rfc__max_depth=None, rfc__max_leaf_nodes=25, rfc__min_samples_leaf=1, rfc__min_samples_split=10, rfc__n_estimators=200, score=0.753, total=  21.7s\n",
      "[CV] rfc__max_depth=None, rfc__max_leaf_nodes=25, rfc__min_samples_leaf=1, rfc__min_samples_split=10, rfc__n_estimators=200 \n",
      "[CV]  rfc__max_depth=None, rfc__max_leaf_nodes=25, rfc__min_samples_leaf=1, rfc__min_samples_split=10, rfc__n_estimators=200, score=0.756, total=  20.6s\n",
      "[CV] rfc__max_depth=None, rfc__max_leaf_nodes=25, rfc__min_samples_leaf=1, rfc__min_samples_split=10, rfc__n_estimators=200 \n",
      "[CV]  rfc__max_depth=None, rfc__max_leaf_nodes=25, rfc__min_samples_leaf=1, rfc__min_samples_split=10, rfc__n_estimators=200, score=0.762, total=  20.6s\n",
      "[CV] rfc__max_depth=None, rfc__max_leaf_nodes=25, rfc__min_samples_leaf=1, rfc__min_samples_split=10, rfc__n_estimators=200 \n",
      "[CV]  rfc__max_depth=None, rfc__max_leaf_nodes=25, rfc__min_samples_leaf=1, rfc__min_samples_split=10, rfc__n_estimators=200, score=0.761, total=  22.5s\n",
      "[CV] rfc__max_depth=None, rfc__max_leaf_nodes=25, rfc__min_samples_leaf=10, rfc__min_samples_split=5, rfc__n_estimators=200 \n",
      "[CV]  rfc__max_depth=None, rfc__max_leaf_nodes=25, rfc__min_samples_leaf=10, rfc__min_samples_split=5, rfc__n_estimators=200, score=0.756, total=  21.0s\n",
      "[CV] rfc__max_depth=None, rfc__max_leaf_nodes=25, rfc__min_samples_leaf=10, rfc__min_samples_split=5, rfc__n_estimators=200 \n",
      "[CV]  rfc__max_depth=None, rfc__max_leaf_nodes=25, rfc__min_samples_leaf=10, rfc__min_samples_split=5, rfc__n_estimators=200, score=0.752, total=  20.9s\n",
      "[CV] rfc__max_depth=None, rfc__max_leaf_nodes=25, rfc__min_samples_leaf=10, rfc__min_samples_split=5, rfc__n_estimators=200 \n"
     ]
    },
    {
     "name": "stdout",
     "output_type": "stream",
     "text": [
      "[CV]  rfc__max_depth=None, rfc__max_leaf_nodes=25, rfc__min_samples_leaf=10, rfc__min_samples_split=5, rfc__n_estimators=200, score=0.753, total=  20.2s\n",
      "[CV] rfc__max_depth=None, rfc__max_leaf_nodes=25, rfc__min_samples_leaf=10, rfc__min_samples_split=5, rfc__n_estimators=200 \n",
      "[CV]  rfc__max_depth=None, rfc__max_leaf_nodes=25, rfc__min_samples_leaf=10, rfc__min_samples_split=5, rfc__n_estimators=200, score=0.762, total=  20.3s\n",
      "[CV] rfc__max_depth=None, rfc__max_leaf_nodes=25, rfc__min_samples_leaf=10, rfc__min_samples_split=5, rfc__n_estimators=200 \n",
      "[CV]  rfc__max_depth=None, rfc__max_leaf_nodes=25, rfc__min_samples_leaf=10, rfc__min_samples_split=5, rfc__n_estimators=200, score=0.761, total=  20.3s\n",
      "[CV] rfc__max_depth=None, rfc__max_leaf_nodes=25, rfc__min_samples_leaf=10, rfc__min_samples_split=10, rfc__n_estimators=200 \n",
      "[CV]  rfc__max_depth=None, rfc__max_leaf_nodes=25, rfc__min_samples_leaf=10, rfc__min_samples_split=10, rfc__n_estimators=200, score=0.756, total=  20.8s\n",
      "[CV] rfc__max_depth=None, rfc__max_leaf_nodes=25, rfc__min_samples_leaf=10, rfc__min_samples_split=10, rfc__n_estimators=200 \n",
      "[CV]  rfc__max_depth=None, rfc__max_leaf_nodes=25, rfc__min_samples_leaf=10, rfc__min_samples_split=10, rfc__n_estimators=200, score=0.752, total=  20.5s\n",
      "[CV] rfc__max_depth=None, rfc__max_leaf_nodes=25, rfc__min_samples_leaf=10, rfc__min_samples_split=10, rfc__n_estimators=200 \n",
      "[CV]  rfc__max_depth=None, rfc__max_leaf_nodes=25, rfc__min_samples_leaf=10, rfc__min_samples_split=10, rfc__n_estimators=200, score=0.753, total=  22.3s\n",
      "[CV] rfc__max_depth=None, rfc__max_leaf_nodes=25, rfc__min_samples_leaf=10, rfc__min_samples_split=10, rfc__n_estimators=200 \n",
      "[CV]  rfc__max_depth=None, rfc__max_leaf_nodes=25, rfc__min_samples_leaf=10, rfc__min_samples_split=10, rfc__n_estimators=200, score=0.762, total=  23.7s\n",
      "[CV] rfc__max_depth=None, rfc__max_leaf_nodes=25, rfc__min_samples_leaf=10, rfc__min_samples_split=10, rfc__n_estimators=200 \n",
      "[CV]  rfc__max_depth=None, rfc__max_leaf_nodes=25, rfc__min_samples_leaf=10, rfc__min_samples_split=10, rfc__n_estimators=200, score=0.761, total=  23.5s\n",
      "[CV] rfc__max_depth=20, rfc__max_leaf_nodes=None, rfc__min_samples_leaf=1, rfc__min_samples_split=5, rfc__n_estimators=200 \n",
      "[CV]  rfc__max_depth=20, rfc__max_leaf_nodes=None, rfc__min_samples_leaf=1, rfc__min_samples_split=5, rfc__n_estimators=200, score=0.822, total=  43.9s\n",
      "[CV] rfc__max_depth=20, rfc__max_leaf_nodes=None, rfc__min_samples_leaf=1, rfc__min_samples_split=5, rfc__n_estimators=200 \n",
      "[CV]  rfc__max_depth=20, rfc__max_leaf_nodes=None, rfc__min_samples_leaf=1, rfc__min_samples_split=5, rfc__n_estimators=200, score=0.826, total=  44.6s\n",
      "[CV] rfc__max_depth=20, rfc__max_leaf_nodes=None, rfc__min_samples_leaf=1, rfc__min_samples_split=5, rfc__n_estimators=200 \n",
      "[CV]  rfc__max_depth=20, rfc__max_leaf_nodes=None, rfc__min_samples_leaf=1, rfc__min_samples_split=5, rfc__n_estimators=200, score=0.817, total=  42.5s\n",
      "[CV] rfc__max_depth=20, rfc__max_leaf_nodes=None, rfc__min_samples_leaf=1, rfc__min_samples_split=5, rfc__n_estimators=200 \n",
      "[CV]  rfc__max_depth=20, rfc__max_leaf_nodes=None, rfc__min_samples_leaf=1, rfc__min_samples_split=5, rfc__n_estimators=200, score=0.826, total=  39.6s\n",
      "[CV] rfc__max_depth=20, rfc__max_leaf_nodes=None, rfc__min_samples_leaf=1, rfc__min_samples_split=5, rfc__n_estimators=200 \n",
      "[CV]  rfc__max_depth=20, rfc__max_leaf_nodes=None, rfc__min_samples_leaf=1, rfc__min_samples_split=5, rfc__n_estimators=200, score=0.822, total=  36.6s\n",
      "[CV] rfc__max_depth=20, rfc__max_leaf_nodes=None, rfc__min_samples_leaf=1, rfc__min_samples_split=10, rfc__n_estimators=200 \n",
      "[CV]  rfc__max_depth=20, rfc__max_leaf_nodes=None, rfc__min_samples_leaf=1, rfc__min_samples_split=10, rfc__n_estimators=200, score=0.821, total=  36.9s\n",
      "[CV] rfc__max_depth=20, rfc__max_leaf_nodes=None, rfc__min_samples_leaf=1, rfc__min_samples_split=10, rfc__n_estimators=200 \n",
      "[CV]  rfc__max_depth=20, rfc__max_leaf_nodes=None, rfc__min_samples_leaf=1, rfc__min_samples_split=10, rfc__n_estimators=200, score=0.823, total=  35.9s\n",
      "[CV] rfc__max_depth=20, rfc__max_leaf_nodes=None, rfc__min_samples_leaf=1, rfc__min_samples_split=10, rfc__n_estimators=200 \n",
      "[CV]  rfc__max_depth=20, rfc__max_leaf_nodes=None, rfc__min_samples_leaf=1, rfc__min_samples_split=10, rfc__n_estimators=200, score=0.814, total=  39.7s\n",
      "[CV] rfc__max_depth=20, rfc__max_leaf_nodes=None, rfc__min_samples_leaf=1, rfc__min_samples_split=10, rfc__n_estimators=200 \n",
      "[CV]  rfc__max_depth=20, rfc__max_leaf_nodes=None, rfc__min_samples_leaf=1, rfc__min_samples_split=10, rfc__n_estimators=200, score=0.824, total=  38.0s\n",
      "[CV] rfc__max_depth=20, rfc__max_leaf_nodes=None, rfc__min_samples_leaf=1, rfc__min_samples_split=10, rfc__n_estimators=200 \n",
      "[CV]  rfc__max_depth=20, rfc__max_leaf_nodes=None, rfc__min_samples_leaf=1, rfc__min_samples_split=10, rfc__n_estimators=200, score=0.820, total=  36.2s\n",
      "[CV] rfc__max_depth=20, rfc__max_leaf_nodes=None, rfc__min_samples_leaf=10, rfc__min_samples_split=5, rfc__n_estimators=200 \n",
      "[CV]  rfc__max_depth=20, rfc__max_leaf_nodes=None, rfc__min_samples_leaf=10, rfc__min_samples_split=5, rfc__n_estimators=200, score=0.790, total=  31.8s\n",
      "[CV] rfc__max_depth=20, rfc__max_leaf_nodes=None, rfc__min_samples_leaf=10, rfc__min_samples_split=5, rfc__n_estimators=200 \n",
      "[CV]  rfc__max_depth=20, rfc__max_leaf_nodes=None, rfc__min_samples_leaf=10, rfc__min_samples_split=5, rfc__n_estimators=200, score=0.792, total=  31.0s\n",
      "[CV] rfc__max_depth=20, rfc__max_leaf_nodes=None, rfc__min_samples_leaf=10, rfc__min_samples_split=5, rfc__n_estimators=200 \n",
      "[CV]  rfc__max_depth=20, rfc__max_leaf_nodes=None, rfc__min_samples_leaf=10, rfc__min_samples_split=5, rfc__n_estimators=200, score=0.786, total=  31.0s\n",
      "[CV] rfc__max_depth=20, rfc__max_leaf_nodes=None, rfc__min_samples_leaf=10, rfc__min_samples_split=5, rfc__n_estimators=200 \n",
      "[CV]  rfc__max_depth=20, rfc__max_leaf_nodes=None, rfc__min_samples_leaf=10, rfc__min_samples_split=5, rfc__n_estimators=200, score=0.796, total=  31.8s\n",
      "[CV] rfc__max_depth=20, rfc__max_leaf_nodes=None, rfc__min_samples_leaf=10, rfc__min_samples_split=5, rfc__n_estimators=200 \n",
      "[CV]  rfc__max_depth=20, rfc__max_leaf_nodes=None, rfc__min_samples_leaf=10, rfc__min_samples_split=5, rfc__n_estimators=200, score=0.791, total=  31.2s\n",
      "[CV] rfc__max_depth=20, rfc__max_leaf_nodes=None, rfc__min_samples_leaf=10, rfc__min_samples_split=10, rfc__n_estimators=200 \n",
      "[CV]  rfc__max_depth=20, rfc__max_leaf_nodes=None, rfc__min_samples_leaf=10, rfc__min_samples_split=10, rfc__n_estimators=200, score=0.790, total=  31.5s\n",
      "[CV] rfc__max_depth=20, rfc__max_leaf_nodes=None, rfc__min_samples_leaf=10, rfc__min_samples_split=10, rfc__n_estimators=200 \n",
      "[CV]  rfc__max_depth=20, rfc__max_leaf_nodes=None, rfc__min_samples_leaf=10, rfc__min_samples_split=10, rfc__n_estimators=200, score=0.792, total=  31.2s\n",
      "[CV] rfc__max_depth=20, rfc__max_leaf_nodes=None, rfc__min_samples_leaf=10, rfc__min_samples_split=10, rfc__n_estimators=200 \n",
      "[CV]  rfc__max_depth=20, rfc__max_leaf_nodes=None, rfc__min_samples_leaf=10, rfc__min_samples_split=10, rfc__n_estimators=200, score=0.786, total=  30.8s\n",
      "[CV] rfc__max_depth=20, rfc__max_leaf_nodes=None, rfc__min_samples_leaf=10, rfc__min_samples_split=10, rfc__n_estimators=200 \n",
      "[CV]  rfc__max_depth=20, rfc__max_leaf_nodes=None, rfc__min_samples_leaf=10, rfc__min_samples_split=10, rfc__n_estimators=200, score=0.796, total=  30.5s\n",
      "[CV] rfc__max_depth=20, rfc__max_leaf_nodes=None, rfc__min_samples_leaf=10, rfc__min_samples_split=10, rfc__n_estimators=200 \n",
      "[CV]  rfc__max_depth=20, rfc__max_leaf_nodes=None, rfc__min_samples_leaf=10, rfc__min_samples_split=10, rfc__n_estimators=200, score=0.791, total=  31.4s\n",
      "[CV] rfc__max_depth=20, rfc__max_leaf_nodes=25, rfc__min_samples_leaf=1, rfc__min_samples_split=5, rfc__n_estimators=200 \n",
      "[CV]  rfc__max_depth=20, rfc__max_leaf_nodes=25, rfc__min_samples_leaf=1, rfc__min_samples_split=5, rfc__n_estimators=200, score=0.755, total=  22.4s\n",
      "[CV] rfc__max_depth=20, rfc__max_leaf_nodes=25, rfc__min_samples_leaf=1, rfc__min_samples_split=5, rfc__n_estimators=200 \n",
      "[CV]  rfc__max_depth=20, rfc__max_leaf_nodes=25, rfc__min_samples_leaf=1, rfc__min_samples_split=5, rfc__n_estimators=200, score=0.752, total=  22.1s\n",
      "[CV] rfc__max_depth=20, rfc__max_leaf_nodes=25, rfc__min_samples_leaf=1, rfc__min_samples_split=5, rfc__n_estimators=200 \n"
     ]
    },
    {
     "name": "stdout",
     "output_type": "stream",
     "text": [
      "[CV]  rfc__max_depth=20, rfc__max_leaf_nodes=25, rfc__min_samples_leaf=1, rfc__min_samples_split=5, rfc__n_estimators=200, score=0.756, total=  21.4s\n",
      "[CV] rfc__max_depth=20, rfc__max_leaf_nodes=25, rfc__min_samples_leaf=1, rfc__min_samples_split=5, rfc__n_estimators=200 \n",
      "[CV]  rfc__max_depth=20, rfc__max_leaf_nodes=25, rfc__min_samples_leaf=1, rfc__min_samples_split=5, rfc__n_estimators=200, score=0.763, total=  21.6s\n",
      "[CV] rfc__max_depth=20, rfc__max_leaf_nodes=25, rfc__min_samples_leaf=1, rfc__min_samples_split=5, rfc__n_estimators=200 \n",
      "[CV]  rfc__max_depth=20, rfc__max_leaf_nodes=25, rfc__min_samples_leaf=1, rfc__min_samples_split=5, rfc__n_estimators=200, score=0.761, total=  21.8s\n",
      "[CV] rfc__max_depth=20, rfc__max_leaf_nodes=25, rfc__min_samples_leaf=1, rfc__min_samples_split=10, rfc__n_estimators=200 \n",
      "[CV]  rfc__max_depth=20, rfc__max_leaf_nodes=25, rfc__min_samples_leaf=1, rfc__min_samples_split=10, rfc__n_estimators=200, score=0.757, total=  22.5s\n",
      "[CV] rfc__max_depth=20, rfc__max_leaf_nodes=25, rfc__min_samples_leaf=1, rfc__min_samples_split=10, rfc__n_estimators=200 \n",
      "[CV]  rfc__max_depth=20, rfc__max_leaf_nodes=25, rfc__min_samples_leaf=1, rfc__min_samples_split=10, rfc__n_estimators=200, score=0.753, total=  22.3s\n",
      "[CV] rfc__max_depth=20, rfc__max_leaf_nodes=25, rfc__min_samples_leaf=1, rfc__min_samples_split=10, rfc__n_estimators=200 \n",
      "[CV]  rfc__max_depth=20, rfc__max_leaf_nodes=25, rfc__min_samples_leaf=1, rfc__min_samples_split=10, rfc__n_estimators=200, score=0.756, total=  21.6s\n",
      "[CV] rfc__max_depth=20, rfc__max_leaf_nodes=25, rfc__min_samples_leaf=1, rfc__min_samples_split=10, rfc__n_estimators=200 \n",
      "[CV]  rfc__max_depth=20, rfc__max_leaf_nodes=25, rfc__min_samples_leaf=1, rfc__min_samples_split=10, rfc__n_estimators=200, score=0.762, total=  21.6s\n",
      "[CV] rfc__max_depth=20, rfc__max_leaf_nodes=25, rfc__min_samples_leaf=1, rfc__min_samples_split=10, rfc__n_estimators=200 \n",
      "[CV]  rfc__max_depth=20, rfc__max_leaf_nodes=25, rfc__min_samples_leaf=1, rfc__min_samples_split=10, rfc__n_estimators=200, score=0.761, total=  22.2s\n",
      "[CV] rfc__max_depth=20, rfc__max_leaf_nodes=25, rfc__min_samples_leaf=10, rfc__min_samples_split=5, rfc__n_estimators=200 \n",
      "[CV]  rfc__max_depth=20, rfc__max_leaf_nodes=25, rfc__min_samples_leaf=10, rfc__min_samples_split=5, rfc__n_estimators=200, score=0.756, total=  22.3s\n",
      "[CV] rfc__max_depth=20, rfc__max_leaf_nodes=25, rfc__min_samples_leaf=10, rfc__min_samples_split=5, rfc__n_estimators=200 \n",
      "[CV]  rfc__max_depth=20, rfc__max_leaf_nodes=25, rfc__min_samples_leaf=10, rfc__min_samples_split=5, rfc__n_estimators=200, score=0.752, total=  22.4s\n",
      "[CV] rfc__max_depth=20, rfc__max_leaf_nodes=25, rfc__min_samples_leaf=10, rfc__min_samples_split=5, rfc__n_estimators=200 \n",
      "[CV]  rfc__max_depth=20, rfc__max_leaf_nodes=25, rfc__min_samples_leaf=10, rfc__min_samples_split=5, rfc__n_estimators=200, score=0.753, total=  21.5s\n",
      "[CV] rfc__max_depth=20, rfc__max_leaf_nodes=25, rfc__min_samples_leaf=10, rfc__min_samples_split=5, rfc__n_estimators=200 \n",
      "[CV]  rfc__max_depth=20, rfc__max_leaf_nodes=25, rfc__min_samples_leaf=10, rfc__min_samples_split=5, rfc__n_estimators=200, score=0.762, total=  21.5s\n",
      "[CV] rfc__max_depth=20, rfc__max_leaf_nodes=25, rfc__min_samples_leaf=10, rfc__min_samples_split=5, rfc__n_estimators=200 \n",
      "[CV]  rfc__max_depth=20, rfc__max_leaf_nodes=25, rfc__min_samples_leaf=10, rfc__min_samples_split=5, rfc__n_estimators=200, score=0.761, total=  22.1s\n",
      "[CV] rfc__max_depth=20, rfc__max_leaf_nodes=25, rfc__min_samples_leaf=10, rfc__min_samples_split=10, rfc__n_estimators=200 \n",
      "[CV]  rfc__max_depth=20, rfc__max_leaf_nodes=25, rfc__min_samples_leaf=10, rfc__min_samples_split=10, rfc__n_estimators=200, score=0.756, total=  22.5s\n",
      "[CV] rfc__max_depth=20, rfc__max_leaf_nodes=25, rfc__min_samples_leaf=10, rfc__min_samples_split=10, rfc__n_estimators=200 \n",
      "[CV]  rfc__max_depth=20, rfc__max_leaf_nodes=25, rfc__min_samples_leaf=10, rfc__min_samples_split=10, rfc__n_estimators=200, score=0.752, total=  22.2s\n",
      "[CV] rfc__max_depth=20, rfc__max_leaf_nodes=25, rfc__min_samples_leaf=10, rfc__min_samples_split=10, rfc__n_estimators=200 \n",
      "[CV]  rfc__max_depth=20, rfc__max_leaf_nodes=25, rfc__min_samples_leaf=10, rfc__min_samples_split=10, rfc__n_estimators=200, score=0.753, total=  21.7s\n",
      "[CV] rfc__max_depth=20, rfc__max_leaf_nodes=25, rfc__min_samples_leaf=10, rfc__min_samples_split=10, rfc__n_estimators=200 \n",
      "[CV]  rfc__max_depth=20, rfc__max_leaf_nodes=25, rfc__min_samples_leaf=10, rfc__min_samples_split=10, rfc__n_estimators=200, score=0.762, total=  21.6s\n",
      "[CV] rfc__max_depth=20, rfc__max_leaf_nodes=25, rfc__min_samples_leaf=10, rfc__min_samples_split=10, rfc__n_estimators=200 \n",
      "[CV]  rfc__max_depth=20, rfc__max_leaf_nodes=25, rfc__min_samples_leaf=10, rfc__min_samples_split=10, rfc__n_estimators=200, score=0.761, total=  22.5s\n"
     ]
    },
    {
     "name": "stderr",
     "output_type": "stream",
     "text": [
      "[Parallel(n_jobs=1)]: Done  80 out of  80 | elapsed: 40.4min finished\n"
     ]
    },
    {
     "data": {
      "text/plain": [
       "GridSearchCV(cv=5,\n",
       "             estimator=Pipeline(steps=[('ct',\n",
       "                                        ColumnTransformer(transformers=[('subpipe_num',\n",
       "                                                                         Pipeline(steps=[('ss',\n",
       "                                                                                          StandardScaler())]),\n",
       "                                                                         ['amount_tsh',\n",
       "                                                                          'gps_height',\n",
       "                                                                          'population']),\n",
       "                                                                        ('subpipe_cat',\n",
       "                                                                         Pipeline(steps=[('ohe',\n",
       "                                                                                          OneHotEncoder(handle_unknown='ignore',\n",
       "                                                                                                        sparse=False))]),\n",
       "                                                                         ['installer',\n",
       "                                                                          'basin',\n",
       "                                                                          'region',\n",
       "                                                                          'district_code',\n",
       "                                                                          'lga',\n",
       "                                                                          'management',\n",
       "                                                                          'extraction...\n",
       "                                                                          'quantity',\n",
       "                                                                          'source',\n",
       "                                                                          'waterpoint_type']),\n",
       "                                                                        ('subpipe_bool',\n",
       "                                                                         Pipeline(steps=[('ord',\n",
       "                                                                                          OrdinalEncoder())]),\n",
       "                                                                         ['public_meeting',\n",
       "                                                                          'permit'])])),\n",
       "                                       ('rfc',\n",
       "                                        RandomForestClassifier(random_state=42))]),\n",
       "             param_grid={'rfc__max_depth': [None, 20],\n",
       "                         'rfc__max_leaf_nodes': [None, 25],\n",
       "                         'rfc__min_samples_leaf': [1, 10],\n",
       "                         'rfc__min_samples_split': [5, 10],\n",
       "                         'rfc__n_estimators': [200]},\n",
       "             verbose=3)"
      ]
     },
     "execution_count": 42,
     "metadata": {},
     "output_type": "execute_result"
    }
   ],
   "source": [
    "gs.fit(X_train, y_train)"
   ]
  },
  {
   "cell_type": "code",
   "execution_count": 43,
   "metadata": {},
   "outputs": [
    {
     "data": {
      "text/plain": [
       "{'rfc__max_depth': None,\n",
       " 'rfc__max_leaf_nodes': None,\n",
       " 'rfc__min_samples_leaf': 1,\n",
       " 'rfc__min_samples_split': 10,\n",
       " 'rfc__n_estimators': 200}"
      ]
     },
     "execution_count": 43,
     "metadata": {},
     "output_type": "execute_result"
    }
   ],
   "source": [
    "gs.best_params_"
   ]
  },
  {
   "cell_type": "code",
   "execution_count": 44,
   "metadata": {},
   "outputs": [
    {
     "data": {
      "text/plain": [
       "0.8444352102593919"
      ]
     },
     "execution_count": 44,
     "metadata": {},
     "output_type": "execute_result"
    }
   ],
   "source": [
    "gs.best_score_"
   ]
  },
  {
   "cell_type": "code",
   "execution_count": 44,
   "metadata": {},
   "outputs": [],
   "source": [
    "rfc = RandomForestClassifier(n_estimators=200, max_depth=None, max_leaf_nodes=None, min_samples_leaf=1, \n",
    "                             min_samples_split=10, random_state=42)\n",
    "\n",
    "binary_pipe_1 = Pipeline(steps = [('ct', CT),\n",
    "                                  ('rfc', rfc )])"
   ]
  },
  {
   "cell_type": "code",
   "execution_count": 171,
   "metadata": {},
   "outputs": [
    {
     "data": {
      "text/plain": [
       "'rfc'"
      ]
     },
     "execution_count": 171,
     "metadata": {},
     "output_type": "execute_result"
    }
   ],
   "source": [
    "list(binary_pipe_1.named_steps.keys())[1]"
   ]
  },
  {
   "cell_type": "code",
   "execution_count": 45,
   "metadata": {},
   "outputs": [
    {
     "data": {
      "text/plain": [
       "Pipeline(steps=[('ct',\n",
       "                 ColumnTransformer(transformers=[('subpipe_num',\n",
       "                                                  Pipeline(steps=[('ss',\n",
       "                                                                   StandardScaler())]),\n",
       "                                                  ['amount_tsh', 'gps_height',\n",
       "                                                   'population']),\n",
       "                                                 ('subpipe_cat',\n",
       "                                                  Pipeline(steps=[('ohe',\n",
       "                                                                   OneHotEncoder(handle_unknown='ignore',\n",
       "                                                                                 sparse=False))]),\n",
       "                                                  ['installer', 'basin',\n",
       "                                                   'region', 'district_code',\n",
       "                                                   'lga', 'management',\n",
       "                                                   'extraction_type', 'payment',\n",
       "                                                   'water_quality', 'quantity',\n",
       "                                                   'source',\n",
       "                                                   'waterpoint_type']),\n",
       "                                                 ('subpipe_bool',\n",
       "                                                  Pipeline(steps=[('ord',\n",
       "                                                                   OrdinalEncoder())]),\n",
       "                                                  ['public_meeting',\n",
       "                                                   'permit'])])),\n",
       "                ('rfc',\n",
       "                 RandomForestClassifier(min_samples_split=10, n_estimators=200,\n",
       "                                        random_state=42))])"
      ]
     },
     "execution_count": 45,
     "metadata": {},
     "output_type": "execute_result"
    }
   ],
   "source": [
    "binary_pipe_1.fit(X_train, y_train)"
   ]
  },
  {
   "cell_type": "code",
   "execution_count": 178,
   "metadata": {},
   "outputs": [
    {
     "data": {
      "text/plain": [
       "{'amount_tsh': 0.03297823790581064,\n",
       " 'gps_height': 0.13963379795960087,\n",
       " 'population': 0.07967403182995116,\n",
       " 'x0_-': 4.288670331541956e-06,\n",
       " 'x0_AAR': 6.455030044065494e-05,\n",
       " 'x0_ABASIA': 4.500204709519967e-05,\n",
       " 'x0_ABD': 7.36424033486618e-06,\n",
       " 'x0_ABDALA': 1.1819303213770498e-06,\n",
       " 'x0_ABDUL': 2.6866340651315477e-06,\n",
       " 'x0_AC': 5.518831491957551e-06,\n",
       " 'x0_ACORD': 9.12705291618856e-06,\n",
       " 'x0_ACRA': 0.00021656999351684963,\n",
       " 'x0_ACT': 1.0076777899552609e-05,\n",
       " 'x0_ACTION AID': 1.3583956450348687e-06,\n",
       " 'x0_ACTIVE TANK CO': 3.917320880523683e-06,\n",
       " 'x0_ACTIVE TANK CO LTD': 1.5599426487834259e-06,\n",
       " 'x0_AD': 6.79188298748782e-05,\n",
       " 'x0_ADAP': 4.046084207860421e-05,\n",
       " 'x0_ADB': 5.0064129836148804e-05,\n",
       " 'x0_ADP': 9.951631902526392e-05,\n",
       " 'x0_ADP Busangi': 5.831163961987951e-05,\n",
       " 'x0_ADRA': 0.00018646700506103086,\n",
       " 'x0_ADRA /Government': 1.1584581045298496e-05,\n",
       " 'x0_ADRA/Government': 3.77188837855331e-06,\n",
       " 'x0_AF': 8.229339568656426e-05,\n",
       " 'x0_AFRICA': 3.183165620109528e-06,\n",
       " 'x0_AFRICA MUSLIM': 1.7921594522803656e-06,\n",
       " 'x0_AFRICAN DEVELOPMENT FOUNDATION': 3.955663692988617e-06,\n",
       " 'x0_AFRICAN REFLECTIONS FOUNDATION': 2.8019593800708806e-05,\n",
       " 'x0_AGRICAN': 4.21818655588391e-06,\n",
       " 'x0_AI': 5.376507117758734e-05,\n",
       " 'x0_AIC': 1.3963903919352893e-05,\n",
       " 'x0_AICT': 0.0002373984971050238,\n",
       " 'x0_ALIA': 7.81751150239471e-07,\n",
       " 'x0_AMP Contract': 3.861576306827845e-05,\n",
       " 'x0_AMP Contracts': 6.118565454038652e-05,\n",
       " 'x0_AMP contractor': 5.5006174528677035e-05,\n",
       " 'x0_AMREF': 0.0005704556668044829,\n",
       " 'x0_ANGLI': 1.498809214408123e-05,\n",
       " 'x0_ANGLIKANA CHURCH': 3.7273204796312184e-06,\n",
       " 'x0_ANGRIKANA': 4.3726252130022536e-05,\n",
       " 'x0_ANSWAR': 2.592229657407498e-06,\n",
       " 'x0_AQAL': 1.551821229583798e-05,\n",
       " 'x0_AQUA BLUES ANGELS': 8.044615188356598e-07,\n",
       " 'x0_AQUA WEL': 6.038931206195921e-06,\n",
       " 'x0_AQUA Wel': 4.272405230622357e-07,\n",
       " 'x0_AQUARMAN DRILLERS': 1.6070956958564738e-06,\n",
       " 'x0_ASDP': 1.9441560604613233e-05,\n",
       " 'x0_ATIGH BUILDINGS': 0.00021655350520438727,\n",
       " 'x0_AUSTRALIA': 2.3560076772090754e-05,\n",
       " 'x0_AUWASA': 2.247858612323268e-05,\n",
       " 'x0_Aartisa': 6.0150665718810696e-05,\n",
       " 'x0_Abdallah Ally Wazir': 7.128029229837426e-07,\n",
       " 'x0_Accra': 4.0743457863216675e-06,\n",
       " 'x0_Action Aid': 8.320124484672125e-06,\n",
       " 'x0_Action Contre La Faim': 2.833682872468852e-05,\n",
       " 'x0_Active KMK': 1.7976247256185373e-06,\n",
       " 'x0_Active MKM': 5.543496438059511e-05,\n",
       " 'x0_Adam': 1.1073391881480842e-05,\n",
       " 'x0_Adam Kea': 5.173980193053671e-06,\n",
       " 'x0_Adra': 0.00015424442502462213,\n",
       " 'x0_Adra /Community': 0.0002449768001249621,\n",
       " 'x0_Adra/ Community': 0.00018608119060090054,\n",
       " 'x0_Adra/Community': 0.0003413047808070159,\n",
       " 'x0_Adrs': 1.2173949546808126e-05,\n",
       " 'x0_Af': 7.620147737739209e-05,\n",
       " 'x0_Africa': 9.223963539058937e-06,\n",
       " 'x0_Africa Amini Alama': 1.3374853823236915e-05,\n",
       " 'x0_Africa Islamic Agency Tanzania': 9.954118651353447e-06,\n",
       " 'x0_Africa M': 2.0039374304433364e-05,\n",
       " 'x0_Africa Muslim Agenc': 6.098621716976652e-06,\n",
       " 'x0_African Muslims Age': 1.0551987605761637e-05,\n",
       " 'x0_Africaone': 3.784657074245144e-06,\n",
       " 'x0_Africaone Ltd': 1.604737226579458e-05,\n",
       " 'x0_Africare': 7.771349403510787e-06,\n",
       " 'x0_Afroz Ismail': 6.752601584283757e-06,\n",
       " 'x0_Ahmad': 1.6274677413795187e-05,\n",
       " 'x0_Al Ha': 1.4781593057225652e-06,\n",
       " 'x0_Amadi': 1.0742518809389289e-07,\n",
       " 'x0_Amari': 3.852701547434966e-06,\n",
       " 'x0_Amboni Plantation': 1.0817704973361373e-05,\n",
       " 'x0_Amboni plantation': 1.0443358157208355e-05,\n",
       " 'x0_American': 1.8940880649837122e-06,\n",
       " 'x0_Amref': 0.00030678568599624897,\n",
       " 'x0_Angli': 0.00011155334532515541,\n",
       " 'x0_Anglica Church': 1.0641299664477138e-06,\n",
       " 'x0_Anglican': 1.8658215028753635e-06,\n",
       " 'x0_Anglican Church': 2.992454314053104e-06,\n",
       " 'x0_Anglican Uganda': 4.754519243563111e-06,\n",
       " 'x0_Anglican church': 1.308969656720861e-05,\n",
       " 'x0_Anglikan': 2.0526095107601354e-06,\n",
       " 'x0_Angrikana': 8.884903995147358e-07,\n",
       " 'x0_Ansnani Murij': 2.9351413704050706e-06,\n",
       " 'x0_Aqwaman Drilling': 9.625358233590265e-06,\n",
       " 'x0_Ar': 2.219580267885168e-05,\n",
       " 'x0_Arab community': 2.8066961239395228e-06,\n",
       " 'x0_Arabs Community': 5.219794755268119e-06,\n",
       " 'x0_Ardhi Instute': 3.087336401677115e-05,\n",
       " 'x0_Ardhi Water Wells': 2.1826622665787022e-06,\n",
       " 'x0_Ardhi and PET Companies': 8.52441804218964e-06,\n",
       " 'x0_Ardhi water well': 4.770648259410964e-06,\n",
       " 'x0_Arisan': 1.7686004327799543e-06,\n",
       " 'x0_Artisan': 0.00027177469708830745,\n",
       " 'x0_Athumani  Janguo': 5.4924270070660385e-06,\n",
       " 'x0_Athumani Issa': 6.830898839425565e-09,\n",
       " 'x0_Atisan': 1.2188771539078708e-05,\n",
       " 'x0_Atlas': 3.460179176815109e-05,\n",
       " 'x0_Atlas Company': 4.331984320476005e-05,\n",
       " 'x0_B.A.P': 2.1271453886705556e-06,\n",
       " 'x0_BABTEST': 1.3211683508427255e-05,\n",
       " 'x0_BALYEH': 2.47014629267796e-06,\n",
       " 'x0_BATIST CHURCH': 3.480151283121478e-06,\n",
       " 'x0_BEMANDA': 6.60997574959507e-06,\n",
       " 'x0_BENGUKA': 2.891291643967303e-05,\n",
       " 'x0_BESADA': 0.0001443321025924433,\n",
       " 'x0_BESADO': 2.9120957148679917e-05,\n",
       " 'x0_BFFS': 9.928087551117708e-06,\n",
       " 'x0_BGM': 0.00010984858160508021,\n",
       " 'x0_BGSS': 3.3785149881484714e-06,\n",
       " 'x0_BILILA': 9.33207407424486e-06,\n",
       " 'x0_BIORE': 4.909932812773795e-07,\n",
       " 'x0_BKHWS': 1.1288498843543094e-05,\n",
       " 'x0_BOAZI': 3.1332967783770183e-07,\n",
       " 'x0_BOMA SAVING': 1.6528809500728793e-05,\n",
       " 'x0_BR': 4.168701796685706e-05,\n",
       " 'x0_BRA': 2.7820339942531308e-06,\n",
       " 'x0_BRUDER': 2.0225603358701295e-05,\n",
       " 'x0_BSF': 3.89789400028364e-05,\n",
       " 'x0_BUKUMB': 1.9344359886363772e-05,\n",
       " 'x0_BUMABU': 2.5302005670052768e-05,\n",
       " 'x0_Baadela': 1.9676803987742907e-06,\n",
       " 'x0_Babu Sajin': 1.6344075702141427e-06,\n",
       " 'x0_Babu Sajini': 3.61770154102694e-06,\n",
       " 'x0_Bao': 1.7288645216277455e-05,\n",
       " 'x0_Baric': 2.2391913893771497e-05,\n",
       " 'x0_Barry A. Murphy': 2.6017285663306157e-06,\n",
       " 'x0_Belgiam Government': 6.75335519720848e-05,\n",
       " 'x0_Belgij': 8.772823222220827e-07,\n",
       " 'x0_Benjamin': 2.64761884674692e-06,\n",
       " 'x0_Bhoke Mwita': 9.67963433777819e-07,\n",
       " 'x0_Billy Phillips': 8.225259613672646e-06,\n",
       " 'x0_Bingo foundation': 6.895008847928675e-06,\n",
       " 'x0_Bingo foundation Germany': 1.0302474025831287e-05,\n",
       " 'x0_BioRe': 8.120544860452053e-06,\n",
       " 'x0_Biore': 3.3218401854986793e-06,\n",
       " 'x0_Birage': 1.8566626168082163e-06,\n",
       " 'x0_Bobby': 8.524932125549935e-06,\n",
       " 'x0_Bokera W': 3.1278570362148056e-05,\n",
       " 'x0_Boni': 4.102778021620896e-06,\n",
       " 'x0_Bonite Bottles Ltd': 1.1612737672782992e-05,\n",
       " 'x0_Brad': 4.569041434957346e-06,\n",
       " 'x0_Bridge north': 1.3161592597641622e-05,\n",
       " 'x0_Britain': 2.365766459295e-06,\n",
       " 'x0_British': 1.5250685278935415e-06,\n",
       " 'x0_British colonial government': 3.096942209290327e-05,\n",
       " 'x0_British government': 1.771089634262305e-05,\n",
       " 'x0_Buguba': 2.2457350790506762e-05,\n",
       " 'x0_Building works Company Ltd': 5.1660547887571325e-06,\n",
       " 'x0_Building works engineering Ltd': 1.7514350016567295e-06,\n",
       " 'x0_Bulyahunlu Gold Mine': 4.3509852090129175e-05,\n",
       " 'x0_Buruba': 1.9155393742011243e-05,\n",
       " 'x0_C': 2.2147623837508227e-06,\n",
       " 'x0_CAP': 1.1327652507410682e-06,\n",
       " 'x0_CARE': 2.632990726158055e-05,\n",
       " 'x0_CARE/CIPRO': 2.1650901502409803e-06,\n",
       " 'x0_CARITAS': 3.794204735286169e-06,\n",
       " 'x0_CARTAS': 0.00016741495039371426,\n",
       " 'x0_CARTAS Tanzania': 5.380853595675144e-05,\n",
       " 'x0_CBHCC': 6.21913534458686e-05,\n",
       " 'x0_CCEC': 0.00013223530744066396,\n",
       " 'x0_CCP': 3.817050505318623e-06,\n",
       " 'x0_CCPK': 2.2245183998057423e-05,\n",
       " 'x0_CCPS': 2.837686092795974e-06,\n",
       " 'x0_CCT': 6.321429094870905e-05,\n",
       " 'x0_CDT': 1.2578290177444917e-06,\n",
       " 'x0_CDTF': 0.00012762481299158829,\n",
       " 'x0_CEFA': 7.962584679116934e-05,\n",
       " 'x0_CEFA/rc church': 1.1193508024636339e-07,\n",
       " 'x0_CENTRAL GOVERNMENT': 0.0001402002341978293,\n",
       " 'x0_CES': 0.00032623194586301586,\n",
       " 'x0_CF Builders': 3.473699524825285e-06,\n",
       " 'x0_CG': 5.9671603102193205e-05,\n",
       " 'x0_CG/RC': 1.1121426219304127e-07,\n",
       " 'x0_CGI': 1.0498465404067953e-06,\n",
       " 'x0_CH': 1.1795045538611974e-05,\n",
       " 'x0_CHANDE CO': 6.059555440030275e-06,\n",
       " 'x0_CHANI': 1.782079334613557e-05,\n",
       " 'x0_CHENI': 5.706883691752565e-06,\n",
       " 'x0_CHINA': 4.452243568728136e-06,\n",
       " 'x0_CHINA Co.': 3.374808539718301e-06,\n",
       " 'x0_CHINA HENAN CONSTUCTION': 3.743617561086105e-06,\n",
       " 'x0_CHINA HENAN CONTRACTOR': 2.8622401968866445e-05,\n",
       " 'x0_CHONJA CHARLES': 9.679732908373551e-06,\n",
       " 'x0_CHRISTIAN OUTRICH': 6.418996090527516e-07,\n",
       " 'x0_CHURC': 3.4904110010053974e-06,\n",
       " 'x0_CIP': 1.2024959898162718e-05,\n",
       " 'x0_CIPRO': 1.1497861566964925e-06,\n",
       " 'x0_CIPRO/CARE': 2.8953005890069447e-05,\n",
       " 'x0_CIPRO/CARE/TCRS': 2.715762081119322e-05,\n",
       " 'x0_CIPRO/Government': 6.571396788181316e-05,\n",
       " 'x0_CITIZEN ENGINE': 4.494547149812775e-05,\n",
       " 'x0_CJEJ0': 6.759071570682641e-06,\n",
       " 'x0_CJEJOW': 1.0021981753140117e-05,\n",
       " 'x0_CJEJOW CONSTRUCTION': 0.00011354170709032541,\n",
       " 'x0_CMSR': 6.46570294420045e-05,\n",
       " 'x0_COBASHEC': 4.83093823792672e-05,\n",
       " 'x0_COCANE': 0.00010328482574625472,\n",
       " 'x0_COEK': 1.2065163981564715e-05,\n",
       " 'x0_COMMU': 6.932577494312141e-06,\n",
       " 'x0_COMMUNITY': 9.482974692027625e-06,\n",
       " 'x0_CONCERN': 0.00022437565080263918,\n",
       " 'x0_CONS': 4.798014836128126e-05,\n",
       " 'x0_COSMOS ENG LTD': 0.00013096567523527162,\n",
       " 'x0_COUN': 4.42141027577966e-05,\n",
       " 'x0_COW': 1.7142409519364115e-06,\n",
       " 'x0_COWI': 3.162455093331649e-07,\n",
       " 'x0_COYI': 1.2707497936770235e-06,\n",
       " 'x0_CPRO': 3.511214997911275e-05,\n",
       " 'x0_CRAELIUS': 3.855064989196638e-06,\n",
       " 'x0_CRS': 1.329815615067156e-06,\n",
       " 'x0_CSPD': 3.729411385832983e-05,\n",
       " 'x0_CVS Miss': 2.411197838375261e-06,\n",
       " 'x0_Caltas': 5.03175035305741e-06,\n",
       " 'x0_Caltus': 1.5616858842049888e-05,\n",
       " 'x0_Calvary connection': 1.8661595707347965e-05,\n",
       " 'x0_Camartec': 3.5401531863398425e-05,\n",
       " 'x0_Canada na Tanzania': 3.2292895415709e-05,\n",
       " 'x0_Canop': 9.344724809422531e-05,\n",
       " 'x0_Care  international': 3.3092544591107884e-06,\n",
       " 'x0_Care international': 0.00017395965126050603,\n",
       " 'x0_Carmatech': 1.0117344992340498e-05,\n",
       " 'x0_Cast': 5.676595144211303e-06,\n",
       " 'x0_Cathoric': 1.3300074695041498e-06,\n",
       " 'x0_Ce': 0.00015560251150451126,\n",
       " 'x0_Cebtral Government': 3.359640294980118e-07,\n",
       " 'x0_Cefa': 5.4901653357666035e-06,\n",
       " 'x0_Cental Government': 7.927123570001054e-06,\n",
       " 'x0_Centr': 0.001483601050870339,\n",
       " 'x0_Centra Government': 2.1916826682001144e-06,\n",
       " 'x0_Centra govt': 8.99146590456733e-06,\n",
       " 'x0_Central Government': 0.0009760456688759446,\n",
       " 'x0_Central basin': 1.7207751072342789e-06,\n",
       " 'x0_Central government': 0.0017473519576050936,\n",
       " 'x0_Central govt': 0.0007105001244793514,\n",
       " 'x0_Cetral government /RC': 8.389620962100276e-07,\n",
       " 'x0_Ch': 7.368049608082903e-05,\n",
       " 'x0_Chacha': 2.9216687372263517e-06,\n",
       " 'x0_Chacha Issame': 2.1332337262762326e-06,\n",
       " 'x0_Chamavita': 6.769690198567588e-05,\n",
       " 'x0_Charlotte Well': 2.0124400064681658e-06,\n",
       " 'x0_Chiko': 1.1107329433342199e-05,\n",
       " 'x0_China': 2.3712950847098973e-05,\n",
       " 'x0_Christina Magoge': 2.4559698583356648e-06,\n",
       " 'x0_Christopher': 1.360417370785347e-05,\n",
       " 'x0_Chuo': 1.609684166827287e-07,\n",
       " 'x0_Chur': 3.743964193923349e-05,\n",
       " 'x0_Church': 3.553653207156862e-05,\n",
       " 'x0_Church Of Disciples': 9.031761928644625e-06,\n",
       " 'x0_Cida': 2.2387678279045786e-06,\n",
       " 'x0_Clause workers': 2.616380436266509e-05,\n",
       " 'x0_Claver': 1.2551737212162525e-06,\n",
       " 'x0_Co': 6.891879950553925e-05,\n",
       " 'x0_Colonial Government': 1.088094536026861e-05,\n",
       " 'x0_Colonial government': 1.334910799138191e-06,\n",
       " 'x0_Commu': 0.0010222969241642731,\n",
       " 'x0_Communit': 0.00027177950555570146,\n",
       " 'x0_Community': 0.0011163383568756015,\n",
       " 'x0_Compa': 1.1818556557759602e-05,\n",
       " 'x0_Comunity': 1.556292836690224e-05,\n",
       " 'x0_Conce': 4.2281380599084526e-05,\n",
       " 'x0_Concen': 1.6574154969515587e-05,\n",
       " 'x0_Concern': 3.0078213087897566e-05,\n",
       " 'x0_Concern /government': 4.755207252580716e-06,\n",
       " 'x0_Concern/Government': 4.734800974256815e-06,\n",
       " 'x0_Cons': 2.0955901918422788e-05,\n",
       " 'x0_Consultant': 0.00013542390069010097,\n",
       " 'x0_Consultant Engineer': 0.00037692707944405744,\n",
       " 'x0_Consultant and DWE': 1.5010554637431415e-05,\n",
       " 'x0_Consulting Engineer': 0.0003612025214336453,\n",
       " 'x0_Consulting engineer': 4.497784454379259e-05,\n",
       " 'x0_Consuting Engineer': 0.00019104043888325617,\n",
       " 'x0_Conta': 3.904436720070312e-06,\n",
       " 'x0_Contr': 1.0454525407992523e-05,\n",
       " 'x0_Cosmo': 1.6102059980606554e-05,\n",
       " 'x0_Cosmos Engineering': 3.85392898874524e-05,\n",
       " 'x0_Coun': 3.1969755447644395e-06,\n",
       " 'x0_Counc': 1.3628816028423068e-05,\n",
       " 'x0_Council': 5.1735214561246e-05,\n",
       " 'x0_Crety': 1.708533111424489e-06,\n",
       " 'x0_Cultus': 2.705861488123801e-06,\n",
       " 'x0_D': 8.788471747654806e-05,\n",
       " 'x0_D$L': 1.0590382998140788e-05,\n",
       " 'x0_DA': 0.000718482353264415,\n",
       " 'x0_DADIS': 4.890959824977705e-06,\n",
       " 'x0_DADP': 1.5915634008622575e-05,\n",
       " 'x0_DADS': 6.37462184970133e-05,\n",
       " 'x0_DADS/Village community': 9.166564049354913e-08,\n",
       " 'x0_DADS/village Community': 1.4048637648066453e-07,\n",
       " 'x0_DADS/village community': 8.822006684082964e-07,\n",
       " 'x0_DAK': 4.5306096167223974e-05,\n",
       " 'x0_DALDO': 1.17060992364991e-05,\n",
       " 'x0_DANID': 0.00043575031199012557,\n",
       " 'x0_DANIDA': 0.001390067149904279,\n",
       " 'x0_DANIDA CO': 1.4241177093754801e-05,\n",
       " 'x0_DANIDS': 5.678089142262852e-06,\n",
       " 'x0_DANNY': 2.870050646601069e-05,\n",
       " 'x0_DAR ES SALAAM ROUND TABLE': 4.398439803655378e-05,\n",
       " 'x0_DASIP': 4.548726455291142e-06,\n",
       " 'x0_DASP': 5.120903381380669e-06,\n",
       " 'x0_DAWASA': 2.568178470501277e-06,\n",
       " 'x0_DAWASCO': 0.00014771026075122411,\n",
       " 'x0_DAWE': 1.4184611778686818e-06,\n",
       " 'x0_DBFPE': 1.1479926151386564e-05,\n",
       " 'x0_DBSP': 2.1331970812484408e-06,\n",
       " 'x0_DBSPE': 3.511870177966234e-05,\n",
       " 'x0_DCCA': 8.13687836890119e-06,\n",
       " 'x0_DCT': 1.344349705520128e-05,\n",
       " 'x0_DDCA': 0.0006743707379001196,\n",
       " 'x0_DDCA CO': 3.365858995986315e-05,\n",
       " 'x0_DDP': 5.666718636344316e-06,\n",
       " 'x0_DDSA': 1.3200904124763218e-06,\n",
       " 'x0_DE': 2.7066329196466467e-06,\n",
       " 'x0_DED': 0.00032841808959972247,\n",
       " 'x0_DEE': 2.6743628335807658e-05,\n",
       " 'x0_DENISH': 5.849791065436787e-06,\n",
       " 'x0_DESK C': 2.5912167879582376e-05,\n",
       " 'x0_DESK a': 5.673323456537992e-06,\n",
       " 'x0_DEW': 6.504669862392535e-06,\n",
       " 'x0_DFID': 1.4870947267188591e-06,\n",
       " 'x0_DH': 0.00040720073107517894,\n",
       " 'x0_DHV': 0.0004461897080818661,\n",
       " 'x0_DHV Moro': 2.1194349225960434e-05,\n",
       " 'x0_DISTRICT COUNCIL': 2.6229165463904597e-05,\n",
       " 'x0_DIWANI': 1.875367927942551e-05,\n",
       " 'x0_DMDD': 0.00023854256431683415,\n",
       " 'x0_DMK': 2.5515501617270272e-05,\n",
       " 'x0_DMMD': 2.2552674687548736e-07,\n",
       " 'x0_DO': 5.176906671948854e-05,\n",
       " 'x0_DODDEA': 5.941912488503885e-06,\n",
       " 'x0_DSP': 1.578992107325104e-05,\n",
       " 'x0_DSV': 5.066414201857174e-05,\n",
       " 'x0_DUWAS': 2.194698109119328e-05,\n",
       " 'x0_DV': 1.14941714012188e-05,\n",
       " 'x0_DW': 0.0006249575575552634,\n",
       " 'x0_DW E': 2.4338356358223722e-05,\n",
       " 'x0_DWE': 0.01071718120836217,\n",
       " 'x0_DWE /TASSAF': 5.827942577010952e-06,\n",
       " 'x0_DWE&': 1.42643798962014e-05,\n",
       " 'x0_DWE/': 2.0642583391038216e-05,\n",
       " 'x0_DWE/Anglican church': 2.686655129000071e-05,\n",
       " 'x0_DWE/TASSAF': 8.20042932962694e-06,\n",
       " 'x0_DWE/Ubalozi wa Marekani': 2.1204626209923646e-05,\n",
       " 'x0_DWEB': 1.0575655738338167e-05,\n",
       " 'x0_DWE}': 3.160910217450141e-05,\n",
       " 'x0_DWR': 3.0112597492516186e-05,\n",
       " 'x0_DWSP': 0.0003425111376096493,\n",
       " 'x0_DWT': 2.1706510182322986e-06,\n",
       " 'x0_Da': 0.00028375944179963986,\n",
       " 'x0_Danda': 1.2851569713374008e-06,\n",
       " 'x0_Danid': 3.711462107754931e-05,\n",
       " 'x0_Dar es salaam Technician': 3.083403395039107e-07,\n",
       " 'x0_Dawasco': 1.3884439874016301e-06,\n",
       " 'x0_Deogra': 1.2668489132146373e-05,\n",
       " 'x0_Desk and chair foundation': 5.4209809162609376e-05,\n",
       " 'x0_Dhinu': 1.449822354958928e-05,\n",
       " 'x0_Di': 3.841564024744596e-06,\n",
       " 'x0_Dina': 1.641389631325886e-06,\n",
       " 'x0_Diocese of Geita': 2.1994085265620258e-05,\n",
       " 'x0_Distri': 0.00027918878587651375,\n",
       " 'x0_Distric Water Department': 1.0312393581545936e-05,\n",
       " 'x0_District  Council': 2.544660124168478e-05,\n",
       " 'x0_District COUNCIL': 1.5557247037205454e-05,\n",
       " 'x0_District Community j': 3.048577009305991e-06,\n",
       " 'x0_District Counci': 3.776238725042096e-05,\n",
       " 'x0_District Council': 0.0011790474829975386,\n",
       " 'x0_District Water Department': 0.00019943064999586614,\n",
       " 'x0_District council': 0.002381869752512278,\n",
       " 'x0_District water depar': 0.00019715558871078167,\n",
       " 'x0_District water department': 0.0002465035539534319,\n",
       " 'x0_Diwani': 7.555364602688857e-06,\n",
       " 'x0_Dmdd': 0.0003640249792179487,\n",
       " 'x0_Do': 9.735435472101376e-05,\n",
       " 'x0_Dokta Mwandulami': 2.909634747379966e-07,\n",
       " 'x0_Domnik': 8.177509810228194e-07,\n",
       " 'x0_Dr. Matobola': 2.506386031898124e-06,\n",
       " 'x0_Dr. Matomola': 3.575077476510972e-05,\n",
       " 'x0_Dr.Matobola': 2.094441470164115e-06,\n",
       " 'x0_Dr.Matomola': 5.872343645436396e-06,\n",
       " 'x0_Dwe': 9.180968374488919e-05,\n",
       " 'x0_Dydrotec': 2.102836753866913e-06,\n",
       " 'x0_E ETO': 1.531186430466903e-05,\n",
       " 'x0_EA': 5.2977898285075546e-05,\n",
       " 'x0_ECO LODGE': 1.7204208350877562e-06,\n",
       " 'x0_EF': 2.7581258470630562e-05,\n",
       " 'x0_EFAM': 2.1549596341136272e-05,\n",
       " 'x0_EFG': 0.00017520763402155637,\n",
       " 'x0_EGYPT': 3.418339880534884e-06,\n",
       " 'x0_EGYPT REGWA': 2.7576306568300414e-06,\n",
       " 'x0_EL': 9.106084999884179e-05,\n",
       " 'x0_ELCA': 8.21737312778985e-06,\n",
       " 'x0_ELCT': 4.5749679001950855e-06,\n",
       " 'x0_EMAYO': 2.592020076158808e-06,\n",
       " 'x0_ENGINEERS WITHOUT BORDER': 1.946371344335452e-06,\n",
       " 'x0_ERETO': 6.721151240964988e-05,\n",
       " 'x0_ESAWA': 1.0258298751757849e-05,\n",
       " 'x0_EWE': 1.3908984263325895e-06,\n",
       " 'x0_Eastmeru medium School': 1.2656078799275768e-05,\n",
       " 'x0_Edward': 1.2218734785538069e-05,\n",
       " 'x0_Efarm': 8.995610035487475e-06,\n",
       " 'x0_Egypt Government': 5.378835711290403e-06,\n",
       " 'x0_Egypt Technical Co Operation': 9.784759296418983e-06,\n",
       " 'x0_Elias Mahemba': 5.38754841976917e-06,\n",
       " 'x0_Elius Chacha': 4.142613552671646e-06,\n",
       " 'x0_Eliza': 8.782866751915078e-06,\n",
       " 'x0_Embasy of Japan in Tanzania': 6.220771944087842e-06,\n",
       " 'x0_Emmanuel Kiswagala': 1.915644154144752e-05,\n",
       " 'x0_Engin': 1.0583879033611343e-05,\n",
       " 'x0_Enyuati': 2.0605182925856263e-05,\n",
       " 'x0_European Union': 7.254085897638323e-05,\n",
       " 'x0_Exaud Msambwa': 2.4499898748773416e-06,\n",
       " 'x0_F': 2.4494021217922564e-06,\n",
       " 'x0_FAO': 1.6550321032009748e-06,\n",
       " 'x0_FIN WATER': 0.0001117593117069947,\n",
       " 'x0_FINI WATER': 0.0002026945072766767,\n",
       " 'x0_FINI Water': 2.751501289578038e-07,\n",
       " 'x0_FINLAND': 1.1944418956044137e-06,\n",
       " 'x0_FINN WATER': 1.5382376153108898e-05,\n",
       " 'x0_FLORESTA': 1.9743652502831136e-06,\n",
       " 'x0_FPCT': 7.586185698176005e-05,\n",
       " 'x0_FPCT Church': 1.0111424494046745e-06,\n",
       " 'x0_FPTC': 3.792798484035891e-05,\n",
       " 'x0_FRESH WATER PLC ENGLAND': 3.251185638085263e-05,\n",
       " 'x0_FURAHIA TRADING': 1.2591117843489937e-05,\n",
       " 'x0_FW': 0.0003456281805009836,\n",
       " 'x0_Fabia': 1.0144262213424032e-06,\n",
       " 'x0_Farm Africa': 7.882110288617497e-07,\n",
       " 'x0_Fathe': 4.1357248781535415e-05,\n",
       " 'x0_Faudh Tamimu': 4.16624498669501e-06,\n",
       " 'x0_FiNI WATER': 1.4640741546672703e-05,\n",
       " 'x0_Fin Water': 5.487090678770981e-06,\n",
       " 'x0_Fin water': 1.2291218864949094e-05,\n",
       " 'x0_FinW': 0.0003646135788330755,\n",
       " 'x0_FinWate': 9.44047718001658e-06,\n",
       " 'x0_FinWater': 5.394209524989241e-05,\n",
       " 'x0_Fini Water': 0.0002631906562106972,\n",
       " 'x0_Fini water': 0.00047182983275601145,\n",
       " 'x0_Finland Government': 6.684639667557477e-05,\n",
       " 'x0_Finwater': 0.00018982773744164312,\n",
       " 'x0_Foreigne': 1.3063395341169415e-05,\n",
       " 'x0_Free Pentecoste Church of Tanz': 1.4857000876320628e-05,\n",
       " 'x0_Frida mokeki': 1.3007243768537334e-05,\n",
       " 'x0_G.D&I.D': 4.841466386129191e-06,\n",
       " 'x0_GACHUMA GINERY': 3.70784308511721e-05,\n",
       " 'x0_GAICA': 3.6591066920832946e-05,\n",
       " 'x0_GEN': 0.00010188756276437561,\n",
       " 'x0_GEOCHAINA': 1.368978078496836e-05,\n",
       " 'x0_GEOTAN': 4.861070466532717e-05,\n",
       " 'x0_GERMAN MISSIONSRY': 2.424022963654614e-07,\n",
       " 'x0_GERMANY MISSIONARY': 0.0001256367941759074,\n",
       " 'x0_GIDA contractor': 2.215490609538584e-05,\n",
       " 'x0_GLOBAL RESOURCE CONSTRUCTION': 4.254746055745566e-06,\n",
       " 'x0_GOVER': 0.0001835744311730378,\n",
       " 'x0_GOVERM': 1.0538361626720339e-05,\n",
       " 'x0_GOVERN': 0.00010948810717283462,\n",
       " 'x0_GOVERNME': 1.2210260045218752e-05,\n",
       " 'x0_GOVERNMENT': 0.00023038663942041152,\n",
       " 'x0_GRA': 1.7583282921565456e-05,\n",
       " 'x0_GREINAKER': 1.878772624550849e-05,\n",
       " 'x0_GREINEKER': 1.58170038270604e-05,\n",
       " 'x0_GRUMET': 3.4037437878801945e-06,\n",
       " 'x0_GRUMETI': 0.00012771562297049535,\n",
       " 'x0_GRUMETI SINGITA': 1.8367090431287444e-05,\n",
       " 'x0_GTZ': 0.0002759142891327244,\n",
       " 'x0_GURUMETI SAGITA CO': 2.0507025709821945e-05,\n",
       " 'x0_Ga': 7.886314808160636e-05,\n",
       " 'x0_Gain': 3.238029558981681e-05,\n",
       " 'x0_George': 1.415961972318594e-08,\n",
       " 'x0_George mtoto': 7.435627248786742e-06,\n",
       " 'x0_George mtoto company': 8.18715201526257e-06,\n",
       " 'x0_Gerald Mila': 7.30441731699992e-07,\n",
       " 'x0_Germany': 1.683227777780738e-05,\n",
       " 'x0_Gesine': 2.515361860890814e-06,\n",
       " 'x0_Go': 0.0003523506684444883,\n",
       " 'x0_Gold star': 3.3658073039891425e-05,\n",
       " 'x0_Goldstar': 8.861764219676936e-05,\n",
       " 'x0_Goldwill  foundation': 9.214991444501218e-06,\n",
       " 'x0_Got': 3.3782505116954735e-07,\n",
       " 'x0_Gove': 0.00030149548519569605,\n",
       " 'x0_Gover': 0.0008973875488176561,\n",
       " 'x0_Governmen': 1.2004178380997757e-05,\n",
       " 'x0_Government': 0.004408842269016425,\n",
       " 'x0_Government /Community': 4.462937055369534e-06,\n",
       " 'x0_Government /SDA': 2.780814295331848e-06,\n",
       " 'x0_Government /World Vision': 2.654918922160598e-05,\n",
       " 'x0_Government and Community': 1.4767572657401764e-06,\n",
       " 'x0_Government of Misri': 1.6662568861900733e-06,\n",
       " 'x0_Grail Mission Kiseki bar': 3.6621364927065905e-06,\n",
       " 'x0_Great Lakes': 8.191383995906463e-06,\n",
       " 'x0_Greec': 1.0209029098344279e-05,\n",
       " 'x0_Green': 3.617261097398388e-05,\n",
       " 'x0_Grobal resource alliance': 6.38683710610518e-05,\n",
       " 'x0_Grumeti fund': 8.752964587427483e-06,\n",
       " 'x0_Gtz': 4.15877090598563e-05,\n",
       " 'x0_Gwasco': 4.493662915564029e-06,\n",
       " 'x0_Gwasco L': 6.527467140753332e-05,\n",
       " 'x0_Gwaseco': 7.27000296505061e-05,\n",
       " 'x0_H': 0.0002045459964720028,\n",
       " 'x0_H4CCP': 2.5759890528574976e-05,\n",
       " 'x0_HAAM': 2.643723911271097e-06,\n",
       " 'x0_HAM': 5.344109269862059e-05,\n",
       " 'x0_HAPA': 2.3106396429508407e-05,\n",
       " 'x0_HAPA SINGIDA': 6.861092535330987e-05,\n",
       " 'x0_HAYDOM LUTHERAN HOSPITAL': 1.5005939603820343e-06,\n",
       " 'x0_HDV': 4.0888153576805494e-05,\n",
       " 'x0_HE': 0.00042924212197440256,\n",
       " 'x0_HESAWA': 0.0011025989014174897,\n",
       " 'x0_HESAWS': 7.749097651830644e-06,\n",
       " 'x0_HIAP': 2.3507021258509378e-05,\n",
       " 'x0_HOLLAND': 4.430627631333981e-06,\n",
       " 'x0_HOTEL AND LODGE TANZANIA': 1.7237636574538878e-06,\n",
       " 'x0_HOWARD HUMFREYS': 1.0640957650111926e-06,\n",
       " 'x0_HPA': 1.2720075638465223e-05,\n",
       " 'x0_HSW': 0.000481742006508164,\n",
       " 'x0_HW/RC': 3.589510947094573e-05,\n",
       " 'x0_Ha': 1.501099898808939e-05,\n",
       " 'x0_Halimashauli': 2.769638125030337e-07,\n",
       " 'x0_Halmashauli': 3.96428027011522e-06,\n",
       " 'x0_Halmashauri': 7.892061881033323e-05,\n",
       " 'x0_Halmashauri wilaya': 4.83396146438324e-06,\n",
       " 'x0_Halmashauri ya manispa tabora': 4.1257720764272784e-05,\n",
       " 'x0_Halmashauri ya mburu': 1.3474304486498117e-05,\n",
       " 'x0_Halmashauri ya wilaya': 1.576784846434986e-05,\n",
       " 'x0_Halmashauri ya wilaya sikonge': 0.00024693490665518607,\n",
       " 'x0_Halmashauri/Quick win project': 5.7404118327897835e-05,\n",
       " 'x0_Hamisi Fidia': 4.711862732663233e-07,\n",
       " 'x0_Handeni Trunk Main': 3.486622155909526e-06,\n",
       " 'x0_Handeni Trunk Main(': 0.00020500495188032625,\n",
       " 'x0_Hanja Lt': 6.143761527047718e-06,\n",
       " 'x0_Hans': 1.3170539803515576e-05,\n",
       " 'x0_Happy watoto foundation': 8.562407495467503e-05,\n",
       " 'x0_Hasnein Murij': 5.54245586053322e-06,\n",
       " 'x0_Healt': 3.674373052969423e-05,\n",
       " 'x0_Hearts helping hands.Inc.': 4.207527567496794e-06,\n",
       " 'x0_Hemed Abdalkah': 1.8115033762781477e-07,\n",
       " 'x0_Hery': 1.1614051317420882e-07,\n",
       " 'x0_Hesawa': 0.0013533348715116633,\n",
       " 'x0_Hesawz': 4.11254943266343e-06,\n",
       " 'x0_Hesewa': 6.8991770186952576e-06,\n",
       " 'x0_Hilfe Fur Bruder': 3.4005734083193075e-06,\n",
       " 'x0_Holili water supply': 8.946194714392425e-06,\n",
       " 'x0_Hospi': 2.7533946902057275e-05,\n",
       " 'x0_Howard and humfrey consultant': 2.074536792239095e-05,\n",
       " 'x0_Huches': 1.7396796118795564e-06,\n",
       " 'x0_Humfreys Co': 3.1718015271342945e-06,\n",
       " 'x0_Hussein Ayubu': 1.7719356364397095e-07,\n",
       " 'x0_Hydom Luthelani': 1.3382881572507124e-05,\n",
       " 'x0_Hydrotec': 9.95155355420695e-05,\n",
       " 'x0_I.E.C': 1.7061125046317012e-05,\n",
       " 'x0_IADO': 3.175594719538603e-05,\n",
       " 'x0_ICS': 5.144932473827048e-05,\n",
       " 'x0_IDARA': 3.425139587401858e-05,\n",
       " 'x0_IDC': 2.5212994231509095e-05,\n",
       " 'x0_IDEA': 1.512772924013969e-05,\n",
       " 'x0_IDYDC': 6.352772411827483e-05,\n",
       " 'x0_IFAD': 0.00011484215494848168,\n",
       " 'x0_ILCT': 0.00013628168576624368,\n",
       " 'x0_IN': 1.4493546296936941e-05,\n",
       " 'x0_INDIVIDUALS': 4.886805768249065e-07,\n",
       " 'x0_IRAN GOVERN': 8.609464324384858e-06,\n",
       " 'x0_IRC': 2.1680337803659982e-05,\n",
       " 'x0_IREVEA SISTER': 3.748944184191226e-06,\n",
       " 'x0_IS': 1.0220406537735273e-06,\n",
       " 'x0_ISF': 0.0004638441364098402,\n",
       " 'x0_ISF / TASAFF': 5.051141170240818e-06,\n",
       " 'x0_ISF and TACARE': 6.37908357379822e-07,\n",
       " 'x0_ISF/Government': 4.9457807184283814e-05,\n",
       " 'x0_ISF/TACARE': 4.382194536266254e-05,\n",
       " 'x0_ISSAA KANYANGE': 1.3607592280652347e-05,\n",
       " 'x0_ISSAC MOLLEL': 3.495849835110185e-07,\n",
       " 'x0_ITALI': 8.62829245119322e-06,\n",
       " 'x0_IUCN': 8.410495547859206e-06,\n",
       " 'x0_Idara ya Maji': 3.1255635625847364e-05,\n",
       " 'x0_Idara ya maji': 0.0005011043922786008,\n",
       " 'x0_Ikela Wa': 2.4909173848462994e-05,\n",
       " 'x0_Ilolangulu water supply': 2.038667429570649e-05,\n",
       " 'x0_Ilwilo community': 1.3865815625313291e-05,\n",
       " 'x0_In': 2.3281905971880354e-05,\n",
       " 'x0_Indi': 1.789589504187415e-06,\n",
       " 'x0_India': 2.8428097304773027e-06,\n",
       " 'x0_Indiv': 5.593032301296067e-06,\n",
       " 'x0_Individual': 8.395625150739541e-07,\n",
       " 'x0_Individuals': 6.33424460782165e-05,\n",
       " 'x0_Institution': 3.828291756771616e-05,\n",
       " 'x0_Institutional': 2.8344498247793082e-05,\n",
       " 'x0_Inter': 5.2094235747312743e-05,\n",
       " 'x0_Internal Drainage Basin': 8.507655685626115e-07,\n",
       " 'x0_International Aid Services': 1.609011938738861e-06,\n",
       " 'x0_Inves': 3.396795149842086e-05,\n",
       " 'x0_Ir': 0.00045791960970471395,\n",
       " 'x0_Is': 0.00035590681666994187,\n",
       " 'x0_Islam': 2.813520751969451e-05,\n",
       " 'x0_Islamic': 9.576799545210655e-05,\n",
       " 'x0_Islamic community': 6.486554895746268e-07,\n",
       " 'x0_Issa Mohamedi Tumwanga': 2.6138539074995778e-06,\n",
       " 'x0_Italian government': 8.047814907104259e-06,\n",
       " 'x0_Italy government': 1.302921081007346e-05,\n",
       " 'x0_J. Mc': 5.622707876023212e-06,\n",
       " 'x0_JACKSON MAHAMBO': 8.123468425916618e-06,\n",
       " 'x0_JAICA': 0.00044682374101265564,\n",
       " 'x0_JAICA CO': 1.0329105903570058e-05,\n",
       " 'x0_JALCA': 1.2482255626607452e-05,\n",
       " 'x0_JANDU': 1.7384228261303926e-06,\n",
       " 'x0_JANDU PLUMBER  CO': 6.90797768104522e-05,\n",
       " 'x0_JANDU PLUMBER CO': 0.00012463054652176795,\n",
       " 'x0_JAPAN': 1.6991024555464935e-06,\n",
       " 'x0_JAPAN EMBASSY': 2.109974500496656e-06,\n",
       " 'x0_JBG': 0.00011024811197028529,\n",
       " 'x0_JESHI LA WOKOVU': 2.6895353614692026e-06,\n",
       " 'x0_JHL CO LTD': 7.556664958375674e-06,\n",
       " 'x0_JICA': 0.0002977431402228241,\n",
       " 'x0_JIKA': 4.127221357650572e-05,\n",
       " 'x0_JLH CO LTD': 1.4911564062537404e-05,\n",
       " 'x0_JSICA': 6.556302520375766e-06,\n",
       " 'x0_JUIN': 5.9821114705954914e-05,\n",
       " 'x0_JUIN CO': 9.467805859113495e-05,\n",
       " 'x0_JUINE CO': 2.692234632361556e-05,\n",
       " 'x0_JWTZ': 6.593505573117861e-06,\n",
       " 'x0_Ja': 9.940570057143752e-05,\n",
       " 'x0_Jacks': 3.4657194061828774e-07,\n",
       " 'x0_Jackson Makore': 4.10254501823704e-07,\n",
       " 'x0_Jafary Mbaga': 5.170926767194694e-06,\n",
       " 'x0_Jaica': 0.0002465460377665271,\n",
       " 'x0_Japan': 2.422641438461153e-05,\n",
       " 'x0_Japan Government': 2.287461665019159e-06,\n",
       " 'x0_Jeica': 2.9444756838054004e-05,\n",
       " 'x0_Jerem': 2.3010819314944306e-06,\n",
       " 'x0_Jeshi la wokovu': 2.809038996049023e-05,\n",
       " 'x0_Jeshi la wokovu [cida]': 8.177986634470578e-06,\n",
       " 'x0_Jica': 7.765685079868955e-05,\n",
       " 'x0_Jicks': 3.4048289013403016e-05,\n",
       " 'x0_Jika': 7.5603768919846265e-06,\n",
       " 'x0_Jiks': 1.4471743409664375e-06,\n",
       " 'x0_John kiminda co': 2.8015945979132576e-06,\n",
       " 'x0_Ju': 3.3336689892190804e-06,\n",
       " 'x0_Judge Mchome': 8.85898935784187e-06,\n",
       " 'x0_Juma': 2.819953827399532e-06,\n",
       " 'x0_Juma Makulilo': 3.498781563855211e-06,\n",
       " 'x0_Juma Maro': 2.585709941018816e-06,\n",
       " 'x0_Juma Ndege': 5.051221341332524e-06,\n",
       " 'x0_Jumaa': 1.2304586508995491e-07,\n",
       " 'x0_Jumanne': 8.640504519130279e-07,\n",
       " 'x0_Jumanne Siabo': 6.615331262015534e-06,\n",
       " 'x0_Justine Marwa': 3.0577626939018252e-06,\n",
       " 'x0_K': 1.4118548404645245e-05,\n",
       " 'x0_KA': 0.00021931516807550315,\n",
       " 'x0_KADP': 2.704990413454758e-05,\n",
       " 'x0_KAEM': 1.7102207856177182e-05,\n",
       " 'x0_KAEMP': 6.484983843004862e-05,\n",
       " 'x0_KAGERA MINE': 1.5885596247801732e-06,\n",
       " 'x0_KARUMBA BIULDIN': 2.72864692063941e-06,\n",
       " 'x0_KARUMBA BIULDING CONTRACTOR': 3.123437593101694e-06,\n",
       " 'x0_KARUMBA BUILDING COMPANY LTD': 6.38627560119186e-06,\n",
       " 'x0_KASHERE': 1.4256621522071963e-05,\n",
       " 'x0_KASHWA': 1.9918755703821418e-05,\n",
       " 'x0_KAWINGA': 6.294432580769046e-06,\n",
       " 'x0_KAYEMPU LTD': 2.0019952860038727e-06,\n",
       " 'x0_KC': 2.4510124234176905e-05,\n",
       " 'x0_KEREBUKA': 2.5576572535992177e-06,\n",
       " 'x0_KIBO': 2.5754211864667913e-07,\n",
       " 'x0_KIDIJAS': 5.962610211019922e-06,\n",
       " 'x0_KIDP': 0.000113756238685345,\n",
       " 'x0_KILANGANI CO': 1.3485788381470684e-05,\n",
       " 'x0_KILI WATER': 2.9469062331810275e-05,\n",
       " 'x0_KILL WATER': 2.710555437353054e-06,\n",
       " 'x0_KIM KIM CONSTRUCTION': 5.241469492082535e-05,\n",
       " 'x0_KIMKUM': 9.79530679917253e-05,\n",
       " 'x0_KINAPA': 2.853517078171701e-05,\n",
       " 'x0_KISIRIRI ADP': 1.3239066972936508e-06,\n",
       " 'x0_KIUMA': 0.00012631622865033086,\n",
       " 'x0_KK': 2.9295345953401966e-05,\n",
       " 'x0_KKKT': 0.000722584715142473,\n",
       " 'x0_KKKT CHURCH': 0.00014433035263433774,\n",
       " 'x0_KKKT DME': 3.5254623393170205e-06,\n",
       " 'x0_KKKT Kilinga': 1.5722197323397408e-05,\n",
       " 'x0_KKKT Leguruki': 7.0232133915763965e-06,\n",
       " 'x0_KKKT MAREU': 3.882874357541567e-06,\n",
       " 'x0_KKKT _ Konde and DWE': 0.00028409672564460556,\n",
       " 'x0_KKKT-Dioces ya Pare': 5.136407273745598e-05,\n",
       " 'x0_KKT': 0.00014666995557586964,\n",
       " 'x0_KKT C': 0.0001411097902215944,\n",
       " 'x0_KMT': 1.3333133199930717e-05,\n",
       " 'x0_KOBERG': 4.963631554786842e-06,\n",
       " 'x0_KOBERG Contractor': 3.782224791997375e-06,\n",
       " 'x0_KOICA': 3.719809880578831e-06,\n",
       " 'x0_KONOIKE': 2.5892964203546878e-05,\n",
       " 'x0_KOREA': 1.6356865893199113e-05,\n",
       " 'x0_KOWI': 1.126936503148184e-05,\n",
       " 'x0_KOYI': 1.1873568854083866e-06,\n",
       " 'x0_KTA C': 9.699094356878664e-05,\n",
       " 'x0_KU': 1.352037714128368e-06,\n",
       " 'x0_KUMKUM': 3.6483770779230125e-07,\n",
       " 'x0_KUWAIT': 0.00026631506596182247,\n",
       " 'x0_KUWASA': 3.336764141000462e-05,\n",
       " 'x0_KWIKWIZ': 8.22333935902378e-06,\n",
       " 'x0_KYASHA ENTERPR': 7.275672718486962e-05,\n",
       " 'x0_KYASHA ENTREPR': 3.614461514677596e-05,\n",
       " 'x0_KYELA_MOROGORO': 3.5240271289933433e-06,\n",
       " 'x0_Kaembe': 3.0946394373739254e-06,\n",
       " 'x0_Kagulo': 4.777570121211358e-06,\n",
       " 'x0_Kagunguli Secondary': 1.4025854567764917e-05,\n",
       " 'x0_Kajima': 1.6370012874022848e-06,\n",
       " 'x0_Kalago enterprises Co.Ltd': 2.5093865133345705e-05,\n",
       " 'x0_Kalitasi': 9.455459425123156e-05,\n",
       " 'x0_Kalta': 1.9436435058650314e-05,\n",
       " 'x0_Kalugendo': 1.8999973877856026e-05,\n",
       " 'x0_Kalumbwa': 3.0501793744654386e-05,\n",
       " 'x0_Kaluwike': 6.0332442091235125e-06,\n",
       " 'x0_Kamama': 4.777789445344913e-05,\n",
       " 'x0_Kamata project': 5.8532495026556115e-06,\n",
       " 'x0_Kambi Migoko': 5.406507081334106e-06,\n",
       " 'x0_Kanamama': 3.531732227129893e-06,\n",
       " 'x0_Kanisa': 2.8548510391403988e-05,\n",
       " 'x0_Kanisa katoliki': 1.0605528576641176e-05,\n",
       " 'x0_Kanisa la TAG': 1.566468152431811e-06,\n",
       " 'x0_Kanisani': 9.893820555219605e-06,\n",
       " 'x0_Kapelo': 2.9684763918293073e-08,\n",
       " 'x0_Karugendo': 4.772351290805524e-05,\n",
       " 'x0_Kassim': 2.0526810689240755e-07,\n",
       " 'x0_Kata': 9.177183359202618e-06,\n",
       " 'x0_Kauzeni': 4.129860546752399e-06,\n",
       " 'x0_Ki': 0.00024189116795879758,\n",
       " 'x0_Kibaha Town Council': 9.7794599509484e-06,\n",
       " 'x0_Kidika': 1.3011168931286168e-07,\n",
       " 'x0_Kigoma municipal': 1.7261129666189596e-05,\n",
       " 'x0_Kigwa': 2.2940428115669733e-05,\n",
       " 'x0_Kijiji': 1.5653734913755642e-05,\n",
       " 'x0_Kikom': 3.1928987511249892e-06,\n",
       " 'x0_Kiliflora': 4.061686352982174e-05,\n",
       " 'x0_Kilimarondo Parish': 1.7283624248766737e-06,\n",
       " 'x0_Kiliwater': 0.0006073809007379302,\n",
       " 'x0_Killflora /Community': 5.223700954345864e-05,\n",
       " 'x0_Killflora/ Community': 9.431664717825287e-05,\n",
       " 'x0_Kilol': 3.6989895643608855e-06,\n",
       " 'x0_Kilolo Star': 2.784435303529483e-06,\n",
       " 'x0_Kilomber': 3.1288115729203573e-05,\n",
       " 'x0_Kilwa company': 4.9653618845239004e-05,\n",
       " 'x0_Kilwater': 8.959021785657294e-05,\n",
       " 'x0_Kindoroko water project': 7.816843425030293e-06,\n",
       " 'x0_Kirdep': 4.974862847160053e-05,\n",
       " 'x0_Kitiangare village community': 1.8490500992769763e-06,\n",
       " 'x0_Kitukuni water supply': 1.5460894717438353e-05,\n",
       " 'x0_Kiwanda cha Ngozi': 8.858534838803402e-06,\n",
       " 'x0_Kizenga': 9.066038253476585e-07,\n",
       " 'x0_KkKT': 7.797721304573896e-05,\n",
       " 'x0_Kkkt': 1.661377674559244e-06,\n",
       " 'x0_Ko': 7.091828702130295e-06,\n",
       " 'x0_Kokeni': 7.245364086321444e-05,\n",
       " 'x0_Konoike': 5.8781617969041565e-05,\n",
       " 'x0_Korogwe water works': 8.524665774993078e-05,\n",
       " 'x0_Kuamu': 1.840592351507171e-05,\n",
       " 'x0_Kuji foundation': 3.676915709612633e-06,\n",
       " 'x0_Kuwait': 0.0007422973939147113,\n",
       " 'x0_Kuwaiti': 1.5034351659637347e-05,\n",
       " 'x0_Kuweit': 3.3234129431885147e-06,\n",
       " 'x0_Kwamdulu estate': 2.4102687554887113e-05,\n",
       " 'x0_Kwasenenge Group': 4.46462890719102e-06,\n",
       " 'x0_Kyariga': 8.194399266848697e-06,\n",
       " 'x0_L': 1.6895072267970166e-05,\n",
       " 'x0_LAMP': 3.7231667593774346e-05,\n",
       " 'x0_LENCH': 6.50965085415072e-05,\n",
       " 'x0_LGA': 0.00047762606959800806,\n",
       " 'x0_LGCDG': 4.1570694207239955e-06,\n",
       " 'x0_LGQ': 1.7326854976512548e-06,\n",
       " 'x0_LINDALA CO': 1.5424208646523623e-06,\n",
       " \"x0_LION'S\": 1.0411381092566682e-05,\n",
       " 'x0_LIPS': 1.0728538413756152e-05,\n",
       " 'x0_LIVI': 2.3127452355041785e-05,\n",
       " 'x0_LIZAD': 1.1966754635971673e-06,\n",
       " 'x0_LOCAL CONTRACT': 0.00024340154800589673,\n",
       " 'x0_LOLMOLOKI': 6.463344469365498e-07,\n",
       " 'x0_LOMOLOKI': 1.6400969898808883e-05,\n",
       " 'x0_LONGIDO SEC SCHOOL': 1.621018346201538e-06,\n",
       " 'x0_LOOCIP': 3.978747785901118e-06,\n",
       " 'x0_LUKE SAMARAS LTD': 4.762747148056279e-06,\n",
       " 'x0_LUNGWE': 8.497470053288226e-06,\n",
       " 'x0_LUWASSA': 2.391692889906234e-06,\n",
       " 'x0_LVA Ltd': 9.763281684884409e-06,\n",
       " 'x0_LVIA': 9.335212022700362e-05,\n",
       " 'x0_LWI': 2.9237208893589883e-05,\n",
       " 'x0_Laizer': 5.591814024068857e-07,\n",
       " 'x0_Laramatak': 1.3299565170836095e-06,\n",
       " 'x0_Latifu': 6.744008942227294e-07,\n",
       " 'x0_Lawate fuka water su': 3.740227181579443e-05,\n",
       " 'x0_Lawatefuka water sup': 0.00010731578347918188,\n",
       " 'x0_Leopad Abeid': 1.1468604727009298e-07,\n",
       " 'x0_Lga': 2.8334985852555597e-05,\n",
       " 'x0_Li': 1.0675658370458311e-05,\n",
       " 'x0_Linda': 1.0063904511383221e-05,\n",
       " 'x0_Lindi contractor': 3.949364498843789e-06,\n",
       " 'x0_Lindi rural water department': 3.7871081047068324e-06,\n",
       " \"x0_Lion's\": 2.4472921521277556e-06,\n",
       " \"x0_Lion's club\": 1.075074805888138e-06,\n",
       " 'x0_Lions club kilimanjaro': 9.739588093648945e-06,\n",
       " 'x0_Livi': 3.2643253313642986e-06,\n",
       " 'x0_Living water international': 3.176985517506494e-05,\n",
       " 'x0_Local': 0.00024518771391486907,\n",
       " 'x0_Local  technician': 0.00017143766552792601,\n",
       " 'x0_Local te': 0.00017170026252306608,\n",
       " 'x0_Local technical': 1.9489903959530115e-06,\n",
       " 'x0_Local technical tec': 1.2809695992961898e-05,\n",
       " 'x0_Local technician': 0.00012910735319167187,\n",
       " 'x0_Locall technician': 1.5458472323017523e-07,\n",
       " 'x0_Loliondo Parish': 3.356353833010931e-05,\n",
       " 'x0_Losa-kia water suppl': 2.9130227215045827e-06,\n",
       " 'x0_Losaa-Kia water supp': 2.021774877179096e-05,\n",
       " 'x0_Losakia water supply': 7.303116329966311e-07,\n",
       " 'x0_Luali Kaima': 3.594517347617611e-08,\n",
       " 'x0_Luka': 1.4203966617139878e-07,\n",
       " 'x0_Luleka': 8.869500021500299e-06,\n",
       " 'x0_Luthe': 2.690842386719079e-06,\n",
       " 'x0_Lutheran': 1.1200218351287163e-05,\n",
       " 'x0_Lutheran Church': 2.1632682894261036e-05,\n",
       " 'x0_M': 2.109674844456201e-06,\n",
       " 'x0_M and P': 2.9434561897095604e-06,\n",
       " 'x0_MA': 0.00018874636609837996,\n",
       " 'x0_MACK DONALD CO LTD': 3.992646628707223e-06,\n",
       " 'x0_MACK DONALD CONTRACTOR': 2.2120486828394137e-05,\n",
       " 'x0_MAIVARU': 4.709771042063266e-06,\n",
       " 'x0_MAJ MUGUMU': 2.4504749918999968e-06,\n",
       " 'x0_MAJI MUGUMU': 5.112045926232252e-05,\n",
       " 'x0_MAJI TECH': 9.23420918024657e-06,\n",
       " 'x0_MAKAMA CONSTRUCTION': 1.0124688203315355e-05,\n",
       " 'x0_MAKE ENGINEERING': 3.408559555195747e-05,\n",
       " 'x0_MAMAD': 1.6094923358677294e-05,\n",
       " 'x0_MANDIA CONSTRUCTION': 7.746404933139549e-06,\n",
       " 'x0_MANYARA CONSTRUCTION': 4.5476685461709586e-05,\n",
       " 'x0_MARAFIN': 1.3686906435051891e-05,\n",
       " 'x0_MARAFIP': 9.958242163689223e-05,\n",
       " 'x0_MASAI LAND': 4.340290798799936e-06,\n",
       " 'x0_MASU COMPANY': 3.4486528602185364e-06,\n",
       " 'x0_MASWI': 2.2966127753355898e-05,\n",
       " 'x0_MASWI CO': 6.6046306903417486e-06,\n",
       " 'x0_MASWI DRILL': 3.304347866369099e-05,\n",
       " 'x0_MASWI DRILLING': 2.8248660386106708e-05,\n",
       " 'x0_MAZI INVESTMENT': 2.8685961199052132e-05,\n",
       " 'x0_MBIUSA': 5.065084209701427e-06,\n",
       " 'x0_MBIUWASA': 3.1356651165888716e-05,\n",
       " 'x0_MBOMA': 3.0964631304372335e-05,\n",
       " 'x0_MBULI CO': 9.05828131902518e-06,\n",
       " 'x0_MBULU DISTRICT COUNCIL': 2.1894593736851098e-05,\n",
       " 'x0_MCHOME': 2.7747784806639022e-05,\n",
       " 'x0_MD': 4.6004816723930147e-05,\n",
       " 'x0_MDALA Contractor': 3.099858235206647e-05,\n",
       " 'x0_MDRDP': 0.00014926308005961262,\n",
       " 'x0_MDRD_': 5.401533206328493e-05,\n",
       " 'x0_MECO': 2.0266557714060466e-05,\n",
       " 'x0_MEM': 4.8244087509069755e-05,\n",
       " 'x0_MGM': 3.915884708602513e-05,\n",
       " 'x0_MH Kapuya': 3.275784142526111e-05,\n",
       " 'x0_MI': 6.44089498620768e-05,\n",
       " 'x0_MIAB': 7.799988876321797e-06,\n",
       " 'x0_MIDA': 5.531056492629992e-05,\n",
       " 'x0_MINISTRY OF EDUCATION': 8.573836391301626e-07,\n",
       " 'x0_MINISTRY OF WATER': 5.011424438804341e-05,\n",
       " 'x0_MINISTRYOF WATER': 6.41800690182266e-06,\n",
       " 'x0_MINJINGU': 4.574047303922662e-05,\n",
       " 'x0_MISHENI': 4.969314318433192e-06,\n",
       " 'x0_MISSION': 6.222314302984875e-05,\n",
       " 'x0_MKON CONSTRUCTION': 1.6144452142642144e-07,\n",
       " 'x0_MKONGO CONSTRUCTION': 3.803651764462786e-07,\n",
       " 'x0_ML appro': 8.477490026313446e-05,\n",
       " 'x0_MLADE': 4.83965322276854e-05,\n",
       " 'x0_MLAKI  CO': 7.422578188655169e-06,\n",
       " 'x0_MLAKI CO': 6.130208115095244e-05,\n",
       " 'x0_MMG GOLD MINE': 4.1252504703159464e-05,\n",
       " 'x0_MORNING CONSTRUCTION': 9.714251213224302e-06,\n",
       " 'x0_MOSES': 6.451726686113232e-07,\n",
       " 'x0_MOSQUE': 2.2400734147364175e-06,\n",
       " 'x0_MP': 2.6473243441857133e-05,\n",
       " 'x0_MP Mloka': 1.244446047422199e-06,\n",
       " 'x0_MREMI CONTRACTOR': 1.0194556843629916e-05,\n",
       " 'x0_MS': 2.74711329154225e-05,\n",
       " 'x0_MSABI': 7.610211313040921e-06,\n",
       " 'x0_MSF': 1.927532623783178e-05,\n",
       " 'x0_MSF/TACARE': 1.2338952357754491e-05,\n",
       " 'x0_MSIGWA': 9.314935666846869e-07,\n",
       " 'x0_MSIKIT': 9.517470353058357e-06,\n",
       " 'x0_MSJI MUGUMU': 3.0691281368249537e-06,\n",
       " 'x0_MSUKWA CONSTRUCTION COMPANY': 3.691910638971237e-08,\n",
       " 'x0_MTAMBO': 1.039198157975905e-05,\n",
       " 'x0_MTC': 1.237334459204559e-05,\n",
       " 'x0_MTN': 0.00029054497488065266,\n",
       " 'x0_MTUI': 1.941643457760142e-05,\n",
       " 'x0_MTUWASA': 3.226242684665378e-05,\n",
       " 'x0_MTUWASA and Community': 1.0289392775649329e-05,\n",
       " 'x0_MUSLIMEHEFEN INTERNATIONAL': 4.5185295400391025e-06,\n",
       " 'x0_MUWASA': 7.965556548722646e-05,\n",
       " 'x0_MUWSA': 9.490334948983758e-05,\n",
       " 'x0_MWAKI CONTRACTOR': 1.4618357195481126e-05,\n",
       " 'x0_MWANZA': 1.5678804455072622e-05,\n",
       " 'x0_MWE': 0.00033301181038638346,\n",
       " 'x0_MWE &': 5.085510813963094e-05,\n",
       " 'x0_MWL NGASSA': 9.765851533346324e-07,\n",
       " 'x0_MWS': 2.070496774782889e-05,\n",
       " 'x0_Ma': 0.00013866224325849907,\n",
       " 'x0_Machibya': 3.3282060315432645e-05,\n",
       " 'x0_Mackd': 5.1514898142993986e-05,\n",
       " 'x0_Madra': 1.0345010546214974e-05,\n",
       " 'x0_Maendeleo ya jamii': 1.9480718751767925e-05,\n",
       " 'x0_Magadini Makiwaru wa': 3.4696332617744715e-06,\n",
       " 'x0_Magadini-Makiwaru wa': 0.00030057756308365024,\n",
       " 'x0_Magani': 7.714540622500351e-07,\n",
       " 'x0_Magoma ADP': 2.3314611117650576e-06,\n",
       " 'x0_Magutu Maro': 7.429790659146555e-07,\n",
       " 'x0_Mahita': 1.023314768850918e-05,\n",
       " 'x0_Maji Tech': 5.537146115757541e-05,\n",
       " 'x0_Maji block': 1.045385732040795e-05,\n",
       " 'x0_Maji tech Construction': 8.068861808044353e-06,\n",
       " 'x0_Makanya Sisal Estate': 4.439011802282449e-06,\n",
       " 'x0_Makonde': 9.42749408593174e-06,\n",
       " 'x0_Makonde water Population': 1.305051182268614e-05,\n",
       " 'x0_Makonde water population': 9.689247015608741e-05,\n",
       " 'x0_Makonde water supply': 4.250195127262777e-05,\n",
       " 'x0_Makori': 2.4574849412951873e-06,\n",
       " 'x0_Makoye': 1.149644242365948e-05,\n",
       " 'x0_Makundya': 6.620243126477001e-07,\n",
       " 'x0_Malec': 6.467428036932084e-07,\n",
       " 'x0_Males': 1.8647566468496098e-06,\n",
       " 'x0_Mama Agnes Kagimbo': 1.4919658113958077e-06,\n",
       " 'x0_Mama Hamisa': 2.830118223302831e-07,\n",
       " 'x0_Mama Kalage': 1.356657609509404e-07,\n",
       " 'x0_Mama Kapwapwa': 2.6081069033061395e-06,\n",
       " 'x0_Mama joela': 3.3857046803786937e-06,\n",
       " 'x0_Mamaz': 3.047561675469794e-06,\n",
       " 'x0_Mambe': 8.633668883369731e-07,\n",
       " 'x0_Mamlaka ya maji ngara': 2.2079604056184192e-05,\n",
       " 'x0_Manyota primary School': 5.054349108988736e-06,\n",
       " 'x0_Manyovu Agriculture Institute': 2.590691836989661e-06,\n",
       " 'x0_Mara inter product': 4.7220263304578665e-06,\n",
       " 'x0_Marafip': 6.697623080084881e-05,\n",
       " 'x0_Marijan Ally Dadi': 5.4005197774922586e-06,\n",
       " 'x0_Mark': 1.0137022022549093e-06,\n",
       " 'x0_Marke': 1.9895796278847127e-06,\n",
       " 'x0_Maro': 7.822653774318296e-06,\n",
       " 'x0_Martha Emanuel': 4.983564878162998e-06,\n",
       " 'x0_Marti': 6.707692995202868e-06,\n",
       " 'x0_Marumbo Community': 2.0547554273317817e-05,\n",
       " 'x0_Maseka community': 1.2818521594620499e-05,\n",
       " 'x0_Masele Nzengula': 3.1433839283847736e-06,\n",
       " 'x0_Masese': 1.549637928825875e-06,\n",
       " 'x0_Mashaka M': 1.6690059366146947e-06,\n",
       " 'x0_MasjId Takuar': 7.75728519039718e-06,\n",
       " 'x0_Masjid': 1.4755055411967907e-05,\n",
       " 'x0_Masjid Nnre': 3.0718670841509063e-06,\n",
       " 'x0_Maswi': 5.549346084237504e-05,\n",
       " 'x0_Maswi company': 5.5495860424725395e-05,\n",
       " 'x0_Maswi drilling co ltd': 3.4740169313840577e-06,\n",
       " 'x0_Mataro': 2.68477046397268e-06,\n",
       " 'x0_Matiiti': 1.103828537761247e-05,\n",
       " 'x0_Matogoro': 1.7925419126263025e-06,\n",
       " 'x0_Matyenye': 3.07298782643034e-06,\n",
       " 'x0_Max Mbise': 1.7636231095338747e-06,\n",
       " 'x0_Mbozi District Council': 2.8024353903677656e-05,\n",
       " 'x0_Mbunge': 3.153224458726965e-05,\n",
       " 'x0_Mbusi Mwita': 2.870640719727705e-06,\n",
       " 'x0_Mbwiro': 1.1553914395068495e-07,\n",
       " 'x0_Mchuk': 3.598716417472436e-05,\n",
       " 'x0_Mdala Contractor': 3.06769137838637e-05,\n",
       " 'x0_Member of Perliament Ahmed Ali': 8.713547685192534e-07,\n",
       " 'x0_Meru Concrete': 1.7884659685397498e-06,\n",
       " 'x0_Mgaya': 4.1312422335696986e-07,\n",
       " 'x0_Mgaya Mwita': 4.6475599293437505e-06,\n",
       " 'x0_Mh Kapuya': 1.601790225628199e-05,\n",
       " 'x0_Mh.chiza': 3.7624082394557775e-06,\n",
       " 'x0_Mi': 7.167732889913222e-05,\n",
       " 'x0_Mianz': 3.4515914431784793e-05,\n",
       " 'x0_Milenia': 5.103675519728908e-05,\n",
       " 'x0_Mileniam': 0.00010751751854882646,\n",
       " 'x0_Mileniam project': 0.00013105856072827808,\n",
       " 'x0_Milenium': 8.425691306338837e-06,\n",
       " 'x0_Ministry of water engineer': 5.7865129450994706e-05,\n",
       " 'x0_Misana george': 1.0382382813780993e-05,\n",
       " 'x0_Misri Government': 3.49168066762453e-05,\n",
       " 'x0_Missi': 0.00013078893015444455,\n",
       " 'x0_Missio': 5.259653975152714e-06,\n",
       " 'x0_Mission': 0.0002623484130553476,\n",
       " 'x0_Missionaries': 3.646431954924466e-07,\n",
       " 'x0_Missionary': 1.9201899457529655e-05,\n",
       " 'x0_Miziriol': 3.12627421569085e-05,\n",
       " 'x0_Mkulima': 1.8230434992268015e-07,\n",
       " 'x0_Mkuluku': 7.269166415782688e-06,\n",
       " 'x0_Mkuyu': 2.245989869318798e-05,\n",
       " 'x0_Mohamad Masanga': 3.6245430719513307e-07,\n",
       " 'x0_Mohamed Ally': 1.5313981264543299e-06,\n",
       " 'x0_Mombo urban  water': 3.492756381908091e-06,\n",
       " 'x0_Mombo urban water': 1.8410217035852357e-06,\n",
       " 'x0_Mombo urban water s': 1.4167856747504043e-05,\n",
       " 'x0_Monmali': 4.858420076248103e-06,\n",
       " 'x0_Moravian': 4.1119857274401446e-07,\n",
       " 'x0_Moroil': 2.093709366771085e-05,\n",
       " ...}"
      ]
     },
     "execution_count": 178,
     "metadata": {},
     "output_type": "execute_result"
    }
   ],
   "source": [
    "feature_importances = dict_feature_importances(binary_pipe_1)\n",
    "feature_importances"
   ]
  },
  {
   "cell_type": "code",
   "execution_count": 176,
   "metadata": {},
   "outputs": [
    {
     "data": {
      "text/plain": [
       "['gps_height',\n",
       " 'x9_dry',\n",
       " 'population',\n",
       " 'x9_enough',\n",
       " 'amount_tsh',\n",
       " 'x11_other',\n",
       " 'x6_other',\n",
       " 'x9_insufficient',\n",
       " 'x11_communal standpipe',\n",
       " 'x7_never pay',\n",
       " 'x11_hand pump',\n",
       " 'x0_DWE',\n",
       " 'x5_vwc',\n",
       " 'permit',\n",
       " 'x6_gravity',\n",
       " 'x6_nira/tanira',\n",
       " 'x8_soft',\n",
       " 'x10_spring',\n",
       " 'x9_seasonal',\n",
       " 'x11_communal standpipe multiple']"
      ]
     },
     "execution_count": 176,
     "metadata": {},
     "output_type": "execute_result"
    }
   ],
   "source": [
    "sorted(feature_importances, key=feature_importances.get, reverse=True)[:20]"
   ]
  },
  {
   "cell_type": "code",
   "execution_count": 46,
   "metadata": {},
   "outputs": [
    {
     "data": {
      "text/plain": [
       "0.8485101062721401"
      ]
     },
     "execution_count": 46,
     "metadata": {},
     "output_type": "execute_result"
    }
   ],
   "source": [
    "#best model evaluation on test data\n",
    "gs.score(X_test, y_test)"
   ]
  },
  {
   "cell_type": "code",
   "execution_count": 46,
   "metadata": {},
   "outputs": [
    {
     "data": {
      "text/plain": [
       "0.8485101062721401"
      ]
     },
     "execution_count": 46,
     "metadata": {},
     "output_type": "execute_result"
    }
   ],
   "source": [
    "binary_pipe_1.score(X_test, y_test)"
   ]
  },
  {
   "cell_type": "markdown",
   "metadata": {},
   "source": [
    "## Visualizations"
   ]
  },
  {
   "cell_type": "code",
   "execution_count": 47,
   "metadata": {},
   "outputs": [],
   "source": [
    "y_preds = binary_pipe_1.predict(X_test)"
   ]
  },
  {
   "cell_type": "code",
   "execution_count": 48,
   "metadata": {},
   "outputs": [
    {
     "data": {
      "image/png": "[encoded data removed]",
      "text/plain": [
       "<Figure size 432x288 with 2 Axes>"
      ]
     },
     "metadata": {
      "needs_background": "light"
     },
     "output_type": "display_data"
    }
   ],
   "source": [
    "#confusion matrix of final model on test data\n",
    "plot_confusion_matrix(binary_pipe_1, X_test, y_test);"
   ]
  },
  {
   "cell_type": "code",
   "execution_count": 49,
   "metadata": {},
   "outputs": [
    {
     "data": {
      "text/plain": [
       "array([[8131,  748],\n",
       "       [1433, 4085]], dtype=int64)"
      ]
     },
     "execution_count": 49,
     "metadata": {},
     "output_type": "execute_result"
    }
   ],
   "source": [
    "conf_matrix = confusion_matrix(y_test, y_preds)\n",
    "conf_matrix"
   ]
  },
  {
   "cell_type": "code",
   "execution_count": 50,
   "metadata": {
    "scrolled": true
   },
   "outputs": [
    {
     "data": {
      "image/png": "[encoded data removed]",
      "text/plain": [
       "<Figure size 432x288 with 1 Axes>"
      ]
     },
     "metadata": {
      "needs_background": "light"
     },
     "output_type": "display_data"
    }
   ],
   "source": [
    "fig, ax = plt.subplots()\n",
    "\n",
    "true_func = conf_matrix[0][0]\n",
    "false_nonfunc = conf_matrix[0][1]\n",
    "true_nonfunc = conf_matrix[1][1]\n",
    "false_func = conf_matrix[1][0]\n",
    "\n",
    "labels = ['Functional', 'Non-functional']\n",
    "correct_predict = [true_func, true_nonfunc]\n",
    "incorrect_predict = [false_nonfunc, false_func]\n",
    "\n",
    "ax.bar(labels, correct_predict, width=0.5, label='Correctly Predicted')\n",
    "ax.bar(labels, incorrect_predict, width=0.5, \n",
    "       bottom=correct_predict, label='Incorrectly Predicted')\n",
    "\n",
    "ax.set_ylim(0, 10_500)\n",
    "ax.get_yaxis().set_major_formatter(\n",
    "matplotlib.ticker.FuncFormatter(lambda x, p: format(int(x), ',')))\n",
    "\n",
    "#annotations\n",
    "plt.annotate('92% Correct', (-0.15, 9_100))\n",
    "plt.annotate('74% Correct', (0.85, 5_750))\n",
    "\n",
    "ax.set_ylabel('Counts')\n",
    "ax.set_xlabel('Categories')\n",
    "ax.set_title('Prediction Results')\n",
    "ax.legend();\n",
    "\n",
    "plt.savefig('model_prediction_results.png')"
   ]
  },
  {
   "cell_type": "markdown",
   "metadata": {},
   "source": [
    "# Model with Engineered 'Distance' Feature"
   ]
  },
  {
   "cell_type": "code",
   "execution_count": 59,
   "metadata": {},
   "outputs": [],
   "source": [
    "picked_features = ['amount_tsh', 'installer', 'gps_height', 'basin', 'region', 'district_code', 'lga', 'population', \n",
    "                   'public_meeting', 'management', 'permit', 'extraction_type', 'payment', 'water_quality', 'quantity', \n",
    "                   'source', 'waterpoint_type', 'distance']"
   ]
  },
  {
   "cell_type": "code",
   "execution_count": 60,
   "metadata": {},
   "outputs": [
    {
     "data": {
      "text/plain": [
       "(['amount_tsh', 'gps_height', 'population', 'distance'],\n",
       " ['installer',\n",
       "  'basin',\n",
       "  'region',\n",
       "  'district_code',\n",
       "  'lga',\n",
       "  'management',\n",
       "  'extraction_type',\n",
       "  'payment',\n",
       "  'water_quality',\n",
       "  'quantity',\n",
       "  'source',\n",
       "  'waterpoint_type'],\n",
       " ['public_meeting', 'permit'])"
      ]
     },
     "execution_count": 60,
     "metadata": {},
     "output_type": "execute_result"
    }
   ],
   "source": [
    "features_type = GrabTypes(picked_features, df_binary)\n",
    "features_type"
   ]
  },
  {
   "cell_type": "code",
   "execution_count": 61,
   "metadata": {},
   "outputs": [],
   "source": [
    "CT = ColumnTransformer(transformers=[('subpipe_num', subpipe_num, features_type[0]),\n",
    "                                     ('subpipe_cat', subpipe_cat, features_type[1]),\n",
    "                                     ('subpipe_bool', subpipe_bool, features_type[2])],\n",
    "                       remainder='drop')"
   ]
  },
  {
   "cell_type": "code",
   "execution_count": 62,
   "metadata": {},
   "outputs": [],
   "source": [
    "rfc = RandomForestClassifier(random_state=42)\n",
    "\n",
    "feature_pipe = Pipeline(steps = [('ct', CT),\n",
    "                            ('rfc', rfc )])"
   ]
  },
  {
   "cell_type": "code",
   "execution_count": 63,
   "metadata": {},
   "outputs": [],
   "source": [
    "params = {'rfc__n_estimators':[200],\n",
    "          'rfc__max_depth':[None, 30],\n",
    "          'rfc__min_samples_leaf': [1, 10],\n",
    "          'rfc__min_samples_split': [10, 15], \n",
    "          'rfc__max_leaf_nodes': [None, 25]}\n",
    "gs = GridSearchCV(estimator = feature_pipe, param_grid = params, cv=5, verbose=3)"
   ]
  },
  {
   "cell_type": "code",
   "execution_count": 58,
   "metadata": {
    "scrolled": true
   },
   "outputs": [
    {
     "name": "stdout",
     "output_type": "stream",
     "text": [
      "Fitting 5 folds for each of 32 candidates, totalling 160 fits\n",
      "[CV] rfc__max_depth=None, rfc__max_features=sqrt, rfc__max_leaf_nodes=None, rfc__min_samples_leaf=1, rfc__min_samples_split=10, rfc__n_estimators=200 \n"
     ]
    },
    {
     "name": "stderr",
     "output_type": "stream",
     "text": [
      "[Parallel(n_jobs=1)]: Using backend SequentialBackend with 1 concurrent workers.\n"
     ]
    },
    {
     "name": "stdout",
     "output_type": "stream",
     "text": [
      "[CV]  rfc__max_depth=None, rfc__max_features=sqrt, rfc__max_leaf_nodes=None, rfc__min_samples_leaf=1, rfc__min_samples_split=10, rfc__n_estimators=200, score=0.791, total= 3.1min\n",
      "[CV] rfc__max_depth=None, rfc__max_features=sqrt, rfc__max_leaf_nodes=None, rfc__min_samples_leaf=1, rfc__min_samples_split=10, rfc__n_estimators=200 \n"
     ]
    },
    {
     "name": "stderr",
     "output_type": "stream",
     "text": [
      "[Parallel(n_jobs=1)]: Done   1 out of   1 | elapsed:  3.1min remaining:    0.0s\n"
     ]
    },
    {
     "name": "stdout",
     "output_type": "stream",
     "text": [
      "[CV]  rfc__max_depth=None, rfc__max_features=sqrt, rfc__max_leaf_nodes=None, rfc__min_samples_leaf=1, rfc__min_samples_split=10, rfc__n_estimators=200, score=0.790, total= 3.0min\n",
      "[CV] rfc__max_depth=None, rfc__max_features=sqrt, rfc__max_leaf_nodes=None, rfc__min_samples_leaf=1, rfc__min_samples_split=10, rfc__n_estimators=200 \n"
     ]
    },
    {
     "name": "stderr",
     "output_type": "stream",
     "text": [
      "[Parallel(n_jobs=1)]: Done   2 out of   2 | elapsed:  6.0min remaining:    0.0s\n"
     ]
    },
    {
     "ename": "KeyboardInterrupt",
     "evalue": "",
     "output_type": "error",
     "traceback": [
      "\u001b[1;31m---------------------------------------------------------------------------\u001b[0m",
      "\u001b[1;31mKeyboardInterrupt\u001b[0m                         Traceback (most recent call last)",
      "\u001b[1;32m<ipython-input-58-dd947cb3301f>\u001b[0m in \u001b[0;36m<module>\u001b[1;34m\u001b[0m\n\u001b[1;32m----> 1\u001b[1;33m \u001b[0mgs\u001b[0m\u001b[1;33m.\u001b[0m\u001b[0mfit\u001b[0m\u001b[1;33m(\u001b[0m\u001b[0mX_train\u001b[0m\u001b[1;33m,\u001b[0m \u001b[0my_train\u001b[0m\u001b[1;33m)\u001b[0m\u001b[1;33m\u001b[0m\u001b[1;33m\u001b[0m\u001b[0m\n\u001b[0m",
      "\u001b[1;32m~\\anaconda3\\envs\\learn-env\\lib\\site-packages\\sklearn\\utils\\validation.py\u001b[0m in \u001b[0;36minner_f\u001b[1;34m(*args, **kwargs)\u001b[0m\n\u001b[0;32m     70\u001b[0m                           FutureWarning)\n\u001b[0;32m     71\u001b[0m         \u001b[0mkwargs\u001b[0m\u001b[1;33m.\u001b[0m\u001b[0mupdate\u001b[0m\u001b[1;33m(\u001b[0m\u001b[1;33m{\u001b[0m\u001b[0mk\u001b[0m\u001b[1;33m:\u001b[0m \u001b[0marg\u001b[0m \u001b[1;32mfor\u001b[0m \u001b[0mk\u001b[0m\u001b[1;33m,\u001b[0m \u001b[0marg\u001b[0m \u001b[1;32min\u001b[0m \u001b[0mzip\u001b[0m\u001b[1;33m(\u001b[0m\u001b[0msig\u001b[0m\u001b[1;33m.\u001b[0m\u001b[0mparameters\u001b[0m\u001b[1;33m,\u001b[0m \u001b[0margs\u001b[0m\u001b[1;33m)\u001b[0m\u001b[1;33m}\u001b[0m\u001b[1;33m)\u001b[0m\u001b[1;33m\u001b[0m\u001b[1;33m\u001b[0m\u001b[0m\n\u001b[1;32m---> 72\u001b[1;33m         \u001b[1;32mreturn\u001b[0m \u001b[0mf\u001b[0m\u001b[1;33m(\u001b[0m\u001b[1;33m**\u001b[0m\u001b[0mkwargs\u001b[0m\u001b[1;33m)\u001b[0m\u001b[1;33m\u001b[0m\u001b[1;33m\u001b[0m\u001b[0m\n\u001b[0m\u001b[0;32m     73\u001b[0m     \u001b[1;32mreturn\u001b[0m \u001b[0minner_f\u001b[0m\u001b[1;33m\u001b[0m\u001b[1;33m\u001b[0m\u001b[0m\n\u001b[0;32m     74\u001b[0m \u001b[1;33m\u001b[0m\u001b[0m\n",
      "\u001b[1;32m~\\anaconda3\\envs\\learn-env\\lib\\site-packages\\sklearn\\model_selection\\_search.py\u001b[0m in \u001b[0;36mfit\u001b[1;34m(self, X, y, groups, **fit_params)\u001b[0m\n\u001b[0;32m    734\u001b[0m                 \u001b[1;32mreturn\u001b[0m \u001b[0mresults\u001b[0m\u001b[1;33m\u001b[0m\u001b[1;33m\u001b[0m\u001b[0m\n\u001b[0;32m    735\u001b[0m \u001b[1;33m\u001b[0m\u001b[0m\n\u001b[1;32m--> 736\u001b[1;33m             \u001b[0mself\u001b[0m\u001b[1;33m.\u001b[0m\u001b[0m_run_search\u001b[0m\u001b[1;33m(\u001b[0m\u001b[0mevaluate_candidates\u001b[0m\u001b[1;33m)\u001b[0m\u001b[1;33m\u001b[0m\u001b[1;33m\u001b[0m\u001b[0m\n\u001b[0m\u001b[0;32m    737\u001b[0m \u001b[1;33m\u001b[0m\u001b[0m\n\u001b[0;32m    738\u001b[0m         \u001b[1;31m# For multi-metric evaluation, store the best_index_, best_params_ and\u001b[0m\u001b[1;33m\u001b[0m\u001b[1;33m\u001b[0m\u001b[1;33m\u001b[0m\u001b[0m\n",
      "\u001b[1;32m~\\anaconda3\\envs\\learn-env\\lib\\site-packages\\sklearn\\model_selection\\_search.py\u001b[0m in \u001b[0;36m_run_search\u001b[1;34m(self, evaluate_candidates)\u001b[0m\n\u001b[0;32m   1186\u001b[0m     \u001b[1;32mdef\u001b[0m \u001b[0m_run_search\u001b[0m\u001b[1;33m(\u001b[0m\u001b[0mself\u001b[0m\u001b[1;33m,\u001b[0m \u001b[0mevaluate_candidates\u001b[0m\u001b[1;33m)\u001b[0m\u001b[1;33m:\u001b[0m\u001b[1;33m\u001b[0m\u001b[1;33m\u001b[0m\u001b[0m\n\u001b[0;32m   1187\u001b[0m         \u001b[1;34m\"\"\"Search all candidates in param_grid\"\"\"\u001b[0m\u001b[1;33m\u001b[0m\u001b[1;33m\u001b[0m\u001b[0m\n\u001b[1;32m-> 1188\u001b[1;33m         \u001b[0mevaluate_candidates\u001b[0m\u001b[1;33m(\u001b[0m\u001b[0mParameterGrid\u001b[0m\u001b[1;33m(\u001b[0m\u001b[0mself\u001b[0m\u001b[1;33m.\u001b[0m\u001b[0mparam_grid\u001b[0m\u001b[1;33m)\u001b[0m\u001b[1;33m)\u001b[0m\u001b[1;33m\u001b[0m\u001b[1;33m\u001b[0m\u001b[0m\n\u001b[0m\u001b[0;32m   1189\u001b[0m \u001b[1;33m\u001b[0m\u001b[0m\n\u001b[0;32m   1190\u001b[0m \u001b[1;33m\u001b[0m\u001b[0m\n",
      "\u001b[1;32m~\\anaconda3\\envs\\learn-env\\lib\\site-packages\\sklearn\\model_selection\\_search.py\u001b[0m in \u001b[0;36mevaluate_candidates\u001b[1;34m(candidate_params)\u001b[0m\n\u001b[0;32m    706\u001b[0m                               n_splits, n_candidates, n_candidates * n_splits))\n\u001b[0;32m    707\u001b[0m \u001b[1;33m\u001b[0m\u001b[0m\n\u001b[1;32m--> 708\u001b[1;33m                 out = parallel(delayed(_fit_and_score)(clone(base_estimator),\n\u001b[0m\u001b[0;32m    709\u001b[0m                                                        \u001b[0mX\u001b[0m\u001b[1;33m,\u001b[0m \u001b[0my\u001b[0m\u001b[1;33m,\u001b[0m\u001b[1;33m\u001b[0m\u001b[1;33m\u001b[0m\u001b[0m\n\u001b[0;32m    710\u001b[0m                                                        \u001b[0mtrain\u001b[0m\u001b[1;33m=\u001b[0m\u001b[0mtrain\u001b[0m\u001b[1;33m,\u001b[0m \u001b[0mtest\u001b[0m\u001b[1;33m=\u001b[0m\u001b[0mtest\u001b[0m\u001b[1;33m,\u001b[0m\u001b[1;33m\u001b[0m\u001b[1;33m\u001b[0m\u001b[0m\n",
      "\u001b[1;32m~\\anaconda3\\envs\\learn-env\\lib\\site-packages\\joblib\\parallel.py\u001b[0m in \u001b[0;36m__call__\u001b[1;34m(self, iterable)\u001b[0m\n\u001b[0;32m   1049\u001b[0m                 \u001b[0mself\u001b[0m\u001b[1;33m.\u001b[0m\u001b[0m_iterating\u001b[0m \u001b[1;33m=\u001b[0m \u001b[0mself\u001b[0m\u001b[1;33m.\u001b[0m\u001b[0m_original_iterator\u001b[0m \u001b[1;32mis\u001b[0m \u001b[1;32mnot\u001b[0m \u001b[1;32mNone\u001b[0m\u001b[1;33m\u001b[0m\u001b[1;33m\u001b[0m\u001b[0m\n\u001b[0;32m   1050\u001b[0m \u001b[1;33m\u001b[0m\u001b[0m\n\u001b[1;32m-> 1051\u001b[1;33m             \u001b[1;32mwhile\u001b[0m \u001b[0mself\u001b[0m\u001b[1;33m.\u001b[0m\u001b[0mdispatch_one_batch\u001b[0m\u001b[1;33m(\u001b[0m\u001b[0miterator\u001b[0m\u001b[1;33m)\u001b[0m\u001b[1;33m:\u001b[0m\u001b[1;33m\u001b[0m\u001b[1;33m\u001b[0m\u001b[0m\n\u001b[0m\u001b[0;32m   1052\u001b[0m                 \u001b[1;32mpass\u001b[0m\u001b[1;33m\u001b[0m\u001b[1;33m\u001b[0m\u001b[0m\n\u001b[0;32m   1053\u001b[0m \u001b[1;33m\u001b[0m\u001b[0m\n",
      "\u001b[1;32m~\\anaconda3\\envs\\learn-env\\lib\\site-packages\\joblib\\parallel.py\u001b[0m in \u001b[0;36mdispatch_one_batch\u001b[1;34m(self, iterator)\u001b[0m\n\u001b[0;32m    864\u001b[0m                 \u001b[1;32mreturn\u001b[0m \u001b[1;32mFalse\u001b[0m\u001b[1;33m\u001b[0m\u001b[1;33m\u001b[0m\u001b[0m\n\u001b[0;32m    865\u001b[0m             \u001b[1;32melse\u001b[0m\u001b[1;33m:\u001b[0m\u001b[1;33m\u001b[0m\u001b[1;33m\u001b[0m\u001b[0m\n\u001b[1;32m--> 866\u001b[1;33m                 \u001b[0mself\u001b[0m\u001b[1;33m.\u001b[0m\u001b[0m_dispatch\u001b[0m\u001b[1;33m(\u001b[0m\u001b[0mtasks\u001b[0m\u001b[1;33m)\u001b[0m\u001b[1;33m\u001b[0m\u001b[1;33m\u001b[0m\u001b[0m\n\u001b[0m\u001b[0;32m    867\u001b[0m                 \u001b[1;32mreturn\u001b[0m \u001b[1;32mTrue\u001b[0m\u001b[1;33m\u001b[0m\u001b[1;33m\u001b[0m\u001b[0m\n\u001b[0;32m    868\u001b[0m \u001b[1;33m\u001b[0m\u001b[0m\n",
      "\u001b[1;32m~\\anaconda3\\envs\\learn-env\\lib\\site-packages\\joblib\\parallel.py\u001b[0m in \u001b[0;36m_dispatch\u001b[1;34m(self, batch)\u001b[0m\n\u001b[0;32m    782\u001b[0m         \u001b[1;32mwith\u001b[0m \u001b[0mself\u001b[0m\u001b[1;33m.\u001b[0m\u001b[0m_lock\u001b[0m\u001b[1;33m:\u001b[0m\u001b[1;33m\u001b[0m\u001b[1;33m\u001b[0m\u001b[0m\n\u001b[0;32m    783\u001b[0m             \u001b[0mjob_idx\u001b[0m \u001b[1;33m=\u001b[0m \u001b[0mlen\u001b[0m\u001b[1;33m(\u001b[0m\u001b[0mself\u001b[0m\u001b[1;33m.\u001b[0m\u001b[0m_jobs\u001b[0m\u001b[1;33m)\u001b[0m\u001b[1;33m\u001b[0m\u001b[1;33m\u001b[0m\u001b[0m\n\u001b[1;32m--> 784\u001b[1;33m             \u001b[0mjob\u001b[0m \u001b[1;33m=\u001b[0m \u001b[0mself\u001b[0m\u001b[1;33m.\u001b[0m\u001b[0m_backend\u001b[0m\u001b[1;33m.\u001b[0m\u001b[0mapply_async\u001b[0m\u001b[1;33m(\u001b[0m\u001b[0mbatch\u001b[0m\u001b[1;33m,\u001b[0m \u001b[0mcallback\u001b[0m\u001b[1;33m=\u001b[0m\u001b[0mcb\u001b[0m\u001b[1;33m)\u001b[0m\u001b[1;33m\u001b[0m\u001b[1;33m\u001b[0m\u001b[0m\n\u001b[0m\u001b[0;32m    785\u001b[0m             \u001b[1;31m# A job can complete so quickly than its callback is\u001b[0m\u001b[1;33m\u001b[0m\u001b[1;33m\u001b[0m\u001b[1;33m\u001b[0m\u001b[0m\n\u001b[0;32m    786\u001b[0m             \u001b[1;31m# called before we get here, causing self._jobs to\u001b[0m\u001b[1;33m\u001b[0m\u001b[1;33m\u001b[0m\u001b[1;33m\u001b[0m\u001b[0m\n",
      "\u001b[1;32m~\\anaconda3\\envs\\learn-env\\lib\\site-packages\\joblib\\_parallel_backends.py\u001b[0m in \u001b[0;36mapply_async\u001b[1;34m(self, func, callback)\u001b[0m\n\u001b[0;32m    206\u001b[0m     \u001b[1;32mdef\u001b[0m \u001b[0mapply_async\u001b[0m\u001b[1;33m(\u001b[0m\u001b[0mself\u001b[0m\u001b[1;33m,\u001b[0m \u001b[0mfunc\u001b[0m\u001b[1;33m,\u001b[0m \u001b[0mcallback\u001b[0m\u001b[1;33m=\u001b[0m\u001b[1;32mNone\u001b[0m\u001b[1;33m)\u001b[0m\u001b[1;33m:\u001b[0m\u001b[1;33m\u001b[0m\u001b[1;33m\u001b[0m\u001b[0m\n\u001b[0;32m    207\u001b[0m         \u001b[1;34m\"\"\"Schedule a func to be run\"\"\"\u001b[0m\u001b[1;33m\u001b[0m\u001b[1;33m\u001b[0m\u001b[0m\n\u001b[1;32m--> 208\u001b[1;33m         \u001b[0mresult\u001b[0m \u001b[1;33m=\u001b[0m \u001b[0mImmediateResult\u001b[0m\u001b[1;33m(\u001b[0m\u001b[0mfunc\u001b[0m\u001b[1;33m)\u001b[0m\u001b[1;33m\u001b[0m\u001b[1;33m\u001b[0m\u001b[0m\n\u001b[0m\u001b[0;32m    209\u001b[0m         \u001b[1;32mif\u001b[0m \u001b[0mcallback\u001b[0m\u001b[1;33m:\u001b[0m\u001b[1;33m\u001b[0m\u001b[1;33m\u001b[0m\u001b[0m\n\u001b[0;32m    210\u001b[0m             \u001b[0mcallback\u001b[0m\u001b[1;33m(\u001b[0m\u001b[0mresult\u001b[0m\u001b[1;33m)\u001b[0m\u001b[1;33m\u001b[0m\u001b[1;33m\u001b[0m\u001b[0m\n",
      "\u001b[1;32m~\\anaconda3\\envs\\learn-env\\lib\\site-packages\\joblib\\_parallel_backends.py\u001b[0m in \u001b[0;36m__init__\u001b[1;34m(self, batch)\u001b[0m\n\u001b[0;32m    570\u001b[0m         \u001b[1;31m# Don't delay the application, to avoid keeping the input\u001b[0m\u001b[1;33m\u001b[0m\u001b[1;33m\u001b[0m\u001b[1;33m\u001b[0m\u001b[0m\n\u001b[0;32m    571\u001b[0m         \u001b[1;31m# arguments in memory\u001b[0m\u001b[1;33m\u001b[0m\u001b[1;33m\u001b[0m\u001b[1;33m\u001b[0m\u001b[0m\n\u001b[1;32m--> 572\u001b[1;33m         \u001b[0mself\u001b[0m\u001b[1;33m.\u001b[0m\u001b[0mresults\u001b[0m \u001b[1;33m=\u001b[0m \u001b[0mbatch\u001b[0m\u001b[1;33m(\u001b[0m\u001b[1;33m)\u001b[0m\u001b[1;33m\u001b[0m\u001b[1;33m\u001b[0m\u001b[0m\n\u001b[0m\u001b[0;32m    573\u001b[0m \u001b[1;33m\u001b[0m\u001b[0m\n\u001b[0;32m    574\u001b[0m     \u001b[1;32mdef\u001b[0m \u001b[0mget\u001b[0m\u001b[1;33m(\u001b[0m\u001b[0mself\u001b[0m\u001b[1;33m)\u001b[0m\u001b[1;33m:\u001b[0m\u001b[1;33m\u001b[0m\u001b[1;33m\u001b[0m\u001b[0m\n",
      "\u001b[1;32m~\\anaconda3\\envs\\learn-env\\lib\\site-packages\\joblib\\parallel.py\u001b[0m in \u001b[0;36m__call__\u001b[1;34m(self)\u001b[0m\n\u001b[0;32m    260\u001b[0m         \u001b[1;31m# change the default number of processes to -1\u001b[0m\u001b[1;33m\u001b[0m\u001b[1;33m\u001b[0m\u001b[1;33m\u001b[0m\u001b[0m\n\u001b[0;32m    261\u001b[0m         \u001b[1;32mwith\u001b[0m \u001b[0mparallel_backend\u001b[0m\u001b[1;33m(\u001b[0m\u001b[0mself\u001b[0m\u001b[1;33m.\u001b[0m\u001b[0m_backend\u001b[0m\u001b[1;33m,\u001b[0m \u001b[0mn_jobs\u001b[0m\u001b[1;33m=\u001b[0m\u001b[0mself\u001b[0m\u001b[1;33m.\u001b[0m\u001b[0m_n_jobs\u001b[0m\u001b[1;33m)\u001b[0m\u001b[1;33m:\u001b[0m\u001b[1;33m\u001b[0m\u001b[1;33m\u001b[0m\u001b[0m\n\u001b[1;32m--> 262\u001b[1;33m             return [func(*args, **kwargs)\n\u001b[0m\u001b[0;32m    263\u001b[0m                     for func, args, kwargs in self.items]\n\u001b[0;32m    264\u001b[0m \u001b[1;33m\u001b[0m\u001b[0m\n",
      "\u001b[1;32m~\\anaconda3\\envs\\learn-env\\lib\\site-packages\\joblib\\parallel.py\u001b[0m in \u001b[0;36m<listcomp>\u001b[1;34m(.0)\u001b[0m\n\u001b[0;32m    260\u001b[0m         \u001b[1;31m# change the default number of processes to -1\u001b[0m\u001b[1;33m\u001b[0m\u001b[1;33m\u001b[0m\u001b[1;33m\u001b[0m\u001b[0m\n\u001b[0;32m    261\u001b[0m         \u001b[1;32mwith\u001b[0m \u001b[0mparallel_backend\u001b[0m\u001b[1;33m(\u001b[0m\u001b[0mself\u001b[0m\u001b[1;33m.\u001b[0m\u001b[0m_backend\u001b[0m\u001b[1;33m,\u001b[0m \u001b[0mn_jobs\u001b[0m\u001b[1;33m=\u001b[0m\u001b[0mself\u001b[0m\u001b[1;33m.\u001b[0m\u001b[0m_n_jobs\u001b[0m\u001b[1;33m)\u001b[0m\u001b[1;33m:\u001b[0m\u001b[1;33m\u001b[0m\u001b[1;33m\u001b[0m\u001b[0m\n\u001b[1;32m--> 262\u001b[1;33m             return [func(*args, **kwargs)\n\u001b[0m\u001b[0;32m    263\u001b[0m                     for func, args, kwargs in self.items]\n\u001b[0;32m    264\u001b[0m \u001b[1;33m\u001b[0m\u001b[0m\n",
      "\u001b[1;32m~\\anaconda3\\envs\\learn-env\\lib\\site-packages\\sklearn\\model_selection\\_validation.py\u001b[0m in \u001b[0;36m_fit_and_score\u001b[1;34m(estimator, X, y, scorer, train, test, verbose, parameters, fit_params, return_train_score, return_parameters, return_n_test_samples, return_times, return_estimator, error_score)\u001b[0m\n\u001b[0;32m    529\u001b[0m             \u001b[0mestimator\u001b[0m\u001b[1;33m.\u001b[0m\u001b[0mfit\u001b[0m\u001b[1;33m(\u001b[0m\u001b[0mX_train\u001b[0m\u001b[1;33m,\u001b[0m \u001b[1;33m**\u001b[0m\u001b[0mfit_params\u001b[0m\u001b[1;33m)\u001b[0m\u001b[1;33m\u001b[0m\u001b[1;33m\u001b[0m\u001b[0m\n\u001b[0;32m    530\u001b[0m         \u001b[1;32melse\u001b[0m\u001b[1;33m:\u001b[0m\u001b[1;33m\u001b[0m\u001b[1;33m\u001b[0m\u001b[0m\n\u001b[1;32m--> 531\u001b[1;33m             \u001b[0mestimator\u001b[0m\u001b[1;33m.\u001b[0m\u001b[0mfit\u001b[0m\u001b[1;33m(\u001b[0m\u001b[0mX_train\u001b[0m\u001b[1;33m,\u001b[0m \u001b[0my_train\u001b[0m\u001b[1;33m,\u001b[0m \u001b[1;33m**\u001b[0m\u001b[0mfit_params\u001b[0m\u001b[1;33m)\u001b[0m\u001b[1;33m\u001b[0m\u001b[1;33m\u001b[0m\u001b[0m\n\u001b[0m\u001b[0;32m    532\u001b[0m \u001b[1;33m\u001b[0m\u001b[0m\n\u001b[0;32m    533\u001b[0m     \u001b[1;32mexcept\u001b[0m \u001b[0mException\u001b[0m \u001b[1;32mas\u001b[0m \u001b[0me\u001b[0m\u001b[1;33m:\u001b[0m\u001b[1;33m\u001b[0m\u001b[1;33m\u001b[0m\u001b[0m\n",
      "\u001b[1;32m~\\anaconda3\\envs\\learn-env\\lib\\site-packages\\sklearn\\pipeline.py\u001b[0m in \u001b[0;36mfit\u001b[1;34m(self, X, y, **fit_params)\u001b[0m\n\u001b[0;32m    333\u001b[0m             \u001b[1;32mif\u001b[0m \u001b[0mself\u001b[0m\u001b[1;33m.\u001b[0m\u001b[0m_final_estimator\u001b[0m \u001b[1;33m!=\u001b[0m \u001b[1;34m'passthrough'\u001b[0m\u001b[1;33m:\u001b[0m\u001b[1;33m\u001b[0m\u001b[1;33m\u001b[0m\u001b[0m\n\u001b[0;32m    334\u001b[0m                 \u001b[0mfit_params_last_step\u001b[0m \u001b[1;33m=\u001b[0m \u001b[0mfit_params_steps\u001b[0m\u001b[1;33m[\u001b[0m\u001b[0mself\u001b[0m\u001b[1;33m.\u001b[0m\u001b[0msteps\u001b[0m\u001b[1;33m[\u001b[0m\u001b[1;33m-\u001b[0m\u001b[1;36m1\u001b[0m\u001b[1;33m]\u001b[0m\u001b[1;33m[\u001b[0m\u001b[1;36m0\u001b[0m\u001b[1;33m]\u001b[0m\u001b[1;33m]\u001b[0m\u001b[1;33m\u001b[0m\u001b[1;33m\u001b[0m\u001b[0m\n\u001b[1;32m--> 335\u001b[1;33m                 \u001b[0mself\u001b[0m\u001b[1;33m.\u001b[0m\u001b[0m_final_estimator\u001b[0m\u001b[1;33m.\u001b[0m\u001b[0mfit\u001b[0m\u001b[1;33m(\u001b[0m\u001b[0mXt\u001b[0m\u001b[1;33m,\u001b[0m \u001b[0my\u001b[0m\u001b[1;33m,\u001b[0m \u001b[1;33m**\u001b[0m\u001b[0mfit_params_last_step\u001b[0m\u001b[1;33m)\u001b[0m\u001b[1;33m\u001b[0m\u001b[1;33m\u001b[0m\u001b[0m\n\u001b[0m\u001b[0;32m    336\u001b[0m \u001b[1;33m\u001b[0m\u001b[0m\n\u001b[0;32m    337\u001b[0m         \u001b[1;32mreturn\u001b[0m \u001b[0mself\u001b[0m\u001b[1;33m\u001b[0m\u001b[1;33m\u001b[0m\u001b[0m\n",
      "\u001b[1;32m~\\anaconda3\\envs\\learn-env\\lib\\site-packages\\sklearn\\ensemble\\_forest.py\u001b[0m in \u001b[0;36mfit\u001b[1;34m(self, X, y, sample_weight)\u001b[0m\n\u001b[0;32m    384\u001b[0m             \u001b[1;31m# parallel_backend contexts set at a higher level,\u001b[0m\u001b[1;33m\u001b[0m\u001b[1;33m\u001b[0m\u001b[1;33m\u001b[0m\u001b[0m\n\u001b[0;32m    385\u001b[0m             \u001b[1;31m# since correctness does not rely on using threads.\u001b[0m\u001b[1;33m\u001b[0m\u001b[1;33m\u001b[0m\u001b[1;33m\u001b[0m\u001b[0m\n\u001b[1;32m--> 386\u001b[1;33m             trees = Parallel(n_jobs=self.n_jobs, verbose=self.verbose,\n\u001b[0m\u001b[0;32m    387\u001b[0m                              \u001b[1;33m**\u001b[0m\u001b[0m_joblib_parallel_args\u001b[0m\u001b[1;33m(\u001b[0m\u001b[0mprefer\u001b[0m\u001b[1;33m=\u001b[0m\u001b[1;34m'threads'\u001b[0m\u001b[1;33m)\u001b[0m\u001b[1;33m)\u001b[0m\u001b[1;33m(\u001b[0m\u001b[1;33m\u001b[0m\u001b[1;33m\u001b[0m\u001b[0m\n\u001b[0;32m    388\u001b[0m                 delayed(_parallel_build_trees)(\n",
      "\u001b[1;32m~\\anaconda3\\envs\\learn-env\\lib\\site-packages\\joblib\\parallel.py\u001b[0m in \u001b[0;36m__call__\u001b[1;34m(self, iterable)\u001b[0m\n\u001b[0;32m   1049\u001b[0m                 \u001b[0mself\u001b[0m\u001b[1;33m.\u001b[0m\u001b[0m_iterating\u001b[0m \u001b[1;33m=\u001b[0m \u001b[0mself\u001b[0m\u001b[1;33m.\u001b[0m\u001b[0m_original_iterator\u001b[0m \u001b[1;32mis\u001b[0m \u001b[1;32mnot\u001b[0m \u001b[1;32mNone\u001b[0m\u001b[1;33m\u001b[0m\u001b[1;33m\u001b[0m\u001b[0m\n\u001b[0;32m   1050\u001b[0m \u001b[1;33m\u001b[0m\u001b[0m\n\u001b[1;32m-> 1051\u001b[1;33m             \u001b[1;32mwhile\u001b[0m \u001b[0mself\u001b[0m\u001b[1;33m.\u001b[0m\u001b[0mdispatch_one_batch\u001b[0m\u001b[1;33m(\u001b[0m\u001b[0miterator\u001b[0m\u001b[1;33m)\u001b[0m\u001b[1;33m:\u001b[0m\u001b[1;33m\u001b[0m\u001b[1;33m\u001b[0m\u001b[0m\n\u001b[0m\u001b[0;32m   1052\u001b[0m                 \u001b[1;32mpass\u001b[0m\u001b[1;33m\u001b[0m\u001b[1;33m\u001b[0m\u001b[0m\n\u001b[0;32m   1053\u001b[0m \u001b[1;33m\u001b[0m\u001b[0m\n",
      "\u001b[1;32m~\\anaconda3\\envs\\learn-env\\lib\\site-packages\\joblib\\parallel.py\u001b[0m in \u001b[0;36mdispatch_one_batch\u001b[1;34m(self, iterator)\u001b[0m\n\u001b[0;32m    864\u001b[0m                 \u001b[1;32mreturn\u001b[0m \u001b[1;32mFalse\u001b[0m\u001b[1;33m\u001b[0m\u001b[1;33m\u001b[0m\u001b[0m\n\u001b[0;32m    865\u001b[0m             \u001b[1;32melse\u001b[0m\u001b[1;33m:\u001b[0m\u001b[1;33m\u001b[0m\u001b[1;33m\u001b[0m\u001b[0m\n\u001b[1;32m--> 866\u001b[1;33m                 \u001b[0mself\u001b[0m\u001b[1;33m.\u001b[0m\u001b[0m_dispatch\u001b[0m\u001b[1;33m(\u001b[0m\u001b[0mtasks\u001b[0m\u001b[1;33m)\u001b[0m\u001b[1;33m\u001b[0m\u001b[1;33m\u001b[0m\u001b[0m\n\u001b[0m\u001b[0;32m    867\u001b[0m                 \u001b[1;32mreturn\u001b[0m \u001b[1;32mTrue\u001b[0m\u001b[1;33m\u001b[0m\u001b[1;33m\u001b[0m\u001b[0m\n\u001b[0;32m    868\u001b[0m \u001b[1;33m\u001b[0m\u001b[0m\n",
      "\u001b[1;32m~\\anaconda3\\envs\\learn-env\\lib\\site-packages\\joblib\\parallel.py\u001b[0m in \u001b[0;36m_dispatch\u001b[1;34m(self, batch)\u001b[0m\n\u001b[0;32m    782\u001b[0m         \u001b[1;32mwith\u001b[0m \u001b[0mself\u001b[0m\u001b[1;33m.\u001b[0m\u001b[0m_lock\u001b[0m\u001b[1;33m:\u001b[0m\u001b[1;33m\u001b[0m\u001b[1;33m\u001b[0m\u001b[0m\n\u001b[0;32m    783\u001b[0m             \u001b[0mjob_idx\u001b[0m \u001b[1;33m=\u001b[0m \u001b[0mlen\u001b[0m\u001b[1;33m(\u001b[0m\u001b[0mself\u001b[0m\u001b[1;33m.\u001b[0m\u001b[0m_jobs\u001b[0m\u001b[1;33m)\u001b[0m\u001b[1;33m\u001b[0m\u001b[1;33m\u001b[0m\u001b[0m\n\u001b[1;32m--> 784\u001b[1;33m             \u001b[0mjob\u001b[0m \u001b[1;33m=\u001b[0m \u001b[0mself\u001b[0m\u001b[1;33m.\u001b[0m\u001b[0m_backend\u001b[0m\u001b[1;33m.\u001b[0m\u001b[0mapply_async\u001b[0m\u001b[1;33m(\u001b[0m\u001b[0mbatch\u001b[0m\u001b[1;33m,\u001b[0m \u001b[0mcallback\u001b[0m\u001b[1;33m=\u001b[0m\u001b[0mcb\u001b[0m\u001b[1;33m)\u001b[0m\u001b[1;33m\u001b[0m\u001b[1;33m\u001b[0m\u001b[0m\n\u001b[0m\u001b[0;32m    785\u001b[0m             \u001b[1;31m# A job can complete so quickly than its callback is\u001b[0m\u001b[1;33m\u001b[0m\u001b[1;33m\u001b[0m\u001b[1;33m\u001b[0m\u001b[0m\n\u001b[0;32m    786\u001b[0m             \u001b[1;31m# called before we get here, causing self._jobs to\u001b[0m\u001b[1;33m\u001b[0m\u001b[1;33m\u001b[0m\u001b[1;33m\u001b[0m\u001b[0m\n",
      "\u001b[1;32m~\\anaconda3\\envs\\learn-env\\lib\\site-packages\\joblib\\_parallel_backends.py\u001b[0m in \u001b[0;36mapply_async\u001b[1;34m(self, func, callback)\u001b[0m\n\u001b[0;32m    206\u001b[0m     \u001b[1;32mdef\u001b[0m \u001b[0mapply_async\u001b[0m\u001b[1;33m(\u001b[0m\u001b[0mself\u001b[0m\u001b[1;33m,\u001b[0m \u001b[0mfunc\u001b[0m\u001b[1;33m,\u001b[0m \u001b[0mcallback\u001b[0m\u001b[1;33m=\u001b[0m\u001b[1;32mNone\u001b[0m\u001b[1;33m)\u001b[0m\u001b[1;33m:\u001b[0m\u001b[1;33m\u001b[0m\u001b[1;33m\u001b[0m\u001b[0m\n\u001b[0;32m    207\u001b[0m         \u001b[1;34m\"\"\"Schedule a func to be run\"\"\"\u001b[0m\u001b[1;33m\u001b[0m\u001b[1;33m\u001b[0m\u001b[0m\n\u001b[1;32m--> 208\u001b[1;33m         \u001b[0mresult\u001b[0m \u001b[1;33m=\u001b[0m \u001b[0mImmediateResult\u001b[0m\u001b[1;33m(\u001b[0m\u001b[0mfunc\u001b[0m\u001b[1;33m)\u001b[0m\u001b[1;33m\u001b[0m\u001b[1;33m\u001b[0m\u001b[0m\n\u001b[0m\u001b[0;32m    209\u001b[0m         \u001b[1;32mif\u001b[0m \u001b[0mcallback\u001b[0m\u001b[1;33m:\u001b[0m\u001b[1;33m\u001b[0m\u001b[1;33m\u001b[0m\u001b[0m\n\u001b[0;32m    210\u001b[0m             \u001b[0mcallback\u001b[0m\u001b[1;33m(\u001b[0m\u001b[0mresult\u001b[0m\u001b[1;33m)\u001b[0m\u001b[1;33m\u001b[0m\u001b[1;33m\u001b[0m\u001b[0m\n",
      "\u001b[1;32m~\\anaconda3\\envs\\learn-env\\lib\\site-packages\\joblib\\_parallel_backends.py\u001b[0m in \u001b[0;36m__init__\u001b[1;34m(self, batch)\u001b[0m\n\u001b[0;32m    570\u001b[0m         \u001b[1;31m# Don't delay the application, to avoid keeping the input\u001b[0m\u001b[1;33m\u001b[0m\u001b[1;33m\u001b[0m\u001b[1;33m\u001b[0m\u001b[0m\n\u001b[0;32m    571\u001b[0m         \u001b[1;31m# arguments in memory\u001b[0m\u001b[1;33m\u001b[0m\u001b[1;33m\u001b[0m\u001b[1;33m\u001b[0m\u001b[0m\n\u001b[1;32m--> 572\u001b[1;33m         \u001b[0mself\u001b[0m\u001b[1;33m.\u001b[0m\u001b[0mresults\u001b[0m \u001b[1;33m=\u001b[0m \u001b[0mbatch\u001b[0m\u001b[1;33m(\u001b[0m\u001b[1;33m)\u001b[0m\u001b[1;33m\u001b[0m\u001b[1;33m\u001b[0m\u001b[0m\n\u001b[0m\u001b[0;32m    573\u001b[0m \u001b[1;33m\u001b[0m\u001b[0m\n\u001b[0;32m    574\u001b[0m     \u001b[1;32mdef\u001b[0m \u001b[0mget\u001b[0m\u001b[1;33m(\u001b[0m\u001b[0mself\u001b[0m\u001b[1;33m)\u001b[0m\u001b[1;33m:\u001b[0m\u001b[1;33m\u001b[0m\u001b[1;33m\u001b[0m\u001b[0m\n",
      "\u001b[1;32m~\\anaconda3\\envs\\learn-env\\lib\\site-packages\\joblib\\parallel.py\u001b[0m in \u001b[0;36m__call__\u001b[1;34m(self)\u001b[0m\n\u001b[0;32m    260\u001b[0m         \u001b[1;31m# change the default number of processes to -1\u001b[0m\u001b[1;33m\u001b[0m\u001b[1;33m\u001b[0m\u001b[1;33m\u001b[0m\u001b[0m\n\u001b[0;32m    261\u001b[0m         \u001b[1;32mwith\u001b[0m \u001b[0mparallel_backend\u001b[0m\u001b[1;33m(\u001b[0m\u001b[0mself\u001b[0m\u001b[1;33m.\u001b[0m\u001b[0m_backend\u001b[0m\u001b[1;33m,\u001b[0m \u001b[0mn_jobs\u001b[0m\u001b[1;33m=\u001b[0m\u001b[0mself\u001b[0m\u001b[1;33m.\u001b[0m\u001b[0m_n_jobs\u001b[0m\u001b[1;33m)\u001b[0m\u001b[1;33m:\u001b[0m\u001b[1;33m\u001b[0m\u001b[1;33m\u001b[0m\u001b[0m\n\u001b[1;32m--> 262\u001b[1;33m             return [func(*args, **kwargs)\n\u001b[0m\u001b[0;32m    263\u001b[0m                     for func, args, kwargs in self.items]\n\u001b[0;32m    264\u001b[0m \u001b[1;33m\u001b[0m\u001b[0m\n",
      "\u001b[1;32m~\\anaconda3\\envs\\learn-env\\lib\\site-packages\\joblib\\parallel.py\u001b[0m in \u001b[0;36m<listcomp>\u001b[1;34m(.0)\u001b[0m\n\u001b[0;32m    260\u001b[0m         \u001b[1;31m# change the default number of processes to -1\u001b[0m\u001b[1;33m\u001b[0m\u001b[1;33m\u001b[0m\u001b[1;33m\u001b[0m\u001b[0m\n\u001b[0;32m    261\u001b[0m         \u001b[1;32mwith\u001b[0m \u001b[0mparallel_backend\u001b[0m\u001b[1;33m(\u001b[0m\u001b[0mself\u001b[0m\u001b[1;33m.\u001b[0m\u001b[0m_backend\u001b[0m\u001b[1;33m,\u001b[0m \u001b[0mn_jobs\u001b[0m\u001b[1;33m=\u001b[0m\u001b[0mself\u001b[0m\u001b[1;33m.\u001b[0m\u001b[0m_n_jobs\u001b[0m\u001b[1;33m)\u001b[0m\u001b[1;33m:\u001b[0m\u001b[1;33m\u001b[0m\u001b[1;33m\u001b[0m\u001b[0m\n\u001b[1;32m--> 262\u001b[1;33m             return [func(*args, **kwargs)\n\u001b[0m\u001b[0;32m    263\u001b[0m                     for func, args, kwargs in self.items]\n\u001b[0;32m    264\u001b[0m \u001b[1;33m\u001b[0m\u001b[0m\n",
      "\u001b[1;32m~\\anaconda3\\envs\\learn-env\\lib\\site-packages\\sklearn\\ensemble\\_forest.py\u001b[0m in \u001b[0;36m_parallel_build_trees\u001b[1;34m(tree, forest, X, y, sample_weight, tree_idx, n_trees, verbose, class_weight, n_samples_bootstrap)\u001b[0m\n\u001b[0;32m    166\u001b[0m                                                         indices=indices)\n\u001b[0;32m    167\u001b[0m \u001b[1;33m\u001b[0m\u001b[0m\n\u001b[1;32m--> 168\u001b[1;33m         \u001b[0mtree\u001b[0m\u001b[1;33m.\u001b[0m\u001b[0mfit\u001b[0m\u001b[1;33m(\u001b[0m\u001b[0mX\u001b[0m\u001b[1;33m,\u001b[0m \u001b[0my\u001b[0m\u001b[1;33m,\u001b[0m \u001b[0msample_weight\u001b[0m\u001b[1;33m=\u001b[0m\u001b[0mcurr_sample_weight\u001b[0m\u001b[1;33m,\u001b[0m \u001b[0mcheck_input\u001b[0m\u001b[1;33m=\u001b[0m\u001b[1;32mFalse\u001b[0m\u001b[1;33m)\u001b[0m\u001b[1;33m\u001b[0m\u001b[1;33m\u001b[0m\u001b[0m\n\u001b[0m\u001b[0;32m    169\u001b[0m     \u001b[1;32melse\u001b[0m\u001b[1;33m:\u001b[0m\u001b[1;33m\u001b[0m\u001b[1;33m\u001b[0m\u001b[0m\n\u001b[0;32m    170\u001b[0m         \u001b[0mtree\u001b[0m\u001b[1;33m.\u001b[0m\u001b[0mfit\u001b[0m\u001b[1;33m(\u001b[0m\u001b[0mX\u001b[0m\u001b[1;33m,\u001b[0m \u001b[0my\u001b[0m\u001b[1;33m,\u001b[0m \u001b[0msample_weight\u001b[0m\u001b[1;33m=\u001b[0m\u001b[0msample_weight\u001b[0m\u001b[1;33m,\u001b[0m \u001b[0mcheck_input\u001b[0m\u001b[1;33m=\u001b[0m\u001b[1;32mFalse\u001b[0m\u001b[1;33m)\u001b[0m\u001b[1;33m\u001b[0m\u001b[1;33m\u001b[0m\u001b[0m\n",
      "\u001b[1;32m~\\anaconda3\\envs\\learn-env\\lib\\site-packages\\sklearn\\tree\\_classes.py\u001b[0m in \u001b[0;36mfit\u001b[1;34m(self, X, y, sample_weight, check_input, X_idx_sorted)\u001b[0m\n\u001b[0;32m    888\u001b[0m         \"\"\"\n\u001b[0;32m    889\u001b[0m \u001b[1;33m\u001b[0m\u001b[0m\n\u001b[1;32m--> 890\u001b[1;33m         super().fit(\n\u001b[0m\u001b[0;32m    891\u001b[0m             \u001b[0mX\u001b[0m\u001b[1;33m,\u001b[0m \u001b[0my\u001b[0m\u001b[1;33m,\u001b[0m\u001b[1;33m\u001b[0m\u001b[1;33m\u001b[0m\u001b[0m\n\u001b[0;32m    892\u001b[0m             \u001b[0msample_weight\u001b[0m\u001b[1;33m=\u001b[0m\u001b[0msample_weight\u001b[0m\u001b[1;33m,\u001b[0m\u001b[1;33m\u001b[0m\u001b[1;33m\u001b[0m\u001b[0m\n",
      "\u001b[1;32m~\\anaconda3\\envs\\learn-env\\lib\\site-packages\\sklearn\\tree\\_classes.py\u001b[0m in \u001b[0;36mfit\u001b[1;34m(self, X, y, sample_weight, check_input, X_idx_sorted)\u001b[0m\n\u001b[0;32m    373\u001b[0m                                            min_impurity_split)\n\u001b[0;32m    374\u001b[0m \u001b[1;33m\u001b[0m\u001b[0m\n\u001b[1;32m--> 375\u001b[1;33m         \u001b[0mbuilder\u001b[0m\u001b[1;33m.\u001b[0m\u001b[0mbuild\u001b[0m\u001b[1;33m(\u001b[0m\u001b[0mself\u001b[0m\u001b[1;33m.\u001b[0m\u001b[0mtree_\u001b[0m\u001b[1;33m,\u001b[0m \u001b[0mX\u001b[0m\u001b[1;33m,\u001b[0m \u001b[0my\u001b[0m\u001b[1;33m,\u001b[0m \u001b[0msample_weight\u001b[0m\u001b[1;33m,\u001b[0m \u001b[0mX_idx_sorted\u001b[0m\u001b[1;33m)\u001b[0m\u001b[1;33m\u001b[0m\u001b[1;33m\u001b[0m\u001b[0m\n\u001b[0m\u001b[0;32m    376\u001b[0m \u001b[1;33m\u001b[0m\u001b[0m\n\u001b[0;32m    377\u001b[0m         \u001b[1;32mif\u001b[0m \u001b[0mself\u001b[0m\u001b[1;33m.\u001b[0m\u001b[0mn_outputs_\u001b[0m \u001b[1;33m==\u001b[0m \u001b[1;36m1\u001b[0m \u001b[1;32mand\u001b[0m \u001b[0mis_classifier\u001b[0m\u001b[1;33m(\u001b[0m\u001b[0mself\u001b[0m\u001b[1;33m)\u001b[0m\u001b[1;33m:\u001b[0m\u001b[1;33m\u001b[0m\u001b[1;33m\u001b[0m\u001b[0m\n",
      "\u001b[1;31mKeyboardInterrupt\u001b[0m: "
     ]
    }
   ],
   "source": [
    "gs.fit(X_train, y_train)"
   ]
  },
  {
   "cell_type": "code",
   "execution_count": 61,
   "metadata": {},
   "outputs": [
    {
     "data": {
      "text/plain": [
       "0.8444352075792775"
      ]
     },
     "execution_count": 61,
     "metadata": {},
     "output_type": "execute_result"
    }
   ],
   "source": [
    "gs.best_score_"
   ]
  },
  {
   "cell_type": "code",
   "execution_count": 62,
   "metadata": {},
   "outputs": [
    {
     "data": {
      "text/plain": [
       "{'rfc__max_depth': None,\n",
       " 'rfc__max_leaf_nodes': None,\n",
       " 'rfc__min_samples_leaf': 1,\n",
       " 'rfc__min_samples_split': 10,\n",
       " 'rfc__n_estimators': 200}"
      ]
     },
     "execution_count": 62,
     "metadata": {},
     "output_type": "execute_result"
    }
   ],
   "source": [
    "gs.best_params_"
   ]
  },
  {
   "cell_type": "code",
   "execution_count": 178,
   "metadata": {},
   "outputs": [
    {
     "data": {
      "text/plain": [
       "Pipeline(steps=[('ct',\n",
       "                 ColumnTransformer(transformers=[('subpipe_num',\n",
       "                                                  Pipeline(steps=[('ss',\n",
       "                                                                   StandardScaler())]),\n",
       "                                                  ['amount_tsh', 'gps_height',\n",
       "                                                   'population']),\n",
       "                                                 ('subpipe_cat',\n",
       "                                                  Pipeline(steps=[('ohe',\n",
       "                                                                   OneHotEncoder(handle_unknown='ignore',\n",
       "                                                                                 sparse=False))]),\n",
       "                                                  ['payment', 'quantity',\n",
       "                                                   'source',\n",
       "                                                   'waterpoint_type']),\n",
       "                                                 ('subpipe_bool',\n",
       "                                                  Pipeline(steps=[('ord',\n",
       "                                                                   OrdinalEncoder())]),\n",
       "                                                  [])])),\n",
       "                ('rfc', RandomForestClassifier(random_state=42))])"
      ]
     },
     "execution_count": 178,
     "metadata": {},
     "output_type": "execute_result"
    }
   ],
   "source": [
    "feature_pipe.fit(X_train, y_train)"
   ]
  },
  {
   "cell_type": "code",
   "execution_count": 180,
   "metadata": {},
   "outputs": [
    {
     "data": {
      "text/plain": [
       "0.9316947250280584"
      ]
     },
     "execution_count": 180,
     "metadata": {},
     "output_type": "execute_result"
    }
   ],
   "source": [
    "feature_pipe.score(X_train, y_train)"
   ]
  },
  {
   "cell_type": "code",
   "execution_count": null,
   "metadata": {},
   "outputs": [],
   "source": [
    "picked_features = ['amount_tsh', 'installer', 'gps_height', 'basin', 'region_code', 'district_code', 'lga', 'population', \n",
    "                   'public_meeting', 'management', 'permit', 'extraction_type_class', 'payment', 'quality_group', 'quantity', \n",
    "                   'source', 'waterpoint_type', 'distance']"
   ]
  },
  {
   "cell_type": "code",
   "execution_count": null,
   "metadata": {},
   "outputs": [],
   "source": []
  },
  {
   "cell_type": "code",
   "execution_count": null,
   "metadata": {},
   "outputs": [],
   "source": [
    "params = {'rfc__n_estimators':[200],\n",
    "          'rfc__max_depth':[None, 30],\n",
    "          'rfc__min_samples_leaf': [1, 5],\n",
    "          'rfc__min_samples_split': [10, 15], \n",
    "          'rfc__max_leaf_nodes': [None, 25],\n",
    "          'rfc__max_features': ['sqrt', 'log2']}\n",
    "gs = GridSearchCV(estimator = feature_pipe, param_grid = params, cv=5, verbose=3)"
   ]
  }
 ],
 "metadata": {
  "kernelspec": {
   "display_name": "Python (learn-env)",
   "language": "python",
   "name": "learn-env"
  },
  "language_info": {
   "codemirror_mode": {
    "name": "ipython",
    "version": 3
   },
   "file_extension": ".py",
   "mimetype": "text/x-python",
   "name": "python",
   "nbconvert_exporter": "python",
   "pygments_lexer": "ipython3",
   "version": "3.8.5"
  }
 },
 "nbformat": 4,
 "nbformat_minor": 4
}
