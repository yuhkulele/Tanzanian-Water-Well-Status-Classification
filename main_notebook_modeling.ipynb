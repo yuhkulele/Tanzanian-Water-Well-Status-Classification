{
 "cells": [
  {
   "cell_type": "markdown",
   "metadata": {},
   "source": [
    "# Classification Models to Identify Water Pump Functionality in Tanzania"
   ]
  },
  {
   "cell_type": "markdown",
   "metadata": {},
   "source": [
    "# Overview"
   ]
  },
  {
   "cell_type": "markdown",
   "metadata": {},
   "source": [
    "This project consists of classification models to identify water pump functionality in Tanzania. Limited access to safe water is a major health risk. These models are potential tools for government agencies or non-governmental organizations to identify areas with limited access to clean water. Through an iterative modeling process, we produced a model that predicted pump functionality with 85% accuracy. By identifying non-functional water pumps, organizations can divert resources to areas in need of assistance and improve water access and health in Tanzania."
   ]
  },
  {
   "cell_type": "markdown",
   "metadata": {},
   "source": [
    "# Business Understanding\n",
    "\n",
    "Millions of people in Tanzania lack access to safe water. This results in paying high prices for water from vendors or collecting water from unsafe natural sources. In order to combat this problem, resources must be allocated to fix non-functioning water distribution points.\n",
    "Age is an important metric in predicting the condition of distribution points. Older pumps and engine systems are more likely to fail than newer ones. In many cases age related data is not available.\n",
    "The goal of this analysis is to build the model that can predict the condition of waterpoints based on their other features such as regional factors, installer, type of pump, population and others."
   ]
  },
  {
   "cell_type": "markdown",
   "metadata": {},
   "source": [
    "# Data Understanding"
   ]
  },
  {
   "cell_type": "markdown",
   "metadata": {},
   "source": [
    "Our data consists of 57,588 entries containing information on water pumps in Tanzania. The data was collected by Taarifa and the Tanzanian Ministry of Water. The dataset contains a number of variables about each pump, including regional information, when and how it was installed, payment information, what type of pump is operating, etc. Our target variable is 'status_group', a categorization of the pump's functionality status. Each pump has been classified as 'functional', 'functional needs repair', or 'non functional'. \n",
    "\n",
    "The data cleaning and exploration was performed in a separate Jupyter Notebook. Our data cleaning process can be found in 'main_notebook_cleaning' within this project's repository. "
   ]
  },
  {
   "cell_type": "markdown",
   "metadata": {},
   "source": [
    "### Imports"
   ]
  },
  {
   "cell_type": "code",
   "execution_count": 1,
   "metadata": {},
   "outputs": [],
   "source": [
    "#import statements\n",
    "import pandas as pd\n",
    "import numpy as np\n",
    "\n",
    "#data visualization\n",
    "import matplotlib\n",
    "import matplotlib.pyplot as plt\n",
    "import seaborn as sns\n",
    "\n",
    "#sci-kit learn\n",
    "import sklearn\n",
    "from sklearn.model_selection import train_test_split, cross_validate, cross_val_score, GridSearchCV\n",
    "from sklearn.preprocessing import FunctionTransformer, OneHotEncoder, OrdinalEncoder, StandardScaler\n",
    "from sklearn.metrics import accuracy_score, precision_score, recall_score, plot_confusion_matrix, confusion_matrix\n",
    "from sklearn.dummy import DummyClassifier\n",
    "\n",
    "from sklearn.neighbors import KNeighborsClassifier\n",
    "from sklearn.tree import DecisionTreeClassifier\n",
    "from sklearn.ensemble import BaggingClassifier, RandomForestClassifier\n",
    "\n",
    "from sklearn.pipeline import Pipeline\n",
    "from sklearn.compose import ColumnTransformer"
   ]
  },
  {
   "cell_type": "markdown",
   "metadata": {},
   "source": [
    "# Modeling"
   ]
  },
  {
   "cell_type": "markdown",
   "metadata": {},
   "source": [
    "We used a variety of scikit-learn classification models to see which model produced the best results for the classification of functional vs non-functional water pumps."
   ]
  },
  {
   "cell_type": "markdown",
   "metadata": {},
   "source": [
    "Our data was imported from the 'water_well_train_clean.csv' file. This file contains the dataset after cleaning in our project's EDA notebook. However, saving the cleaned dataframe to a csv resulted in some column datatypes being automatically changed. Before we could work with the data, we had to change the values in 'region_code' and 'district_code' from integers to strings."
   ]
  },
  {
   "cell_type": "code",
   "execution_count": 2,
   "metadata": {},
   "outputs": [],
   "source": [
    "#Read in cleaned data\n",
    "df = pd.read_csv('./data/water_well_train_clean.csv')"
   ]
  },
  {
   "cell_type": "code",
   "execution_count": 3,
   "metadata": {
    "scrolled": true
   },
   "outputs": [
    {
     "name": "stdout",
     "output_type": "stream",
     "text": [
      "<class 'pandas.core.frame.DataFrame'>\n",
      "Int64Index: 57588 entries, 0 to 59399\n",
      "Data columns (total 44 columns):\n",
      " #   Column                 Non-Null Count  Dtype  \n",
      "---  ------                 --------------  -----  \n",
      " 0   id                     57588 non-null  int64  \n",
      " 1   amount_tsh             57588 non-null  float64\n",
      " 2   date_recorded          57588 non-null  object \n",
      " 3   funder                 57588 non-null  object \n",
      " 4   gps_height             57588 non-null  int64  \n",
      " 5   installer              57588 non-null  object \n",
      " 6   longitude              57588 non-null  float64\n",
      " 7   latitude               57588 non-null  float64\n",
      " 8   wpt_name               57588 non-null  object \n",
      " 9   num_private            57588 non-null  int64  \n",
      " 10  basin                  57588 non-null  object \n",
      " 11  subvillage             57588 non-null  object \n",
      " 12  region                 57588 non-null  object \n",
      " 13  region_code            57588 non-null  int64  \n",
      " 14  district_code          57588 non-null  int64  \n",
      " 15  lga                    57588 non-null  object \n",
      " 16  ward                   57588 non-null  object \n",
      " 17  population             57588 non-null  int64  \n",
      " 18  public_meeting         57588 non-null  bool   \n",
      " 19  recorded_by            57588 non-null  object \n",
      " 20  scheme_management      57588 non-null  object \n",
      " 21  scheme_name            57588 non-null  object \n",
      " 22  permit                 57588 non-null  bool   \n",
      " 23  construction_year      57588 non-null  int64  \n",
      " 24  extraction_type        57588 non-null  object \n",
      " 25  extraction_type_group  57588 non-null  object \n",
      " 26  extraction_type_class  57588 non-null  object \n",
      " 27  management             57588 non-null  object \n",
      " 28  management_group       57588 non-null  object \n",
      " 29  payment                57588 non-null  object \n",
      " 30  payment_type           57588 non-null  object \n",
      " 31  water_quality          57588 non-null  object \n",
      " 32  quality_group          57588 non-null  object \n",
      " 33  quantity               57588 non-null  object \n",
      " 34  quantity_group         57588 non-null  object \n",
      " 35  source                 57588 non-null  object \n",
      " 36  source_type            57588 non-null  object \n",
      " 37  source_class           57588 non-null  object \n",
      " 38  waterpoint_type        57588 non-null  object \n",
      " 39  waterpoint_type_group  57588 non-null  object \n",
      " 40  id_label               57588 non-null  int64  \n",
      " 41  status_group           57588 non-null  object \n",
      " 42  coordinates            57588 non-null  object \n",
      " 43  distance               57588 non-null  float64\n",
      "dtypes: bool(2), float64(4), int64(8), object(30)\n",
      "memory usage: 19.0+ MB\n"
     ]
    }
   ],
   "source": [
    "df.info()"
   ]
  },
  {
   "cell_type": "code",
   "execution_count": 4,
   "metadata": {},
   "outputs": [],
   "source": [
    "#change data types for 'region_code' and 'district_code' from int to str\n",
    "df['region_code'] = df['region_code'].astype(str)\n",
    "df['district_code'] = df['district_code'].astype(str)"
   ]
  },
  {
   "cell_type": "markdown",
   "metadata": {},
   "source": [
    "Our goal in modeling was to create a classification model with the highest accuracy in classifying functional and non-functional water pumps. The dataset's target column 'status_group' contains a third value 'functional needs repair'. For our analysis, we grouped 'functional needs repair' with 'functional'. In doing so, we trained our model with the focus of identifying 'non functional' water pumps. These non-functional pumps represent areas that require the most maintenance in pump infrastructure. Any organization addressing access to water needs to prioritize its resources and understand where to send personnel and materials. Our model could be used to identify nonfunctional pumps based on features captured in the dataset and highlight populations with the greatest need, allowing aid organizations to alleviate the water burden for those people."
   ]
  },
  {
   "cell_type": "code",
   "execution_count": 5,
   "metadata": {
    "scrolled": true
   },
   "outputs": [
    {
     "data": {
      "text/plain": [
       "functional        35320\n",
       "non functional    22268\n",
       "Name: status_group, dtype: int64"
      ]
     },
     "execution_count": 5,
     "metadata": {},
     "output_type": "execute_result"
    }
   ],
   "source": [
    "#SETTING UP BINARY CLASSIFICATION TARGET\n",
    "df_binary = df.copy()\n",
    "\n",
    "#group 'functional needs repair' with 'functional'\n",
    "df_binary['status_group'] = df_binary['status_group'].str.replace('functional needs repair','functional')\n",
    "df_binary['status_group'].value_counts()"
   ]
  },
  {
   "cell_type": "code",
   "execution_count": 6,
   "metadata": {},
   "outputs": [],
   "source": [
    "X = df_binary.drop('status_group', axis=1)"
   ]
  },
  {
   "cell_type": "code",
   "execution_count": 7,
   "metadata": {},
   "outputs": [],
   "source": [
    "y = df_binary['status_group']"
   ]
  },
  {
   "cell_type": "code",
   "execution_count": 8,
   "metadata": {},
   "outputs": [],
   "source": [
    "#train_test_split\n",
    "X_train, X_test, y_train, y_test = train_test_split(X, y, random_state=42)"
   ]
  },
  {
   "cell_type": "markdown",
   "metadata": {},
   "source": [
    "The data was split into a training set and a test set. The models were trained and fit to the train data. Model performances were judged using the test data to see how the models perform on unseen data."
   ]
  },
  {
   "cell_type": "markdown",
   "metadata": {},
   "source": [
    "### Dummy Classifier"
   ]
  },
  {
   "cell_type": "markdown",
   "metadata": {},
   "source": [
    "The dummy classifier set the baseline for our model metrics. Here, the dummy classifier predicts the most frequent class everytime. For our training data, the most frequent class is 'functional' with 61% frequency."
   ]
  },
  {
   "cell_type": "code",
   "execution_count": 9,
   "metadata": {},
   "outputs": [],
   "source": [
    "#dummy classifier baseline picks the most frequent class\n",
    "dummy_clf = DummyClassifier(strategy='most_frequent')"
   ]
  },
  {
   "cell_type": "code",
   "execution_count": 10,
   "metadata": {
    "scrolled": true
   },
   "outputs": [
    {
     "data": {
      "text/plain": [
       "DummyClassifier(strategy='most_frequent')"
      ]
     },
     "execution_count": 10,
     "metadata": {},
     "output_type": "execute_result"
    }
   ],
   "source": [
    "dummy_clf.fit(X_train, y_train)"
   ]
  },
  {
   "cell_type": "code",
   "execution_count": 11,
   "metadata": {},
   "outputs": [
    {
     "data": {
      "text/plain": [
       "0.6121877242944131"
      ]
     },
     "execution_count": 11,
     "metadata": {},
     "output_type": "execute_result"
    }
   ],
   "source": [
    "dummy_clf.score(X_train, y_train)"
   ]
  },
  {
   "cell_type": "markdown",
   "metadata": {},
   "source": [
    "The dummy classifier has a baseline accuracy of 0.61, predicting the correct class 61% of the time on the training data."
   ]
  },
  {
   "cell_type": "markdown",
   "metadata": {},
   "source": [
    "### Pipeline Setup"
   ]
  },
  {
   "cell_type": "markdown",
   "metadata": {},
   "source": [
    "The function below helped us streamline our feature selection process and simplified our workflow in conjunction with pipelines. It takes in a dataframe and a list of features and categorizes the features into numerical, categorical, and boolean groups. \n",
    "\n",
    "With this function, we were able to pass in a list of desired features and our X dataframe and have our pipeline act only on the features given."
   ]
  },
  {
   "cell_type": "code",
   "execution_count": 9,
   "metadata": {},
   "outputs": [],
   "source": [
    "#helper function to categorize list of features by datatype\n",
    "#create col lists of numeric, categorical, and boolean data\n",
    "#return column lists in as tuple (numerical, categorical, boolean)\n",
    "def GrabTypes(features, df):\n",
    "    df_features = df[features]\n",
    "    num_df = df_features.select_dtypes(include='number')\n",
    "    num_cols = list(num_df.columns)\n",
    "    cat_df = df_features.select_dtypes(include='object')\n",
    "    cat_cols = list(cat_df.columns)\n",
    "    bool_df = df_features.select_dtypes(include='boolean')\n",
    "    bool_cols = list(bool_df.columns)\n",
    "    return (num_cols, cat_cols, bool_cols)"
   ]
  },
  {
   "cell_type": "markdown",
   "metadata": {},
   "source": [
    "We chose 17 columns to include in our first model. The columns were picked to capture as much complexity as possible. In cases where multiple columns captured the same information (e.g. 'extraction_type', 'extraction_type_group', and 'extraction_type_class'), the most granular feature was selected for the model. "
   ]
  },
  {
   "cell_type": "code",
   "execution_count": 10,
   "metadata": {},
   "outputs": [
    {
     "data": {
      "text/plain": [
       "(['amount_tsh', 'gps_height', 'population'],\n",
       " ['installer',\n",
       "  'basin',\n",
       "  'region',\n",
       "  'district_code',\n",
       "  'lga',\n",
       "  'management',\n",
       "  'extraction_type',\n",
       "  'payment',\n",
       "  'water_quality',\n",
       "  'quantity',\n",
       "  'source',\n",
       "  'waterpoint_type'],\n",
       " ['public_meeting', 'permit'])"
      ]
     },
     "execution_count": 10,
     "metadata": {},
     "output_type": "execute_result"
    }
   ],
   "source": [
    "picked_features = ['amount_tsh', 'installer',  'gps_height', 'basin', 'region', \n",
    "                   'district_code', 'lga', 'population', 'public_meeting', \n",
    "                   'management', 'permit', 'extraction_type', 'payment', \n",
    "                   'water_quality', 'quantity', 'source', 'waterpoint_type']\n",
    "\n",
    "features_type = GrabTypes(picked_features, df)\n",
    "features_type"
   ]
  },
  {
   "cell_type": "markdown",
   "metadata": {},
   "source": [
    "Our iterative modeling process used scikit-learn's Pipeline to streamline transformations and GridSearching. Within the pipeline, there are 3 subpipelines in order to process the three types of features: numerical features, categorical features, and boolean features.\n",
    "\n",
    "Numerical features were transformed with StandardScaler. Categorical features were transformed with OneHotEncoder. The handle_unknown parameter for OneHotEncoder is set to 'ignore'. Any unknown categories encountered during transformation would have their resulted encoded columns as all zzeros. Finally, boolean features were transfomed with OrdinalEncoder."
   ]
  },
  {
   "cell_type": "code",
   "execution_count": 11,
   "metadata": {},
   "outputs": [],
   "source": [
    "#create subpipes for numeric and categorical features\n",
    "#StandardScaler on numerical features\n",
    "subpipe_num = Pipeline(steps=[('ss', StandardScaler() )])\n",
    "\n",
    "#OHE categorical features, handle_unknown = ignore\n",
    "subpipe_cat = Pipeline(steps=[('ohe', OneHotEncoder(sparse=False, handle_unknown='ignore') )])\n",
    "\n",
    "#boolean pipeline with ordinal encoder\n",
    "subpipe_bool = Pipeline(steps=[('ord', OrdinalEncoder() )])"
   ]
  },
  {
   "cell_type": "markdown",
   "metadata": {},
   "source": [
    "ColumnTransformer contained our three subpipelines. The parameter remainder = 'drop' meant any columns that were not specified to a subpipeline to be dropped from the transfomers and model estimator."
   ]
  },
  {
   "cell_type": "code",
   "execution_count": 12,
   "metadata": {},
   "outputs": [],
   "source": [
    "#column transformer with 3 subpipes\n",
    "CT = ColumnTransformer(transformers=[('subpipe_num', subpipe_num, features_type[0]),\n",
    "                                     ('subpipe_cat', subpipe_cat, features_type[1]),\n",
    "                                     ('subpipe_bool', subpipe_bool, features_type[2])],\n",
    "                       remainder='drop')"
   ]
  },
  {
   "cell_type": "markdown",
   "metadata": {},
   "source": [
    "With our subpipes and ColumnTransformer set up, we can now build models using a pipeline."
   ]
  },
  {
   "cell_type": "markdown",
   "metadata": {},
   "source": [
    "## First Model - Random Forest Classifier"
   ]
  },
  {
   "cell_type": "markdown",
   "metadata": {},
   "source": [
    "A Random Forest Classifier fits a number of decision trees on subsets of the data, using the average to improve the prodictive accuracy and reduce overfitting. "
   ]
  },
  {
   "cell_type": "code",
   "execution_count": 16,
   "metadata": {},
   "outputs": [],
   "source": [
    "#Instatiate a RandomForestClassifier with random_state = 42 and default hyperparameters\n",
    "rfc = RandomForestClassifier(random_state=42)\n",
    "\n",
    "#Create pipline with transformer 'ct' and estimator 'rfc'\n",
    "first_rfc_pipe = Pipeline(steps = [('ct', CT),\n",
    "                                   ('rfc', rfc )])"
   ]
  },
  {
   "cell_type": "code",
   "execution_count": 17,
   "metadata": {
    "scrolled": true
   },
   "outputs": [
    {
     "data": {
      "text/plain": [
       "Pipeline(steps=[('ct',\n",
       "                 ColumnTransformer(transformers=[('subpipe_num',\n",
       "                                                  Pipeline(steps=[('ss',\n",
       "                                                                   StandardScaler())]),\n",
       "                                                  ['amount_tsh', 'gps_height',\n",
       "                                                   'population']),\n",
       "                                                 ('subpipe_cat',\n",
       "                                                  Pipeline(steps=[('ohe',\n",
       "                                                                   OneHotEncoder(handle_unknown='ignore',\n",
       "                                                                                 sparse=False))]),\n",
       "                                                  ['installer', 'basin',\n",
       "                                                   'region', 'district_code',\n",
       "                                                   'lga', 'management',\n",
       "                                                   'extraction_type', 'payment',\n",
       "                                                   'water_quality', 'quantity',\n",
       "                                                   'source',\n",
       "                                                   'waterpoint_type']),\n",
       "                                                 ('subpipe_bool',\n",
       "                                                  Pipeline(steps=[('ord',\n",
       "                                                                   OrdinalEncoder())]),\n",
       "                                                  ['public_meeting',\n",
       "                                                   'permit'])])),\n",
       "                ('rfc', RandomForestClassifier(random_state=42))])"
      ]
     },
     "execution_count": 17,
     "metadata": {},
     "output_type": "execute_result"
    }
   ],
   "source": [
    "first_rfc_pipe.fit(X_train, y_train)"
   ]
  },
  {
   "cell_type": "code",
   "execution_count": 18,
   "metadata": {},
   "outputs": [
    {
     "data": {
      "text/plain": [
       "0.9646917181820287"
      ]
     },
     "execution_count": 18,
     "metadata": {},
     "output_type": "execute_result"
    }
   ],
   "source": [
    "first_rfc_pipe.score(X_train, y_train)"
   ]
  },
  {
   "cell_type": "markdown",
   "metadata": {},
   "source": [
    "A high accuracy of 96% for our first model on the train data was an immediate flag that there was overfitting."
   ]
  },
  {
   "cell_type": "markdown",
   "metadata": {},
   "source": [
    "We used GridSearchCV to optimize hyperparameters. The goal of GridSearchCV is to improve model performance by constructing models with different hyperparameter values to find the values that resulted in the best performing model. The mean cross validated scores from GridSearchCV were compared to the train accuracy score to assess overfitting. "
   ]
  },
  {
   "cell_type": "code",
   "execution_count": 19,
   "metadata": {},
   "outputs": [],
   "source": [
    "params = {'rfc__n_estimators':[100, 200],\n",
    "          'rfc__max_depth':[None, 50],\n",
    "          'rfc__min_samples_leaf': [1, 10],\n",
    "          'rfc__min_samples_split': [2, 5, 10]}\n",
    "\n",
    "gs = GridSearchCV(estimator = first_rfc_pipe, param_grid = params, cv=5)"
   ]
  },
  {
   "cell_type": "code",
   "execution_count": 29,
   "metadata": {
    "scrolled": true
   },
   "outputs": [
    {
     "data": {
      "text/plain": [
       "GridSearchCV(cv=5,\n",
       "             estimator=Pipeline(steps=[('ct',\n",
       "                                        ColumnTransformer(transformers=[('subpipe_num',\n",
       "                                                                         Pipeline(steps=[('ss',\n",
       "                                                                                          StandardScaler())]),\n",
       "                                                                         ['amount_tsh',\n",
       "                                                                          'gps_height',\n",
       "                                                                          'population']),\n",
       "                                                                        ('subpipe_cat',\n",
       "                                                                         Pipeline(steps=[('ohe',\n",
       "                                                                                          OneHotEncoder(handle_unknown='ignore',\n",
       "                                                                                                        sparse=False))]),\n",
       "                                                                         ['installer',\n",
       "                                                                          'basin',\n",
       "                                                                          'region',\n",
       "                                                                          'district_code',\n",
       "                                                                          'lga',\n",
       "                                                                          'management',\n",
       "                                                                          'extraction_type',\n",
       "                                                                          'payment',\n",
       "                                                                          'water_quality',\n",
       "                                                                          'quantity',\n",
       "                                                                          'source',\n",
       "                                                                          'waterpoint_type']),\n",
       "                                                                        ('subpipe_bool',\n",
       "                                                                         Pipeline(steps=[('ord',\n",
       "                                                                                          OrdinalEncoder())]),\n",
       "                                                                         ['public_meeting',\n",
       "                                                                          'permit'])])),\n",
       "                                       ('rfc',\n",
       "                                        RandomForestClassifier(random_state=42))]),\n",
       "             param_grid={'rfc__max_depth': [None, 50],\n",
       "                         'rfc__min_samples_leaf': [1, 10],\n",
       "                         'rfc__min_samples_split': [2, 5, 10],\n",
       "                         'rfc__n_estimators': [100, 200]})"
      ]
     },
     "execution_count": 29,
     "metadata": {},
     "output_type": "execute_result"
    }
   ],
   "source": [
    "#GridSearchCV fits will be commented out in this notebook to avoid excessive runtime\n",
    "#gs.fit(X_train, y_train)"
   ]
  },
  {
   "cell_type": "code",
   "execution_count": 30,
   "metadata": {},
   "outputs": [
    {
     "data": {
      "text/plain": [
       "{'rfc__max_depth': 50,\n",
       " 'rfc__min_samples_leaf': 1,\n",
       " 'rfc__min_samples_split': 10,\n",
       " 'rfc__n_estimators': 200}"
      ]
     },
     "execution_count": 30,
     "metadata": {},
     "output_type": "execute_result"
    }
   ],
   "source": [
    "gs.best_params_"
   ]
  },
  {
   "cell_type": "markdown",
   "metadata": {},
   "source": [
    "Out of these four hyperparameters, n_estimators, max_depth, and min_samples_split used values different from the default hyperparameters for RandomForestClassifier."
   ]
  },
  {
   "cell_type": "code",
   "execution_count": 34,
   "metadata": {},
   "outputs": [
    {
     "data": {
      "text/plain": [
       "0.8450834843555428"
      ]
     },
     "execution_count": 34,
     "metadata": {},
     "output_type": "execute_result"
    }
   ],
   "source": [
    "gs.best_score_"
   ]
  },
  {
   "cell_type": "markdown",
   "metadata": {},
   "source": [
    "Our cross validated accuracy score for this RandomForestClassifier model is 0.845. "
   ]
  },
  {
   "cell_type": "code",
   "execution_count": 20,
   "metadata": {},
   "outputs": [],
   "source": [
    "#saving best GridSearch params as a model within pipeline\n",
    "rfc = RandomForestClassifier(n_estimators=200, max_depth=50, min_samples_leaf=1, \n",
    "                             min_samples_split=10, random_state=42)\n",
    "first_rfc_pipe = Pipeline(steps = [('ct', CT),\n",
    "                                   ('rfc', rfc )])"
   ]
  },
  {
   "cell_type": "code",
   "execution_count": 21,
   "metadata": {},
   "outputs": [
    {
     "data": {
      "text/plain": [
       "0.9052348868977333"
      ]
     },
     "execution_count": 21,
     "metadata": {},
     "output_type": "execute_result"
    }
   ],
   "source": [
    "first_rfc_pipe.fit(X_train, y_train)\n",
    "first_rfc_pipe.score(X_train, y_train)"
   ]
  },
  {
   "cell_type": "markdown",
   "metadata": {},
   "source": [
    "By adjusting RandomForestClassifier hyperparameters, we were able to reduce overfitting. The accuracy of the model dropped to 90.5%, indicating it is fitting worse on the training set. However, our highest mean cross validation score of 0.845 indicates that the model performs reasonably well on unseen data, predicting the correct class 84.5% of the time. Our final evaluation of this RandomForestClassifier model will occur later with the holdout validation test set."
   ]
  },
  {
   "cell_type": "markdown",
   "metadata": {},
   "source": [
    "#### Feature Importances"
   ]
  },
  {
   "cell_type": "markdown",
   "metadata": {},
   "source": [
    "We've written a function to help connect feature importances of our models to the associated features transformed within the pipeline."
   ]
  },
  {
   "cell_type": "code",
   "execution_count": 13,
   "metadata": {},
   "outputs": [],
   "source": [
    "#helper function to map feature importances into a dictionary\n",
    "#takes in a pipeline and digs into the ColumnTransformer to pull out feature names\n",
    "#creates a dictionary with feature names as keys and feature importances as values\n",
    "\n",
    "def dict_feature_importances(pipeline):\n",
    "    num_names = pipeline.named_steps['ct'].transformers_[0][2]\n",
    "    ohe_names = pipeline.named_steps['ct'].transformers_[1][1].named_steps['ohe'].get_feature_names()\n",
    "    bool_names = pipeline.named_steps['ct'].transformers_[2][2]\n",
    "    all_names = np.concatenate( (num_names, ohe_names, bool_names) )\n",
    "    \n",
    "    model_name = list(pipeline.named_steps.keys())[1]\n",
    "    feature_importances = {name:score for name, score in zip(all_names, pipeline.named_steps[model_name].feature_importances_)}\n",
    "    return feature_importances\n"
   ]
  },
  {
   "cell_type": "code",
   "execution_count": null,
   "metadata": {
    "scrolled": true
   },
   "outputs": [],
   "source": [
    "#call dict_feature_imporatnces pipeline for the first model\n",
    "rfc_importances_dict = dict_feature_importances(first_rfc_pipe)\n",
    "rfc_importances_dict"
   ]
  },
  {
   "cell_type": "code",
   "execution_count": 15,
   "metadata": {},
   "outputs": [],
   "source": [
    "#function to return top n feature importances\n",
    "#returns a list of tuples with the feature and its associated feature importance\n",
    "#list is sorted in descending order by feature importance\n",
    "def top_importance(importances, n):\n",
    "    #sort feature importance values from the dictionary to pull out top n\n",
    "    top_features = sorted(importances, key=importances.get, reverse=True)[:n]\n",
    "    feature_and_importance = [(x, importances[x]) for x in top_features]\n",
    "    return feature_and_importance"
   ]
  },
  {
   "cell_type": "code",
   "execution_count": 25,
   "metadata": {},
   "outputs": [
    {
     "data": {
      "text/plain": [
       "[('x9_dry', 0.11496753876120527),\n",
       " ('gps_height', 0.06947020515438888),\n",
       " ('population', 0.0449283169044532),\n",
       " ('x9_enough', 0.04351227860557871),\n",
       " ('x11_other', 0.04270195733635547),\n",
       " ('x6_other', 0.03756829165590128),\n",
       " ('amount_tsh', 0.03213112163626943),\n",
       " ('x9_insufficient', 0.01901771506429383),\n",
       " ('x11_communal standpipe', 0.01886192774061734),\n",
       " ('x7_never pay', 0.01733008350984482)]"
      ]
     },
     "execution_count": 25,
     "metadata": {},
     "output_type": "execute_result"
    }
   ],
   "source": [
    "forest_importances = top_importance(rfc_importances_dict, 10)\n",
    "forest_importances"
   ]
  },
  {
   "cell_type": "markdown",
   "metadata": {},
   "source": [
    "Feature importance, also known as Gini importance, represents the total reduction of criterion by that feature.This provided a sense of which features were most impactful in the model's branching decisions.\n",
    "\n",
    "From the list of top 10 feature importances, we saw many OneHotEncoded features from the following columns: 'extraction_type', 'payment', 'quantity', and 'waterpoint_type'. The numerical columns 'gps_height', 'population', and 'amount_tsh' were also in the top feature importances. \n",
    "\n",
    "While these features had the greatest importance, this model was trained using a wide range of features which all contributed some complexity to the model."
   ]
  },
  {
   "cell_type": "code",
   "execution_count": 107,
   "metadata": {
    "scrolled": false
   },
   "outputs": [
    {
     "data": {
      "image/png": "[encoded data removed]",
      "text/plain": [
       "<Figure size 1440x720 with 1 Axes>"
      ]
     },
     "metadata": {
      "needs_background": "light"
     },
     "output_type": "display_data"
    }
   ],
   "source": [
    "#visualizing feature importance values\n",
    "fig, ax = plt.subplots(figsize=(20,10))\n",
    "\n",
    "features = [x[0] for x in forest_importances]\n",
    "importances = [x[1] for x in forest_importances]\n",
    "ax.bar(features, importances)\n",
    "\n",
    "ax.tick_params(axis='x', labelrotation = 45)\n",
    "ax.set_title('Top 10 Feature Importances for RandomForestClassifier', fontsize=20)\n",
    "ax.set_ylabel('Feature Importance')\n",
    "ax.set_xlabel('Features');\n",
    "\n",
    "fig.savefig('rfc_importances.png', dpi=300)"
   ]
  },
  {
   "cell_type": "markdown",
   "metadata": {},
   "source": [
    "## Second Model - Bagging Classifier"
   ]
  },
  {
   "cell_type": "markdown",
   "metadata": {},
   "source": [
    "Our second model was a BaggingClassifier. This BaggingClassifier was an ensemble estimator with a DecisionTreeClassifier as the base estimator. The model bags the original dataset into random subsets, fits the base classifier on these subsets, and aggregates their individual predictions to form a final prediciton."
   ]
  },
  {
   "cell_type": "code",
   "execution_count": 16,
   "metadata": {},
   "outputs": [],
   "source": [
    "dt = DecisionTreeClassifier(criterion='gini', max_depth=50, min_samples_leaf=1,min_samples_split=10)\n",
    "\n",
    "bagging_dt_model = BaggingClassifier(base_estimator=dt, n_estimators=100, random_state=42)\n",
    "\n",
    "bag_dt_pipe = Pipeline(steps = [('ct', CT),\n",
    "                                ('baglogreg', bagging_dt_model )])"
   ]
  },
  {
   "cell_type": "code",
   "execution_count": 57,
   "metadata": {},
   "outputs": [
    {
     "data": {
      "text/plain": [
       "0.8414716657910286"
      ]
     },
     "execution_count": 57,
     "metadata": {},
     "output_type": "execute_result"
    }
   ],
   "source": [
    "cross_val_score(bag_dt_pipe, X_train, y_train).mean()"
   ]
  },
  {
   "cell_type": "code",
   "execution_count": 59,
   "metadata": {},
   "outputs": [],
   "source": [
    "#dtc_gs = GridSearchCV(bag_dt_pipe, dtc_params, cv=5, verbose=1, n_jobs=-2)\n",
    "\n",
    "\n",
    "#dtc_gs.fit(X_train, y_train)\n",
    "\n",
    "#dtc_best = dtc_gs.best_estimator_\n",
    "#dtc_gs.best_params_"
   ]
  },
  {
   "cell_type": "code",
   "execution_count": 60,
   "metadata": {},
   "outputs": [],
   "source": [
    "#Results from BaggingClassifier grid search\n",
    "\n",
    "#{'baglogreg__base_estimator': DecisionTreeClassifier(max_depth=50, min_samples_split=10),\n",
    " #'baglogreg__max_features': 0.7,\n",
    " #'baglogreg__max_samples': 1.0,\n",
    " #'baglogreg__n_estimators': 100}\n",
    "    \n",
    "#dtc_gs.best_score_\n",
    "#0.8514029180695847"
   ]
  },
  {
   "cell_type": "markdown",
   "metadata": {},
   "source": [
    "The GridSearchCV best score for the BaggingClassifier was 0.851, a slight improvement on our RandomForestClassifier's score. "
   ]
  },
  {
   "cell_type": "code",
   "execution_count": 17,
   "metadata": {},
   "outputs": [],
   "source": [
    "dt = DecisionTreeClassifier(max_depth=50, min_samples_split=10)\n",
    "\n",
    "bagging_dt_model = BaggingClassifier(base_estimator=dt, n_estimators=100,\n",
    "                                     max_features=0.7, max_samples=1.0,\n",
    "                                     random_state=42)\n",
    "\n",
    "bag_dt_pipe = Pipeline(steps = [('ct', CT),\n",
    "                                ('baglogreg', bagging_dt_model )])"
   ]
  },
  {
   "cell_type": "code",
   "execution_count": 18,
   "metadata": {
    "scrolled": true
   },
   "outputs": [
    {
     "data": {
      "text/plain": [
       "Pipeline(steps=[('ct',\n",
       "                 ColumnTransformer(transformers=[('subpipe_num',\n",
       "                                                  Pipeline(steps=[('ss',\n",
       "                                                                   StandardScaler())]),\n",
       "                                                  ['amount_tsh', 'gps_height',\n",
       "                                                   'population']),\n",
       "                                                 ('subpipe_cat',\n",
       "                                                  Pipeline(steps=[('ohe',\n",
       "                                                                   OneHotEncoder(handle_unknown='ignore',\n",
       "                                                                                 sparse=False))]),\n",
       "                                                  ['installer', 'basin',\n",
       "                                                   'region', 'district_code',\n",
       "                                                   'lga', 'management',\n",
       "                                                   'extraction_type', 'payment',\n",
       "                                                   'water_quality', 'quantity',\n",
       "                                                   'source',\n",
       "                                                   'waterpoint_type']),\n",
       "                                                 ('subpipe_bool',\n",
       "                                                  Pipeline(steps=[('ord',\n",
       "                                                                   OrdinalEncoder())]),\n",
       "                                                  ['public_meeting',\n",
       "                                                   'permit'])])),\n",
       "                ('baglogreg',\n",
       "                 BaggingClassifier(base_estimator=DecisionTreeClassifier(max_depth=50,\n",
       "                                                                         min_samples_split=10),\n",
       "                                   max_features=0.7, n_estimators=100,\n",
       "                                   random_state=42))])"
      ]
     },
     "execution_count": 18,
     "metadata": {},
     "output_type": "execute_result"
    }
   ],
   "source": [
    "bag_dt_pipe.fit(X_train, y_train)"
   ]
  },
  {
   "cell_type": "code",
   "execution_count": 30,
   "metadata": {},
   "outputs": [
    {
     "data": {
      "text/plain": [
       "0.9248917598573777"
      ]
     },
     "execution_count": 30,
     "metadata": {},
     "output_type": "execute_result"
    }
   ],
   "source": [
    "bag_dt_pipe.score(X_train, y_train)"
   ]
  },
  {
   "cell_type": "markdown",
   "metadata": {},
   "source": [
    "We found the feature importances from the BaggingClassifier as the mean of feature importances for each tree."
   ]
  },
  {
   "cell_type": "code",
   "execution_count": 55,
   "metadata": {},
   "outputs": [
    {
     "data": {
      "text/plain": [
       "array([0.00037713, 0.00029562, 0.0006311 , ..., 0.00048631, 0.00039695,\n",
       "       0.00054091])"
      ]
     },
     "execution_count": 55,
     "metadata": {},
     "output_type": "execute_result"
    }
   ],
   "source": [
    "bag_importances = np.mean([\n",
    "    tree.feature_importances_ for tree in bag_dt_pipe.named_steps['baglogreg'].estimators_\n",
    "], axis=0)\n",
    "bag_importances"
   ]
  },
  {
   "cell_type": "code",
   "execution_count": 56,
   "metadata": {},
   "outputs": [],
   "source": [
    "num_names = bag_dt_pipe.named_steps['ct'].transformers_[0][2]\n",
    "ohe_names = bag_dt_pipe.named_steps['ct'].transformers_[1][1].named_steps['ohe'].get_feature_names()\n",
    "bool_names = bag_dt_pipe.named_steps['ct'].transformers_[2][2]\n",
    "all_names = np.concatenate( (num_names, ohe_names, bool_names) )"
   ]
  },
  {
   "cell_type": "code",
   "execution_count": null,
   "metadata": {
    "scrolled": false
   },
   "outputs": [],
   "source": [
    "feature_importances = {name:score for name, score in zip(all_names, bag_importances)}\n",
    "feature_importances"
   ]
  },
  {
   "cell_type": "code",
   "execution_count": 58,
   "metadata": {
    "scrolled": true
   },
   "outputs": [
    {
     "data": {
      "text/plain": [
       "[('x0_RC MISSION', 0.004923219779730823),\n",
       " ('x0_NYAKILANGANI CO', 0.00478682605501646),\n",
       " ('x0_Paffec', 0.003944020006983322),\n",
       " ('x0_Communit', 0.003744824240588701),\n",
       " ('x0_CONS', 0.0037281923621852505),\n",
       " ('x0_KMT', 0.0037052385048023766),\n",
       " ('x0_Seram', 0.0036631421291768522),\n",
       " ('x0_MI', 0.0035451967887158192),\n",
       " ('x0_MSIKIT', 0.003496483616593985),\n",
       " ('x0_Milenia', 0.0034747473048666296)]"
      ]
     },
     "execution_count": 58,
     "metadata": {},
     "output_type": "execute_result"
    }
   ],
   "source": [
    "bagging_importances = top_importance(feature_importances, 10)\n",
    "bagging_importances"
   ]
  },
  {
   "cell_type": "code",
   "execution_count": 111,
   "metadata": {},
   "outputs": [
    {
     "data": {
      "image/png": "[encoded data removed]",
      "text/plain": [
       "<Figure size 1440x720 with 1 Axes>"
      ]
     },
     "metadata": {
      "needs_background": "light"
     },
     "output_type": "display_data"
    }
   ],
   "source": [
    "#visualizing feature importance values\n",
    "fig, ax = plt.subplots(figsize=(20,10))\n",
    "\n",
    "features = [x[0] for x in bagging_importances]\n",
    "importances = [x[1] for x in bagging_importances]\n",
    "ax.bar(features, importances)\n",
    "\n",
    "ax.tick_params(axis='x', labelrotation = 45)\n",
    "ax.set_title('Top 10 Feature Importances for BaggingClassifier', fontsize=20)\n",
    "ax.set_ylabel('Feature Importance')\n",
    "ax.set_xlabel('Features');\n",
    "\n",
    "#fig.savefig('bagging_importances.png', dpi=300)"
   ]
  },
  {
   "cell_type": "markdown",
   "metadata": {},
   "source": [
    "The top feature importances for the Bagging classifier were all OneHotEncoded features from the 'installer' column. This suggests the 'installer' feature is important to the Bagging classifier's splitting decisions."
   ]
  },
  {
   "cell_type": "markdown",
   "metadata": {},
   "source": [
    "The accuracy on the train data and the cross valiation scores for this Bagging classifier were both greater than those of the Random Forest. However, we're interested in how the model performs on unseen data: our holdout validation set from the train-test split."
   ]
  },
  {
   "cell_type": "markdown",
   "metadata": {},
   "source": [
    "## Third Model - KNN Classifier"
   ]
  },
  {
   "cell_type": "markdown",
   "metadata": {},
   "source": [
    "Our final model type was a KNeighborsClassifier. The model classifies a data point by searching for the k-nearest neighbors and checking their classifications. The class of the data point is determined by a vote of their neighbors; however, the 'weights' parameter in the classifer can be used to specify how this vote is carried out. In our model, the 'weights' parameter was set to 'distance', meaning points that were close to the query point had a greater influence on the vote than neighbors who were further away."
   ]
  },
  {
   "cell_type": "code",
   "execution_count": 31,
   "metadata": {
    "scrolled": true
   },
   "outputs": [],
   "source": [
    "#pipeline for a knn classifier model\n",
    "knn = KNeighborsClassifier(n_neighbors=12, leaf_size=2, metric='manhattan', p=2, weights='distance')\n",
    "\n",
    "knn_model_pipe = Pipeline(steps = [('ct', CT),\n",
    "                                   ('KN', knn )])\n"
   ]
  },
  {
   "cell_type": "code",
   "execution_count": null,
   "metadata": {},
   "outputs": [],
   "source": [
    "knn_model_pipe.fit(X_train, y_train)"
   ]
  },
  {
   "cell_type": "code",
   "execution_count": 69,
   "metadata": {},
   "outputs": [],
   "source": [
    "#grid search for KNN\n",
    "#grid = {'KN__n_neighbors':range(6, 10), 'KN__leaf_size':range(4), 'KN__metric':['minkowski', 'manhattan'], 'KN__weights':['uniform', 'distance'], 'KN__p':[2]}\n",
    "\n",
    "#knn_gs = GridSearchCV(estimator=knn_model_pipe, param_grid=grid, cv=5, n_jobs=-1, verbose=3)\n",
    "#knn_gs.fit(X_train, y_train)"
   ]
  },
  {
   "cell_type": "code",
   "execution_count": 70,
   "metadata": {},
   "outputs": [],
   "source": [
    "#Results from KNN grid search\n",
    "\n",
    "#knn_gs.best_params_\n",
    "#{'KN__leaf_size': 1,\n",
    "# 'KN__metric': 'manhattan',\n",
    "# 'KN__n_neighbors': 9,\n",
    "# 'KN__p': 2,\n",
    "# 'KN__weights': 'distance'}\n",
    "\n",
    "#knn_gs.best_score_\n",
    "#0.829023569023569\n",
    "\n",
    "#knn_gs.best_estimator_.score(X_test, y_test)"
   ]
  },
  {
   "cell_type": "markdown",
   "metadata": {},
   "source": [
    "The grid search with cross validation for the KNN model yielded a score of 0.829. This accuracy is lower than those of our other two models."
   ]
  },
  {
   "cell_type": "code",
   "execution_count": 32,
   "metadata": {},
   "outputs": [],
   "source": [
    "#saving best GridSearch params as a model within pipeline\n",
    "knn = KNeighborsClassifier(n_neighbors=9, leaf_size=1, metric='manhattan', \n",
    "                           p=2, weights='distance')\n",
    "\n",
    "knn_model_pipe = Pipeline(steps = [('ct', CT),\n",
    "                                   ('KN', knn )])"
   ]
  },
  {
   "cell_type": "code",
   "execution_count": 33,
   "metadata": {
    "scrolled": true
   },
   "outputs": [
    {
     "data": {
      "text/plain": [
       "Pipeline(steps=[('ct',\n",
       "                 ColumnTransformer(transformers=[('subpipe_num',\n",
       "                                                  Pipeline(steps=[('ss',\n",
       "                                                                   StandardScaler())]),\n",
       "                                                  ['amount_tsh', 'gps_height',\n",
       "                                                   'population']),\n",
       "                                                 ('subpipe_cat',\n",
       "                                                  Pipeline(steps=[('ohe',\n",
       "                                                                   OneHotEncoder(handle_unknown='ignore',\n",
       "                                                                                 sparse=False))]),\n",
       "                                                  ['installer', 'basin',\n",
       "                                                   'region', 'district_code',\n",
       "                                                   'lga', 'management',\n",
       "                                                   'extraction_type', 'payment',\n",
       "                                                   'water_quality', 'quantity',\n",
       "                                                   'source',\n",
       "                                                   'waterpoint_type']),\n",
       "                                                 ('subpipe_bool',\n",
       "                                                  Pipeline(steps=[('ord',\n",
       "                                                                   OrdinalEncoder())]),\n",
       "                                                  ['public_meeting',\n",
       "                                                   'permit'])])),\n",
       "                ('KN',\n",
       "                 KNeighborsClassifier(leaf_size=1, metric='manhattan',\n",
       "                                      n_neighbors=9, weights='distance'))])"
      ]
     },
     "execution_count": 33,
     "metadata": {},
     "output_type": "execute_result"
    }
   ],
   "source": [
    "knn_model_pipe.fit(X_train, y_train)"
   ]
  },
  {
   "cell_type": "code",
   "execution_count": 34,
   "metadata": {},
   "outputs": [
    {
     "data": {
      "text/plain": [
       "0.9640897409182468"
      ]
     },
     "execution_count": 34,
     "metadata": {},
     "output_type": "execute_result"
    }
   ],
   "source": [
    "knn_model_pipe.score(X_train, y_train)"
   ]
  },
  {
   "cell_type": "markdown",
   "metadata": {},
   "source": [
    "This KNN model suffered from overfitting. The accuracy was high on the train set (96.4%), but cross-validation scores were lower when compared to our previous two models (82.9%)."
   ]
  },
  {
   "cell_type": "markdown",
   "metadata": {},
   "source": [
    "KNN is a memory-intensive model since the data needs to be kept in memory in order for distances to be calculated. For the number of features in our models, KNN's computational performance suffered from long runtimes."
   ]
  },
  {
   "cell_type": "markdown",
   "metadata": {},
   "source": [
    "## Evaluation of Models on Test Set"
   ]
  },
  {
   "cell_type": "markdown",
   "metadata": {},
   "source": [
    "With our models tuned, we scored them on the holdout test set to evaluate each model's performance on unseen data."
   ]
  },
  {
   "cell_type": "code",
   "execution_count": 38,
   "metadata": {},
   "outputs": [],
   "source": [
    "#function that takes in a dictionary, model, and X / y data\n",
    "#stores the model score on the X, y set \n",
    "#model name as string is the key, score as value\n",
    "def score_to_dict(model_name, model,score_dict, X, y):\n",
    "    score = model.score(X, y)\n",
    "    score_dict[model_name] = [model, score]\n",
    "    return score_dict"
   ]
  },
  {
   "cell_type": "code",
   "execution_count": 67,
   "metadata": {},
   "outputs": [],
   "source": [
    "#function that produces a dictionary without the model pipeline object\n",
    "#key = model name, value = score\n",
    "def score_only_dict(score_dict):\n",
    "    scores_only = {x: score_dict[x][1] for x in score_dict}\n",
    "    return scores_only"
   ]
  },
  {
   "cell_type": "code",
   "execution_count": 42,
   "metadata": {
    "scrolled": true
   },
   "outputs": [
    {
     "name": "stdout",
     "output_type": "stream",
     "text": [
      "{'RFC': [Pipeline(steps=[('ct',\n",
      "                 ColumnTransformer(transformers=[('subpipe_num',\n",
      "                                                  Pipeline(steps=[('ss',\n",
      "                                                                   StandardScaler())]),\n",
      "                                                  ['amount_tsh', 'gps_height',\n",
      "                                                   'population']),\n",
      "                                                 ('subpipe_cat',\n",
      "                                                  Pipeline(steps=[('ohe',\n",
      "                                                                   OneHotEncoder(handle_unknown='ignore',\n",
      "                                                                                 sparse=False))]),\n",
      "                                                  ['installer', 'basin',\n",
      "                                                   'region', 'district_code',\n",
      "                                                   'lga', 'management',\n",
      "                                                   'extraction_type', 'payment',\n",
      "                                                   'water_quality', 'quantity',\n",
      "                                                   'source',\n",
      "                                                   'waterpoint_type']),\n",
      "                                                 ('subpipe_bool',\n",
      "                                                  Pipeline(steps=[('ord',\n",
      "                                                                   OrdinalEncoder())]),\n",
      "                                                  ['public_meeting',\n",
      "                                                   'permit'])])),\n",
      "                ('rfc',\n",
      "                 RandomForestClassifier(max_depth=50, min_samples_split=10,\n",
      "                                        n_estimators=200, random_state=42))]), 0.8481628116968813]}\n"
     ]
    }
   ],
   "source": [
    "#initiliaze score dictioanry\n",
    "#add RFC score to dict\n",
    "score_dict = {}\n",
    "score_dict = score_to_dict('RFC',first_rfc_pipe, score_dict, X_test, y_test)\n",
    "print(score_dict)"
   ]
  },
  {
   "cell_type": "code",
   "execution_count": 43,
   "metadata": {},
   "outputs": [],
   "source": [
    "#add BaggingClassifier score to dict\n",
    "score_dict = score_to_dict('Bagging classifier', bag_dt_pipe, score_dict, X_test, y_test)"
   ]
  },
  {
   "cell_type": "code",
   "execution_count": 44,
   "metadata": {},
   "outputs": [],
   "source": [
    "#add KNN score to dict\n",
    "score_dict = score_dict = score_to_dict('KNN', knn_model_pipe, score_dict, X_test, y_test)"
   ]
  },
  {
   "cell_type": "code",
   "execution_count": 73,
   "metadata": {},
   "outputs": [
    {
     "data": {
      "text/plain": [
       "{'RFC': 0.8481628116968813,\n",
       " 'Bagging classifier': 0.8503854969785372,\n",
       " 'KNN': 0.832326179065083}"
      ]
     },
     "execution_count": 73,
     "metadata": {},
     "output_type": "execute_result"
    }
   ],
   "source": [
    "#Printout of model names and scores on holdout test set\n",
    "model_scores = score_only_dict(score_dict)\n",
    "model_scores"
   ]
  },
  {
   "cell_type": "code",
   "execution_count": 112,
   "metadata": {},
   "outputs": [
    {
     "data": {
      "image/png": "[encoded data removed]",
      "text/plain": [
       "<Figure size 432x288 with 1 Axes>"
      ]
     },
     "metadata": {
      "needs_background": "light"
     },
     "output_type": "display_data"
    }
   ],
   "source": [
    "#plot of accuracy scores for different models\n",
    "fig, ax = plt.subplots()\n",
    "\n",
    "model_names = list(model_scores.keys())\n",
    "model_names.append('Dummy')\n",
    "\n",
    "test_scores = list(model_scores.values())\n",
    "test_scores.append(dummy_clf.score(X_test, y_test))\n",
    "\n",
    "colors = ['purple' if name=='Bagging classifier' else 'tab:blue' for name in model_names]\n",
    "ax.bar(model_names, test_scores, color=colors);\n",
    "\n",
    "ax.set_ylim([0, 0.9])\n",
    "ax.set_title('Scores on Test Set')\n",
    "ax.set_xlabel('Model')\n",
    "ax.set_ylabel('Accuracy');\n",
    "\n",
    "plt.savefig('test_accuracy_scores.png', dpi=300)"
   ]
  },
  {
   "cell_type": "markdown",
   "metadata": {},
   "source": [
    "Based on accuracy score alone, the Bagging classifier was our strongest performing model. The test scores for all three models were relatively close. Bagging classifier was at the top with 85.0% accuracy, the Random Forest classifier had 84.8% accuracy, and the K-Nearest Neighbors classifier had 83.2% accuracy."
   ]
  },
  {
   "cell_type": "markdown",
   "metadata": {},
   "source": [
    "## Other Metrics"
   ]
  },
  {
   "cell_type": "markdown",
   "metadata": {},
   "source": [
    "While model accuracy is important, other metrics such as precision and recall are important in evaluating model performance with specific regard to model sensitivity to different pump functionalities."
   ]
  },
  {
   "cell_type": "markdown",
   "metadata": {},
   "source": [
    "Our goal with these models is to identify non-functional pumps so that organizations can perform repair or replacement. Therefore we've defined 'non functional' as the \"positive\" case for these precision and recall scores. Recall was the more important metric. In this scenario, recall measures how many non-functional pumps our models are able to detect out of all the non-functional pumps in the dataset. 'False negatives' (i.e. classified 'functional' when it is actually 'non functional') represent a greater risk to water access as pumps that are in need of attention could get overlooked if misclassified by the model. \n",
    "\n",
    "\n",
    "We used sci-kit learn's plot_confusion_matrix to visualize our models' predictions against the actual classifications in y-test. Additionally, the precision and recall scores for each model were calculated. Note that the positive label in precision and recall has been set to 'non functional'."
   ]
  },
  {
   "cell_type": "code",
   "execution_count": 99,
   "metadata": {},
   "outputs": [
    {
     "data": {
      "text/plain": [
       "array(['non functional', 'functional', 'functional', ..., 'functional',\n",
       "       'functional', 'functional'], dtype=object)"
      ]
     },
     "execution_count": 99,
     "metadata": {},
     "output_type": "execute_result"
    }
   ],
   "source": [
    "#get predicted values for metric scores\n",
    "rfc_preds = first_rfc_pipe.predict(X_test)\n",
    "rfc_preds"
   ]
  },
  {
   "cell_type": "code",
   "execution_count": 81,
   "metadata": {},
   "outputs": [],
   "source": [
    "#get predicted values for metric scores\n",
    "bagging_preds = bag_dt_pipe.predict(X_test)"
   ]
  },
  {
   "cell_type": "code",
   "execution_count": 79,
   "metadata": {},
   "outputs": [],
   "source": [
    "#get predicted values for metric scores\n",
    "knn_preds = knn_model_pipe.predict(X_test)"
   ]
  },
  {
   "cell_type": "code",
   "execution_count": 102,
   "metadata": {},
   "outputs": [
    {
     "data": {
      "image/png": "[encoded data removed]",
      "text/plain": [
       "<Figure size 1080x720 with 6 Axes>"
      ]
     },
     "metadata": {
      "needs_background": "light"
     },
     "output_type": "display_data"
    }
   ],
   "source": [
    "#plot confusion matrices for all 3 models\n",
    "fig, ax = plt.subplots(2, 2, figsize=(15,10))\n",
    "\n",
    "ax[0, 0].set_title(\"RFC\")\n",
    "ax[0, 1].set_title(\"Bagging\")\n",
    "ax[1, 0].set_title(\"KNN\")\n",
    "ax[1, 1].remove()\n",
    "\n",
    "classifiers = [first_rfc_pipe, bag_dt_pipe, knn_model_pipe]\n",
    "\n",
    "for cls, ax in zip(classifiers, ax.flatten()):\n",
    "    plot_confusion_matrix(cls, \n",
    "                          X_test, \n",
    "                          y_test, \n",
    "                          ax=ax)\n",
    "\n",
    "plt.tight_layout();\n",
    "\n",
    "plt.savefig('confusion_matrices.png', dpi=300)"
   ]
  },
  {
   "cell_type": "code",
   "execution_count": 103,
   "metadata": {},
   "outputs": [
    {
     "data": {
      "text/plain": [
       "(0.8538657604078165, 0.7285248278361726)"
      ]
     },
     "execution_count": 103,
     "metadata": {},
     "output_type": "execute_result"
    }
   ],
   "source": [
    "rfc_precision = precision_score(y_test, rfc_preds, pos_label=\"non functional\")\n",
    "rfc_recall = recall_score(y_test, rfc_preds, pos_label=\"non functional\")\n",
    "rfc_precision, rfc_recall"
   ]
  },
  {
   "cell_type": "code",
   "execution_count": 105,
   "metadata": {},
   "outputs": [
    {
     "data": {
      "text/plain": [
       "(0.8514417049728374, 0.7384922073214933)"
      ]
     },
     "execution_count": 105,
     "metadata": {},
     "output_type": "execute_result"
    }
   ],
   "source": [
    "bagging_precision = precision_score(y_test, bagging_preds, pos_label=\"non functional\")\n",
    "bagging_recall = recall_score(y_test, bagging_preds, pos_label=\"non functional\")\n",
    "bagging_precision, bagging_recall"
   ]
  },
  {
   "cell_type": "code",
   "execution_count": 106,
   "metadata": {},
   "outputs": [
    {
     "data": {
      "text/plain": [
       "(0.805993690851735, 0.74084813338166)"
      ]
     },
     "execution_count": 106,
     "metadata": {},
     "output_type": "execute_result"
    }
   ],
   "source": [
    "knn_precision = precision_score(y_test, knn_preds, pos_label=\"non functional\")\n",
    "knn_recall = recall_score(y_test, knn_preds, pos_label=\"non functional\")\n",
    "knn_precision, knn_recall"
   ]
  },
  {
   "cell_type": "code",
   "execution_count": 113,
   "metadata": {},
   "outputs": [
    {
     "name": "stdout",
     "output_type": "stream",
     "text": [
      "Precision score RFC: 0.8538657604078165\n",
      "Precision score Bagging: 0.8514417049728374\n",
      "Precision score KNN: 0.805993690851735\n"
     ]
    }
   ],
   "source": [
    "#print out all precision scores\n",
    "print(f'Precision score RFC: {rfc_precision}')\n",
    "print(f'Precision score Bagging: {bagging_precision}')\n",
    "print(f'Precision score KNN: {knn_precision}')"
   ]
  },
  {
   "cell_type": "code",
   "execution_count": 114,
   "metadata": {},
   "outputs": [
    {
     "name": "stdout",
     "output_type": "stream",
     "text": [
      "Recall score RFC: 0.7285248278361726\n",
      "Recall score Bagging: 0.7384922073214933\n",
      "Recall score KNN: 0.74084813338166\n"
     ]
    }
   ],
   "source": [
    "#print out all recall scores\n",
    "print(f'Recall score RFC: {rfc_recall}')\n",
    "print(f'Recall score Bagging: {bagging_recall}')\n",
    "print(f'Recall score KNN: {knn_recall}')"
   ]
  },
  {
   "cell_type": "markdown",
   "metadata": {},
   "source": [
    "Out of our three models, the KNN model has the highest recall score for the 'non functional' category at 0.741. This means that for the test data, it correctly classified 74.1% of non-functional pumps out of all true non-functional pumps in the dataset.The other two models have recall scores within 1-2%: Bagging had a recall score of 0.738 and Random Forest had a recall score of 0.726.\n",
    "\n",
    "Precision scores for our models were higher than the recall scores. KNN underperformed in precision, lagging behind the other two models at 0.806. Bagging and RandomForest had precision scores around 0.85.\n",
    "\n",
    "In choosing a best model, we wanted to take both accuracy and recall into account. Overall, Bagging is our best model with an accuracy score of 0.850 and a recall score of 0.738. The low recall score is a feature we'd like to address if we continued to improve on this model in the future. Given that the precision score for these models is higher than the recall scores, there is room for a tradeoff between recall and precision. Increasing sensitivity to non-functional pumps would improve recall and reduce the number of 'false negatives'. \n",
    "\n",
    "One possible way to do this is to adjust the probability threshold for determining a non-functional class to tune the model's sensitivity to the 'non functional' class. This would cause models to favor the non-functional class, driving up the sensitivity to non-functional pumps. While this comes at a cost of correctly detecting functional pumps, the health benefits of identiying and fixing non-functional pumps is a strong reason to justify this tradeoff. A precision vs recall curve could be used to determine an ideal threshold to balance the tradeoff."
   ]
  },
  {
   "cell_type": "code",
   "execution_count": 20,
   "metadata": {},
   "outputs": [],
   "source": [
    "#bag_dt_pipe.predict_proba(X_test)"
   ]
  },
  {
   "cell_type": "markdown",
   "metadata": {},
   "source": [
    "# Conclusion"
   ]
  },
  {
   "cell_type": "markdown",
   "metadata": {},
   "source": [
    "After iterating over several models and model types, we developed a Bagging classifier to determine a water pump's functionality based on regional information, management and installation information, water quality and amount, and pump characteristics.\n",
    "\n",
    "Our best performing model is a BaggingClassifier with DecisionTreeClassifiers as the base estimator. This model had an accuracy score of 0.850, meaning it correctly classified a pump's functional status 85% of the time. Our best model was limited in its sensitivity towards the non-functional class. While it correctly classified 73.8% of all non-functional cases, the model still has room for improvement. Improving the model's recall for non-functional water pumps would improve its efficacy in identifying places where people lack access to clean water. The top feature importances for the model were all related to 'installer', the organization/individual responsible for installing the water pump. This indicates that 'installer' has some implications in predicting a pump's functionality and highlights pump installation as a possible area for organizations to investigate.\n",
    "\n",
    "This model is a tool for organizations seeking to improve water access in Tanzania. Due to the limited data available on the age of each water pump, our model could be used when age data is not readily available and look at other features in order to classify pump funtionality. Both government agencies and non-governmental organizations could use the model to where pumps are non-functional and provide aid to people who are unable to access safe sources of water. \n",
    " "
   ]
  },
  {
   "cell_type": "markdown",
   "metadata": {},
   "source": [
    "### Further steps"
   ]
  },
  {
   "cell_type": "markdown",
   "metadata": {},
   "source": [
    "Here are some areas for further investigation to produce an improved model:\n",
    "\n",
    "- Improve sensitivity to non-functional pumps: People around non-functional pumps lack access to clean water. Correctly identifying cases of non-functional pumps is critical to improving water access for Tanzanians.\n",
    "\n",
    "\n",
    "- Reduce model complexity: We highlighted age as a feature where information is lacking. The model currently takes in 17 features. Given the challenge of collecting information to feed into the model, a model that can make predictions when less infomation is available could be more useful for organizations to utilize. The challenge is to balance model performance with reduced complexity/information availability.\n",
    "\n",
    "- Identify trends associated with installer: Our best model "
   ]
  }
 ],
 "metadata": {
  "kernelspec": {
   "display_name": "Python (learn-env)",
   "language": "python",
   "name": "learn-env"
  },
  "language_info": {
   "codemirror_mode": {
    "name": "ipython",
    "version": 3
   },
   "file_extension": ".py",
   "mimetype": "text/x-python",
   "name": "python",
   "nbconvert_exporter": "python",
   "pygments_lexer": "ipython3",
   "version": "3.8.5"
  }
 },
 "nbformat": 4,
 "nbformat_minor": 4
}
