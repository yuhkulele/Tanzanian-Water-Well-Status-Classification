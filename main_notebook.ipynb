{
 "cells": [
  {
   "cell_type": "markdown",
   "metadata": {},
   "source": [
    "# Phase 3 Project"
   ]
  },
  {
   "cell_type": "markdown",
   "metadata": {},
   "source": [
    "## Overview"
   ]
  },
  {
   "cell_type": "markdown",
   "metadata": {},
   "source": [
    "## Business Understanding"
   ]
  },
  {
   "cell_type": "markdown",
   "metadata": {},
   "source": [
    "## Data Understanding"
   ]
  },
  {
   "cell_type": "code",
   "execution_count": null,
   "metadata": {},
   "outputs": [],
   "source": []
  },
  {
   "cell_type": "markdown",
   "metadata": {},
   "source": [
    "### Imports"
   ]
  },
  {
   "cell_type": "code",
   "execution_count": 1,
   "metadata": {},
   "outputs": [],
   "source": [
    "#import statements\n",
    "import pandas as pd\n",
    "import numpy as np\n",
    "\n",
    "#data visualization\n",
    "import matplotlib\n",
    "import matplotlib.pyplot as plt\n",
    "import seaborn as sns\n",
    "\n",
    "#sci-kit learn\n",
    "import sklearn\n",
    "from sklearn.model_selection import train_test_split, cross_validate, cross_val_score, GridSearchCV\n",
    "from sklearn.preprocessing import FunctionTransformer, OneHotEncoder, OrdinalEncoder, StandardScaler\n",
    "from sklearn.metrics import accuracy_score, plot_confusion_matrix, confusion_matrix\n",
    "from sklearn.dummy import DummyClassifier\n",
    "\n",
    "from sklearn.neighbors import KNeighborsClassifier\n",
    "from sklearn.tree import DecisionTreeClassifier\n",
    "from sklearn.ensemble import BaggingClassifier, RandomForestClassifier\n",
    "\n",
    "from sklearn.pipeline import Pipeline\n",
    "from sklearn.compose import ColumnTransformer"
   ]
  },
  {
   "cell_type": "markdown",
   "metadata": {},
   "source": [
    "# Modeling"
   ]
  },
  {
   "cell_type": "markdown",
   "metadata": {},
   "source": [
    "We used a variety of scikit-learn classification models to see which model produced the best results for the classification of functional vs non-functional water pumps."
   ]
  },
  {
   "cell_type": "markdown",
   "metadata": {},
   "source": [
    "Our data was imported from the 'water_well_train_clean.csv' file. This file contains the dataset after cleaning in our project's EDA notebook. However, saving the cleaned dataframe to a csv resulted in some column datatypes being automatically changed. Before we could work with the data, we had to change the values in 'region_code' and 'district_code' from integers to strings."
   ]
  },
  {
   "cell_type": "code",
   "execution_count": 2,
   "metadata": {},
   "outputs": [],
   "source": [
    "#Read in cleaned data\n",
    "df = pd.read_csv('./data/water_well_train_clean.csv')"
   ]
  },
  {
   "cell_type": "code",
   "execution_count": 3,
   "metadata": {
    "scrolled": true
   },
   "outputs": [
    {
     "name": "stdout",
     "output_type": "stream",
     "text": [
      "<class 'pandas.core.frame.DataFrame'>\n",
      "Int64Index: 57588 entries, 0 to 59399\n",
      "Data columns (total 44 columns):\n",
      " #   Column                 Non-Null Count  Dtype  \n",
      "---  ------                 --------------  -----  \n",
      " 0   id                     57588 non-null  int64  \n",
      " 1   amount_tsh             57588 non-null  float64\n",
      " 2   date_recorded          57588 non-null  object \n",
      " 3   funder                 57588 non-null  object \n",
      " 4   gps_height             57588 non-null  int64  \n",
      " 5   installer              57588 non-null  object \n",
      " 6   longitude              57588 non-null  float64\n",
      " 7   latitude               57588 non-null  float64\n",
      " 8   wpt_name               57588 non-null  object \n",
      " 9   num_private            57588 non-null  int64  \n",
      " 10  basin                  57588 non-null  object \n",
      " 11  subvillage             57588 non-null  object \n",
      " 12  region                 57588 non-null  object \n",
      " 13  region_code            57588 non-null  int64  \n",
      " 14  district_code          57588 non-null  int64  \n",
      " 15  lga                    57588 non-null  object \n",
      " 16  ward                   57588 non-null  object \n",
      " 17  population             57588 non-null  int64  \n",
      " 18  public_meeting         57588 non-null  bool   \n",
      " 19  recorded_by            57588 non-null  object \n",
      " 20  scheme_management      57588 non-null  object \n",
      " 21  scheme_name            57588 non-null  object \n",
      " 22  permit                 57588 non-null  bool   \n",
      " 23  construction_year      57588 non-null  int64  \n",
      " 24  extraction_type        57588 non-null  object \n",
      " 25  extraction_type_group  57588 non-null  object \n",
      " 26  extraction_type_class  57588 non-null  object \n",
      " 27  management             57588 non-null  object \n",
      " 28  management_group       57588 non-null  object \n",
      " 29  payment                57588 non-null  object \n",
      " 30  payment_type           57588 non-null  object \n",
      " 31  water_quality          57588 non-null  object \n",
      " 32  quality_group          57588 non-null  object \n",
      " 33  quantity               57588 non-null  object \n",
      " 34  quantity_group         57588 non-null  object \n",
      " 35  source                 57588 non-null  object \n",
      " 36  source_type            57588 non-null  object \n",
      " 37  source_class           57588 non-null  object \n",
      " 38  waterpoint_type        57588 non-null  object \n",
      " 39  waterpoint_type_group  57588 non-null  object \n",
      " 40  id_label               57588 non-null  int64  \n",
      " 41  status_group           57588 non-null  object \n",
      " 42  coordinates            57588 non-null  object \n",
      " 43  distance               57588 non-null  float64\n",
      "dtypes: bool(2), float64(4), int64(8), object(30)\n",
      "memory usage: 19.0+ MB\n"
     ]
    }
   ],
   "source": [
    "df.info()"
   ]
  },
  {
   "cell_type": "code",
   "execution_count": 4,
   "metadata": {},
   "outputs": [],
   "source": [
    "#change data types for 'region_code' and 'district_code' from int to str\n",
    "df['region_code'] = df['region_code'].astype(str)\n",
    "df['district_code'] = df['district_code'].astype(str)"
   ]
  },
  {
   "cell_type": "markdown",
   "metadata": {},
   "source": [
    "Our goal in modeling was to create a classification model with the highest accuracy in classifying functional and non-functional water pumps. The dataset's target column 'status_group' contains a third value 'functional needs repair'. For our analysis, we grouped 'functional needs repair' with 'functional'. In doing so, we trained our model with the focus of identifying 'non functional' water pumps. These non-functional pumps represent areas that require the most maintenance in pump infrastructure. Any organization addressing access to water needs to prioritize its resources and understand where to send personnel and materials. Our model could be used to identify nonfunctional pumps based on features captured in the dataset and highlight populations with the greatest need, allowing aid organizations to alleviate the water burden for those people."
   ]
  },
  {
   "cell_type": "code",
   "execution_count": 5,
   "metadata": {
    "scrolled": true
   },
   "outputs": [
    {
     "data": {
      "text/plain": [
       "functional        35320\n",
       "non functional    22268\n",
       "Name: status_group, dtype: int64"
      ]
     },
     "execution_count": 5,
     "metadata": {},
     "output_type": "execute_result"
    }
   ],
   "source": [
    "#SETTING UP BINARY CLASSIFICATION TARGET\n",
    "df_binary = df.copy()\n",
    "\n",
    "#group 'functional needs repair' with 'functional'\n",
    "df_binary['status_group'] = df_binary['status_group'].str.replace('functional needs repair','functional')\n",
    "df_binary['status_group'].value_counts()"
   ]
  },
  {
   "cell_type": "code",
   "execution_count": 6,
   "metadata": {},
   "outputs": [],
   "source": [
    "X = df_binary.drop('status_group', axis=1)"
   ]
  },
  {
   "cell_type": "code",
   "execution_count": 7,
   "metadata": {},
   "outputs": [],
   "source": [
    "y = df_binary['status_group']"
   ]
  },
  {
   "cell_type": "code",
   "execution_count": 8,
   "metadata": {},
   "outputs": [],
   "source": [
    "#train_test_split\n",
    "X_train, X_test, y_train, y_test = train_test_split(X, y, random_state=42)"
   ]
  },
  {
   "cell_type": "markdown",
   "metadata": {},
   "source": [
    "The data was split into a training set and a test set. The models were trained and fit to the train data. Model performances were judged using the test data to see how the models perform on unseen data."
   ]
  },
  {
   "cell_type": "markdown",
   "metadata": {},
   "source": [
    "### Dummy Classifier"
   ]
  },
  {
   "cell_type": "markdown",
   "metadata": {},
   "source": [
    "The dummy classifier set the baseline for our model metrics. Here, the dummy classifier predicts the most frequent class everytime. For our training data, the most frequent class is 'functional' with 61% frequency."
   ]
  },
  {
   "cell_type": "code",
   "execution_count": 9,
   "metadata": {},
   "outputs": [],
   "source": [
    "#dummy classifier baseline picks the most frequent class\n",
    "dummy_clf = DummyClassifier(strategy='most_frequent')"
   ]
  },
  {
   "cell_type": "code",
   "execution_count": 10,
   "metadata": {
    "scrolled": true
   },
   "outputs": [
    {
     "data": {
      "text/plain": [
       "DummyClassifier(strategy='most_frequent')"
      ]
     },
     "execution_count": 10,
     "metadata": {},
     "output_type": "execute_result"
    }
   ],
   "source": [
    "dummy_clf.fit(X_train, y_train)"
   ]
  },
  {
   "cell_type": "code",
   "execution_count": 11,
   "metadata": {},
   "outputs": [
    {
     "data": {
      "text/plain": [
       "0.6121877242944131"
      ]
     },
     "execution_count": 11,
     "metadata": {},
     "output_type": "execute_result"
    }
   ],
   "source": [
    "dummy_clf.score(X_train, y_train)"
   ]
  },
  {
   "cell_type": "markdown",
   "metadata": {},
   "source": [
    "The dummy classifier has a baseline accuracy of 0.61, predicting the correct class 61% of the time."
   ]
  },
  {
   "cell_type": "markdown",
   "metadata": {},
   "source": [
    "### Pipeline Setup"
   ]
  },
  {
   "cell_type": "markdown",
   "metadata": {},
   "source": [
    "The function below helped us streamline our feature selection process and simplified our workflow in conjunction with pipelines. It takes in a dataframe and a list of features and categorizes the features into numerical, categorical, and boolean groups. \n",
    "\n",
    "With this function, we were able to pass in a list of desired features and our X dataframe and have our pipeline act only on the features given."
   ]
  },
  {
   "cell_type": "code",
   "execution_count": 12,
   "metadata": {},
   "outputs": [],
   "source": [
    "#helper function to categorize list of features by datatype\n",
    "#create col lists of numeric, categorical, and boolean data\n",
    "#return column lists in as tuple (numerical, categorical, boolean)\n",
    "def GrabTypes(features, df):\n",
    "    df_features = df[features]\n",
    "    num_df = df_features.select_dtypes(include='number')\n",
    "    num_cols = list(num_df.columns)\n",
    "    cat_df = df_features.select_dtypes(include='object')\n",
    "    cat_cols = list(cat_df.columns)\n",
    "    bool_df = df_features.select_dtypes(include='boolean')\n",
    "    bool_cols = list(bool_df.columns)\n",
    "    return (num_cols, cat_cols, bool_cols)"
   ]
  },
  {
   "cell_type": "markdown",
   "metadata": {},
   "source": [
    "We chose 17 columns to include in our first model. The columns were picked to capture as much complexity as possible. In cases where multiple columns captured the same information (e.g. 'extraction_type', 'extraction_type_group', and 'extraction_type_class'), the most granular feature was selected for the model. "
   ]
  },
  {
   "cell_type": "code",
   "execution_count": 13,
   "metadata": {},
   "outputs": [
    {
     "data": {
      "text/plain": [
       "(['amount_tsh', 'gps_height', 'population'],\n",
       " ['installer',\n",
       "  'basin',\n",
       "  'region',\n",
       "  'district_code',\n",
       "  'lga',\n",
       "  'management',\n",
       "  'extraction_type',\n",
       "  'payment',\n",
       "  'water_quality',\n",
       "  'quantity',\n",
       "  'source',\n",
       "  'waterpoint_type'],\n",
       " ['public_meeting', 'permit'])"
      ]
     },
     "execution_count": 13,
     "metadata": {},
     "output_type": "execute_result"
    }
   ],
   "source": [
    "picked_features = ['amount_tsh', 'installer',  'gps_height', 'basin', 'region', \n",
    "                   'district_code', 'lga', 'population', 'public_meeting', \n",
    "                   'management', 'permit', 'extraction_type', 'payment', \n",
    "                   'water_quality', 'quantity', 'source', 'waterpoint_type']\n",
    "\n",
    "features_type = GrabTypes(picked_features, df)\n",
    "features_type"
   ]
  },
  {
   "cell_type": "markdown",
   "metadata": {},
   "source": [
    "Our iterative modeling process used scikit-learn's Pipeline to streamline transformations and GridSearching. Within the pipeline, there are 3 subpipelines in order to process the three types of features: numerical features, categorical features, and boolean features.\n",
    "\n",
    "Numerical features were transformed with StandardScaler. Categorical features were transformed with OneHotEncoder. The handle_unknown parameter for OneHotEncoder is set to 'ignore'. Any unknown categories encountered during transformation would have their resulted encoded columns as all zzeros. Finally, boolean features were transfomed with OrdinalEncoder."
   ]
  },
  {
   "cell_type": "code",
   "execution_count": 14,
   "metadata": {},
   "outputs": [],
   "source": [
    "#create subpipes for numeric and categorical features\n",
    "#StandardScaler on numerical features\n",
    "subpipe_num = Pipeline(steps=[('ss', StandardScaler() )])\n",
    "\n",
    "#OHE categorical features, handle_unknown = ignore\n",
    "subpipe_cat = Pipeline(steps=[('ohe', OneHotEncoder(sparse=False, handle_unknown='ignore') )])\n",
    "\n",
    "#boolean pipeline with ordinal encoder\n",
    "subpipe_bool = Pipeline(steps=[('ord', OrdinalEncoder() )])"
   ]
  },
  {
   "cell_type": "markdown",
   "metadata": {},
   "source": [
    "ColumnTransformer contained our three subpipelines. The parameter remainder = 'drop' meant any columns that were not specified to a subpipeline to be dropped from the transfomers and model estimator."
   ]
  },
  {
   "cell_type": "code",
   "execution_count": 15,
   "metadata": {},
   "outputs": [],
   "source": [
    "#column transformer with 3 subpipes\n",
    "CT = ColumnTransformer(transformers=[('subpipe_num', subpipe_num, features_type[0]),\n",
    "                                     ('subpipe_cat', subpipe_cat, features_type[1]),\n",
    "                                     ('subpipe_bool', subpipe_bool, features_type[2])],\n",
    "                       remainder='drop')"
   ]
  },
  {
   "cell_type": "markdown",
   "metadata": {},
   "source": [
    "With our subpipes and ColumnTransformer set up, we can now build models using a pipeline."
   ]
  },
  {
   "cell_type": "markdown",
   "metadata": {},
   "source": [
    "## First Model - Random Forest Classifier"
   ]
  },
  {
   "cell_type": "markdown",
   "metadata": {},
   "source": [
    "A Random Forest Classifier fits a number of decision trees on subsets of the data, using the average to improve the prodictive accuracy and reduce overfitting. "
   ]
  },
  {
   "cell_type": "code",
   "execution_count": 16,
   "metadata": {},
   "outputs": [],
   "source": [
    "#Instatiate a RandomForestClassifier with random_state = 42 and default hyperparameters\n",
    "rfc = RandomForestClassifier(random_state=42)\n",
    "\n",
    "#Create pipline with transformer 'ct' and estimator 'rfc'\n",
    "first_rfc_pipe = Pipeline(steps = [('ct', CT),\n",
    "                                   ('rfc', rfc )])"
   ]
  },
  {
   "cell_type": "code",
   "execution_count": 24,
   "metadata": {
    "scrolled": true
   },
   "outputs": [
    {
     "data": {
      "text/plain": [
       "Pipeline(steps=[('ct',\n",
       "                 ColumnTransformer(transformers=[('subpipe_num',\n",
       "                                                  Pipeline(steps=[('ss',\n",
       "                                                                   StandardScaler())]),\n",
       "                                                  ['amount_tsh', 'gps_height',\n",
       "                                                   'population']),\n",
       "                                                 ('subpipe_cat',\n",
       "                                                  Pipeline(steps=[('ohe',\n",
       "                                                                   OneHotEncoder(handle_unknown='ignore',\n",
       "                                                                                 sparse=False))]),\n",
       "                                                  ['installer', 'basin',\n",
       "                                                   'region', 'district_code',\n",
       "                                                   'lga', 'management',\n",
       "                                                   'extraction_type', 'payment',\n",
       "                                                   'water_quality', 'quantity',\n",
       "                                                   'source',\n",
       "                                                   'waterpoint_type']),\n",
       "                                                 ('subpipe_bool',\n",
       "                                                  Pipeline(steps=[('ord',\n",
       "                                                                   OrdinalEncoder())]),\n",
       "                                                  ['public_meeting',\n",
       "                                                   'permit'])])),\n",
       "                ('rfc', RandomForestClassifier(random_state=42))])"
      ]
     },
     "execution_count": 24,
     "metadata": {},
     "output_type": "execute_result"
    }
   ],
   "source": [
    "first_rfc_pipe.fit(X_train, y_train)"
   ]
  },
  {
   "cell_type": "code",
   "execution_count": 25,
   "metadata": {},
   "outputs": [
    {
     "data": {
      "text/plain": [
       "0.9646917181820287"
      ]
     },
     "execution_count": 25,
     "metadata": {},
     "output_type": "execute_result"
    }
   ],
   "source": [
    "first_rfc_pipe.score(X_train, y_train)"
   ]
  },
  {
   "cell_type": "markdown",
   "metadata": {},
   "source": [
    "A high accuracy of 96% for our first model on the train data was an immediate flag that there was overfitting."
   ]
  },
  {
   "cell_type": "markdown",
   "metadata": {},
   "source": [
    "We used GridSearchCV to optimize hyperparameters. The goal of GridSearchCV is to improve model performance by constructing models with different hyperparameter values to find the values that resulted in the best performing model. The mean cross validated scores from GridSearchCV were compared to the train accuracy score to assess overfitting. "
   ]
  },
  {
   "cell_type": "code",
   "execution_count": 28,
   "metadata": {},
   "outputs": [],
   "source": [
    "params = {'rfc__n_estimators':[100, 200],\n",
    "          'rfc__max_depth':[None, 50],\n",
    "          'rfc__min_samples_leaf': [1, 10],\n",
    "          'rfc__min_samples_split': [2, 5, 10]}\n",
    "\n",
    "gs = GridSearchCV(estimator = first_rfc_pipe, param_grid = params, cv=5)"
   ]
  },
  {
   "cell_type": "code",
   "execution_count": 29,
   "metadata": {
    "scrolled": true
   },
   "outputs": [
    {
     "data": {
      "text/plain": [
       "GridSearchCV(cv=5,\n",
       "             estimator=Pipeline(steps=[('ct',\n",
       "                                        ColumnTransformer(transformers=[('subpipe_num',\n",
       "                                                                         Pipeline(steps=[('ss',\n",
       "                                                                                          StandardScaler())]),\n",
       "                                                                         ['amount_tsh',\n",
       "                                                                          'gps_height',\n",
       "                                                                          'population']),\n",
       "                                                                        ('subpipe_cat',\n",
       "                                                                         Pipeline(steps=[('ohe',\n",
       "                                                                                          OneHotEncoder(handle_unknown='ignore',\n",
       "                                                                                                        sparse=False))]),\n",
       "                                                                         ['installer',\n",
       "                                                                          'basin',\n",
       "                                                                          'region',\n",
       "                                                                          'district_code',\n",
       "                                                                          'lga',\n",
       "                                                                          'management',\n",
       "                                                                          'extraction_type',\n",
       "                                                                          'payment',\n",
       "                                                                          'water_quality',\n",
       "                                                                          'quantity',\n",
       "                                                                          'source',\n",
       "                                                                          'waterpoint_type']),\n",
       "                                                                        ('subpipe_bool',\n",
       "                                                                         Pipeline(steps=[('ord',\n",
       "                                                                                          OrdinalEncoder())]),\n",
       "                                                                         ['public_meeting',\n",
       "                                                                          'permit'])])),\n",
       "                                       ('rfc',\n",
       "                                        RandomForestClassifier(random_state=42))]),\n",
       "             param_grid={'rfc__max_depth': [None, 50],\n",
       "                         'rfc__min_samples_leaf': [1, 10],\n",
       "                         'rfc__min_samples_split': [2, 5, 10],\n",
       "                         'rfc__n_estimators': [100, 200]})"
      ]
     },
     "execution_count": 29,
     "metadata": {},
     "output_type": "execute_result"
    }
   ],
   "source": [
    "#GridSearchCV fits will be commented out in this notebook to avoid excessive runtime\n",
    "#gs.fit(X_train, y_train)"
   ]
  },
  {
   "cell_type": "code",
   "execution_count": 30,
   "metadata": {},
   "outputs": [
    {
     "data": {
      "text/plain": [
       "{'rfc__max_depth': 50,\n",
       " 'rfc__min_samples_leaf': 1,\n",
       " 'rfc__min_samples_split': 10,\n",
       " 'rfc__n_estimators': 200}"
      ]
     },
     "execution_count": 30,
     "metadata": {},
     "output_type": "execute_result"
    }
   ],
   "source": [
    "gs.best_params_"
   ]
  },
  {
   "cell_type": "markdown",
   "metadata": {},
   "source": [
    "Out of these four hyperparameters, n_estimators, max_depth, and min_samples_split used values different from the default hyperparameters for RandomForestClassifier."
   ]
  },
  {
   "cell_type": "code",
   "execution_count": 34,
   "metadata": {},
   "outputs": [
    {
     "data": {
      "text/plain": [
       "0.8450834843555428"
      ]
     },
     "execution_count": 34,
     "metadata": {},
     "output_type": "execute_result"
    }
   ],
   "source": [
    "gs.best_score_"
   ]
  },
  {
   "cell_type": "markdown",
   "metadata": {},
   "source": [
    "Our cross validated accuracy score for this RandomForestClassifier model is 0.845. "
   ]
  },
  {
   "cell_type": "code",
   "execution_count": 17,
   "metadata": {},
   "outputs": [],
   "source": [
    "#saving best GridSearch params as a model within pipeline\n",
    "rfc = RandomForestClassifier(n_estimators=200, max_depth=50, min_samples_leaf=1, \n",
    "                             min_samples_split=10, random_state=42)\n",
    "first_rfc_pipe = Pipeline(steps = [('ct', CT),\n",
    "                                   ('rfc', rfc )])"
   ]
  },
  {
   "cell_type": "code",
   "execution_count": 19,
   "metadata": {},
   "outputs": [
    {
     "data": {
      "text/plain": [
       "0.9052348868977333"
      ]
     },
     "execution_count": 19,
     "metadata": {},
     "output_type": "execute_result"
    }
   ],
   "source": [
    "first_rfc_pipe.fit(X_train, y_train)\n",
    "first_rfc_pipe.score(X_train, y_train)"
   ]
  },
  {
   "cell_type": "markdown",
   "metadata": {},
   "source": [
    "By adjusting RandomForestClassifier hyperparameters, we were able to reduce overfitting. The accuracy of the model dropped to 90.5%, indicating it is fitting worse on the training set. However, our highest mean cross validation score of 0.845 indicates that the model performs reasonably well on unseen data, predicting the correct class 84.5% of the time. Our final evaluation of this RandomForestClassifier model will occur later with the holdout validation test set."
   ]
  },
  {
   "cell_type": "markdown",
   "metadata": {},
   "source": [
    "#### Feature Importances"
   ]
  },
  {
   "cell_type": "markdown",
   "metadata": {},
   "source": [
    "We've written a function to help connect feature importances of our models to the associated features transformed within the pipeline."
   ]
  },
  {
   "cell_type": "code",
   "execution_count": 20,
   "metadata": {},
   "outputs": [],
   "source": [
    "#helper function to map feature importances into a dictionary\n",
    "#takes in a pipeline and digs into the ColumnTransformer to pull out feature names\n",
    "#creates a dictionary with feature names as keys and feature importances as values\n",
    "\n",
    "def dict_feature_importances(pipeline):\n",
    "    num_names = pipeline.named_steps['ct'].transformers_[0][2]\n",
    "    ohe_names = pipeline.named_steps['ct'].transformers_[1][1].named_steps['ohe'].get_feature_names()\n",
    "    bool_names = pipeline.named_steps['ct'].transformers_[2][2]\n",
    "    all_names = np.concatenate( (num_names, ohe_names, bool_names) )\n",
    "    \n",
    "    model_name = list(pipeline.named_steps.keys())[1]\n",
    "    feature_importances = {name:score for name, score in zip(all_names, pipeline.named_steps[model_name].feature_importances_)}\n",
    "    return feature_importances\n"
   ]
  },
  {
   "cell_type": "code",
   "execution_count": 21,
   "metadata": {
    "scrolled": true
   },
   "outputs": [
    {
     "data": {
      "text/plain": [
       "{'amount_tsh': 0.03213112163626943,\n",
       " 'gps_height': 0.06947020515438888,\n",
       " 'population': 0.0449283169044532,\n",
       " 'x0_-': 1.54329556361116e-06,\n",
       " 'x0_AAR': 3.708504162413728e-05,\n",
       " 'x0_ABASIA': 5.239361146847844e-05,\n",
       " 'x0_ABD': 6.078803387722942e-06,\n",
       " 'x0_ABDALA': 2.386121830903937e-06,\n",
       " 'x0_ABDUL': 9.5936295962908e-07,\n",
       " 'x0_AC': 3.7628125380048477e-06,\n",
       " 'x0_ACORD': 1.0941866842976091e-05,\n",
       " 'x0_ACRA': 0.0003339878441708501,\n",
       " 'x0_ACT': 1.217027256161266e-05,\n",
       " 'x0_ACTION AID': 1.798650856382694e-06,\n",
       " 'x0_ACTIVE TANK CO': 5.447796226615571e-06,\n",
       " 'x0_ACTIVE TANK CO LTD': 3.6853326441805567e-07,\n",
       " 'x0_AD': 4.8099414320346824e-05,\n",
       " 'x0_ADAP': 5.711977389156756e-05,\n",
       " 'x0_ADB': 4.156549446790984e-05,\n",
       " 'x0_ADP': 6.911778892303098e-05,\n",
       " 'x0_ADP Busangi': 3.885167957244664e-05,\n",
       " 'x0_ADRA': 0.00016759429983639703,\n",
       " 'x0_ADRA /Government': 1.1437165368666817e-05,\n",
       " 'x0_ADRA/Government': 2.4359673457468947e-06,\n",
       " 'x0_AF': 8.671969775507154e-05,\n",
       " 'x0_AFRICA': 1.759432584856896e-06,\n",
       " 'x0_AFRICA MUSLIM': 1.8252621416274571e-06,\n",
       " 'x0_AFRICAN DEVELOPMENT FOUNDATION': 4.520200446084673e-06,\n",
       " 'x0_AFRICAN REFLECTIONS FOUNDATION': 1.6153058044961303e-05,\n",
       " 'x0_AGRICAN': 1.0692529894898765e-05,\n",
       " 'x0_AI': 4.732798711926735e-05,\n",
       " 'x0_AIC': 1.4504138055929084e-05,\n",
       " 'x0_AICT': 0.00017827908769229333,\n",
       " 'x0_ALIA': 1.116395308048139e-06,\n",
       " 'x0_AMP Contract': 4.487350158685781e-05,\n",
       " 'x0_AMP Contracts': 8.692465580853833e-05,\n",
       " 'x0_AMP contractor': 6.469639729348254e-05,\n",
       " 'x0_AMREF': 0.000503523971530441,\n",
       " 'x0_ANGLI': 1.235383789236133e-05,\n",
       " 'x0_ANGLIKANA CHURCH': 7.775709083376921e-06,\n",
       " 'x0_ANGRIKANA': 3.8985902871558753e-05,\n",
       " 'x0_ANSWAR': 2.354819950379612e-06,\n",
       " 'x0_AQAL': 1.119423434554417e-05,\n",
       " 'x0_AQUA BLUES ANGELS': 1.4530139121014576e-06,\n",
       " 'x0_AQUA WEL': 3.4615247594515985e-06,\n",
       " 'x0_AQUA Wel': 2.9276537756281987e-06,\n",
       " 'x0_AQUARMAN DRILLERS': 4.42004088611223e-06,\n",
       " 'x0_ASDP': 6.567785899072835e-06,\n",
       " 'x0_ATIGH BUILDINGS': 0.00025377246526793484,\n",
       " 'x0_AUSTRALIA': 2.245918899647454e-05,\n",
       " 'x0_AUWASA': 2.524591311382809e-05,\n",
       " 'x0_Aartisa': 5.587836900558064e-05,\n",
       " 'x0_Abdallah Ally Wazir': 1.2554748155002336e-07,\n",
       " 'x0_Accra': 4.323571183031612e-06,\n",
       " 'x0_Action Aid': 6.679124617156042e-06,\n",
       " 'x0_Action Contre La Faim': 2.2279166507977316e-05,\n",
       " 'x0_Active KMK': 5.724981537928219e-07,\n",
       " 'x0_Active MKM': 4.2233641268086084e-05,\n",
       " 'x0_Adam': 4.801402532028112e-06,\n",
       " 'x0_Adam Kea': 3.6773122322030772e-06,\n",
       " 'x0_Adra': 0.00015742954436430353,\n",
       " 'x0_Adra /Community': 0.0002664194753643672,\n",
       " 'x0_Adra/ Community': 0.00021892785004726419,\n",
       " 'x0_Adra/Community': 0.0004885995281240556,\n",
       " 'x0_Adrs': 1.6335463506253336e-05,\n",
       " 'x0_Af': 6.266805315961532e-05,\n",
       " 'x0_Africa': 6.7908312302293836e-06,\n",
       " 'x0_Africa Amini Alama': 1.8435136148304713e-05,\n",
       " 'x0_Africa Islamic Agency Tanzania': 5.803738112415346e-06,\n",
       " 'x0_Africa M': 1.6322162620843746e-05,\n",
       " 'x0_Africa Muslim Agenc': 5.86386546813204e-06,\n",
       " 'x0_African Muslims Age': 1.0388821977962693e-05,\n",
       " 'x0_Africaone': 1.532131661375219e-06,\n",
       " 'x0_Africaone Ltd': 1.4511629335792894e-05,\n",
       " 'x0_Africare': 5.425460650990556e-06,\n",
       " 'x0_Afroz Ismail': 1.0555372829550537e-05,\n",
       " 'x0_Ahmad': 9.443453797668258e-06,\n",
       " 'x0_Al Ha': 2.4874794392533446e-06,\n",
       " 'x0_Amadi': 1.2813449033846212e-06,\n",
       " 'x0_Amari': 4.46775172347333e-06,\n",
       " 'x0_Amboni Plantation': 1.2695687922305745e-05,\n",
       " 'x0_Amboni plantation': 3.588695130127085e-06,\n",
       " 'x0_American': 3.6141933828152713e-06,\n",
       " 'x0_Amref': 0.0003324207026005777,\n",
       " 'x0_Angli': 0.00011465499381624285,\n",
       " 'x0_Anglica Church': 3.2833817377295447e-06,\n",
       " 'x0_Anglican': 1.957071173029855e-06,\n",
       " 'x0_Anglican Church': 3.5732374801255146e-06,\n",
       " 'x0_Anglican Uganda': 3.1471566818123508e-06,\n",
       " 'x0_Anglican church': 7.4882808682656384e-06,\n",
       " 'x0_Anglikan': 2.297422794385787e-06,\n",
       " 'x0_Angrikana': 6.834561002123641e-07,\n",
       " 'x0_Ansnani Murij': 2.991368333992284e-06,\n",
       " 'x0_Aqwaman Drilling': 1.9828215398944145e-06,\n",
       " 'x0_Ar': 2.1667007013911713e-05,\n",
       " 'x0_Arab community': 4.049954828150525e-06,\n",
       " 'x0_Arabs Community': 4.723199040997902e-06,\n",
       " 'x0_Ardhi Instute': 3.14356824774253e-05,\n",
       " 'x0_Ardhi Water Wells': 1.4790621169257807e-06,\n",
       " 'x0_Ardhi and PET Companies': 1.4675081771479468e-06,\n",
       " 'x0_Ardhi water well': 7.0127522802786464e-06,\n",
       " 'x0_Arisan': 2.09107980962679e-06,\n",
       " 'x0_Artisan': 0.0002019559735536754,\n",
       " 'x0_Athumani  Janguo': 1.6228882604714068e-06,\n",
       " 'x0_Athumani Issa': 9.76400333270669e-07,\n",
       " 'x0_Atisan': 2.4736860604672536e-05,\n",
       " 'x0_Atlas': 1.3874199406614484e-05,\n",
       " 'x0_Atlas Company': 2.2793872536189036e-05,\n",
       " 'x0_B.A.P': 3.3842549682113767e-06,\n",
       " 'x0_BABTEST': 1.8026452824862473e-05,\n",
       " 'x0_BALYEH': 2.0206865695029236e-06,\n",
       " 'x0_BATIST CHURCH': 2.4235901782328783e-06,\n",
       " 'x0_BEMANDA': 6.464188155962422e-06,\n",
       " 'x0_BENGUKA': 1.750612310063856e-05,\n",
       " 'x0_BESADA': 0.00015233075177580117,\n",
       " 'x0_BESADO': 1.658087196269569e-05,\n",
       " 'x0_BFFS': 7.948782973982208e-06,\n",
       " 'x0_BGM': 0.00018025172243717733,\n",
       " 'x0_BGSS': 9.515023659600787e-07,\n",
       " 'x0_BILILA': 2.1533875847314995e-05,\n",
       " 'x0_BIORE': 6.959092282096467e-07,\n",
       " 'x0_BKHWS': 5.328988711037864e-06,\n",
       " 'x0_BOAZI': 8.231549144115915e-07,\n",
       " 'x0_BOMA SAVING': 1.3399798993454484e-05,\n",
       " 'x0_BR': 3.176944745015094e-05,\n",
       " 'x0_BRA': 4.569607885285502e-06,\n",
       " 'x0_BRUDER': 1.69368200976407e-05,\n",
       " 'x0_BSF': 5.183453565280066e-05,\n",
       " 'x0_BUKUMB': 1.2561443899128114e-05,\n",
       " 'x0_BUMABU': 2.6467365388125703e-05,\n",
       " 'x0_Baadela': 1.4431361688377951e-06,\n",
       " 'x0_Babu Sajin': 3.4462904017522946e-06,\n",
       " 'x0_Babu Sajini': 1.9378448190450803e-06,\n",
       " 'x0_Bao': 2.1468659659944855e-05,\n",
       " 'x0_Baric': 2.6642190280662578e-05,\n",
       " 'x0_Barry A. Murphy': 8.737680673764959e-07,\n",
       " 'x0_Belgiam Government': 6.373555835648094e-05,\n",
       " 'x0_Belgij': 2.3618210738888286e-06,\n",
       " 'x0_Benjamin': 3.989165015935053e-06,\n",
       " 'x0_Bhoke Mwita': 9.820952105932387e-07,\n",
       " 'x0_Billy Phillips': 1.081282077997687e-05,\n",
       " 'x0_Bingo foundation': 1.1695618910100038e-05,\n",
       " 'x0_Bingo foundation Germany': 1.4360712772098828e-05,\n",
       " 'x0_BioRe': 7.001752894523958e-06,\n",
       " 'x0_Biore': 1.3141761690643647e-06,\n",
       " 'x0_Birage': 1.9440453420109503e-06,\n",
       " 'x0_Bobby': 7.194264758384413e-06,\n",
       " 'x0_Bokera W': 2.62802615831856e-05,\n",
       " 'x0_Boni': 2.9523805416037654e-06,\n",
       " 'x0_Bonite Bottles Ltd': 8.565646934087225e-06,\n",
       " 'x0_Brad': 2.0638297400779697e-06,\n",
       " 'x0_Bridge north': 1.1391961082166633e-05,\n",
       " 'x0_Britain': 2.8505771517674907e-06,\n",
       " 'x0_British': 1.4477042231070128e-06,\n",
       " 'x0_British colonial government': 9.991293702491962e-06,\n",
       " 'x0_British government': 1.2586124788609284e-05,\n",
       " 'x0_Buguba': 9.05638242667591e-06,\n",
       " 'x0_Building works Company Ltd': 5.255872636518435e-06,\n",
       " 'x0_Building works engineering Ltd': 1.323369776318309e-06,\n",
       " 'x0_Bulyahunlu Gold Mine': 3.3767893916556815e-05,\n",
       " 'x0_Buruba': 9.395105220564645e-06,\n",
       " 'x0_C': 2.5888029114954475e-06,\n",
       " 'x0_CAP': 1.0438955744367299e-06,\n",
       " 'x0_CARE': 1.5141243047801538e-05,\n",
       " 'x0_CARE/CIPRO': 1.1019493018121714e-06,\n",
       " 'x0_CARITAS': 1.6890756283666604e-06,\n",
       " 'x0_CARTAS': 0.0001440030691263767,\n",
       " 'x0_CARTAS Tanzania': 4.930533536309641e-05,\n",
       " 'x0_CBHCC': 6.950520176256405e-05,\n",
       " 'x0_CCEC': 0.00021481622697059921,\n",
       " 'x0_CCP': 1.6733837112753393e-06,\n",
       " 'x0_CCPK': 2.000931852385601e-05,\n",
       " 'x0_CCPS': 1.3498135685430636e-06,\n",
       " 'x0_CCT': 5.940333855892185e-05,\n",
       " 'x0_CDT': 2.166368994610128e-07,\n",
       " 'x0_CDTF': 0.00011237643720443641,\n",
       " 'x0_CEFA': 8.538253791438733e-05,\n",
       " 'x0_CEFA/rc church': 2.5661352894924887e-07,\n",
       " 'x0_CENTRAL GOVERNMENT': 0.00011272360548326197,\n",
       " 'x0_CES': 0.000491928384756498,\n",
       " 'x0_CF Builders': 3.6384267935778927e-06,\n",
       " 'x0_CG': 6.188192089146915e-05,\n",
       " 'x0_CG/RC': 2.8942084299260254e-07,\n",
       " 'x0_CGI': 8.081731250888534e-07,\n",
       " 'x0_CH': 8.688941493911862e-06,\n",
       " 'x0_CHANDE CO': 3.6362686516836286e-06,\n",
       " 'x0_CHANI': 9.666943142688842e-06,\n",
       " 'x0_CHENI': 5.365359030822109e-06,\n",
       " 'x0_CHINA': 3.373957988650172e-06,\n",
       " 'x0_CHINA Co.': 4.695472818894428e-06,\n",
       " 'x0_CHINA HENAN CONSTUCTION': 1.4677872839711812e-06,\n",
       " 'x0_CHINA HENAN CONTRACTOR': 1.7680776172435176e-05,\n",
       " 'x0_CHONJA CHARLES': 6.739531294081955e-06,\n",
       " 'x0_CHRISTIAN OUTRICH': 3.3267220550757115e-06,\n",
       " 'x0_CHURC': 2.6929005083598867e-06,\n",
       " 'x0_CIP': 1.1792709055776883e-05,\n",
       " 'x0_CIPRO': 1.5497508734120906e-06,\n",
       " 'x0_CIPRO/CARE': 1.6324935925769453e-05,\n",
       " 'x0_CIPRO/CARE/TCRS': 2.3982446669865722e-05,\n",
       " 'x0_CIPRO/Government': 7.801449024507816e-05,\n",
       " 'x0_CITIZEN ENGINE': 4.051598764614288e-05,\n",
       " 'x0_CJEJ0': 7.812684429166526e-06,\n",
       " 'x0_CJEJOW': 1.6069177591964888e-05,\n",
       " 'x0_CJEJOW CONSTRUCTION': 7.530115446605951e-05,\n",
       " 'x0_CMSR': 5.3928561922197876e-05,\n",
       " 'x0_COBASHEC': 3.983317239495961e-05,\n",
       " 'x0_COCANE': 9.044597541740182e-05,\n",
       " 'x0_COEK': 5.305305897036353e-06,\n",
       " 'x0_COMMU': 4.536263884944406e-06,\n",
       " 'x0_COMMUNITY': 3.602331645807604e-06,\n",
       " 'x0_CONCERN': 0.00019047471640693328,\n",
       " 'x0_CONS': 3.368018281181852e-05,\n",
       " 'x0_COSMOS ENG LTD': 0.00011970607230298633,\n",
       " 'x0_COUN': 5.674575084244081e-05,\n",
       " 'x0_COW': 2.0737800019463714e-06,\n",
       " 'x0_COWI': 6.743837586654259e-07,\n",
       " 'x0_COYI': 3.739310071202059e-06,\n",
       " 'x0_CPRO': 3.0154161791547946e-05,\n",
       " 'x0_CRAELIUS': 2.146526612895139e-06,\n",
       " 'x0_CRS': 9.410261255413689e-07,\n",
       " 'x0_CSPD': 1.9693907300090767e-05,\n",
       " 'x0_CVS Miss': 3.6722667060042255e-06,\n",
       " 'x0_Caltas': 3.5155280146711455e-06,\n",
       " 'x0_Caltus': 2.0949897242056865e-05,\n",
       " 'x0_Calvary connection': 1.4391359591760592e-05,\n",
       " 'x0_Camartec': 3.3797873366901953e-05,\n",
       " 'x0_Canada na Tanzania': 3.424524426174712e-05,\n",
       " 'x0_Canop': 0.0001453335344127289,\n",
       " 'x0_Care  international': 9.442678381622048e-07,\n",
       " 'x0_Care international': 0.00014640711112293207,\n",
       " 'x0_Carmatech': 6.72983938302392e-06,\n",
       " 'x0_Cast': 7.224157000180098e-06,\n",
       " 'x0_Cathoric': 1.5905712134497713e-06,\n",
       " 'x0_Ce': 0.00018094632918122823,\n",
       " 'x0_Cebtral Government': 6.9426395089824235e-06,\n",
       " 'x0_Cefa': 7.627182956484964e-06,\n",
       " 'x0_Cental Government': 5.590360196520329e-06,\n",
       " 'x0_Centr': 0.0017146055471504518,\n",
       " 'x0_Centra Government': 3.4358845511347612e-06,\n",
       " 'x0_Centra govt': 1.3234570473078064e-05,\n",
       " 'x0_Central Government': 0.0012547609423823295,\n",
       " 'x0_Central basin': 1.4549991856590125e-06,\n",
       " 'x0_Central government': 0.0026582491432312633,\n",
       " 'x0_Central govt': 0.0008832318687959426,\n",
       " 'x0_Cetral government /RC': 9.122166091227194e-07,\n",
       " 'x0_Ch': 5.106748323870585e-05,\n",
       " 'x0_Chacha': 4.035288139533811e-06,\n",
       " 'x0_Chacha Issame': 1.485090561078653e-06,\n",
       " 'x0_Chamavita': 6.064038705430301e-05,\n",
       " 'x0_Charlotte Well': 1.186619316340288e-06,\n",
       " 'x0_Chiko': 7.16013873905226e-06,\n",
       " 'x0_China': 4.266329335662983e-05,\n",
       " 'x0_Christina Magoge': 7.994688410089425e-07,\n",
       " 'x0_Christopher': 1.4097634156787903e-05,\n",
       " 'x0_Chuo': 2.4716926879739253e-07,\n",
       " 'x0_Chur': 2.4037732110811428e-05,\n",
       " 'x0_Church': 2.3920717484106007e-05,\n",
       " 'x0_Church Of Disciples': 5.0768737324570535e-06,\n",
       " 'x0_Cida': 1.685292830093285e-06,\n",
       " 'x0_Clause workers': 1.6815261371609117e-05,\n",
       " 'x0_Claver': 1.6889570047473172e-06,\n",
       " 'x0_Co': 9.124017018411296e-05,\n",
       " 'x0_Colonial Government': 1.4226590960628681e-05,\n",
       " 'x0_Colonial government': 3.2909907498559873e-07,\n",
       " 'x0_Commu': 0.0018114849623218777,\n",
       " 'x0_Communit': 0.0002883334439486616,\n",
       " 'x0_Community': 0.0010253717072107396,\n",
       " 'x0_Compa': 1.6044602041833078e-05,\n",
       " 'x0_Comunity': 2.018123076706502e-05,\n",
       " 'x0_Conce': 5.014127892131509e-05,\n",
       " 'x0_Concen': 9.548455224588094e-06,\n",
       " 'x0_Concern': 3.029302635654508e-05,\n",
       " 'x0_Concern /government': 4.408239351168287e-06,\n",
       " 'x0_Concern/Government': 1.8210367040962748e-06,\n",
       " 'x0_Cons': 1.6179062115306817e-05,\n",
       " 'x0_Consultant': 0.00010959761309063551,\n",
       " 'x0_Consultant Engineer': 0.0003977449914048226,\n",
       " 'x0_Consultant and DWE': 7.749583491303102e-06,\n",
       " 'x0_Consulting Engineer': 0.00022551249122269282,\n",
       " 'x0_Consulting engineer': 4.904537378294851e-05,\n",
       " 'x0_Consuting Engineer': 0.0001411617157451429,\n",
       " 'x0_Conta': 5.590228838178922e-06,\n",
       " 'x0_Contr': 1.1193999514058787e-05,\n",
       " 'x0_Cosmo': 4.225616844661026e-05,\n",
       " 'x0_Cosmos Engineering': 3.074936207448668e-05,\n",
       " 'x0_Coun': 3.3633995639039994e-06,\n",
       " 'x0_Counc': 1.0412861122711291e-05,\n",
       " 'x0_Council': 4.624462343694912e-05,\n",
       " 'x0_Crety': 1.1296407969623426e-06,\n",
       " 'x0_Cultus': 5.455056244390027e-06,\n",
       " 'x0_D': 7.695978177367556e-05,\n",
       " 'x0_D$L': 1.1537148637163917e-05,\n",
       " 'x0_DA': 0.0011000844586940102,\n",
       " 'x0_DADIS': 4.730804604399866e-06,\n",
       " 'x0_DADP': 2.3000110550523827e-05,\n",
       " 'x0_DADS': 5.417027752943887e-05,\n",
       " 'x0_DADS/Village community': 3.2025501956166815e-07,\n",
       " 'x0_DADS/village Community': 2.5959659347099764e-07,\n",
       " 'x0_DADS/village community': 8.28379068257167e-07,\n",
       " 'x0_DAK': 4.1218913938836426e-05,\n",
       " 'x0_DALDO': 5.704333463382144e-06,\n",
       " 'x0_DANID': 0.0004987901555223465,\n",
       " 'x0_DANIDA': 0.0014862612247437206,\n",
       " 'x0_DANIDA CO': 1.2767553211049095e-05,\n",
       " 'x0_DANIDS': 4.294795777235307e-06,\n",
       " 'x0_DANNY': 2.6371430861021417e-05,\n",
       " 'x0_DAR ES SALAAM ROUND TABLE': 2.7439483549781463e-05,\n",
       " 'x0_DASIP': 1.9262800481897783e-06,\n",
       " 'x0_DASP': 3.784700047667593e-06,\n",
       " 'x0_DAWASA': 4.303164950249449e-06,\n",
       " 'x0_DAWASCO': 0.00015205265169217542,\n",
       " 'x0_DAWE': 1.8703237484612978e-06,\n",
       " 'x0_DBFPE': 1.5784177198759277e-05,\n",
       " 'x0_DBSP': 1.3368343597498407e-06,\n",
       " 'x0_DBSPE': 5.25136035224176e-05,\n",
       " 'x0_DCCA': 4.392977658642627e-06,\n",
       " 'x0_DCT': 1.5208998695333696e-05,\n",
       " 'x0_DDCA': 0.0007082411296068325,\n",
       " 'x0_DDCA CO': 2.5645900675688927e-05,\n",
       " 'x0_DDP': 2.6584901473755625e-06,\n",
       " 'x0_DDSA': 2.1593966217466325e-07,\n",
       " 'x0_DE': 2.4833684617516135e-06,\n",
       " 'x0_DED': 0.00020155843462315928,\n",
       " 'x0_DEE': 2.8425016850918684e-05,\n",
       " 'x0_DENISH': 1.4097971354869143e-05,\n",
       " 'x0_DESK C': 1.4011091768661916e-05,\n",
       " 'x0_DESK a': 2.5838631242797098e-06,\n",
       " 'x0_DEW': 6.855950675352017e-06,\n",
       " 'x0_DFID': 1.3708887246130643e-06,\n",
       " 'x0_DH': 0.0003154963157550299,\n",
       " 'x0_DHV': 0.0006311501919934395,\n",
       " 'x0_DHV Moro': 1.4979844794841203e-05,\n",
       " 'x0_DISTRICT COUNCIL': 2.462282564410068e-05,\n",
       " 'x0_DIWANI': 1.5394782077556642e-05,\n",
       " 'x0_DMDD': 0.00017908736946049058,\n",
       " 'x0_DMK': 1.147595736086567e-05,\n",
       " 'x0_DMMD': 2.209460054277785e-07,\n",
       " 'x0_DO': 3.947303285990301e-05,\n",
       " 'x0_DODDEA': 4.225844713109989e-06,\n",
       " 'x0_DSP': 1.4974717409379782e-05,\n",
       " 'x0_DSV': 3.660254294402142e-05,\n",
       " 'x0_DUWAS': 2.947177297322609e-05,\n",
       " 'x0_DV': 4.727034283006837e-06,\n",
       " 'x0_DW': 0.0006087501020488881,\n",
       " 'x0_DW E': 1.756226895829347e-05,\n",
       " 'x0_DWE': 0.008849190607474067,\n",
       " 'x0_DWE /TASSAF': 5.34656293902798e-06,\n",
       " 'x0_DWE&': 1.3836657788823537e-05,\n",
       " 'x0_DWE/': 2.469387643246187e-05,\n",
       " 'x0_DWE/Anglican church': 1.5893520784891907e-05,\n",
       " 'x0_DWE/TASSAF': 4.659692440261407e-06,\n",
       " 'x0_DWE/Ubalozi wa Marekani': 1.7226479656431436e-05,\n",
       " 'x0_DWEB': 1.6182457496104838e-05,\n",
       " 'x0_DWE}': 2.6267244242989753e-05,\n",
       " 'x0_DWR': 3.660358294692506e-05,\n",
       " 'x0_DWSP': 0.0003340136462384676,\n",
       " 'x0_DWT': 3.6122920316654254e-06,\n",
       " 'x0_Da': 0.00029020828288502836,\n",
       " 'x0_Danda': 6.296608128507994e-07,\n",
       " 'x0_Danid': 4.343650347514017e-05,\n",
       " 'x0_Dar es salaam Technician': 1.2264752267175379e-06,\n",
       " 'x0_Dawasco': 2.6857781895987517e-06,\n",
       " 'x0_Deogra': 4.046867776548827e-06,\n",
       " 'x0_Desk and chair foundation': 3.657017597240299e-05,\n",
       " 'x0_Dhinu': 6.190789689916382e-06,\n",
       " 'x0_Di': 3.6288682923929596e-06,\n",
       " 'x0_Dina': 2.8316107672311632e-06,\n",
       " 'x0_Diocese of Geita': 2.1150752768089873e-05,\n",
       " 'x0_Distri': 0.0002705258910486203,\n",
       " 'x0_Distric Water Department': 7.516088246864901e-06,\n",
       " 'x0_District  Council': 1.6537913109863204e-05,\n",
       " 'x0_District COUNCIL': 1.9584794999300993e-05,\n",
       " 'x0_District Community j': 4.721250330841339e-06,\n",
       " 'x0_District Counci': 3.862004071634036e-05,\n",
       " 'x0_District Council': 0.0010260298594164385,\n",
       " 'x0_District Water Department': 0.00017165517484114226,\n",
       " 'x0_District council': 0.002900349364293643,\n",
       " 'x0_District water depar': 0.00023464560284502972,\n",
       " 'x0_District water department': 0.0002979439818181294,\n",
       " 'x0_Diwani': 8.199245115747734e-06,\n",
       " 'x0_Dmdd': 0.0005504300923546802,\n",
       " 'x0_Do': 7.835483522432989e-05,\n",
       " 'x0_Dokta Mwandulami': 4.016024904709998e-07,\n",
       " 'x0_Domnik': 6.887495378982396e-07,\n",
       " 'x0_Dr. Matobola': 4.5971521456816304e-06,\n",
       " 'x0_Dr. Matomola': 4.6836333089369444e-05,\n",
       " 'x0_Dr.Matobola': 3.951545504775736e-06,\n",
       " 'x0_Dr.Matomola': 1.1582563113530664e-06,\n",
       " 'x0_Dwe': 6.782717356926286e-05,\n",
       " 'x0_Dydrotec': 6.517393117765452e-07,\n",
       " 'x0_E ETO': 1.0378123162374443e-05,\n",
       " 'x0_EA': 3.104532418712559e-05,\n",
       " 'x0_ECO LODGE': 2.0152667910792564e-06,\n",
       " 'x0_EF': 1.9594348853364418e-05,\n",
       " 'x0_EFAM': 1.0931365359255026e-05,\n",
       " 'x0_EFG': 0.00015661439371358673,\n",
       " 'x0_EGYPT': 2.8871889786218997e-06,\n",
       " 'x0_EGYPT REGWA': 9.846581848783863e-07,\n",
       " 'x0_EL': 6.386886205015638e-05,\n",
       " 'x0_ELCA': 2.9848433772842176e-06,\n",
       " 'x0_ELCT': 3.236592205300921e-06,\n",
       " 'x0_EMAYO': 4.904633642309003e-06,\n",
       " 'x0_ENGINEERS WITHOUT BORDER': 1.822269092836591e-06,\n",
       " 'x0_ERETO': 5.762863051486107e-05,\n",
       " 'x0_ESAWA': 5.17117244030358e-06,\n",
       " 'x0_EWE': 9.431351111723815e-07,\n",
       " 'x0_Eastmeru medium School': 8.18616494476681e-06,\n",
       " 'x0_Edward': 1.2814991903055971e-05,\n",
       " 'x0_Efarm': 6.820029895402196e-06,\n",
       " 'x0_Egypt Government': 7.253277726465916e-06,\n",
       " 'x0_Egypt Technical Co Operation': 8.632689025317255e-06,\n",
       " 'x0_Elias Mahemba': 8.079362892830723e-06,\n",
       " 'x0_Elius Chacha': 3.576197964562582e-06,\n",
       " 'x0_Eliza': 1.103319451358412e-05,\n",
       " 'x0_Embasy of Japan in Tanzania': 8.725550142223411e-06,\n",
       " 'x0_Emmanuel Kiswagala': 1.5495224930458357e-05,\n",
       " 'x0_Engin': 3.2670483048406905e-06,\n",
       " 'x0_Enyuati': 1.095991557967714e-05,\n",
       " 'x0_European Union': 7.241206126143584e-05,\n",
       " 'x0_Exaud Msambwa': 2.306266130347236e-06,\n",
       " 'x0_F': 2.809031460520146e-06,\n",
       " 'x0_FAO': 2.9391229296044516e-06,\n",
       " 'x0_FIN WATER': 0.00010665002865198022,\n",
       " 'x0_FINI WATER': 0.0002221564203446599,\n",
       " 'x0_FINI Water': 4.223054149727848e-07,\n",
       " 'x0_FINLAND': 1.5413963121687539e-06,\n",
       " 'x0_FINN WATER': 2.8906787364733214e-05,\n",
       " 'x0_FLORESTA': 3.8049879649612184e-06,\n",
       " 'x0_FPCT': 7.270225240164549e-05,\n",
       " 'x0_FPCT Church': 1.4145782051403743e-06,\n",
       " 'x0_FPTC': 4.0466048845508816e-05,\n",
       " 'x0_FRESH WATER PLC ENGLAND': 1.5681801741501945e-05,\n",
       " 'x0_FURAHIA TRADING': 9.882375958985741e-06,\n",
       " 'x0_FW': 0.00041892088460822416,\n",
       " 'x0_Fabia': 4.243862730516148e-06,\n",
       " 'x0_Farm Africa': 9.891296374872055e-07,\n",
       " 'x0_Fathe': 4.6500907537338714e-05,\n",
       " 'x0_Faudh Tamimu': 4.759574504019602e-06,\n",
       " 'x0_FiNI WATER': 1.4970871209884054e-05,\n",
       " 'x0_Fin Water': 5.084032239478617e-06,\n",
       " 'x0_Fin water': 1.541215483990308e-05,\n",
       " 'x0_FinW': 0.0003654684243380776,\n",
       " 'x0_FinWate': 5.08810519383723e-06,\n",
       " 'x0_FinWater': 5.7694040977548496e-05,\n",
       " 'x0_Fini Water': 0.00027250036824534774,\n",
       " 'x0_Fini water': 0.0005309882077349374,\n",
       " 'x0_Finland Government': 9.527505808659921e-05,\n",
       " 'x0_Finwater': 0.00015810454117473724,\n",
       " 'x0_Foreigne': 2.163327730195206e-05,\n",
       " 'x0_Free Pentecoste Church of Tanz': 1.719841353193906e-05,\n",
       " 'x0_Frida mokeki': 6.722158157893781e-06,\n",
       " 'x0_G.D&I.D': 5.771930544161155e-06,\n",
       " 'x0_GACHUMA GINERY': 3.218779856002055e-05,\n",
       " 'x0_GAICA': 3.08340734171998e-05,\n",
       " 'x0_GEN': 8.06519960664396e-05,\n",
       " 'x0_GEOCHAINA': 1.6309672294517683e-05,\n",
       " 'x0_GEOTAN': 4.733744331446891e-05,\n",
       " 'x0_GERMAN MISSIONSRY': 5.611453506704538e-06,\n",
       " 'x0_GERMANY MISSIONARY': 0.00011791683257033024,\n",
       " 'x0_GIDA contractor': 2.1643959855301343e-05,\n",
       " 'x0_GLOBAL RESOURCE CONSTRUCTION': 5.579534388341969e-06,\n",
       " 'x0_GOVER': 0.00029445730446037486,\n",
       " 'x0_GOVERM': 9.79220317099895e-06,\n",
       " 'x0_GOVERN': 0.00014453701482529009,\n",
       " 'x0_GOVERNME': 1.1283504538403934e-05,\n",
       " 'x0_GOVERNMENT': 0.00020875038217005673,\n",
       " 'x0_GRA': 1.4064850665171382e-05,\n",
       " 'x0_GREINAKER': 1.0564533765012032e-05,\n",
       " 'x0_GREINEKER': 1.537086884850637e-05,\n",
       " 'x0_GRUMET': 4.766334510707692e-06,\n",
       " 'x0_GRUMETI': 0.00011046938909392387,\n",
       " 'x0_GRUMETI SINGITA': 1.4545825779651673e-05,\n",
       " 'x0_GTZ': 0.0003088931968978294,\n",
       " 'x0_GURUMETI SAGITA CO': 2.1275002954961134e-05,\n",
       " 'x0_Ga': 7.780650563941008e-05,\n",
       " 'x0_Gain': 2.1697405885178538e-05,\n",
       " 'x0_George': 1.1221728634070255e-06,\n",
       " 'x0_George mtoto': 9.892341458928452e-06,\n",
       " 'x0_George mtoto company': 3.014279609047466e-06,\n",
       " 'x0_Gerald Mila': 1.4677173191231014e-06,\n",
       " 'x0_Germany': 1.422488421363564e-05,\n",
       " 'x0_Gesine': 8.660247897323838e-07,\n",
       " 'x0_Go': 0.00033350641121081053,\n",
       " 'x0_Gold star': 3.887136656547412e-05,\n",
       " 'x0_Goldstar': 6.290663728756786e-05,\n",
       " 'x0_Goldwill  foundation': 1.4937742031112702e-06,\n",
       " 'x0_Got': 9.56657850417794e-07,\n",
       " 'x0_Gove': 0.0003128431737765885,\n",
       " 'x0_Gover': 0.0007468818540351416,\n",
       " 'x0_Governmen': 2.6602100685321286e-06,\n",
       " 'x0_Government': 0.004611176558690326,\n",
       " 'x0_Government /Community': 2.824443569938425e-06,\n",
       " 'x0_Government /SDA': 2.849568091355584e-06,\n",
       " 'x0_Government /World Vision': 2.2788781610332378e-05,\n",
       " 'x0_Government and Community': 3.2916727814002275e-07,\n",
       " 'x0_Government of Misri': 2.7231087134813595e-06,\n",
       " 'x0_Grail Mission Kiseki bar': 4.666184065818778e-06,\n",
       " 'x0_Great Lakes': 9.054741539552788e-06,\n",
       " 'x0_Greec': 1.691327480991844e-05,\n",
       " 'x0_Green': 5.047525014172774e-05,\n",
       " 'x0_Grobal resource alliance': 3.788136201105006e-05,\n",
       " 'x0_Grumeti fund': 1.1718455955972721e-05,\n",
       " 'x0_Gtz': 5.999367689126483e-05,\n",
       " 'x0_Gwasco': 4.375179774939487e-06,\n",
       " 'x0_Gwasco L': 5.269778869857916e-05,\n",
       " 'x0_Gwaseco': 5.3467697231037196e-05,\n",
       " 'x0_H': 0.00023078526015868296,\n",
       " 'x0_H4CCP': 2.049805750381769e-05,\n",
       " 'x0_HAAM': 2.874799966195273e-06,\n",
       " 'x0_HAM': 3.522264409919956e-05,\n",
       " 'x0_HAPA': 1.988481581117451e-05,\n",
       " 'x0_HAPA SINGIDA': 8.930395858712005e-05,\n",
       " 'x0_HAYDOM LUTHERAN HOSPITAL': 4.051135614901802e-07,\n",
       " 'x0_HDV': 3.857869002387825e-05,\n",
       " 'x0_HE': 0.0004936426948635294,\n",
       " 'x0_HESAWA': 0.0009337638099965626,\n",
       " 'x0_HESAWS': 3.249164827413258e-06,\n",
       " 'x0_HIAP': 1.352133296930628e-05,\n",
       " 'x0_HOLLAND': 5.768671211545248e-06,\n",
       " 'x0_HOTEL AND LODGE TANZANIA': 3.5917003126508697e-07,\n",
       " 'x0_HOWARD HUMFREYS': 9.61620439373177e-07,\n",
       " 'x0_HPA': 1.4622628913483122e-05,\n",
       " 'x0_HSW': 0.0005076417623680522,\n",
       " 'x0_HW/RC': 4.2828813621846136e-05,\n",
       " 'x0_Ha': 1.0019509486123966e-05,\n",
       " 'x0_Halimashauli': 8.53500055623242e-07,\n",
       " 'x0_Halmashauli': 3.7422839554553e-06,\n",
       " 'x0_Halmashauri': 5.2838744852418606e-05,\n",
       " 'x0_Halmashauri wilaya': 4.121303477242149e-06,\n",
       " 'x0_Halmashauri ya manispa tabora': 2.4497425941246523e-05,\n",
       " 'x0_Halmashauri ya mburu': 7.861984425001056e-06,\n",
       " 'x0_Halmashauri ya wilaya': 9.02512607966344e-06,\n",
       " 'x0_Halmashauri ya wilaya sikonge': 0.00028192212751576356,\n",
       " 'x0_Halmashauri/Quick win project': 2.677817005985882e-05,\n",
       " 'x0_Hamisi Fidia': 5.812885022876855e-07,\n",
       " 'x0_Handeni Trunk Main': 3.907394742051218e-06,\n",
       " 'x0_Handeni Trunk Main(': 0.00019215071838648082,\n",
       " 'x0_Hanja Lt': 6.924494721197849e-06,\n",
       " 'x0_Hans': 1.5633743143681125e-05,\n",
       " 'x0_Happy watoto foundation': 9.772935856238565e-05,\n",
       " 'x0_Hasnein Murij': 4.8221717158603815e-06,\n",
       " 'x0_Healt': 3.1853972042561285e-05,\n",
       " 'x0_Hearts helping hands.Inc.': 2.9192119858412084e-06,\n",
       " 'x0_Hemed Abdalkah': 3.3010838275151e-07,\n",
       " 'x0_Hery': 1.6586771783684264e-06,\n",
       " 'x0_Hesawa': 0.001281013843028609,\n",
       " 'x0_Hesawz': 2.4973251801589174e-06,\n",
       " 'x0_Hesewa': 2.624600439561896e-06,\n",
       " 'x0_Hilfe Fur Bruder': 2.1527159882303694e-06,\n",
       " 'x0_Holili water supply': 1.4859363998149494e-05,\n",
       " 'x0_Hospi': 1.7714600666383196e-05,\n",
       " 'x0_Howard and humfrey consultant': 1.2313109332109879e-05,\n",
       " 'x0_Huches': 2.4435521979949193e-06,\n",
       " 'x0_Humfreys Co': 3.964366369466412e-06,\n",
       " 'x0_Hussein Ayubu': 1.8147704763905445e-07,\n",
       " 'x0_Hydom Luthelani': 8.008161529800383e-06,\n",
       " 'x0_Hydrotec': 6.387843983736563e-05,\n",
       " 'x0_I.E.C': 1.9849970136325178e-05,\n",
       " 'x0_IADO': 4.855304364633382e-05,\n",
       " 'x0_ICS': 4.473367046080523e-05,\n",
       " 'x0_IDARA': 2.7575378213106544e-05,\n",
       " 'x0_IDC': 1.2587092950379252e-05,\n",
       " 'x0_IDEA': 1.3003779983882717e-05,\n",
       " 'x0_IDYDC': 6.398275307622074e-05,\n",
       " 'x0_IFAD': 0.00010979552039853201,\n",
       " 'x0_ILCT': 0.00010220218990878573,\n",
       " 'x0_IN': 1.4577562051115028e-05,\n",
       " 'x0_INDIVIDUALS': 5.657656554054525e-07,\n",
       " 'x0_IRAN GOVERN': 3.200570103432543e-06,\n",
       " 'x0_IRC': 1.9031384588459533e-05,\n",
       " 'x0_IREVEA SISTER': 4.763940612003077e-06,\n",
       " 'x0_IS': 8.852014267429166e-07,\n",
       " 'x0_ISF': 0.0004816419382946158,\n",
       " 'x0_ISF / TASAFF': 2.881707026060985e-06,\n",
       " 'x0_ISF and TACARE': 7.302871108464307e-07,\n",
       " 'x0_ISF/Government': 7.229745574725606e-05,\n",
       " 'x0_ISF/TACARE': 4.201402425339041e-05,\n",
       " 'x0_ISSAA KANYANGE': 9.723442164784035e-06,\n",
       " 'x0_ISSAC MOLLEL': 1.104402509807895e-06,\n",
       " 'x0_ITALI': 1.029615810165689e-05,\n",
       " 'x0_IUCN': 2.7663446455770773e-06,\n",
       " 'x0_Idara ya Maji': 1.4351316307865817e-05,\n",
       " 'x0_Idara ya maji': 0.000541742289141136,\n",
       " 'x0_Ikela Wa': 2.0480826638359035e-05,\n",
       " 'x0_Ilolangulu water supply': 9.80512934209884e-06,\n",
       " 'x0_Ilwilo community': 1.210180669631197e-05,\n",
       " 'x0_In': 4.5187171246747176e-05,\n",
       " 'x0_Indi': 2.271309889270301e-06,\n",
       " 'x0_India': 2.96295873559758e-06,\n",
       " 'x0_Indiv': 2.042091687978045e-06,\n",
       " 'x0_Individual': 2.3929118989322493e-06,\n",
       " 'x0_Individuals': 5.240730028877577e-05,\n",
       " 'x0_Institution': 3.645410280760962e-05,\n",
       " 'x0_Institutional': 2.7292831099894718e-05,\n",
       " 'x0_Inter': 8.551795672309024e-05,\n",
       " 'x0_Internal Drainage Basin': 4.251316712865259e-07,\n",
       " 'x0_International Aid Services': 1.0747741494342596e-06,\n",
       " 'x0_Inves': 1.734137936793673e-05,\n",
       " 'x0_Ir': 0.00047053528336668695,\n",
       " 'x0_Is': 0.0003214122866257668,\n",
       " 'x0_Islam': 1.650643591086995e-05,\n",
       " 'x0_Islamic': 9.557281690329394e-05,\n",
       " 'x0_Islamic community': 1.3500425189144177e-06,\n",
       " 'x0_Issa Mohamedi Tumwanga': 3.5393841268084906e-06,\n",
       " 'x0_Italian government': 7.115007532308125e-06,\n",
       " 'x0_Italy government': 1.2488960460313314e-05,\n",
       " 'x0_J. Mc': 2.1220752207718277e-06,\n",
       " 'x0_JACKSON MAHAMBO': 4.72474153752597e-06,\n",
       " 'x0_JAICA': 0.00043314751534455825,\n",
       " 'x0_JAICA CO': 8.82454583165707e-06,\n",
       " 'x0_JALCA': 1.8820606183279038e-05,\n",
       " 'x0_JANDU': 2.0211077340838346e-06,\n",
       " 'x0_JANDU PLUMBER  CO': 6.818306712858025e-05,\n",
       " 'x0_JANDU PLUMBER CO': 8.860720194297829e-05,\n",
       " 'x0_JAPAN': 1.254058559694192e-06,\n",
       " 'x0_JAPAN EMBASSY': 2.3990958107069814e-06,\n",
       " 'x0_JBG': 0.000111077723746937,\n",
       " 'x0_JESHI LA WOKOVU': 5.487312073309609e-06,\n",
       " 'x0_JHL CO LTD': 8.96253183209952e-06,\n",
       " 'x0_JICA': 0.00023620640807248594,\n",
       " 'x0_JIKA': 6.035627678493364e-05,\n",
       " 'x0_JLH CO LTD': 1.3485977579844066e-05,\n",
       " 'x0_JSICA': 4.242289574755201e-06,\n",
       " 'x0_JUIN': 4.708379637955438e-05,\n",
       " 'x0_JUIN CO': 0.00011241462147402847,\n",
       " 'x0_JUINE CO': 2.3419324803785163e-05,\n",
       " 'x0_JWTZ': 2.0646453979430402e-06,\n",
       " 'x0_Ja': 6.834539859866861e-05,\n",
       " 'x0_Jacks': 8.442844373680775e-07,\n",
       " 'x0_Jackson Makore': 8.560916114615551e-07,\n",
       " 'x0_Jafary Mbaga': 4.125933644646627e-06,\n",
       " 'x0_Jaica': 0.00020220565129018794,\n",
       " 'x0_Japan': 2.1417007456197228e-05,\n",
       " 'x0_Japan Government': 1.5154599019957303e-06,\n",
       " 'x0_Jeica': 4.3991748221043865e-05,\n",
       " 'x0_Jerem': 2.568347222776264e-06,\n",
       " 'x0_Jeshi la wokovu': 4.4008881117274706e-05,\n",
       " 'x0_Jeshi la wokovu [cida]': 1.77389731440597e-05,\n",
       " 'x0_Jica': 7.2168749173753e-05,\n",
       " 'x0_Jicks': 3.053764384377564e-05,\n",
       " 'x0_Jika': 3.862945813819273e-06,\n",
       " 'x0_Jiks': 2.694438538015068e-07,\n",
       " 'x0_John kiminda co': 7.232538017913391e-06,\n",
       " 'x0_Ju': 1.5948956552074765e-06,\n",
       " 'x0_Judge Mchome': 7.775218198975165e-06,\n",
       " 'x0_Juma': 2.64427677653924e-06,\n",
       " 'x0_Juma Makulilo': 3.2397646813438695e-06,\n",
       " 'x0_Juma Maro': 5.143603886333822e-06,\n",
       " 'x0_Juma Ndege': 4.283201373762913e-06,\n",
       " 'x0_Jumaa': 1.9810670949520513e-07,\n",
       " 'x0_Jumanne': 2.884895769402741e-06,\n",
       " 'x0_Jumanne Siabo': 1.6307889560139053e-05,\n",
       " 'x0_Justine Marwa': 3.135123482266767e-06,\n",
       " 'x0_K': 7.943179675249798e-06,\n",
       " 'x0_KA': 0.00022909610068409203,\n",
       " 'x0_KADP': 1.9323740944284116e-05,\n",
       " 'x0_KAEM': 6.354853912419116e-06,\n",
       " 'x0_KAEMP': 5.124830274140498e-05,\n",
       " 'x0_KAGERA MINE': 2.785890832955919e-06,\n",
       " 'x0_KARUMBA BIULDIN': 1.0535090920402422e-06,\n",
       " 'x0_KARUMBA BIULDING CONTRACTOR': 1.37440015925601e-06,\n",
       " 'x0_KARUMBA BUILDING COMPANY LTD': 7.3297073481749405e-06,\n",
       " 'x0_KASHERE': 1.173452180491642e-05,\n",
       " 'x0_KASHWA': 2.946972482474583e-05,\n",
       " 'x0_KAWINGA': 3.5516489899308775e-06,\n",
       " 'x0_KAYEMPU LTD': 2.1309076722923607e-06,\n",
       " 'x0_KC': 2.908656324119138e-05,\n",
       " 'x0_KEREBUKA': 2.043729353287316e-06,\n",
       " 'x0_KIBO': 4.599836748756772e-07,\n",
       " 'x0_KIDIJAS': 4.304685393594532e-06,\n",
       " 'x0_KIDP': 0.00010940937980113676,\n",
       " 'x0_KILANGANI CO': 1.509938896903121e-05,\n",
       " 'x0_KILI WATER': 2.140242538198946e-05,\n",
       " 'x0_KILL WATER': 1.010722102994129e-06,\n",
       " 'x0_KIM KIM CONSTRUCTION': 5.788002035232657e-05,\n",
       " 'x0_KIMKUM': 6.91227286493611e-05,\n",
       " 'x0_KINAPA': 1.2003862001996472e-05,\n",
       " 'x0_KISIRIRI ADP': 9.871223445209147e-07,\n",
       " 'x0_KIUMA': 0.00013882680973014254,\n",
       " 'x0_KK': 3.0378069164880315e-05,\n",
       " 'x0_KKKT': 0.0008264956390983557,\n",
       " 'x0_KKKT CHURCH': 0.00010754432073399576,\n",
       " 'x0_KKKT DME': 1.5304745021189599e-06,\n",
       " 'x0_KKKT Kilinga': 1.6675092977371193e-05,\n",
       " 'x0_KKKT Leguruki': 7.057679487080756e-06,\n",
       " 'x0_KKKT MAREU': 3.3082777905006963e-06,\n",
       " 'x0_KKKT _ Konde and DWE': 0.00029893930328966326,\n",
       " 'x0_KKKT-Dioces ya Pare': 6.875179528734251e-05,\n",
       " 'x0_KKT': 0.00013122007421829487,\n",
       " 'x0_KKT C': 0.00013387722348372146,\n",
       " 'x0_KMT': 8.927957301284766e-06,\n",
       " 'x0_KOBERG': 3.533755683653914e-06,\n",
       " 'x0_KOBERG Contractor': 4.1421006992275095e-06,\n",
       " 'x0_KOICA': 1.6024428683156335e-06,\n",
       " 'x0_KONOIKE': 3.5684482780913716e-05,\n",
       " 'x0_KOREA': 1.3065561717777411e-05,\n",
       " 'x0_KOWI': 6.286420477725798e-06,\n",
       " 'x0_KOYI': 1.5127134933452607e-06,\n",
       " 'x0_KTA C': 8.626184131935291e-05,\n",
       " 'x0_KU': 3.213411413545072e-06,\n",
       " 'x0_KUMKUM': 2.188023271268562e-07,\n",
       " 'x0_KUWAIT': 0.00023764438679160077,\n",
       " 'x0_KUWASA': 7.487513363139946e-05,\n",
       " 'x0_KWIKWIZ': 1.041552726916865e-05,\n",
       " 'x0_KYASHA ENTERPR': 5.5348260299822576e-05,\n",
       " 'x0_KYASHA ENTREPR': 3.102711209208733e-05,\n",
       " 'x0_KYELA_MOROGORO': 6.001642562165782e-06,\n",
       " 'x0_Kaembe': 1.7913158421349177e-06,\n",
       " 'x0_Kagulo': 9.133017610290392e-08,\n",
       " 'x0_Kagunguli Secondary': 1.062172082420326e-05,\n",
       " 'x0_Kajima': 1.6673854407607544e-06,\n",
       " 'x0_Kalago enterprises Co.Ltd': 3.193413649302179e-05,\n",
       " 'x0_Kalitasi': 6.645194043261102e-05,\n",
       " 'x0_Kalta': 2.1488549702538925e-05,\n",
       " 'x0_Kalugendo': 1.9992249763067417e-05,\n",
       " 'x0_Kalumbwa': 2.852296763544862e-05,\n",
       " 'x0_Kaluwike': 4.8171488431169865e-06,\n",
       " 'x0_Kamama': 4.126477829186459e-05,\n",
       " 'x0_Kamata project': 3.432001365662833e-06,\n",
       " 'x0_Kambi Migoko': 1.949166380593301e-06,\n",
       " 'x0_Kanamama': 5.1620673277922535e-06,\n",
       " 'x0_Kanisa': 2.991687928914941e-05,\n",
       " 'x0_Kanisa katoliki': 6.69178290407975e-06,\n",
       " 'x0_Kanisa la TAG': 4.7227698788749324e-07,\n",
       " 'x0_Kanisani': 8.950851746487157e-06,\n",
       " 'x0_Kapelo': 2.426941721606912e-07,\n",
       " 'x0_Karugendo': 4.559609298950897e-05,\n",
       " 'x0_Kassim': 1.2547475105254611e-06,\n",
       " 'x0_Kata': 6.4581666267453264e-06,\n",
       " 'x0_Kauzeni': 1.5402105829151104e-06,\n",
       " 'x0_Ki': 0.00018645792619633936,\n",
       " 'x0_Kibaha Town Council': 5.811553410193036e-06,\n",
       " 'x0_Kidika': 2.729549826314399e-07,\n",
       " 'x0_Kigoma municipal': 1.293497657234969e-05,\n",
       " 'x0_Kigwa': 1.2510760427099062e-05,\n",
       " 'x0_Kijiji': 9.715751821710593e-06,\n",
       " 'x0_Kikom': 4.122894372073281e-06,\n",
       " 'x0_Kiliflora': 4.442333370038715e-05,\n",
       " 'x0_Kilimarondo Parish': 9.98541469627546e-07,\n",
       " 'x0_Kiliwater': 0.0008732369661047803,\n",
       " 'x0_Killflora /Community': 5.1549847936308655e-05,\n",
       " 'x0_Killflora/ Community': 8.563094603506582e-05,\n",
       " 'x0_Kilol': 3.4006569162052635e-06,\n",
       " 'x0_Kilolo Star': 4.549848281144869e-06,\n",
       " 'x0_Kilomber': 2.016898004931551e-05,\n",
       " 'x0_Kilwa company': 4.360937895354603e-05,\n",
       " 'x0_Kilwater': 0.00010464213570379677,\n",
       " 'x0_Kindoroko water project': 8.319890901006123e-06,\n",
       " 'x0_Kirdep': 4.0001986204169834e-05,\n",
       " 'x0_Kitiangare village community': 1.2867668525027663e-06,\n",
       " 'x0_Kitukuni water supply': 1.5133305877009436e-05,\n",
       " 'x0_Kiwanda cha Ngozi': 1.0883945877304637e-05,\n",
       " 'x0_Kizenga': 6.67163591978439e-07,\n",
       " 'x0_KkKT': 8.878219668978255e-05,\n",
       " 'x0_Kkkt': 3.8060406002280225e-06,\n",
       " 'x0_Ko': 1.5928324356179675e-05,\n",
       " 'x0_Kokeni': 5.764570149006893e-05,\n",
       " 'x0_Konoike': 6.509803917684049e-05,\n",
       " 'x0_Korogwe water works': 4.954786762796001e-05,\n",
       " 'x0_Kuamu': 2.2730255199818205e-05,\n",
       " 'x0_Kuji foundation': 1.9195459801259194e-06,\n",
       " 'x0_Kuwait': 0.000955308613739231,\n",
       " 'x0_Kuwaiti': 1.2310586770743819e-05,\n",
       " 'x0_Kuweit': 3.2841162509849137e-06,\n",
       " 'x0_Kwamdulu estate': 1.1277725358628999e-05,\n",
       " 'x0_Kwasenenge Group': 1.917996182095711e-06,\n",
       " 'x0_Kyariga': 2.9826897666678204e-06,\n",
       " 'x0_L': 1.5089220064914807e-05,\n",
       " 'x0_LAMP': 1.4197689293565785e-05,\n",
       " 'x0_LENCH': 4.9981859444172766e-05,\n",
       " 'x0_LGA': 0.0005821128066352463,\n",
       " 'x0_LGCDG': 5.0236350762309014e-06,\n",
       " 'x0_LGQ': 1.8416356025281043e-06,\n",
       " 'x0_LINDALA CO': 3.5451460595117146e-07,\n",
       " \"x0_LION'S\": 5.221560186599857e-06,\n",
       " 'x0_LIPS': 7.354540814919297e-06,\n",
       " 'x0_LIVI': 2.2773764277438276e-05,\n",
       " 'x0_LIZAD': 2.288652955855251e-07,\n",
       " 'x0_LOCAL CONTRACT': 0.0001869358456135756,\n",
       " 'x0_LOLMOLOKI': 1.4119057009373859e-06,\n",
       " 'x0_LOMOLOKI': 1.442659739907011e-05,\n",
       " 'x0_LONGIDO SEC SCHOOL': 2.38734254970456e-06,\n",
       " 'x0_LOOCIP': 3.4226899851048295e-06,\n",
       " 'x0_LUKE SAMARAS LTD': 1.3510168545337635e-06,\n",
       " 'x0_LUNGWE': 5.99117660854548e-06,\n",
       " 'x0_LUWASSA': 1.3352448386218325e-06,\n",
       " 'x0_LVA Ltd': 1.5703031552591728e-05,\n",
       " 'x0_LVIA': 0.00012852569556697424,\n",
       " 'x0_LWI': 2.3693142232172883e-05,\n",
       " 'x0_Laizer': 8.034949572401539e-07,\n",
       " 'x0_Laramatak': 8.226443960126033e-07,\n",
       " 'x0_Latifu': 9.61330228905282e-07,\n",
       " 'x0_Lawate fuka water su': 3.972930903133624e-05,\n",
       " 'x0_Lawatefuka water sup': 0.0001443678556357101,\n",
       " 'x0_Leopad Abeid': 5.664601117038969e-07,\n",
       " 'x0_Lga': 2.873600492177483e-05,\n",
       " 'x0_Li': 9.919554710638337e-06,\n",
       " 'x0_Linda': 1.3107925444560955e-05,\n",
       " 'x0_Lindi contractor': 4.030720912376245e-06,\n",
       " 'x0_Lindi rural water department': 2.365830622780719e-06,\n",
       " \"x0_Lion's\": 2.847736095509649e-06,\n",
       " \"x0_Lion's club\": 3.6971300552556117e-07,\n",
       " 'x0_Lions club kilimanjaro': 5.507311230568666e-06,\n",
       " 'x0_Livi': 4.116556442326589e-06,\n",
       " 'x0_Living water international': 2.2993213358137518e-05,\n",
       " 'x0_Local': 0.00012758030625311696,\n",
       " 'x0_Local  technician': 0.00012056881684652183,\n",
       " 'x0_Local te': 0.00018540793933129816,\n",
       " 'x0_Local technical': 1.6525605466779975e-06,\n",
       " 'x0_Local technical tec': 1.2276064497400651e-05,\n",
       " 'x0_Local technician': 0.00010193159198231447,\n",
       " 'x0_Locall technician': 5.926707824746226e-09,\n",
       " 'x0_Loliondo Parish': 2.1516130431282178e-05,\n",
       " 'x0_Losa-kia water suppl': 2.1349648475528884e-06,\n",
       " 'x0_Losaa-Kia water supp': 3.949941435680849e-05,\n",
       " 'x0_Losakia water supply': 5.543835062805704e-07,\n",
       " 'x0_Luali Kaima': 1.6206682036837383e-06,\n",
       " 'x0_Luka': 1.047964462913119e-07,\n",
       " 'x0_Luleka': 1.133021352999887e-05,\n",
       " 'x0_Luthe': 6.4270871675760285e-06,\n",
       " 'x0_Lutheran': 9.38808978660219e-06,\n",
       " 'x0_Lutheran Church': 1.4114392930955226e-05,\n",
       " 'x0_M': 7.330760222343314e-07,\n",
       " 'x0_M and P': 4.837245553548619e-06,\n",
       " 'x0_MA': 0.00027583395497043705,\n",
       " 'x0_MACK DONALD CO LTD': 5.003374079504165e-06,\n",
       " 'x0_MACK DONALD CONTRACTOR': 1.205442619992188e-05,\n",
       " 'x0_MAIVARU': 4.966824521415119e-06,\n",
       " 'x0_MAJ MUGUMU': 1.0634911161959041e-06,\n",
       " 'x0_MAJI MUGUMU': 5.518364137065206e-05,\n",
       " 'x0_MAJI TECH': 3.3866321316208647e-06,\n",
       " 'x0_MAKAMA CONSTRUCTION': 1.4779348753103674e-05,\n",
       " 'x0_MAKE ENGINEERING': 3.060209283820706e-05,\n",
       " 'x0_MAMAD': 9.354835056398902e-06,\n",
       " 'x0_MANDIA CONSTRUCTION': 2.765821650981904e-06,\n",
       " 'x0_MANYARA CONSTRUCTION': 3.741150851260052e-05,\n",
       " 'x0_MARAFIN': 2.5668067028109306e-05,\n",
       " 'x0_MARAFIP': 0.00010301023804398051,\n",
       " 'x0_MASAI LAND': 3.2524263791461734e-06,\n",
       " 'x0_MASU COMPANY': 1.746530785616995e-06,\n",
       " 'x0_MASWI': 2.125690879022079e-05,\n",
       " 'x0_MASWI CO': 6.206084357435774e-06,\n",
       " 'x0_MASWI DRILL': 1.795369682060553e-05,\n",
       " 'x0_MASWI DRILLING': 2.0654088425660415e-05,\n",
       " 'x0_MAZI INVESTMENT': 1.1849080541728722e-05,\n",
       " 'x0_MBIUSA': 4.38454748124674e-06,\n",
       " 'x0_MBIUWASA': 2.3150873811670614e-05,\n",
       " 'x0_MBOMA': 2.6204291997567898e-05,\n",
       " 'x0_MBULI CO': 3.458676907707256e-06,\n",
       " 'x0_MBULU DISTRICT COUNCIL': 2.0501034279612984e-05,\n",
       " 'x0_MCHOME': 3.204050542957468e-05,\n",
       " 'x0_MD': 5.592538691300407e-05,\n",
       " 'x0_MDALA Contractor': 1.558493419854572e-05,\n",
       " 'x0_MDRDP': 0.00011701298862753384,\n",
       " 'x0_MDRD_': 4.1720969348718685e-05,\n",
       " 'x0_MECO': 1.758438744613595e-05,\n",
       " 'x0_MEM': 3.654717874438835e-05,\n",
       " 'x0_MGM': 3.684372310529522e-05,\n",
       " 'x0_MH Kapuya': 1.7113366609858536e-05,\n",
       " 'x0_MI': 5.053659614587189e-05,\n",
       " 'x0_MIAB': 3.2058428572759856e-06,\n",
       " 'x0_MIDA': 6.291944885812009e-05,\n",
       " 'x0_MINISTRY OF EDUCATION': 3.706850712793621e-06,\n",
       " 'x0_MINISTRY OF WATER': 7.019058661870197e-05,\n",
       " 'x0_MINISTRYOF WATER': 4.259430868251856e-06,\n",
       " 'x0_MINJINGU': 5.76084077540785e-05,\n",
       " 'x0_MISHENI': 3.923833730280395e-06,\n",
       " 'x0_MISSION': 4.80312615028724e-05,\n",
       " 'x0_MKON CONSTRUCTION': 1.9689987370510262e-08,\n",
       " 'x0_MKONGO CONSTRUCTION': 1.241022540569649e-06,\n",
       " 'x0_ML appro': 7.778000003207413e-05,\n",
       " 'x0_MLADE': 5.713629252719615e-05,\n",
       " 'x0_MLAKI  CO': 9.031173121440686e-06,\n",
       " 'x0_MLAKI CO': 3.832505341901533e-05,\n",
       " 'x0_MMG GOLD MINE': 3.1690760663212265e-05,\n",
       " 'x0_MORNING CONSTRUCTION': 9.529525780711812e-06,\n",
       " 'x0_MOSES': 1.2719864527610854e-06,\n",
       " 'x0_MOSQUE': 2.4586627228982568e-06,\n",
       " 'x0_MP': 2.0465061958313508e-05,\n",
       " 'x0_MP Mloka': 1.6027297366746852e-06,\n",
       " 'x0_MREMI CONTRACTOR': 1.3335560693214163e-05,\n",
       " 'x0_MS': 3.663746522546418e-05,\n",
       " 'x0_MSABI': 1.2892490091437264e-05,\n",
       " 'x0_MSF': 1.4210758573491392e-05,\n",
       " 'x0_MSF/TACARE': 1.612840934848972e-05,\n",
       " 'x0_MSIGWA': 4.425523382048911e-07,\n",
       " 'x0_MSIKIT': 3.3881604515444425e-06,\n",
       " 'x0_MSJI MUGUMU': 4.822354716307918e-06,\n",
       " 'x0_MSUKWA CONSTRUCTION COMPANY': 1.0601620217689003e-06,\n",
       " 'x0_MTAMBO': 3.251578118149377e-06,\n",
       " 'x0_MTC': 1.4708353156608646e-05,\n",
       " 'x0_MTN': 0.0003774720510796326,\n",
       " 'x0_MTUI': 1.4322938791028142e-05,\n",
       " 'x0_MTUWASA': 3.2962439071893956e-05,\n",
       " 'x0_MTUWASA and Community': 9.627391977458241e-06,\n",
       " 'x0_MUSLIMEHEFEN INTERNATIONAL': 7.361046475551939e-06,\n",
       " 'x0_MUWASA': 7.640629225669717e-05,\n",
       " 'x0_MUWSA': 7.930749482336152e-05,\n",
       " 'x0_MWAKI CONTRACTOR': 9.125786514850749e-06,\n",
       " 'x0_MWANZA': 9.839291774542929e-06,\n",
       " 'x0_MWE': 0.0003295340905730435,\n",
       " 'x0_MWE &': 7.788181715182446e-05,\n",
       " 'x0_MWL NGASSA': 1.1672220104195107e-06,\n",
       " 'x0_MWS': 2.4931587968856974e-05,\n",
       " 'x0_Ma': 0.00020158965033055664,\n",
       " 'x0_Machibya': 2.918863755651367e-05,\n",
       " 'x0_Mackd': 5.921651868839627e-05,\n",
       " 'x0_Madra': 9.71963811260361e-06,\n",
       " 'x0_Maendeleo ya jamii': 2.4321261748750888e-05,\n",
       " 'x0_Magadini Makiwaru wa': 2.2453243061792464e-06,\n",
       " 'x0_Magadini-Makiwaru wa': 0.00035563361807185954,\n",
       " 'x0_Magani': 1.0028603962522581e-07,\n",
       " 'x0_Magoma ADP': 1.9670358289863444e-06,\n",
       " 'x0_Magutu Maro': 2.491151274393804e-06,\n",
       " 'x0_Mahita': 9.627014274925596e-06,\n",
       " 'x0_Maji Tech': 4.2366219979076954e-05,\n",
       " 'x0_Maji block': 1.05116483051234e-05,\n",
       " 'x0_Maji tech Construction': 6.500791893297061e-06,\n",
       " 'x0_Makanya Sisal Estate': 4.97830498533598e-06,\n",
       " 'x0_Makonde': 1.434138639650143e-05,\n",
       " 'x0_Makonde water Population': 6.6965495620266605e-06,\n",
       " 'x0_Makonde water population': 8.080725664993865e-05,\n",
       " 'x0_Makonde water supply': 4.35186612570397e-05,\n",
       " 'x0_Makori': 1.1761622958827123e-06,\n",
       " 'x0_Makoye': 1.0410432432506023e-05,\n",
       " 'x0_Makundya': 1.1414729131396564e-06,\n",
       " 'x0_Malec': 1.5981975773223983e-06,\n",
       " 'x0_Males': 1.4828078294259436e-06,\n",
       " 'x0_Mama Agnes Kagimbo': 3.212319638898724e-06,\n",
       " 'x0_Mama Hamisa': 1.8212041374475867e-06,\n",
       " 'x0_Mama Kalage': 3.4708653954928714e-08,\n",
       " 'x0_Mama Kapwapwa': 1.380525741156157e-07,\n",
       " 'x0_Mama joela': 3.4710692540846548e-06,\n",
       " 'x0_Mamaz': 1.9267529630920078e-06,\n",
       " 'x0_Mambe': 8.345755174103717e-07,\n",
       " 'x0_Mamlaka ya maji ngara': 2.899332332555794e-05,\n",
       " 'x0_Manyota primary School': 6.036885184480218e-07,\n",
       " 'x0_Manyovu Agriculture Institute': 1.5713436293464482e-06,\n",
       " 'x0_Mara inter product': 1.0180856715638714e-06,\n",
       " 'x0_Marafip': 5.846416553169475e-05,\n",
       " 'x0_Marijan Ally Dadi': 3.6420973584595444e-06,\n",
       " 'x0_Mark': 1.948280010194675e-06,\n",
       " 'x0_Marke': 1.1783324129128193e-06,\n",
       " 'x0_Maro': 6.807673866159561e-06,\n",
       " 'x0_Martha Emanuel': 6.12216753738163e-06,\n",
       " 'x0_Marti': 5.9014637945809315e-06,\n",
       " 'x0_Marumbo Community': 1.293836607050485e-05,\n",
       " 'x0_Maseka community': 1.0871398210499615e-05,\n",
       " 'x0_Masele Nzengula': 3.830488822639566e-07,\n",
       " 'x0_Masese': 4.620433477097606e-06,\n",
       " 'x0_Mashaka M': 5.018793705359494e-07,\n",
       " 'x0_MasjId Takuar': 8.779406390825207e-06,\n",
       " 'x0_Masjid': 1.5851444254657527e-05,\n",
       " 'x0_Masjid Nnre': 5.839590973008769e-07,\n",
       " 'x0_Maswi': 5.042847311395573e-05,\n",
       " 'x0_Maswi company': 3.404499066614643e-05,\n",
       " 'x0_Maswi drilling co ltd': 1.1649049631296394e-06,\n",
       " 'x0_Mataro': 1.6291753320087747e-06,\n",
       " 'x0_Matiiti': 3.1160948071721285e-06,\n",
       " 'x0_Matogoro': 9.539812329577325e-07,\n",
       " 'x0_Matyenye': 3.2108814426086413e-06,\n",
       " 'x0_Max Mbise': 3.3120869729844926e-06,\n",
       " 'x0_Mbozi District Council': 2.2001716892152184e-05,\n",
       " 'x0_Mbunge': 2.7697181121796654e-05,\n",
       " 'x0_Mbusi Mwita': 1.9635172342115977e-06,\n",
       " 'x0_Mbwiro': 2.991823991901501e-07,\n",
       " 'x0_Mchuk': 1.7097434226059337e-05,\n",
       " 'x0_Mdala Contractor': 1.637464329223223e-05,\n",
       " 'x0_Member of Perliament Ahmed Ali': 9.159946505754704e-07,\n",
       " 'x0_Meru Concrete': 9.223653408744391e-08,\n",
       " 'x0_Mgaya': 1.3321597266450867e-06,\n",
       " 'x0_Mgaya Mwita': 2.8553524499205003e-06,\n",
       " 'x0_Mh Kapuya': 1.049752259095436e-05,\n",
       " 'x0_Mh.chiza': 2.962482145786722e-06,\n",
       " 'x0_Mi': 6.518752699884612e-05,\n",
       " 'x0_Mianz': 3.4514720604489574e-05,\n",
       " 'x0_Milenia': 4.528441917940865e-05,\n",
       " 'x0_Mileniam': 0.00010142453524810698,\n",
       " 'x0_Mileniam project': 0.00010620854238541788,\n",
       " 'x0_Milenium': 7.223320336072445e-06,\n",
       " 'x0_Ministry of water engineer': 4.191513593626223e-05,\n",
       " 'x0_Misana george': 1.037818483672938e-05,\n",
       " 'x0_Misri Government': 1.9979919091811643e-05,\n",
       " 'x0_Missi': 0.00017274481502762215,\n",
       " 'x0_Missio': 7.109427129754469e-06,\n",
       " 'x0_Mission': 0.00029603082829443106,\n",
       " 'x0_Missionaries': 6.916509299212669e-07,\n",
       " 'x0_Missionary': 1.7508307044193336e-05,\n",
       " 'x0_Miziriol': 3.5030882237953464e-05,\n",
       " 'x0_Mkulima': 1.966815519853415e-07,\n",
       " 'x0_Mkuluku': 9.234199236812961e-07,\n",
       " 'x0_Mkuyu': 1.3292056276190231e-05,\n",
       " 'x0_Mohamad Masanga': 4.110468945097495e-07,\n",
       " 'x0_Mohamed Ally': 4.669806215254071e-06,\n",
       " 'x0_Mombo urban  water': 3.0264912101910163e-06,\n",
       " 'x0_Mombo urban water': 2.611287984221702e-06,\n",
       " 'x0_Mombo urban water s': 1.6937974535656787e-05,\n",
       " 'x0_Monmali': 5.56933812495084e-06,\n",
       " 'x0_Moravian': 1.186001751579456e-06,\n",
       " 'x0_Moroil': 2.087687020963517e-05,\n",
       " ...}"
      ]
     },
     "execution_count": 21,
     "metadata": {},
     "output_type": "execute_result"
    }
   ],
   "source": [
    "#call dict_feature_imporatnces pipeline for the first model\n",
    "rfc_importances_dict = dict_feature_importances(first_rfc_pipe)\n",
    "rfc_importances_dict"
   ]
  },
  {
   "cell_type": "code",
   "execution_count": 22,
   "metadata": {},
   "outputs": [],
   "source": [
    "#function to return top n feature importances\n",
    "#returns a list of tuples with the feature and its associated feature importance\n",
    "#list is sorted in descending order by feature importance\n",
    "def top_importance(importances, n):\n",
    "    #sort feature importance values from the dictionary to pull out top n\n",
    "    top_features = sorted(importances, key=importances.get, reverse=True)[:n]\n",
    "    feature_and_importance = [(x, importances[x]) for x in top_features]\n",
    "    return feature_and_importance"
   ]
  },
  {
   "cell_type": "code",
   "execution_count": 23,
   "metadata": {},
   "outputs": [
    {
     "data": {
      "text/plain": [
       "[('x9_dry', 0.11496753876120527),\n",
       " ('gps_height', 0.06947020515438888),\n",
       " ('population', 0.0449283169044532),\n",
       " ('x9_enough', 0.04351227860557871),\n",
       " ('x11_other', 0.04270195733635547),\n",
       " ('x6_other', 0.03756829165590128),\n",
       " ('amount_tsh', 0.03213112163626943),\n",
       " ('x9_insufficient', 0.01901771506429383),\n",
       " ('x11_communal standpipe', 0.01886192774061734),\n",
       " ('x7_never pay', 0.01733008350984482)]"
      ]
     },
     "execution_count": 23,
     "metadata": {},
     "output_type": "execute_result"
    }
   ],
   "source": [
    "forest_importances = top_importance(rfc_importances_dict, 10)\n",
    "forest_importances"
   ]
  },
  {
   "cell_type": "markdown",
   "metadata": {},
   "source": [
    "Feature importance, also known as Gini importance, represents the total reduction of criterion by that feature.This provided a sense of which features were most impactful in the model's branching decisions.\n",
    "\n",
    "From the list of top 10 feature importances, we saw many one hot encoded features. \n",
    "\n",
    "While these features had the greatest importance, this model was trained using a wide range of features which all contributed some complexity to the model."
   ]
  },
  {
   "cell_type": "code",
   "execution_count": 32,
   "metadata": {
    "scrolled": false
   },
   "outputs": [
    {
     "data": {
      "image/png": "[encoded data removed]",
      "text/plain": [
       "<Figure size 1440x720 with 1 Axes>"
      ]
     },
     "metadata": {
      "needs_background": "light"
     },
     "output_type": "display_data"
    }
   ],
   "source": [
    "fig, ax = plt.subplots(figsize=(20,10))\n",
    "\n",
    "features = [x[0] for x in forest_importances]\n",
    "importances = [x[1] for x in forest_importances]\n",
    "ax.bar(features, importances)\n",
    "\n",
    "ax.tick_params(axis='x', labelrotation = 45)\n",
    "ax.set_title('Top 10 Feature Importances for RandomTreeClassifier')\n",
    "ax.set_ylabel('Feature Importance')\n",
    "ax.set_xlabel('Features');"
   ]
  },
  {
   "cell_type": "markdown",
   "metadata": {},
   "source": [
    "## Second Model - Bagging Classifier"
   ]
  },
  {
   "cell_type": "markdown",
   "metadata": {},
   "source": [
    "Our second model was a BaggingClassifier. This BaggingClassifier was an ensemble estimator with a DecisionTreeClassifier as the base estimator. The model bags the original dataset into random subsets, fits the base classifier on these subsets, and aggregates their individual predictions to form a final prediciton."
   ]
  },
  {
   "cell_type": "code",
   "execution_count": 33,
   "metadata": {},
   "outputs": [],
   "source": [
    "dt = DecisionTreeClassifier(criterion='gini', max_depth=50, min_samples_leaf=1,min_samples_split=10)\n",
    "\n",
    "bagging_dt_model = BaggingClassifier(base_estimator=dt, n_estimators=100, random_state=42)\n",
    "\n",
    "bag_dt_pipe = Pipeline(steps = [('ct', CT),\n",
    "                                ('baglogreg', bagging_dt_model )])"
   ]
  },
  {
   "cell_type": "code",
   "execution_count": 57,
   "metadata": {},
   "outputs": [
    {
     "data": {
      "text/plain": [
       "0.8414716657910286"
      ]
     },
     "execution_count": 57,
     "metadata": {},
     "output_type": "execute_result"
    }
   ],
   "source": [
    "cross_val_score(bag_dt_pipe, X_train, y_train).mean()"
   ]
  },
  {
   "cell_type": "code",
   "execution_count": 59,
   "metadata": {},
   "outputs": [],
   "source": [
    "#dtc_gs = GridSearchCV(bag_dt_pipe, dtc_params, cv=5, verbose=1, n_jobs=-2)\n",
    "\n",
    "\n",
    "#dtc_gs.fit(X_train, y_train)\n",
    "\n",
    "#dtc_best = dtc_gs.best_estimator_\n",
    "#dtc_gs.best_params_"
   ]
  },
  {
   "cell_type": "code",
   "execution_count": 60,
   "metadata": {},
   "outputs": [],
   "source": [
    "#Results from BaggingClassifier grid search\n",
    "\n",
    "#{'baglogreg__base_estimator': DecisionTreeClassifier(max_depth=50, min_samples_split=10),\n",
    " #'baglogreg__max_features': 0.7,\n",
    " #'baglogreg__max_samples': 1.0,\n",
    " #'baglogreg__n_estimators': 100}\n",
    "    \n",
    "#dtc_gs.best_score_\n",
    "#0.8514029180695847"
   ]
  },
  {
   "cell_type": "markdown",
   "metadata": {},
   "source": [
    "The GridSearchCV best score for the BaggingClassifier was 0.851, a slight improvement on our RandomForestClassifier's score. "
   ]
  },
  {
   "cell_type": "code",
   "execution_count": 34,
   "metadata": {},
   "outputs": [],
   "source": [
    "dt = DecisionTreeClassifier(max_depth=50, min_samples_split=10)\n",
    "\n",
    "bagging_dt_model = BaggingClassifier(base_estimator=dt, n_estimators=100,\n",
    "                                     max_features=0.7, max_samples=1.0,\n",
    "                                     random_state=42)\n",
    "\n",
    "bag_dt_pipe = Pipeline(steps = [('ct', CT),\n",
    "                                ('baglogreg', bagging_dt_model )])"
   ]
  },
  {
   "cell_type": "code",
   "execution_count": 66,
   "metadata": {
    "scrolled": true
   },
   "outputs": [
    {
     "data": {
      "text/plain": [
       "Pipeline(steps=[('ct',\n",
       "                 ColumnTransformer(transformers=[('subpipe_num',\n",
       "                                                  Pipeline(steps=[('ss',\n",
       "                                                                   StandardScaler())]),\n",
       "                                                  ['amount_tsh', 'gps_height',\n",
       "                                                   'population']),\n",
       "                                                 ('subpipe_cat',\n",
       "                                                  Pipeline(steps=[('ohe',\n",
       "                                                                   OneHotEncoder(handle_unknown='ignore',\n",
       "                                                                                 sparse=False))]),\n",
       "                                                  ['installer', 'basin',\n",
       "                                                   'region', 'district_code',\n",
       "                                                   'lga', 'management',\n",
       "                                                   'extraction_type', 'payment',\n",
       "                                                   'water_quality', 'quantity',\n",
       "                                                   'source',\n",
       "                                                   'waterpoint_type']),\n",
       "                                                 ('subpipe_bool',\n",
       "                                                  Pipeline(steps=[('ord',\n",
       "                                                                   OrdinalEncoder())]),\n",
       "                                                  ['public_meeting',\n",
       "                                                   'permit'])])),\n",
       "                ('baglogreg',\n",
       "                 BaggingClassifier(base_estimator=DecisionTreeClassifier(max_depth=50,\n",
       "                                                                         min_samples_split=10),\n",
       "                                   max_features=0.7, n_estimators=100,\n",
       "                                   random_state=42))])"
      ]
     },
     "execution_count": 66,
     "metadata": {},
     "output_type": "execute_result"
    }
   ],
   "source": [
    "bag_dt_pipe.fit(X_train, y_train)"
   ]
  },
  {
   "cell_type": "code",
   "execution_count": 64,
   "metadata": {},
   "outputs": [
    {
     "data": {
      "text/plain": [
       "0.9248917598573777"
      ]
     },
     "execution_count": 64,
     "metadata": {},
     "output_type": "execute_result"
    }
   ],
   "source": [
    "bag_dt_pipe.score(X_train, y_train)"
   ]
  },
  {
   "cell_type": "markdown",
   "metadata": {},
   "source": [
    "The accuracy on the train data and the cross valiation scores for this Bagging classifier were both greater than those of the Random Forest. However, we're interested in how the model performs on unseen data: our holdout validation set from the train-test split."
   ]
  },
  {
   "cell_type": "markdown",
   "metadata": {},
   "source": [
    "## Third Model - KNN Classifier"
   ]
  },
  {
   "cell_type": "markdown",
   "metadata": {},
   "source": [
    "Our final model type was a KNeighborsClassifier. The model classifies a data point by searching for the k-nearest neighbors and checking their classifications. The class of the data point is determined by a vote of their neighbors; however, the 'weights' parameter in the classifer can be used to specify how this vote is carried out. In our model, the 'weights' parameter was set to 'distance', meaning points that were close to the query point had a greater influence on the vote than neighbors who were further away."
   ]
  },
  {
   "cell_type": "code",
   "execution_count": 68,
   "metadata": {
    "scrolled": true
   },
   "outputs": [
    {
     "data": {
      "text/plain": [
       "Pipeline(steps=[('ct',\n",
       "                 ColumnTransformer(transformers=[('subpipe_num',\n",
       "                                                  Pipeline(steps=[('ss',\n",
       "                                                                   StandardScaler())]),\n",
       "                                                  ['amount_tsh', 'gps_height',\n",
       "                                                   'population']),\n",
       "                                                 ('subpipe_cat',\n",
       "                                                  Pipeline(steps=[('ohe',\n",
       "                                                                   OneHotEncoder(handle_unknown='ignore',\n",
       "                                                                                 sparse=False))]),\n",
       "                                                  ['installer', 'basin',\n",
       "                                                   'region', 'district_code',\n",
       "                                                   'lga', 'management',\n",
       "                                                   'extraction_type', 'payment',\n",
       "                                                   'water_quality', 'quantity',\n",
       "                                                   'source',\n",
       "                                                   'waterpoint_type']),\n",
       "                                                 ('subpipe_bool',\n",
       "                                                  Pipeline(steps=[('ord',\n",
       "                                                                   OrdinalEncoder())]),\n",
       "                                                  ['public_meeting',\n",
       "                                                   'permit'])])),\n",
       "                ('KN',\n",
       "                 KNeighborsClassifier(leaf_size=2, metric='manhattan',\n",
       "                                      n_neighbors=12, weights='distance'))])"
      ]
     },
     "execution_count": 68,
     "metadata": {},
     "output_type": "execute_result"
    }
   ],
   "source": [
    "#pipeline for a knn classifier model\n",
    "knn = KNeighborsClassifier(n_neighbors=12, leaf_size=2, metric='manhattan', p=2, weights='distance')\n",
    "\n",
    "knn_model_pipe = Pipeline(steps = [('ct', CT),\n",
    "                                   ('KN', knn )])\n",
    "knn_model_pipe.fit(X_train, y_train)\n"
   ]
  },
  {
   "cell_type": "code",
   "execution_count": 69,
   "metadata": {},
   "outputs": [],
   "source": [
    "#grid search for KNN\n",
    "#grid = {'KN__n_neighbors':range(6, 10), 'KN__leaf_size':range(4), 'KN__metric':['minkowski', 'manhattan'], 'KN__weights':['uniform', 'distance'], 'KN__p':[2]}\n",
    "\n",
    "#knn_gs = GridSearchCV(estimator=knn_model_pipe, param_grid=grid, cv=5, n_jobs=-1, verbose=3)\n",
    "#knn_gs.fit(X_train, y_train)"
   ]
  },
  {
   "cell_type": "code",
   "execution_count": 70,
   "metadata": {},
   "outputs": [],
   "source": [
    "#Results from KNN grid search\n",
    "\n",
    "#knn_gs.best_params_\n",
    "#{'KN__leaf_size': 1,\n",
    "# 'KN__metric': 'manhattan',\n",
    "# 'KN__n_neighbors': 9,\n",
    "# 'KN__p': 2,\n",
    "# 'KN__weights': 'distance'}\n",
    "\n",
    "#knn_gs.best_score_\n",
    "#0.829023569023569\n",
    "\n",
    "#knn_gs.best_estimator_.score(X_test, y_test)"
   ]
  },
  {
   "cell_type": "markdown",
   "metadata": {},
   "source": [
    "The grid search with cross validation for the KNN model yielded a score of 0.829. This accuracy is lower than those of our other two models."
   ]
  },
  {
   "cell_type": "markdown",
   "metadata": {},
   "source": [
    "## Evaluation of Models on Test Set"
   ]
  },
  {
   "cell_type": "markdown",
   "metadata": {},
   "source": [
    "## Conclusion"
   ]
  },
  {
   "cell_type": "code",
   "execution_count": null,
   "metadata": {},
   "outputs": [],
   "source": []
  }
 ],
 "metadata": {
  "kernelspec": {
   "display_name": "Python (learn-env)",
   "language": "python",
   "name": "learn-env"
  },
  "language_info": {
   "codemirror_mode": {
    "name": "ipython",
    "version": 3
   },
   "file_extension": ".py",
   "mimetype": "text/x-python",
   "name": "python",
   "nbconvert_exporter": "python",
   "pygments_lexer": "ipython3",
   "version": "3.8.5"
  }
 },
 "nbformat": 4,
 "nbformat_minor": 4
}
